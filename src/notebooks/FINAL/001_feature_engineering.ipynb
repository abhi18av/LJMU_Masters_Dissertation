{
  "cells": [
    {
      "cell_type": "markdown",
      "source": [
        "# Feature engineering to upon\n",
        "- TSV obtained from the genomic pre-processing (limited to SNPs)\n",
        "- The tb-profiler output for the selected genome IDs\n",
        "\n"
      ],
      "metadata": {
        "collapsed": false,
        "pycharm": {
          "name": "#%% md\n"
        }
      }
    },
    {
      "cell_type": "code",
      "source": [
        "import pandas as pd\n",
        "import numpy as np\n",
        "\n",
        "# # Feature engineering for Resistance Profile\n",
        "\n",
        "# In[69]:\n",
        "\n",
        "\n",
        "tbprofiler_df = pd.read_json(\"../../data/raw/cohort.tbprofiler.json\", encoding=\"UTF-8\")\n",
        "tbprofiler_df = tbprofiler_df.transpose()\n",
        "# tbprofiler_df.head()\n",
        "\n",
        "\n",
        "# In[86]:\n",
        "\n",
        "\n",
        "# tbprofiler_df.shape\n",
        "\n",
        "\n",
        "# In[70]:\n",
        "\n",
        "\n",
        "resistance_status_df = tbprofiler_df\n",
        "resistance_status_df['Resistance_Status'] = resistance_status_df.apply(\n",
        "    lambda row: 'Sensitive' if (row.drtype == 'Sensitive') else 'Resistant', axis=1)\n",
        "# resistance_status_df.head()\n",
        "\n",
        "\n",
        "# In[94]:\n",
        "\n",
        "\n",
        "resistance_status_df.to_csv(\"../../data/processed/resistance_status_df.tsv\", \"\\t\")\n",
        "# resistance_status_df.head(10)\n",
        "\n",
        "\n",
        "# In[72]:\n",
        "\n",
        "\n",
        "drugs_column_names = ['rifampicin',\n",
        "                      'isoniazid',\n",
        "                      'pyrazinamide',\n",
        "                      'ethambutol',\n",
        "                      'streptomycin',\n",
        "                      'fluoroquinolones',\n",
        "                      'moxifloxacin',\n",
        "                      'ofloxacin',\n",
        "                      'levofloxacin',\n",
        "                      'ciprofloxacin',\n",
        "                      'aminoglycosides',\n",
        "                      'amikacin',\n",
        "                      'kanamycin',\n",
        "                      'capreomycin',\n",
        "                      'ethionamide',\n",
        "                      'para-aminosalicylic_acid',\n",
        "                      'cycloserine',\n",
        "                      'linezolid',\n",
        "                      'bedaquiline',\n",
        "                      'clofazimine',\n",
        "                      'delamanid']\n",
        "\n",
        "lineage_column_names = ['main_lin', 'sublin']\n",
        "\n",
        "resistance_status_column_names = ['drtype', 'MDR', 'XDR', 'Resistance_Status']\n",
        "\n",
        "renamed_drug_columns_names = ['rifampicin_resistance',\n",
        "                              'isoniazid_resistance',\n",
        "                              'pyrazinamide_resistance',\n",
        "                              'ethambutol_resistance',\n",
        "                              'streptomycin_resistance',\n",
        "                              'fluoroquinolones_resistance',\n",
        "                              'moxifloxacin_resistance',\n",
        "                              'ofloxacin_resistance',\n",
        "                              'levofloxacin_resistance',\n",
        "                              'ciprofloxacin_resistance',\n",
        "                              'aminoglycosides_resistance',\n",
        "                              'amikacin_resistance',\n",
        "                              'kanamycin_resistance',\n",
        "                              'capreomycin_resistance',\n",
        "                              'ethionamide_resistance',\n",
        "                              'para-aminosalicylic_acid_resistance',\n",
        "                              'cycloserine_resistance',\n",
        "                              'linezolid_resistance',\n",
        "                              'bedaquiline_resistance',\n",
        "                              'clofazimine_resistance',\n",
        "                              'delamanid_resistance']\n",
        "\n",
        "renamed_drug_columns_names_dict = {\n",
        "    'rifampicin': 'rifampicin_resistance',\n",
        "    'isoniazid': 'isoniazid_resistance',\n",
        "    'pyrazinamide': 'pyrazinamide_resistance',\n",
        "    'ethambutol': 'ethambutol_resistance',\n",
        "    'streptomycin': 'streptomycin_resistance',\n",
        "    'fluoroquinolones': 'fluoroquinolones_resistance',\n",
        "    'moxifloxacin': 'moxifloxacin_resistance',\n",
        "    'ofloxacin': 'ofloxacin_resistance',\n",
        "    'levofloxacin': 'levofloxacin_resistance',\n",
        "    'ciprofloxacin': 'ciprofloxacin_resistance',\n",
        "    'aminoglycosides': 'aminoglycosides_resistance',\n",
        "    'amikacin': 'amikacin_resistance',\n",
        "    'kanamycin': 'kanamycin_resistance',\n",
        "    'capreomycin': 'capreomycin_resistance',\n",
        "    'ethionamide': 'ethionamide_resistance',\n",
        "    'para-aminosalicylic_acid': 'para-aminosalicylic_acid_resistance',\n",
        "    'cycloserine': 'cycloserine_resistance',\n",
        "    'linezolid': 'linezolid_resistance',\n",
        "    'bedaquiline': 'bedaquiline_resistance',\n",
        "    'clofazimine': 'clofazimine_resistance',\n",
        "    'delamanid': 'delamanid_resistance'\n",
        "}\n",
        "\n",
        "# In[74]:\n",
        "\n",
        "\n",
        "resistance_status_df.rename(columns=renamed_drug_columns_names_dict,\n",
        "                            inplace=True)\n",
        "\n",
        "# resistance_status_df.head()\n",
        "\n",
        "\n",
        "# In[79]:\n",
        "\n",
        "\n",
        "binarized_resistance_status_df = resistance_status_df\n",
        "\n",
        "for col_name in renamed_drug_columns_names:\n",
        "    binarized_resistance_status_df[col_name] = resistance_status_df[col_name].apply(\n",
        "        lambda resistance: 0 if resistance is '-' else 1)\n",
        "\n",
        "# In[80]:\n",
        "\n",
        "\n",
        "binarized_resistance_status_df.to_csv(\"../../data/processed/binarized_resistance_status_df.tsv\", \"\\t\")\n"
      ],
      "outputs": [],
      "execution_count": 1,
      "metadata": {
        "pycharm": {
          "name": "#%%\n"
        }
      }
    },
    {
      "cell_type": "code",
      "source": [
        "#!/usr/bin/env python\r\n",
        "# coding: utf-8\r\n",
        "\r\n",
        "# In[2]:\r\n",
        "\r\n",
        "\r\n",
        "import pandas as pd\r\n",
        "\r\n",
        "vcf_df = pd.read_csv(\"../../data/raw/final.cohort.bqsr.filter.snps.tsv\", sep='\\t')\r\n",
        "\r\n",
        "vcf_df['CHROM.POS'] = vcf_df.apply(lambda row: row.CHROM + \".\" + str(row.POS), axis=1)\r\n",
        "vcf_df.drop(['CHROM', 'POS'], axis=1, inplace=True)\r\n",
        "\r\n",
        "vcf_df.set_index('CHROM.POS', inplace=True)\r\n",
        "vcf_df.columns = list(map(lambda column: column.split(\".\")[0], vcf_df.columns))\r\n",
        "vcf_df.to_csv(\"../../data/interim/final.cols_dropped_vcf_untransposed_df.tsv\", \"\\t\")\r\n",
        "\r\n",
        "vcf_df = vcf_df.transpose()\r\n",
        "vcf_df.to_csv(\"../../data/interim/final.cols_dropped_vcf_transposed_df.tsv\", \"\\t\")\r\n"
      ],
      "outputs": [],
      "execution_count": null,
      "metadata": {
        "collapsed": true,
        "jupyter": {
          "source_hidden": false,
          "outputs_hidden": false
        },
        "nteract": {
          "transient": {
            "deleting": false
          }
        }
      }
    },
    {
      "cell_type": "code",
      "source": [
        "#!/usr/bin/env python\r\n",
        "# coding: utf-8\r\n",
        "\r\n",
        "import pandas as pd\r\n",
        "\r\n",
        "vcf_snps_df = pd.read_csv(\"../../data/interim/final.cols_dropped_vcf_transposed_df.tsv\", \"\\t\")\r\n",
        "\r\n",
        "vcf_snps_df = vcf_snps_df.rename(columns={'Unnamed: 0': 'SampleID'}).set_index('SampleID')\r\n",
        "\r\n",
        "col_mutation_dict = {}\r\n",
        "\r\n",
        "for col in vcf_snps_df.columns:\r\n",
        "    col_unique_values = list(vcf_snps_df[col].unique())\r\n",
        "    if len(col_unique_values) > 1:\r\n",
        "        col_mutation_dict[col] = dict(vcf_snps_df[col].value_counts())\r\n",
        "        print(col)\r\n",
        "\r\n",
        "with open(\"../../data/interim/final.cols_with_mutations_dict.txt\", \"w\") as outfile:\r\n",
        "    outfile.write(str(col_mutation_dict))\r\n",
        "\r\n",
        "vcf_unique_snps_df = vcf_snps_df[list(col_mutation_dict.keys())]\r\n",
        "vcf_unique_snps_df.to_csv(\"../../data/interim/final.vcf_unique_snps_df.tsv\", \"\\t\")\r\n"
      ],
      "outputs": [],
      "execution_count": null,
      "metadata": {
        "collapsed": true,
        "jupyter": {
          "source_hidden": false,
          "outputs_hidden": false
        },
        "nteract": {
          "transient": {
            "deleting": false
          }
        }
      }
    },
    {
      "cell_type": "code",
      "source": [
        "#!/usr/bin/env python\r\n",
        "# coding: utf-8\r\n",
        "\r\n",
        "import pandas as pd\r\n",
        "\r\n",
        "vcf_unique_snps_df = pd.read_csv(\"../../data/interim/final.vcf_unique_snps_df.tsv\", \"\\t\")\r\n",
        "\r\n",
        "vcf_unique_snps_df = vcf_unique_snps_df.rename(columns={'Unnamed: 0': 'SampleID'}).set_index('SampleID')\r\n",
        "\r\n",
        "\r\n",
        "## FIXME we have completely ignored zygocity and have only focused on allel-pair-hetegenous\r\n",
        "## https://gatk.broadinstitute.org/hc/en-us/articles/360035531912-Spanning-or-overlapping-deletions-allele-\r\n",
        "\r\n",
        "def split_allele_pair(allele_pair):\r\n",
        "    first_allele = list(allele_pair)[0]\r\n",
        "    second_allele = list(allele_pair)[-1]\r\n",
        "    return [first_allele, second_allele]\r\n",
        "\r\n",
        "\r\n",
        "def compare_alleles(allele_pair):\r\n",
        "    first_allele, second_allele = split_allele_pair(allele_pair)\r\n",
        "    if first_allele == '.' or second_allele == '.':\r\n",
        "        # NOTE return 0 for any variant which calls \".\"\r\n",
        "        return 0\r\n",
        "    else:\r\n",
        "        return 1 if first_allele != second_allele else 0\r\n",
        "\r\n",
        "\r\n",
        "def is_heterozygous_allele(allele_pair):\r\n",
        "    # print(allele_pair)\r\n",
        "    # print(compare_alleles(split_allele_pair(allele_pair)))\r\n",
        "    compare_alleles(split_allele_pair(allele_pair))\r\n",
        "\r\n",
        "\r\n",
        "# NOTE Finalize the rules for reducing the Allele patterns to Homozygous and Heterozygous\r\n",
        "def is_heterozygous_vector(allele_vector):\r\n",
        "    return list(map(lambda allele: compare_alleles(split_allele_pair(allele)), allele_vector))\r\n",
        "\r\n",
        "\r\n",
        "binary_unique_snps_df = vcf_unique_snps_df.apply(is_heterozygous_vector, axis=0)\r\n",
        "\r\n",
        "binary_unique_snps_df.to_csv(\"../../data/interim/final.binary_unique_snps_df.tsv\", \"\\t\")\r\n"
      ],
      "outputs": [],
      "execution_count": null,
      "metadata": {
        "collapsed": true,
        "jupyter": {
          "source_hidden": false,
          "outputs_hidden": false
        },
        "nteract": {
          "transient": {
            "deleting": false
          }
        }
      }
    },
    {
      "cell_type": "code",
      "source": [
        "#!/usr/bin/env python\r\n",
        "# coding: utf-8\r\n",
        "\r\n",
        "import pandas as pd\r\n",
        "\r\n",
        "# TODO use transposed df\r\n",
        "binary_unique_snps_df = pd.read_csv(\"../../data/interim/final.binary_unique_snps_df.tsv\", \"\\t\", index_col=\"SampleID\")\r\n",
        "\r\n",
        "\r\n",
        "## Ensure that every column has atleast one mutation\r\n",
        "\r\n",
        "binary_col_mutation_dict = {}\r\n",
        "\r\n",
        "for col in binary_unique_snps_df.columns:\r\n",
        "    sum_of_col = binary_unique_snps_df[col].sum()\r\n",
        "    if sum_of_col > 0:\r\n",
        "        # print('col: ', col, \"\\tsum: \", col_sum)\r\n",
        "        binary_col_mutation_dict[col] = dict(binary_unique_snps_df[col].value_counts())\r\n",
        "        print(col)\r\n",
        "\r\n",
        "hetero_binary_vcf_snps_with_mutations_df = binary_unique_snps_df[list(binary_col_mutation_dict.keys())]\r\n",
        "\r\n",
        "hetero_binary_vcf_snps_with_mutations_df.to_csv(\"../../data/processed/final.hetero_binary_vcf_snps_with_mutations_df.tsv\", \"\\t\", index_col= \"SampleID\")\r\n",
        "\r\n",
        "## hetero_binary_vcf_snps_with_mutations_df = pd.read_csv(\"../data/processed/hetero_binary_vcf_snps_with_mutations_df.csv\", index_col='SampleID')\r\n",
        "\r\n",
        "hetero_binary_vcf_snps_with_mutations_df = binary_unique_snps_df[list(binary_col_mutation_dict.keys())]\r\n",
        "\r\n",
        "# hetero_binary_vcf_snps_with_mutations_df = hetero_binary_vcf_snps_with_mutations_df.rename(columns= {'Unnamed: 0': 'SampleID'}).set_index('SampleID')\r\n",
        "\r\n",
        "binarized_resistance_status_df = pd.read_csv(\"../../data/processed/binarized_resistance_status_df.tsv\", \"\\t\").rename( columns={'Unnamed: 0': 'SampleID'}).set_index('SampleID')\r\n",
        "\r\n",
        "## Creation of the final dataframe\r\n",
        "\r\n",
        "final_df = binarized_resistance_status_df.join(hetero_binary_vcf_snps_with_mutations_df)\r\n",
        "\r\n",
        "final_df.to_csv(\"../../data/processed/final.binarized_final_multilabel_df.tsv\", \"\\t\")\r\n"
      ],
      "outputs": [],
      "execution_count": null,
      "metadata": {
        "collapsed": true,
        "jupyter": {
          "source_hidden": false,
          "outputs_hidden": false
        },
        "nteract": {
          "transient": {
            "deleting": false
          }
        }
      }
    },
    {
      "cell_type": "code",
      "source": [
        "# mono_resistance_df_filledna = pd.read_csv(\"../data/processed/mono_resistance_df_filledna.csv\").set_index('SampleID')\r\n",
        "\r\n",
        "binarized_final_df = pd.read_csv(\"../data/processed/final.binarized_final_multilabel_df.csv\").set_index('SampleID')\r\n",
        "\r\n",
        "\r\n",
        "binarized_final_df.head()"
      ],
      "outputs": [],
      "execution_count": null,
      "metadata": {
        "collapsed": true,
        "jupyter": {
          "source_hidden": false,
          "outputs_hidden": false
        },
        "nteract": {
          "transient": {
            "deleting": false
          }
        }
      }
    },
    {
      "cell_type": "code",
      "source": [
        "binarized_final_df= binarized_final_df.drop(columns=[*renamed_drug_columns_names, *lineage_column_names, 'drtype', 'MDR', 'XDR'], axis= 1)\r\n",
        "\r\n",
        "binarized_final_df.head()"
      ],
      "outputs": [],
      "execution_count": null,
      "metadata": {
        "collapsed": true,
        "jupyter": {
          "source_hidden": false,
          "outputs_hidden": false
        },
        "nteract": {
          "transient": {
            "deleting": false
          }
        }
      }
    },
    {
      "cell_type": "code",
      "source": [
        "binarized_final_df['Resistance_Status']= binarized_final_df['Resistance_Status'].apply(lambda resistance: 0.0 if resistance == 'Sensitive' else 1.0)\r\n",
        "binarized_final_df.head()"
      ],
      "outputs": [],
      "execution_count": null,
      "metadata": {
        "collapsed": true,
        "jupyter": {
          "source_hidden": false,
          "outputs_hidden": false
        },
        "nteract": {
          "transient": {
            "deleting": false
          }
        }
      }
    },
    {
      "cell_type": "code",
      "source": [
        "binarized_final_df.to_csv(\"../data/processed/final.binarized_final_monolabel_df.tsv\", \"\\t\")\r\n",
        "binarized_final_df.head()"
      ],
      "outputs": [],
      "execution_count": null,
      "metadata": {
        "collapsed": true,
        "jupyter": {
          "source_hidden": false,
          "outputs_hidden": false
        },
        "nteract": {
          "transient": {
            "deleting": false
          }
        }
      }
    },
    {
      "cell_type": "code",
      "source": [
        "\r\n",
        "\r\n",
        "train = binarized_final_df.loc[final_tbportals_train_genomes_ids]\r\n",
        "train.shape\r\n"
      ],
      "outputs": [],
      "execution_count": null,
      "metadata": {
        "collapsed": true,
        "jupyter": {
          "source_hidden": false,
          "outputs_hidden": false
        },
        "nteract": {
          "transient": {
            "deleting": false
          }
        }
      }
    },
    {
      "cell_type": "code",
      "source": [
        "train.to_csv(\"../data/processed/final.train.tsv\", \"\\t\")\r\n",
        "train.head()"
      ],
      "outputs": [],
      "execution_count": null,
      "metadata": {
        "collapsed": true,
        "jupyter": {
          "source_hidden": false,
          "outputs_hidden": false
        },
        "nteract": {
          "transient": {
            "deleting": false
          }
        }
      }
    },
    {
      "cell_type": "code",
      "source": [],
      "outputs": [],
      "execution_count": null,
      "metadata": {}
    }
  ],
  "metadata": {
    "kernelspec": {
      "display_name": "PyCharm (drug-resistance-prediction-cambiohack)",
      "language": "python",
      "name": "pycharm-f27e5417"
    },
    "language_info": {
      "codemirror_mode": {
        "name": "ipython",
        "version": 3
      },
      "file_extension": ".py",
      "mimetype": "text/x-python",
      "name": "python",
      "nbconvert_exporter": "python",
      "pygments_lexer": "ipython3",
      "version": "3.7.4"
    },
    "nteract": {
      "version": "nteract-front-end@1.0.0"
    }
  },
  "nbformat": 4,
  "nbformat_minor": 1
}