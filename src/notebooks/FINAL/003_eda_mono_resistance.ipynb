{
 "cells": [
  {
   "cell_type": "markdown",
   "metadata": {},
   "source": [
    "# Mono resistance EDA\n",
    "\n",
    "In this POC, we gloss over the resistance towards distinct drugs and focus only on the mono-resistance.\n"
   ]
  },
  {
   "cell_type": "code",
   "execution_count": 10,
   "metadata": {
    "pycharm": {
     "name": "#%%\n"
    }
   },
   "outputs": [],
   "source": [
    "\n",
    "from __future__ import print_function\n",
    "import pandas as pd\n",
    "import seaborn as sns\n",
    "\n",
    "import warnings\n",
    "warnings.filterwarnings('ignore')\n",
    "sns.set_style('whitegrid')\n",
    "sns.set_context('paper')\n",
    "\n",
    "\n",
    "\n",
    "def print_ln():\n",
    "    print('-' * 80, '\\n')\n",
    "\n",
    "\n",
    "DATA_LOCATION  = \"../../data/\""
   ]
  },
  {
   "cell_type": "markdown",
   "metadata": {},
   "source": [
    "## EDA for Tb-profiler results"
   ]
  },
  {
   "cell_type": "code",
   "execution_count": 3,
   "metadata": {
    "pycharm": {
     "name": "#%%\n"
    }
   },
   "outputs": [
    {
     "data": {
      "text/plain": "                                     rifampicin  \\\nSRR1162996                     rpoB_p.His445Asp   \nSRR6356985   rpoB_p.Ser450Leu, rpoC_p.Leu527Val   \nSRR10525347                                   -   \nSRR5153132                                    -   \nSRR10380131                    rpoB_p.Ser450Leu   \n\n                                    isoniazid     pyrazinamide  \\\nSRR1162996   katG_p.Ser315Thr, fabG1_c.-15C>T  pncA_p.Asp49Gly   \nSRR6356985   katG_p.Ser315Thr, fabG1_c.-15C>T                -   \nSRR10525347                                 -                -   \nSRR5153132                                  -                -   \nSRR10380131                  katG_p.Ser315Thr                -   \n\n                                  ethambutol     streptomycin  \\\nSRR1162996   embA_c.-12C>T, embB_p.Gln497Arg     rrs_r.514a>c   \nSRR6356985                  embB_p.Met306Ile  rpsL_p.Lys43Arg   \nSRR10525347                                -                -   \nSRR5153132                                 -                -   \nSRR10380131                 embB_p.Met306Ile  rpsL_p.Lys43Arg   \n\n             fluoroquinolones      moxifloxacin         ofloxacin  \\\nSRR1162996   gyrB_p.Asp461Asn  gyrB_p.Asp461Asn  gyrB_p.Asp461Asn   \nSRR6356985                  -                 -                 -   \nSRR10525347                 -                 -                 -   \nSRR5153132                  -                 -                 -   \nSRR10380131                 -                 -                 -   \n\n                 levofloxacin     ciprofloxacin  ...      cycloserine  \\\nSRR1162996   gyrB_p.Asp461Asn  gyrB_p.Asp461Asn  ...  alr_p.Leu113Arg   \nSRR6356985                  -                 -  ...                -   \nSRR10525347                 -                 -  ...                -   \nSRR5153132                  -                 -  ...                -   \nSRR10380131                 -                 -  ...                -   \n\n            linezolid bedaquiline clofazimine delamanid  main_lin  \\\nSRR1162996          -           -           -         -  lineage4   \nSRR6356985          -           -           -         -  lineage2   \nSRR10525347         -           -           -         -  lineage4   \nSRR5153132          -           -           -         -  lineage4   \nSRR10380131         -           -           -         -  lineage2   \n\n                     sublin     drtype MDR XDR  \nSRR1162996     lineage4.3.3        XDR   R   R  \nSRR6356985     lineage2.2.1        MDR   R      \nSRR10525347  lineage4.1.2.1  Sensitive          \nSRR5153132   lineage4.1.2.1  Sensitive          \nSRR10380131    lineage2.2.1        MDR   R      \n\n[5 rows x 26 columns]",
      "text/html": "<div>\n<style scoped>\n    .dataframe tbody tr th:only-of-type {\n        vertical-align: middle;\n    }\n\n    .dataframe tbody tr th {\n        vertical-align: top;\n    }\n\n    .dataframe thead th {\n        text-align: right;\n    }\n</style>\n<table border=\"1\" class=\"dataframe\">\n  <thead>\n    <tr style=\"text-align: right;\">\n      <th></th>\n      <th>rifampicin</th>\n      <th>isoniazid</th>\n      <th>pyrazinamide</th>\n      <th>ethambutol</th>\n      <th>streptomycin</th>\n      <th>fluoroquinolones</th>\n      <th>moxifloxacin</th>\n      <th>ofloxacin</th>\n      <th>levofloxacin</th>\n      <th>ciprofloxacin</th>\n      <th>...</th>\n      <th>cycloserine</th>\n      <th>linezolid</th>\n      <th>bedaquiline</th>\n      <th>clofazimine</th>\n      <th>delamanid</th>\n      <th>main_lin</th>\n      <th>sublin</th>\n      <th>drtype</th>\n      <th>MDR</th>\n      <th>XDR</th>\n    </tr>\n  </thead>\n  <tbody>\n    <tr>\n      <th>SRR1162996</th>\n      <td>rpoB_p.His445Asp</td>\n      <td>katG_p.Ser315Thr, fabG1_c.-15C&gt;T</td>\n      <td>pncA_p.Asp49Gly</td>\n      <td>embA_c.-12C&gt;T, embB_p.Gln497Arg</td>\n      <td>rrs_r.514a&gt;c</td>\n      <td>gyrB_p.Asp461Asn</td>\n      <td>gyrB_p.Asp461Asn</td>\n      <td>gyrB_p.Asp461Asn</td>\n      <td>gyrB_p.Asp461Asn</td>\n      <td>gyrB_p.Asp461Asn</td>\n      <td>...</td>\n      <td>alr_p.Leu113Arg</td>\n      <td>-</td>\n      <td>-</td>\n      <td>-</td>\n      <td>-</td>\n      <td>lineage4</td>\n      <td>lineage4.3.3</td>\n      <td>XDR</td>\n      <td>R</td>\n      <td>R</td>\n    </tr>\n    <tr>\n      <th>SRR6356985</th>\n      <td>rpoB_p.Ser450Leu, rpoC_p.Leu527Val</td>\n      <td>katG_p.Ser315Thr, fabG1_c.-15C&gt;T</td>\n      <td>-</td>\n      <td>embB_p.Met306Ile</td>\n      <td>rpsL_p.Lys43Arg</td>\n      <td>-</td>\n      <td>-</td>\n      <td>-</td>\n      <td>-</td>\n      <td>-</td>\n      <td>...</td>\n      <td>-</td>\n      <td>-</td>\n      <td>-</td>\n      <td>-</td>\n      <td>-</td>\n      <td>lineage2</td>\n      <td>lineage2.2.1</td>\n      <td>MDR</td>\n      <td>R</td>\n      <td></td>\n    </tr>\n    <tr>\n      <th>SRR10525347</th>\n      <td>-</td>\n      <td>-</td>\n      <td>-</td>\n      <td>-</td>\n      <td>-</td>\n      <td>-</td>\n      <td>-</td>\n      <td>-</td>\n      <td>-</td>\n      <td>-</td>\n      <td>...</td>\n      <td>-</td>\n      <td>-</td>\n      <td>-</td>\n      <td>-</td>\n      <td>-</td>\n      <td>lineage4</td>\n      <td>lineage4.1.2.1</td>\n      <td>Sensitive</td>\n      <td></td>\n      <td></td>\n    </tr>\n    <tr>\n      <th>SRR5153132</th>\n      <td>-</td>\n      <td>-</td>\n      <td>-</td>\n      <td>-</td>\n      <td>-</td>\n      <td>-</td>\n      <td>-</td>\n      <td>-</td>\n      <td>-</td>\n      <td>-</td>\n      <td>...</td>\n      <td>-</td>\n      <td>-</td>\n      <td>-</td>\n      <td>-</td>\n      <td>-</td>\n      <td>lineage4</td>\n      <td>lineage4.1.2.1</td>\n      <td>Sensitive</td>\n      <td></td>\n      <td></td>\n    </tr>\n    <tr>\n      <th>SRR10380131</th>\n      <td>rpoB_p.Ser450Leu</td>\n      <td>katG_p.Ser315Thr</td>\n      <td>-</td>\n      <td>embB_p.Met306Ile</td>\n      <td>rpsL_p.Lys43Arg</td>\n      <td>-</td>\n      <td>-</td>\n      <td>-</td>\n      <td>-</td>\n      <td>-</td>\n      <td>...</td>\n      <td>-</td>\n      <td>-</td>\n      <td>-</td>\n      <td>-</td>\n      <td>-</td>\n      <td>lineage2</td>\n      <td>lineage2.2.1</td>\n      <td>MDR</td>\n      <td>R</td>\n      <td></td>\n    </tr>\n  </tbody>\n</table>\n<p>5 rows × 26 columns</p>\n</div>"
     },
     "execution_count": 3,
     "metadata": {},
     "output_type": "execute_result"
    }
   ],
   "source": [
    "# Read data for ALL genomes in the cohort\n",
    "\n",
    "tbprofiler_df = pd.read_json(DATA_LOCATION + \"raw/cohort.tbprofiler.json\", encoding=\"UTF-8\")\n",
    "tbprofiler_df = tbprofiler_df.transpose()\n",
    "tbprofiler_df.head()\n"
   ]
  },
  {
   "cell_type": "code",
   "execution_count": 4,
   "metadata": {
    "pycharm": {
     "name": "#%%\n"
    }
   },
   "outputs": [
    {
     "data": {
      "text/plain": "(2654, 26)"
     },
     "execution_count": 4,
     "metadata": {},
     "output_type": "execute_result"
    }
   ],
   "source": [
    "tbprofiler_df.shape"
   ]
  },
  {
   "cell_type": "code",
   "execution_count": 5,
   "metadata": {
    "pycharm": {
     "name": "#%%\n"
    }
   },
   "outputs": [],
   "source": [
    "# Select the train (Tb-portals) data\n",
    "\n",
    "# Read the genomes IDs of genomes\n",
    "# - Tb-portals (ALL/ Train)\n",
    "# - HTBC (ALL/ Test)\n",
    "\n",
    "import json\n",
    "\n",
    "with open(DATA_LOCATION + \"test_train_genome_ids.json\") as f:\n",
    "    all_genomes_ids_dict = json.load(f)\n",
    "\n",
    "final_tbportals_train_genome_ids =  all_genomes_ids_dict['final_tbportals_train_genomes']\n",
    "final_htbc_test_genome_ids = all_genomes_ids_dict['final_htbc_test_genomes']\n"
   ]
  },
  {
   "cell_type": "code",
   "execution_count": 11,
   "outputs": [
    {
     "data": {
      "text/plain": "             rifampicin_resistance  isoniazid_resistance  \\\nSampleID                                                   \nSRR1162996                       1                     1   \nSRR6356985                       1                     1   \nSRR10525347                      0                     0   \nSRR5153132                       0                     0   \nSRR10380131                      1                     1   \nSRR1163399                       1                     1   \nSRR5153316                       1                     1   \nSRR10525375                      1                     1   \nSRR10525332                      1                     1   \nSRR10380003                      1                     1   \n\n             pyrazinamide_resistance  ethambutol_resistance  \\\nSampleID                                                      \nSRR1162996                         1                      1   \nSRR6356985                         0                      1   \nSRR10525347                        0                      0   \nSRR5153132                         0                      0   \nSRR10380131                        0                      1   \nSRR1163399                         1                      1   \nSRR5153316                         1                      1   \nSRR10525375                        1                      1   \nSRR10525332                        1                      0   \nSRR10380003                        0                      1   \n\n             streptomycin_resistance  fluoroquinolones_resistance  \\\nSampleID                                                            \nSRR1162996                         1                            1   \nSRR6356985                         1                            0   \nSRR10525347                        0                            0   \nSRR5153132                         0                            0   \nSRR10380131                        1                            0   \nSRR1163399                         1                            1   \nSRR5153316                         1                            0   \nSRR10525375                        0                            1   \nSRR10525332                        1                            0   \nSRR10380003                        1                            0   \n\n             moxifloxacin_resistance  ofloxacin_resistance  \\\nSampleID                                                     \nSRR1162996                         1                     1   \nSRR6356985                         0                     0   \nSRR10525347                        0                     0   \nSRR5153132                         0                     0   \nSRR10380131                        0                     0   \nSRR1163399                         1                     1   \nSRR5153316                         0                     0   \nSRR10525375                        1                     1   \nSRR10525332                        0                     0   \nSRR10380003                        0                     0   \n\n             levofloxacin_resistance  ciprofloxacin_resistance  ...  \\\nSampleID                                                        ...   \nSRR1162996                         1                         1  ...   \nSRR6356985                         0                         0  ...   \nSRR10525347                        0                         0  ...   \nSRR5153132                         0                         0  ...   \nSRR10380131                        0                         0  ...   \nSRR1163399                         1                         1  ...   \nSRR5153316                         0                         0  ...   \nSRR10525375                        1                         1  ...   \nSRR10525332                        0                         0  ...   \nSRR10380003                        0                         0  ...   \n\n             linezolid_resistance  bedaquiline_resistance  \\\nSampleID                                                    \nSRR1162996                      0                       0   \nSRR6356985                      0                       0   \nSRR10525347                     0                       0   \nSRR5153132                      0                       0   \nSRR10380131                     0                       0   \nSRR1163399                      0                       0   \nSRR5153316                      0                       0   \nSRR10525375                     0                       0   \nSRR10525332                     0                       0   \nSRR10380003                     0                       0   \n\n             clofazimine_resistance  delamanid_resistance  main_lin  \\\nSampleID                                                              \nSRR1162996                        0                     0  lineage4   \nSRR6356985                        0                     0  lineage2   \nSRR10525347                       0                     0  lineage4   \nSRR5153132                        0                     0  lineage4   \nSRR10380131                       0                     0  lineage2   \nSRR1163399                        0                     0  lineage4   \nSRR5153316                        0                     0  lineage4   \nSRR10525375                       0                     0  lineage4   \nSRR10525332                       0                     0  lineage4   \nSRR10380003                       0                     0  lineage4   \n\n                     sublin     drtype  MDR  XDR  Resistance_Status  \nSampleID                                                             \nSRR1162996     lineage4.3.3        XDR    R    R          Resistant  \nSRR6356985     lineage2.2.1        MDR    R  NaN          Resistant  \nSRR10525347  lineage4.1.2.1  Sensitive  NaN  NaN          Sensitive  \nSRR5153132   lineage4.1.2.1  Sensitive  NaN  NaN          Sensitive  \nSRR10380131    lineage2.2.1        MDR    R  NaN          Resistant  \nSRR1163399     lineage4.3.3        XDR    R    R          Resistant  \nSRR5153316     lineage4.2.1        MDR    R  NaN          Resistant  \nSRR10525375  lineage4.1.2.1        MDR    R  NaN          Resistant  \nSRR10525332      lineage4.8        MDR    R  NaN          Resistant  \nSRR10380003    lineage4.2.1        MDR    R  NaN          Resistant  \n\n[10 rows x 27 columns]",
      "text/html": "<div>\n<style scoped>\n    .dataframe tbody tr th:only-of-type {\n        vertical-align: middle;\n    }\n\n    .dataframe tbody tr th {\n        vertical-align: top;\n    }\n\n    .dataframe thead th {\n        text-align: right;\n    }\n</style>\n<table border=\"1\" class=\"dataframe\">\n  <thead>\n    <tr style=\"text-align: right;\">\n      <th></th>\n      <th>rifampicin_resistance</th>\n      <th>isoniazid_resistance</th>\n      <th>pyrazinamide_resistance</th>\n      <th>ethambutol_resistance</th>\n      <th>streptomycin_resistance</th>\n      <th>fluoroquinolones_resistance</th>\n      <th>moxifloxacin_resistance</th>\n      <th>ofloxacin_resistance</th>\n      <th>levofloxacin_resistance</th>\n      <th>ciprofloxacin_resistance</th>\n      <th>...</th>\n      <th>linezolid_resistance</th>\n      <th>bedaquiline_resistance</th>\n      <th>clofazimine_resistance</th>\n      <th>delamanid_resistance</th>\n      <th>main_lin</th>\n      <th>sublin</th>\n      <th>drtype</th>\n      <th>MDR</th>\n      <th>XDR</th>\n      <th>Resistance_Status</th>\n    </tr>\n    <tr>\n      <th>SampleID</th>\n      <th></th>\n      <th></th>\n      <th></th>\n      <th></th>\n      <th></th>\n      <th></th>\n      <th></th>\n      <th></th>\n      <th></th>\n      <th></th>\n      <th></th>\n      <th></th>\n      <th></th>\n      <th></th>\n      <th></th>\n      <th></th>\n      <th></th>\n      <th></th>\n      <th></th>\n      <th></th>\n      <th></th>\n    </tr>\n  </thead>\n  <tbody>\n    <tr>\n      <th>SRR1162996</th>\n      <td>1</td>\n      <td>1</td>\n      <td>1</td>\n      <td>1</td>\n      <td>1</td>\n      <td>1</td>\n      <td>1</td>\n      <td>1</td>\n      <td>1</td>\n      <td>1</td>\n      <td>...</td>\n      <td>0</td>\n      <td>0</td>\n      <td>0</td>\n      <td>0</td>\n      <td>lineage4</td>\n      <td>lineage4.3.3</td>\n      <td>XDR</td>\n      <td>R</td>\n      <td>R</td>\n      <td>Resistant</td>\n    </tr>\n    <tr>\n      <th>SRR6356985</th>\n      <td>1</td>\n      <td>1</td>\n      <td>0</td>\n      <td>1</td>\n      <td>1</td>\n      <td>0</td>\n      <td>0</td>\n      <td>0</td>\n      <td>0</td>\n      <td>0</td>\n      <td>...</td>\n      <td>0</td>\n      <td>0</td>\n      <td>0</td>\n      <td>0</td>\n      <td>lineage2</td>\n      <td>lineage2.2.1</td>\n      <td>MDR</td>\n      <td>R</td>\n      <td>NaN</td>\n      <td>Resistant</td>\n    </tr>\n    <tr>\n      <th>SRR10525347</th>\n      <td>0</td>\n      <td>0</td>\n      <td>0</td>\n      <td>0</td>\n      <td>0</td>\n      <td>0</td>\n      <td>0</td>\n      <td>0</td>\n      <td>0</td>\n      <td>0</td>\n      <td>...</td>\n      <td>0</td>\n      <td>0</td>\n      <td>0</td>\n      <td>0</td>\n      <td>lineage4</td>\n      <td>lineage4.1.2.1</td>\n      <td>Sensitive</td>\n      <td>NaN</td>\n      <td>NaN</td>\n      <td>Sensitive</td>\n    </tr>\n    <tr>\n      <th>SRR5153132</th>\n      <td>0</td>\n      <td>0</td>\n      <td>0</td>\n      <td>0</td>\n      <td>0</td>\n      <td>0</td>\n      <td>0</td>\n      <td>0</td>\n      <td>0</td>\n      <td>0</td>\n      <td>...</td>\n      <td>0</td>\n      <td>0</td>\n      <td>0</td>\n      <td>0</td>\n      <td>lineage4</td>\n      <td>lineage4.1.2.1</td>\n      <td>Sensitive</td>\n      <td>NaN</td>\n      <td>NaN</td>\n      <td>Sensitive</td>\n    </tr>\n    <tr>\n      <th>SRR10380131</th>\n      <td>1</td>\n      <td>1</td>\n      <td>0</td>\n      <td>1</td>\n      <td>1</td>\n      <td>0</td>\n      <td>0</td>\n      <td>0</td>\n      <td>0</td>\n      <td>0</td>\n      <td>...</td>\n      <td>0</td>\n      <td>0</td>\n      <td>0</td>\n      <td>0</td>\n      <td>lineage2</td>\n      <td>lineage2.2.1</td>\n      <td>MDR</td>\n      <td>R</td>\n      <td>NaN</td>\n      <td>Resistant</td>\n    </tr>\n    <tr>\n      <th>SRR1163399</th>\n      <td>1</td>\n      <td>1</td>\n      <td>1</td>\n      <td>1</td>\n      <td>1</td>\n      <td>1</td>\n      <td>1</td>\n      <td>1</td>\n      <td>1</td>\n      <td>1</td>\n      <td>...</td>\n      <td>0</td>\n      <td>0</td>\n      <td>0</td>\n      <td>0</td>\n      <td>lineage4</td>\n      <td>lineage4.3.3</td>\n      <td>XDR</td>\n      <td>R</td>\n      <td>R</td>\n      <td>Resistant</td>\n    </tr>\n    <tr>\n      <th>SRR5153316</th>\n      <td>1</td>\n      <td>1</td>\n      <td>1</td>\n      <td>1</td>\n      <td>1</td>\n      <td>0</td>\n      <td>0</td>\n      <td>0</td>\n      <td>0</td>\n      <td>0</td>\n      <td>...</td>\n      <td>0</td>\n      <td>0</td>\n      <td>0</td>\n      <td>0</td>\n      <td>lineage4</td>\n      <td>lineage4.2.1</td>\n      <td>MDR</td>\n      <td>R</td>\n      <td>NaN</td>\n      <td>Resistant</td>\n    </tr>\n    <tr>\n      <th>SRR10525375</th>\n      <td>1</td>\n      <td>1</td>\n      <td>1</td>\n      <td>1</td>\n      <td>0</td>\n      <td>1</td>\n      <td>1</td>\n      <td>1</td>\n      <td>1</td>\n      <td>1</td>\n      <td>...</td>\n      <td>0</td>\n      <td>0</td>\n      <td>0</td>\n      <td>0</td>\n      <td>lineage4</td>\n      <td>lineage4.1.2.1</td>\n      <td>MDR</td>\n      <td>R</td>\n      <td>NaN</td>\n      <td>Resistant</td>\n    </tr>\n    <tr>\n      <th>SRR10525332</th>\n      <td>1</td>\n      <td>1</td>\n      <td>1</td>\n      <td>0</td>\n      <td>1</td>\n      <td>0</td>\n      <td>0</td>\n      <td>0</td>\n      <td>0</td>\n      <td>0</td>\n      <td>...</td>\n      <td>0</td>\n      <td>0</td>\n      <td>0</td>\n      <td>0</td>\n      <td>lineage4</td>\n      <td>lineage4.8</td>\n      <td>MDR</td>\n      <td>R</td>\n      <td>NaN</td>\n      <td>Resistant</td>\n    </tr>\n    <tr>\n      <th>SRR10380003</th>\n      <td>1</td>\n      <td>1</td>\n      <td>0</td>\n      <td>1</td>\n      <td>1</td>\n      <td>0</td>\n      <td>0</td>\n      <td>0</td>\n      <td>0</td>\n      <td>0</td>\n      <td>...</td>\n      <td>0</td>\n      <td>0</td>\n      <td>0</td>\n      <td>0</td>\n      <td>lineage4</td>\n      <td>lineage4.2.1</td>\n      <td>MDR</td>\n      <td>R</td>\n      <td>NaN</td>\n      <td>Resistant</td>\n    </tr>\n  </tbody>\n</table>\n<p>10 rows × 27 columns</p>\n</div>"
     },
     "execution_count": 11,
     "metadata": {},
     "output_type": "execute_result"
    }
   ],
   "source": [
    "# Read the binarized tb_profiler results from step-002\n",
    "\n",
    "binarized_resistance_status_df = pd.read_csv(DATA_LOCATION +  \"processed/binarized_resistance_status_df.csv\").rename(columns={'Unnamed: 0' : 'SampleID'}).set_index('SampleID')\n",
    "\n",
    "binarized_resistance_status_df.head(10)\n"
   ],
   "metadata": {
    "collapsed": false,
    "pycharm": {
     "name": "#%%\n"
    }
   }
  },
  {
   "cell_type": "markdown",
   "source": [
    "#### Create data frame for train dataset\n"
   ],
   "metadata": {
    "collapsed": false,
    "pycharm": {
     "name": "#%% md\n"
    }
   }
  },
  {
   "cell_type": "code",
   "execution_count": null,
   "outputs": [],
   "source": [
    "binarized_resistance_status_train_df = binarized_resistance_status_df.loc[final_tbportals_train_genome_ids]\n",
    "binarized_resistance_status_train_df.head()\n"
   ],
   "metadata": {
    "collapsed": false,
    "pycharm": {
     "name": "#%%\n"
    }
   }
  },
  {
   "cell_type": "markdown",
   "source": [
    "#### Create data frame for test dataset\n"
   ],
   "metadata": {
    "collapsed": false,
    "pycharm": {
     "name": "#%% md\n"
    }
   }
  },
  {
   "cell_type": "code",
   "execution_count": null,
   "outputs": [],
   "source": [
    "binarized_resistance_status_test_df = binarized_resistance_status_df.loc[final_htbc_test_genome_ids]\n",
    "binarized_resistance_status_test_df.head()"
   ],
   "metadata": {
    "collapsed": false,
    "pycharm": {
     "name": "#%%\n"
    }
   }
  },
  {
   "cell_type": "markdown",
   "source": [
    "#### Analyze the train and test datasets"
   ],
   "metadata": {
    "collapsed": false,
    "pycharm": {
     "name": "#%% md\n"
    }
   }
  },
  {
   "cell_type": "code",
   "execution_count": null,
   "outputs": [],
   "source": [
    "binarized_resistance_status_train_df.describe().T\n"
   ],
   "metadata": {
    "collapsed": false,
    "pycharm": {
     "name": "#%%\n"
    }
   }
  },
  {
   "cell_type": "markdown",
   "source": [
    "#### Resistance and Sensitive genomes\n"
   ],
   "metadata": {
    "collapsed": false
   }
  },
  {
   "cell_type": "code",
   "execution_count": 17,
   "outputs": [
    {
     "data": {
      "text/plain": "<AxesSubplot:>"
     },
     "execution_count": 17,
     "metadata": {},
     "output_type": "execute_result"
    },
    {
     "data": {
      "text/plain": "<Figure size 432x288 with 1 Axes>",
      "image/png": "[encoded data removed]"
     },
     "metadata": {},
     "output_type": "display_data"
    }
   ],
   "source": [
    "binarized_resistance_status_train_df['Resistance_Status'].hist()\n"
   ],
   "metadata": {
    "collapsed": false,
    "pycharm": {
     "name": "#%%\n"
    }
   }
  },
  {
   "cell_type": "code",
   "execution_count": 18,
   "outputs": [
    {
     "data": {
      "text/plain": "<AxesSubplot:>"
     },
     "execution_count": 18,
     "metadata": {},
     "output_type": "execute_result"
    },
    {
     "data": {
      "text/plain": "<Figure size 432x288 with 1 Axes>",
      "image/png": "[encoded data removed]"
     },
     "metadata": {},
     "output_type": "display_data"
    }
   ],
   "source": [
    "binarized_resistance_status_test_df['Resistance_Status'].hist()\n"
   ],
   "metadata": {
    "collapsed": false,
    "pycharm": {
     "name": "#%%\n"
    }
   }
  },
  {
   "cell_type": "markdown",
   "source": [
    "#### Lineage distribution\n"
   ],
   "metadata": {
    "collapsed": false
   }
  },
  {
   "cell_type": "code",
   "execution_count": 15,
   "metadata": {},
   "outputs": [
    {
     "data": {
      "text/plain": "<AxesSubplot:>"
     },
     "execution_count": 15,
     "metadata": {},
     "output_type": "execute_result"
    },
    {
     "data": {
      "text/plain": "<Figure size 432x288 with 1 Axes>",
      "image/png": "[encoded data removed]"
     },
     "metadata": {},
     "output_type": "display_data"
    }
   ],
   "source": [
    "binarized_resistance_status_train_df['main_lin'].hist()\n"
   ]
  },
  {
   "cell_type": "code",
   "execution_count": 16,
   "outputs": [
    {
     "data": {
      "text/plain": "<AxesSubplot:>"
     },
     "execution_count": 16,
     "metadata": {},
     "output_type": "execute_result"
    },
    {
     "data": {
      "text/plain": "<Figure size 432x288 with 1 Axes>",
      "image/png": "[encoded data removed]"
     },
     "metadata": {},
     "output_type": "display_data"
    }
   ],
   "source": [
    "binarized_resistance_status_test_df['main_lin'].hist()\n"
   ],
   "metadata": {
    "collapsed": false,
    "pycharm": {
     "name": "#%%\n"
    }
   }
  },
  {
   "cell_type": "markdown",
   "source": [
    "#### Find the relationship between drtype and main_lin variables"
   ],
   "metadata": {
    "collapsed": false
   }
  },
  {
   "cell_type": "code",
   "execution_count": 20,
   "outputs": [
    {
     "data": {
      "text/plain": "drtype          main_lin         \nDrug-resistant  lineage2              30\n                lineage2;lineage4      1\n                lineage4              48\n                lineageBOV             1\nMDR             lineage2             261\n                lineage2;lineage3      1\n                lineage2;lineage4      5\n                lineage4             161\nSensitive       lineage2             125\n                lineage3               1\n                lineage4             296\nXDR             lineage2             170\n                lineage2;lineage4      6\n                lineage4             116\ndtype: int64"
     },
     "execution_count": 20,
     "metadata": {},
     "output_type": "execute_result"
    }
   ],
   "source": [
    "binarized_resistance_status_train_df.groupby(['drtype','main_lin']).size()"
   ],
   "metadata": {
    "collapsed": false,
    "pycharm": {
     "name": "#%%\n"
    }
   }
  },
  {
   "cell_type": "code",
   "execution_count": 21,
   "outputs": [
    {
     "data": {
      "text/plain": "drtype          main_lin         \nDrug-resistant  lineage1             14\n                lineage2             62\n                lineage3             11\n                lineage4             25\nMDR             lineage1              6\n                lineage2             74\n                lineage2;lineage4     6\n                lineage3             51\n                lineage4             38\nSensitive       lineage1             35\n                lineage2             66\n                lineage2;lineage4     2\n                lineage3              9\n                lineage4             49\nXDR             lineage1              1\n                lineage2             20\n                lineage2;lineage4     1\n                lineage3             25\n                lineage4              4\ndtype: int64"
     },
     "execution_count": 21,
     "metadata": {},
     "output_type": "execute_result"
    }
   ],
   "source": [
    "binarized_resistance_status_test_df.groupby(['drtype','main_lin']).size()"
   ],
   "metadata": {
    "collapsed": false,
    "pycharm": {
     "name": "#%%\n"
    }
   }
  },
  {
   "cell_type": "markdown",
   "metadata": {
    "pycharm": {
     "name": "#%% md\n"
    }
   },
   "source": [
    "#### Stacked Column Chart: visual form of the two-way table\n"
   ]
  },
  {
   "cell_type": "code",
   "execution_count": 26,
   "outputs": [
    {
     "data": {
      "text/plain": "<AxesSubplot:xlabel='main_lin'>"
     },
     "execution_count": 26,
     "metadata": {},
     "output_type": "execute_result"
    },
    {
     "data": {
      "text/plain": "<Figure size 576x576 with 1 Axes>",
      "image/png": "[encoded data removed]"
     },
     "metadata": {},
     "output_type": "display_data"
    }
   ],
   "source": [
    "# binarized_resistance_status_train_df.groupby(['drtype','sublin']).size()\n",
    "\n",
    "pd.crosstab(index= binarized_resistance_status_train_df['main_lin'], columns=binarized_resistance_status_train_df[\"Resistance_Status\"]).plot(kind=\"bar\", figsize=(8,8), stacked=True)"
   ],
   "metadata": {
    "collapsed": false,
    "pycharm": {
     "name": "#%%\n"
    }
   }
  },
  {
   "cell_type": "code",
   "execution_count": 27,
   "outputs": [
    {
     "data": {
      "text/plain": "<AxesSubplot:xlabel='main_lin'>"
     },
     "execution_count": 27,
     "metadata": {},
     "output_type": "execute_result"
    },
    {
     "data": {
      "text/plain": "<Figure size 576x576 with 1 Axes>",
      "image/png": "[encoded data removed]"
     },
     "metadata": {},
     "output_type": "display_data"
    }
   ],
   "source": [
    "pd.crosstab(index= binarized_resistance_status_test_df['main_lin'], columns=binarized_resistance_status_test_df[\"Resistance_Status\"]).plot(kind=\"bar\", figsize=(8,8), stacked=True)"
   ],
   "metadata": {
    "collapsed": false,
    "pycharm": {
     "name": "#%%\n"
    }
   }
  },
  {
   "cell_type": "markdown",
   "metadata": {
    "pycharm": {
     "name": "#%% md\n"
    }
   },
   "source": [
    "## EDA for genomic pre-processing results"
   ]
  }
 ],
 "metadata": {
  "kernelspec": {
   "display_name": "PyCharm (drug-resistance-prediction-cambiohack)",
   "language": "python",
   "name": "pycharm-f27e5417"
  },
  "language_info": {
   "codemirror_mode": {
    "name": "ipython",
    "version": 3
   },
   "file_extension": ".py",
   "mimetype": "text/x-python",
   "name": "python",
   "nbconvert_exporter": "python",
   "pygments_lexer": "ipython3",
   "version": "3.7.4"
  }
 },
 "nbformat": 4,
 "nbformat_minor": 1
}