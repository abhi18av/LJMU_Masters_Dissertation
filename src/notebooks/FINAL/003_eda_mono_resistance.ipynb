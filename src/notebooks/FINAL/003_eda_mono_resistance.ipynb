{
  "cells": [
    {
      "cell_type": "markdown",
      "source": [
        "# Mono resistance EDA\n",
        "\n",
        "In this POC, we gloss over the resistance towards distinct drugs and focus only on the mono-resistance.\n"
      ],
      "metadata": {}
    },
    {
      "cell_type": "code",
      "source": [
        "\n",
        "from __future__ import print_function\n",
        "import pandas as pd\n",
        "import seaborn as sns\n",
        "from matplotlib import pyplot\n",
        "\n",
        "import warnings\n",
        "warnings.filterwarnings('ignore')\n",
        "sns.set_style('darkgrid')\n",
        "sns.set_context('paper')\n",
        "\n",
        "\n",
        "\n",
        "def print_ln():\n",
        "    print('-' * 80, '\\n')\n",
        "\n",
        "\n",
        "DATA_LOCATION  = \"../../data/\""
      ],
      "outputs": [],
      "execution_count": 60,
      "metadata": {
        "pycharm": {
          "name": "#%%\n"
        },
        "gather": {
          "logged": 1604765019665
        }
      }
    },
    {
      "cell_type": "markdown",
      "source": [
        "## EDA for Tb-profiler results"
      ],
      "metadata": {}
    },
    {
      "cell_type": "code",
      "source": [
        "# Read data for ALL genomes in the cohort\n",
        "\n",
        "tbprofiler_df = pd.read_json(DATA_LOCATION + \"raw/cohort.tbprofiler.json\", encoding=\"UTF-8\")\n",
        "tbprofiler_df = tbprofiler_df.transpose()\n",
        "tbprofiler_df.head()\n"
      ],
      "outputs": [
        {
          "output_type": "execute_result",
          "execution_count": 61,
          "data": {
            "text/plain": "          MDR XDR amikacin aminoglycosides bedaquiline capreomycin  \\\nERR027458   R            -               -           -           -   \nERR027459                -               -           -           -   \nERR027460                -               -           -           -   \nERR027461                -               -           -           -   \nERR027462                -               -           -           -   \n\n          ciprofloxacin clofazimine cycloserine delamanid      ...       \\\nERR027458             -           -           -         -      ...        \nERR027459             -           -           -         -      ...        \nERR027460             -           -           -         -      ...        \nERR027461             -           -           -         -      ...        \nERR027462             -           -           -         -      ...        \n\n          levofloxacin linezolid  main_lin moxifloxacin ofloxacin  \\\nERR027458            -         -  lineage2            -         -   \nERR027459            -         -  lineage2            -         -   \nERR027460            -         -                      -         -   \nERR027461            -         -  lineage2            -         -   \nERR027462            -         -  lineage2            -         -   \n\n          para-aminosalicylic_acid pyrazinamide  \\\nERR027458                        -            -   \nERR027459                        -            -   \nERR027460                        -            -   \nERR027461                        -            -   \nERR027462                        -            -   \n\n                                   rifampicin  streptomycin        sublin  \nERR027458  rpoB_p.Ser450Leu, rpoB_p.Glu761Asp  rrs_r.517c>t  lineage2.2.1  \nERR027459                    rpoB_p.Leu430Pro             -  lineage2.2.1  \nERR027460                                   -             -                \nERR027461                                   -             -  lineage2.2.1  \nERR027462                                   -             -  lineage2.2.1  \n\n[5 rows x 26 columns]",
            "text/html": "<div>\n<style scoped>\n    .dataframe tbody tr th:only-of-type {\n        vertical-align: middle;\n    }\n\n    .dataframe tbody tr th {\n        vertical-align: top;\n    }\n\n    .dataframe thead th {\n        text-align: right;\n    }\n</style>\n<table border=\"1\" class=\"dataframe\">\n  <thead>\n    <tr style=\"text-align: right;\">\n      <th></th>\n      <th>MDR</th>\n      <th>XDR</th>\n      <th>amikacin</th>\n      <th>aminoglycosides</th>\n      <th>bedaquiline</th>\n      <th>capreomycin</th>\n      <th>ciprofloxacin</th>\n      <th>clofazimine</th>\n      <th>cycloserine</th>\n      <th>delamanid</th>\n      <th>...</th>\n      <th>levofloxacin</th>\n      <th>linezolid</th>\n      <th>main_lin</th>\n      <th>moxifloxacin</th>\n      <th>ofloxacin</th>\n      <th>para-aminosalicylic_acid</th>\n      <th>pyrazinamide</th>\n      <th>rifampicin</th>\n      <th>streptomycin</th>\n      <th>sublin</th>\n    </tr>\n  </thead>\n  <tbody>\n    <tr>\n      <th>ERR027458</th>\n      <td>R</td>\n      <td></td>\n      <td>-</td>\n      <td>-</td>\n      <td>-</td>\n      <td>-</td>\n      <td>-</td>\n      <td>-</td>\n      <td>-</td>\n      <td>-</td>\n      <td>...</td>\n      <td>-</td>\n      <td>-</td>\n      <td>lineage2</td>\n      <td>-</td>\n      <td>-</td>\n      <td>-</td>\n      <td>-</td>\n      <td>rpoB_p.Ser450Leu, rpoB_p.Glu761Asp</td>\n      <td>rrs_r.517c&gt;t</td>\n      <td>lineage2.2.1</td>\n    </tr>\n    <tr>\n      <th>ERR027459</th>\n      <td></td>\n      <td></td>\n      <td>-</td>\n      <td>-</td>\n      <td>-</td>\n      <td>-</td>\n      <td>-</td>\n      <td>-</td>\n      <td>-</td>\n      <td>-</td>\n      <td>...</td>\n      <td>-</td>\n      <td>-</td>\n      <td>lineage2</td>\n      <td>-</td>\n      <td>-</td>\n      <td>-</td>\n      <td>-</td>\n      <td>rpoB_p.Leu430Pro</td>\n      <td>-</td>\n      <td>lineage2.2.1</td>\n    </tr>\n    <tr>\n      <th>ERR027460</th>\n      <td></td>\n      <td></td>\n      <td>-</td>\n      <td>-</td>\n      <td>-</td>\n      <td>-</td>\n      <td>-</td>\n      <td>-</td>\n      <td>-</td>\n      <td>-</td>\n      <td>...</td>\n      <td>-</td>\n      <td>-</td>\n      <td></td>\n      <td>-</td>\n      <td>-</td>\n      <td>-</td>\n      <td>-</td>\n      <td>-</td>\n      <td>-</td>\n      <td></td>\n    </tr>\n    <tr>\n      <th>ERR027461</th>\n      <td></td>\n      <td></td>\n      <td>-</td>\n      <td>-</td>\n      <td>-</td>\n      <td>-</td>\n      <td>-</td>\n      <td>-</td>\n      <td>-</td>\n      <td>-</td>\n      <td>...</td>\n      <td>-</td>\n      <td>-</td>\n      <td>lineage2</td>\n      <td>-</td>\n      <td>-</td>\n      <td>-</td>\n      <td>-</td>\n      <td>-</td>\n      <td>-</td>\n      <td>lineage2.2.1</td>\n    </tr>\n    <tr>\n      <th>ERR027462</th>\n      <td></td>\n      <td></td>\n      <td>-</td>\n      <td>-</td>\n      <td>-</td>\n      <td>-</td>\n      <td>-</td>\n      <td>-</td>\n      <td>-</td>\n      <td>-</td>\n      <td>...</td>\n      <td>-</td>\n      <td>-</td>\n      <td>lineage2</td>\n      <td>-</td>\n      <td>-</td>\n      <td>-</td>\n      <td>-</td>\n      <td>-</td>\n      <td>-</td>\n      <td>lineage2.2.1</td>\n    </tr>\n  </tbody>\n</table>\n<p>5 rows × 26 columns</p>\n</div>"
          },
          "metadata": {}
        }
      ],
      "execution_count": 61,
      "metadata": {
        "pycharm": {
          "name": "#%%\n"
        },
        "gather": {
          "logged": 1604765023399
        }
      }
    },
    {
      "cell_type": "code",
      "source": [
        "tbprofiler_df.shape"
      ],
      "outputs": [
        {
          "output_type": "execute_result",
          "execution_count": 62,
          "data": {
            "text/plain": "(2654, 26)"
          },
          "metadata": {}
        }
      ],
      "execution_count": 62,
      "metadata": {
        "pycharm": {
          "name": "#%%\n"
        },
        "gather": {
          "logged": 1604765025578
        }
      }
    },
    {
      "cell_type": "code",
      "source": [
        "# Select the train (Tb-portals) data\n",
        "\n",
        "# Read the genomes IDs of genomes\n",
        "# - Tb-portals (ALL/ Train)\n",
        "# - HTBC (ALL/ Test)\n",
        "\n",
        "import json\n",
        "\n",
        "with open(DATA_LOCATION + \"raw/test_train_genome_ids.json\") as f:\n",
        "    all_genomes_ids_dict = json.load(f)\n",
        "\n",
        "final_tbportals_train_genome_ids =  all_genomes_ids_dict['final_tbportals_train_genomes']\n",
        "final_htbc_test_genome_ids = all_genomes_ids_dict['final_htbc_test_genomes']\n"
      ],
      "outputs": [],
      "execution_count": 64,
      "metadata": {
        "pycharm": {
          "name": "#%%\n"
        },
        "gather": {
          "logged": 1604765042698
        }
      }
    },
    {
      "cell_type": "code",
      "source": [
        "# Read the binarized tb_profiler results from step-002\n",
        "\n",
        "binarized_resistance_status_df = pd.read_csv(DATA_LOCATION +  \"processed/binarized_resistance_status_df.tsv\", \"\\t\").rename(columns={'Unnamed: 0' : 'SampleID'}).set_index('SampleID')\n",
        "\n",
        "binarized_resistance_status_df.head(10)\n"
      ],
      "outputs": [
        {
          "output_type": "execute_result",
          "execution_count": 70,
          "data": {
            "text/plain": "             rifampicin_resistance  isoniazid_resistance  \\\nSampleID                                                   \nSRR1162996                       1                     1   \nSRR6356985                       1                     1   \nSRR10525347                      0                     0   \nSRR5153132                       0                     0   \nSRR10380131                      1                     1   \nSRR1163399                       1                     1   \nSRR5153316                       1                     1   \nSRR10525375                      1                     1   \nSRR10525332                      1                     1   \nSRR10380003                      1                     1   \n\n             pyrazinamide_resistance  ethambutol_resistance  \\\nSampleID                                                      \nSRR1162996                         1                      1   \nSRR6356985                         0                      1   \nSRR10525347                        0                      0   \nSRR5153132                         0                      0   \nSRR10380131                        0                      1   \nSRR1163399                         1                      1   \nSRR5153316                         1                      1   \nSRR10525375                        1                      1   \nSRR10525332                        1                      0   \nSRR10380003                        0                      1   \n\n             streptomycin_resistance  fluoroquinolones_resistance  \\\nSampleID                                                            \nSRR1162996                         1                            1   \nSRR6356985                         1                            0   \nSRR10525347                        0                            0   \nSRR5153132                         0                            0   \nSRR10380131                        1                            0   \nSRR1163399                         1                            1   \nSRR5153316                         1                            0   \nSRR10525375                        0                            1   \nSRR10525332                        1                            0   \nSRR10380003                        1                            0   \n\n             moxifloxacin_resistance  ofloxacin_resistance  \\\nSampleID                                                     \nSRR1162996                         1                     1   \nSRR6356985                         0                     0   \nSRR10525347                        0                     0   \nSRR5153132                         0                     0   \nSRR10380131                        0                     0   \nSRR1163399                         1                     1   \nSRR5153316                         0                     0   \nSRR10525375                        1                     1   \nSRR10525332                        0                     0   \nSRR10380003                        0                     0   \n\n             levofloxacin_resistance  ciprofloxacin_resistance  \\\nSampleID                                                         \nSRR1162996                         1                         1   \nSRR6356985                         0                         0   \nSRR10525347                        0                         0   \nSRR5153132                         0                         0   \nSRR10380131                        0                         0   \nSRR1163399                         1                         1   \nSRR5153316                         0                         0   \nSRR10525375                        1                         1   \nSRR10525332                        0                         0   \nSRR10380003                        0                         0   \n\n                   ...          linezolid_resistance  bedaquiline_resistance  \\\nSampleID           ...                                                         \nSRR1162996         ...                             0                       0   \nSRR6356985         ...                             0                       0   \nSRR10525347        ...                             0                       0   \nSRR5153132         ...                             0                       0   \nSRR10380131        ...                             0                       0   \nSRR1163399         ...                             0                       0   \nSRR5153316         ...                             0                       0   \nSRR10525375        ...                             0                       0   \nSRR10525332        ...                             0                       0   \nSRR10380003        ...                             0                       0   \n\n             clofazimine_resistance  delamanid_resistance  main_lin  \\\nSampleID                                                              \nSRR1162996                        0                     0  lineage4   \nSRR6356985                        0                     0  lineage2   \nSRR10525347                       0                     0  lineage4   \nSRR5153132                        0                     0  lineage4   \nSRR10380131                       0                     0  lineage2   \nSRR1163399                        0                     0  lineage4   \nSRR5153316                        0                     0  lineage4   \nSRR10525375                       0                     0  lineage4   \nSRR10525332                       0                     0  lineage4   \nSRR10380003                       0                     0  lineage4   \n\n                     sublin     drtype  MDR  XDR  Resistance_Status  \nSampleID                                                             \nSRR1162996     lineage4.3.3        XDR    R    R          Resistant  \nSRR6356985     lineage2.2.1        MDR    R  NaN          Resistant  \nSRR10525347  lineage4.1.2.1  Sensitive  NaN  NaN          Sensitive  \nSRR5153132   lineage4.1.2.1  Sensitive  NaN  NaN          Sensitive  \nSRR10380131    lineage2.2.1        MDR    R  NaN          Resistant  \nSRR1163399     lineage4.3.3        XDR    R    R          Resistant  \nSRR5153316     lineage4.2.1        MDR    R  NaN          Resistant  \nSRR10525375  lineage4.1.2.1        MDR    R  NaN          Resistant  \nSRR10525332      lineage4.8        MDR    R  NaN          Resistant  \nSRR10380003    lineage4.2.1        MDR    R  NaN          Resistant  \n\n[10 rows x 27 columns]",
            "text/html": "<div>\n<style scoped>\n    .dataframe tbody tr th:only-of-type {\n        vertical-align: middle;\n    }\n\n    .dataframe tbody tr th {\n        vertical-align: top;\n    }\n\n    .dataframe thead th {\n        text-align: right;\n    }\n</style>\n<table border=\"1\" class=\"dataframe\">\n  <thead>\n    <tr style=\"text-align: right;\">\n      <th></th>\n      <th>rifampicin_resistance</th>\n      <th>isoniazid_resistance</th>\n      <th>pyrazinamide_resistance</th>\n      <th>ethambutol_resistance</th>\n      <th>streptomycin_resistance</th>\n      <th>fluoroquinolones_resistance</th>\n      <th>moxifloxacin_resistance</th>\n      <th>ofloxacin_resistance</th>\n      <th>levofloxacin_resistance</th>\n      <th>ciprofloxacin_resistance</th>\n      <th>...</th>\n      <th>linezolid_resistance</th>\n      <th>bedaquiline_resistance</th>\n      <th>clofazimine_resistance</th>\n      <th>delamanid_resistance</th>\n      <th>main_lin</th>\n      <th>sublin</th>\n      <th>drtype</th>\n      <th>MDR</th>\n      <th>XDR</th>\n      <th>Resistance_Status</th>\n    </tr>\n    <tr>\n      <th>SampleID</th>\n      <th></th>\n      <th></th>\n      <th></th>\n      <th></th>\n      <th></th>\n      <th></th>\n      <th></th>\n      <th></th>\n      <th></th>\n      <th></th>\n      <th></th>\n      <th></th>\n      <th></th>\n      <th></th>\n      <th></th>\n      <th></th>\n      <th></th>\n      <th></th>\n      <th></th>\n      <th></th>\n      <th></th>\n    </tr>\n  </thead>\n  <tbody>\n    <tr>\n      <th>SRR1162996</th>\n      <td>1</td>\n      <td>1</td>\n      <td>1</td>\n      <td>1</td>\n      <td>1</td>\n      <td>1</td>\n      <td>1</td>\n      <td>1</td>\n      <td>1</td>\n      <td>1</td>\n      <td>...</td>\n      <td>0</td>\n      <td>0</td>\n      <td>0</td>\n      <td>0</td>\n      <td>lineage4</td>\n      <td>lineage4.3.3</td>\n      <td>XDR</td>\n      <td>R</td>\n      <td>R</td>\n      <td>Resistant</td>\n    </tr>\n    <tr>\n      <th>SRR6356985</th>\n      <td>1</td>\n      <td>1</td>\n      <td>0</td>\n      <td>1</td>\n      <td>1</td>\n      <td>0</td>\n      <td>0</td>\n      <td>0</td>\n      <td>0</td>\n      <td>0</td>\n      <td>...</td>\n      <td>0</td>\n      <td>0</td>\n      <td>0</td>\n      <td>0</td>\n      <td>lineage2</td>\n      <td>lineage2.2.1</td>\n      <td>MDR</td>\n      <td>R</td>\n      <td>NaN</td>\n      <td>Resistant</td>\n    </tr>\n    <tr>\n      <th>SRR10525347</th>\n      <td>0</td>\n      <td>0</td>\n      <td>0</td>\n      <td>0</td>\n      <td>0</td>\n      <td>0</td>\n      <td>0</td>\n      <td>0</td>\n      <td>0</td>\n      <td>0</td>\n      <td>...</td>\n      <td>0</td>\n      <td>0</td>\n      <td>0</td>\n      <td>0</td>\n      <td>lineage4</td>\n      <td>lineage4.1.2.1</td>\n      <td>Sensitive</td>\n      <td>NaN</td>\n      <td>NaN</td>\n      <td>Sensitive</td>\n    </tr>\n    <tr>\n      <th>SRR5153132</th>\n      <td>0</td>\n      <td>0</td>\n      <td>0</td>\n      <td>0</td>\n      <td>0</td>\n      <td>0</td>\n      <td>0</td>\n      <td>0</td>\n      <td>0</td>\n      <td>0</td>\n      <td>...</td>\n      <td>0</td>\n      <td>0</td>\n      <td>0</td>\n      <td>0</td>\n      <td>lineage4</td>\n      <td>lineage4.1.2.1</td>\n      <td>Sensitive</td>\n      <td>NaN</td>\n      <td>NaN</td>\n      <td>Sensitive</td>\n    </tr>\n    <tr>\n      <th>SRR10380131</th>\n      <td>1</td>\n      <td>1</td>\n      <td>0</td>\n      <td>1</td>\n      <td>1</td>\n      <td>0</td>\n      <td>0</td>\n      <td>0</td>\n      <td>0</td>\n      <td>0</td>\n      <td>...</td>\n      <td>0</td>\n      <td>0</td>\n      <td>0</td>\n      <td>0</td>\n      <td>lineage2</td>\n      <td>lineage2.2.1</td>\n      <td>MDR</td>\n      <td>R</td>\n      <td>NaN</td>\n      <td>Resistant</td>\n    </tr>\n    <tr>\n      <th>SRR1163399</th>\n      <td>1</td>\n      <td>1</td>\n      <td>1</td>\n      <td>1</td>\n      <td>1</td>\n      <td>1</td>\n      <td>1</td>\n      <td>1</td>\n      <td>1</td>\n      <td>1</td>\n      <td>...</td>\n      <td>0</td>\n      <td>0</td>\n      <td>0</td>\n      <td>0</td>\n      <td>lineage4</td>\n      <td>lineage4.3.3</td>\n      <td>XDR</td>\n      <td>R</td>\n      <td>R</td>\n      <td>Resistant</td>\n    </tr>\n    <tr>\n      <th>SRR5153316</th>\n      <td>1</td>\n      <td>1</td>\n      <td>1</td>\n      <td>1</td>\n      <td>1</td>\n      <td>0</td>\n      <td>0</td>\n      <td>0</td>\n      <td>0</td>\n      <td>0</td>\n      <td>...</td>\n      <td>0</td>\n      <td>0</td>\n      <td>0</td>\n      <td>0</td>\n      <td>lineage4</td>\n      <td>lineage4.2.1</td>\n      <td>MDR</td>\n      <td>R</td>\n      <td>NaN</td>\n      <td>Resistant</td>\n    </tr>\n    <tr>\n      <th>SRR10525375</th>\n      <td>1</td>\n      <td>1</td>\n      <td>1</td>\n      <td>1</td>\n      <td>0</td>\n      <td>1</td>\n      <td>1</td>\n      <td>1</td>\n      <td>1</td>\n      <td>1</td>\n      <td>...</td>\n      <td>0</td>\n      <td>0</td>\n      <td>0</td>\n      <td>0</td>\n      <td>lineage4</td>\n      <td>lineage4.1.2.1</td>\n      <td>MDR</td>\n      <td>R</td>\n      <td>NaN</td>\n      <td>Resistant</td>\n    </tr>\n    <tr>\n      <th>SRR10525332</th>\n      <td>1</td>\n      <td>1</td>\n      <td>1</td>\n      <td>0</td>\n      <td>1</td>\n      <td>0</td>\n      <td>0</td>\n      <td>0</td>\n      <td>0</td>\n      <td>0</td>\n      <td>...</td>\n      <td>0</td>\n      <td>0</td>\n      <td>0</td>\n      <td>0</td>\n      <td>lineage4</td>\n      <td>lineage4.8</td>\n      <td>MDR</td>\n      <td>R</td>\n      <td>NaN</td>\n      <td>Resistant</td>\n    </tr>\n    <tr>\n      <th>SRR10380003</th>\n      <td>1</td>\n      <td>1</td>\n      <td>0</td>\n      <td>1</td>\n      <td>1</td>\n      <td>0</td>\n      <td>0</td>\n      <td>0</td>\n      <td>0</td>\n      <td>0</td>\n      <td>...</td>\n      <td>0</td>\n      <td>0</td>\n      <td>0</td>\n      <td>0</td>\n      <td>lineage4</td>\n      <td>lineage4.2.1</td>\n      <td>MDR</td>\n      <td>R</td>\n      <td>NaN</td>\n      <td>Resistant</td>\n    </tr>\n  </tbody>\n</table>\n<p>10 rows × 27 columns</p>\n</div>"
          },
          "metadata": {}
        }
      ],
      "execution_count": 70,
      "metadata": {
        "collapsed": false,
        "pycharm": {
          "name": "#%%\n"
        },
        "gather": {
          "logged": 1604765147132
        }
      }
    },
    {
      "cell_type": "markdown",
      "source": [
        "#### Create data frame for train dataset\n"
      ],
      "metadata": {
        "collapsed": false,
        "pycharm": {
          "name": "#%% md\n"
        }
      }
    },
    {
      "cell_type": "code",
      "source": [
        "binarized_resistance_status_train_df = binarized_resistance_status_df.loc[final_tbportals_train_genome_ids]\n",
        "binarized_resistance_status_train_df.head()\n"
      ],
      "outputs": [
        {
          "output_type": "execute_result",
          "execution_count": 71,
          "data": {
            "text/plain": "             rifampicin_resistance  isoniazid_resistance  \\\nSampleID                                                   \nSRR10525336                      1                     1   \nSRR10380004                      1                     1   \nSRR6807701                       1                     1   \nSRR11033700                      0                     0   \nSRR1163101                       1                     1   \n\n             pyrazinamide_resistance  ethambutol_resistance  \\\nSampleID                                                      \nSRR10525336                        1                      0   \nSRR10380004                        1                      1   \nSRR6807701                         0                      1   \nSRR11033700                        0                      0   \nSRR1163101                         1                      1   \n\n             streptomycin_resistance  fluoroquinolones_resistance  \\\nSampleID                                                            \nSRR10525336                        0                            0   \nSRR10380004                        1                            0   \nSRR6807701                         1                            0   \nSRR11033700                        1                            0   \nSRR1163101                         1                            1   \n\n             moxifloxacin_resistance  ofloxacin_resistance  \\\nSampleID                                                     \nSRR10525336                        0                     0   \nSRR10380004                        0                     0   \nSRR6807701                         0                     0   \nSRR11033700                        0                     0   \nSRR1163101                         1                     1   \n\n             levofloxacin_resistance  ciprofloxacin_resistance  \\\nSampleID                                                         \nSRR10525336                        0                         0   \nSRR10380004                        0                         0   \nSRR6807701                         0                         0   \nSRR11033700                        0                         0   \nSRR1163101                         1                         1   \n\n                   ...          linezolid_resistance  bedaquiline_resistance  \\\nSampleID           ...                                                         \nSRR10525336        ...                             0                       0   \nSRR10380004        ...                             0                       0   \nSRR6807701         ...                             0                       0   \nSRR11033700        ...                             0                       0   \nSRR1163101         ...                             0                       0   \n\n             clofazimine_resistance  delamanid_resistance  main_lin  \\\nSampleID                                                              \nSRR10525336                       0                     0  lineage4   \nSRR10380004                       0                     0  lineage4   \nSRR6807701                        0                     0  lineage2   \nSRR11033700                       0                     0  lineage4   \nSRR1163101                        0                     0  lineage2   \n\n                     sublin          drtype  MDR  XDR  Resistance_Status  \nSampleID                                                                  \nSRR10525336  lineage4.4.1.1             MDR    R  NaN          Resistant  \nSRR10380004    lineage4.2.1             MDR    R  NaN          Resistant  \nSRR6807701     lineage2.2.1             MDR    R  NaN          Resistant  \nSRR11033700    lineage4.3.3  Drug-resistant  NaN  NaN          Resistant  \nSRR1163101     lineage2.2.1             XDR    R    R          Resistant  \n\n[5 rows x 27 columns]",
            "text/html": "<div>\n<style scoped>\n    .dataframe tbody tr th:only-of-type {\n        vertical-align: middle;\n    }\n\n    .dataframe tbody tr th {\n        vertical-align: top;\n    }\n\n    .dataframe thead th {\n        text-align: right;\n    }\n</style>\n<table border=\"1\" class=\"dataframe\">\n  <thead>\n    <tr style=\"text-align: right;\">\n      <th></th>\n      <th>rifampicin_resistance</th>\n      <th>isoniazid_resistance</th>\n      <th>pyrazinamide_resistance</th>\n      <th>ethambutol_resistance</th>\n      <th>streptomycin_resistance</th>\n      <th>fluoroquinolones_resistance</th>\n      <th>moxifloxacin_resistance</th>\n      <th>ofloxacin_resistance</th>\n      <th>levofloxacin_resistance</th>\n      <th>ciprofloxacin_resistance</th>\n      <th>...</th>\n      <th>linezolid_resistance</th>\n      <th>bedaquiline_resistance</th>\n      <th>clofazimine_resistance</th>\n      <th>delamanid_resistance</th>\n      <th>main_lin</th>\n      <th>sublin</th>\n      <th>drtype</th>\n      <th>MDR</th>\n      <th>XDR</th>\n      <th>Resistance_Status</th>\n    </tr>\n    <tr>\n      <th>SampleID</th>\n      <th></th>\n      <th></th>\n      <th></th>\n      <th></th>\n      <th></th>\n      <th></th>\n      <th></th>\n      <th></th>\n      <th></th>\n      <th></th>\n      <th></th>\n      <th></th>\n      <th></th>\n      <th></th>\n      <th></th>\n      <th></th>\n      <th></th>\n      <th></th>\n      <th></th>\n      <th></th>\n      <th></th>\n    </tr>\n  </thead>\n  <tbody>\n    <tr>\n      <th>SRR10525336</th>\n      <td>1</td>\n      <td>1</td>\n      <td>1</td>\n      <td>0</td>\n      <td>0</td>\n      <td>0</td>\n      <td>0</td>\n      <td>0</td>\n      <td>0</td>\n      <td>0</td>\n      <td>...</td>\n      <td>0</td>\n      <td>0</td>\n      <td>0</td>\n      <td>0</td>\n      <td>lineage4</td>\n      <td>lineage4.4.1.1</td>\n      <td>MDR</td>\n      <td>R</td>\n      <td>NaN</td>\n      <td>Resistant</td>\n    </tr>\n    <tr>\n      <th>SRR10380004</th>\n      <td>1</td>\n      <td>1</td>\n      <td>1</td>\n      <td>1</td>\n      <td>1</td>\n      <td>0</td>\n      <td>0</td>\n      <td>0</td>\n      <td>0</td>\n      <td>0</td>\n      <td>...</td>\n      <td>0</td>\n      <td>0</td>\n      <td>0</td>\n      <td>0</td>\n      <td>lineage4</td>\n      <td>lineage4.2.1</td>\n      <td>MDR</td>\n      <td>R</td>\n      <td>NaN</td>\n      <td>Resistant</td>\n    </tr>\n    <tr>\n      <th>SRR6807701</th>\n      <td>1</td>\n      <td>1</td>\n      <td>0</td>\n      <td>1</td>\n      <td>1</td>\n      <td>0</td>\n      <td>0</td>\n      <td>0</td>\n      <td>0</td>\n      <td>0</td>\n      <td>...</td>\n      <td>0</td>\n      <td>0</td>\n      <td>0</td>\n      <td>0</td>\n      <td>lineage2</td>\n      <td>lineage2.2.1</td>\n      <td>MDR</td>\n      <td>R</td>\n      <td>NaN</td>\n      <td>Resistant</td>\n    </tr>\n    <tr>\n      <th>SRR11033700</th>\n      <td>0</td>\n      <td>0</td>\n      <td>0</td>\n      <td>0</td>\n      <td>1</td>\n      <td>0</td>\n      <td>0</td>\n      <td>0</td>\n      <td>0</td>\n      <td>0</td>\n      <td>...</td>\n      <td>0</td>\n      <td>0</td>\n      <td>0</td>\n      <td>0</td>\n      <td>lineage4</td>\n      <td>lineage4.3.3</td>\n      <td>Drug-resistant</td>\n      <td>NaN</td>\n      <td>NaN</td>\n      <td>Resistant</td>\n    </tr>\n    <tr>\n      <th>SRR1163101</th>\n      <td>1</td>\n      <td>1</td>\n      <td>1</td>\n      <td>1</td>\n      <td>1</td>\n      <td>1</td>\n      <td>1</td>\n      <td>1</td>\n      <td>1</td>\n      <td>1</td>\n      <td>...</td>\n      <td>0</td>\n      <td>0</td>\n      <td>0</td>\n      <td>0</td>\n      <td>lineage2</td>\n      <td>lineage2.2.1</td>\n      <td>XDR</td>\n      <td>R</td>\n      <td>R</td>\n      <td>Resistant</td>\n    </tr>\n  </tbody>\n</table>\n<p>5 rows × 27 columns</p>\n</div>"
          },
          "metadata": {}
        }
      ],
      "execution_count": 71,
      "metadata": {
        "collapsed": false,
        "pycharm": {
          "name": "#%%\n"
        },
        "gather": {
          "logged": 1604765150877
        }
      }
    },
    {
      "cell_type": "markdown",
      "source": [
        "#### Create data frame for test dataset\n"
      ],
      "metadata": {
        "collapsed": false,
        "pycharm": {
          "name": "#%% md\n"
        }
      }
    },
    {
      "cell_type": "code",
      "source": [
        "binarized_resistance_status_test_df = binarized_resistance_status_df.loc[final_htbc_test_genome_ids]\n",
        "binarized_resistance_status_test_df.head()"
      ],
      "outputs": [
        {
          "output_type": "execute_result",
          "execution_count": 72,
          "data": {
            "text/plain": "            rifampicin_resistance  isoniazid_resistance  \\\nSampleID                                                  \nERR3335735                      1                     1   \nSRR8552929                      1                     1   \nERR067629                       1                     1   \nERR067714                       1                     1   \nSRR5065314                      0                     1   \n\n            pyrazinamide_resistance  ethambutol_resistance  \\\nSampleID                                                     \nERR3335735                        1                      1   \nSRR8552929                        1                      1   \nERR067629                         0                      1   \nERR067714                         1                      1   \nSRR5065314                        0                      0   \n\n            streptomycin_resistance  fluoroquinolones_resistance  \\\nSampleID                                                           \nERR3335735                        1                            1   \nSRR8552929                        1                            1   \nERR067629                         0                            0   \nERR067714                         1                            0   \nSRR5065314                        1                            0   \n\n            moxifloxacin_resistance  ofloxacin_resistance  \\\nSampleID                                                    \nERR3335735                        1                     1   \nSRR8552929                        1                     1   \nERR067629                         0                     0   \nERR067714                         0                     0   \nSRR5065314                        0                     0   \n\n            levofloxacin_resistance  ciprofloxacin_resistance  \\\nSampleID                                                        \nERR3335735                        1                         1   \nSRR8552929                        1                         1   \nERR067629                         0                         0   \nERR067714                         0                         0   \nSRR5065314                        0                         0   \n\n                  ...          linezolid_resistance  bedaquiline_resistance  \\\nSampleID          ...                                                         \nERR3335735        ...                             0                       0   \nSRR8552929        ...                             0                       0   \nERR067629         ...                             0                       0   \nERR067714         ...                             0                       0   \nSRR5065314        ...                             0                       0   \n\n            clofazimine_resistance  delamanid_resistance  main_lin  \\\nSampleID                                                             \nERR3335735                       0                     0  lineage3   \nSRR8552929                       0                     0  lineage4   \nERR067629                        0                     0  lineage4   \nERR067714                        0                     0  lineage2   \nSRR5065314                       0                     0  lineage2   \n\n                  sublin          drtype  MDR  XDR  Resistance_Status  \nSampleID                                                               \nERR3335735      lineage3             MDR    R  NaN          Resistant  \nSRR8552929    lineage4.9             MDR    R  NaN          Resistant  \nERR067629   lineage4.2.1             MDR    R  NaN          Resistant  \nERR067714   lineage2.2.1             MDR    R  NaN          Resistant  \nSRR5065314  lineage2.2.1  Drug-resistant  NaN  NaN          Resistant  \n\n[5 rows x 27 columns]",
            "text/html": "<div>\n<style scoped>\n    .dataframe tbody tr th:only-of-type {\n        vertical-align: middle;\n    }\n\n    .dataframe tbody tr th {\n        vertical-align: top;\n    }\n\n    .dataframe thead th {\n        text-align: right;\n    }\n</style>\n<table border=\"1\" class=\"dataframe\">\n  <thead>\n    <tr style=\"text-align: right;\">\n      <th></th>\n      <th>rifampicin_resistance</th>\n      <th>isoniazid_resistance</th>\n      <th>pyrazinamide_resistance</th>\n      <th>ethambutol_resistance</th>\n      <th>streptomycin_resistance</th>\n      <th>fluoroquinolones_resistance</th>\n      <th>moxifloxacin_resistance</th>\n      <th>ofloxacin_resistance</th>\n      <th>levofloxacin_resistance</th>\n      <th>ciprofloxacin_resistance</th>\n      <th>...</th>\n      <th>linezolid_resistance</th>\n      <th>bedaquiline_resistance</th>\n      <th>clofazimine_resistance</th>\n      <th>delamanid_resistance</th>\n      <th>main_lin</th>\n      <th>sublin</th>\n      <th>drtype</th>\n      <th>MDR</th>\n      <th>XDR</th>\n      <th>Resistance_Status</th>\n    </tr>\n    <tr>\n      <th>SampleID</th>\n      <th></th>\n      <th></th>\n      <th></th>\n      <th></th>\n      <th></th>\n      <th></th>\n      <th></th>\n      <th></th>\n      <th></th>\n      <th></th>\n      <th></th>\n      <th></th>\n      <th></th>\n      <th></th>\n      <th></th>\n      <th></th>\n      <th></th>\n      <th></th>\n      <th></th>\n      <th></th>\n      <th></th>\n    </tr>\n  </thead>\n  <tbody>\n    <tr>\n      <th>ERR3335735</th>\n      <td>1</td>\n      <td>1</td>\n      <td>1</td>\n      <td>1</td>\n      <td>1</td>\n      <td>1</td>\n      <td>1</td>\n      <td>1</td>\n      <td>1</td>\n      <td>1</td>\n      <td>...</td>\n      <td>0</td>\n      <td>0</td>\n      <td>0</td>\n      <td>0</td>\n      <td>lineage3</td>\n      <td>lineage3</td>\n      <td>MDR</td>\n      <td>R</td>\n      <td>NaN</td>\n      <td>Resistant</td>\n    </tr>\n    <tr>\n      <th>SRR8552929</th>\n      <td>1</td>\n      <td>1</td>\n      <td>1</td>\n      <td>1</td>\n      <td>1</td>\n      <td>1</td>\n      <td>1</td>\n      <td>1</td>\n      <td>1</td>\n      <td>1</td>\n      <td>...</td>\n      <td>0</td>\n      <td>0</td>\n      <td>0</td>\n      <td>0</td>\n      <td>lineage4</td>\n      <td>lineage4.9</td>\n      <td>MDR</td>\n      <td>R</td>\n      <td>NaN</td>\n      <td>Resistant</td>\n    </tr>\n    <tr>\n      <th>ERR067629</th>\n      <td>1</td>\n      <td>1</td>\n      <td>0</td>\n      <td>1</td>\n      <td>0</td>\n      <td>0</td>\n      <td>0</td>\n      <td>0</td>\n      <td>0</td>\n      <td>0</td>\n      <td>...</td>\n      <td>0</td>\n      <td>0</td>\n      <td>0</td>\n      <td>0</td>\n      <td>lineage4</td>\n      <td>lineage4.2.1</td>\n      <td>MDR</td>\n      <td>R</td>\n      <td>NaN</td>\n      <td>Resistant</td>\n    </tr>\n    <tr>\n      <th>ERR067714</th>\n      <td>1</td>\n      <td>1</td>\n      <td>1</td>\n      <td>1</td>\n      <td>1</td>\n      <td>0</td>\n      <td>0</td>\n      <td>0</td>\n      <td>0</td>\n      <td>0</td>\n      <td>...</td>\n      <td>0</td>\n      <td>0</td>\n      <td>0</td>\n      <td>0</td>\n      <td>lineage2</td>\n      <td>lineage2.2.1</td>\n      <td>MDR</td>\n      <td>R</td>\n      <td>NaN</td>\n      <td>Resistant</td>\n    </tr>\n    <tr>\n      <th>SRR5065314</th>\n      <td>0</td>\n      <td>1</td>\n      <td>0</td>\n      <td>0</td>\n      <td>1</td>\n      <td>0</td>\n      <td>0</td>\n      <td>0</td>\n      <td>0</td>\n      <td>0</td>\n      <td>...</td>\n      <td>0</td>\n      <td>0</td>\n      <td>0</td>\n      <td>0</td>\n      <td>lineage2</td>\n      <td>lineage2.2.1</td>\n      <td>Drug-resistant</td>\n      <td>NaN</td>\n      <td>NaN</td>\n      <td>Resistant</td>\n    </tr>\n  </tbody>\n</table>\n<p>5 rows × 27 columns</p>\n</div>"
          },
          "metadata": {}
        }
      ],
      "execution_count": 72,
      "metadata": {
        "collapsed": false,
        "pycharm": {
          "name": "#%%\n"
        },
        "gather": {
          "logged": 1604765153873
        }
      }
    },
    {
      "cell_type": "markdown",
      "source": [
        "#### Analyze the train and test datasets"
      ],
      "metadata": {
        "collapsed": false,
        "pycharm": {
          "name": "#%% md\n"
        }
      }
    },
    {
      "cell_type": "code",
      "source": [
        "binarized_resistance_status_train_df.describe().T\n"
      ],
      "outputs": [
        {
          "output_type": "execute_result",
          "execution_count": 73,
          "data": {
            "text/plain": "                                      count      mean       std  min  25%  \\\nrifampicin_resistance                1223.0  0.604252  0.489211  0.0  0.0   \nisoniazid_resistance                 1223.0  0.618152  0.486038  0.0  0.0   \npyrazinamide_resistance              1223.0  0.407195  0.491513  0.0  0.0   \nethambutol_resistance                1223.0  0.545380  0.498140  0.0  0.0   \nstreptomycin_resistance              1223.0  0.567457  0.495631  0.0  0.0   \nfluoroquinolones_resistance          1223.0  0.318888  0.466236  0.0  0.0   \nmoxifloxacin_resistance              1223.0  0.318888  0.466236  0.0  0.0   \nofloxacin_resistance                 1223.0  0.318888  0.466236  0.0  0.0   \nlevofloxacin_resistance              1223.0  0.318888  0.466236  0.0  0.0   \nciprofloxacin_resistance             1223.0  0.318888  0.466236  0.0  0.0   \naminoglycosides_resistance           1223.0  0.152085  0.359250  0.0  0.0   \namikacin_resistance                  1223.0  0.152085  0.359250  0.0  0.0   \nkanamycin_resistance                 1223.0  0.385119  0.486822  0.0  0.0   \ncapreomycin_resistance               1223.0  0.174162  0.379404  0.0  0.0   \nethionamide_resistance               1223.0  0.382666  0.486237  0.0  0.0   \npara-aminosalicylic_acid_resistance  1223.0  0.055601  0.229243  0.0  0.0   \ncycloserine_resistance               1223.0  0.035977  0.186309  0.0  0.0   \nlinezolid_resistance                 1223.0  0.002453  0.049487  0.0  0.0   \nbedaquiline_resistance               1223.0  0.000818  0.028595  0.0  0.0   \nclofazimine_resistance               1223.0  0.000818  0.028595  0.0  0.0   \ndelamanid_resistance                 1223.0  0.002453  0.049487  0.0  0.0   \n\n                                     50%  75%  max  \nrifampicin_resistance                1.0  1.0  1.0  \nisoniazid_resistance                 1.0  1.0  1.0  \npyrazinamide_resistance              0.0  1.0  1.0  \nethambutol_resistance                1.0  1.0  1.0  \nstreptomycin_resistance              1.0  1.0  1.0  \nfluoroquinolones_resistance          0.0  1.0  1.0  \nmoxifloxacin_resistance              0.0  1.0  1.0  \nofloxacin_resistance                 0.0  1.0  1.0  \nlevofloxacin_resistance              0.0  1.0  1.0  \nciprofloxacin_resistance             0.0  1.0  1.0  \naminoglycosides_resistance           0.0  0.0  1.0  \namikacin_resistance                  0.0  0.0  1.0  \nkanamycin_resistance                 0.0  1.0  1.0  \ncapreomycin_resistance               0.0  0.0  1.0  \nethionamide_resistance               0.0  1.0  1.0  \npara-aminosalicylic_acid_resistance  0.0  0.0  1.0  \ncycloserine_resistance               0.0  0.0  1.0  \nlinezolid_resistance                 0.0  0.0  1.0  \nbedaquiline_resistance               0.0  0.0  1.0  \nclofazimine_resistance               0.0  0.0  1.0  \ndelamanid_resistance                 0.0  0.0  1.0  ",
            "text/html": "<div>\n<style scoped>\n    .dataframe tbody tr th:only-of-type {\n        vertical-align: middle;\n    }\n\n    .dataframe tbody tr th {\n        vertical-align: top;\n    }\n\n    .dataframe thead th {\n        text-align: right;\n    }\n</style>\n<table border=\"1\" class=\"dataframe\">\n  <thead>\n    <tr style=\"text-align: right;\">\n      <th></th>\n      <th>count</th>\n      <th>mean</th>\n      <th>std</th>\n      <th>min</th>\n      <th>25%</th>\n      <th>50%</th>\n      <th>75%</th>\n      <th>max</th>\n    </tr>\n  </thead>\n  <tbody>\n    <tr>\n      <th>rifampicin_resistance</th>\n      <td>1223.0</td>\n      <td>0.604252</td>\n      <td>0.489211</td>\n      <td>0.0</td>\n      <td>0.0</td>\n      <td>1.0</td>\n      <td>1.0</td>\n      <td>1.0</td>\n    </tr>\n    <tr>\n      <th>isoniazid_resistance</th>\n      <td>1223.0</td>\n      <td>0.618152</td>\n      <td>0.486038</td>\n      <td>0.0</td>\n      <td>0.0</td>\n      <td>1.0</td>\n      <td>1.0</td>\n      <td>1.0</td>\n    </tr>\n    <tr>\n      <th>pyrazinamide_resistance</th>\n      <td>1223.0</td>\n      <td>0.407195</td>\n      <td>0.491513</td>\n      <td>0.0</td>\n      <td>0.0</td>\n      <td>0.0</td>\n      <td>1.0</td>\n      <td>1.0</td>\n    </tr>\n    <tr>\n      <th>ethambutol_resistance</th>\n      <td>1223.0</td>\n      <td>0.545380</td>\n      <td>0.498140</td>\n      <td>0.0</td>\n      <td>0.0</td>\n      <td>1.0</td>\n      <td>1.0</td>\n      <td>1.0</td>\n    </tr>\n    <tr>\n      <th>streptomycin_resistance</th>\n      <td>1223.0</td>\n      <td>0.567457</td>\n      <td>0.495631</td>\n      <td>0.0</td>\n      <td>0.0</td>\n      <td>1.0</td>\n      <td>1.0</td>\n      <td>1.0</td>\n    </tr>\n    <tr>\n      <th>fluoroquinolones_resistance</th>\n      <td>1223.0</td>\n      <td>0.318888</td>\n      <td>0.466236</td>\n      <td>0.0</td>\n      <td>0.0</td>\n      <td>0.0</td>\n      <td>1.0</td>\n      <td>1.0</td>\n    </tr>\n    <tr>\n      <th>moxifloxacin_resistance</th>\n      <td>1223.0</td>\n      <td>0.318888</td>\n      <td>0.466236</td>\n      <td>0.0</td>\n      <td>0.0</td>\n      <td>0.0</td>\n      <td>1.0</td>\n      <td>1.0</td>\n    </tr>\n    <tr>\n      <th>ofloxacin_resistance</th>\n      <td>1223.0</td>\n      <td>0.318888</td>\n      <td>0.466236</td>\n      <td>0.0</td>\n      <td>0.0</td>\n      <td>0.0</td>\n      <td>1.0</td>\n      <td>1.0</td>\n    </tr>\n    <tr>\n      <th>levofloxacin_resistance</th>\n      <td>1223.0</td>\n      <td>0.318888</td>\n      <td>0.466236</td>\n      <td>0.0</td>\n      <td>0.0</td>\n      <td>0.0</td>\n      <td>1.0</td>\n      <td>1.0</td>\n    </tr>\n    <tr>\n      <th>ciprofloxacin_resistance</th>\n      <td>1223.0</td>\n      <td>0.318888</td>\n      <td>0.466236</td>\n      <td>0.0</td>\n      <td>0.0</td>\n      <td>0.0</td>\n      <td>1.0</td>\n      <td>1.0</td>\n    </tr>\n    <tr>\n      <th>aminoglycosides_resistance</th>\n      <td>1223.0</td>\n      <td>0.152085</td>\n      <td>0.359250</td>\n      <td>0.0</td>\n      <td>0.0</td>\n      <td>0.0</td>\n      <td>0.0</td>\n      <td>1.0</td>\n    </tr>\n    <tr>\n      <th>amikacin_resistance</th>\n      <td>1223.0</td>\n      <td>0.152085</td>\n      <td>0.359250</td>\n      <td>0.0</td>\n      <td>0.0</td>\n      <td>0.0</td>\n      <td>0.0</td>\n      <td>1.0</td>\n    </tr>\n    <tr>\n      <th>kanamycin_resistance</th>\n      <td>1223.0</td>\n      <td>0.385119</td>\n      <td>0.486822</td>\n      <td>0.0</td>\n      <td>0.0</td>\n      <td>0.0</td>\n      <td>1.0</td>\n      <td>1.0</td>\n    </tr>\n    <tr>\n      <th>capreomycin_resistance</th>\n      <td>1223.0</td>\n      <td>0.174162</td>\n      <td>0.379404</td>\n      <td>0.0</td>\n      <td>0.0</td>\n      <td>0.0</td>\n      <td>0.0</td>\n      <td>1.0</td>\n    </tr>\n    <tr>\n      <th>ethionamide_resistance</th>\n      <td>1223.0</td>\n      <td>0.382666</td>\n      <td>0.486237</td>\n      <td>0.0</td>\n      <td>0.0</td>\n      <td>0.0</td>\n      <td>1.0</td>\n      <td>1.0</td>\n    </tr>\n    <tr>\n      <th>para-aminosalicylic_acid_resistance</th>\n      <td>1223.0</td>\n      <td>0.055601</td>\n      <td>0.229243</td>\n      <td>0.0</td>\n      <td>0.0</td>\n      <td>0.0</td>\n      <td>0.0</td>\n      <td>1.0</td>\n    </tr>\n    <tr>\n      <th>cycloserine_resistance</th>\n      <td>1223.0</td>\n      <td>0.035977</td>\n      <td>0.186309</td>\n      <td>0.0</td>\n      <td>0.0</td>\n      <td>0.0</td>\n      <td>0.0</td>\n      <td>1.0</td>\n    </tr>\n    <tr>\n      <th>linezolid_resistance</th>\n      <td>1223.0</td>\n      <td>0.002453</td>\n      <td>0.049487</td>\n      <td>0.0</td>\n      <td>0.0</td>\n      <td>0.0</td>\n      <td>0.0</td>\n      <td>1.0</td>\n    </tr>\n    <tr>\n      <th>bedaquiline_resistance</th>\n      <td>1223.0</td>\n      <td>0.000818</td>\n      <td>0.028595</td>\n      <td>0.0</td>\n      <td>0.0</td>\n      <td>0.0</td>\n      <td>0.0</td>\n      <td>1.0</td>\n    </tr>\n    <tr>\n      <th>clofazimine_resistance</th>\n      <td>1223.0</td>\n      <td>0.000818</td>\n      <td>0.028595</td>\n      <td>0.0</td>\n      <td>0.0</td>\n      <td>0.0</td>\n      <td>0.0</td>\n      <td>1.0</td>\n    </tr>\n    <tr>\n      <th>delamanid_resistance</th>\n      <td>1223.0</td>\n      <td>0.002453</td>\n      <td>0.049487</td>\n      <td>0.0</td>\n      <td>0.0</td>\n      <td>0.0</td>\n      <td>0.0</td>\n      <td>1.0</td>\n    </tr>\n  </tbody>\n</table>\n</div>"
          },
          "metadata": {}
        }
      ],
      "execution_count": 73,
      "metadata": {
        "collapsed": false,
        "pycharm": {
          "name": "#%%\n"
        },
        "gather": {
          "logged": 1604765156906
        }
      }
    },
    {
      "cell_type": "markdown",
      "source": [
        "#### Resistance and Sensitive genomes\n"
      ],
      "metadata": {
        "collapsed": false
      }
    },
    {
      "cell_type": "code",
      "source": [
        "binarized_resistance_status_train_df['Resistance_Status'].hist(figsize=(10,10))\n"
      ],
      "outputs": [
        {
          "output_type": "execute_result",
          "execution_count": 75,
          "data": {
            "text/plain": "<AxesSubplot:>"
          },
          "metadata": {}
        },
        {
          "output_type": "display_data",
          "data": {
            "text/plain": "<Figure size 720x720 with 1 Axes>",
            "image/png": "[encoded data removed]"
          },
          "metadata": {}
        }
      ],
      "execution_count": 75,
      "metadata": {
        "collapsed": false,
        "pycharm": {
          "name": "#%%\n"
        },
        "gather": {
          "logged": 1604765173219
        }
      }
    },
    {
      "cell_type": "code",
      "source": [
        "binarized_resistance_status_test_df['Resistance_Status'].hist(figsize=(10,10))\n"
      ],
      "outputs": [
        {
          "output_type": "execute_result",
          "execution_count": 76,
          "data": {
            "text/plain": "<AxesSubplot:>"
          },
          "metadata": {}
        },
        {
          "output_type": "display_data",
          "data": {
            "text/plain": "<Figure size 720x720 with 1 Axes>",
            "image/png": "[encoded data removed]"
          },
          "metadata": {}
        }
      ],
      "execution_count": 76,
      "metadata": {
        "collapsed": false,
        "pycharm": {
          "name": "#%%\n"
        },
        "gather": {
          "logged": 1604765181877
        }
      }
    },
    {
      "cell_type": "markdown",
      "source": [
        "#### Lineage distribution\n"
      ],
      "metadata": {
        "collapsed": false
      }
    },
    {
      "cell_type": "code",
      "source": [
        "binarized_resistance_status_train_df['main_lin'].hist(figsize=(10,10))\n"
      ],
      "outputs": [
        {
          "output_type": "execute_result",
          "execution_count": 77,
          "data": {
            "text/plain": "<AxesSubplot:>"
          },
          "metadata": {}
        },
        {
          "output_type": "display_data",
          "data": {
            "text/plain": "<Figure size 720x720 with 1 Axes>",
            "image/png": "[encoded data removed]"
          },
          "metadata": {}
        }
      ],
      "execution_count": 77,
      "metadata": {
        "gather": {
          "logged": 1604765192240
        }
      }
    },
    {
      "cell_type": "code",
      "source": [
        "binarized_resistance_status_test_df['main_lin'].hist(figsize=(10,10))\n"
      ],
      "outputs": [
        {
          "output_type": "execute_result",
          "execution_count": 78,
          "data": {
            "text/plain": "<AxesSubplot:>"
          },
          "metadata": {}
        },
        {
          "output_type": "display_data",
          "data": {
            "text/plain": "<Figure size 720x720 with 1 Axes>",
            "image/png": "[encoded data removed]"
          },
          "metadata": {}
        }
      ],
      "execution_count": 78,
      "metadata": {
        "collapsed": false,
        "pycharm": {
          "name": "#%%\n"
        },
        "gather": {
          "logged": 1604765206226
        }
      }
    },
    {
      "cell_type": "markdown",
      "source": [
        "#### Find the relationship between drtype and main_lin variables"
      ],
      "metadata": {
        "collapsed": false
      }
    },
    {
      "cell_type": "code",
      "source": [
        "binarized_resistance_status_train_df.groupby(['drtype','main_lin']).size()"
      ],
      "outputs": [
        {
          "output_type": "execute_result",
          "execution_count": 20,
          "data": {
            "text/plain": "drtype          main_lin         \nDrug-resistant  lineage2              30\n                lineage2;lineage4      1\n                lineage4              48\n                lineageBOV             1\nMDR             lineage2             261\n                lineage2;lineage3      1\n                lineage2;lineage4      5\n                lineage4             161\nSensitive       lineage2             125\n                lineage3               1\n                lineage4             296\nXDR             lineage2             170\n                lineage2;lineage4      6\n                lineage4             116\ndtype: int64"
          },
          "metadata": {}
        }
      ],
      "execution_count": 20,
      "metadata": {
        "collapsed": false,
        "pycharm": {
          "name": "#%%\n"
        }
      }
    },
    {
      "cell_type": "code",
      "source": [
        "binarized_resistance_status_test_df.groupby(['drtype','main_lin']).size()"
      ],
      "outputs": [
        {
          "output_type": "execute_result",
          "execution_count": 21,
          "data": {
            "text/plain": "drtype          main_lin         \nDrug-resistant  lineage1             14\n                lineage2             62\n                lineage3             11\n                lineage4             25\nMDR             lineage1              6\n                lineage2             74\n                lineage2;lineage4     6\n                lineage3             51\n                lineage4             38\nSensitive       lineage1             35\n                lineage2             66\n                lineage2;lineage4     2\n                lineage3              9\n                lineage4             49\nXDR             lineage1              1\n                lineage2             20\n                lineage2;lineage4     1\n                lineage3             25\n                lineage4              4\ndtype: int64"
          },
          "metadata": {}
        }
      ],
      "execution_count": 21,
      "metadata": {
        "collapsed": false,
        "pycharm": {
          "name": "#%%\n"
        }
      }
    },
    {
      "cell_type": "markdown",
      "source": [
        "#### Stacked Column Chart: visual form of the two-way table\n"
      ],
      "metadata": {
        "pycharm": {
          "name": "#%% md\n"
        }
      }
    },
    {
      "cell_type": "code",
      "source": [
        "# binarized_resistance_status_train_df.groupby(['drtype','sublin']).size()\n",
        "\n",
        "pd.crosstab(index= binarized_resistance_status_train_df['main_lin'], columns=binarized_resistance_status_train_df[\"Resistance_Status\"]).plot(kind=\"bar\", figsize=(8,8), stacked=True)"
      ],
      "outputs": [
        {
          "output_type": "execute_result",
          "execution_count": 79,
          "data": {
            "text/plain": "<AxesSubplot:xlabel='main_lin'>"
          },
          "metadata": {}
        },
        {
          "output_type": "display_data",
          "data": {
            "text/plain": "<Figure size 576x576 with 1 Axes>",
            "image/png": "[encoded data removed]"
          },
          "metadata": {}
        }
      ],
      "execution_count": 79,
      "metadata": {
        "collapsed": false,
        "pycharm": {
          "name": "#%%\n"
        },
        "gather": {
          "logged": 1604765215088
        }
      }
    },
    {
      "cell_type": "code",
      "source": [
        "pd.crosstab(index= binarized_resistance_status_test_df['main_lin'], columns=binarized_resistance_status_test_df[\"Resistance_Status\"]).plot(kind=\"bar\", figsize=(8,8), stacked=True)"
      ],
      "outputs": [
        {
          "output_type": "execute_result",
          "execution_count": 80,
          "data": {
            "text/plain": "<AxesSubplot:xlabel='main_lin'>"
          },
          "metadata": {}
        },
        {
          "output_type": "display_data",
          "data": {
            "text/plain": "<Figure size 576x576 with 1 Axes>",
            "image/png": "[encoded data removed]"
          },
          "metadata": {}
        }
      ],
      "execution_count": 80,
      "metadata": {
        "collapsed": false,
        "pycharm": {
          "name": "#%%\n"
        },
        "gather": {
          "logged": 1604765223513
        }
      }
    },
    {
      "cell_type": "markdown",
      "source": [
        "## EDA for genomic pre-processing results\n"
      ],
      "metadata": {
        "pycharm": {
          "name": "#%% md\n"
        }
      }
    },
    {
      "cell_type": "markdown",
      "source": [
        "## Impact of PCA"
      ],
      "metadata": {
        "collapsed": false,
        "pycharm": {
          "name": "#%% md\n"
        }
      }
    },
    {
      "cell_type": "code",
      "source": [
        "import pandas as pd\n",
        "\n",
        "import warnings\n",
        "warnings.filterwarnings('ignore')\n",
        "\n",
        "\n",
        "import h2o\n",
        "h2o.init(min_mem_size='27G')\n",
        "\n"
      ],
      "outputs": [
        {
          "output_type": "stream",
          "name": "stdout",
          "text": [
            "Checking whether there is an H2O instance running at http://localhost:54321 ..... not found.\n",
            "Attempting to start a local H2O server...\n",
            "  Java Version: openjdk version \"1.8.0_265\"; OpenJDK Runtime Environment (build 1.8.0_265-8u265-b01-0ubuntu2~16.04-b01); OpenJDK 64-Bit Server VM (build 25.265-b01, mixed mode)\n",
            "  Starting server from /anaconda/envs/azureml_py36/lib/python3.6/site-packages/h2o/backend/bin/h2o.jar\n",
            "  Ice root: /tmp/tmp5daqopuh\n",
            "  JVM stdout: /tmp/tmp5daqopuh/h2o_azureuser_started_from_python.out\n",
            "  JVM stderr: /tmp/tmp5daqopuh/h2o_azureuser_started_from_python.err\n",
            "  Server is running at http://127.0.0.1:54321\n",
            "Connecting to H2O server at http://127.0.0.1:54321 ... successful.\n",
            "Warning: Your H2O cluster version is too old (5 months and 5 days)! Please download and install the latest version from http://h2o.ai/download/\n"
          ]
        },
        {
          "output_type": "display_data",
          "data": {
            "text/plain": "--------------------------  ------------------------------------------------------------------\nH2O_cluster_uptime:         11 secs\nH2O_cluster_timezone:       Etc/UTC\nH2O_data_parsing_timezone:  UTC\nH2O_cluster_version:        3.30.0.4\nH2O_cluster_version_age:    5 months and 5 days !!!\nH2O_cluster_name:           H2O_from_python_azureuser_msv0eq\nH2O_cluster_total_nodes:    1\nH2O_cluster_free_memory:    25.88 Gb\nH2O_cluster_total_cores:    4\nH2O_cluster_allowed_cores:  4\nH2O_cluster_status:         accepting new members, healthy\nH2O_connection_url:         http://127.0.0.1:54321\nH2O_connection_proxy:       {\"http\": null, \"https\": null}\nH2O_internal_security:      False\nH2O_API_Extensions:         Amazon S3, XGBoost, Algos, AutoML, Core V3, TargetEncoder, Core V4\nPython_version:             3.6.9 final\n--------------------------  ------------------------------------------------------------------",
            "text/html": "<div style=\"overflow:auto\"><table style=\"width:50%\"><tr><td>H2O_cluster_uptime:</td>\n<td>11 secs</td></tr>\n<tr><td>H2O_cluster_timezone:</td>\n<td>Etc/UTC</td></tr>\n<tr><td>H2O_data_parsing_timezone:</td>\n<td>UTC</td></tr>\n<tr><td>H2O_cluster_version:</td>\n<td>3.30.0.4</td></tr>\n<tr><td>H2O_cluster_version_age:</td>\n<td>5 months and 5 days !!!</td></tr>\n<tr><td>H2O_cluster_name:</td>\n<td>H2O_from_python_azureuser_msv0eq</td></tr>\n<tr><td>H2O_cluster_total_nodes:</td>\n<td>1</td></tr>\n<tr><td>H2O_cluster_free_memory:</td>\n<td>25.88 Gb</td></tr>\n<tr><td>H2O_cluster_total_cores:</td>\n<td>4</td></tr>\n<tr><td>H2O_cluster_allowed_cores:</td>\n<td>4</td></tr>\n<tr><td>H2O_cluster_status:</td>\n<td>accepting new members, healthy</td></tr>\n<tr><td>H2O_connection_url:</td>\n<td>http://127.0.0.1:54321</td></tr>\n<tr><td>H2O_connection_proxy:</td>\n<td>{\"http\": null, \"https\": null}</td></tr>\n<tr><td>H2O_internal_security:</td>\n<td>False</td></tr>\n<tr><td>H2O_API_Extensions:</td>\n<td>Amazon S3, XGBoost, Algos, AutoML, Core V3, TargetEncoder, Core V4</td></tr>\n<tr><td>Python_version:</td>\n<td>3.6.9 final</td></tr></table></div>"
          },
          "metadata": {}
        }
      ],
      "execution_count": 2,
      "metadata": {
        "collapsed": false,
        "pycharm": {
          "name": "#%%\n"
        },
        "gather": {
          "logged": 1604757152129
        }
      }
    },
    {
      "cell_type": "code",
      "source": [
        "binarized_final_df = h2o.import_file(\"../data/processed/final.binarized_final_monolabel_df.tsv\")\n",
        "binarized_final_df.head()"
      ],
      "outputs": [],
      "execution_count": null,
      "metadata": {
        "collapsed": false,
        "pycharm": {
          "name": "#%%\n"
        }
      }
    },
    {
      "cell_type": "code",
      "source": [
        "\n",
        "train = h2o.import_file(\"../data/processed/final.train.tsv\")\n",
        "train.head()"
      ],
      "outputs": [],
      "execution_count": null,
      "metadata": {
        "collapsed": false,
        "pycharm": {
          "name": "#%%\n"
        }
      }
    },
    {
      "cell_type": "code",
      "source": [
        "\n",
        "test = h2o.import_file(\"../data/processed/final.test.tsv\")\n",
        "test.head()"
      ],
      "outputs": [],
      "execution_count": null,
      "metadata": {
        "collapsed": false,
        "pycharm": {
          "name": "#%%\n"
        }
      }
    },
    {
      "cell_type": "code",
      "source": [
        "# Identify predictors and response\n",
        "train_predictor_cols = train.columns\n",
        "train_response_col = \"Resistance_Status\"\n",
        "train_predictor_cols.remove('SampleID')\n",
        "train_predictor_cols.remove(train_response_col)\n",
        "print(\"train frame - predictor column: \", train_predictor_cols[0], train_predictor_cols[-1])\n",
        "print(\"train frame - response column: \", train_response_col)\n",
        "\n",
        "\n",
        "\n",
        "# Identify predictors and response\n",
        "test_predictor_cols = test.columns\n",
        "test_response_col = \"Resistance_Status\"\n",
        "test_predictor_cols.remove('SampleID')\n",
        "test_predictor_cols.remove(test_response_col)\n",
        "print(\"test frame - predictor columns: \", test_predictor_cols[0], test_predictor_cols[-1])\n",
        "print(\"test frame - response column: \", test_response_col)"
      ],
      "outputs": [],
      "execution_count": null,
      "metadata": {
        "collapsed": false,
        "pycharm": {
          "name": "#%%\n"
        }
      }
    },
    {
      "cell_type": "code",
      "source": [
        "# For binary classification, response should be a factor\n",
        "train[train_response_col] = train[train_response_col].asfactor()\n",
        "test[test_response_col] = test[test_response_col].asfactor()\n",
        "\n",
        "x = train_predictor_cols\n",
        "y = train_response_col"
      ],
      "outputs": [],
      "execution_count": null,
      "metadata": {
        "collapsed": false,
        "pycharm": {
          "name": "#%%\n"
        }
      }
    },
    {
      "cell_type": "code",
      "source": [
        "from h2o.estimators import H2OPrincipalComponentAnalysisEstimator\n",
        "\n",
        "my_pca = H2OPrincipalComponentAnalysisEstimator(\n",
        "                                                   k = 400,\n",
        "                                                #    pca_method = \"gram_s_v_d\",\n",
        "\n",
        "                                                   # use_all_factor_levels = True,\n",
        "                                                   # pca_method = \"glrm\",\n",
        ")\n",
        "\n",
        "my_pca.train(x=x, y=y, training_frame=binarized_final_df)\n"
      ],
      "outputs": [],
      "execution_count": null,
      "metadata": {
        "collapsed": false,
        "pycharm": {
          "name": "#%%\n"
        }
      }
    },
    {
      "cell_type": "code",
      "source": [
        "# save the model\n",
        "# model_path = h2o.save_model(model= my_pca, path=\"../models/my_pca_model\", force=True)\n",
        "\n",
        "# print(model_path)\n",
        "model_path = \"../../models/ALL_FEATURES/my_pca_model/PCA_model_python_1603962989759_1_k300\"\n",
        "\n",
        "# load the model\n",
        "pca300 = h2o.load_model(model_path)\n",
        "\n",
        "# download the model built above to your local machine\n",
        "# my_local_model = h2o.download_model(my_rf, path=\"../data/processed/my_rf_model\")\n",
        "\n",
        "# upload the model that you just downloded above\n",
        "# to the H2O cluster\n",
        "# uploaded_model = h2o.upload_model(my_local_model)"
      ],
      "outputs": [],
      "execution_count": 3,
      "metadata": {
        "collapsed": false,
        "pycharm": {
          "name": "#%%\n"
        },
        "gather": {
          "logged": 1604757955097
        }
      }
    },
    {
      "cell_type": "code",
      "source": [
        "pca300.show()"
      ],
      "outputs": [
        {
          "output_type": "stream",
          "name": "stdout",
          "text": [
            "Model Details\n",
            "=============\n",
            "H2OPrincipalComponentAnalysisEstimator :  Principal Components Analysis\n",
            "Model Key:  PCA_model_python_1603962989759_1\n",
            "\n",
            "\n",
            "Importance of components: \n",
            "\n",
            "\n",
            "ModelMetricsPCA: pca\n",
            "** Reported on train data. **\n",
            "\n",
            "MSE: NaN\n",
            "RMSE: NaN\n",
            "\n",
            "Scoring History for GramSVD: \n"
          ]
        },
        {
          "output_type": "display_data",
          "data": {
            "text/plain": "                                pc1       pc2       pc3       pc4       pc5  \\\n0      Standard deviation  8.748536  4.715628  3.877237  3.107335  2.784571   \n1  Proportion of Variance  0.319086  0.092708  0.062673  0.040254  0.032326   \n2   Cumulative Proportion  0.319086  0.411794  0.474467  0.514722  0.547048   \n\n        pc6       pc7       pc8       pc9    ...        pc291     pc292  \\\n0  2.583031  2.371838  1.989349  1.914256    ...     0.241208  0.240459   \n1  0.027816  0.023453  0.016499  0.015277    ...     0.000243  0.000241   \n2  0.574864  0.598318  0.614817  0.630094    ...     0.931150  0.931391   \n\n      pc293     pc294     pc295     pc296     pc297     pc298     pc299  \\\n0  0.239932  0.239419  0.238373  0.237840  0.237656  0.237487  0.236259   \n1  0.000240  0.000239  0.000237  0.000236  0.000235  0.000235  0.000233   \n2  0.931631  0.931870  0.932107  0.932342  0.932578  0.932813  0.933046   \n\n      pc300  \n0  0.236189  \n1  0.000233  \n2  0.933278  \n\n[3 rows x 301 columns]",
            "text/html": "<div>\n<style scoped>\n    .dataframe tbody tr th:only-of-type {\n        vertical-align: middle;\n    }\n\n    .dataframe tbody tr th {\n        vertical-align: top;\n    }\n\n    .dataframe thead th {\n        text-align: right;\n    }\n</style>\n<table border=\"1\" class=\"dataframe\">\n  <thead>\n    <tr style=\"text-align: right;\">\n      <th></th>\n      <th></th>\n      <th>pc1</th>\n      <th>pc2</th>\n      <th>pc3</th>\n      <th>pc4</th>\n      <th>pc5</th>\n      <th>pc6</th>\n      <th>pc7</th>\n      <th>pc8</th>\n      <th>pc9</th>\n      <th>...</th>\n      <th>pc291</th>\n      <th>pc292</th>\n      <th>pc293</th>\n      <th>pc294</th>\n      <th>pc295</th>\n      <th>pc296</th>\n      <th>pc297</th>\n      <th>pc298</th>\n      <th>pc299</th>\n      <th>pc300</th>\n    </tr>\n  </thead>\n  <tbody>\n    <tr>\n      <th>0</th>\n      <td>Standard deviation</td>\n      <td>8.748536</td>\n      <td>4.715628</td>\n      <td>3.877237</td>\n      <td>3.107335</td>\n      <td>2.784571</td>\n      <td>2.583031</td>\n      <td>2.371838</td>\n      <td>1.989349</td>\n      <td>1.914256</td>\n      <td>...</td>\n      <td>0.241208</td>\n      <td>0.240459</td>\n      <td>0.239932</td>\n      <td>0.239419</td>\n      <td>0.238373</td>\n      <td>0.237840</td>\n      <td>0.237656</td>\n      <td>0.237487</td>\n      <td>0.236259</td>\n      <td>0.236189</td>\n    </tr>\n    <tr>\n      <th>1</th>\n      <td>Proportion of Variance</td>\n      <td>0.319086</td>\n      <td>0.092708</td>\n      <td>0.062673</td>\n      <td>0.040254</td>\n      <td>0.032326</td>\n      <td>0.027816</td>\n      <td>0.023453</td>\n      <td>0.016499</td>\n      <td>0.015277</td>\n      <td>...</td>\n      <td>0.000243</td>\n      <td>0.000241</td>\n      <td>0.000240</td>\n      <td>0.000239</td>\n      <td>0.000237</td>\n      <td>0.000236</td>\n      <td>0.000235</td>\n      <td>0.000235</td>\n      <td>0.000233</td>\n      <td>0.000233</td>\n    </tr>\n    <tr>\n      <th>2</th>\n      <td>Cumulative Proportion</td>\n      <td>0.319086</td>\n      <td>0.411794</td>\n      <td>0.474467</td>\n      <td>0.514722</td>\n      <td>0.547048</td>\n      <td>0.574864</td>\n      <td>0.598318</td>\n      <td>0.614817</td>\n      <td>0.630094</td>\n      <td>...</td>\n      <td>0.931150</td>\n      <td>0.931391</td>\n      <td>0.931631</td>\n      <td>0.931870</td>\n      <td>0.932107</td>\n      <td>0.932342</td>\n      <td>0.932578</td>\n      <td>0.932813</td>\n      <td>0.933046</td>\n      <td>0.933278</td>\n    </tr>\n  </tbody>\n</table>\n<p>3 rows × 301 columns</p>\n</div>"
          },
          "metadata": {}
        },
        {
          "output_type": "display_data",
          "data": {
            "text/plain": "               timestamp           duration  iterations\n0    2020-10-29 09:44:18  26 min 37.862 sec         0.0",
            "text/html": "<div>\n<style scoped>\n    .dataframe tbody tr th:only-of-type {\n        vertical-align: middle;\n    }\n\n    .dataframe tbody tr th {\n        vertical-align: top;\n    }\n\n    .dataframe thead th {\n        text-align: right;\n    }\n</style>\n<table border=\"1\" class=\"dataframe\">\n  <thead>\n    <tr style=\"text-align: right;\">\n      <th></th>\n      <th></th>\n      <th>timestamp</th>\n      <th>duration</th>\n      <th>iterations</th>\n    </tr>\n  </thead>\n  <tbody>\n    <tr>\n      <th>0</th>\n      <td></td>\n      <td>2020-10-29 09:44:18</td>\n      <td>26 min 37.862 sec</td>\n      <td>0.0</td>\n    </tr>\n  </tbody>\n</table>\n</div>"
          },
          "metadata": {}
        }
      ],
      "execution_count": 5,
      "metadata": {
        "collapsed": false,
        "pycharm": {
          "name": "#%%\n"
        },
        "gather": {
          "logged": 1604757955782
        }
      }
    },
    {
      "cell_type": "code",
      "source": [
        "pca300_df = pca300.summary().as_data_frame().set_index(\"\")\n",
        "pca300_df"
      ],
      "outputs": [
        {
          "output_type": "execute_result",
          "execution_count": 19,
          "data": {
            "text/plain": "                             pc1       pc2       pc3       pc4       pc5  \\\n                                                                           \nStandard deviation      8.748536  4.715628  3.877237  3.107335  2.784571   \nProportion of Variance  0.319086  0.092708  0.062673  0.040254  0.032326   \nCumulative Proportion   0.319086  0.411794  0.474467  0.514722  0.547048   \n\n                             pc6       pc7       pc8       pc9      pc10  \\\n                                                                           \nStandard deviation      2.583031  2.371838  1.989349  1.914256  1.835004   \nProportion of Variance  0.027816  0.023453  0.016499  0.015277  0.014038   \nCumulative Proportion   0.574864  0.598318  0.614817  0.630094  0.644132   \n\n                          ...        pc291     pc292     pc293     pc294  \\\n                          ...                                              \nStandard deviation        ...     0.241208  0.240459  0.239932  0.239419   \nProportion of Variance    ...     0.000243  0.000241  0.000240  0.000239   \nCumulative Proportion     ...     0.931150  0.931391  0.931631  0.931870   \n\n                           pc295     pc296     pc297     pc298     pc299  \\\n                                                                           \nStandard deviation      0.238373  0.237840  0.237656  0.237487  0.236259   \nProportion of Variance  0.000237  0.000236  0.000235  0.000235  0.000233   \nCumulative Proportion   0.932107  0.932342  0.932578  0.932813  0.933046   \n\n                           pc300  \n                                  \nStandard deviation      0.236189  \nProportion of Variance  0.000233  \nCumulative Proportion   0.933278  \n\n[3 rows x 300 columns]",
            "text/html": "<div>\n<style scoped>\n    .dataframe tbody tr th:only-of-type {\n        vertical-align: middle;\n    }\n\n    .dataframe tbody tr th {\n        vertical-align: top;\n    }\n\n    .dataframe thead th {\n        text-align: right;\n    }\n</style>\n<table border=\"1\" class=\"dataframe\">\n  <thead>\n    <tr style=\"text-align: right;\">\n      <th></th>\n      <th>pc1</th>\n      <th>pc2</th>\n      <th>pc3</th>\n      <th>pc4</th>\n      <th>pc5</th>\n      <th>pc6</th>\n      <th>pc7</th>\n      <th>pc8</th>\n      <th>pc9</th>\n      <th>pc10</th>\n      <th>...</th>\n      <th>pc291</th>\n      <th>pc292</th>\n      <th>pc293</th>\n      <th>pc294</th>\n      <th>pc295</th>\n      <th>pc296</th>\n      <th>pc297</th>\n      <th>pc298</th>\n      <th>pc299</th>\n      <th>pc300</th>\n    </tr>\n    <tr>\n      <th></th>\n      <th></th>\n      <th></th>\n      <th></th>\n      <th></th>\n      <th></th>\n      <th></th>\n      <th></th>\n      <th></th>\n      <th></th>\n      <th></th>\n      <th></th>\n      <th></th>\n      <th></th>\n      <th></th>\n      <th></th>\n      <th></th>\n      <th></th>\n      <th></th>\n      <th></th>\n      <th></th>\n      <th></th>\n    </tr>\n  </thead>\n  <tbody>\n    <tr>\n      <th>Standard deviation</th>\n      <td>8.748536</td>\n      <td>4.715628</td>\n      <td>3.877237</td>\n      <td>3.107335</td>\n      <td>2.784571</td>\n      <td>2.583031</td>\n      <td>2.371838</td>\n      <td>1.989349</td>\n      <td>1.914256</td>\n      <td>1.835004</td>\n      <td>...</td>\n      <td>0.241208</td>\n      <td>0.240459</td>\n      <td>0.239932</td>\n      <td>0.239419</td>\n      <td>0.238373</td>\n      <td>0.237840</td>\n      <td>0.237656</td>\n      <td>0.237487</td>\n      <td>0.236259</td>\n      <td>0.236189</td>\n    </tr>\n    <tr>\n      <th>Proportion of Variance</th>\n      <td>0.319086</td>\n      <td>0.092708</td>\n      <td>0.062673</td>\n      <td>0.040254</td>\n      <td>0.032326</td>\n      <td>0.027816</td>\n      <td>0.023453</td>\n      <td>0.016499</td>\n      <td>0.015277</td>\n      <td>0.014038</td>\n      <td>...</td>\n      <td>0.000243</td>\n      <td>0.000241</td>\n      <td>0.000240</td>\n      <td>0.000239</td>\n      <td>0.000237</td>\n      <td>0.000236</td>\n      <td>0.000235</td>\n      <td>0.000235</td>\n      <td>0.000233</td>\n      <td>0.000233</td>\n    </tr>\n    <tr>\n      <th>Cumulative Proportion</th>\n      <td>0.319086</td>\n      <td>0.411794</td>\n      <td>0.474467</td>\n      <td>0.514722</td>\n      <td>0.547048</td>\n      <td>0.574864</td>\n      <td>0.598318</td>\n      <td>0.614817</td>\n      <td>0.630094</td>\n      <td>0.644132</td>\n      <td>...</td>\n      <td>0.931150</td>\n      <td>0.931391</td>\n      <td>0.931631</td>\n      <td>0.931870</td>\n      <td>0.932107</td>\n      <td>0.932342</td>\n      <td>0.932578</td>\n      <td>0.932813</td>\n      <td>0.933046</td>\n      <td>0.933278</td>\n    </tr>\n  </tbody>\n</table>\n<p>3 rows × 300 columns</p>\n</div>"
          },
          "metadata": {}
        }
      ],
      "execution_count": 19,
      "metadata": {
        "collapsed": false,
        "pycharm": {
          "name": "#%%\n"
        },
        "gather": {
          "logged": 1604759582390
        }
      }
    },
    {
      "cell_type": "code",
      "source": [
        "a4_dims = (15, 10)\r\n",
        "fig, ax = pyplot.subplots(figsize=a4_dims)\r\n",
        "ax.set_xticks([49,99,149, 199, 249, 299])\r\n",
        "sns.lineplot(ax=ax, data= pca300_df.loc['Cumulative Proportion'])\r\n"
      ],
      "outputs": [
        {
          "output_type": "execute_result",
          "execution_count": 81,
          "data": {
            "text/plain": "<AxesSubplot:ylabel='Cumulative Proportion'>"
          },
          "metadata": {}
        },
        {
          "output_type": "display_data",
          "data": {
            "text/plain": "<Figure size 1080x720 with 1 Axes>",
            "image/png": "[encoded data removed]"
          },
          "metadata": {}
        }
      ],
      "execution_count": 81,
      "metadata": {
        "collapsed": true,
        "jupyter": {
          "source_hidden": false,
          "outputs_hidden": false
        },
        "nteract": {
          "transient": {
            "deleting": false
          }
        },
        "gather": {
          "logged": 1604765239235
        }
      }
    },
    {
      "cell_type": "markdown",
      "source": [
        "# Save the PCA dataframe"
      ],
      "metadata": {
        "collapsed": false
      }
    },
    {
      "cell_type": "code",
      "source": [
        "# Generate predictions\n",
        "train_pca = my_pca.predict(train)\n",
        "h2o.export_file(frame=train_pca, path=\"../data/processed/final.train.pca300.tsv\", force=True)\n",
        "train_pca.head()\n",
        "\n"
      ],
      "outputs": [],
      "execution_count": null,
      "metadata": {
        "collapsed": false,
        "pycharm": {
          "name": "#%%\n"
        }
      }
    },
    {
      "cell_type": "code",
      "source": [
        "# Generate predictions\n",
        "test_pca = my_pca.predict(test)\n",
        "h2o.export_file(frame=test_pca, path=\"../data/processed/final.test.pca300.tsv\", force=True)\n",
        "test_pca.head()\n"
      ],
      "outputs": [],
      "execution_count": null,
      "metadata": {
        "collapsed": false,
        "pycharm": {
          "name": "#%%\n"
        }
      }
    }
  ],
  "metadata": {
    "kernelspec": {
      "name": "python3-azureml",
      "language": "python",
      "display_name": "Python 3.6 - AzureML"
    },
    "language_info": {
      "name": "python",
      "version": "3.6.9",
      "mimetype": "text/x-python",
      "codemirror_mode": {
        "name": "ipython",
        "version": 3
      },
      "pygments_lexer": "ipython3",
      "nbconvert_exporter": "python",
      "file_extension": ".py"
    },
    "kernel_info": {
      "name": "python3-azureml"
    },
    "nteract": {
      "version": "nteract-front-end@1.0.0"
    }
  },
  "nbformat": 4,
  "nbformat_minor": 1
}