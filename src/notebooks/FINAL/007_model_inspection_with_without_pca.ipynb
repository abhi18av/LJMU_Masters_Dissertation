{
  "cells": [
    {
      "cell_type": "markdown",
      "source": [
        "## Models trained on ALL_FEATURES"
      ],
      "metadata": {
        "nteract": {
          "transient": {
            "deleting": false
          }
        }
      }
    },
    {
      "cell_type": "code",
      "source": [
        "top_nb = h2o.load_model(MODELS_LOCATION + \"FINAL/top_nb/NaiveBayes_model_python_1604923471176_225\")\r\n",
        "top_glm =  h2o.load_model(MODELS_LOCATION + \"FINAL/top_glm/GLM_model_python_1604923471176_393\")\r\n",
        "top_gbm = h2o.load_model(MODELS_LOCATION + \"FINAL/top_gbm/GBM_model_python_1604923471176_413\")\r\n",
        "top_xgb = h2o.load_model(MODELS_LOCATION + \"FINAL/top_xgb/XGBoost_model_python_1604923471176_641\")\r\n",
        "top_dl = h2o.load_model(MODELS_LOCATION + \"FINAL/top_dl/DeepLearning_model_python_1604930735703_113\")\r\n",
        "top_drf = h2o.load_model(MODELS_LOCATION + \"FINAL/top_drf/DRF_model_python_1604930735703_145\")\r\n",
        "\r\n",
        "\r\n"
      ],
      "outputs": [],
      "execution_count": null,
      "metadata": {}
    },
    {
      "cell_type": "code",
      "source": [
        "top_ensemble_ALL_MODELS_METALEARNER_auto:\r\n",
        "stacked_ensemble_metalearner_auto\r\n",
        "\r\n",
        "top_ensemble_ALL_MODELS_METALEARNER_deeplearning:\r\n",
        "stacked_ensemble_metalearner_deeplearning\r\n",
        "\r\n",
        "top_ensemble_ALL_MODELS_METALEARNER_drf:\r\n",
        "stacked_ensemble_metalearner_drf\r\n",
        "\r\n",
        "top_ensemble_ALL_MODELS_METALEARNER_gbm:\r\n",
        "stacked_ensemble_metalearner_gbm\r\n",
        "\r\n",
        "top_ensemble_ALL_MODELS_METALEARNER_glm:\r\n",
        "stacked_ensemble_metalearner_glm\r\n",
        "\r\n",
        "top_ensemble_ALL_MODELS_METALEARNER_naivebayes:\r\n",
        "stacked_ensemble_metalearner_naivebayes\r\n",
        "\r\n",
        "top_ensemble_ALL_MODELS_METALEARNER_xgboost:\r\n",
        "stacked_ensemble_metalearner_xgboost\r\n",
        "\r\n",
        "top_ensemble_ALL_MODELS_MTLNR_auto:\r\n",
        "StackedEnsemble_model_python_1604937120558_589\r\n",
        "\r\n",
        "top_ensemble_CHECKPOINT_MODELS_METALEARNER_auto:\r\n",
        "stacked_ensemble_metalearner_auto\r\n",
        "\r\n",
        "top_ensemble_CHECKPOINT_MODELS_METALEARNER_deeplearning:\r\n",
        "stacked_ensemble_metalearner_deeplearning\r\n",
        "\r\n",
        "top_ensemble_CHECKPOINT_MODELS_METALEARNER_drf:\r\n",
        "stacked_ensemble_metalearner_drf\r\n",
        "\r\n",
        "top_ensemble_CHECKPOINT_MODELS_METALEARNER_gbm:\r\n",
        "stacked_ensemble_metalearner_gbm\r\n",
        "\r\n",
        "top_ensemble_CHECKPOINT_MODELS_METALEARNER_glm:\r\n",
        "stacked_ensemble_metalearner_glm\r\n",
        "\r\n",
        "top_ensemble_CHECKPOINT_MODELS_METALEARNER_naivebayes:\r\n",
        "stacked_ensemble_metalearner_naivebayes\r\n",
        "\r\n",
        "top_ensemble_CHECKPOINT_MODELS_METALEARNER_xgboost:\r\n",
        "stacked_ensemble_metalearner_xgboost\r\n",
        "\r\n",
        "top_ensemble_CHECKPOINT_MODELS_MTLNR_auto:\r\n",
        "StackedEnsemble_model_python_1604937120558_594"
      ],
      "outputs": [],
      "execution_count": null,
      "metadata": {
        "collapsed": true,
        "jupyter": {
          "source_hidden": false,
          "outputs_hidden": false
        },
        "nteract": {
          "transient": {
            "deleting": false
          }
        }
      }
    },
    {
      "cell_type": "markdown",
      "source": [
        "## Models trained on PCA300 Features"
      ],
      "metadata": {
        "nteract": {
          "transient": {
            "deleting": false
          }
        }
      }
    }
  ],
  "metadata": {
    "kernelspec": {
      "name": "python3-azureml",
      "language": "python",
      "display_name": "Python 3.6 - AzureML"
    },
    "language_info": {
      "name": "python",
      "version": "3.6.9",
      "mimetype": "text/x-python",
      "codemirror_mode": {
        "name": "ipython",
        "version": 3
      },
      "pygments_lexer": "ipython3",
      "nbconvert_exporter": "python",
      "file_extension": ".py"
    },
    "kernel_info": {
      "name": "python3-azureml"
    },
    "nteract": {
      "version": "nteract-front-end@1.0.0"
    }
  },
  "nbformat": 4,
  "nbformat_minor": 2
}