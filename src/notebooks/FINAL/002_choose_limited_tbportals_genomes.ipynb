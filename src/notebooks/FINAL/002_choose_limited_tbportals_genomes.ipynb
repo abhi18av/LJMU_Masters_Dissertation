{
  "cells": [
    {
      "cell_type": "markdown",
      "source": [
        "# Reduce the sample size.\n",
        "\n",
        "In this notebook, we reduce the sample size to make the analysis more approachable using average infrastructure."
      ],
      "metadata": {
        "collapsed": false,
        "pycharm": {
          "name": "#%% md\n"
        }
      }
    },
    {
      "cell_type": "code",
      "source": [
        "from __future__ import print_function\n",
        "import pandas as pd\n",
        "import seaborn as sns\n",
        "from matplotlib import pyplot\n",
        "import matplotlib\n",
        "\n",
        "import warnings\n",
        "warnings.filterwarnings('ignore')\n",
        "sns.set_style(\"darkgrid\")\n",
        "\n",
        "sns.set_context('paper')\n",
        "\n",
        "\n",
        "\n",
        "import pandas as pd\n",
        "\n",
        "data_location = \"../../data/raw/\""
      ],
      "outputs": [],
      "execution_count": 35,
      "metadata": {
        "pycharm": {
          "name": "#%%\n"
        },
        "gather": {
          "logged": 1604764776576
        }
      }
    },
    {
      "cell_type": "markdown",
      "source": [
        "## TSV derived from the VCF dataset"
      ],
      "metadata": {
        "nteract": {
          "transient": {
            "deleting": false
          }
        }
      }
    },
    {
      "cell_type": "code",
      "source": [
        "# For a cohort of 2749 samples (TB-portals + HTBC)\r\n",
        "\r\n",
        "# ROWS - inclusion of INDELS lead to 96633 more data points\r\n",
        "# cat cohort.bqsr.filter.snps.tsv  | wc -l => 356154\r\n",
        "# cat cohort.bqsr.filter.snps.indels.tsv  | wc -l => 452787\r\n",
        "\r\n",
        "# In the reduced dataset 1726 samples\r\n",
        "# cat final.cohort.bqsr.filter.snps.tsv | wc -l => 142327\r\n",
        "\r\n",
        "# In the final filtered dataset for 1726 samples\r\n",
        "# head -1 final.binarized_final_monolabel_df.tsv | sed 's/[^\\t]//g'| wc -c => 52684"
      ],
      "outputs": [],
      "execution_count": 2,
      "metadata": {
        "collapsed": true,
        "jupyter": {
          "source_hidden": false,
          "outputs_hidden": false
        },
        "nteract": {
          "transient": {
            "deleting": false
          }
        },
        "gather": {
          "logged": 1604754405160
        }
      }
    },
    {
      "cell_type": "code",
      "source": [
        "\r\n",
        "\r\n",
        "a4_dims = (15, 10)\r\n",
        "fig, ax = pyplot.subplots(figsize=a4_dims) \r\n",
        "sns.barplot(ax=ax, x=['cohort.bqsr.filter.snps.indels.tsv', 'cohort.bqsr.filter.snps.tsv', 'final.cohort.bqsr.filter.snps.tsv', 'final.binarized_final_monolabel_df.tsv' ], y=[452787, 356154, 142327, 52684 ]);\r\n",
        " \r\n"
      ],
      "outputs": [
        {
          "output_type": "display_data",
          "data": {
            "text/plain": "<Figure size 1080x720 with 1 Axes>",
            "image/png": "[encoded data removed]"
          },
          "metadata": {}
        }
      ],
      "execution_count": 61,
      "metadata": {
        "collapsed": true,
        "jupyter": {
          "source_hidden": false,
          "outputs_hidden": false
        },
        "nteract": {
          "transient": {
            "deleting": false
          }
        },
        "gather": {
          "logged": 1604764959941
        }
      }
    },
    {
      "cell_type": "markdown",
      "source": [
        "### Tb-profiler dataset"
      ],
      "metadata": {
        "nteract": {
          "transient": {
            "deleting": false
          }
        }
      }
    },
    {
      "cell_type": "code",
      "source": [
        "# Read and transpose the cohort tbprofile file for ALL TB-portals + HTBC Genomes with SampleID as index\n",
        "\n",
        "\n",
        "tbprofiler_df = pd.read_json(data_location + \"cohort.tbprofiler.json\", encoding=\"UTF-8\")\n",
        "tbprofiler_df = tbprofiler_df.transpose()\n",
        "tbprofiler_df.head()\n"
      ],
      "outputs": [
        {
          "output_type": "execute_result",
          "execution_count": 38,
          "data": {
            "text/plain": "          MDR XDR amikacin aminoglycosides bedaquiline capreomycin  \\\nERR027458   R            -               -           -           -   \nERR027459                -               -           -           -   \nERR027460                -               -           -           -   \nERR027461                -               -           -           -   \nERR027462                -               -           -           -   \n\n          ciprofloxacin clofazimine cycloserine delamanid      ...       \\\nERR027458             -           -           -         -      ...        \nERR027459             -           -           -         -      ...        \nERR027460             -           -           -         -      ...        \nERR027461             -           -           -         -      ...        \nERR027462             -           -           -         -      ...        \n\n          levofloxacin linezolid  main_lin moxifloxacin ofloxacin  \\\nERR027458            -         -  lineage2            -         -   \nERR027459            -         -  lineage2            -         -   \nERR027460            -         -                      -         -   \nERR027461            -         -  lineage2            -         -   \nERR027462            -         -  lineage2            -         -   \n\n          para-aminosalicylic_acid pyrazinamide  \\\nERR027458                        -            -   \nERR027459                        -            -   \nERR027460                        -            -   \nERR027461                        -            -   \nERR027462                        -            -   \n\n                                   rifampicin  streptomycin        sublin  \nERR027458  rpoB_p.Ser450Leu, rpoB_p.Glu761Asp  rrs_r.517c>t  lineage2.2.1  \nERR027459                    rpoB_p.Leu430Pro             -  lineage2.2.1  \nERR027460                                   -             -                \nERR027461                                   -             -  lineage2.2.1  \nERR027462                                   -             -  lineage2.2.1  \n\n[5 rows x 26 columns]",
            "text/html": "<div>\n<style scoped>\n    .dataframe tbody tr th:only-of-type {\n        vertical-align: middle;\n    }\n\n    .dataframe tbody tr th {\n        vertical-align: top;\n    }\n\n    .dataframe thead th {\n        text-align: right;\n    }\n</style>\n<table border=\"1\" class=\"dataframe\">\n  <thead>\n    <tr style=\"text-align: right;\">\n      <th></th>\n      <th>MDR</th>\n      <th>XDR</th>\n      <th>amikacin</th>\n      <th>aminoglycosides</th>\n      <th>bedaquiline</th>\n      <th>capreomycin</th>\n      <th>ciprofloxacin</th>\n      <th>clofazimine</th>\n      <th>cycloserine</th>\n      <th>delamanid</th>\n      <th>...</th>\n      <th>levofloxacin</th>\n      <th>linezolid</th>\n      <th>main_lin</th>\n      <th>moxifloxacin</th>\n      <th>ofloxacin</th>\n      <th>para-aminosalicylic_acid</th>\n      <th>pyrazinamide</th>\n      <th>rifampicin</th>\n      <th>streptomycin</th>\n      <th>sublin</th>\n    </tr>\n  </thead>\n  <tbody>\n    <tr>\n      <th>ERR027458</th>\n      <td>R</td>\n      <td></td>\n      <td>-</td>\n      <td>-</td>\n      <td>-</td>\n      <td>-</td>\n      <td>-</td>\n      <td>-</td>\n      <td>-</td>\n      <td>-</td>\n      <td>...</td>\n      <td>-</td>\n      <td>-</td>\n      <td>lineage2</td>\n      <td>-</td>\n      <td>-</td>\n      <td>-</td>\n      <td>-</td>\n      <td>rpoB_p.Ser450Leu, rpoB_p.Glu761Asp</td>\n      <td>rrs_r.517c&gt;t</td>\n      <td>lineage2.2.1</td>\n    </tr>\n    <tr>\n      <th>ERR027459</th>\n      <td></td>\n      <td></td>\n      <td>-</td>\n      <td>-</td>\n      <td>-</td>\n      <td>-</td>\n      <td>-</td>\n      <td>-</td>\n      <td>-</td>\n      <td>-</td>\n      <td>...</td>\n      <td>-</td>\n      <td>-</td>\n      <td>lineage2</td>\n      <td>-</td>\n      <td>-</td>\n      <td>-</td>\n      <td>-</td>\n      <td>rpoB_p.Leu430Pro</td>\n      <td>-</td>\n      <td>lineage2.2.1</td>\n    </tr>\n    <tr>\n      <th>ERR027460</th>\n      <td></td>\n      <td></td>\n      <td>-</td>\n      <td>-</td>\n      <td>-</td>\n      <td>-</td>\n      <td>-</td>\n      <td>-</td>\n      <td>-</td>\n      <td>-</td>\n      <td>...</td>\n      <td>-</td>\n      <td>-</td>\n      <td></td>\n      <td>-</td>\n      <td>-</td>\n      <td>-</td>\n      <td>-</td>\n      <td>-</td>\n      <td>-</td>\n      <td></td>\n    </tr>\n    <tr>\n      <th>ERR027461</th>\n      <td></td>\n      <td></td>\n      <td>-</td>\n      <td>-</td>\n      <td>-</td>\n      <td>-</td>\n      <td>-</td>\n      <td>-</td>\n      <td>-</td>\n      <td>-</td>\n      <td>...</td>\n      <td>-</td>\n      <td>-</td>\n      <td>lineage2</td>\n      <td>-</td>\n      <td>-</td>\n      <td>-</td>\n      <td>-</td>\n      <td>-</td>\n      <td>-</td>\n      <td>lineage2.2.1</td>\n    </tr>\n    <tr>\n      <th>ERR027462</th>\n      <td></td>\n      <td></td>\n      <td>-</td>\n      <td>-</td>\n      <td>-</td>\n      <td>-</td>\n      <td>-</td>\n      <td>-</td>\n      <td>-</td>\n      <td>-</td>\n      <td>...</td>\n      <td>-</td>\n      <td>-</td>\n      <td>lineage2</td>\n      <td>-</td>\n      <td>-</td>\n      <td>-</td>\n      <td>-</td>\n      <td>-</td>\n      <td>-</td>\n      <td>lineage2.2.1</td>\n    </tr>\n  </tbody>\n</table>\n<p>5 rows × 26 columns</p>\n</div>"
          },
          "metadata": {}
        }
      ],
      "execution_count": 38,
      "metadata": {
        "pycharm": {
          "name": "#%%\n"
        },
        "gather": {
          "logged": 1604764805848
        }
      }
    },
    {
      "cell_type": "code",
      "source": [
        "tbprofiler_df.shape\n"
      ],
      "outputs": [
        {
          "output_type": "execute_result",
          "execution_count": 39,
          "data": {
            "text/plain": "(2654, 26)"
          },
          "metadata": {}
        }
      ],
      "execution_count": 39,
      "metadata": {
        "pycharm": {
          "name": "#%%\n"
        },
        "gather": {
          "logged": 1604764806874
        }
      }
    },
    {
      "cell_type": "code",
      "source": [
        "tbprofiler_df.columns.tolist()"
      ],
      "outputs": [
        {
          "output_type": "execute_result",
          "execution_count": 40,
          "data": {
            "text/plain": "['MDR',\n 'XDR',\n 'amikacin',\n 'aminoglycosides',\n 'bedaquiline',\n 'capreomycin',\n 'ciprofloxacin',\n 'clofazimine',\n 'cycloserine',\n 'delamanid',\n 'drtype',\n 'ethambutol',\n 'ethionamide',\n 'fluoroquinolones',\n 'isoniazid',\n 'kanamycin',\n 'levofloxacin',\n 'linezolid',\n 'main_lin',\n 'moxifloxacin',\n 'ofloxacin',\n 'para-aminosalicylic_acid',\n 'pyrazinamide',\n 'rifampicin',\n 'streptomycin',\n 'sublin']"
          },
          "metadata": {}
        }
      ],
      "execution_count": 40,
      "metadata": {
        "collapsed": true,
        "jupyter": {
          "source_hidden": false,
          "outputs_hidden": false
        },
        "nteract": {
          "transient": {
            "deleting": false
          }
        },
        "gather": {
          "logged": 1604764808920
        }
      }
    },
    {
      "cell_type": "code",
      "source": [
        "# Derive a new column `Resistance_Status` by treating MDR/XDR/TDR as the same and preparing Tb-profiler output for Binary Classification\n",
        "\n",
        "resistance_status_df = tbprofiler_df\n",
        "resistance_status_df['Resistance_Status'] = resistance_status_df.apply(\n",
        "    lambda row: 'Sensitive' if (row.drtype == 'Sensitive') else 'Resistant', axis=1)\n",
        "# resistance_status_df.head()\n",
        "\n"
      ],
      "outputs": [],
      "execution_count": 47,
      "metadata": {
        "pycharm": {
          "name": "#%%\n"
        },
        "gather": {
          "logged": 1604764862012
        }
      }
    },
    {
      "cell_type": "code",
      "source": [
        "drugs_column_names = ['rifampicin',\n",
        "                      'isoniazid',\n",
        "                      'pyrazinamide',\n",
        "                      'ethambutol',\n",
        "                      'streptomycin',\n",
        "                      'fluoroquinolones',\n",
        "                      'moxifloxacin',\n",
        "                      'ofloxacin',\n",
        "                      'levofloxacin',\n",
        "                      'ciprofloxacin',\n",
        "                      'aminoglycosides',\n",
        "                      'amikacin',\n",
        "                      'kanamycin',\n",
        "                      'capreomycin',\n",
        "                      'ethionamide',\n",
        "                      'para-aminosalicylic_acid',\n",
        "                      'cycloserine',\n",
        "                      'linezolid',\n",
        "                      'bedaquiline',\n",
        "                      'clofazimine',\n",
        "                      'delamanid']\n",
        "\n",
        "lineage_column_names = ['main_lin', 'sublin']\n",
        "\n",
        "resistance_status_column_names = ['drtype', 'MDR', 'XDR', 'Resistance_Status']\n",
        "\n",
        "renamed_drug_columns_names = ['rifampicin_resistance',\n",
        "                              'isoniazid_resistance',\n",
        "                              'pyrazinamide_resistance',\n",
        "                              'ethambutol_resistance',\n",
        "                              'streptomycin_resistance',\n",
        "                              'fluoroquinolones_resistance',\n",
        "                              'moxifloxacin_resistance',\n",
        "                              'ofloxacin_resistance',\n",
        "                              'levofloxacin_resistance',\n",
        "                              'ciprofloxacin_resistance',\n",
        "                              'aminoglycosides_resistance',\n",
        "                              'amikacin_resistance',\n",
        "                              'kanamycin_resistance',\n",
        "                              'capreomycin_resistance',\n",
        "                              'ethionamide_resistance',\n",
        "                              'para-aminosalicylic_acid_resistance',\n",
        "                              'cycloserine_resistance',\n",
        "                              'linezolid_resistance',\n",
        "                              'bedaquiline_resistance',\n",
        "                              'clofazimine_resistance',\n",
        "                              'delamanid_resistance']\n",
        "\n",
        "renamed_drug_columns_names_dict = {\n",
        "    'rifampicin': 'rifampicin_resistance',\n",
        "    'isoniazid': 'isoniazid_resistance',\n",
        "    'pyrazinamide': 'pyrazinamide_resistance',\n",
        "    'ethambutol': 'ethambutol_resistance',\n",
        "    'streptomycin': 'streptomycin_resistance',\n",
        "    'fluoroquinolones': 'fluoroquinolones_resistance',\n",
        "    'moxifloxacin': 'moxifloxacin_resistance',\n",
        "    'ofloxacin': 'ofloxacin_resistance',\n",
        "    'levofloxacin': 'levofloxacin_resistance',\n",
        "    'ciprofloxacin': 'ciprofloxacin_resistance',\n",
        "    'aminoglycosides': 'aminoglycosides_resistance',\n",
        "    'amikacin': 'amikacin_resistance',\n",
        "    'kanamycin': 'kanamycin_resistance',\n",
        "    'capreomycin': 'capreomycin_resistance',\n",
        "    'ethionamide': 'ethionamide_resistance',\n",
        "    'para-aminosalicylic_acid': 'para-aminosalicylic_acid_resistance',\n",
        "    'cycloserine': 'cycloserine_resistance',\n",
        "    'linezolid': 'linezolid_resistance',\n",
        "    'bedaquiline': 'bedaquiline_resistance',\n",
        "    'clofazimine': 'clofazimine_resistance',\n",
        "    'delamanid': 'delamanid_resistance'\n",
        "}\n"
      ],
      "outputs": [],
      "execution_count": 48,
      "metadata": {
        "pycharm": {
          "name": "#%%\n"
        },
        "gather": {
          "logged": 1604764863078
        }
      }
    },
    {
      "cell_type": "code",
      "source": [
        "# Rename the columns for being explicit once the overall dataframe is created.\n",
        "\n",
        "resistance_status_df.rename(columns=renamed_drug_columns_names_dict,\n",
        "                            inplace=True)\n",
        "\n",
        "resistance_status_df.head()"
      ],
      "outputs": [
        {
          "output_type": "execute_result",
          "execution_count": 49,
          "data": {
            "text/plain": "          MDR XDR amikacin_resistance aminoglycosides_resistance  \\\nERR027458   R                       -                          -   \nERR027459                           -                          -   \nERR027460                           -                          -   \nERR027461                           -                          -   \nERR027462                           -                          -   \n\n          bedaquiline_resistance capreomycin_resistance  \\\nERR027458                      -                      -   \nERR027459                      -                      -   \nERR027460                      -                      -   \nERR027461                      -                      -   \nERR027462                      -                      -   \n\n          ciprofloxacin_resistance clofazimine_resistance  \\\nERR027458                        -                      -   \nERR027459                        -                      -   \nERR027460                        -                      -   \nERR027461                        -                      -   \nERR027462                        -                      -   \n\n          cycloserine_resistance delamanid_resistance        ...         \\\nERR027458                      -                    -        ...          \nERR027459                      -                    -        ...          \nERR027460                      -                    -        ...          \nERR027461                      -                    -        ...          \nERR027462                      -                    -        ...          \n\n          linezolid_resistance  main_lin moxifloxacin_resistance  \\\nERR027458                    -  lineage2                       -   \nERR027459                    -  lineage2                       -   \nERR027460                    -                                 -   \nERR027461                    -  lineage2                       -   \nERR027462                    -  lineage2                       -   \n\n          ofloxacin_resistance para-aminosalicylic_acid_resistance  \\\nERR027458                    -                                   -   \nERR027459                    -                                   -   \nERR027460                    -                                   -   \nERR027461                    -                                   -   \nERR027462                    -                                   -   \n\n          pyrazinamide_resistance               rifampicin_resistance  \\\nERR027458                       -  rpoB_p.Ser450Leu, rpoB_p.Glu761Asp   \nERR027459                       -                    rpoB_p.Leu430Pro   \nERR027460                       -                                   -   \nERR027461                       -                                   -   \nERR027462                       -                                   -   \n\n          streptomycin_resistance        sublin Resistance_Status  \nERR027458            rrs_r.517c>t  lineage2.2.1         Resistant  \nERR027459                       -  lineage2.2.1         Resistant  \nERR027460                       -                       Sensitive  \nERR027461                       -  lineage2.2.1         Sensitive  \nERR027462                       -  lineage2.2.1         Sensitive  \n\n[5 rows x 27 columns]",
            "text/html": "<div>\n<style scoped>\n    .dataframe tbody tr th:only-of-type {\n        vertical-align: middle;\n    }\n\n    .dataframe tbody tr th {\n        vertical-align: top;\n    }\n\n    .dataframe thead th {\n        text-align: right;\n    }\n</style>\n<table border=\"1\" class=\"dataframe\">\n  <thead>\n    <tr style=\"text-align: right;\">\n      <th></th>\n      <th>MDR</th>\n      <th>XDR</th>\n      <th>amikacin_resistance</th>\n      <th>aminoglycosides_resistance</th>\n      <th>bedaquiline_resistance</th>\n      <th>capreomycin_resistance</th>\n      <th>ciprofloxacin_resistance</th>\n      <th>clofazimine_resistance</th>\n      <th>cycloserine_resistance</th>\n      <th>delamanid_resistance</th>\n      <th>...</th>\n      <th>linezolid_resistance</th>\n      <th>main_lin</th>\n      <th>moxifloxacin_resistance</th>\n      <th>ofloxacin_resistance</th>\n      <th>para-aminosalicylic_acid_resistance</th>\n      <th>pyrazinamide_resistance</th>\n      <th>rifampicin_resistance</th>\n      <th>streptomycin_resistance</th>\n      <th>sublin</th>\n      <th>Resistance_Status</th>\n    </tr>\n  </thead>\n  <tbody>\n    <tr>\n      <th>ERR027458</th>\n      <td>R</td>\n      <td></td>\n      <td>-</td>\n      <td>-</td>\n      <td>-</td>\n      <td>-</td>\n      <td>-</td>\n      <td>-</td>\n      <td>-</td>\n      <td>-</td>\n      <td>...</td>\n      <td>-</td>\n      <td>lineage2</td>\n      <td>-</td>\n      <td>-</td>\n      <td>-</td>\n      <td>-</td>\n      <td>rpoB_p.Ser450Leu, rpoB_p.Glu761Asp</td>\n      <td>rrs_r.517c&gt;t</td>\n      <td>lineage2.2.1</td>\n      <td>Resistant</td>\n    </tr>\n    <tr>\n      <th>ERR027459</th>\n      <td></td>\n      <td></td>\n      <td>-</td>\n      <td>-</td>\n      <td>-</td>\n      <td>-</td>\n      <td>-</td>\n      <td>-</td>\n      <td>-</td>\n      <td>-</td>\n      <td>...</td>\n      <td>-</td>\n      <td>lineage2</td>\n      <td>-</td>\n      <td>-</td>\n      <td>-</td>\n      <td>-</td>\n      <td>rpoB_p.Leu430Pro</td>\n      <td>-</td>\n      <td>lineage2.2.1</td>\n      <td>Resistant</td>\n    </tr>\n    <tr>\n      <th>ERR027460</th>\n      <td></td>\n      <td></td>\n      <td>-</td>\n      <td>-</td>\n      <td>-</td>\n      <td>-</td>\n      <td>-</td>\n      <td>-</td>\n      <td>-</td>\n      <td>-</td>\n      <td>...</td>\n      <td>-</td>\n      <td></td>\n      <td>-</td>\n      <td>-</td>\n      <td>-</td>\n      <td>-</td>\n      <td>-</td>\n      <td>-</td>\n      <td></td>\n      <td>Sensitive</td>\n    </tr>\n    <tr>\n      <th>ERR027461</th>\n      <td></td>\n      <td></td>\n      <td>-</td>\n      <td>-</td>\n      <td>-</td>\n      <td>-</td>\n      <td>-</td>\n      <td>-</td>\n      <td>-</td>\n      <td>-</td>\n      <td>...</td>\n      <td>-</td>\n      <td>lineage2</td>\n      <td>-</td>\n      <td>-</td>\n      <td>-</td>\n      <td>-</td>\n      <td>-</td>\n      <td>-</td>\n      <td>lineage2.2.1</td>\n      <td>Sensitive</td>\n    </tr>\n    <tr>\n      <th>ERR027462</th>\n      <td></td>\n      <td></td>\n      <td>-</td>\n      <td>-</td>\n      <td>-</td>\n      <td>-</td>\n      <td>-</td>\n      <td>-</td>\n      <td>-</td>\n      <td>-</td>\n      <td>...</td>\n      <td>-</td>\n      <td>lineage2</td>\n      <td>-</td>\n      <td>-</td>\n      <td>-</td>\n      <td>-</td>\n      <td>-</td>\n      <td>-</td>\n      <td>lineage2.2.1</td>\n      <td>Sensitive</td>\n    </tr>\n  </tbody>\n</table>\n<p>5 rows × 27 columns</p>\n</div>"
          },
          "metadata": {}
        }
      ],
      "execution_count": 49,
      "metadata": {
        "pycharm": {
          "name": "#%%\n"
        },
        "gather": {
          "logged": 1604764864095
        }
      }
    },
    {
      "cell_type": "code",
      "source": [
        "# Binarize the dataframe, for drug columns, to focus only on the presence/absence of mutation.\n",
        "# We treat all \"-\" as absence of mutation and assign it as 0\n",
        "\n",
        "binarized_resistance_status_df = resistance_status_df\n",
        "\n",
        "for col_name in renamed_drug_columns_names:\n",
        "    binarized_resistance_status_df[col_name] = resistance_status_df[col_name].apply(\n",
        "        lambda resistance: 0 if resistance is '-' else 1)\n"
      ],
      "outputs": [],
      "execution_count": 50,
      "metadata": {
        "pycharm": {
          "name": "#%%\n"
        },
        "gather": {
          "logged": 1604764865040
        }
      }
    },
    {
      "cell_type": "code",
      "source": [
        "binarized_resistance_status_df.head()"
      ],
      "outputs": [
        {
          "output_type": "execute_result",
          "execution_count": 51,
          "data": {
            "text/plain": "          MDR XDR  amikacin_resistance  aminoglycosides_resistance  \\\nERR027458   R                        0                           0   \nERR027459                            0                           0   \nERR027460                            0                           0   \nERR027461                            0                           0   \nERR027462                            0                           0   \n\n           bedaquiline_resistance  capreomycin_resistance  \\\nERR027458                       0                       0   \nERR027459                       0                       0   \nERR027460                       0                       0   \nERR027461                       0                       0   \nERR027462                       0                       0   \n\n           ciprofloxacin_resistance  clofazimine_resistance  \\\nERR027458                         0                       0   \nERR027459                         0                       0   \nERR027460                         0                       0   \nERR027461                         0                       0   \nERR027462                         0                       0   \n\n           cycloserine_resistance  delamanid_resistance        ...          \\\nERR027458                       0                     0        ...           \nERR027459                       0                     0        ...           \nERR027460                       0                     0        ...           \nERR027461                       0                     0        ...           \nERR027462                       0                     0        ...           \n\n          linezolid_resistance  main_lin  moxifloxacin_resistance  \\\nERR027458                    0  lineage2                        0   \nERR027459                    0  lineage2                        0   \nERR027460                    0                                  0   \nERR027461                    0  lineage2                        0   \nERR027462                    0  lineage2                        0   \n\n           ofloxacin_resistance  para-aminosalicylic_acid_resistance  \\\nERR027458                     0                                    0   \nERR027459                     0                                    0   \nERR027460                     0                                    0   \nERR027461                     0                                    0   \nERR027462                     0                                    0   \n\n           pyrazinamide_resistance  rifampicin_resistance  \\\nERR027458                        0                      1   \nERR027459                        0                      1   \nERR027460                        0                      0   \nERR027461                        0                      0   \nERR027462                        0                      0   \n\n           streptomycin_resistance        sublin  Resistance_Status  \nERR027458                        1  lineage2.2.1          Resistant  \nERR027459                        0  lineage2.2.1          Resistant  \nERR027460                        0                        Sensitive  \nERR027461                        0  lineage2.2.1          Sensitive  \nERR027462                        0  lineage2.2.1          Sensitive  \n\n[5 rows x 27 columns]",
            "text/html": "<div>\n<style scoped>\n    .dataframe tbody tr th:only-of-type {\n        vertical-align: middle;\n    }\n\n    .dataframe tbody tr th {\n        vertical-align: top;\n    }\n\n    .dataframe thead th {\n        text-align: right;\n    }\n</style>\n<table border=\"1\" class=\"dataframe\">\n  <thead>\n    <tr style=\"text-align: right;\">\n      <th></th>\n      <th>MDR</th>\n      <th>XDR</th>\n      <th>amikacin_resistance</th>\n      <th>aminoglycosides_resistance</th>\n      <th>bedaquiline_resistance</th>\n      <th>capreomycin_resistance</th>\n      <th>ciprofloxacin_resistance</th>\n      <th>clofazimine_resistance</th>\n      <th>cycloserine_resistance</th>\n      <th>delamanid_resistance</th>\n      <th>...</th>\n      <th>linezolid_resistance</th>\n      <th>main_lin</th>\n      <th>moxifloxacin_resistance</th>\n      <th>ofloxacin_resistance</th>\n      <th>para-aminosalicylic_acid_resistance</th>\n      <th>pyrazinamide_resistance</th>\n      <th>rifampicin_resistance</th>\n      <th>streptomycin_resistance</th>\n      <th>sublin</th>\n      <th>Resistance_Status</th>\n    </tr>\n  </thead>\n  <tbody>\n    <tr>\n      <th>ERR027458</th>\n      <td>R</td>\n      <td></td>\n      <td>0</td>\n      <td>0</td>\n      <td>0</td>\n      <td>0</td>\n      <td>0</td>\n      <td>0</td>\n      <td>0</td>\n      <td>0</td>\n      <td>...</td>\n      <td>0</td>\n      <td>lineage2</td>\n      <td>0</td>\n      <td>0</td>\n      <td>0</td>\n      <td>0</td>\n      <td>1</td>\n      <td>1</td>\n      <td>lineage2.2.1</td>\n      <td>Resistant</td>\n    </tr>\n    <tr>\n      <th>ERR027459</th>\n      <td></td>\n      <td></td>\n      <td>0</td>\n      <td>0</td>\n      <td>0</td>\n      <td>0</td>\n      <td>0</td>\n      <td>0</td>\n      <td>0</td>\n      <td>0</td>\n      <td>...</td>\n      <td>0</td>\n      <td>lineage2</td>\n      <td>0</td>\n      <td>0</td>\n      <td>0</td>\n      <td>0</td>\n      <td>1</td>\n      <td>0</td>\n      <td>lineage2.2.1</td>\n      <td>Resistant</td>\n    </tr>\n    <tr>\n      <th>ERR027460</th>\n      <td></td>\n      <td></td>\n      <td>0</td>\n      <td>0</td>\n      <td>0</td>\n      <td>0</td>\n      <td>0</td>\n      <td>0</td>\n      <td>0</td>\n      <td>0</td>\n      <td>...</td>\n      <td>0</td>\n      <td></td>\n      <td>0</td>\n      <td>0</td>\n      <td>0</td>\n      <td>0</td>\n      <td>0</td>\n      <td>0</td>\n      <td></td>\n      <td>Sensitive</td>\n    </tr>\n    <tr>\n      <th>ERR027461</th>\n      <td></td>\n      <td></td>\n      <td>0</td>\n      <td>0</td>\n      <td>0</td>\n      <td>0</td>\n      <td>0</td>\n      <td>0</td>\n      <td>0</td>\n      <td>0</td>\n      <td>...</td>\n      <td>0</td>\n      <td>lineage2</td>\n      <td>0</td>\n      <td>0</td>\n      <td>0</td>\n      <td>0</td>\n      <td>0</td>\n      <td>0</td>\n      <td>lineage2.2.1</td>\n      <td>Sensitive</td>\n    </tr>\n    <tr>\n      <th>ERR027462</th>\n      <td></td>\n      <td></td>\n      <td>0</td>\n      <td>0</td>\n      <td>0</td>\n      <td>0</td>\n      <td>0</td>\n      <td>0</td>\n      <td>0</td>\n      <td>0</td>\n      <td>...</td>\n      <td>0</td>\n      <td>lineage2</td>\n      <td>0</td>\n      <td>0</td>\n      <td>0</td>\n      <td>0</td>\n      <td>0</td>\n      <td>0</td>\n      <td>lineage2.2.1</td>\n      <td>Sensitive</td>\n    </tr>\n  </tbody>\n</table>\n<p>5 rows × 27 columns</p>\n</div>"
          },
          "metadata": {}
        }
      ],
      "execution_count": 51,
      "metadata": {
        "pycharm": {
          "name": "#%%\n"
        },
        "gather": {
          "logged": 1604764868592
        }
      }
    },
    {
      "cell_type": "code",
      "source": [
        "binarized_resistance_status_df.shape\n"
      ],
      "outputs": [
        {
          "output_type": "execute_result",
          "execution_count": 52,
          "data": {
            "text/plain": "(2654, 27)"
          },
          "metadata": {}
        }
      ],
      "execution_count": 52,
      "metadata": {
        "pycharm": {
          "name": "#%%\n"
        },
        "gather": {
          "logged": 1604764872215
        }
      }
    },
    {
      "cell_type": "code",
      "source": [
        "binarized_resistance_status_df[['Resistance_Status']].head()"
      ],
      "outputs": [
        {
          "output_type": "execute_result",
          "execution_count": 53,
          "data": {
            "text/plain": "          Resistance_Status\nERR027458         Resistant\nERR027459         Resistant\nERR027460         Sensitive\nERR027461         Sensitive\nERR027462         Sensitive",
            "text/html": "<div>\n<style scoped>\n    .dataframe tbody tr th:only-of-type {\n        vertical-align: middle;\n    }\n\n    .dataframe tbody tr th {\n        vertical-align: top;\n    }\n\n    .dataframe thead th {\n        text-align: right;\n    }\n</style>\n<table border=\"1\" class=\"dataframe\">\n  <thead>\n    <tr style=\"text-align: right;\">\n      <th></th>\n      <th>Resistance_Status</th>\n    </tr>\n  </thead>\n  <tbody>\n    <tr>\n      <th>ERR027458</th>\n      <td>Resistant</td>\n    </tr>\n    <tr>\n      <th>ERR027459</th>\n      <td>Resistant</td>\n    </tr>\n    <tr>\n      <th>ERR027460</th>\n      <td>Sensitive</td>\n    </tr>\n    <tr>\n      <th>ERR027461</th>\n      <td>Sensitive</td>\n    </tr>\n    <tr>\n      <th>ERR027462</th>\n      <td>Sensitive</td>\n    </tr>\n  </tbody>\n</table>\n</div>"
          },
          "metadata": {}
        }
      ],
      "execution_count": 53,
      "metadata": {
        "pycharm": {
          "name": "#%%\n"
        },
        "gather": {
          "logged": 1604764873382
        }
      }
    },
    {
      "cell_type": "code",
      "source": [
        "binarized_resistance_status_df[['Resistance_Status']]"
      ],
      "outputs": [
        {
          "output_type": "execute_result",
          "execution_count": 54,
          "data": {
            "text/plain": "           Resistance_Status\nERR027458          Resistant\nERR027459          Resistant\nERR027460          Sensitive\nERR027461          Sensitive\nERR027462          Sensitive\nERR027463          Resistant\nERR027464          Sensitive\nERR027465          Resistant\nERR027466          Sensitive\nERR027467          Resistant\nERR027468          Resistant\nERR027469          Sensitive\nERR047880          Resistant\nERR047881          Resistant\nERR047882          Resistant\nERR047883          Resistant\nERR047884          Resistant\nERR047885          Resistant\nERR047886          Resistant\nERR047887          Resistant\nERR047888          Resistant\nERR047889          Resistant\nERR047890          Resistant\nERR047891          Resistant\nERR067576          Resistant\nERR067577          Resistant\nERR067578          Resistant\nERR067579          Sensitive\nERR067580          Sensitive\nERR067581          Resistant\n...                      ...\nSRR9738501         Sensitive\nSRR9738503         Resistant\nSRR9738504         Resistant\nSRR9738505         Resistant\nSRR9738506         Resistant\nSRR9738508         Resistant\nSRR9738510         Resistant\nSRR9738512         Resistant\nSRR9738513         Resistant\nSRR9738514         Resistant\nSRR9738518         Resistant\nSRR9738519         Resistant\nSRR9738521         Resistant\nSRR9738523         Resistant\nSRR9738526         Resistant\nSRR9738527         Resistant\nSRR9738530         Resistant\nSRR9738535         Resistant\nSRR9738538         Resistant\nSRR9738541         Resistant\nSRR9738545         Resistant\nSRR9738546         Resistant\nSRR9738547         Resistant\nSRR9738549         Resistant\nSRR9738552         Resistant\nSRR9738553         Resistant\nSRR9738554         Resistant\nSRR9738556         Resistant\nSRR9738557         Resistant\nSRR9738558         Resistant\n\n[2654 rows x 1 columns]",
            "text/html": "<div>\n<style scoped>\n    .dataframe tbody tr th:only-of-type {\n        vertical-align: middle;\n    }\n\n    .dataframe tbody tr th {\n        vertical-align: top;\n    }\n\n    .dataframe thead th {\n        text-align: right;\n    }\n</style>\n<table border=\"1\" class=\"dataframe\">\n  <thead>\n    <tr style=\"text-align: right;\">\n      <th></th>\n      <th>Resistance_Status</th>\n    </tr>\n  </thead>\n  <tbody>\n    <tr>\n      <th>ERR027458</th>\n      <td>Resistant</td>\n    </tr>\n    <tr>\n      <th>ERR027459</th>\n      <td>Resistant</td>\n    </tr>\n    <tr>\n      <th>ERR027460</th>\n      <td>Sensitive</td>\n    </tr>\n    <tr>\n      <th>ERR027461</th>\n      <td>Sensitive</td>\n    </tr>\n    <tr>\n      <th>ERR027462</th>\n      <td>Sensitive</td>\n    </tr>\n    <tr>\n      <th>ERR027463</th>\n      <td>Resistant</td>\n    </tr>\n    <tr>\n      <th>ERR027464</th>\n      <td>Sensitive</td>\n    </tr>\n    <tr>\n      <th>ERR027465</th>\n      <td>Resistant</td>\n    </tr>\n    <tr>\n      <th>ERR027466</th>\n      <td>Sensitive</td>\n    </tr>\n    <tr>\n      <th>ERR027467</th>\n      <td>Resistant</td>\n    </tr>\n    <tr>\n      <th>ERR027468</th>\n      <td>Resistant</td>\n    </tr>\n    <tr>\n      <th>ERR027469</th>\n      <td>Sensitive</td>\n    </tr>\n    <tr>\n      <th>ERR047880</th>\n      <td>Resistant</td>\n    </tr>\n    <tr>\n      <th>ERR047881</th>\n      <td>Resistant</td>\n    </tr>\n    <tr>\n      <th>ERR047882</th>\n      <td>Resistant</td>\n    </tr>\n    <tr>\n      <th>ERR047883</th>\n      <td>Resistant</td>\n    </tr>\n    <tr>\n      <th>ERR047884</th>\n      <td>Resistant</td>\n    </tr>\n    <tr>\n      <th>ERR047885</th>\n      <td>Resistant</td>\n    </tr>\n    <tr>\n      <th>ERR047886</th>\n      <td>Resistant</td>\n    </tr>\n    <tr>\n      <th>ERR047887</th>\n      <td>Resistant</td>\n    </tr>\n    <tr>\n      <th>ERR047888</th>\n      <td>Resistant</td>\n    </tr>\n    <tr>\n      <th>ERR047889</th>\n      <td>Resistant</td>\n    </tr>\n    <tr>\n      <th>ERR047890</th>\n      <td>Resistant</td>\n    </tr>\n    <tr>\n      <th>ERR047891</th>\n      <td>Resistant</td>\n    </tr>\n    <tr>\n      <th>ERR067576</th>\n      <td>Resistant</td>\n    </tr>\n    <tr>\n      <th>ERR067577</th>\n      <td>Resistant</td>\n    </tr>\n    <tr>\n      <th>ERR067578</th>\n      <td>Resistant</td>\n    </tr>\n    <tr>\n      <th>ERR067579</th>\n      <td>Sensitive</td>\n    </tr>\n    <tr>\n      <th>ERR067580</th>\n      <td>Sensitive</td>\n    </tr>\n    <tr>\n      <th>ERR067581</th>\n      <td>Resistant</td>\n    </tr>\n    <tr>\n      <th>...</th>\n      <td>...</td>\n    </tr>\n    <tr>\n      <th>SRR9738501</th>\n      <td>Sensitive</td>\n    </tr>\n    <tr>\n      <th>SRR9738503</th>\n      <td>Resistant</td>\n    </tr>\n    <tr>\n      <th>SRR9738504</th>\n      <td>Resistant</td>\n    </tr>\n    <tr>\n      <th>SRR9738505</th>\n      <td>Resistant</td>\n    </tr>\n    <tr>\n      <th>SRR9738506</th>\n      <td>Resistant</td>\n    </tr>\n    <tr>\n      <th>SRR9738508</th>\n      <td>Resistant</td>\n    </tr>\n    <tr>\n      <th>SRR9738510</th>\n      <td>Resistant</td>\n    </tr>\n    <tr>\n      <th>SRR9738512</th>\n      <td>Resistant</td>\n    </tr>\n    <tr>\n      <th>SRR9738513</th>\n      <td>Resistant</td>\n    </tr>\n    <tr>\n      <th>SRR9738514</th>\n      <td>Resistant</td>\n    </tr>\n    <tr>\n      <th>SRR9738518</th>\n      <td>Resistant</td>\n    </tr>\n    <tr>\n      <th>SRR9738519</th>\n      <td>Resistant</td>\n    </tr>\n    <tr>\n      <th>SRR9738521</th>\n      <td>Resistant</td>\n    </tr>\n    <tr>\n      <th>SRR9738523</th>\n      <td>Resistant</td>\n    </tr>\n    <tr>\n      <th>SRR9738526</th>\n      <td>Resistant</td>\n    </tr>\n    <tr>\n      <th>SRR9738527</th>\n      <td>Resistant</td>\n    </tr>\n    <tr>\n      <th>SRR9738530</th>\n      <td>Resistant</td>\n    </tr>\n    <tr>\n      <th>SRR9738535</th>\n      <td>Resistant</td>\n    </tr>\n    <tr>\n      <th>SRR9738538</th>\n      <td>Resistant</td>\n    </tr>\n    <tr>\n      <th>SRR9738541</th>\n      <td>Resistant</td>\n    </tr>\n    <tr>\n      <th>SRR9738545</th>\n      <td>Resistant</td>\n    </tr>\n    <tr>\n      <th>SRR9738546</th>\n      <td>Resistant</td>\n    </tr>\n    <tr>\n      <th>SRR9738547</th>\n      <td>Resistant</td>\n    </tr>\n    <tr>\n      <th>SRR9738549</th>\n      <td>Resistant</td>\n    </tr>\n    <tr>\n      <th>SRR9738552</th>\n      <td>Resistant</td>\n    </tr>\n    <tr>\n      <th>SRR9738553</th>\n      <td>Resistant</td>\n    </tr>\n    <tr>\n      <th>SRR9738554</th>\n      <td>Resistant</td>\n    </tr>\n    <tr>\n      <th>SRR9738556</th>\n      <td>Resistant</td>\n    </tr>\n    <tr>\n      <th>SRR9738557</th>\n      <td>Resistant</td>\n    </tr>\n    <tr>\n      <th>SRR9738558</th>\n      <td>Resistant</td>\n    </tr>\n  </tbody>\n</table>\n<p>2654 rows × 1 columns</p>\n</div>"
          },
          "metadata": {}
        }
      ],
      "execution_count": 54,
      "metadata": {
        "pycharm": {
          "name": "#%%\n"
        },
        "gather": {
          "logged": 1604764874583
        }
      }
    },
    {
      "cell_type": "code",
      "source": [
        "# Distribution of Resistant/Sensitive genomes\n",
        "\n",
        "binarized_resistance_status_df['Resistance_Status'].hist()\n"
      ],
      "outputs": [
        {
          "output_type": "execute_result",
          "execution_count": 55,
          "data": {
            "text/plain": "<AxesSubplot:>"
          },
          "metadata": {}
        },
        {
          "output_type": "display_data",
          "data": {
            "text/plain": "<Figure size 576x396 with 1 Axes>",
            "image/png": "[encoded data removed]"
          },
          "metadata": {}
        }
      ],
      "execution_count": 55,
      "metadata": {
        "pycharm": {
          "name": "#%%\n"
        },
        "gather": {
          "logged": 1604764875758
        }
      }
    },
    {
      "cell_type": "code",
      "source": [
        "# Isolate a list of resistant genomes\n",
        "\n",
        "resistant_genomes = binarized_resistance_status_df[binarized_resistance_status_df['Resistance_Status'] == \"Resistant\"].index.tolist()\n",
        "resistant_genomes"
      ],
      "outputs": [
        {
          "output_type": "execute_result",
          "execution_count": 58,
          "data": {
            "text/plain": "['ERR027458',\n 'ERR027459',\n 'ERR027463',\n 'ERR027465',\n 'ERR027467',\n 'ERR027468',\n 'ERR047880',\n 'ERR047881',\n 'ERR047882',\n 'ERR047883',\n 'ERR047884',\n 'ERR047885',\n 'ERR047886',\n 'ERR047887',\n 'ERR047888',\n 'ERR047889',\n 'ERR047890',\n 'ERR047891',\n 'ERR067576',\n 'ERR067577',\n 'ERR067578',\n 'ERR067581',\n 'ERR067582',\n 'ERR067583',\n 'ERR067584',\n 'ERR067586',\n 'ERR067587',\n 'ERR067588',\n 'ERR067589',\n 'ERR067590',\n 'ERR067592',\n 'ERR067593',\n 'ERR067596',\n 'ERR067598',\n 'ERR067599',\n 'ERR067600',\n 'ERR067602',\n 'ERR067603',\n 'ERR067605',\n 'ERR067608',\n 'ERR067609',\n 'ERR067610',\n 'ERR067611',\n 'ERR067612',\n 'ERR067613',\n 'ERR067615',\n 'ERR067618',\n 'ERR067619',\n 'ERR067620',\n 'ERR067621',\n 'ERR067622',\n 'ERR067623',\n 'ERR067625',\n 'ERR067626',\n 'ERR067627',\n 'ERR067628',\n 'ERR067629',\n 'ERR067630',\n 'ERR067631',\n 'ERR067635',\n 'ERR067638',\n 'ERR067639',\n 'ERR067641',\n 'ERR067642',\n 'ERR067643',\n 'ERR067644',\n 'ERR067645',\n 'ERR067647',\n 'ERR067649',\n 'ERR067650',\n 'ERR067651',\n 'ERR067652',\n 'ERR067653',\n 'ERR067654',\n 'ERR067656',\n 'ERR067657',\n 'ERR067658',\n 'ERR067659',\n 'ERR067660',\n 'ERR067661',\n 'ERR067662',\n 'ERR067663',\n 'ERR067665',\n 'ERR067666',\n 'ERR067667',\n 'ERR067668',\n 'ERR067669',\n 'ERR067670',\n 'ERR067671',\n 'ERR067672',\n 'ERR067673',\n 'ERR067674',\n 'ERR067675',\n 'ERR067677',\n 'ERR067678',\n 'ERR067679',\n 'ERR067683',\n 'ERR067685',\n 'ERR067687',\n 'ERR067691',\n 'ERR067692',\n 'ERR067694',\n 'ERR067695',\n 'ERR067696',\n 'ERR067697',\n 'ERR067698',\n 'ERR067701',\n 'ERR067703',\n 'ERR067704',\n 'ERR067705',\n 'ERR067707',\n 'ERR067709',\n 'ERR067710',\n 'ERR067711',\n 'ERR067712',\n 'ERR067714',\n 'ERR067715',\n 'ERR067717',\n 'ERR067718',\n 'ERR067722',\n 'ERR067723',\n 'ERR067735',\n 'ERR067736',\n 'ERR067738',\n 'ERR067739',\n 'ERR067748',\n 'ERR067749',\n 'ERR067751',\n 'ERR067754',\n 'ERR067755',\n 'ERR067760',\n 'ERR067762',\n 'ERR067765',\n 'ERR108421',\n 'ERR108422',\n 'ERR3335723',\n 'ERR3335724',\n 'ERR3335725',\n 'ERR3335726',\n 'ERR3335727',\n 'ERR3335728',\n 'ERR3335729',\n 'ERR3335730',\n 'ERR3335731',\n 'ERR3335732',\n 'ERR3335733',\n 'ERR3335734',\n 'ERR3335735',\n 'ERR3335736',\n 'ERR3335737',\n 'ERR3335738',\n 'ERR3335739',\n 'ERR3335740',\n 'ERR3335741',\n 'ERR3335742',\n 'ERR3335743',\n 'ERR3335744',\n 'ERR3335745',\n 'ERR3335746',\n 'ERR3335747',\n 'ERR3335748',\n 'ERR3335749',\n 'ERR3335750',\n 'ERR3335751',\n 'ERR3335752',\n 'ERR3335753',\n 'ERR3335754',\n 'ERR3335755',\n 'ERR3335756',\n 'ERR3335757',\n 'ERR3335758',\n 'ERR3335759',\n 'ERR3335761',\n 'ERR3335762',\n 'ERR3335763',\n 'ERR3335764',\n 'ERR3335765',\n 'ERR3335766',\n 'ERR3335767',\n 'ERR3335768',\n 'ERR3335769',\n 'ERR3335770',\n 'ERR3335771',\n 'ERR3335772',\n 'ERR3335773',\n 'ERR3335774',\n 'ERR3335775',\n 'ERR3335776',\n 'ERR3335777',\n 'ERR3335778',\n 'ERR3335779',\n 'ERR3335780',\n 'ERR3335781',\n 'ERR3335782',\n 'ERR3335784',\n 'ERR3335785',\n 'ERR3335786',\n 'ERR3335787',\n 'ERR3335788',\n 'ERR3335789',\n 'ERR3335790',\n 'ERR3335791',\n 'ERR3335792',\n 'ERR3335793',\n 'ERR3335794',\n 'ERR3335795',\n 'ERR3335796',\n 'ERR3335797',\n 'ERR3335798',\n 'ERR3335799',\n 'ERR3335800',\n 'ERR3335801',\n 'ERR3335802',\n 'ERR3335803',\n 'ERR688013',\n 'ERR688014',\n 'ERR688015',\n 'ERR688016',\n 'ERR688017',\n 'ERR688018',\n 'ERR688019',\n 'ERR688020',\n 'ERR688021',\n 'ERR688022',\n 'ERR688023',\n 'ERR688024',\n 'ERR688025',\n 'ERR688026',\n 'ERR688027',\n 'ERR688028',\n 'ERR688029',\n 'ERR688030',\n 'ERR688031',\n 'ERR688032',\n 'ERR688033',\n 'ERR688034',\n 'ERR688035',\n 'ERR688036',\n 'ERR688037',\n 'ERR688038',\n 'ERR688039',\n 'ERR688040',\n 'ERR688041',\n 'ERR688042',\n 'ERR688043',\n 'ERR688044',\n 'ERR688045',\n 'ERR688046',\n 'ERR688047',\n 'ERR688048',\n 'ERR688049',\n 'SRR10379876',\n 'SRR10379877',\n 'SRR10379879',\n 'SRR10379882',\n 'SRR10379883',\n 'SRR10379886',\n 'SRR10379887',\n 'SRR10379889',\n 'SRR10379890',\n 'SRR10379894',\n 'SRR10379895',\n 'SRR10379896',\n 'SRR10379898',\n 'SRR10379899',\n 'SRR10379903',\n 'SRR10379905',\n 'SRR10379906',\n 'SRR10379908',\n 'SRR10379909',\n 'SRR10379910',\n 'SRR10379912',\n 'SRR10379913',\n 'SRR10379914',\n 'SRR10379916',\n 'SRR10379917',\n 'SRR10379918',\n 'SRR10379919',\n 'SRR10379921',\n 'SRR10379922',\n 'SRR10379927',\n 'SRR10379928',\n 'SRR10379929',\n 'SRR10379931',\n 'SRR10379932',\n 'SRR10379933',\n 'SRR10379934',\n 'SRR10379936',\n 'SRR10379939',\n 'SRR10379940',\n 'SRR10379941',\n 'SRR10379942',\n 'SRR10379943',\n 'SRR10379944',\n 'SRR10379945',\n 'SRR10379948',\n 'SRR10379949',\n 'SRR10379950',\n 'SRR10379953',\n 'SRR10379955',\n 'SRR10379956',\n 'SRR10379957',\n 'SRR10379963',\n 'SRR10379964',\n 'SRR10379965',\n 'SRR10379966',\n 'SRR10379967',\n 'SRR10379969',\n 'SRR10379971',\n 'SRR10379972',\n 'SRR10379973',\n 'SRR10379974',\n 'SRR10379976',\n 'SRR10379977',\n 'SRR10379978',\n 'SRR10379979',\n 'SRR10379982',\n 'SRR10379983',\n 'SRR10379984',\n 'SRR10379985',\n 'SRR10379986',\n 'SRR10379987',\n 'SRR10379989',\n 'SRR10379990',\n 'SRR10379995',\n 'SRR10379997',\n 'SRR10379998',\n 'SRR10380002',\n 'SRR10380003',\n 'SRR10380004',\n 'SRR10380005',\n 'SRR10380007',\n 'SRR10380008',\n 'SRR10380009',\n 'SRR10380010',\n 'SRR10380011',\n 'SRR10380012',\n 'SRR10380013',\n 'SRR10380014',\n 'SRR10380015',\n 'SRR10380017',\n 'SRR10380018',\n 'SRR10380019',\n 'SRR10380020',\n 'SRR10380021',\n 'SRR10380022',\n 'SRR10380023',\n 'SRR10380024',\n 'SRR10380029',\n 'SRR10380031',\n 'SRR10380032',\n 'SRR10380033',\n 'SRR10380034',\n 'SRR10380035',\n 'SRR10380036',\n 'SRR10380037',\n 'SRR10380038',\n 'SRR10380039',\n 'SRR10380040',\n 'SRR10380041',\n 'SRR10380042',\n 'SRR10380043',\n 'SRR10380045',\n 'SRR10380046',\n 'SRR10380047',\n 'SRR10380048',\n 'SRR10380050',\n 'SRR10380051',\n 'SRR10380052',\n 'SRR10380053',\n 'SRR10380054',\n 'SRR10380055',\n 'SRR10380056',\n 'SRR10380057',\n 'SRR10380060',\n 'SRR10380061',\n 'SRR10380062',\n 'SRR10380063',\n 'SRR10380064',\n 'SRR10380066',\n 'SRR10380068',\n 'SRR10380070',\n 'SRR10380071',\n 'SRR10380072',\n 'SRR10380073',\n 'SRR10380074',\n 'SRR10380076',\n 'SRR10380077',\n 'SRR10380078',\n 'SRR10380079',\n 'SRR10380080',\n 'SRR10380081',\n 'SRR10380082',\n 'SRR10380083',\n 'SRR10380084',\n 'SRR10380085',\n 'SRR10380086',\n 'SRR10380087',\n 'SRR10380089',\n 'SRR10380092',\n 'SRR10380093',\n 'SRR10380094',\n 'SRR10380095',\n 'SRR10380096',\n 'SRR10380097',\n 'SRR10380098',\n 'SRR10380099',\n 'SRR10380101',\n 'SRR10380102',\n 'SRR10380103',\n 'SRR10380104',\n 'SRR10380105',\n 'SRR10380106',\n 'SRR10380107',\n 'SRR10380109',\n 'SRR10380110',\n 'SRR10380111',\n 'SRR10380113',\n 'SRR10380117',\n 'SRR10380118',\n 'SRR10380120',\n 'SRR10380121',\n 'SRR10380122',\n 'SRR10380123',\n 'SRR10380124',\n 'SRR10380125',\n 'SRR10380129',\n 'SRR10380130',\n 'SRR10380131',\n 'SRR10380132',\n 'SRR10380135',\n 'SRR10380136',\n 'SRR10380137',\n 'SRR10380138',\n 'SRR10380139',\n 'SRR10380142',\n 'SRR10380143',\n 'SRR10380144',\n 'SRR10380145',\n 'SRR10380146',\n 'SRR10380147',\n 'SRR10380148',\n 'SRR10380149',\n 'SRR10380150',\n 'SRR10380155',\n 'SRR10380159',\n 'SRR10380160',\n 'SRR10380161',\n 'SRR10380164',\n 'SRR10380165',\n 'SRR10380166',\n 'SRR10380167',\n 'SRR10380168',\n 'SRR10380170',\n 'SRR10380171',\n 'SRR10380173',\n 'SRR10380176',\n 'SRR10380178',\n 'SRR10380184',\n 'SRR10380186',\n 'SRR10380187',\n 'SRR10380189',\n 'SRR10380194',\n 'SRR10380196',\n 'SRR10380197',\n 'SRR10380199',\n 'SRR10380201',\n 'SRR10380204',\n 'SRR10380206',\n 'SRR10380209',\n 'SRR10380210',\n 'SRR10380213',\n 'SRR10380214',\n 'SRR10380215',\n 'SRR10380216',\n 'SRR10380217',\n 'SRR10380218',\n 'SRR10380222',\n 'SRR10380226',\n 'SRR10380231',\n 'SRR10380234',\n 'SRR10380238',\n 'SRR10380240',\n 'SRR10380241',\n 'SRR10380242',\n 'SRR10380243',\n 'SRR10380245',\n 'SRR10380246',\n 'SRR10380247',\n 'SRR10380248',\n 'SRR10380249',\n 'SRR10380250',\n 'SRR10380253',\n 'SRR10397092',\n 'SRR10397093',\n 'SRR10397094',\n 'SRR10397095',\n 'SRR10397096',\n 'SRR10397097',\n 'SRR10397098',\n 'SRR10397099',\n 'SRR10397100',\n 'SRR10397101',\n 'SRR10397102',\n 'SRR10397103',\n 'SRR10397104',\n 'SRR10397105',\n 'SRR10397106',\n 'SRR10397107',\n 'SRR10397108',\n 'SRR10397109',\n 'SRR10397110',\n 'SRR10397111',\n 'SRR10397112',\n 'SRR10397114',\n 'SRR10397115',\n 'SRR10397116',\n 'SRR10397117',\n 'SRR10397118',\n 'SRR10397119',\n 'SRR10397120',\n 'SRR10397121',\n 'SRR10397122',\n 'SRR10397123',\n 'SRR10397124',\n 'SRR10397125',\n 'SRR10397126',\n 'SRR10397128',\n 'SRR10397129',\n 'SRR10397130',\n 'SRR10397131',\n 'SRR10397132',\n 'SRR10397133',\n 'SRR10397134',\n 'SRR10397135',\n 'SRR10397136',\n 'SRR10397137',\n 'SRR10397138',\n 'SRR10397139',\n 'SRR10397140',\n 'SRR10397141',\n 'SRR10397142',\n 'SRR10397143',\n 'SRR10397144',\n 'SRR10397145',\n 'SRR10397149',\n 'SRR10397150',\n 'SRR10397151',\n 'SRR10397152',\n 'SRR10397153',\n 'SRR10397154',\n 'SRR10397155',\n 'SRR10397156',\n 'SRR10397157',\n 'SRR10397158',\n 'SRR10397159',\n 'SRR10397160',\n 'SRR10397161',\n 'SRR10397162',\n 'SRR10397164',\n 'SRR10397165',\n 'SRR10397166',\n 'SRR10397167',\n 'SRR10397168',\n 'SRR10397170',\n 'SRR10397173',\n 'SRR10397174',\n 'SRR10397175',\n 'SRR10397176',\n 'SRR10397177',\n 'SRR10397178',\n 'SRR10397179',\n 'SRR10397180',\n 'SRR10397181',\n 'SRR10397182',\n 'SRR10397183',\n 'SRR10397185',\n 'SRR10397186',\n 'SRR10397187',\n 'SRR10397188',\n 'SRR10397189',\n 'SRR10397190',\n 'SRR10397192',\n 'SRR10397193',\n 'SRR10397194',\n 'SRR10397197',\n 'SRR10397198',\n 'SRR10397199',\n 'SRR10397200',\n 'SRR10397204',\n 'SRR10397209',\n 'SRR10397211',\n 'SRR10397212',\n 'SRR10397213',\n 'SRR10397214',\n 'SRR10397215',\n 'SRR10397217',\n 'SRR10397218',\n 'SRR10397219',\n 'SRR10397220',\n 'SRR10397221',\n 'SRR10397222',\n 'SRR10397223',\n 'SRR10397224',\n 'SRR10397225',\n 'SRR10397226',\n 'SRR10397227',\n 'SRR10397228',\n 'SRR10397230',\n 'SRR10397231',\n 'SRR10397232',\n 'SRR10397233',\n 'SRR10397234',\n 'SRR10397235',\n 'SRR10397236',\n 'SRR10397237',\n 'SRR10397239',\n 'SRR10397240',\n 'SRR10397241',\n 'SRR10397242',\n 'SRR10397243',\n 'SRR10397244',\n 'SRR10397245',\n 'SRR10397249',\n 'SRR10397252',\n 'SRR10397253',\n 'SRR10397256',\n 'SRR10397258',\n 'SRR10397260',\n 'SRR10397262',\n 'SRR10397264',\n 'SRR10397265',\n 'SRR10397266',\n 'SRR10397267',\n 'SRR10397268',\n 'SRR10397270',\n 'SRR10397273',\n 'SRR10525317',\n 'SRR10525318',\n 'SRR10525319',\n 'SRR10525320',\n 'SRR10525321',\n 'SRR10525322',\n 'SRR10525324',\n 'SRR10525325',\n 'SRR10525326',\n 'SRR10525327',\n 'SRR10525328',\n 'SRR10525329',\n 'SRR10525330',\n 'SRR10525331',\n 'SRR10525332',\n 'SRR10525333',\n 'SRR10525334',\n 'SRR10525335',\n 'SRR10525336',\n 'SRR10525337',\n 'SRR10525338',\n 'SRR10525339',\n 'SRR10525340',\n 'SRR10525341',\n 'SRR10525342',\n 'SRR10525348',\n 'SRR10525349',\n 'SRR10525350',\n 'SRR10525351',\n 'SRR10525352',\n 'SRR10525353',\n 'SRR10525354',\n 'SRR10525355',\n 'SRR10525356',\n 'SRR10525357',\n 'SRR10525358',\n 'SRR10525359',\n 'SRR10525360',\n 'SRR10525361',\n 'SRR10525362',\n 'SRR10525363',\n 'SRR10525364',\n 'SRR10525365',\n 'SRR10525366',\n 'SRR10525367',\n 'SRR10525368',\n 'SRR10525369',\n 'SRR10525370',\n 'SRR10525371',\n 'SRR10525372',\n 'SRR10525373',\n 'SRR10525374',\n 'SRR10525375',\n 'SRR11033592',\n 'SRR11033593',\n 'SRR11033597',\n 'SRR11033600',\n 'SRR11033609',\n 'SRR11033611',\n 'SRR11033620',\n 'SRR11033625',\n 'SRR11033634',\n 'SRR11033637',\n 'SRR11033646',\n 'SRR11033649',\n 'SRR11033658',\n 'SRR11033668',\n 'SRR11033679',\n 'SRR11033682',\n 'SRR11033684',\n 'SRR11033685',\n 'SRR11033689',\n 'SRR11033690',\n 'SRR11033691',\n 'SRR11033700',\n 'SRR11033702',\n 'SRR11033712',\n 'SRR11033714',\n 'SRR11033715',\n 'SRR11033716',\n 'SRR11033717',\n 'SRR11033718',\n 'SRR11033719',\n 'SRR11033721',\n 'SRR11033724',\n 'SRR11033726',\n 'SRR11033728',\n 'SRR11033729',\n 'SRR11033730',\n 'SRR11033734',\n 'SRR11033736',\n 'SRR11033738',\n 'SRR11033740',\n 'SRR11033741',\n 'SRR11033743',\n 'SRR11033751',\n 'SRR11033756',\n 'SRR11033757',\n 'SRR11033760',\n 'SRR11033761',\n 'SRR11033762',\n 'SRR11033767',\n 'SRR1158874',\n 'SRR1158890',\n 'SRR1158898',\n 'SRR1158907',\n 'SRR1158923',\n 'SRR1158929',\n 'SRR1158943',\n 'SRR1158946',\n 'SRR1158950',\n 'SRR1158990',\n 'SRR1159002',\n 'SRR1159003',\n 'SRR1159005',\n 'SRR1159006',\n 'SRR1159029',\n 'SRR1159034',\n 'SRR1159044',\n 'SRR1159053',\n 'SRR1159075',\n 'SRR1159076',\n 'SRR1159083',\n 'SRR1159108',\n 'SRR1159121',\n 'SRR1159122',\n 'SRR1159126',\n 'SRR1159129',\n 'SRR1159150',\n 'SRR1159154',\n 'SRR1159167',\n 'SRR1159175',\n 'SRR1159180',\n 'SRR1159204',\n 'SRR1159245',\n 'SRR1159262',\n 'SRR1159279',\n 'SRR1159283',\n 'SRR1159290',\n 'SRR1159293',\n 'SRR1159298',\n 'SRR1159299',\n 'SRR1159303',\n 'SRR1159308',\n 'SRR1159309',\n 'SRR1159338',\n 'SRR1159349',\n 'SRR1159350',\n 'SRR1159351',\n 'SRR1159352',\n 'SRR1159362',\n 'SRR1159369',\n 'SRR1159370',\n 'SRR1159377',\n 'SRR1159389',\n 'SRR1159393',\n 'SRR1159521',\n 'SRR1159526',\n 'SRR1159661',\n 'SRR1159700',\n 'SRR1159729',\n 'SRR1159738',\n 'SRR1159747',\n 'SRR1159760',\n 'SRR1159790',\n 'SRR1159810',\n 'SRR1159818',\n 'SRR1159861',\n 'SRR1159954',\n 'SRR1159959',\n 'SRR1159977',\n 'SRR1159986',\n 'SRR1162483',\n 'SRR1162485',\n 'SRR1162491',\n 'SRR1162494',\n 'SRR1162498',\n 'SRR1162502',\n 'SRR1162504',\n 'SRR1162505',\n 'SRR1162509',\n 'SRR1162518',\n 'SRR1162529',\n 'SRR1162531',\n 'SRR1162532',\n 'SRR1162533',\n 'SRR1162534',\n 'SRR1162535',\n 'SRR1162537',\n 'SRR1162539',\n 'SRR1162541',\n 'SRR1162542',\n 'SRR1162947',\n 'SRR1162952',\n 'SRR1162953',\n 'SRR1162961',\n 'SRR1162962',\n 'SRR1162966',\n 'SRR1162971',\n 'SRR1162972',\n 'SRR1162980',\n 'SRR1162995',\n 'SRR1162996',\n 'SRR1162997',\n 'SRR1163001',\n 'SRR1163002',\n 'SRR1163021',\n 'SRR1163022',\n 'SRR1163023',\n 'SRR1163025',\n 'SRR1163037',\n 'SRR1163050',\n 'SRR1163073',\n 'SRR1163079',\n 'SRR1163080',\n 'SRR1163081',\n 'SRR1163101',\n 'SRR1163103',\n 'SRR1163104',\n 'SRR1163106',\n 'SRR1163114',\n 'SRR1163115',\n 'SRR1163121',\n 'SRR1163126',\n 'SRR1163135',\n 'SRR1163139',\n 'SRR1163140',\n 'SRR1163145',\n 'SRR1163166',\n 'SRR1163172',\n 'SRR1163173',\n 'SRR1163177',\n 'SRR1163178',\n 'SRR1163185',\n 'SRR1163189',\n 'SRR1163194',\n 'SRR1163198',\n 'SRR1163199',\n 'SRR1163202',\n 'SRR1163203',\n 'SRR1163204',\n 'SRR1163211',\n 'SRR1163286',\n 'SRR1163290',\n 'SRR1163291',\n 'SRR1163296',\n 'SRR1163298',\n 'SRR1163299',\n 'SRR1163303',\n 'SRR1163309',\n 'SRR1163310',\n 'SRR1163313',\n 'SRR1163314',\n 'SRR1163315',\n 'SRR1163317',\n 'SRR1163318',\n 'SRR1163319',\n 'SRR1163325',\n 'SRR1163326',\n 'SRR1163329',\n 'SRR1163330',\n 'SRR1163332',\n 'SRR1163336',\n 'SRR1163338',\n 'SRR1163341',\n 'SRR1163348',\n 'SRR1163349',\n 'SRR1163354',\n 'SRR1163363',\n 'SRR1163369',\n 'SRR1163373',\n 'SRR1163374',\n 'SRR1163376',\n 'SRR1163380',\n 'SRR1163385',\n 'SRR1163387',\n 'SRR1163392',\n 'SRR1163397',\n 'SRR1163399',\n 'SRR1163404',\n 'SRR1163405',\n 'SRR1163406',\n 'SRR1163412',\n 'SRR1163414',\n 'SRR1163415',\n 'SRR1163416',\n 'SRR1163423',\n 'SRR1163429',\n 'SRR1163431',\n 'SRR1163432',\n 'SRR1163447',\n 'SRR11638839',\n 'SRR11648203',\n 'SRR1166908',\n 'SRR1166910',\n 'SRR1166916',\n 'SRR1166917',\n 'SRR1166920',\n 'SRR1168993',\n 'SRR1172412',\n 'SRR3510602',\n 'SRR3544716',\n 'SRR3544717',\n 'SRR3544718',\n 'SRR3544724',\n 'SRR3544725',\n 'SRR3544726',\n 'SRR3544727',\n 'SRR3544728',\n 'SRR3544729',\n 'SRR3544730',\n 'SRR3544731',\n 'SRR3544732',\n 'SRR3544733',\n 'SRR3544734',\n 'SRR3544735',\n 'SRR3544737',\n 'SRR3544739',\n 'SRR3544740',\n 'SRR3544741',\n 'SRR3544743',\n 'SRR3544747',\n 'SRR3544748',\n 'SRR3544751',\n 'SRR3743200',\n 'SRR3743202',\n 'SRR3743203',\n 'SRR3743368',\n 'SRR3743370',\n 'SRR3743373',\n 'SRR3743375',\n 'SRR3743376',\n 'SRR3743377',\n 'SRR3743378',\n 'SRR3743379',\n 'SRR3743380',\n 'SRR3743381',\n 'SRR3743382',\n 'SRR3743383',\n 'SRR3743384',\n 'SRR3743385',\n 'SRR3743386',\n 'SRR3743388',\n 'SRR3743389',\n 'SRR3743390',\n 'SRR3743391',\n 'SRR3743392',\n 'SRR3743393',\n 'SRR3743394',\n 'SRR3743396',\n 'SRR3743397',\n 'SRR3743398',\n 'SRR3743399',\n 'SRR3743400',\n 'SRR3743402',\n 'SRR3743403',\n 'SRR3743404',\n 'SRR3743405',\n 'SRR3743406',\n 'SRR3743407',\n 'SRR3743408',\n 'SRR3743409',\n 'SRR3743410',\n ...]"
          },
          "metadata": {}
        }
      ],
      "execution_count": 58,
      "metadata": {
        "pycharm": {
          "name": "#%%\n"
        },
        "gather": {
          "logged": 1604764887373
        }
      }
    },
    {
      "cell_type": "code",
      "source": [
        "# Isolate a list of sensitive genomes\n",
        "\n",
        "sensitive_genomes = binarized_resistance_status_df[binarized_resistance_status_df['Resistance_Status'] == \"Sensitive\"].index.tolist()\n",
        "sensitive_genomes"
      ],
      "outputs": [
        {
          "output_type": "execute_result",
          "execution_count": 59,
          "data": {
            "text/plain": "['ERR027460',\n 'ERR027461',\n 'ERR027462',\n 'ERR027464',\n 'ERR027466',\n 'ERR027469',\n 'ERR067579',\n 'ERR067580',\n 'ERR067585',\n 'ERR067591',\n 'ERR067594',\n 'ERR067595',\n 'ERR067597',\n 'ERR067601',\n 'ERR067604',\n 'ERR067606',\n 'ERR067607',\n 'ERR067614',\n 'ERR067616',\n 'ERR067617',\n 'ERR067624',\n 'ERR067632',\n 'ERR067633',\n 'ERR067634',\n 'ERR067636',\n 'ERR067637',\n 'ERR067640',\n 'ERR067646',\n 'ERR067648',\n 'ERR067655',\n 'ERR067664',\n 'ERR067676',\n 'ERR067680',\n 'ERR067682',\n 'ERR067684',\n 'ERR067686',\n 'ERR067688',\n 'ERR067689',\n 'ERR067690',\n 'ERR067693',\n 'ERR067699',\n 'ERR067700',\n 'ERR067702',\n 'ERR067706',\n 'ERR067708',\n 'ERR067713',\n 'ERR067716',\n 'ERR067719',\n 'ERR067726',\n 'ERR067730',\n 'ERR067737',\n 'ERR067743',\n 'ERR067753',\n 'ERR067757',\n 'ERR3335783',\n 'ERR688008',\n 'ERR688009',\n 'ERR688010',\n 'ERR688011',\n 'ERR688012',\n 'SRR10379878',\n 'SRR10379880',\n 'SRR10379881',\n 'SRR10379884',\n 'SRR10379885',\n 'SRR10379888',\n 'SRR10379891',\n 'SRR10379892',\n 'SRR10379893',\n 'SRR10379897',\n 'SRR10379900',\n 'SRR10379901',\n 'SRR10379902',\n 'SRR10379904',\n 'SRR10379907',\n 'SRR10379911',\n 'SRR10379915',\n 'SRR10379920',\n 'SRR10379923',\n 'SRR10379924',\n 'SRR10379925',\n 'SRR10379926',\n 'SRR10379930',\n 'SRR10379935',\n 'SRR10379937',\n 'SRR10379938',\n 'SRR10379946',\n 'SRR10379947',\n 'SRR10379951',\n 'SRR10379952',\n 'SRR10379954',\n 'SRR10379958',\n 'SRR10379959',\n 'SRR10379960',\n 'SRR10379961',\n 'SRR10379962',\n 'SRR10379968',\n 'SRR10379970',\n 'SRR10379975',\n 'SRR10379980',\n 'SRR10379981',\n 'SRR10379988',\n 'SRR10379991',\n 'SRR10379992',\n 'SRR10379993',\n 'SRR10379994',\n 'SRR10379996',\n 'SRR10379999',\n 'SRR10380000',\n 'SRR10380001',\n 'SRR10380006',\n 'SRR10380016',\n 'SRR10380025',\n 'SRR10380026',\n 'SRR10380027',\n 'SRR10380028',\n 'SRR10380030',\n 'SRR10380044',\n 'SRR10380049',\n 'SRR10380058',\n 'SRR10380059',\n 'SRR10380065',\n 'SRR10380067',\n 'SRR10380069',\n 'SRR10380075',\n 'SRR10380090',\n 'SRR10380091',\n 'SRR10380100',\n 'SRR10380108',\n 'SRR10380112',\n 'SRR10380114',\n 'SRR10380115',\n 'SRR10380116',\n 'SRR10380119',\n 'SRR10380126',\n 'SRR10380127',\n 'SRR10380128',\n 'SRR10380133',\n 'SRR10380134',\n 'SRR10380140',\n 'SRR10380141',\n 'SRR10380151',\n 'SRR10380152',\n 'SRR10380153',\n 'SRR10380154',\n 'SRR10380156',\n 'SRR10380157',\n 'SRR10380158',\n 'SRR10380162',\n 'SRR10380163',\n 'SRR10380169',\n 'SRR10380172',\n 'SRR10380174',\n 'SRR10380175',\n 'SRR10380177',\n 'SRR10380179',\n 'SRR10380180',\n 'SRR10380181',\n 'SRR10380182',\n 'SRR10380183',\n 'SRR10380185',\n 'SRR10380188',\n 'SRR10380190',\n 'SRR10380191',\n 'SRR10380192',\n 'SRR10380193',\n 'SRR10380195',\n 'SRR10380198',\n 'SRR10380200',\n 'SRR10380202',\n 'SRR10380203',\n 'SRR10380205',\n 'SRR10380207',\n 'SRR10380208',\n 'SRR10380211',\n 'SRR10380212',\n 'SRR10380219',\n 'SRR10380220',\n 'SRR10380221',\n 'SRR10380223',\n 'SRR10380224',\n 'SRR10380225',\n 'SRR10380227',\n 'SRR10380228',\n 'SRR10380229',\n 'SRR10380230',\n 'SRR10380232',\n 'SRR10380233',\n 'SRR10380235',\n 'SRR10380236',\n 'SRR10380237',\n 'SRR10380239',\n 'SRR10380244',\n 'SRR10380251',\n 'SRR10380252',\n 'SRR10397127',\n 'SRR10397146',\n 'SRR10397147',\n 'SRR10397148',\n 'SRR10397163',\n 'SRR10397169',\n 'SRR10397171',\n 'SRR10397172',\n 'SRR10397191',\n 'SRR10397195',\n 'SRR10397196',\n 'SRR10397202',\n 'SRR10397205',\n 'SRR10397208',\n 'SRR10397216',\n 'SRR10397229',\n 'SRR10397246',\n 'SRR10397247',\n 'SRR10397248',\n 'SRR10397250',\n 'SRR10397251',\n 'SRR10397254',\n 'SRR10397255',\n 'SRR10397257',\n 'SRR10397259',\n 'SRR10397261',\n 'SRR10397263',\n 'SRR10397269',\n 'SRR10397271',\n 'SRR10525323',\n 'SRR10525343',\n 'SRR10525344',\n 'SRR10525345',\n 'SRR10525346',\n 'SRR10525347',\n 'SRR11033589',\n 'SRR11033590',\n 'SRR11033594',\n 'SRR11033595',\n 'SRR11033596',\n 'SRR11033599',\n 'SRR11033601',\n 'SRR11033602',\n 'SRR11033603',\n 'SRR11033604',\n 'SRR11033605',\n 'SRR11033606',\n 'SRR11033607',\n 'SRR11033608',\n 'SRR11033610',\n 'SRR11033612',\n 'SRR11033613',\n 'SRR11033615',\n 'SRR11033616',\n 'SRR11033617',\n 'SRR11033618',\n 'SRR11033619',\n 'SRR11033621',\n 'SRR11033622',\n 'SRR11033623',\n 'SRR11033624',\n 'SRR11033626',\n 'SRR11033627',\n 'SRR11033628',\n 'SRR11033629',\n 'SRR11033630',\n 'SRR11033631',\n 'SRR11033632',\n 'SRR11033633',\n 'SRR11033635',\n 'SRR11033636',\n 'SRR11033638',\n 'SRR11033640',\n 'SRR11033642',\n 'SRR11033643',\n 'SRR11033645',\n 'SRR11033647',\n 'SRR11033648',\n 'SRR11033650',\n 'SRR11033652',\n 'SRR11033653',\n 'SRR11033654',\n 'SRR11033656',\n 'SRR11033657',\n 'SRR11033659',\n 'SRR11033660',\n 'SRR11033661',\n 'SRR11033664',\n 'SRR11033665',\n 'SRR11033666',\n 'SRR11033667',\n 'SRR11033669',\n 'SRR11033670',\n 'SRR11033671',\n 'SRR11033672',\n 'SRR11033675',\n 'SRR11033676',\n 'SRR11033680',\n 'SRR11033681',\n 'SRR11033683',\n 'SRR11033687',\n 'SRR11033688',\n 'SRR11033694',\n 'SRR11033696',\n 'SRR11033697',\n 'SRR11033698',\n 'SRR11033699',\n 'SRR11033701',\n 'SRR11033703',\n 'SRR11033705',\n 'SRR11033706',\n 'SRR11033707',\n 'SRR11033708',\n 'SRR11033709',\n 'SRR11033710',\n 'SRR11033711',\n 'SRR11033713',\n 'SRR11033720',\n 'SRR11033722',\n 'SRR11033723',\n 'SRR11033725',\n 'SRR11033733',\n 'SRR11033735',\n 'SRR11033744',\n 'SRR11033746',\n 'SRR11033747',\n 'SRR11033748',\n 'SRR11033749',\n 'SRR11033750',\n 'SRR11033752',\n 'SRR11033753',\n 'SRR11033754',\n 'SRR11033755',\n 'SRR11033758',\n 'SRR11033759',\n 'SRR11033763',\n 'SRR11033764',\n 'SRR11033765',\n 'SRR11033766',\n 'SRR11033768',\n 'SRR11033769',\n 'SRR11033770',\n 'SRR11033771',\n 'SRR11033772',\n 'SRR11033773',\n 'SRR11033774',\n 'SRR11033776',\n 'SRR11033777',\n 'SRR11033778',\n 'SRR11033779',\n 'SRR11033780',\n 'SRR1158931',\n 'SRR1158939',\n 'SRR1158998',\n 'SRR1159038',\n 'SRR1159052',\n 'SRR1159171',\n 'SRR1159237',\n 'SRR1159261',\n 'SRR1159301',\n 'SRR1159310',\n 'SRR1159360',\n 'SRR1159366',\n 'SRR1159682',\n 'SRR1159687',\n 'SRR1159713',\n 'SRR1159723',\n 'SRR1159895',\n 'SRR1159904',\n 'SRR1159935',\n 'SRR1159952',\n 'SRR1162495',\n 'SRR1162513',\n 'SRR1162521',\n 'SRR1162536',\n 'SRR1162957',\n 'SRR1162967',\n 'SRR1163016',\n 'SRR1163029',\n 'SRR1163038',\n 'SRR1163096',\n 'SRR1163097',\n 'SRR1163102',\n 'SRR1163105',\n 'SRR1163127',\n 'SRR1163167',\n 'SRR1163171',\n 'SRR1163184',\n 'SRR1163195',\n 'SRR1163287',\n 'SRR1163302',\n 'SRR1163304',\n 'SRR1163347',\n 'SRR1163353',\n 'SRR1163365',\n 'SRR1163366',\n 'SRR1163368',\n 'SRR1163371',\n 'SRR1163372',\n 'SRR1163386',\n 'SRR1163393',\n 'SRR1163398',\n 'SRR1163411',\n 'SRR1163421',\n 'SRR1163430',\n 'SRR1166911',\n 'SRR1166921',\n 'SRR1169019',\n 'SRR1169065',\n 'SRR1172273',\n 'SRR1172286',\n 'SRR3544719',\n 'SRR3544720',\n 'SRR3544721',\n 'SRR3544722',\n 'SRR3544723',\n 'SRR3544736',\n 'SRR3544738',\n 'SRR3544742',\n 'SRR3544744',\n 'SRR3544745',\n 'SRR3544746',\n 'SRR3544749',\n 'SRR3544750',\n 'SRR3544752',\n 'SRR3743189',\n 'SRR3743199',\n 'SRR3743201',\n 'SRR3743371',\n 'SRR3743374',\n 'SRR3743387',\n 'SRR3743395',\n 'SRR3743411',\n 'SRR3743413',\n 'SRR3743414',\n 'SRR3743436',\n 'SRR3743457',\n 'SRR3743458',\n 'SRR3743463',\n 'SRR3743478',\n 'SRR3743482',\n 'SRR3743483',\n 'SRR3743485',\n 'SRR3743493',\n 'SRR3743495',\n 'SRR5065201',\n 'SRR5065202',\n 'SRR5065205',\n 'SRR5065207',\n 'SRR5065208',\n 'SRR5065210',\n 'SRR5065211',\n 'SRR5065212',\n 'SRR5065220',\n 'SRR5065223',\n 'SRR5065224',\n 'SRR5065225',\n 'SRR5065226',\n 'SRR5065227',\n 'SRR5065229',\n 'SRR5065232',\n 'SRR5065233',\n 'SRR5065237',\n 'SRR5065239',\n 'SRR5065242',\n 'SRR5065243',\n 'SRR5065244',\n 'SRR5065246',\n 'SRR5065251',\n 'SRR5065252',\n 'SRR5065254',\n 'SRR5065255',\n 'SRR5065256',\n 'SRR5065262',\n 'SRR5065264',\n 'SRR5065266',\n 'SRR5065272',\n 'SRR5065273',\n 'SRR5065275',\n 'SRR5065278',\n 'SRR5065283',\n 'SRR5065284',\n 'SRR5065285',\n 'SRR5065286',\n 'SRR5065290',\n 'SRR5065294',\n 'SRR5065295',\n 'SRR5065296',\n 'SRR5065297',\n 'SRR5065298',\n 'SRR5065301',\n 'SRR5065302',\n 'SRR5065304',\n 'SRR5065305',\n 'SRR5065306',\n 'SRR5065307',\n 'SRR5065309',\n 'SRR5065310',\n 'SRR5065312',\n 'SRR5065317',\n 'SRR5065318',\n 'SRR5065319',\n 'SRR5065320',\n 'SRR5065321',\n 'SRR5065323',\n 'SRR5065327',\n 'SRR5065330',\n 'SRR5065331',\n 'SRR5065333',\n 'SRR5065334',\n 'SRR5065337',\n 'SRR5065338',\n 'SRR5065340',\n 'SRR5065344',\n 'SRR5065346',\n 'SRR5065349',\n 'SRR5065350',\n 'SRR5065352',\n 'SRR5065353',\n 'SRR5065354',\n 'SRR5065355',\n 'SRR5065359',\n 'SRR5065360',\n 'SRR5065363',\n 'SRR5065364',\n 'SRR5065365',\n 'SRR5065367',\n 'SRR5065368',\n 'SRR5065369',\n 'SRR5065372',\n 'SRR5065374',\n 'SRR5065375',\n 'SRR5065378',\n 'SRR5065379',\n 'SRR5065382',\n 'SRR5065383',\n 'SRR5065384',\n 'SRR5065387',\n 'SRR5065388',\n 'SRR5065395',\n 'SRR5065396',\n 'SRR5065398',\n 'SRR5065399',\n 'SRR5065401',\n 'SRR5065402',\n 'SRR5152915',\n 'SRR5152928',\n 'SRR5152929',\n 'SRR5152938',\n 'SRR5153032',\n 'SRR5153073',\n 'SRR5153076',\n 'SRR5153083',\n 'SRR5153084',\n 'SRR5153090',\n 'SRR5153131',\n 'SRR5153132',\n 'SRR5153266',\n 'SRR5153310',\n 'SRR5153596',\n 'SRR5153818',\n 'SRR5153822',\n 'SRR5153836',\n 'SRR5153843',\n 'SRR5153845',\n 'SRR5153847',\n 'SRR5153851',\n 'SRR5153858',\n 'SRR5153861',\n 'SRR5153862',\n 'SRR5153866',\n 'SRR5153870',\n 'SRR5153880',\n 'SRR5153881',\n 'SRR5153884',\n 'SRR5153900',\n 'SRR5153909',\n 'SRR5153913',\n 'SRR5153914',\n 'SRR5153918',\n 'SRR5153922',\n 'SRR5153927',\n 'SRR5486871',\n 'SRR5486889',\n 'SRR6356934',\n 'SRR6356950',\n 'SRR6356958',\n 'SRR6356964',\n 'SRR6356971',\n 'SRR6356973',\n 'SRR6356975',\n 'SRR6356976',\n 'SRR6356978',\n 'SRR6356982',\n 'SRR6356983',\n 'SRR6356986',\n 'SRR6356988',\n 'SRR6356989',\n 'SRR6356995',\n 'SRR6458398',\n 'SRR6458399',\n 'SRR6458400',\n 'SRR6458402',\n 'SRR6458404',\n 'SRR6458405',\n 'SRR6458408',\n 'SRR6458409',\n 'SRR6458457',\n 'SRR6458458',\n 'SRR6458459',\n 'SRR6458461',\n 'SRR6458464',\n 'SRR6807669',\n 'SRR6807670',\n 'SRR6807671',\n 'SRR6807678',\n 'SRR6807680',\n 'SRR6807683',\n 'SRR6807697',\n 'SRR6807722',\n 'SRR6807726',\n 'SRR6807727',\n 'SRR6807728',\n 'SRR6807730',\n 'SRR6807734',\n 'SRR6807738',\n 'SRR6807743',\n 'SRR6807744',\n 'SRR6807745',\n 'SRR6807752',\n 'SRR6807761',\n 'SRR7516306',\n 'SRR7516315',\n 'SRR7516342',\n 'SRR7516345',\n 'SRR7516348',\n 'SRR7516349',\n 'SRR7516350',\n 'SRR7516351',\n 'SRR7516354',\n 'SRR7516356',\n 'SRR7516357',\n 'SRR7516360',\n 'SRR7516361',\n 'SRR7516362',\n 'SRR7516363',\n 'SRR7516364',\n 'SRR7516365',\n 'SRR7516366',\n 'SRR7516367',\n 'SRR7516379',\n 'SRR7516381',\n 'SRR7516382',\n 'SRR7516390',\n 'SRR7516397',\n 'SRR7516408',\n 'SRR7516409',\n 'SRR7516411',\n 'SRR7516412',\n 'SRR7516415',\n 'SRR7516417',\n 'SRR7516420',\n 'SRR7516421',\n 'SRR7516430',\n 'SRR7516431',\n 'SRR7516432',\n 'SRR7516433',\n 'SRR7516436',\n 'SRR7516440',\n 'SRR7516444',\n 'SRR7516445',\n 'SRR7516446',\n 'SRR7516447',\n 'SRR7516449',\n 'SRR7516453',\n 'SRR7516456',\n 'SRR7516457',\n 'SRR7516460',\n 'SRR7654034',\n 'SRR7654036',\n 'SRR7655467',\n 'SRR7655613',\n 'SRR7655615',\n 'SRR7655617',\n 'SRR7655618',\n 'SRR8552931',\n 'SRR8552932',\n 'SRR8552933',\n 'SRR9738475',\n 'SRR9738478',\n 'SRR9738501']"
          },
          "metadata": {}
        }
      ],
      "execution_count": 59,
      "metadata": {
        "pycharm": {
          "name": "#%%\n"
        },
        "gather": {
          "logged": 1604764892105
        }
      }
    },
    {
      "cell_type": "code",
      "source": [
        "# Read the genomes IDs of genomes\n",
        "# - Tb-portals\n",
        "# - HTBC\n",
        "\n",
        "import json\n",
        "\n",
        "with open(data_location + \"test_train_genome_ids.json\") as f:\n",
        "    all_genomes_ids_dict = json.load(f)\n",
        "\n",
        "all_genomes_ids_dict\n"
      ],
      "outputs": [
        {
          "output_type": "execute_result",
          "execution_count": 82,
          "data": {
            "text/plain": "{'tb_portals': ['SRR10379876',\n  'SRR10379877',\n  'SRR10379878',\n  'SRR10379879',\n  'SRR10379880',\n  'SRR10379881',\n  'SRR10379882',\n  'SRR10379883',\n  'SRR10379884',\n  'SRR10379885',\n  'SRR10379886',\n  'SRR10379887',\n  'SRR10379888',\n  'SRR10379889',\n  'SRR10379890',\n  'SRR10379891',\n  'SRR10379892',\n  'SRR10379893',\n  'SRR10379894',\n  'SRR10379895',\n  'SRR10379896',\n  'SRR10379897',\n  'SRR10379898',\n  'SRR10379899',\n  'SRR10379900',\n  'SRR10379901',\n  'SRR10379902',\n  'SRR10379903',\n  'SRR10379904',\n  'SRR10379905',\n  'SRR10379906',\n  'SRR10379907',\n  'SRR10379908',\n  'SRR10379909',\n  'SRR10379910',\n  'SRR10379911',\n  'SRR10379912',\n  'SRR10379913',\n  'SRR10379914',\n  'SRR10379915',\n  'SRR10379916',\n  'SRR10379917',\n  'SRR10379918',\n  'SRR10379919',\n  'SRR10379920',\n  'SRR10379921',\n  'SRR10379922',\n  'SRR10379923',\n  'SRR10379924',\n  'SRR10379925',\n  'SRR10379926',\n  'SRR10379927',\n  'SRR10379928',\n  'SRR10379929',\n  'SRR10379930',\n  'SRR10379931',\n  'SRR10379932',\n  'SRR10379933',\n  'SRR10379934',\n  'SRR10379935',\n  'SRR10379936',\n  'SRR10379937',\n  'SRR10379938',\n  'SRR10379939',\n  'SRR10379940',\n  'SRR10379941',\n  'SRR10379942',\n  'SRR10379943',\n  'SRR10379944',\n  'SRR10379945',\n  'SRR10379946',\n  'SRR10379947',\n  'SRR10379948',\n  'SRR10379949',\n  'SRR10379950',\n  'SRR10379951',\n  'SRR10379952',\n  'SRR10379953',\n  'SRR10379954',\n  'SRR10379955',\n  'SRR10379956',\n  'SRR10379957',\n  'SRR10379958',\n  'SRR10379959',\n  'SRR10379960',\n  'SRR10379961',\n  'SRR10379962',\n  'SRR10379963',\n  'SRR10379964',\n  'SRR10379965',\n  'SRR10379966',\n  'SRR10379967',\n  'SRR10379968',\n  'SRR10379969',\n  'SRR10379970',\n  'SRR10379971',\n  'SRR10379972',\n  'SRR10379973',\n  'SRR10379974',\n  'SRR10379975',\n  'SRR10379976',\n  'SRR10379977',\n  'SRR10379978',\n  'SRR10379979',\n  'SRR10379980',\n  'SRR10379981',\n  'SRR10379982',\n  'SRR10379983',\n  'SRR10379984',\n  'SRR10379985',\n  'SRR10379986',\n  'SRR10379987',\n  'SRR10379988',\n  'SRR10379989',\n  'SRR10379990',\n  'SRR10379991',\n  'SRR10379992',\n  'SRR10379993',\n  'SRR10379994',\n  'SRR10379995',\n  'SRR10379996',\n  'SRR10379997',\n  'SRR10379998',\n  'SRR10379999',\n  'SRR10380000',\n  'SRR10380001',\n  'SRR10380002',\n  'SRR10380003',\n  'SRR10380004',\n  'SRR10380005',\n  'SRR10380006',\n  'SRR10380007',\n  'SRR10380008',\n  'SRR10380009',\n  'SRR10380010',\n  'SRR10380011',\n  'SRR10380012',\n  'SRR10380013',\n  'SRR10380014',\n  'SRR10380015',\n  'SRR10380016',\n  'SRR10380017',\n  'SRR10380018',\n  'SRR10380019',\n  'SRR10380020',\n  'SRR10380021',\n  'SRR10380022',\n  'SRR10380023',\n  'SRR10380024',\n  'SRR10380025',\n  'SRR10380026',\n  'SRR10380027',\n  'SRR10380028',\n  'SRR10380029',\n  'SRR10380030',\n  'SRR10380031',\n  'SRR10380032',\n  'SRR10380033',\n  'SRR10380034',\n  'SRR10380035',\n  'SRR10380036',\n  'SRR10380037',\n  'SRR10380038',\n  'SRR10380039',\n  'SRR10380040',\n  'SRR10380041',\n  'SRR10380042',\n  'SRR10380043',\n  'SRR10380044',\n  'SRR10380045',\n  'SRR10380046',\n  'SRR10380047',\n  'SRR10380048',\n  'SRR10380049',\n  'SRR10380050',\n  'SRR10380051',\n  'SRR10380052',\n  'SRR10380053',\n  'SRR10380054',\n  'SRR10380055',\n  'SRR10380056',\n  'SRR10380057',\n  'SRR10380058',\n  'SRR10380059',\n  'SRR10380060',\n  'SRR10380061',\n  'SRR10380062',\n  'SRR10380063',\n  'SRR10380064',\n  'SRR10380065',\n  'SRR10380066',\n  'SRR10380067',\n  'SRR10380068',\n  'SRR10380069',\n  'SRR10380070',\n  'SRR10380071',\n  'SRR10380072',\n  'SRR10380073',\n  'SRR10380074',\n  'SRR10380075',\n  'SRR10380076',\n  'SRR10380077',\n  'SRR10380078',\n  'SRR10380079',\n  'SRR10380080',\n  'SRR10380081',\n  'SRR10380082',\n  'SRR10380083',\n  'SRR10380084',\n  'SRR10380085',\n  'SRR10380086',\n  'SRR10380087',\n  'SRR10380089',\n  'SRR10380090',\n  'SRR10380091',\n  'SRR10380092',\n  'SRR10380093',\n  'SRR10380094',\n  'SRR10380095',\n  'SRR10380096',\n  'SRR10380097',\n  'SRR10380098',\n  'SRR10380099',\n  'SRR10380100',\n  'SRR10380101',\n  'SRR10380102',\n  'SRR10380103',\n  'SRR10380104',\n  'SRR10380105',\n  'SRR10380106',\n  'SRR10380107',\n  'SRR10380108',\n  'SRR10380109',\n  'SRR10380110',\n  'SRR10380111',\n  'SRR10380112',\n  'SRR10380113',\n  'SRR10380114',\n  'SRR10380115',\n  'SRR10380116',\n  'SRR10380117',\n  'SRR10380118',\n  'SRR10380119',\n  'SRR10380120',\n  'SRR10380121',\n  'SRR10380122',\n  'SRR10380123',\n  'SRR10380124',\n  'SRR10380125',\n  'SRR10380126',\n  'SRR10380127',\n  'SRR10380128',\n  'SRR10380129',\n  'SRR10380130',\n  'SRR10380131',\n  'SRR10380132',\n  'SRR10380133',\n  'SRR10380134',\n  'SRR10380135',\n  'SRR10380136',\n  'SRR10380137',\n  'SRR10380138',\n  'SRR10380139',\n  'SRR10380140',\n  'SRR10380141',\n  'SRR10380142',\n  'SRR10380143',\n  'SRR10380144',\n  'SRR10380145',\n  'SRR10380146',\n  'SRR10380147',\n  'SRR10380148',\n  'SRR10380149',\n  'SRR10380150',\n  'SRR10380151',\n  'SRR10380152',\n  'SRR10380153',\n  'SRR10380154',\n  'SRR10380155',\n  'SRR10380156',\n  'SRR10380157',\n  'SRR10380158',\n  'SRR10380159',\n  'SRR10380160',\n  'SRR10380161',\n  'SRR10380162',\n  'SRR10380163',\n  'SRR10380164',\n  'SRR10380165',\n  'SRR10380166',\n  'SRR10380167',\n  'SRR10380168',\n  'SRR10380169',\n  'SRR10380170',\n  'SRR10380171',\n  'SRR10380172',\n  'SRR10380173',\n  'SRR10380174',\n  'SRR10380175',\n  'SRR10380176',\n  'SRR10380177',\n  'SRR10380178',\n  'SRR10380179',\n  'SRR10380180',\n  'SRR10380181',\n  'SRR10380182',\n  'SRR10380183',\n  'SRR10380184',\n  'SRR10380185',\n  'SRR10380186',\n  'SRR10380187',\n  'SRR10380188',\n  'SRR10380189',\n  'SRR10380190',\n  'SRR10380191',\n  'SRR10380192',\n  'SRR10380193',\n  'SRR10380194',\n  'SRR10380195',\n  'SRR10380196',\n  'SRR10380197',\n  'SRR10380198',\n  'SRR10380199',\n  'SRR10380200',\n  'SRR10380201',\n  'SRR10380202',\n  'SRR10380203',\n  'SRR10380204',\n  'SRR10380205',\n  'SRR10380206',\n  'SRR10380207',\n  'SRR10380208',\n  'SRR10380209',\n  'SRR10380210',\n  'SRR10380211',\n  'SRR10380212',\n  'SRR10380213',\n  'SRR10380214',\n  'SRR10380215',\n  'SRR10380216',\n  'SRR10380217',\n  'SRR10380218',\n  'SRR10380219',\n  'SRR10380220',\n  'SRR10380221',\n  'SRR10380222',\n  'SRR10380223',\n  'SRR10380224',\n  'SRR10380225',\n  'SRR10380226',\n  'SRR10380227',\n  'SRR10380228',\n  'SRR10380229',\n  'SRR10380230',\n  'SRR10380231',\n  'SRR10380232',\n  'SRR10380233',\n  'SRR10380234',\n  'SRR10380235',\n  'SRR10380236',\n  'SRR10380237',\n  'SRR10380238',\n  'SRR10380239',\n  'SRR10380240',\n  'SRR10380241',\n  'SRR10380242',\n  'SRR10380243',\n  'SRR10380244',\n  'SRR10380245',\n  'SRR10380246',\n  'SRR10380247',\n  'SRR10380248',\n  'SRR10380249',\n  'SRR10380250',\n  'SRR10380251',\n  'SRR10380252',\n  'SRR10380253',\n  'SRR10397092',\n  'SRR10397093',\n  'SRR10397094',\n  'SRR10397095',\n  'SRR10397096',\n  'SRR10397097',\n  'SRR10397098',\n  'SRR10397099',\n  'SRR10397100',\n  'SRR10397101',\n  'SRR10397102',\n  'SRR10397103',\n  'SRR10397104',\n  'SRR10397105',\n  'SRR10397106',\n  'SRR10397107',\n  'SRR10397108',\n  'SRR10397109',\n  'SRR10397110',\n  'SRR10397111',\n  'SRR10397112',\n  'SRR10397114',\n  'SRR10397115',\n  'SRR10397116',\n  'SRR10397117',\n  'SRR10397118',\n  'SRR10397119',\n  'SRR10397120',\n  'SRR10397121',\n  'SRR10397122',\n  'SRR10397123',\n  'SRR10397124',\n  'SRR10397125',\n  'SRR10397126',\n  'SRR10397127',\n  'SRR10397128',\n  'SRR10397129',\n  'SRR10397130',\n  'SRR10397131',\n  'SRR10397132',\n  'SRR10397133',\n  'SRR10397134',\n  'SRR10397135',\n  'SRR10397136',\n  'SRR10397137',\n  'SRR10397138',\n  'SRR10397139',\n  'SRR10397140',\n  'SRR10397141',\n  'SRR10397142',\n  'SRR10397143',\n  'SRR10397144',\n  'SRR10397145',\n  'SRR10397146',\n  'SRR10397147',\n  'SRR10397148',\n  'SRR10397149',\n  'SRR10397150',\n  'SRR10397151',\n  'SRR10397152',\n  'SRR10397153',\n  'SRR10397154',\n  'SRR10397155',\n  'SRR10397156',\n  'SRR10397157',\n  'SRR10397158',\n  'SRR10397159',\n  'SRR10397160',\n  'SRR10397161',\n  'SRR10397162',\n  'SRR10397163',\n  'SRR10397164',\n  'SRR10397165',\n  'SRR10397166',\n  'SRR10397167',\n  'SRR10397168',\n  'SRR10397169',\n  'SRR10397170',\n  'SRR10397171',\n  'SRR10397172',\n  'SRR10397173',\n  'SRR10397174',\n  'SRR10397175',\n  'SRR10397176',\n  'SRR10397177',\n  'SRR10397178',\n  'SRR10397179',\n  'SRR10397180',\n  'SRR10397181',\n  'SRR10397182',\n  'SRR10397183',\n  'SRR10397185',\n  'SRR10397186',\n  'SRR10397187',\n  'SRR10397188',\n  'SRR10397189',\n  'SRR10397190',\n  'SRR10397191',\n  'SRR10397192',\n  'SRR10397193',\n  'SRR10397194',\n  'SRR10397195',\n  'SRR10397196',\n  'SRR10397197',\n  'SRR10397198',\n  'SRR10397199',\n  'SRR10397200',\n  'SRR10397202',\n  'SRR10397204',\n  'SRR10397205',\n  'SRR10397208',\n  'SRR10397209',\n  'SRR10397211',\n  'SRR10397212',\n  'SRR10397213',\n  'SRR10397214',\n  'SRR10397215',\n  'SRR10397216',\n  'SRR10397217',\n  'SRR10397218',\n  'SRR10397219',\n  'SRR10397220',\n  'SRR10397221',\n  'SRR10397222',\n  'SRR10397223',\n  'SRR10397224',\n  'SRR10397225',\n  'SRR10397226',\n  'SRR10397227',\n  'SRR10397228',\n  'SRR10397229',\n  'SRR10397230',\n  'SRR10397231',\n  'SRR10397232',\n  'SRR10397233',\n  'SRR10397234',\n  'SRR10397235',\n  'SRR10397236',\n  'SRR10397237',\n  'SRR10397239',\n  'SRR10397240',\n  'SRR10397241',\n  'SRR10397242',\n  'SRR10397243',\n  'SRR10397244',\n  'SRR10397245',\n  'SRR10397246',\n  'SRR10397247',\n  'SRR10397248',\n  'SRR10397249',\n  'SRR10397250',\n  'SRR10397251',\n  'SRR10397252',\n  'SRR10397253',\n  'SRR10397254',\n  'SRR10397255',\n  'SRR10397256',\n  'SRR10397257',\n  'SRR10397258',\n  'SRR10397259',\n  'SRR10397260',\n  'SRR10397261',\n  'SRR10397262',\n  'SRR10397263',\n  'SRR10397264',\n  'SRR10397265',\n  'SRR10397266',\n  'SRR10397267',\n  'SRR10397268',\n  'SRR10397269',\n  'SRR10397270',\n  'SRR10397271',\n  'SRR10397273',\n  'SRR10525317',\n  'SRR10525318',\n  'SRR10525319',\n  'SRR10525320',\n  'SRR10525321',\n  'SRR10525322',\n  'SRR10525323',\n  'SRR10525324',\n  'SRR10525325',\n  'SRR10525326',\n  'SRR10525327',\n  'SRR10525328',\n  'SRR10525329',\n  'SRR10525330',\n  'SRR10525331',\n  'SRR10525332',\n  'SRR10525333',\n  'SRR10525334',\n  'SRR10525335',\n  'SRR10525336',\n  'SRR10525337',\n  'SRR10525338',\n  'SRR10525339',\n  'SRR10525340',\n  'SRR10525341',\n  'SRR10525342',\n  'SRR10525343',\n  'SRR10525344',\n  'SRR10525345',\n  'SRR10525346',\n  'SRR10525347',\n  'SRR10525348',\n  'SRR10525349',\n  'SRR10525350',\n  'SRR10525351',\n  'SRR10525352',\n  'SRR10525353',\n  'SRR10525354',\n  'SRR10525355',\n  'SRR10525356',\n  'SRR10525357',\n  'SRR10525358',\n  'SRR10525359',\n  'SRR10525360',\n  'SRR10525361',\n  'SRR10525362',\n  'SRR10525363',\n  'SRR10525364',\n  'SRR10525365',\n  'SRR10525366',\n  'SRR10525367',\n  'SRR10525368',\n  'SRR10525369',\n  'SRR10525370',\n  'SRR10525371',\n  'SRR10525372',\n  'SRR10525373',\n  'SRR10525374',\n  'SRR10525375',\n  'SRR11033589',\n  'SRR11033590',\n  'SRR11033592',\n  'SRR11033593',\n  'SRR11033594',\n  'SRR11033595',\n  'SRR11033596',\n  'SRR11033597',\n  'SRR11033599',\n  'SRR11033600',\n  'SRR11033601',\n  'SRR11033602',\n  'SRR11033603',\n  'SRR11033604',\n  'SRR11033605',\n  'SRR11033606',\n  'SRR11033607',\n  'SRR11033608',\n  'SRR11033609',\n  'SRR11033610',\n  'SRR11033611',\n  'SRR11033612',\n  'SRR11033613',\n  'SRR11033615',\n  'SRR11033616',\n  'SRR11033617',\n  'SRR11033618',\n  'SRR11033619',\n  'SRR11033620',\n  'SRR11033621',\n  'SRR11033622',\n  'SRR11033623',\n  'SRR11033624',\n  'SRR11033625',\n  'SRR11033626',\n  'SRR11033627',\n  'SRR11033628',\n  'SRR11033629',\n  'SRR11033630',\n  'SRR11033631',\n  'SRR11033632',\n  'SRR11033633',\n  'SRR11033634',\n  'SRR11033635',\n  'SRR11033636',\n  'SRR11033637',\n  'SRR11033638',\n  'SRR11033640',\n  'SRR11033642',\n  'SRR11033643',\n  'SRR11033645',\n  'SRR11033646',\n  'SRR11033647',\n  'SRR11033648',\n  'SRR11033649',\n  'SRR11033650',\n  'SRR11033652',\n  'SRR11033653',\n  'SRR11033654',\n  'SRR11033656',\n  'SRR11033657',\n  'SRR11033658',\n  'SRR11033659',\n  'SRR11033660',\n  'SRR11033661',\n  'SRR11033664',\n  'SRR11033665',\n  'SRR11033666',\n  'SRR11033667',\n  'SRR11033668',\n  'SRR11033669',\n  'SRR11033670',\n  'SRR11033671',\n  'SRR11033672',\n  'SRR11033675',\n  'SRR11033676',\n  'SRR11033679',\n  'SRR11033680',\n  'SRR11033681',\n  'SRR11033682',\n  'SRR11033683',\n  'SRR11033684',\n  'SRR11033685',\n  'SRR11033687',\n  'SRR11033688',\n  'SRR11033689',\n  'SRR11033690',\n  'SRR11033691',\n  'SRR11033694',\n  'SRR11033696',\n  'SRR11033697',\n  'SRR11033698',\n  'SRR11033699',\n  'SRR11033700',\n  'SRR11033701',\n  'SRR11033702',\n  'SRR11033703',\n  'SRR11033705',\n  'SRR11033706',\n  'SRR11033707',\n  'SRR11033708',\n  'SRR11033709',\n  'SRR11033710',\n  'SRR11033711',\n  'SRR11033712',\n  'SRR11033713',\n  'SRR11033714',\n  'SRR11033715',\n  'SRR11033716',\n  'SRR11033717',\n  'SRR11033718',\n  'SRR11033719',\n  'SRR11033720',\n  'SRR11033721',\n  'SRR11033722',\n  'SRR11033723',\n  'SRR11033724',\n  'SRR11033725',\n  'SRR11033726',\n  'SRR11033728',\n  'SRR11033729',\n  'SRR11033730',\n  'SRR11033733',\n  'SRR11033734',\n  'SRR11033735',\n  'SRR11033736',\n  'SRR11033738',\n  'SRR11033740',\n  'SRR11033741',\n  'SRR11033743',\n  'SRR11033744',\n  'SRR11033746',\n  'SRR11033747',\n  'SRR11033748',\n  'SRR11033749',\n  'SRR11033750',\n  'SRR11033751',\n  'SRR11033752',\n  'SRR11033753',\n  'SRR11033754',\n  'SRR11033755',\n  'SRR11033756',\n  'SRR11033757',\n  'SRR11033758',\n  'SRR11033759',\n  'SRR11033760',\n  'SRR11033761',\n  'SRR11033762',\n  'SRR11033763',\n  'SRR11033764',\n  'SRR11033765',\n  'SRR11033766',\n  'SRR11033767',\n  'SRR11033768',\n  'SRR11033769',\n  'SRR11033770',\n  'SRR11033771',\n  'SRR11033772',\n  'SRR11033773',\n  'SRR11033774',\n  'SRR11033776',\n  'SRR11033777',\n  'SRR11033778',\n  'SRR11033779',\n  'SRR11033780',\n  'SRR1158874',\n  'SRR1158890',\n  'SRR1158898',\n  'SRR1158907',\n  'SRR1158923',\n  'SRR1158929',\n  'SRR1158931',\n  'SRR1158939',\n  'SRR1158943',\n  'SRR1158946',\n  'SRR1158950',\n  'SRR1158990',\n  'SRR1158998',\n  'SRR1159002',\n  'SRR1159003',\n  'SRR1159005',\n  'SRR1159006',\n  'SRR1159029',\n  'SRR1159034',\n  'SRR1159038',\n  'SRR1159044',\n  'SRR1159052',\n  'SRR1159053',\n  'SRR1159075',\n  'SRR1159076',\n  'SRR1159083',\n  'SRR1159108',\n  'SRR1159121',\n  'SRR1159122',\n  'SRR1159126',\n  'SRR1159129',\n  'SRR1159150',\n  'SRR1159154',\n  'SRR1159167',\n  'SRR1159171',\n  'SRR1159175',\n  'SRR1159180',\n  'SRR1159204',\n  'SRR1159237',\n  'SRR1159245',\n  'SRR1159261',\n  'SRR1159262',\n  'SRR1159279',\n  'SRR1159283',\n  'SRR1159290',\n  'SRR1159293',\n  'SRR1159298',\n  'SRR1159299',\n  'SRR1159301',\n  'SRR1159303',\n  'SRR1159308',\n  'SRR1159309',\n  'SRR1159310',\n  'SRR1159338',\n  'SRR1159349',\n  'SRR1159350',\n  'SRR1159351',\n  'SRR1159352',\n  'SRR1159360',\n  'SRR1159362',\n  'SRR1159366',\n  'SRR1159369',\n  'SRR1159370',\n  'SRR1159377',\n  'SRR1159389',\n  'SRR1159393',\n  'SRR1159521',\n  'SRR1159526',\n  'SRR1159661',\n  'SRR1159682',\n  'SRR1159687',\n  'SRR1159700',\n  'SRR1159713',\n  'SRR1159723',\n  'SRR1159729',\n  'SRR1159738',\n  'SRR1159747',\n  'SRR1159760',\n  'SRR1159790',\n  'SRR1159810',\n  'SRR1159818',\n  'SRR1159861',\n  'SRR1159895',\n  'SRR1159904',\n  'SRR1159935',\n  'SRR1159952',\n  'SRR1159954',\n  'SRR1159959',\n  'SRR1159977',\n  'SRR1159986',\n  'SRR1162483',\n  'SRR1162485',\n  'SRR1162491',\n  'SRR1162494',\n  'SRR1162495',\n  'SRR1162498',\n  'SRR1162502',\n  'SRR1162504',\n  'SRR1162505',\n  'SRR1162509',\n  'SRR1162513',\n  'SRR1162518',\n  'SRR1162521',\n  'SRR1162529',\n  'SRR1162531',\n  'SRR1162532',\n  'SRR1162533',\n  'SRR1162534',\n  'SRR1162535',\n  'SRR1162536',\n  'SRR1162537',\n  'SRR1162539',\n  'SRR1162541',\n  'SRR1162542',\n  'SRR1162947',\n  'SRR1162952',\n  'SRR1162953',\n  'SRR1162957',\n  'SRR1162961',\n  'SRR1162962',\n  'SRR1162966',\n  'SRR1162967',\n  'SRR1162971',\n  'SRR1162972',\n  'SRR1162980',\n  'SRR1162995',\n  'SRR1162996',\n  'SRR1162997',\n  'SRR1163001',\n  'SRR1163002',\n  'SRR1163016',\n  'SRR1163021',\n  'SRR1163022',\n  'SRR1163023',\n  'SRR1163025',\n  'SRR1163029',\n  'SRR1163037',\n  'SRR1163038',\n  'SRR1163050',\n  'SRR1163073',\n  'SRR1163079',\n  'SRR1163080',\n  'SRR1163081',\n  'SRR1163096',\n  'SRR1163097',\n  'SRR1163101',\n  'SRR1163102',\n  'SRR1163103',\n  'SRR1163104',\n  'SRR1163105',\n  'SRR1163106',\n  'SRR1163114',\n  'SRR1163115',\n  'SRR1163121',\n  'SRR1163126',\n  'SRR1163127',\n  'SRR1163135',\n  'SRR1163139',\n  'SRR1163140',\n  'SRR1163145',\n  'SRR1163166',\n  'SRR1163167',\n  'SRR1163171',\n  'SRR1163172',\n  'SRR1163173',\n  'SRR1163177',\n  'SRR1163178',\n  'SRR1163184',\n  'SRR1163185',\n  'SRR1163189',\n  'SRR1163194',\n  'SRR1163195',\n  'SRR1163198',\n  'SRR1163199',\n  'SRR1163202',\n  'SRR1163203',\n  'SRR1163204',\n  'SRR1163211',\n  'SRR1163286',\n  'SRR1163287',\n  'SRR1163290',\n  'SRR1163291',\n  'SRR1163296',\n  'SRR1163298',\n  'SRR1163299',\n  'SRR1163302',\n  'SRR1163303',\n  'SRR1163304',\n  'SRR1163309',\n  'SRR1163310',\n  'SRR1163313',\n  'SRR1163314',\n  'SRR1163315',\n  'SRR1163317',\n  'SRR1163318',\n  'SRR1163319',\n  'SRR1163325',\n  'SRR1163326',\n  'SRR1163329',\n  'SRR1163330',\n  'SRR1163332',\n  'SRR1163336',\n  'SRR1163338',\n  'SRR1163341',\n  'SRR1163347',\n  'SRR1163348',\n  'SRR1163349',\n  'SRR1163353',\n  'SRR1163354',\n  'SRR1163363',\n  'SRR1163365',\n  'SRR1163366',\n  'SRR1163368',\n  'SRR1163369',\n  'SRR1163371',\n  'SRR1163372',\n  'SRR1163373',\n  'SRR1163374',\n  'SRR1163376',\n  'SRR1163380',\n  'SRR1163385',\n  'SRR1163386',\n  'SRR1163387',\n  'SRR1163392',\n  'SRR1163393',\n  'SRR1163397',\n  ...],\n 'htbc': ['SRR5065266',\n  'ERR3335748',\n  'SRR5065310',\n  'SRR5065230',\n  'ERR067722',\n  'ERR067597',\n  'SRR5065319',\n  'SRR5065360',\n  'ERR688042',\n  'SRR5065347',\n  'SRR5065376',\n  'SRR5065339',\n  'SRR5065410',\n  'SRR5065285',\n  'ERR3335784',\n  'ERR067649',\n  'ERR3335786',\n  'ERR688025',\n  'ERR3335797',\n  'SRR8552930',\n  'ERR067705',\n  'SRR5065235',\n  'SRR5065359',\n  'ERR067749',\n  'ERR067717',\n  'ERR3335802',\n  'SRR5065232',\n  'ERR067735',\n  'ERR3335727',\n  'ERR3335730',\n  'ERR3335735',\n  'ERR047884',\n  'ERR067589',\n  'SRR5065251',\n  'SRR5065214',\n  'ERR067660',\n  'SRR5065361',\n  'ERR067673',\n  'SRR5065304',\n  'ERR047881',\n  'SRR5065323',\n  'ERR067707',\n  'ERR067576',\n  'ERR067613',\n  'ERR067739',\n  'ERR067582',\n  'ERR067631',\n  'SRR5065288',\n  'SRR5065406',\n  'SRR5065368',\n  'ERR688040',\n  'SRR5065302',\n  'ERR067679',\n  'SRR5065270',\n  'ERR067695',\n  'ERR3335742',\n  'ERR067686',\n  'SRR5065330',\n  'SRR8552934',\n  'ERR3335750',\n  'ERR067593',\n  'ERR3335729',\n  'ERR067602',\n  'SRR5065336',\n  'ERR067704',\n  'ERR067700',\n  'SRR5065355',\n  'SRR5065396',\n  'ERR3335725',\n  'SRR5065248',\n  'ERR067689',\n  'ERR067640',\n  'SRR5065239',\n  'SRR5065400',\n  'ERR3335728',\n  'SRR11638839',\n  'ERR067669',\n  'ERR067591',\n  'ERR067712',\n  'ERR3335761',\n  'ERR067653',\n  'ERR067710',\n  'ERR067664',\n  'SRR5065399',\n  'ERR067635',\n  'SRR5065403',\n  'ERR047883',\n  'ERR067620',\n  'SRR5065295',\n  'ERR067652',\n  'ERR027460',\n  'SRR5065209',\n  'ERR067621',\n  'ERR3335770',\n  'SRR5065263',\n  'ERR3335801',\n  'ERR067713',\n  'ERR3335740',\n  'ERR067611',\n  'ERR067723',\n  'ERR067634',\n  'SRR5065234',\n  'SRR5065331',\n  'ERR108422',\n  'ERR067678',\n  'SRR5065316',\n  'SRR5065205',\n  'ERR067714',\n  'ERR3335773',\n  'ERR3335732',\n  'ERR3335763',\n  'ERR3335788',\n  'SRR5065395',\n  'SRR8552927',\n  'ERR3335799',\n  'ERR067751',\n  'SRR5065289',\n  'ERR067618',\n  'ERR067715',\n  'ERR067577',\n  'ERR3335753',\n  'SRR5065318',\n  'SRR8552935',\n  'ERR3335745',\n  'SRR5065408',\n  'ERR3335777',\n  'ERR067609',\n  'ERR067699',\n  'ERR067581',\n  'ERR3335769',\n  'ERR067583',\n  'ERR067691',\n  'ERR027467',\n  'ERR067650',\n  'SRR5065268',\n  'ERR3335746',\n  'ERR067711',\n  'SRR5065322',\n  'SRR5065256',\n  'ERR3335768',\n  'SRR5065274',\n  'SRR5065402',\n  'SRR5065226',\n  'SRR5065397',\n  'SRR5065312',\n  'SRR5065328',\n  'ERR067651',\n  'ERR688036',\n  'ERR067654',\n  'SRR5065338',\n  'ERR067738',\n  'ERR067726',\n  'ERR3335734',\n  'ERR688049',\n  'ERR067718',\n  'ERR027458',\n  'ERR3335736',\n  'ERR067698',\n  'ERR3335776',\n  'ERR067709',\n  'ERR067600',\n  'ERR067666',\n  'ERR067627',\n  'SRR5065278',\n  'SRR5065249',\n  'SRR5065293',\n  'SRR5065211',\n  'SRR5065233',\n  'ERR688023',\n  'ERR067737',\n  'ERR688046',\n  'SRR5065254',\n  'ERR3335739',\n  'SRR5065271',\n  'ERR067612',\n  'ERR688016',\n  'ERR067585',\n  'SRR5065321',\n  'ERR067662',\n  'ERR067675',\n  'SRR5065388',\n  'ERR047891',\n  'ERR027462',\n  'ERR067624',\n  'ERR688026',\n  'SRR5065387',\n  'ERR067594',\n  'SRR5065379',\n  'SRR5065296',\n  'ERR067655',\n  'SRR5065255',\n  'SRR5065279',\n  'ERR3335775',\n  'SRR5065378',\n  'SRR5065294',\n  'ERR3335752',\n  'SRR5065236',\n  'ERR3335779',\n  'SRR5065313',\n  'ERR027465',\n  'SRR8552932',\n  'ERR067646',\n  'SRR5065357',\n  'SRR5065286',\n  'ERR067694',\n  'ERR688020',\n  'ERR3335743',\n  'ERR027466',\n  'ERR067607',\n  'ERR067584',\n  'SRR5065374',\n  'SRR5065325',\n  'ERR067616',\n  'ERR067648',\n  'SRR5065210',\n  'ERR3335782',\n  'ERR067736',\n  'SRR5065375',\n  'SRR5065314',\n  'ERR067667',\n  'ERR688024',\n  'SRR5065203',\n  'ERR688037',\n  'ERR067630',\n  'SRR5065262',\n  'ERR027464',\n  'ERR067639',\n  'ERR067599',\n  'SRR5065292',\n  'SRR5065206',\n  'SRR5065208',\n  'SRR5065277',\n  'SRR5065238',\n  'ERR067703',\n  'ERR067636',\n  'ERR047890',\n  'ERR3335765',\n  'ERR067625',\n  'SRR5065243',\n  'SRR5065267',\n  'ERR067647',\n  'ERR688030',\n  'ERR067578',\n  'SRR5065202',\n  'SRR5065305',\n  'ERR067637',\n  'ERR067604',\n  'ERR688009',\n  'SRR5065257',\n  'ERR3335749',\n  'SRR5065231',\n  'ERR3335764',\n  'SRR5065383',\n  'ERR067615',\n  'SRR5065281',\n  'ERR067580',\n  'SRR5065227',\n  'SRR5065229',\n  'ERR3335738',\n  'ERR3335793',\n  'SRR5065401',\n  'SRR8552929',\n  'ERR067606',\n  'SRR5065261',\n  'SRR5065353',\n  'ERR3335792',\n  'ERR688048',\n  'ERR688008',\n  'ERR3335766',\n  'ERR067643',\n  'ERR027461',\n  'ERR027468',\n  'SRR5065363',\n  'ERR067614',\n  'SRR5065380',\n  'ERR688035',\n  'SRR5065381',\n  'SRR5065253',\n  'ERR688043',\n  'SRR5065404',\n  'ERR067677',\n  'SRR5065354',\n  'SRR5065259',\n  'SRR5065350',\n  'ERR067645',\n  'SRR5065348',\n  'SRR5065366',\n  'SRR5065213',\n  'SRR5065212',\n  'SRR5065352',\n  'ERR3335758',\n  'ERR047885',\n  'SRR5065260',\n  'ERR688044',\n  'ERR067661',\n  'SRR5065333',\n  'SRR5065282',\n  'SRR5065334',\n  'SRR5065269',\n  'SRR5065405',\n  'SRR5065358',\n  'ERR3335771',\n  'ERR3335781',\n  'SRR5065207',\n  'ERR047882',\n  'ERR067690',\n  'SRR5065219',\n  'SRR5065265',\n  'ERR3335733',\n  'ERR067688',\n  'ERR688045',\n  'SRR5065382',\n  'ERR688013',\n  'SRR5065344',\n  'SRR5065284',\n  'ERR3335800',\n  'ERR067657',\n  'ERR688039',\n  'ERR067684',\n  'ERR3335795',\n  'ERR3335772',\n  'ERR688034',\n  'ERR067693',\n  'SRR5065364',\n  'ERR047889',\n  'ERR067730',\n  'SRR5065370',\n  'ERR067765',\n  'ERR067610',\n  'ERR3335723',\n  'ERR067587',\n  'SRR5065320',\n  'ERR067588',\n  'SRR5065301',\n  'ERR067748',\n  'ERR688038',\n  'ERR027463',\n  'ERR3335790',\n  'SRR5065290',\n  'SRR5065225',\n  'ERR067622',\n  'SRR5065309',\n  'SRR5065356',\n  'ERR3335724',\n  'ERR3335796',\n  'ERR067656',\n  'ERR688011',\n  'SRR5065349',\n  'ERR3335757',\n  'ERR067674',\n  'ERR067586',\n  'ERR067696',\n  'ERR067644',\n  'SRR5065342',\n  'ERR067619',\n  'SRR5065326',\n  'SRR5065346',\n  'ERR067755',\n  'ERR067719',\n  'ERR3335783',\n  'ERR688029',\n  'ERR047887',\n  'ERR067680',\n  'ERR3335744',\n  'ERR067598',\n  'SRR5065241',\n  'SRR5065201',\n  'ERR3335794',\n  'ERR067670',\n  'SRR5065280',\n  'ERR067605',\n  'SRR5065317',\n  'SRR5065264',\n  'ERR688021',\n  'ERR3335747',\n  'ERR688017',\n  'ERR688018',\n  'SRR5065298',\n  'ERR067702',\n  'ERR3335754',\n  'SRR8552933',\n  'ERR047880',\n  'ERR067665',\n  'ERR3335798',\n  'ERR3335737',\n  'SRR11648203',\n  'ERR688010',\n  'ERR688041',\n  'ERR067676',\n  'ERR067682',\n  'ERR688022',\n  'SRR5065275',\n  'ERR3335787',\n  'ERR067638',\n  'SRR5065327',\n  'ERR067601',\n  'ERR067671',\n  'ERR3335780',\n  'ERR688032',\n  'ERR067592',\n  'SRR5065384',\n  'ERR3335726',\n  'SRR5065237',\n  'ERR688015',\n  'ERR067629',\n  'ERR688012',\n  'SRR5065343',\n  'ERR688027',\n  'ERR067687',\n  'ERR067706',\n  'ERR067595',\n  'ERR067683',\n  'ERR3335803',\n  'SRR5065306',\n  'ERR067579',\n  'ERR067716',\n  'ERR3335767',\n  'ERR3335755',\n  'SRR5065291',\n  'ERR027459',\n  'ERR067658',\n  'SRR5065258',\n  'SRR5065371',\n  'ERR067633',\n  'SRR5065409',\n  'ERR047886',\n  'ERR067757',\n  'SRR8552931',\n  'SRR5065337',\n  'ERR3335759',\n  'ERR067663',\n  'SRR5065287',\n  'SRR5065250',\n  'ERR688033',\n  'ERR3335785',\n  'ERR067628',\n  'ERR3335774',\n  'SRR5065242',\n  'SRR5065411',\n  'SRR5065340',\n  'ERR067672',\n  'SRR5065369',\n  'SRR5065223',\n  'ERR067617',\n  'SRR5065398',\n  'ERR067590',\n  'SRR5065244',\n  'SRR5065245',\n  'ERR067701',\n  'ERR067641',\n  'SRR5065273',\n  'ERR067760',\n  'ERR3335751',\n  'ERR067668',\n  'ERR688014',\n  'ERR3335756',\n  'ERR067708',\n  'SRR5065385',\n  'ERR067697',\n  'SRR5065272',\n  'SRR5065252',\n  'SRR5065377',\n  'ERR3335741',\n  'ERR067762',\n  'ERR688028',\n  'SRR5065276',\n  'ERR067623',\n  'ERR067603',\n  'ERR3335762',\n  'ERR067608',\n  'ERR688019',\n  'SRR5065218',\n  'ERR067754',\n  'SRR5065224',\n  'ERR067743',\n  'ERR067626',\n  'ERR067685',\n  'SRR5065365',\n  'ERR067659',\n  'ERR067642',\n  'ERR067632',\n  'ERR688031',\n  'ERR3335791',\n  'SRR5065247',\n  'ERR067753',\n  'SRR5065220',\n  'SRR5065372',\n  'ERR108421',\n  'ERR3335789',\n  'ERR3335778',\n  'ERR027469',\n  'SRR5065246',\n  'SRR5065307',\n  'ERR688047',\n  'ERR3335731',\n  'SRR5065283',\n  'ERR067692',\n  'ERR047888',\n  'ERR067596',\n  'SRR5065367',\n  'SRR5065297']}"
          },
          "metadata": {}
        }
      ],
      "execution_count": 82,
      "metadata": {
        "pycharm": {
          "name": "#%%\n"
        }
      }
    },
    {
      "cell_type": "code",
      "source": [
        "# Genome IDs from the tb-portals dataset\n",
        "tbportals_genomes = all_genomes_ids_dict['tb_portals']\n",
        "\n",
        "len(tbportals_genomes)"
      ],
      "outputs": [
        {
          "output_type": "execute_result",
          "execution_count": 48,
          "data": {
            "text/plain": "2153"
          },
          "metadata": {}
        }
      ],
      "execution_count": 48,
      "metadata": {
        "pycharm": {
          "name": "#%%\n"
        }
      }
    },
    {
      "cell_type": "code",
      "source": [
        "tbportals_genomes_set = set(tbportals_genomes)\n",
        "\n",
        "tbportals_genomes_set"
      ],
      "outputs": [
        {
          "output_type": "execute_result",
          "execution_count": 41,
          "data": {
            "text/plain": "{'SRR11033621',\n 'SRR5153826',\n 'SRR5153609',\n 'SRR10397123',\n 'SRR10397226',\n 'SRR11033694',\n 'SRR6807744',\n 'SRR5153929',\n 'SRR7592352',\n 'SRR1159986',\n 'SRR11033741',\n 'SRR10380225',\n 'SRR6384962',\n 'SRR7592389',\n 'SRR10379973',\n 'SRR10397114',\n 'SRR5153321',\n 'SRR7657753',\n 'SRR1163173',\n 'SRR5153842',\n 'SRR10380168',\n 'SRR7592382',\n 'SRR5153074',\n 'SRR3743386',\n 'SRR7516288',\n 'SRR7592373',\n 'SRR9738541',\n 'SRR6807739',\n 'SRR11033729',\n 'SRR10380203',\n 'SRR11033665',\n 'SRR1163365',\n 'SRR6458443',\n 'SRR6807705',\n 'SRR6356994',\n 'SRR10379986',\n 'SRR5153614',\n 'SRR10525332',\n 'SRR10379932',\n 'SRR5486889',\n 'SRR10397105',\n 'SRR1159310',\n 'SRR6356975',\n 'SRR3544741',\n 'SRR7592348',\n 'SRR7516377',\n 'SRR10380082',\n 'SRR6458449',\n 'SRR11033779',\n 'SRR1163392',\n 'SRR10379880',\n 'SRR11033762',\n 'SRR10380061',\n 'SRR5153076',\n 'SRR7516430',\n 'SRR6807715',\n 'SRR10380019',\n 'SRR5153253',\n 'SRR3743483',\n 'SRR10379897',\n 'SRR10397270',\n 'SRR1159283',\n 'SRR11033689',\n 'SRR10379957',\n 'SRR5153918',\n 'SRR5153827',\n 'SRR10380005',\n 'SRR11033712',\n 'SRR10379913',\n 'SRR10380178',\n 'SRR7592374',\n 'SRR10380104',\n 'SRR10379909',\n 'SRR6458451',\n 'SRR10380190',\n 'SRR7652980',\n 'SRR10380033',\n 'SRR5153915',\n 'SRR5486881',\n 'SRR6356959',\n 'SRR6458441',\n 'SRR7657759',\n 'SRR5152906',\n 'SRR7516444',\n 'SRR5486873',\n 'SRR6807698',\n 'SRR7592366',\n 'SRR1159279',\n 'SRR5152928',\n 'SRR5486898',\n 'SRR10380176',\n 'SRR9738478',\n 'SRR1159076',\n 'SRR6356924',\n 'SRR10380006',\n 'SRR10379954',\n 'SRR6458393',\n 'SRR3544734',\n 'SRR3743402',\n 'SRR7592369',\n 'SRR11033657',\n 'SRR10379938',\n 'SRR5153913',\n 'SRR10380055',\n 'SRR9738488',\n 'SRR10380016',\n 'SRR10380177',\n 'SRR6807751',\n 'SRR1162967',\n 'SRR10380125',\n 'SRR6356972',\n 'SRR1159362',\n 'SRR6458427',\n 'SRR5152921',\n 'SRR7654039',\n 'SRR10380120',\n 'SRR10380252',\n 'SRR1163037',\n 'SRR10379891',\n 'SRR10380220',\n 'SRR10525338',\n 'SRR7516319',\n 'SRR10397157',\n 'SRR10380222',\n 'SRR3743400',\n 'SRR7655471',\n 'SRR10525320',\n 'SRR11033608',\n 'SRR3743385',\n 'SRR5152920',\n 'SRR5152950',\n 'SRR5153900',\n 'SRR11033610',\n 'SRR10380119',\n 'SRR10379906',\n 'SRR5152940',\n 'SRR5152948',\n 'SRR1163369',\n 'SRR11033713',\n 'SRR11033603',\n 'SRR10525340',\n 'SRR7516423',\n 'SRR3743485',\n 'SRR7655790',\n 'SRR6458460',\n 'SRR5153213',\n 'SRR10397188',\n 'SRR10380133',\n 'SRR1163354',\n 'SRR3743413',\n 'SRR6807712',\n 'SRR10397095',\n 'SRR7655978',\n 'SRR10379933',\n 'SRR7516428',\n 'SRR6807726',\n 'SRR10397213',\n 'SRR7657761',\n 'SRR1162542',\n 'SRR11033733',\n 'SRR1163387',\n 'SRR10380223',\n 'SRR1163302',\n 'SRR10380071',\n 'SRR10379945',\n 'SRR10379903',\n 'SRR11033625',\n 'SRR7516323',\n 'SRR5153848',\n 'SRR10397204',\n 'SRR1162952',\n 'SRR10525347',\n 'SRR10380150',\n 'SRR11033682',\n 'SRR3544743',\n 'SRR3544748',\n 'SRR1163198',\n 'SRR10380140',\n 'SRR5152908',\n 'SRR1163121',\n 'SRR7653080',\n 'SRR7592337',\n 'SRR10380110',\n 'SRR6357007',\n 'SRR10380044',\n 'SRR10379890',\n 'SRR7516322',\n 'SRR10397094',\n 'SRR11033630',\n 'SRR7592384',\n 'SRR1159044',\n 'SRR6458409',\n 'SRR10380197',\n 'SRR5153279',\n 'SRR5153883',\n 'SRR1159904',\n 'SRR6356945',\n 'SRR1162502',\n 'SRR3544731',\n 'SRR10379962',\n 'SRR5153262',\n 'SRR10397160',\n 'SRR5153316',\n 'SRR10380162',\n 'SRR5153928',\n 'SRR9738553',\n 'SRR5153271',\n 'SRR6356927',\n 'SRR6384970',\n 'SRR7592340',\n 'SRR11033589',\n 'SRR1158898',\n 'SRR6458445',\n 'SRR6807669',\n 'SRR6807733',\n 'SRR5486878',\n 'SRR3743438',\n 'SRR6384965',\n 'SRR7516302',\n 'SRR11033652',\n 'SRR6458412',\n 'SRR1163421',\n 'SRR3743498',\n 'SRR9738519',\n 'SRR10379978',\n 'SRR6356933',\n 'SRR7516345',\n 'SRR10380077',\n 'SRR3743481',\n 'SRR10397178',\n 'SRR11033738',\n 'SRR6356990',\n 'SRR7516351',\n 'SRR10379923',\n 'SRR5153606',\n 'SRR1159700',\n 'SRR1159303',\n 'SRR10380028',\n 'SRR5153237',\n 'SRR6357005',\n 'SRR10380065',\n 'SRR10380242',\n 'SRR7516333',\n 'SRR10397180',\n 'SRR1159309',\n 'SRR5486892',\n 'SRR5152951',\n 'SRR5153835',\n 'SRR10380155',\n 'SRR7653082',\n 'SRR7655466',\n 'SRR3544742',\n 'SRR10379992',\n 'SRR10380198',\n 'SRR11033755',\n 'SRR5153291',\n 'SRR11033730',\n 'SRR3743459',\n 'SRR7516289',\n 'SRR10379922',\n 'SRR1159167',\n 'SRR11033634',\n 'SRR10380078',\n 'SRR10397266',\n 'SRR11033645',\n 'SRR5486880',\n 'SRR7516438',\n 'SRR10379947',\n 'SRR10525343',\n 'SRR10379893',\n 'SRR6807688',\n 'SRR5153821',\n 'SRR5153811',\n 'SRR10379989',\n 'SRR6357002',\n 'SRR10379882',\n 'SRR7655615',\n 'SRR6356976',\n 'SRR10397208',\n 'SRR10397257',\n 'SRR7516342',\n 'SRR10379883',\n 'SRR11033777',\n 'SRR7516427',\n 'SRR7655469',\n 'SRR10397179',\n 'SRR10397191',\n 'SRR10380026',\n 'SRR11033714',\n 'SRR10380091',\n 'SRR10380073',\n 'SRR10380205',\n 'SRR3544751',\n 'SRR9738508',\n 'SRR10397273',\n 'SRR5153226',\n 'SRR7516314',\n 'SRR5153245',\n 'SRR10380050',\n 'SRR3544744',\n 'SRR3544750',\n 'SRR7516366',\n 'SRR7654034',\n 'SRR7655981',\n 'SRR10379939',\n 'SRR7516329',\n 'SRR10379943',\n 'SRR11033613',\n 'SRR3743482',\n 'SRR6356985',\n 'SRR9738547',\n 'SRR11033659',\n 'SRR11033617',\n 'SRR7592343',\n 'SRR7653085',\n 'SRR10380045',\n 'SRR10379940',\n 'SRR1162509',\n 'SRR10397175',\n 'SRR1163319',\n 'SRR1159298',\n 'SRR5153086',\n 'SRR7657755',\n 'SRR1162532',\n 'SRR5153831',\n 'SRR5486895',\n 'SRR10379900',\n 'SRR3743494',\n 'SRR10379878',\n 'SRR9738487',\n 'SRR7516352',\n 'SRR10397107',\n 'SRR10397122',\n 'SRR5153095',\n 'SRR10380011',\n 'SRR11033754',\n 'SRR7592335',\n 'SRR5153849',\n 'SRR11033596',\n 'SRR7516450',\n 'SRR7516313',\n 'SRR6356983',\n 'SRR11033600',\n 'SRR6356965',\n 'SRR5153904',\n 'SRR5153206',\n 'SRR9738510',\n 'SRR1159682',\n 'SRR5153717',\n 'SRR1162972',\n 'SRR10380209',\n 'SRR1159308',\n 'SRR7655786',\n 'SRR1159154',\n 'SRR5486888',\n 'SRR6458463',\n 'SRR7516332',\n 'SRR7516355',\n 'SRR10397169',\n 'SRR6807696',\n 'SRR5153234',\n 'SRR5486891',\n 'SRR5153868',\n 'SRR1163330',\n 'SRR9738485',\n 'SRR5153711',\n 'SRR6458442',\n 'SRR10380235',\n 'SRR6807692',\n 'SRR5153232',\n 'SRR6807734',\n 'SRR7516380',\n 'SRR5153085',\n 'SRR10397247',\n 'SRR10380146',\n 'SRR1163411',\n 'SRR5152916',\n 'SRR11033624',\n 'SRR10379904',\n 'SRR1159687',\n 'SRR6356934',\n 'SRR10397148',\n 'SRR6356926',\n 'SRR6356958',\n 'SRR5153240',\n 'SRR7516363',\n 'SRR3743449',\n 'SRR10380251',\n 'SRR5153854',\n 'SRR7592363',\n 'SRR10379928',\n 'SRR3743368',\n 'SRR3544735',\n 'SRR5486904',\n 'SRR5153824',\n 'SRR1163366',\n 'SRR10379972',\n 'SRR7655789',\n 'SRR6356977',\n 'SRR7516416',\n 'SRR6458399',\n 'SRR6807713',\n 'SRR7657748',\n 'SRR11033757',\n 'SRR5153852',\n 'SRR5153710',\n 'SRR11033696',\n 'SRR10380067',\n 'SRR11033718',\n 'SRR10380013',\n 'SRR11033656',\n 'SRR10380070',\n 'SRR10397133',\n 'SRR10380147',\n 'SRR10525359',\n 'SRR7516334',\n 'SRR5153921',\n 'SRR10397240',\n 'SRR1163414',\n 'SRR10380041',\n 'SRR1166910',\n 'SRR6807755',\n 'SRR10380141',\n 'SRR5486887',\n 'SRR11033672',\n 'SRR5153830',\n 'SRR1159293',\n 'SRR7654040',\n 'SRR10397256',\n 'SRR1162537',\n 'SRR11033650',\n 'SRR6356973',\n 'SRR3544745',\n 'SRR7516376',\n 'SRR5152896',\n 'SRR9738552',\n 'SRR10380210',\n 'SRR11033636',\n 'SRR7516454',\n 'SRR9738545',\n 'SRR10379950',\n 'SRR6807681',\n 'SRR10525345',\n 'SRR5153601',\n 'SRR10379949',\n 'SRR6807725',\n 'SRR6458452',\n 'SRR7516346',\n 'SRR10379990',\n 'SRR7516350',\n 'SRR5153078',\n 'SRR3743409',\n 'SRR10380037',\n 'SRR7516371',\n 'SRR5153712',\n 'SRR10380051',\n 'SRR10397096',\n 'SRR6807738',\n 'SRR3544723',\n 'SRR1159006',\n 'SRR5153235',\n 'SRR5152945',\n 'SRR7653024',\n 'SRR10380115',\n 'SRR10397263',\n 'SRR7592365',\n 'SRR7652970',\n 'SRR10397252',\n 'SRR10397131',\n 'SRR10380214',\n 'SRR7655953',\n 'SRR10397235',\n 'SRR7516434',\n 'SRR7516317',\n 'SRR3743458',\n 'SRR5152930',\n 'SRR10380057',\n 'SRR9738486',\n 'SRR10380034',\n 'SRR10525339',\n 'SRR11033679',\n 'SRR5153214',\n 'SRR11033611',\n 'SRR5153083',\n 'SRR7516312',\n 'SRR1162953',\n 'SRR10380022',\n 'SRR5153275',\n 'SRR7653017',\n 'SRR1159351',\n 'SRR10379997',\n 'SRR9738476',\n 'SRR5153327',\n 'SRR5153885',\n 'SRR7516298',\n 'SRR5152912',\n 'SRR10380186',\n 'SRR5486883',\n 'SRR7655613',\n 'SRR5153266',\n 'SRR6807717',\n 'SRR1163115',\n 'SRR10380226',\n 'SRR5153082',\n 'SRR1163029',\n 'SRR10379889',\n 'SRR11033597',\n 'SRR10379971',\n 'SRR6807736',\n 'SRR1163397',\n 'SRR6458383',\n 'SRR10397219',\n 'SRR1159738',\n 'SRR5153194',\n 'SRR1163341',\n 'SRR7516402',\n 'SRR1162539',\n 'SRR10380208',\n 'SRR11033753',\n 'SRR1162513',\n 'SRR7516303',\n 'SRR5153325',\n 'SRR10397246',\n 'SRR6807697',\n 'SRR10525362',\n 'SRR10397116',\n 'SRR11033702',\n 'SRR6356935',\n 'SRR7516307',\n 'SRR7592380',\n 'SRR11033631',\n 'SRR5153619',\n 'SRR10525328',\n 'SRR10397239',\n 'SRR1163022',\n 'SRR9738484',\n 'SRR5153307',\n 'SRR6458384',\n 'SRR10525369',\n 'SRR6356940',\n 'SRR10379958',\n 'SRR6807743',\n 'SRR7516335',\n 'SRR10525342',\n 'SRR7516426',\n 'SRR9738481',\n 'SRR7516330',\n 'SRR7516408',\n 'SRR10380144',\n 'SRR7516386',\n 'SRR1163135',\n 'SRR7516316',\n 'SRR7516336',\n 'SRR7653083',\n 'SRR11033622',\n 'SRR6458457',\n 'SRR6458455',\n 'SRR10380007',\n 'SRR1163199',\n 'SRR7655470',\n 'SRR1163171',\n 'SRR10379955',\n 'SRR1158923',\n 'SRR3743473',\n 'SRR1159262',\n 'SRR1159526',\n 'SRR5153093',\n 'SRR5153809',\n 'SRR10379993',\n 'SRR6458398',\n 'SRR11033676',\n 'SRR5153317',\n 'SRR3743408',\n 'SRR6356944',\n 'SRR9738503',\n 'SRR9738514',\n 'SRR1163166',\n 'SRR1166921',\n 'SRR7516412',\n 'SRR11033640',\n 'SRR11033646',\n 'SRR1159521',\n 'SRR10380093',\n 'SRR6807718',\n 'SRR6807716',\n 'SRR6356939',\n 'SRR1159747',\n 'SRR6458456',\n 'SRR6356953',\n 'SRR6807678',\n 'SRR10397185',\n 'SRR11033628',\n 'SRR11033647',\n 'SRR10379929',\n 'SRR7653027',\n 'SRR5153423',\n 'SRR3743201',\n 'SRR5152973',\n 'SRR10380243',\n 'SRR5153326',\n 'SRR6807672',\n 'SRR7516365',\n 'SRR10380169',\n 'SRR10397205',\n 'SRR10379899',\n 'SRR1159954',\n 'SRR11033697',\n 'SRR11033765',\n 'SRR5153324',\n 'SRR6356957',\n 'SRR11033715',\n 'SRR6356928',\n 'SRR5152910',\n 'SRR6458400',\n 'SRR6458406',\n 'SRR1159005',\n 'SRR5153615',\n 'SRR11033623',\n 'SRR5152941',\n 'SRR6807690',\n 'SRR10397232',\n 'SRR1159729',\n 'SRR7516344',\n 'SRR10380049',\n 'SRR5486900',\n 'SRR11033635',\n 'SRR9738558',\n 'SRR1163393',\n 'SRR10397117',\n 'SRR6357004',\n 'SRR10379996',\n 'SRR10379907',\n 'SRR10380018',\n 'SRR5153608',\n 'SRR10380193',\n 'SRR10397217',\n 'SRR10380215',\n 'SRR1159369',\n 'SRR7652971',\n 'SRR10380249',\n 'SRR6356952',\n 'SRR7516429',\n 'SRR7655979',\n 'SRR6807756',\n 'SRR5153602',\n 'SRR1163204',\n 'SRR6807735',\n 'SRR3743392',\n 'SRR10379901',\n 'SRR5153328',\n 'SRR1162957',\n 'SRR10380023',\n 'SRR7516409',\n 'SRR10380009',\n 'SRR6807746',\n 'SRR6807741',\n 'SRR5153851',\n 'SRR5153600',\n 'SRR5152958',\n 'SRR11033723',\n 'SRR10379976',\n 'SRR5153836',\n 'SRR10380109',\n 'SRR1163291',\n 'SRR6356923',\n 'SRR5153081',\n 'SRR10525333',\n 'SRR5153611',\n 'SRR7516343',\n 'SRR10380117',\n 'SRR5152944',\n 'SRR11033618',\n 'SRR6807731',\n 'SRR7516418',\n 'SRR10380066',\n 'SRR1159034',\n 'SRR6458410',\n 'SRR5153919',\n 'SRR10379936',\n 'SRR7516354',\n 'SRR7516458',\n 'SRR10397172',\n 'SRR10380207',\n 'SRR5153841',\n 'SRR5486869',\n 'SRR11033680',\n 'SRR5152917',\n 'SRR11033743',\n 'SRR6458392',\n 'SRR5152919',\n 'SRR11033769',\n 'SRR5152946',\n 'SRR6458414',\n 'SRR5153332',\n 'SRR6807719',\n 'SRR5486866',\n 'SRR5152959',\n 'SRR1159204',\n 'SRR10379942',\n 'SRR6458389',\n 'SRR5153867',\n 'SRR6458407',\n 'SRR10380121',\n 'SRR6356963',\n 'SRR7516417',\n 'SRR10379999',\n 'SRR10397186',\n 'SRR3743383',\n 'SRR7653025',\n 'SRR3743407',\n 'SRR10380101',\n 'SRR10380184',\n 'SRR6807747',\n 'SRR11033710',\n 'SRR5153265',\n 'SRR10380054',\n 'SRR7516293',\n 'SRR3743411',\n 'SRR6356955',\n 'SRR6356938',\n 'SRR6356997',\n 'SRR10380236',\n 'SRR1163430',\n 'SRR11033711',\n 'SRR3743474',\n 'SRR1158943',\n 'SRR6356950',\n 'SRR5153073',\n 'SRR7516383',\n 'SRR6807704',\n 'SRR10397181',\n 'SRR7516373',\n 'SRR7592388',\n 'SRR11033616',\n 'SRR3743403',\n 'SRR7657757',\n 'SRR7516328',\n 'SRR10380064',\n 'SRR10379960',\n 'SRR7652968',\n 'SRR7653011',\n 'SRR1162534',\n 'SRR5153840',\n 'SRR7516361',\n 'SRR5153090',\n 'SRR1159180',\n 'SRR6458418',\n 'SRR10379963',\n 'SRR7657749',\n 'SRR3743415',\n 'SRR10525361',\n 'SRR7652977',\n 'SRR7516440',\n 'SRR6458415',\n 'SRR7516449',\n 'SRR1158929',\n 'SRR1159038',\n 'SRR10379983',\n 'SRR5153855',\n 'SRR11033752',\n 'SRR10379967',\n 'SRR6458397',\n 'SRR5152953',\n 'SRR5486876',\n 'SRR7516398',\n 'SRR10380046',\n 'SRR10379924',\n 'SRR3743450',\n 'SRR10379931',\n 'SRR11033615',\n 'SRR3743377',\n 'SRR11033594',\n 'SRR6357008',\n 'SRR9738482',\n 'SRR7516459',\n 'SRR1159349',\n 'SRR1162531',\n 'SRR10380183',\n 'SRR5486885',\n 'SRR3544732',\n 'SRR1159818',\n 'SRR7516309',\n 'SRR10397248',\n 'SRR7592332',\n 'SRR3743500',\n 'SRR5153708',\n 'SRR10525324',\n 'SRR7516297',\n 'SRR3743486',\n 'SRR6807737',\n 'SRR10380068',\n 'SRR11033774',\n 'SRR7516437',\n 'SRR10379884',\n 'SRR7516385',\n 'SRR3743412',\n 'SRR10380039',\n 'SRR11033607',\n 'SRR6807695',\n 'SRR3544747',\n 'SRR7592357',\n 'SRR5153920',\n 'SRR11033761',\n 'SRR7592342',\n 'SRR1162535',\n 'SRR10379953',\n 'SRR6807711',\n 'SRR7652975',\n 'SRR7516315',\n 'SRR7516379',\n 'SRR9738546',\n 'SRR10397119',\n 'SRR7516320',\n 'SRR1163406',\n 'SRR5486868',\n 'SRR7516433',\n 'SRR10397144',\n 'SRR10380111',\n 'SRR7655612',\n 'SRR10397227',\n 'SRR1159150',\n 'SRR1166916',\n 'SRR5153278',\n 'SRR5153917',\n 'SRR7516452',\n 'SRR7652996',\n 'SRR10397196',\n 'SRR7657746',\n 'SRR7655614',\n 'SRR10380084',\n 'SRR5153597',\n 'SRR7592330',\n 'SRR5153906',\n 'SRR1163021',\n 'SRR10397153',\n 'SRR6356999',\n 'SRR10397195',\n 'SRR5486872',\n 'SRR6458434',\n 'SRR7516299',\n 'SRR7592371',\n 'SRR10380030',\n 'SRR7592368',\n 'SRR5153814',\n 'SRR10379925',\n 'SRR10525317',\n 'SRR7592327',\n 'SRR7516310',\n 'SRR7516396',\n 'SRR10379946',\n 'SRR10380212',\n 'SRR1172286',\n 'SRR10380196',\n 'SRR9738530',\n 'SRR5153924',\n 'SRR1163314',\n 'SRR10397132',\n 'SRR1163429',\n 'SRR5486902',\n 'SRR5152905',\n 'SRR7516419',\n 'SRR10380123',\n 'SRR10380010',\n 'SRR5153861',\n 'SRR3743200',\n 'SRR11033595',\n 'SRR5153722',\n 'SRR3743463',\n 'SRR7516403',\n 'SRR5153903',\n 'SRR10379908',\n 'SRR1162996',\n 'SRR6458448',\n 'SRR5153922',\n 'SRR3743416',\n 'SRR7655980',\n 'SRR9738518',\n 'SRR10380227',\n 'SRR10379921',\n 'SRR11033667',\n 'SRR3544727',\n 'SRR5486884',\n 'SRR10379927',\n 'SRR11033654',\n 'SRR1162533',\n 'SRR10397222',\n 'SRR1163080',\n 'SRR1169019',\n 'SRR7516448',\n 'SRR11033658',\n 'SRR10379934',\n 'SRR5153878',\n 'SRR5153866',\n 'SRR10380127',\n 'SRR10397110',\n 'SRR6807748',\n 'SRR7592346',\n 'SRR7516325',\n 'SRR10397124',\n 'SRR5153844',\n 'SRR10380163',\n 'SRR10380148',\n 'SRR10397176',\n 'SRR6356980',\n 'SRR7516305',\n 'SRR10397229',\n 'SRR11033764',\n 'SRR1158907',\n 'SRR1163363',\n 'SRR1163338',\n 'SRR5153622',\n 'SRR5153075',\n 'SRR5153255',\n 'SRR6458454',\n 'SRR5153879',\n 'SRR10397214',\n 'SRR6356960',\n 'SRR7516399',\n 'SRR7592325',\n 'SRR10397129',\n 'SRR3743475',\n 'SRR1159350',\n 'SRR5153509',\n 'SRR5153077',\n 'SRR5153308',\n 'SRR6458464',\n 'SRR11033778',\n 'SRR5153270',\n 'SRR10397139',\n 'SRR5152902',\n 'SRR1163298',\n 'SRR11033612',\n 'SRR10379915',\n 'SRR10380002',\n 'SRR10379984',\n 'SRR3743202',\n 'SRR1163177',\n 'SRR5153222',\n 'SRR10379886',\n 'SRR10397194',\n 'SRR10379937',\n 'SRR3743487',\n 'SRR6807722',\n 'SRR9738512',\n 'SRR1159237',\n 'SRR5153882',\n 'SRR7654035',\n 'SRR3743398',\n 'SRR6356981',\n 'SRR10397130',\n 'SRR11033660',\n 'SRR5153319',\n 'SRR10525348',\n 'SRR10379974',\n 'SRR1159713',\n 'SRR1163106',\n 'SRR5153272',\n 'SRR5152942',\n 'SRR1159352',\n 'SRR6458416',\n 'SRR6356989',\n 'SRR7657750',\n 'SRR7653022',\n 'SRR5152937',\n 'SRR1163368',\n 'SRR7516372',\n 'SRR10380069',\n 'SRR11033670',\n 'SRR6458450',\n 'SRR11033666',\n 'SRR7516404',\n 'SRR1163185',\n 'SRR5153838',\n 'SRR1158890',\n 'SRR11033763',\n 'SRR10525375',\n 'SRR10397173',\n 'SRR3743391',\n 'SRR7516424',\n 'SRR11033734',\n 'SRR1163103',\n 'SRR10380031',\n 'SRR10379969',\n 'SRR11033758',\n 'SRR5153599',\n 'SRR11033720',\n 'SRR6458444',\n 'SRR6807714',\n 'SRR6807724',\n 'SRR5153596',\n 'SRR3544733',\n 'SRR7592349',\n 'SRR5152938',\n 'SRR10379935',\n 'SRR7655465',\n 'SRR10380100',\n 'SRR10380172',\n 'SRR10397166',\n 'SRR7516420',\n 'SRR6458396',\n ...}"
          },
          "metadata": {}
        }
      ],
      "execution_count": 41,
      "metadata": {
        "pycharm": {
          "name": "#%%\n"
        }
      }
    },
    {
      "cell_type": "code",
      "source": [
        "# Genome IDs from the htbc dataset\n",
        "htbc_genomes = set(all_genomes_ids_dict['htbc'])\n",
        "\n",
        "len(htbc_genomes)\n"
      ],
      "outputs": [
        {
          "output_type": "execute_result",
          "execution_count": 49,
          "data": {
            "text/plain": "501"
          },
          "metadata": {}
        }
      ],
      "execution_count": 49,
      "metadata": {
        "pycharm": {
          "name": "#%%\n"
        }
      }
    },
    {
      "cell_type": "code",
      "source": [
        "htbc_genomes_set = set(htbc_genomes)"
      ],
      "outputs": [],
      "execution_count": 44,
      "metadata": {
        "pycharm": {
          "name": "#%%\n"
        }
      }
    },
    {
      "cell_type": "code",
      "source": [
        "# Find HTBC genomes, which are resistant\n",
        "\n",
        "htbc_resistant_genomes = list(htbc_genomes_set.intersection(resistant_genomes))\n",
        "len(htbc_resistant_genomes)\n"
      ],
      "outputs": [
        {
          "output_type": "execute_result",
          "execution_count": 68,
          "data": {
            "text/plain": "338"
          },
          "metadata": {}
        }
      ],
      "execution_count": 68,
      "metadata": {
        "pycharm": {
          "name": "#%%\n"
        }
      }
    },
    {
      "cell_type": "code",
      "source": [
        "# Find HTBC genomes, which are sensitive\n",
        "\n",
        "htbc_sensitive_genomes = list(htbc_genomes_set.intersection(sensitive_genomes))\n",
        "len(htbc_sensitive_genomes)"
      ],
      "outputs": [
        {
          "output_type": "execute_result",
          "execution_count": 69,
          "data": {
            "text/plain": "163"
          },
          "metadata": {}
        }
      ],
      "execution_count": 69,
      "metadata": {
        "pycharm": {
          "name": "#%%\n"
        }
      }
    },
    {
      "cell_type": "code",
      "source": [
        "# Find Tb-portals genomes, which are resistant\n",
        "tbportals_resistant_genomes  = list(tbportals_genomes_set.intersection(resistant_genomes))\n",
        "len(tbportals_resistant_genomes[830:])"
      ],
      "outputs": [
        {
          "output_type": "execute_result",
          "execution_count": 70,
          "data": {
            "text/plain": "800"
          },
          "metadata": {}
        }
      ],
      "execution_count": 70,
      "metadata": {
        "pycharm": {
          "name": "#%%\n"
        }
      }
    },
    {
      "cell_type": "code",
      "source": [
        "# Find Tb-portals genomes, which are sensitive\n",
        "tbportals_sensitive_genomes = list(tbportals_genomes_set.intersection(sensitive_genomes))\n",
        "len(tbportals_sensitive_genomes)"
      ],
      "outputs": [
        {
          "output_type": "execute_result",
          "execution_count": 71,
          "data": {
            "text/plain": "523"
          },
          "metadata": {}
        }
      ],
      "execution_count": 71,
      "metadata": {
        "pycharm": {
          "name": "#%%\n"
        }
      }
    },
    {
      "cell_type": "code",
      "source": [
        "# Create a list of HTBC genomes to be used for the final analysis.\n",
        "\n",
        "final_htbc_test_genome_ids = htbc_resistant_genomes + htbc_sensitive_genomes\n",
        "len(final_htbc_test_genome_ids)"
      ],
      "outputs": [
        {
          "output_type": "execute_result",
          "execution_count": 73,
          "data": {
            "text/plain": "501"
          },
          "metadata": {}
        }
      ],
      "execution_count": 73,
      "metadata": {
        "pycharm": {
          "name": "#%%\n"
        }
      }
    },
    {
      "cell_type": "code",
      "source": [
        "# Create a list of Tb-portals genomes to be used for the final analysis.\n",
        "\n",
        "final_tbportals_train_genome_ids = tbportals_resistant_genomes[830:] + tbportals_sensitive_genomes[100:]\n",
        "len(final_tbportals_train_genome_ids)\n"
      ],
      "outputs": [
        {
          "output_type": "execute_result",
          "execution_count": 80,
          "data": {
            "text/plain": "1223"
          },
          "metadata": {}
        }
      ],
      "execution_count": 80,
      "metadata": {
        "pycharm": {
          "name": "#%%\n"
        }
      }
    },
    {
      "cell_type": "code",
      "source": [
        "# Append the list of final Tb-portals genomes to the JSON file.\n",
        "\n",
        "all_genomes_ids_dict['final_tbportals_train_genomes'] = final_tbportals_train_genome_ids\n",
        "all_genomes_ids_dict.keys()\n",
        "\n"
      ],
      "outputs": [
        {
          "output_type": "execute_result",
          "execution_count": 83,
          "data": {
            "text/plain": "dict_keys(['tb_portals', 'htbc', 'final_tbportals_train_genomes'])"
          },
          "metadata": {}
        }
      ],
      "execution_count": 83,
      "metadata": {
        "pycharm": {
          "name": "#%%\n"
        }
      }
    },
    {
      "cell_type": "code",
      "source": [
        "# Append the list of final HTBC genomes to the JSON file.\n",
        "\n",
        "all_genomes_ids_dict['final_htbc_test_genomes'] = final_htbc_test_genome_ids\n",
        "all_genomes_ids_dict.keys()"
      ],
      "outputs": [
        {
          "output_type": "execute_result",
          "execution_count": 84,
          "data": {
            "text/plain": "dict_keys(['tb_portals', 'htbc', 'final_tbportals_train_genomes', 'final_htbc_test_genomes'])"
          },
          "metadata": {}
        }
      ],
      "execution_count": 84,
      "metadata": {
        "pycharm": {
          "name": "#%%\n"
        }
      }
    },
    {
      "cell_type": "code",
      "source": [
        "\n",
        "# Write the final JSON file.\n",
        "import json\n",
        "\n",
        "with open(data_location + \"test_train_genome_ids.json\", \"w\") as f:\n",
        "    json.dump(all_genomes_ids_dict, f, indent= 4)\n"
      ],
      "outputs": [],
      "execution_count": 86,
      "metadata": {
        "pycharm": {
          "name": "#%%\n"
        }
      }
    },
    {
      "cell_type": "markdown",
      "source": [
        "## Create main monolabel dataset and segregate it into\n",
        "- train dataset\n",
        "- test dataset"
      ],
      "metadata": {
        "pycharm": {
          "name": "#%% md\n"
        }
      }
    },
    {
      "cell_type": "markdown",
      "source": [
        "### Read the output of step-001 and derive the monolabel dataset"
      ],
      "metadata": {
        "collapsed": false,
        "pycharm": {
          "name": "#%% md\n"
        }
      }
    },
    {
      "cell_type": "code",
      "source": [
        "binarized_final_df = pd.read_csv(\"../data/processed/final.binarized_final_multilabel_df.csv\").set_index('SampleID')\n",
        "\n",
        "\n",
        "binarized_final_df.head()"
      ],
      "outputs": [],
      "execution_count": null,
      "metadata": {
        "collapsed": false,
        "pycharm": {
          "name": "#%%\n"
        }
      }
    },
    {
      "cell_type": "code",
      "source": [
        "binarized_final_df.columns"
      ],
      "outputs": [],
      "execution_count": null,
      "metadata": {
        "collapsed": false,
        "pycharm": {
          "name": "#%%\n"
        }
      }
    },
    {
      "cell_type": "code",
      "source": [
        "binarized_final_df.index"
      ],
      "outputs": [],
      "execution_count": null,
      "metadata": {
        "collapsed": false,
        "pycharm": {
          "name": "#%%\n"
        }
      }
    },
    {
      "cell_type": "code",
      "source": [
        "binarized_final_df= binarized_final_df.drop(columns=[*renamed_drug_columns_names, *lineage_column_names, 'drtype', 'MDR', 'XDR'], axis= 1)\n",
        "\n",
        "binarized_final_df.head()"
      ],
      "outputs": [],
      "execution_count": null,
      "metadata": {
        "collapsed": false,
        "pycharm": {
          "name": "#%%\n"
        }
      }
    },
    {
      "cell_type": "code",
      "source": [
        "binarized_final_df.shape"
      ],
      "outputs": [],
      "execution_count": null,
      "metadata": {
        "collapsed": false,
        "pycharm": {
          "name": "#%%\n"
        }
      }
    },
    {
      "cell_type": "code",
      "source": [
        "binarized_final_df['Resistance_Status']= binarized_final_df['Resistance_Status'].apply(lambda resistance: 0.0 if resistance == 'Sensitive' else 1.0)\n",
        "binarized_final_df.head()"
      ],
      "outputs": [],
      "execution_count": null,
      "metadata": {
        "collapsed": false,
        "pycharm": {
          "name": "#%%\n"
        }
      }
    },
    {
      "cell_type": "code",
      "source": [
        "binarized_final_df.to_csv(\"../data/processed/final.binarized_final_monolabel_df.tsv\", \"\\t\")\n",
        "binarized_final_df.head()"
      ],
      "outputs": [],
      "execution_count": null,
      "metadata": {
        "collapsed": false,
        "pycharm": {
          "name": "#%%\n"
        }
      }
    },
    {
      "cell_type": "code",
      "source": [
        "\n",
        "\n",
        "train = binarized_final_df.loc[final_tbportals_train_genome_ids]\n",
        "train.shape\n"
      ],
      "outputs": [],
      "execution_count": null,
      "metadata": {
        "collapsed": false,
        "pycharm": {
          "name": "#%%\n"
        }
      }
    },
    {
      "cell_type": "code",
      "source": [
        "train.to_csv(\"../data/processed/final.train.tsv\", \"\\t\")\n",
        "train.head()"
      ],
      "outputs": [],
      "execution_count": null,
      "metadata": {
        "collapsed": false,
        "pycharm": {
          "name": "#%%\n"
        }
      }
    },
    {
      "cell_type": "code",
      "source": [
        "\n",
        "\n",
        "test = binarized_final_df.loc[final_htbc_test_genome_ids]\n",
        "test.shape\n"
      ],
      "outputs": [],
      "execution_count": null,
      "metadata": {
        "collapsed": false,
        "pycharm": {
          "name": "#%%\n"
        }
      }
    },
    {
      "cell_type": "code",
      "source": [
        "test.to_csv(\"../data/processed/final.test.tsv\", \"\\t\")\n",
        "test.shape"
      ],
      "outputs": [],
      "execution_count": null,
      "metadata": {
        "collapsed": false,
        "pycharm": {
          "name": "#%%\n"
        }
      }
    }
  ],
  "metadata": {
    "kernelspec": {
      "name": "python3-azureml",
      "language": "python",
      "display_name": "Python 3.6 - AzureML"
    },
    "language_info": {
      "name": "python",
      "version": "3.6.9",
      "mimetype": "text/x-python",
      "codemirror_mode": {
        "name": "ipython",
        "version": 3
      },
      "pygments_lexer": "ipython3",
      "nbconvert_exporter": "python",
      "file_extension": ".py"
    },
    "kernel_info": {
      "name": "python3-azureml"
    },
    "nteract": {
      "version": "nteract-front-end@1.0.0"
    }
  },
  "nbformat": 4,
  "nbformat_minor": 1
}