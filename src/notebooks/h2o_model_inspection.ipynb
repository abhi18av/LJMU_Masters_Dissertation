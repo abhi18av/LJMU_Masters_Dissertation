{
  "cells": [
    {
      "cell_type": "code",
      "source": [
        "import pandas as pd\r\n",
        "\r\n",
        "# pip install dictdiffer\r\n",
        "import dictdiffer \r\n",
        "\r\n",
        "\r\n",
        "import warnings\r\n",
        "warnings.filterwarnings('ignore')\r\n",
        "\r\n",
        "\r\n",
        "import h2o\r\n",
        "h2o.init(min_mem_size='25G')\r\n",
        "\r\n"
      ],
      "outputs": [
        {
          "output_type": "stream",
          "name": "stdout",
          "text": [
            "Checking whether there is an H2O instance running at http://localhost:54321 ..... not found.\n",
            "Attempting to start a local H2O server...\n",
            "  Java Version: openjdk version \"1.8.0_265\"; OpenJDK Runtime Environment (build 1.8.0_265-8u265-b01-0ubuntu2~16.04-b01); OpenJDK 64-Bit Server VM (build 25.265-b01, mixed mode)\n",
            "  Starting server from /anaconda/envs/azureml_py36/lib/python3.6/site-packages/h2o/backend/bin/h2o.jar\n",
            "  Ice root: /tmp/tmprrfqmwi5\n",
            "  JVM stdout: /tmp/tmprrfqmwi5/h2o_azureuser_started_from_python.out\n",
            "  JVM stderr: /tmp/tmprrfqmwi5/h2o_azureuser_started_from_python.err\n",
            "  Server is running at http://127.0.0.1:54321\n",
            "Connecting to H2O server at http://127.0.0.1:54321 ... successful.\n",
            "Warning: Your H2O cluster version is too old (5 months)! Please download and install the latest version from http://h2o.ai/download/\n"
          ]
        },
        {
          "output_type": "display_data",
          "data": {
            "text/plain": "--------------------------  ------------------------------------------------------------------\nH2O_cluster_uptime:         13 secs\nH2O_cluster_timezone:       Etc/UTC\nH2O_data_parsing_timezone:  UTC\nH2O_cluster_version:        3.30.0.4\nH2O_cluster_version_age:    5 months !!!\nH2O_cluster_name:           H2O_from_python_azureuser_a0j2bu\nH2O_cluster_total_nodes:    1\nH2O_cluster_free_memory:    23.96 Gb\nH2O_cluster_total_cores:    4\nH2O_cluster_allowed_cores:  4\nH2O_cluster_status:         accepting new members, healthy\nH2O_connection_url:         http://127.0.0.1:54321\nH2O_connection_proxy:       {\"http\": null, \"https\": null}\nH2O_internal_security:      False\nH2O_API_Extensions:         Amazon S3, XGBoost, Algos, AutoML, Core V3, TargetEncoder, Core V4\nPython_version:             3.6.9 final\n--------------------------  ------------------------------------------------------------------",
            "text/html": "<div style=\"overflow:auto\"><table style=\"width:50%\"><tr><td>H2O_cluster_uptime:</td>\n<td>13 secs</td></tr>\n<tr><td>H2O_cluster_timezone:</td>\n<td>Etc/UTC</td></tr>\n<tr><td>H2O_data_parsing_timezone:</td>\n<td>UTC</td></tr>\n<tr><td>H2O_cluster_version:</td>\n<td>3.30.0.4</td></tr>\n<tr><td>H2O_cluster_version_age:</td>\n<td>5 months !!!</td></tr>\n<tr><td>H2O_cluster_name:</td>\n<td>H2O_from_python_azureuser_a0j2bu</td></tr>\n<tr><td>H2O_cluster_total_nodes:</td>\n<td>1</td></tr>\n<tr><td>H2O_cluster_free_memory:</td>\n<td>23.96 Gb</td></tr>\n<tr><td>H2O_cluster_total_cores:</td>\n<td>4</td></tr>\n<tr><td>H2O_cluster_allowed_cores:</td>\n<td>4</td></tr>\n<tr><td>H2O_cluster_status:</td>\n<td>accepting new members, healthy</td></tr>\n<tr><td>H2O_connection_url:</td>\n<td>http://127.0.0.1:54321</td></tr>\n<tr><td>H2O_connection_proxy:</td>\n<td>{\"http\": null, \"https\": null}</td></tr>\n<tr><td>H2O_internal_security:</td>\n<td>False</td></tr>\n<tr><td>H2O_API_Extensions:</td>\n<td>Amazon S3, XGBoost, Algos, AutoML, Core V3, TargetEncoder, Core V4</td></tr>\n<tr><td>Python_version:</td>\n<td>3.6.9 final</td></tr></table></div>"
          },
          "metadata": {}
        }
      ],
      "execution_count": 1,
      "metadata": {
        "gather": {
          "logged": 1604326015431
        }
      }
    },
    {
      "cell_type": "code",
      "source": [
        "def get_models_from_model_ids(model_ids):\r\n",
        "    models = []\r\n",
        "    for id in model_ids:\r\n",
        "        models.append(h2o.get_model(id))\r\n",
        "    \r\n",
        "    return models\r\n"
      ],
      "outputs": [],
      "execution_count": 2,
      "metadata": {
        "collapsed": true,
        "jupyter": {
          "source_hidden": false,
          "outputs_hidden": false
        },
        "nteract": {
          "transient": {
            "deleting": false
          }
        },
        "gather": {
          "logged": 1604326026940
        }
      }
    },
    {
      "cell_type": "code",
      "source": [
        "train = h2o.import_file(\"../data/processed/final.train.tsv\")\r\n",
        "test = h2o.import_file(\"../data/processed/final.test.tsv\")\r\n"
      ],
      "outputs": [
        {
          "output_type": "stream",
          "name": "stdout",
          "text": [
            "Parse progress: |█████████████████████████████████████████████████████████| 100%\n",
            "Parse progress: |█████████████████████████████████████████████████████████| 100%\n"
          ]
        }
      ],
      "execution_count": 5,
      "metadata": {
        "collapsed": true,
        "jupyter": {
          "source_hidden": false,
          "outputs_hidden": false
        },
        "nteract": {
          "transient": {
            "deleting": false
          }
        },
        "gather": {
          "logged": 1604326103534
        }
      }
    },
    {
      "cell_type": "code",
      "source": [
        "# Identify predictors and response\r\n",
        "train_predictor_cols = train.columns\r\n",
        "train_response_col = \"Resistance_Status\"\r\n",
        "train_predictor_cols.remove('SampleID')\r\n",
        "train_predictor_cols.remove(train_response_col)\r\n",
        "print(\"train frame - predictor column: \", train_predictor_cols[0], train_predictor_cols[-1])\r\n",
        "print(\"train frame - response column: \", train_response_col)\r\n",
        "\r\n",
        "\r\n",
        "\r\n",
        "# Identify predictors and response\r\n",
        "test_predictor_cols = test.columns\r\n",
        "test_response_col = \"Resistance_Status\"\r\n",
        "test_predictor_cols.remove('SampleID')\r\n",
        "test_predictor_cols.remove(test_response_col)\r\n",
        "print(\"test frame - predictor columns: \", test_predictor_cols[0], test_predictor_cols[-1])\r\n",
        "print(\"test frame - response column: \", test_response_col)\r\n",
        "\r\n",
        "\r\n",
        "# For binary classification, response should be a factor\r\n",
        "train[train_response_col] = train[train_response_col].asfactor()\r\n",
        "test[test_response_col] = test[test_response_col].asfactor()\r\n",
        "\r\n",
        "\r\n",
        "# Number of CV folds (to generate level-one data for stacking)\r\n",
        "nfolds = 5\r\n",
        "\r\n",
        "\r\n",
        "x = train_predictor_cols\r\n",
        "y = train_response_col\r\n",
        "\r\n"
      ],
      "outputs": [
        {
          "output_type": "stream",
          "name": "stdout",
          "text": [
            "train frame - predictor column:  NC000962_3.22 NC000962_3.4411327\n",
            "train frame - response column:  Resistance_Status\n",
            "test frame - predictor columns:  NC000962_3.22 NC000962_3.4411327\n",
            "test frame - response column:  Resistance_Status\n"
          ]
        }
      ],
      "execution_count": 6,
      "metadata": {
        "collapsed": true,
        "jupyter": {
          "source_hidden": false,
          "outputs_hidden": false
        },
        "nteract": {
          "transient": {
            "deleting": false
          }
        },
        "gather": {
          "logged": 1604326103917
        }
      }
    },
    {
      "cell_type": "markdown",
      "source": [
        "## Load saved models"
      ],
      "metadata": {
        "nteract": {
          "transient": {
            "deleting": false
          }
        }
      }
    },
    {
      "cell_type": "markdown",
      "source": [
        "### Naive-Bayes"
      ],
      "metadata": {
        "nteract": {
          "transient": {
            "deleting": false
          }
        }
      }
    },
    {
      "cell_type": "code",
      "source": [
        "nb_grid = h2o.load_grid(\"../models/ALL_FEATURES/nb_grid/Grid_NaiveBayes_py_5_sid_8e0c_model_python_1604225741410_1205\")\r\n",
        "nb_grid"
      ],
      "outputs": [
        {
          "output_type": "stream",
          "name": "stdout",
          "text": [
            "     compute_metrics eps_prob eps_sdev laplace min_prob min_sdev  \\\n",
            "0               true      1.0      1.0     1.0      0.3      0.6   \n",
            "1               true      1.0      1.0     0.9      0.1      0.6   \n",
            "2               true      0.9      0.9     0.1      0.1      1.0   \n",
            "3              false      0.1      0.9     0.3      0.9      1.0   \n",
            "4               true      0.3      1.0     0.1      0.3      0.9   \n",
            "5               true      0.3      0.6     0.3      1.0      0.6   \n",
            "6               true      1.0      0.3     1.0      0.6      0.6   \n",
            "7               true      0.1      1.0     1.0      0.1      0.1   \n",
            "8               true      0.1      0.9     0.6      0.9      0.6   \n",
            "9               true      0.6      0.3     0.1      0.9      1.0   \n",
            "10              true      1.0      1.0     0.1      0.1      0.3   \n",
            "11             false      0.9      0.9     0.1      1.0      0.1   \n",
            "12              true      0.6      1.0     0.6      0.3      0.3   \n",
            "13              true      0.3      0.9     0.1      0.6      0.1   \n",
            "14              true      0.3      1.0     1.0      0.3      0.3   \n",
            "15             false      0.6      0.6     0.9      1.0      0.1   \n",
            "16              true      0.9      0.1     1.0      0.9      0.6   \n",
            "17              true      0.3      0.1     0.9      0.6      1.0   \n",
            "18             false      0.6      0.3     0.9      1.0      0.1   \n",
            "19              true      1.0      0.3     0.9      0.1      0.6   \n",
            "\n",
            "                                                                model_ids  \\\n",
            "0   Grid_NaiveBayes_py_5_sid_8e0c_model_python_1604225741410_1205_model_5   \n",
            "1   Grid_NaiveBayes_py_5_sid_8e0c_model_python_1604225741410_1205_mode...   \n",
            "2   Grid_NaiveBayes_py_5_sid_8e0c_model_python_1604225741410_1205_mode...   \n",
            "3   Grid_NaiveBayes_py_5_sid_8e0c_model_python_1604225741410_1205_mode...   \n",
            "4   Grid_NaiveBayes_py_5_sid_8e0c_model_python_1604225741410_1205_mode...   \n",
            "5   Grid_NaiveBayes_py_5_sid_8e0c_model_python_1604225741410_1205_mode...   \n",
            "6   Grid_NaiveBayes_py_5_sid_8e0c_model_python_1604225741410_1205_mode...   \n",
            "7   Grid_NaiveBayes_py_5_sid_8e0c_model_python_1604225741410_1205_model_9   \n",
            "8   Grid_NaiveBayes_py_5_sid_8e0c_model_python_1604225741410_1205_mode...   \n",
            "9   Grid_NaiveBayes_py_5_sid_8e0c_model_python_1604225741410_1205_mode...   \n",
            "10  Grid_NaiveBayes_py_5_sid_8e0c_model_python_1604225741410_1205_mode...   \n",
            "11  Grid_NaiveBayes_py_5_sid_8e0c_model_python_1604225741410_1205_model_2   \n",
            "12  Grid_NaiveBayes_py_5_sid_8e0c_model_python_1604225741410_1205_model_8   \n",
            "13  Grid_NaiveBayes_py_5_sid_8e0c_model_python_1604225741410_1205_model_7   \n",
            "14  Grid_NaiveBayes_py_5_sid_8e0c_model_python_1604225741410_1205_model_3   \n",
            "15  Grid_NaiveBayes_py_5_sid_8e0c_model_python_1604225741410_1205_model_1   \n",
            "16  Grid_NaiveBayes_py_5_sid_8e0c_model_python_1604225741410_1205_model_6   \n",
            "17  Grid_NaiveBayes_py_5_sid_8e0c_model_python_1604225741410_1205_mode...   \n",
            "18  Grid_NaiveBayes_py_5_sid_8e0c_model_python_1604225741410_1205_mode...   \n",
            "19  Grid_NaiveBayes_py_5_sid_8e0c_model_python_1604225741410_1205_model_4   \n",
            "\n",
            "               logloss  \n",
            "0   0.6451126471175408  \n",
            "1   0.6451126932661954  \n",
            "2   0.6451132211632268  \n",
            "3   3.0187333796235367  \n",
            "4   3.9865388421763526  \n",
            "5    5.325658753652066  \n",
            "6    7.021793919567276  \n",
            "7    7.077352053348287  \n",
            "8    7.462534251870337  \n",
            "9    7.844214908138463  \n",
            "10   8.413676045489039  \n",
            "11  10.022553621849632  \n",
            "12  10.154535560338491  \n",
            "13  10.291149745004994  \n",
            "14  10.293313074754446  \n",
            "15   10.91944247185881  \n",
            "16  11.961316054508194  \n",
            "17  11.972211155195103  \n",
            "18  13.186658536745457  \n",
            "19  13.511114187160324  \n"
          ]
        },
        {
          "output_type": "execute_result",
          "execution_count": 10,
          "data": {
            "text/plain": ""
          },
          "metadata": {}
        }
      ],
      "execution_count": 10,
      "metadata": {
        "collapsed": true,
        "jupyter": {
          "source_hidden": false,
          "outputs_hidden": false
        },
        "nteract": {
          "transient": {
            "deleting": false
          }
        },
        "gather": {
          "logged": 1604326283342
        }
      }
    },
    {
      "cell_type": "code",
      "source": [
        "nb_grid.predict(test)"
      ],
      "outputs": [
        {
          "output_type": "stream",
          "name": "stdout",
          "text": [
            "naivebayes prediction progress: |█████████████████████████████████████████| 100%\n",
            "naivebayes prediction progress: |█████████████████████████████████████████| 100%\n",
            "naivebayes prediction progress: |█████████████████████████████████████████| 100%\n",
            "naivebayes prediction progress: |█████████████████████████████████████████| 100%\n",
            "naivebayes prediction progress: |█████████████████████████████████████████| 100%\n",
            "naivebayes prediction progress: |█████████████████████████████████████████| 100%\n",
            "naivebayes prediction progress: |█████████████████████████████████████████| 100%\n",
            "naivebayes prediction progress: |█████████████████████████████████████████| 100%\n",
            "naivebayes prediction progress: |█████████████████████████████████████████| 100%\n",
            "naivebayes prediction progress: |█████████████████████████████████████████| 100%\n",
            "naivebayes prediction progress: |█████████████████████████████████████████| 100%\n",
            "naivebayes prediction progress: |█████████████████████████████████████████| 100%\n",
            "naivebayes prediction progress: |█████████████████████████████████████████| 100%\n",
            "naivebayes prediction progress: |█████████████████████████████████████████| 100%\n",
            "naivebayes prediction progress: |█████████████████████████████████████████| 100%\n",
            "naivebayes prediction progress: |█████████████████████████████████████████| 100%\n",
            "naivebayes prediction progress: |█████████████████████████████████████████| 100%\n",
            "naivebayes prediction progress: |█████████████████████████████████████████| 100%\n",
            "naivebayes prediction progress: |█████████████████████████████████████████| 100%\n",
            "naivebayes prediction progress: |█████████████████████████████████████████| 100%\n"
          ]
        },
        {
          "output_type": "display_data",
          "data": {
            "text/html": "<table>\n<thead>\n<tr><th style=\"text-align: right;\">  predict</th><th style=\"text-align: right;\">      p0</th><th style=\"text-align: right;\">      p1</th></tr>\n</thead>\n<tbody>\n<tr><td style=\"text-align: right;\">        1</td><td style=\"text-align: right;\">0.346122</td><td style=\"text-align: right;\">0.653878</td></tr>\n<tr><td style=\"text-align: right;\">        1</td><td style=\"text-align: right;\">0.346122</td><td style=\"text-align: right;\">0.653878</td></tr>\n<tr><td style=\"text-align: right;\">        1</td><td style=\"text-align: right;\">0.346122</td><td style=\"text-align: right;\">0.653878</td></tr>\n<tr><td style=\"text-align: right;\">        1</td><td style=\"text-align: right;\">0.346122</td><td style=\"text-align: right;\">0.653878</td></tr>\n<tr><td style=\"text-align: right;\">        1</td><td style=\"text-align: right;\">0.346122</td><td style=\"text-align: right;\">0.653878</td></tr>\n<tr><td style=\"text-align: right;\">        1</td><td style=\"text-align: right;\">0.346122</td><td style=\"text-align: right;\">0.653878</td></tr>\n<tr><td style=\"text-align: right;\">        1</td><td style=\"text-align: right;\">0.346122</td><td style=\"text-align: right;\">0.653878</td></tr>\n<tr><td style=\"text-align: right;\">        1</td><td style=\"text-align: right;\">0.346122</td><td style=\"text-align: right;\">0.653878</td></tr>\n<tr><td style=\"text-align: right;\">        1</td><td style=\"text-align: right;\">0.346122</td><td style=\"text-align: right;\">0.653878</td></tr>\n<tr><td style=\"text-align: right;\">        1</td><td style=\"text-align: right;\">0.346122</td><td style=\"text-align: right;\">0.653878</td></tr>\n</tbody>\n</table>"
          },
          "metadata": {}
        },
        {
          "output_type": "display_data",
          "data": {
            "text/html": "<table>\n<thead>\n<tr><th style=\"text-align: right;\">  predict</th><th style=\"text-align: right;\">      p0</th><th style=\"text-align: right;\">      p1</th></tr>\n</thead>\n<tbody>\n<tr><td style=\"text-align: right;\">        1</td><td style=\"text-align: right;\">0.346097</td><td style=\"text-align: right;\">0.653903</td></tr>\n<tr><td style=\"text-align: right;\">        1</td><td style=\"text-align: right;\">0.346097</td><td style=\"text-align: right;\">0.653903</td></tr>\n<tr><td style=\"text-align: right;\">        1</td><td style=\"text-align: right;\">0.346097</td><td style=\"text-align: right;\">0.653903</td></tr>\n<tr><td style=\"text-align: right;\">        1</td><td style=\"text-align: right;\">0.346097</td><td style=\"text-align: right;\">0.653903</td></tr>\n<tr><td style=\"text-align: right;\">        1</td><td style=\"text-align: right;\">0.346097</td><td style=\"text-align: right;\">0.653903</td></tr>\n<tr><td style=\"text-align: right;\">        1</td><td style=\"text-align: right;\">0.346097</td><td style=\"text-align: right;\">0.653903</td></tr>\n<tr><td style=\"text-align: right;\">        1</td><td style=\"text-align: right;\">0.346097</td><td style=\"text-align: right;\">0.653903</td></tr>\n<tr><td style=\"text-align: right;\">        1</td><td style=\"text-align: right;\">0.346097</td><td style=\"text-align: right;\">0.653903</td></tr>\n<tr><td style=\"text-align: right;\">        1</td><td style=\"text-align: right;\">0.346097</td><td style=\"text-align: right;\">0.653903</td></tr>\n<tr><td style=\"text-align: right;\">        1</td><td style=\"text-align: right;\">0.346097</td><td style=\"text-align: right;\">0.653903</td></tr>\n</tbody>\n</table>"
          },
          "metadata": {}
        },
        {
          "output_type": "display_data",
          "data": {
            "text/html": "<table>\n<thead>\n<tr><th style=\"text-align: right;\">  predict</th><th style=\"text-align: right;\">      p0</th><th style=\"text-align: right;\">      p1</th></tr>\n</thead>\n<tbody>\n<tr><td style=\"text-align: right;\">        1</td><td style=\"text-align: right;\">0.345896</td><td style=\"text-align: right;\">0.654104</td></tr>\n<tr><td style=\"text-align: right;\">        1</td><td style=\"text-align: right;\">0.345896</td><td style=\"text-align: right;\">0.654104</td></tr>\n<tr><td style=\"text-align: right;\">        1</td><td style=\"text-align: right;\">0.345896</td><td style=\"text-align: right;\">0.654104</td></tr>\n<tr><td style=\"text-align: right;\">        1</td><td style=\"text-align: right;\">0.345896</td><td style=\"text-align: right;\">0.654104</td></tr>\n<tr><td style=\"text-align: right;\">        1</td><td style=\"text-align: right;\">0.345896</td><td style=\"text-align: right;\">0.654104</td></tr>\n<tr><td style=\"text-align: right;\">        1</td><td style=\"text-align: right;\">0.345896</td><td style=\"text-align: right;\">0.654104</td></tr>\n<tr><td style=\"text-align: right;\">        1</td><td style=\"text-align: right;\">0.345896</td><td style=\"text-align: right;\">0.654104</td></tr>\n<tr><td style=\"text-align: right;\">        1</td><td style=\"text-align: right;\">0.345896</td><td style=\"text-align: right;\">0.654104</td></tr>\n<tr><td style=\"text-align: right;\">        1</td><td style=\"text-align: right;\">0.345896</td><td style=\"text-align: right;\">0.654104</td></tr>\n<tr><td style=\"text-align: right;\">        1</td><td style=\"text-align: right;\">0.345896</td><td style=\"text-align: right;\">0.654104</td></tr>\n</tbody>\n</table>"
          },
          "metadata": {}
        },
        {
          "output_type": "display_data",
          "data": {
            "text/html": "<table>\n<thead>\n<tr><th style=\"text-align: right;\">  predict</th><th style=\"text-align: right;\">         p0</th><th style=\"text-align: right;\">         p1</th></tr>\n</thead>\n<tbody>\n<tr><td style=\"text-align: right;\">        0</td><td style=\"text-align: right;\">0.999315   </td><td style=\"text-align: right;\">0.000685367</td></tr>\n<tr><td style=\"text-align: right;\">        0</td><td style=\"text-align: right;\">1          </td><td style=\"text-align: right;\">3.48997e-07</td></tr>\n<tr><td style=\"text-align: right;\">        1</td><td style=\"text-align: right;\">0.0081186  </td><td style=\"text-align: right;\">0.991881   </td></tr>\n<tr><td style=\"text-align: right;\">        1</td><td style=\"text-align: right;\">1.54887e-07</td><td style=\"text-align: right;\">1          </td></tr>\n<tr><td style=\"text-align: right;\">        1</td><td style=\"text-align: right;\">2.20052e-06</td><td style=\"text-align: right;\">0.999998   </td></tr>\n<tr><td style=\"text-align: right;\">        1</td><td style=\"text-align: right;\">6.89905e-08</td><td style=\"text-align: right;\">1          </td></tr>\n<tr><td style=\"text-align: right;\">        1</td><td style=\"text-align: right;\">2.11575e-08</td><td style=\"text-align: right;\">1          </td></tr>\n<tr><td style=\"text-align: right;\">        0</td><td style=\"text-align: right;\">0.984356   </td><td style=\"text-align: right;\">0.0156439  </td></tr>\n<tr><td style=\"text-align: right;\">        0</td><td style=\"text-align: right;\">0.966558   </td><td style=\"text-align: right;\">0.033442   </td></tr>\n<tr><td style=\"text-align: right;\">        0</td><td style=\"text-align: right;\">0.971588   </td><td style=\"text-align: right;\">0.028412   </td></tr>\n</tbody>\n</table>"
          },
          "metadata": {}
        },
        {
          "output_type": "display_data",
          "data": {
            "text/html": "<table>\n<thead>\n<tr><th style=\"text-align: right;\">  predict</th><th style=\"text-align: right;\">         p0</th><th style=\"text-align: right;\">         p1</th></tr>\n</thead>\n<tbody>\n<tr><td style=\"text-align: right;\">        1</td><td style=\"text-align: right;\">0.999979   </td><td style=\"text-align: right;\">2.09772e-05</td></tr>\n<tr><td style=\"text-align: right;\">        1</td><td style=\"text-align: right;\">1          </td><td style=\"text-align: right;\">4.64652e-08</td></tr>\n<tr><td style=\"text-align: right;\">        1</td><td style=\"text-align: right;\">0.433939   </td><td style=\"text-align: right;\">0.566061   </td></tr>\n<tr><td style=\"text-align: right;\">        1</td><td style=\"text-align: right;\">8.15248e-09</td><td style=\"text-align: right;\">1          </td></tr>\n<tr><td style=\"text-align: right;\">        1</td><td style=\"text-align: right;\">1.42982e-07</td><td style=\"text-align: right;\">1          </td></tr>\n<tr><td style=\"text-align: right;\">        1</td><td style=\"text-align: right;\">8.97452e-09</td><td style=\"text-align: right;\">1          </td></tr>\n<tr><td style=\"text-align: right;\">        1</td><td style=\"text-align: right;\">1.17475e-09</td><td style=\"text-align: right;\">1          </td></tr>\n<tr><td style=\"text-align: right;\">        1</td><td style=\"text-align: right;\">0.999469   </td><td style=\"text-align: right;\">0.000530701</td></tr>\n<tr><td style=\"text-align: right;\">        1</td><td style=\"text-align: right;\">0.999161   </td><td style=\"text-align: right;\">0.000839045</td></tr>\n<tr><td style=\"text-align: right;\">        1</td><td style=\"text-align: right;\">0.995129   </td><td style=\"text-align: right;\">0.00487061 </td></tr>\n</tbody>\n</table>"
          },
          "metadata": {}
        },
        {
          "output_type": "display_data",
          "data": {
            "text/html": "<table>\n<thead>\n<tr><th style=\"text-align: right;\">  predict</th><th style=\"text-align: right;\">         p0</th><th style=\"text-align: right;\">         p1</th></tr>\n</thead>\n<tbody>\n<tr><td style=\"text-align: right;\">        1</td><td style=\"text-align: right;\">0.999334   </td><td style=\"text-align: right;\">0.0006657  </td></tr>\n<tr><td style=\"text-align: right;\">        1</td><td style=\"text-align: right;\">0.0010223  </td><td style=\"text-align: right;\">0.998978   </td></tr>\n<tr><td style=\"text-align: right;\">        1</td><td style=\"text-align: right;\">0.196244   </td><td style=\"text-align: right;\">0.803756   </td></tr>\n<tr><td style=\"text-align: right;\">        1</td><td style=\"text-align: right;\">3.3227e-15 </td><td style=\"text-align: right;\">1          </td></tr>\n<tr><td style=\"text-align: right;\">        1</td><td style=\"text-align: right;\">1.02424e-14</td><td style=\"text-align: right;\">1          </td></tr>\n<tr><td style=\"text-align: right;\">        1</td><td style=\"text-align: right;\">7.6382e-12 </td><td style=\"text-align: right;\">1          </td></tr>\n<tr><td style=\"text-align: right;\">        1</td><td style=\"text-align: right;\">2.48826e-14</td><td style=\"text-align: right;\">1          </td></tr>\n<tr><td style=\"text-align: right;\">        1</td><td style=\"text-align: right;\">0.998473   </td><td style=\"text-align: right;\">0.00152713 </td></tr>\n<tr><td style=\"text-align: right;\">        1</td><td style=\"text-align: right;\">0.999999   </td><td style=\"text-align: right;\">7.77106e-07</td></tr>\n<tr><td style=\"text-align: right;\">        1</td><td style=\"text-align: right;\">0.999958   </td><td style=\"text-align: right;\">4.24461e-05</td></tr>\n</tbody>\n</table>"
          },
          "metadata": {}
        },
        {
          "output_type": "display_data",
          "data": {
            "text/html": "<table>\n<thead>\n<tr><th style=\"text-align: right;\">  predict</th><th style=\"text-align: right;\">         p0</th><th style=\"text-align: right;\">      p1</th></tr>\n</thead>\n<tbody>\n<tr><td style=\"text-align: right;\">        1</td><td style=\"text-align: right;\">3.44961e-05</td><td style=\"text-align: right;\">0.999966</td></tr>\n<tr><td style=\"text-align: right;\">        1</td><td style=\"text-align: right;\">1.35772e-08</td><td style=\"text-align: right;\">1       </td></tr>\n<tr><td style=\"text-align: right;\">        1</td><td style=\"text-align: right;\">3.45997e-06</td><td style=\"text-align: right;\">0.999997</td></tr>\n<tr><td style=\"text-align: right;\">        1</td><td style=\"text-align: right;\">9.82213e-13</td><td style=\"text-align: right;\">1       </td></tr>\n<tr><td style=\"text-align: right;\">        1</td><td style=\"text-align: right;\">2.64749e-10</td><td style=\"text-align: right;\">1       </td></tr>\n<tr><td style=\"text-align: right;\">        1</td><td style=\"text-align: right;\">6.30813e-12</td><td style=\"text-align: right;\">1       </td></tr>\n<tr><td style=\"text-align: right;\">        1</td><td style=\"text-align: right;\">1.34847e-12</td><td style=\"text-align: right;\">1       </td></tr>\n<tr><td style=\"text-align: right;\">        1</td><td style=\"text-align: right;\">7.58845e-07</td><td style=\"text-align: right;\">0.999999</td></tr>\n<tr><td style=\"text-align: right;\">        1</td><td style=\"text-align: right;\">4.5908e-06 </td><td style=\"text-align: right;\">0.999995</td></tr>\n<tr><td style=\"text-align: right;\">        1</td><td style=\"text-align: right;\">2.03834e-08</td><td style=\"text-align: right;\">1       </td></tr>\n</tbody>\n</table>"
          },
          "metadata": {}
        },
        {
          "output_type": "display_data",
          "data": {
            "text/html": "<table>\n<thead>\n<tr><th style=\"text-align: right;\">  predict</th><th style=\"text-align: right;\">         p0</th><th style=\"text-align: right;\">         p1</th></tr>\n</thead>\n<tbody>\n<tr><td style=\"text-align: right;\">        1</td><td style=\"text-align: right;\">4.14677e-12</td><td style=\"text-align: right;\">1          </td></tr>\n<tr><td style=\"text-align: right;\">        1</td><td style=\"text-align: right;\">1          </td><td style=\"text-align: right;\">6.08223e-18</td></tr>\n<tr><td style=\"text-align: right;\">        1</td><td style=\"text-align: right;\">3.68977e-44</td><td style=\"text-align: right;\">1          </td></tr>\n<tr><td style=\"text-align: right;\">        1</td><td style=\"text-align: right;\">2.8398e-26 </td><td style=\"text-align: right;\">1          </td></tr>\n<tr><td style=\"text-align: right;\">        1</td><td style=\"text-align: right;\">3.62684e-18</td><td style=\"text-align: right;\">1          </td></tr>\n<tr><td style=\"text-align: right;\">        1</td><td style=\"text-align: right;\">9.13155e-32</td><td style=\"text-align: right;\">1          </td></tr>\n<tr><td style=\"text-align: right;\">        1</td><td style=\"text-align: right;\">1.54781e-31</td><td style=\"text-align: right;\">1          </td></tr>\n<tr><td style=\"text-align: right;\">        1</td><td style=\"text-align: right;\">1.41549e-19</td><td style=\"text-align: right;\">1          </td></tr>\n<tr><td style=\"text-align: right;\">        1</td><td style=\"text-align: right;\">6.30558e-24</td><td style=\"text-align: right;\">1          </td></tr>\n<tr><td style=\"text-align: right;\">        1</td><td style=\"text-align: right;\">3.98211e-16</td><td style=\"text-align: right;\">1          </td></tr>\n</tbody>\n</table>"
          },
          "metadata": {}
        },
        {
          "output_type": "display_data",
          "data": {
            "text/html": "<table>\n<thead>\n<tr><th style=\"text-align: right;\">  predict</th><th style=\"text-align: right;\">         p0</th><th style=\"text-align: right;\">         p1</th></tr>\n</thead>\n<tbody>\n<tr><td style=\"text-align: right;\">        1</td><td style=\"text-align: right;\">1          </td><td style=\"text-align: right;\">5.24613e-10</td></tr>\n<tr><td style=\"text-align: right;\">        1</td><td style=\"text-align: right;\">1          </td><td style=\"text-align: right;\">3.72826e-19</td></tr>\n<tr><td style=\"text-align: right;\">        1</td><td style=\"text-align: right;\">4.95132e-06</td><td style=\"text-align: right;\">0.999995   </td></tr>\n<tr><td style=\"text-align: right;\">        1</td><td style=\"text-align: right;\">3.76063e-19</td><td style=\"text-align: right;\">1          </td></tr>\n<tr><td style=\"text-align: right;\">        1</td><td style=\"text-align: right;\">5.97973e-16</td><td style=\"text-align: right;\">1          </td></tr>\n<tr><td style=\"text-align: right;\">        1</td><td style=\"text-align: right;\">3.97772e-20</td><td style=\"text-align: right;\">1          </td></tr>\n<tr><td style=\"text-align: right;\">        1</td><td style=\"text-align: right;\">1.49188e-21</td><td style=\"text-align: right;\">1          </td></tr>\n<tr><td style=\"text-align: right;\">        1</td><td style=\"text-align: right;\">0.999997   </td><td style=\"text-align: right;\">3.24658e-06</td></tr>\n<tr><td style=\"text-align: right;\">        1</td><td style=\"text-align: right;\">0.999972   </td><td style=\"text-align: right;\">2.81803e-05</td></tr>\n<tr><td style=\"text-align: right;\">        1</td><td style=\"text-align: right;\">0.999982   </td><td style=\"text-align: right;\">1.76623e-05</td></tr>\n</tbody>\n</table>"
          },
          "metadata": {}
        },
        {
          "output_type": "display_data",
          "data": {
            "text/html": "<table>\n<thead>\n<tr><th style=\"text-align: right;\">  predict</th><th style=\"text-align: right;\">         p0</th><th style=\"text-align: right;\">      p1</th></tr>\n</thead>\n<tbody>\n<tr><td style=\"text-align: right;\">        1</td><td style=\"text-align: right;\">8.49726e-14</td><td style=\"text-align: right;\">1       </td></tr>\n<tr><td style=\"text-align: right;\">        1</td><td style=\"text-align: right;\">1.44584e-14</td><td style=\"text-align: right;\">1       </td></tr>\n<tr><td style=\"text-align: right;\">        1</td><td style=\"text-align: right;\">3.0461e-08 </td><td style=\"text-align: right;\">1       </td></tr>\n<tr><td style=\"text-align: right;\">        1</td><td style=\"text-align: right;\">0.0250649  </td><td style=\"text-align: right;\">0.974935</td></tr>\n<tr><td style=\"text-align: right;\">        1</td><td style=\"text-align: right;\">0.00354424 </td><td style=\"text-align: right;\">0.996456</td></tr>\n<tr><td style=\"text-align: right;\">        1</td><td style=\"text-align: right;\">0.084731   </td><td style=\"text-align: right;\">0.915269</td></tr>\n<tr><td style=\"text-align: right;\">        1</td><td style=\"text-align: right;\">0.112351   </td><td style=\"text-align: right;\">0.887649</td></tr>\n<tr><td style=\"text-align: right;\">        1</td><td style=\"text-align: right;\">4.66971e-12</td><td style=\"text-align: right;\">1       </td></tr>\n<tr><td style=\"text-align: right;\">        1</td><td style=\"text-align: right;\">2.55649e-14</td><td style=\"text-align: right;\">1       </td></tr>\n<tr><td style=\"text-align: right;\">        1</td><td style=\"text-align: right;\">5.70227e-13</td><td style=\"text-align: right;\">1       </td></tr>\n</tbody>\n</table>"
          },
          "metadata": {}
        },
        {
          "output_type": "display_data",
          "data": {
            "text/html": "<table>\n<thead>\n<tr><th style=\"text-align: right;\">  predict</th><th style=\"text-align: right;\">         p0</th><th style=\"text-align: right;\">      p1</th></tr>\n</thead>\n<tbody>\n<tr><td style=\"text-align: right;\">        1</td><td style=\"text-align: right;\">3.92728e-22</td><td style=\"text-align: right;\">1       </td></tr>\n<tr><td style=\"text-align: right;\">        1</td><td style=\"text-align: right;\">0.781052   </td><td style=\"text-align: right;\">0.218948</td></tr>\n<tr><td style=\"text-align: right;\">        1</td><td style=\"text-align: right;\">6.3499e-44 </td><td style=\"text-align: right;\">1       </td></tr>\n<tr><td style=\"text-align: right;\">        1</td><td style=\"text-align: right;\">1.45861e-37</td><td style=\"text-align: right;\">1       </td></tr>\n<tr><td style=\"text-align: right;\">        1</td><td style=\"text-align: right;\">5.76477e-33</td><td style=\"text-align: right;\">1       </td></tr>\n<tr><td style=\"text-align: right;\">        1</td><td style=\"text-align: right;\">5.8542e-43 </td><td style=\"text-align: right;\">1       </td></tr>\n<tr><td style=\"text-align: right;\">        1</td><td style=\"text-align: right;\">7.05635e-44</td><td style=\"text-align: right;\">1       </td></tr>\n<tr><td style=\"text-align: right;\">        1</td><td style=\"text-align: right;\">9.2704e-26 </td><td style=\"text-align: right;\">1       </td></tr>\n<tr><td style=\"text-align: right;\">        1</td><td style=\"text-align: right;\">6.61021e-30</td><td style=\"text-align: right;\">1       </td></tr>\n<tr><td style=\"text-align: right;\">        1</td><td style=\"text-align: right;\">4.93953e-29</td><td style=\"text-align: right;\">1       </td></tr>\n</tbody>\n</table>"
          },
          "metadata": {}
        },
        {
          "output_type": "display_data",
          "data": {
            "text/html": "<table>\n<thead>\n<tr><th style=\"text-align: right;\">  predict</th><th style=\"text-align: right;\">         p0</th><th style=\"text-align: right;\">         p1</th></tr>\n</thead>\n<tbody>\n<tr><td style=\"text-align: right;\">        0</td><td style=\"text-align: right;\">0.999723   </td><td style=\"text-align: right;\">0.00027671 </td></tr>\n<tr><td style=\"text-align: right;\">        0</td><td style=\"text-align: right;\">1          </td><td style=\"text-align: right;\">5.4578e-14 </td></tr>\n<tr><td style=\"text-align: right;\">        1</td><td style=\"text-align: right;\">1.50948e-11</td><td style=\"text-align: right;\">1          </td></tr>\n<tr><td style=\"text-align: right;\">        0</td><td style=\"text-align: right;\">1          </td><td style=\"text-align: right;\">2.2774e-07 </td></tr>\n<tr><td style=\"text-align: right;\">        0</td><td style=\"text-align: right;\">1          </td><td style=\"text-align: right;\">1.88097e-08</td></tr>\n<tr><td style=\"text-align: right;\">        0</td><td style=\"text-align: right;\">0.99995    </td><td style=\"text-align: right;\">5.02902e-05</td></tr>\n<tr><td style=\"text-align: right;\">        0</td><td style=\"text-align: right;\">0.999995   </td><td style=\"text-align: right;\">4.6886e-06 </td></tr>\n<tr><td style=\"text-align: right;\">        0</td><td style=\"text-align: right;\">0.930075   </td><td style=\"text-align: right;\">0.0699252  </td></tr>\n<tr><td style=\"text-align: right;\">        1</td><td style=\"text-align: right;\">0.124214   </td><td style=\"text-align: right;\">0.875786   </td></tr>\n<tr><td style=\"text-align: right;\">        0</td><td style=\"text-align: right;\">0.999999   </td><td style=\"text-align: right;\">1.03872e-06</td></tr>\n</tbody>\n</table>"
          },
          "metadata": {}
        },
        {
          "output_type": "display_data",
          "data": {
            "text/html": "<table>\n<thead>\n<tr><th style=\"text-align: right;\">  predict</th><th style=\"text-align: right;\">         p0</th><th style=\"text-align: right;\">         p1</th></tr>\n</thead>\n<tbody>\n<tr><td style=\"text-align: right;\">        1</td><td style=\"text-align: right;\">1          </td><td style=\"text-align: right;\">4.57936e-24</td></tr>\n<tr><td style=\"text-align: right;\">        0</td><td style=\"text-align: right;\">1          </td><td style=\"text-align: right;\">3.19408e-33</td></tr>\n<tr><td style=\"text-align: right;\">        1</td><td style=\"text-align: right;\">0.999813   </td><td style=\"text-align: right;\">0.000186503</td></tr>\n<tr><td style=\"text-align: right;\">        1</td><td style=\"text-align: right;\">2.49072e-22</td><td style=\"text-align: right;\">1          </td></tr>\n<tr><td style=\"text-align: right;\">        1</td><td style=\"text-align: right;\">1.06223e-14</td><td style=\"text-align: right;\">1          </td></tr>\n<tr><td style=\"text-align: right;\">        1</td><td style=\"text-align: right;\">2.80337e-22</td><td style=\"text-align: right;\">1          </td></tr>\n<tr><td style=\"text-align: right;\">        1</td><td style=\"text-align: right;\">6.26185e-26</td><td style=\"text-align: right;\">1          </td></tr>\n<tr><td style=\"text-align: right;\">        1</td><td style=\"text-align: right;\">1          </td><td style=\"text-align: right;\">1.58811e-16</td></tr>\n<tr><td style=\"text-align: right;\">        1</td><td style=\"text-align: right;\">1          </td><td style=\"text-align: right;\">2.92516e-17</td></tr>\n<tr><td style=\"text-align: right;\">        1</td><td style=\"text-align: right;\">1          </td><td style=\"text-align: right;\">1.28966e-14</td></tr>\n</tbody>\n</table>"
          },
          "metadata": {}
        },
        {
          "output_type": "display_data",
          "data": {
            "text/html": "<table>\n<thead>\n<tr><th style=\"text-align: right;\">  predict</th><th style=\"text-align: right;\">         p0</th><th style=\"text-align: right;\">         p1</th></tr>\n</thead>\n<tbody>\n<tr><td style=\"text-align: right;\">        1</td><td style=\"text-align: right;\">0.999959   </td><td style=\"text-align: right;\">4.14079e-05</td></tr>\n<tr><td style=\"text-align: right;\">        0</td><td style=\"text-align: right;\">1          </td><td style=\"text-align: right;\">6.60207e-17</td></tr>\n<tr><td style=\"text-align: right;\">        1</td><td style=\"text-align: right;\">6.25813e-16</td><td style=\"text-align: right;\">1          </td></tr>\n<tr><td style=\"text-align: right;\">        1</td><td style=\"text-align: right;\">0.999987   </td><td style=\"text-align: right;\">1.31329e-05</td></tr>\n<tr><td style=\"text-align: right;\">        1</td><td style=\"text-align: right;\">1          </td><td style=\"text-align: right;\">4.13482e-10</td></tr>\n<tr><td style=\"text-align: right;\">        1</td><td style=\"text-align: right;\">0.999141   </td><td style=\"text-align: right;\">0.000858709</td></tr>\n<tr><td style=\"text-align: right;\">        1</td><td style=\"text-align: right;\">0.999838   </td><td style=\"text-align: right;\">0.000161617</td></tr>\n<tr><td style=\"text-align: right;\">        1</td><td style=\"text-align: right;\">0.448187   </td><td style=\"text-align: right;\">0.551813   </td></tr>\n<tr><td style=\"text-align: right;\">        1</td><td style=\"text-align: right;\">0.361572   </td><td style=\"text-align: right;\">0.638428   </td></tr>\n<tr><td style=\"text-align: right;\">        1</td><td style=\"text-align: right;\">1          </td><td style=\"text-align: right;\">4.80147e-08</td></tr>\n</tbody>\n</table>"
          },
          "metadata": {}
        },
        {
          "output_type": "display_data",
          "data": {
            "text/html": "<table>\n<thead>\n<tr><th style=\"text-align: right;\">  predict</th><th style=\"text-align: right;\">         p0</th><th style=\"text-align: right;\">         p1</th></tr>\n</thead>\n<tbody>\n<tr><td style=\"text-align: right;\">        1</td><td style=\"text-align: right;\">1          </td><td style=\"text-align: right;\">8.61779e-23</td></tr>\n<tr><td style=\"text-align: right;\">        0</td><td style=\"text-align: right;\">1          </td><td style=\"text-align: right;\">6.06936e-33</td></tr>\n<tr><td style=\"text-align: right;\">        1</td><td style=\"text-align: right;\">0.999152   </td><td style=\"text-align: right;\">0.000847849</td></tr>\n<tr><td style=\"text-align: right;\">        1</td><td style=\"text-align: right;\">6.47099e-30</td><td style=\"text-align: right;\">1          </td></tr>\n<tr><td style=\"text-align: right;\">        1</td><td style=\"text-align: right;\">4.74639e-26</td><td style=\"text-align: right;\">1          </td></tr>\n<tr><td style=\"text-align: right;\">        1</td><td style=\"text-align: right;\">5.90582e-30</td><td style=\"text-align: right;\">1          </td></tr>\n<tr><td style=\"text-align: right;\">        1</td><td style=\"text-align: right;\">4.35238e-33</td><td style=\"text-align: right;\">1          </td></tr>\n<tr><td style=\"text-align: right;\">        1</td><td style=\"text-align: right;\">1          </td><td style=\"text-align: right;\">3.25126e-18</td></tr>\n<tr><td style=\"text-align: right;\">        1</td><td style=\"text-align: right;\">1          </td><td style=\"text-align: right;\">1.22468e-17</td></tr>\n<tr><td style=\"text-align: right;\">        1</td><td style=\"text-align: right;\">1          </td><td style=\"text-align: right;\">1.40399e-14</td></tr>\n</tbody>\n</table>"
          },
          "metadata": {}
        },
        {
          "output_type": "display_data",
          "data": {
            "text/html": "<table>\n<thead>\n<tr><th style=\"text-align: right;\">  predict</th><th style=\"text-align: right;\">         p0</th><th style=\"text-align: right;\">         p1</th></tr>\n</thead>\n<tbody>\n<tr><td style=\"text-align: right;\">        0</td><td style=\"text-align: right;\">0.997726   </td><td style=\"text-align: right;\">0.00227357 </td></tr>\n<tr><td style=\"text-align: right;\">        0</td><td style=\"text-align: right;\">1          </td><td style=\"text-align: right;\">7.58266e-14</td></tr>\n<tr><td style=\"text-align: right;\">        1</td><td style=\"text-align: right;\">5.63445e-12</td><td style=\"text-align: right;\">1          </td></tr>\n<tr><td style=\"text-align: right;\">        0</td><td style=\"text-align: right;\">1          </td><td style=\"text-align: right;\">1.58601e-07</td></tr>\n<tr><td style=\"text-align: right;\">        0</td><td style=\"text-align: right;\">1          </td><td style=\"text-align: right;\">4.28842e-08</td></tr>\n<tr><td style=\"text-align: right;\">        0</td><td style=\"text-align: right;\">0.999971   </td><td style=\"text-align: right;\">2.85091e-05</td></tr>\n<tr><td style=\"text-align: right;\">        0</td><td style=\"text-align: right;\">0.999997   </td><td style=\"text-align: right;\">2.65787e-06</td></tr>\n<tr><td style=\"text-align: right;\">        0</td><td style=\"text-align: right;\">0.887988   </td><td style=\"text-align: right;\">0.112012   </td></tr>\n<tr><td style=\"text-align: right;\">        1</td><td style=\"text-align: right;\">0.0142867  </td><td style=\"text-align: right;\">0.985713   </td></tr>\n<tr><td style=\"text-align: right;\">        0</td><td style=\"text-align: right;\">0.999995   </td><td style=\"text-align: right;\">4.82134e-06</td></tr>\n</tbody>\n</table>"
          },
          "metadata": {}
        },
        {
          "output_type": "display_data",
          "data": {
            "text/html": "<table>\n<thead>\n<tr><th style=\"text-align: right;\">  predict</th><th style=\"text-align: right;\">  p0</th><th style=\"text-align: right;\">  p1</th></tr>\n</thead>\n<tbody>\n<tr><td style=\"text-align: right;\">        1</td><td style=\"text-align: right;\">   0</td><td style=\"text-align: right;\">   1</td></tr>\n<tr><td style=\"text-align: right;\">        1</td><td style=\"text-align: right;\">   0</td><td style=\"text-align: right;\">   1</td></tr>\n<tr><td style=\"text-align: right;\">        1</td><td style=\"text-align: right;\">   0</td><td style=\"text-align: right;\">   1</td></tr>\n<tr><td style=\"text-align: right;\">        1</td><td style=\"text-align: right;\">   0</td><td style=\"text-align: right;\">   1</td></tr>\n<tr><td style=\"text-align: right;\">        1</td><td style=\"text-align: right;\">   0</td><td style=\"text-align: right;\">   1</td></tr>\n<tr><td style=\"text-align: right;\">        1</td><td style=\"text-align: right;\">   0</td><td style=\"text-align: right;\">   1</td></tr>\n<tr><td style=\"text-align: right;\">        1</td><td style=\"text-align: right;\">   0</td><td style=\"text-align: right;\">   1</td></tr>\n<tr><td style=\"text-align: right;\">        1</td><td style=\"text-align: right;\">   0</td><td style=\"text-align: right;\">   1</td></tr>\n<tr><td style=\"text-align: right;\">        1</td><td style=\"text-align: right;\">   0</td><td style=\"text-align: right;\">   1</td></tr>\n<tr><td style=\"text-align: right;\">        1</td><td style=\"text-align: right;\">   0</td><td style=\"text-align: right;\">   1</td></tr>\n</tbody>\n</table>"
          },
          "metadata": {}
        },
        {
          "output_type": "display_data",
          "data": {
            "text/html": "<table>\n<thead>\n<tr><th style=\"text-align: right;\">  predict</th><th style=\"text-align: right;\">  p0</th><th style=\"text-align: right;\">  p1</th></tr>\n</thead>\n<tbody>\n<tr><td style=\"text-align: right;\">        1</td><td style=\"text-align: right;\">   0</td><td style=\"text-align: right;\">   1</td></tr>\n<tr><td style=\"text-align: right;\">        1</td><td style=\"text-align: right;\">   0</td><td style=\"text-align: right;\">   1</td></tr>\n<tr><td style=\"text-align: right;\">        1</td><td style=\"text-align: right;\">   0</td><td style=\"text-align: right;\">   1</td></tr>\n<tr><td style=\"text-align: right;\">        1</td><td style=\"text-align: right;\">   0</td><td style=\"text-align: right;\">   1</td></tr>\n<tr><td style=\"text-align: right;\">        1</td><td style=\"text-align: right;\">   0</td><td style=\"text-align: right;\">   1</td></tr>\n<tr><td style=\"text-align: right;\">        1</td><td style=\"text-align: right;\">   0</td><td style=\"text-align: right;\">   1</td></tr>\n<tr><td style=\"text-align: right;\">        1</td><td style=\"text-align: right;\">   0</td><td style=\"text-align: right;\">   1</td></tr>\n<tr><td style=\"text-align: right;\">        1</td><td style=\"text-align: right;\">   0</td><td style=\"text-align: right;\">   1</td></tr>\n<tr><td style=\"text-align: right;\">        1</td><td style=\"text-align: right;\">   0</td><td style=\"text-align: right;\">   1</td></tr>\n<tr><td style=\"text-align: right;\">        1</td><td style=\"text-align: right;\">   0</td><td style=\"text-align: right;\">   1</td></tr>\n</tbody>\n</table>"
          },
          "metadata": {}
        },
        {
          "output_type": "display_data",
          "data": {
            "text/html": "<table>\n<thead>\n<tr><th style=\"text-align: right;\">  predict</th><th style=\"text-align: right;\">         p0</th><th style=\"text-align: right;\">         p1</th></tr>\n</thead>\n<tbody>\n<tr><td style=\"text-align: right;\">        1</td><td style=\"text-align: right;\">1.09781e-07</td><td style=\"text-align: right;\">1          </td></tr>\n<tr><td style=\"text-align: right;\">        0</td><td style=\"text-align: right;\">0.999994   </td><td style=\"text-align: right;\">6.02523e-06</td></tr>\n<tr><td style=\"text-align: right;\">        1</td><td style=\"text-align: right;\">1.62889e-13</td><td style=\"text-align: right;\">1          </td></tr>\n<tr><td style=\"text-align: right;\">        0</td><td style=\"text-align: right;\">1          </td><td style=\"text-align: right;\">2.05183e-21</td></tr>\n<tr><td style=\"text-align: right;\">        0</td><td style=\"text-align: right;\">1          </td><td style=\"text-align: right;\">1.81821e-18</td></tr>\n<tr><td style=\"text-align: right;\">        0</td><td style=\"text-align: right;\">1          </td><td style=\"text-align: right;\">1.11875e-18</td></tr>\n<tr><td style=\"text-align: right;\">        0</td><td style=\"text-align: right;\">1          </td><td style=\"text-align: right;\">1.23327e-20</td></tr>\n<tr><td style=\"text-align: right;\">        1</td><td style=\"text-align: right;\">3.73903e-06</td><td style=\"text-align: right;\">0.999996   </td></tr>\n<tr><td style=\"text-align: right;\">        1</td><td style=\"text-align: right;\">9.01203e-12</td><td style=\"text-align: right;\">1          </td></tr>\n<tr><td style=\"text-align: right;\">        1</td><td style=\"text-align: right;\">0.422562   </td><td style=\"text-align: right;\">0.577438   </td></tr>\n</tbody>\n</table>"
          },
          "metadata": {}
        },
        {
          "output_type": "display_data",
          "data": {
            "text/html": "<table>\n<thead>\n<tr><th style=\"text-align: right;\">  predict</th><th style=\"text-align: right;\">         p0</th><th style=\"text-align: right;\">  p1</th></tr>\n</thead>\n<tbody>\n<tr><td style=\"text-align: right;\">        1</td><td style=\"text-align: right;\">9.50766e-14</td><td style=\"text-align: right;\">   1</td></tr>\n<tr><td style=\"text-align: right;\">        1</td><td style=\"text-align: right;\">2.86504e-27</td><td style=\"text-align: right;\">   1</td></tr>\n<tr><td style=\"text-align: right;\">        1</td><td style=\"text-align: right;\">2.64886e-16</td><td style=\"text-align: right;\">   1</td></tr>\n<tr><td style=\"text-align: right;\">        1</td><td style=\"text-align: right;\">4.40817e-43</td><td style=\"text-align: right;\">   1</td></tr>\n<tr><td style=\"text-align: right;\">        1</td><td style=\"text-align: right;\">1.19743e-33</td><td style=\"text-align: right;\">   1</td></tr>\n<tr><td style=\"text-align: right;\">        1</td><td style=\"text-align: right;\">6.11516e-40</td><td style=\"text-align: right;\">   1</td></tr>\n<tr><td style=\"text-align: right;\">        1</td><td style=\"text-align: right;\">6.05194e-43</td><td style=\"text-align: right;\">   1</td></tr>\n<tr><td style=\"text-align: right;\">        1</td><td style=\"text-align: right;\">4.48264e-20</td><td style=\"text-align: right;\">   1</td></tr>\n<tr><td style=\"text-align: right;\">        1</td><td style=\"text-align: right;\">5.85767e-17</td><td style=\"text-align: right;\">   1</td></tr>\n<tr><td style=\"text-align: right;\">        1</td><td style=\"text-align: right;\">4.30129e-27</td><td style=\"text-align: right;\">   1</td></tr>\n</tbody>\n</table>"
          },
          "metadata": {}
        },
        {
          "output_type": "execute_result",
          "execution_count": 12,
          "data": {
            "text/plain": "{'Grid_NaiveBayes_py_5_sid_8e0c_model_python_1604225741410_1205_model_5': ,\n 'Grid_NaiveBayes_py_5_sid_8e0c_model_python_1604225741410_1205_model_13': ,\n 'Grid_NaiveBayes_py_5_sid_8e0c_model_python_1604225741410_1205_model_12': ,\n 'Grid_NaiveBayes_py_5_sid_8e0c_model_python_1604225741410_1205_model_11': ,\n 'Grid_NaiveBayes_py_5_sid_8e0c_model_python_1604225741410_1205_model_18': ,\n 'Grid_NaiveBayes_py_5_sid_8e0c_model_python_1604225741410_1205_model_14': ,\n 'Grid_NaiveBayes_py_5_sid_8e0c_model_python_1604225741410_1205_model_17': ,\n 'Grid_NaiveBayes_py_5_sid_8e0c_model_python_1604225741410_1205_model_9': ,\n 'Grid_NaiveBayes_py_5_sid_8e0c_model_python_1604225741410_1205_model_10': ,\n 'Grid_NaiveBayes_py_5_sid_8e0c_model_python_1604225741410_1205_model_19': ,\n 'Grid_NaiveBayes_py_5_sid_8e0c_model_python_1604225741410_1205_model_16': ,\n 'Grid_NaiveBayes_py_5_sid_8e0c_model_python_1604225741410_1205_model_2': ,\n 'Grid_NaiveBayes_py_5_sid_8e0c_model_python_1604225741410_1205_model_8': ,\n 'Grid_NaiveBayes_py_5_sid_8e0c_model_python_1604225741410_1205_model_7': ,\n 'Grid_NaiveBayes_py_5_sid_8e0c_model_python_1604225741410_1205_model_3': ,\n 'Grid_NaiveBayes_py_5_sid_8e0c_model_python_1604225741410_1205_model_1': ,\n 'Grid_NaiveBayes_py_5_sid_8e0c_model_python_1604225741410_1205_model_6': ,\n 'Grid_NaiveBayes_py_5_sid_8e0c_model_python_1604225741410_1205_model_20': ,\n 'Grid_NaiveBayes_py_5_sid_8e0c_model_python_1604225741410_1205_model_15': ,\n 'Grid_NaiveBayes_py_5_sid_8e0c_model_python_1604225741410_1205_model_4': }"
          },
          "metadata": {}
        }
      ],
      "execution_count": 12,
      "metadata": {
        "collapsed": true,
        "jupyter": {
          "source_hidden": false,
          "outputs_hidden": false
        },
        "nteract": {
          "transient": {
            "deleting": false
          }
        },
        "gather": {
          "logged": 1604326524760
        }
      }
    },
    {
      "cell_type": "code",
      "source": [
        "sorted_grid = nb_grid.get_grid(sort_by='auc', decreasing=True)\r\n",
        "sorted_grid"
      ],
      "outputs": [
        {
          "output_type": "stream",
          "name": "stdout",
          "text": [
            "     compute_metrics eps_prob eps_sdev laplace min_prob min_sdev  \\\n",
            "0               true      0.1      0.9     0.6      0.9      0.6   \n",
            "1              false      0.1      0.9     0.3      0.9      1.0   \n",
            "2               true      0.1      1.0     1.0      0.1      0.1   \n",
            "3               true      0.3      1.0     1.0      0.3      0.3   \n",
            "4               true      0.3      1.0     0.1      0.3      0.9   \n",
            "5               true      0.6      1.0     0.6      0.3      0.3   \n",
            "6              false      0.6      0.6     0.9      1.0      0.1   \n",
            "7              false      0.9      0.9     0.1      1.0      0.1   \n",
            "8               true      0.3      0.9     0.1      0.6      0.1   \n",
            "9               true      0.3      0.6     0.3      1.0      0.6   \n",
            "10              true      1.0      1.0     0.1      0.1      0.3   \n",
            "11             false      0.6      0.3     0.9      1.0      0.1   \n",
            "12              true      0.3      0.1     0.9      0.6      1.0   \n",
            "13              true      0.9      0.1     1.0      0.9      0.6   \n",
            "14              true      0.9      0.9     0.1      0.1      1.0   \n",
            "15              true      1.0      1.0     0.9      0.1      0.6   \n",
            "16              true      1.0      1.0     1.0      0.3      0.6   \n",
            "17              true      1.0      0.3     0.9      0.1      0.6   \n",
            "18              true      1.0      0.3     1.0      0.6      0.6   \n",
            "19              true      0.6      0.3     0.1      0.9      1.0   \n",
            "\n",
            "                                                                model_ids  \\\n",
            "0   Grid_NaiveBayes_py_5_sid_8e0c_model_python_1604225741410_1205_mode...   \n",
            "1   Grid_NaiveBayes_py_5_sid_8e0c_model_python_1604225741410_1205_mode...   \n",
            "2   Grid_NaiveBayes_py_5_sid_8e0c_model_python_1604225741410_1205_model_9   \n",
            "3   Grid_NaiveBayes_py_5_sid_8e0c_model_python_1604225741410_1205_model_3   \n",
            "4   Grid_NaiveBayes_py_5_sid_8e0c_model_python_1604225741410_1205_mode...   \n",
            "5   Grid_NaiveBayes_py_5_sid_8e0c_model_python_1604225741410_1205_model_8   \n",
            "6   Grid_NaiveBayes_py_5_sid_8e0c_model_python_1604225741410_1205_model_1   \n",
            "7   Grid_NaiveBayes_py_5_sid_8e0c_model_python_1604225741410_1205_model_2   \n",
            "8   Grid_NaiveBayes_py_5_sid_8e0c_model_python_1604225741410_1205_model_7   \n",
            "9   Grid_NaiveBayes_py_5_sid_8e0c_model_python_1604225741410_1205_mode...   \n",
            "10  Grid_NaiveBayes_py_5_sid_8e0c_model_python_1604225741410_1205_mode...   \n",
            "11  Grid_NaiveBayes_py_5_sid_8e0c_model_python_1604225741410_1205_mode...   \n",
            "12  Grid_NaiveBayes_py_5_sid_8e0c_model_python_1604225741410_1205_mode...   \n",
            "13  Grid_NaiveBayes_py_5_sid_8e0c_model_python_1604225741410_1205_model_6   \n",
            "14  Grid_NaiveBayes_py_5_sid_8e0c_model_python_1604225741410_1205_mode...   \n",
            "15  Grid_NaiveBayes_py_5_sid_8e0c_model_python_1604225741410_1205_mode...   \n",
            "16  Grid_NaiveBayes_py_5_sid_8e0c_model_python_1604225741410_1205_model_5   \n",
            "17  Grid_NaiveBayes_py_5_sid_8e0c_model_python_1604225741410_1205_model_4   \n",
            "18  Grid_NaiveBayes_py_5_sid_8e0c_model_python_1604225741410_1205_mode...   \n",
            "19  Grid_NaiveBayes_py_5_sid_8e0c_model_python_1604225741410_1205_mode...   \n",
            "\n",
            "                    auc  \n",
            "0    0.7228413120567375  \n",
            "1    0.7192006501182033  \n",
            "2    0.6972591607565012  \n",
            "3    0.6914937943262411  \n",
            "4    0.6892036052009456  \n",
            "5    0.6862825059101655  \n",
            "6    0.6664420803782505  \n",
            "7    0.6625458037825058  \n",
            "8    0.6460121158392435  \n",
            "9    0.6129639479905438  \n",
            "10   0.6121719858156028  \n",
            "11   0.5476255910165485  \n",
            "12             0.499375  \n",
            "13  0.49874999999999997  \n",
            "14   0.4831131796690307  \n",
            "15   0.4831131796690307  \n",
            "16   0.4831131796690307  \n",
            "17   0.4567109929078014  \n",
            "18   0.4365809692671395  \n",
            "19  0.36446808510638296  \n"
          ]
        },
        {
          "output_type": "execute_result",
          "execution_count": 13,
          "data": {
            "text/plain": ""
          },
          "metadata": {}
        }
      ],
      "execution_count": 13,
      "metadata": {
        "collapsed": true,
        "jupyter": {
          "source_hidden": false,
          "outputs_hidden": false
        },
        "nteract": {
          "transient": {
            "deleting": false
          }
        },
        "gather": {
          "logged": 1604326576536
        }
      }
    },
    {
      "cell_type": "code",
      "source": [
        "top_5_nb_model_ids = sorted_grid.model_ids[:5]\r\n",
        "top_5_nb_model_ids"
      ],
      "outputs": [
        {
          "output_type": "execute_result",
          "execution_count": 19,
          "data": {
            "text/plain": "['Grid_NaiveBayes_py_5_sid_8e0c_model_python_1604225741410_1205_model_10',\n 'Grid_NaiveBayes_py_5_sid_8e0c_model_python_1604225741410_1205_model_11',\n 'Grid_NaiveBayes_py_5_sid_8e0c_model_python_1604225741410_1205_model_9',\n 'Grid_NaiveBayes_py_5_sid_8e0c_model_python_1604225741410_1205_model_3',\n 'Grid_NaiveBayes_py_5_sid_8e0c_model_python_1604225741410_1205_model_18']"
          },
          "metadata": {}
        }
      ],
      "execution_count": 19,
      "metadata": {
        "collapsed": true,
        "jupyter": {
          "source_hidden": false,
          "outputs_hidden": false
        },
        "nteract": {
          "transient": {
            "deleting": false
          }
        },
        "gather": {
          "logged": 1604326726488
        }
      }
    },
    {
      "cell_type": "code",
      "source": [
        "model = h2o.get_model('Grid_NaiveBayes_py_5_sid_8e0c_model_python_1604225741410_1205_model_10')\r\n",
        "model.auc()"
      ],
      "outputs": [
        {
          "output_type": "execute_result",
          "execution_count": 28,
          "data": {
            "text/plain": "0.7288534278959811"
          },
          "metadata": {}
        }
      ],
      "execution_count": 28,
      "metadata": {
        "collapsed": true,
        "jupyter": {
          "source_hidden": false,
          "outputs_hidden": false
        },
        "nteract": {
          "transient": {
            "deleting": false
          }
        },
        "gather": {
          "logged": 1604327171034
        }
      }
    },
    {
      "cell_type": "code",
      "source": [
        "top_5_nb_model_id_params_dict = {}\r\n",
        "\r\n",
        "for mdl_id in top_5_nb_model_ids:\r\n",
        "    model = h2o.get_model(mdl_id)\r\n",
        "    top_5_nb_model_id_params_dict[mdl_id] = {'params': model.actual_params, \r\n",
        "                                             'auc': model.auc(), \r\n",
        "                                            }\r\n",
        "\r\n",
        "\r\n",
        "top_5_nb_model_id_params_dict"
      ],
      "outputs": [
        {
          "output_type": "execute_result",
          "execution_count": 35,
          "data": {
            "text/plain": "{'Grid_NaiveBayes_py_5_sid_8e0c_model_python_1604225741410_1205_model_10': {'params': {'model_id': 'Grid_NaiveBayes_py_5_sid_8e0c_model_python_1604225741410_1205_model_10',\n   'nfolds': 5,\n   'seed': 1234,\n   'fold_assignment': 'Random',\n   'fold_column': None,\n   'keep_cross_validation_models': True,\n   'keep_cross_validation_predictions': True,\n   'keep_cross_validation_fold_assignment': False,\n   'training_frame': None,\n   'validation_frame': None,\n   'response_column': 'Resistance_Status',\n   'ignored_columns': ['SampleID'],\n   'ignore_const_cols': True,\n   'score_each_iteration': False,\n   'balance_classes': False,\n   'class_sampling_factors': None,\n   'max_after_balance_size': 5.0,\n   'max_confusion_matrix_size': 20,\n   'max_hit_ratio_k': 0,\n   'laplace': 0.6,\n   'min_sdev': 0.6,\n   'eps_sdev': 0.9,\n   'min_prob': 0.9,\n   'eps_prob': 0.1,\n   'compute_metrics': True,\n   'max_runtime_secs': 1.7976931348623157e+308,\n   'export_checkpoints_dir': None},\n  'auc': 0.7288534278959811},\n 'Grid_NaiveBayes_py_5_sid_8e0c_model_python_1604225741410_1205_model_11': {'params': {'model_id': 'Grid_NaiveBayes_py_5_sid_8e0c_model_python_1604225741410_1205_model_11',\n   'nfolds': 5,\n   'seed': 1234,\n   'fold_assignment': 'Random',\n   'fold_column': None,\n   'keep_cross_validation_models': True,\n   'keep_cross_validation_predictions': True,\n   'keep_cross_validation_fold_assignment': False,\n   'training_frame': None,\n   'validation_frame': None,\n   'response_column': 'Resistance_Status',\n   'ignored_columns': ['SampleID'],\n   'ignore_const_cols': True,\n   'score_each_iteration': False,\n   'balance_classes': False,\n   'class_sampling_factors': None,\n   'max_after_balance_size': 5.0,\n   'max_confusion_matrix_size': 20,\n   'max_hit_ratio_k': 0,\n   'laplace': 0.3,\n   'min_sdev': 1.0,\n   'eps_sdev': 0.9,\n   'min_prob': 0.9,\n   'eps_prob': 0.1,\n   'compute_metrics': False,\n   'max_runtime_secs': 1.7976931348623157e+308,\n   'export_checkpoints_dir': None},\n  'auc': None},\n 'Grid_NaiveBayes_py_5_sid_8e0c_model_python_1604225741410_1205_model_9': {'params': {'model_id': 'Grid_NaiveBayes_py_5_sid_8e0c_model_python_1604225741410_1205_model_9',\n   'nfolds': 5,\n   'seed': 1234,\n   'fold_assignment': 'Random',\n   'fold_column': None,\n   'keep_cross_validation_models': True,\n   'keep_cross_validation_predictions': True,\n   'keep_cross_validation_fold_assignment': False,\n   'training_frame': None,\n   'validation_frame': None,\n   'response_column': 'Resistance_Status',\n   'ignored_columns': ['SampleID'],\n   'ignore_const_cols': True,\n   'score_each_iteration': False,\n   'balance_classes': False,\n   'class_sampling_factors': None,\n   'max_after_balance_size': 5.0,\n   'max_confusion_matrix_size': 20,\n   'max_hit_ratio_k': 0,\n   'laplace': 1.0,\n   'min_sdev': 0.1,\n   'eps_sdev': 1.0,\n   'min_prob': 0.1,\n   'eps_prob': 0.1,\n   'compute_metrics': True,\n   'max_runtime_secs': 1.7976931348623157e+308,\n   'export_checkpoints_dir': None},\n  'auc': 0.7146069739952718},\n 'Grid_NaiveBayes_py_5_sid_8e0c_model_python_1604225741410_1205_model_3': {'params': {'model_id': 'Grid_NaiveBayes_py_5_sid_8e0c_model_python_1604225741410_1205_model_3',\n   'nfolds': 5,\n   'seed': 1234,\n   'fold_assignment': 'Random',\n   'fold_column': None,\n   'keep_cross_validation_models': True,\n   'keep_cross_validation_predictions': True,\n   'keep_cross_validation_fold_assignment': False,\n   'training_frame': None,\n   'validation_frame': None,\n   'response_column': 'Resistance_Status',\n   'ignored_columns': ['SampleID'],\n   'ignore_const_cols': True,\n   'score_each_iteration': False,\n   'balance_classes': False,\n   'class_sampling_factors': None,\n   'max_after_balance_size': 5.0,\n   'max_confusion_matrix_size': 20,\n   'max_hit_ratio_k': 0,\n   'laplace': 1.0,\n   'min_sdev': 0.3,\n   'eps_sdev': 1.0,\n   'min_prob': 0.3,\n   'eps_prob': 0.3,\n   'compute_metrics': True,\n   'max_runtime_secs': 1.7976931348623157e+308,\n   'export_checkpoints_dir': None},\n  'auc': 0.6948744089834515},\n 'Grid_NaiveBayes_py_5_sid_8e0c_model_python_1604225741410_1205_model_18': {'params': {'model_id': 'Grid_NaiveBayes_py_5_sid_8e0c_model_python_1604225741410_1205_model_18',\n   'nfolds': 5,\n   'seed': 1234,\n   'fold_assignment': 'Random',\n   'fold_column': None,\n   'keep_cross_validation_models': True,\n   'keep_cross_validation_predictions': True,\n   'keep_cross_validation_fold_assignment': False,\n   'training_frame': None,\n   'validation_frame': None,\n   'response_column': 'Resistance_Status',\n   'ignored_columns': ['SampleID'],\n   'ignore_const_cols': True,\n   'score_each_iteration': False,\n   'balance_classes': False,\n   'class_sampling_factors': None,\n   'max_after_balance_size': 5.0,\n   'max_confusion_matrix_size': 20,\n   'max_hit_ratio_k': 0,\n   'laplace': 0.1,\n   'min_sdev': 0.9,\n   'eps_sdev': 1.0,\n   'min_prob': 0.3,\n   'eps_prob': 0.3,\n   'compute_metrics': True,\n   'max_runtime_secs': 1.7976931348623157e+308,\n   'export_checkpoints_dir': None},\n  'auc': 0.7012884160756501}}"
          },
          "metadata": {}
        }
      ],
      "execution_count": 35,
      "metadata": {
        "collapsed": true,
        "jupyter": {
          "source_hidden": false,
          "outputs_hidden": false
        },
        "nteract": {
          "transient": {
            "deleting": false
          }
        },
        "gather": {
          "logged": 1604327501609
        }
      }
    },
    {
      "cell_type": "code",
      "source": [
        "import json\r\n",
        "\r\n",
        "with open('../models/ALL_FEATURES/top_5_nb_models.json', 'w') as json_file:\r\n",
        "  json.dump(top_5_nb_model_id_params_dict, json_file)"
      ],
      "outputs": [],
      "execution_count": 36,
      "metadata": {
        "collapsed": true,
        "jupyter": {
          "source_hidden": false,
          "outputs_hidden": false
        },
        "nteract": {
          "transient": {
            "deleting": false
          }
        },
        "gather": {
          "logged": 1604327503403
        }
      }
    },
    {
      "cell_type": "markdown",
      "source": [
        "### GLM"
      ],
      "metadata": {
        "nteract": {
          "transient": {
            "deleting": false
          }
        }
      }
    },
    {
      "cell_type": "code",
      "source": [
        "from h2o.grid.grid_search import H2OGridSearch\r\n",
        "from h2o.estimators import H2OGeneralizedLinearEstimator\r\n",
        "\r\n",
        "\r\n",
        "\r\n",
        "hyper_params = { # lambda //use self.lambda_\r\n",
        "\"alpha\" : [0, 0.3, 0.6, 0.9, 1],\r\n",
        "# \"missing_values_handling\" : [\"mean_imputation\", \"skip\", \"plug_values\"],\r\n",
        "\"theta\" : [0, 0.3, 0.6, 0.9, 1],\r\n",
        "\"tweedie_link_power\" : [0, 0.3, 0.6, 0.9, 1, 3, 6, 9],\r\n",
        "\"tweedie_variance_power\" : [0, 0.3, 0.6, 0.9, 1, 3, 6, 9],\r\n",
        "}\r\n",
        "\r\n",
        "search_criteria = {\"strategy\": \"RandomDiscrete\", \r\n",
        "                   \"max_models\": 20}\r\n",
        "\r\n",
        "\r\n",
        "\r\n",
        "# Train and cross-validate a NB\r\n",
        "base_model = H2OGeneralizedLinearEstimator(\r\n",
        "                                family= \"binomial\",\r\n",
        "\r\n",
        "                                 nfolds=nfolds, \r\n",
        "                                 fold_assignment = \"random\",\r\n",
        "                                 keep_cross_validation_predictions = True,\r\n",
        "                                 seed=1234)\r\n",
        "\r\n",
        "\r\n",
        "\r\n",
        "\r\n",
        "# Train the grid\r\n",
        "glm_grid = H2OGridSearch(model=base_model,\r\n",
        "                     hyper_params=hyper_params,\r\n",
        "                     search_criteria=search_criteria)\r\n",
        "\r\n",
        "\r\n",
        "glm_grid.train(x=x, y=y, training_frame=train, validation_frame=test) "
      ],
      "outputs": [
        {
          "output_type": "error",
          "ename": "KeyboardInterrupt",
          "evalue": "",
          "traceback": [
            "\u001b[0;31m---------------------------------------------------------------------------\u001b[0m",
            "\u001b[0;31mKeyboardInterrupt\u001b[0m                         Traceback (most recent call last)",
            "\u001b[0;32m<ipython-input-37-a38449514ea1>\u001b[0m in \u001b[0;36m<module>\u001b[0;34m\u001b[0m\n\u001b[1;32m     35\u001b[0m \u001b[0;34m\u001b[0m\u001b[0m\n\u001b[1;32m     36\u001b[0m \u001b[0;34m\u001b[0m\u001b[0m\n\u001b[0;32m---> 37\u001b[0;31m \u001b[0mglm_grid\u001b[0m\u001b[0;34m.\u001b[0m\u001b[0mtrain\u001b[0m\u001b[0;34m(\u001b[0m\u001b[0mx\u001b[0m\u001b[0;34m=\u001b[0m\u001b[0mx\u001b[0m\u001b[0;34m,\u001b[0m \u001b[0my\u001b[0m\u001b[0;34m=\u001b[0m\u001b[0my\u001b[0m\u001b[0;34m,\u001b[0m \u001b[0mtraining_frame\u001b[0m\u001b[0;34m=\u001b[0m\u001b[0mtrain\u001b[0m\u001b[0;34m,\u001b[0m \u001b[0mvalidation_frame\u001b[0m\u001b[0;34m=\u001b[0m\u001b[0mtest\u001b[0m\u001b[0;34m)\u001b[0m\u001b[0;34m\u001b[0m\u001b[0;34m\u001b[0m\u001b[0m\n\u001b[0m",
            "\u001b[0;32m/anaconda/envs/azureml_py36/lib/python3.6/site-packages/h2o/grid/grid_search.py\u001b[0m in \u001b[0;36mtrain\u001b[0;34m(self, x, y, training_frame, offset_column, fold_column, weights_column, validation_frame, **params)\u001b[0m\n\u001b[1;32m    335\u001b[0m                     \u001b[0mxset\u001b[0m\u001b[0;34m.\u001b[0m\u001b[0madd\u001b[0m\u001b[0;34m(\u001b[0m\u001b[0mtraining_frame\u001b[0m\u001b[0;34m.\u001b[0m\u001b[0mnames\u001b[0m\u001b[0;34m[\u001b[0m\u001b[0mxi\u001b[0m\u001b[0;34m]\u001b[0m\u001b[0;34m)\u001b[0m\u001b[0;34m\u001b[0m\u001b[0;34m\u001b[0m\u001b[0m\n\u001b[1;32m    336\u001b[0m                 \u001b[0;32melse\u001b[0m\u001b[0;34m:\u001b[0m\u001b[0;34m\u001b[0m\u001b[0;34m\u001b[0m\u001b[0m\n\u001b[0;32m--> 337\u001b[0;31m                     \u001b[0;32mif\u001b[0m \u001b[0mxi\u001b[0m \u001b[0;32mnot\u001b[0m \u001b[0;32min\u001b[0m \u001b[0mtraining_frame\u001b[0m\u001b[0;34m.\u001b[0m\u001b[0mnames\u001b[0m\u001b[0;34m:\u001b[0m\u001b[0;34m\u001b[0m\u001b[0;34m\u001b[0m\u001b[0m\n\u001b[0m\u001b[1;32m    338\u001b[0m                         \u001b[0;32mraise\u001b[0m \u001b[0mH2OValueError\u001b[0m\u001b[0;34m(\u001b[0m\u001b[0;34m\"Column %s not in the training frame\"\u001b[0m \u001b[0;34m%\u001b[0m \u001b[0mxi\u001b[0m\u001b[0;34m)\u001b[0m\u001b[0;34m\u001b[0m\u001b[0;34m\u001b[0m\u001b[0m\n\u001b[1;32m    339\u001b[0m                     \u001b[0mxset\u001b[0m\u001b[0;34m.\u001b[0m\u001b[0madd\u001b[0m\u001b[0;34m(\u001b[0m\u001b[0mxi\u001b[0m\u001b[0;34m)\u001b[0m\u001b[0;34m\u001b[0m\u001b[0;34m\u001b[0m\u001b[0m\n",
            "\u001b[0;31mKeyboardInterrupt\u001b[0m: "
          ]
        }
      ],
      "execution_count": 37,
      "metadata": {
        "collapsed": true,
        "jupyter": {
          "source_hidden": false,
          "outputs_hidden": false
        },
        "nteract": {
          "transient": {
            "deleting": false
          }
        }
      }
    },
    {
      "cell_type": "markdown",
      "source": [
        "### GBM"
      ],
      "metadata": {
        "nteract": {
          "transient": {
            "deleting": false
          }
        }
      }
    },
    {
      "cell_type": "code",
      "source": [
        "GBM_1_AutoML_20201101_101936_auc93 \r\n",
        "GBM_4_AutoML_20201101_101936_auc92 \r\n",
        "GBM_2_AutoML_20201101_101936_auc92 \r\n",
        "GBM_5_AutoML_20201101_101936_auc85 \r\n",
        "GBM_3_AutoML_20201101_101936_auc93 \r\n",
        "\r\n",
        "\r\n"
      ],
      "outputs": [],
      "execution_count": 42,
      "metadata": {
        "collapsed": true,
        "jupyter": {
          "source_hidden": false,
          "outputs_hidden": false
        },
        "nteract": {
          "transient": {
            "deleting": false
          }
        },
        "gather": {
          "logged": 1604247816575
        }
      }
    },
    {
      "cell_type": "code",
      "source": [
        "model.summary"
      ],
      "outputs": [
        {
          "output_type": "stream",
          "name": "stdout",
          "text": [
            "Model Details\n",
            "=============\n",
            "H2ONaiveBayesEstimator :  Naive Bayes\n",
            "Model Key:  Grid_NaiveBayes_py_5_sid_8e0c_model_python_1604225741410_1205_model_2\n",
            "\n",
            "\n",
            "Model Summary: \n",
            "\n",
            "\n",
            "ModelMetricsBinomial: naivebayes\n",
            "** Reported on validation data. **\n",
            "\n",
            "MSE: 0.6230624103247986\n",
            "RMSE: 0.7893430244987274\n",
            "LogLoss: 9.439694348399003\n",
            "Mean Per-Class Error: 0.3328674628816205\n"
          ]
        },
        {
          "output_type": "display_data",
          "data": {
            "text/plain": "     number_of_response_levels  min_apriori_probability  \\\n0                          2.0                 0.345896   \n\n   max_apriori_probability  \n0                 0.654104  ",
            "text/html": "<div>\n<style scoped>\n    .dataframe tbody tr th:only-of-type {\n        vertical-align: middle;\n    }\n\n    .dataframe tbody tr th {\n        vertical-align: top;\n    }\n\n    .dataframe thead th {\n        text-align: right;\n    }\n</style>\n<table border=\"1\" class=\"dataframe\">\n  <thead>\n    <tr style=\"text-align: right;\">\n      <th></th>\n      <th></th>\n      <th>number_of_response_levels</th>\n      <th>min_apriori_probability</th>\n      <th>max_apriori_probability</th>\n    </tr>\n  </thead>\n  <tbody>\n    <tr>\n      <th>0</th>\n      <td></td>\n      <td>2.0</td>\n      <td>0.345896</td>\n      <td>0.654104</td>\n    </tr>\n  </tbody>\n</table>\n</div>"
          },
          "metadata": {}
        },
        {
          "output_type": "stream",
          "name": "stdout",
          "text": [
            "AUC: 0.6726413039532435\n",
            "AUCPR: 0.7764300479188593\n",
            "Gini: 0.345282607906487\n",
            "\n",
            "Confusion Matrix (Act/Pred) for max f1 @ threshold = 8.378671271492799e-13: \n",
            "\n",
            "Maximum Metrics: Maximum metrics at their respective thresholds\n",
            "\n",
            "Gains/Lift Table: Avg response rate: 67.47 %, avg score:  7.75 %\n",
            "\n",
            "\n",
            "ModelMetricsBinomial: naivebayes\n",
            "** Reported on cross-validation data. **\n",
            "\n",
            "MSE: 0.49401999576322275\n",
            "RMSE: 0.7028655602341196\n",
            "LogLoss: 10.022553621849632\n",
            "Mean Per-Class Error: 0.35708776595744685\n",
            "AUC: 0.6625458037825058\n",
            "AUCPR: 0.7971565850654403\n",
            "Gini: 0.32509160756501165\n",
            "\n",
            "Confusion Matrix (Act/Pred) for max f1 @ threshold = 1.2727881169610487e-10: \n",
            "\n",
            "Maximum Metrics: Maximum metrics at their respective thresholds\n",
            "\n",
            "Gains/Lift Table: Avg response rate: 65.41 %, avg score: 23.65 %\n",
            "\n",
            "\n",
            "Cross-Validation Metrics Summary: \n",
            "\n",
            "See the whole table with table.as_data_frame()\n"
          ]
        },
        {
          "output_type": "display_data",
          "data": {
            "text/plain": "            0      1   Error            Rate\n0      0  0.0  163.0     1.0   (163.0/163.0)\n1      1  0.0  338.0     0.0     (0.0/338.0)\n2  Total  0.0  501.0  0.3253   (163.0/501.0)",
            "text/html": "<div>\n<style scoped>\n    .dataframe tbody tr th:only-of-type {\n        vertical-align: middle;\n    }\n\n    .dataframe tbody tr th {\n        vertical-align: top;\n    }\n\n    .dataframe thead th {\n        text-align: right;\n    }\n</style>\n<table border=\"1\" class=\"dataframe\">\n  <thead>\n    <tr style=\"text-align: right;\">\n      <th></th>\n      <th></th>\n      <th>0</th>\n      <th>1</th>\n      <th>Error</th>\n      <th>Rate</th>\n    </tr>\n  </thead>\n  <tbody>\n    <tr>\n      <th>0</th>\n      <td>0</td>\n      <td>0.0</td>\n      <td>163.0</td>\n      <td>1.0</td>\n      <td>(163.0/163.0)</td>\n    </tr>\n    <tr>\n      <th>1</th>\n      <td>1</td>\n      <td>0.0</td>\n      <td>338.0</td>\n      <td>0.0</td>\n      <td>(0.0/338.0)</td>\n    </tr>\n    <tr>\n      <th>2</th>\n      <td>Total</td>\n      <td>0.0</td>\n      <td>501.0</td>\n      <td>0.3253</td>\n      <td>(163.0/501.0)</td>\n    </tr>\n  </tbody>\n</table>\n</div>"
          },
          "metadata": {}
        },
        {
          "output_type": "display_data",
          "data": {
            "text/plain": "                         metric     threshold       value    idx\n0                        max f1  8.378671e-13    0.805721  399.0\n1                        max f2  8.378671e-13    0.912035  399.0\n2                  max f0point5  3.835688e-07    0.765070  223.0\n3                  max accuracy  6.048750e-10    0.686627  389.0\n4                 max precision  1.108116e-05    0.863636  116.0\n5                    max recall  8.378671e-13    1.000000  399.0\n6               max specificity  1.000000e+00    0.957055    0.0\n7              max absolute_mcc  3.835688e-07    0.313540  223.0\n8    max min_per_class_accuracy  1.381328e-07    0.644172  260.0\n9   max mean_per_class_accuracy  3.835688e-07    0.667133  223.0\n10                      max tns  1.000000e+00  156.000000    0.0\n11                      max fns  1.000000e+00  329.000000    0.0\n12                      max fps  8.378671e-13  163.000000  399.0\n13                      max tps  8.378671e-13  338.000000  399.0\n14                      max tnr  1.000000e+00    0.957055    0.0\n15                      max fnr  1.000000e+00    0.973373    0.0\n16                      max fpr  8.378671e-13    1.000000  399.0\n17                      max tpr  8.378671e-13    1.000000  399.0",
            "text/html": "<div>\n<style scoped>\n    .dataframe tbody tr th:only-of-type {\n        vertical-align: middle;\n    }\n\n    .dataframe tbody tr th {\n        vertical-align: top;\n    }\n\n    .dataframe thead th {\n        text-align: right;\n    }\n</style>\n<table border=\"1\" class=\"dataframe\">\n  <thead>\n    <tr style=\"text-align: right;\">\n      <th></th>\n      <th>metric</th>\n      <th>threshold</th>\n      <th>value</th>\n      <th>idx</th>\n    </tr>\n  </thead>\n  <tbody>\n    <tr>\n      <th>0</th>\n      <td>max f1</td>\n      <td>8.378671e-13</td>\n      <td>0.805721</td>\n      <td>399.0</td>\n    </tr>\n    <tr>\n      <th>1</th>\n      <td>max f2</td>\n      <td>8.378671e-13</td>\n      <td>0.912035</td>\n      <td>399.0</td>\n    </tr>\n    <tr>\n      <th>2</th>\n      <td>max f0point5</td>\n      <td>3.835688e-07</td>\n      <td>0.765070</td>\n      <td>223.0</td>\n    </tr>\n    <tr>\n      <th>3</th>\n      <td>max accuracy</td>\n      <td>6.048750e-10</td>\n      <td>0.686627</td>\n      <td>389.0</td>\n    </tr>\n    <tr>\n      <th>4</th>\n      <td>max precision</td>\n      <td>1.108116e-05</td>\n      <td>0.863636</td>\n      <td>116.0</td>\n    </tr>\n    <tr>\n      <th>5</th>\n      <td>max recall</td>\n      <td>8.378671e-13</td>\n      <td>1.000000</td>\n      <td>399.0</td>\n    </tr>\n    <tr>\n      <th>6</th>\n      <td>max specificity</td>\n      <td>1.000000e+00</td>\n      <td>0.957055</td>\n      <td>0.0</td>\n    </tr>\n    <tr>\n      <th>7</th>\n      <td>max absolute_mcc</td>\n      <td>3.835688e-07</td>\n      <td>0.313540</td>\n      <td>223.0</td>\n    </tr>\n    <tr>\n      <th>8</th>\n      <td>max min_per_class_accuracy</td>\n      <td>1.381328e-07</td>\n      <td>0.644172</td>\n      <td>260.0</td>\n    </tr>\n    <tr>\n      <th>9</th>\n      <td>max mean_per_class_accuracy</td>\n      <td>3.835688e-07</td>\n      <td>0.667133</td>\n      <td>223.0</td>\n    </tr>\n    <tr>\n      <th>10</th>\n      <td>max tns</td>\n      <td>1.000000e+00</td>\n      <td>156.000000</td>\n      <td>0.0</td>\n    </tr>\n    <tr>\n      <th>11</th>\n      <td>max fns</td>\n      <td>1.000000e+00</td>\n      <td>329.000000</td>\n      <td>0.0</td>\n    </tr>\n    <tr>\n      <th>12</th>\n      <td>max fps</td>\n      <td>8.378671e-13</td>\n      <td>163.000000</td>\n      <td>399.0</td>\n    </tr>\n    <tr>\n      <th>13</th>\n      <td>max tps</td>\n      <td>8.378671e-13</td>\n      <td>338.000000</td>\n      <td>399.0</td>\n    </tr>\n    <tr>\n      <th>14</th>\n      <td>max tnr</td>\n      <td>1.000000e+00</td>\n      <td>0.957055</td>\n      <td>0.0</td>\n    </tr>\n    <tr>\n      <th>15</th>\n      <td>max fnr</td>\n      <td>1.000000e+00</td>\n      <td>0.973373</td>\n      <td>0.0</td>\n    </tr>\n    <tr>\n      <th>16</th>\n      <td>max fpr</td>\n      <td>8.378671e-13</td>\n      <td>1.000000</td>\n      <td>399.0</td>\n    </tr>\n    <tr>\n      <th>17</th>\n      <td>max tpr</td>\n      <td>8.378671e-13</td>\n      <td>1.000000</td>\n      <td>399.0</td>\n    </tr>\n  </tbody>\n</table>\n</div>"
          },
          "metadata": {}
        },
        {
          "output_type": "display_data",
          "data": {
            "text/plain": "      group  cumulative_data_fraction  lower_threshold      lift  \\\n0         1                  0.011976     1.000000e+00  0.988166   \n1         2                  0.021956     1.000000e+00  0.592899   \n2         3                  0.031936     1.000000e+00  0.889349   \n3         4                  0.041916     9.646416e-01  1.185799   \n4         5                  0.051896     8.311898e-01  1.482249   \n5         6                  0.101796     1.123499e-01  1.363669   \n6         7                  0.151697     1.857386e-03  1.363669   \n7         8                  0.201597     2.190232e-04  1.304379   \n8         9                  0.301397     5.605416e-06  1.245089   \n9        10                  0.401198     9.520323e-07  1.067219   \n10       11                  0.500998     3.089048e-07  1.096864   \n11       12                  0.600798     7.341972e-08  0.889349   \n12       13                  0.700599     2.363952e-08  0.859704   \n13       14                  0.800399     1.929145e-09  0.770769   \n14       15                  0.900200     5.372098e-12  0.770769   \n15       16                  1.000000     8.631751e-20  0.770769   \n\n    cumulative_lift  response_rate         score  cumulative_response_rate  \\\n0          0.988166       0.666667  1.000000e+00                  0.666667   \n1          0.808499       0.400000  1.000000e+00                  0.545455   \n2          0.833765       0.600000  1.000000e+00                  0.562500   \n3          0.917582       0.800000  9.901758e-01                  0.619048   \n4          1.026172       1.000000  8.928568e-01                  0.692308   \n5          1.191612       0.920000  5.018825e-01                  0.803922   \n6          1.248209       0.920000  3.319127e-02                  0.842105   \n7          1.262113       0.880000  6.011382e-04                  0.851485   \n8          1.256476       0.840000  4.508047e-05                  0.847682   \n9          1.209397       0.720000  2.760087e-06                  0.815920   \n10         1.186980       0.740000  5.348570e-07                  0.800797   \n11         1.137540       0.600000  1.510384e-07                  0.767442   \n12         1.097962       0.580000  4.363949e-08                  0.740741   \n13         1.057165       0.520000  1.110218e-08                  0.713217   \n14         1.025414       0.520000  4.234675e-10                  0.691796   \n15         1.000000       0.520000  6.498410e-13                  0.674651   \n\n    cumulative_score  capture_rate  cumulative_capture_rate       gain  \\\n0           1.000000      0.011834                 0.011834  -1.183432   \n1           1.000000      0.005917                 0.017751 -40.710059   \n2           1.000000      0.008876                 0.026627 -11.065089   \n3           0.997661      0.011834                 0.038462  18.579882   \n4           0.977506      0.014793                 0.053254  48.224852   \n5           0.744357      0.068047                 0.121302  36.366864   \n6           0.510421      0.068047                 0.189349  36.366864   \n7           0.384228      0.065089                 0.254438  30.437870   \n8           0.257015      0.124260                 0.378698  24.508876   \n9           0.193082      0.106509                 0.485207   6.721893   \n10          0.154619      0.109467                 0.594675   9.686391   \n11          0.128935      0.088757                 0.683432 -11.065089   \n12          0.110568      0.085799                 0.769231 -14.029586   \n13          0.096782      0.076923                 0.846154 -22.923077   \n14          0.086052      0.076923                 0.923077 -22.923077   \n15          0.077464      0.076923                 1.000000 -22.923077   \n\n    cumulative_gain  \n0         -1.183432  \n1        -19.150081  \n2        -16.623521  \n3         -8.241758  \n4          2.617205  \n5         19.161156  \n6         24.820928  \n7         26.211260  \n8         25.647557  \n9         20.939680  \n10        18.697989  \n11        13.753956  \n12         9.796187  \n13         5.716478  \n14         2.541361  \n15         0.000000  ",
            "text/html": "<div>\n<style scoped>\n    .dataframe tbody tr th:only-of-type {\n        vertical-align: middle;\n    }\n\n    .dataframe tbody tr th {\n        vertical-align: top;\n    }\n\n    .dataframe thead th {\n        text-align: right;\n    }\n</style>\n<table border=\"1\" class=\"dataframe\">\n  <thead>\n    <tr style=\"text-align: right;\">\n      <th></th>\n      <th></th>\n      <th>group</th>\n      <th>cumulative_data_fraction</th>\n      <th>lower_threshold</th>\n      <th>lift</th>\n      <th>cumulative_lift</th>\n      <th>response_rate</th>\n      <th>score</th>\n      <th>cumulative_response_rate</th>\n      <th>cumulative_score</th>\n      <th>capture_rate</th>\n      <th>cumulative_capture_rate</th>\n      <th>gain</th>\n      <th>cumulative_gain</th>\n    </tr>\n  </thead>\n  <tbody>\n    <tr>\n      <th>0</th>\n      <td></td>\n      <td>1</td>\n      <td>0.011976</td>\n      <td>1.000000e+00</td>\n      <td>0.988166</td>\n      <td>0.988166</td>\n      <td>0.666667</td>\n      <td>1.000000e+00</td>\n      <td>0.666667</td>\n      <td>1.000000</td>\n      <td>0.011834</td>\n      <td>0.011834</td>\n      <td>-1.183432</td>\n      <td>-1.183432</td>\n    </tr>\n    <tr>\n      <th>1</th>\n      <td></td>\n      <td>2</td>\n      <td>0.021956</td>\n      <td>1.000000e+00</td>\n      <td>0.592899</td>\n      <td>0.808499</td>\n      <td>0.400000</td>\n      <td>1.000000e+00</td>\n      <td>0.545455</td>\n      <td>1.000000</td>\n      <td>0.005917</td>\n      <td>0.017751</td>\n      <td>-40.710059</td>\n      <td>-19.150081</td>\n    </tr>\n    <tr>\n      <th>2</th>\n      <td></td>\n      <td>3</td>\n      <td>0.031936</td>\n      <td>1.000000e+00</td>\n      <td>0.889349</td>\n      <td>0.833765</td>\n      <td>0.600000</td>\n      <td>1.000000e+00</td>\n      <td>0.562500</td>\n      <td>1.000000</td>\n      <td>0.008876</td>\n      <td>0.026627</td>\n      <td>-11.065089</td>\n      <td>-16.623521</td>\n    </tr>\n    <tr>\n      <th>3</th>\n      <td></td>\n      <td>4</td>\n      <td>0.041916</td>\n      <td>9.646416e-01</td>\n      <td>1.185799</td>\n      <td>0.917582</td>\n      <td>0.800000</td>\n      <td>9.901758e-01</td>\n      <td>0.619048</td>\n      <td>0.997661</td>\n      <td>0.011834</td>\n      <td>0.038462</td>\n      <td>18.579882</td>\n      <td>-8.241758</td>\n    </tr>\n    <tr>\n      <th>4</th>\n      <td></td>\n      <td>5</td>\n      <td>0.051896</td>\n      <td>8.311898e-01</td>\n      <td>1.482249</td>\n      <td>1.026172</td>\n      <td>1.000000</td>\n      <td>8.928568e-01</td>\n      <td>0.692308</td>\n      <td>0.977506</td>\n      <td>0.014793</td>\n      <td>0.053254</td>\n      <td>48.224852</td>\n      <td>2.617205</td>\n    </tr>\n    <tr>\n      <th>5</th>\n      <td></td>\n      <td>6</td>\n      <td>0.101796</td>\n      <td>1.123499e-01</td>\n      <td>1.363669</td>\n      <td>1.191612</td>\n      <td>0.920000</td>\n      <td>5.018825e-01</td>\n      <td>0.803922</td>\n      <td>0.744357</td>\n      <td>0.068047</td>\n      <td>0.121302</td>\n      <td>36.366864</td>\n      <td>19.161156</td>\n    </tr>\n    <tr>\n      <th>6</th>\n      <td></td>\n      <td>7</td>\n      <td>0.151697</td>\n      <td>1.857386e-03</td>\n      <td>1.363669</td>\n      <td>1.248209</td>\n      <td>0.920000</td>\n      <td>3.319127e-02</td>\n      <td>0.842105</td>\n      <td>0.510421</td>\n      <td>0.068047</td>\n      <td>0.189349</td>\n      <td>36.366864</td>\n      <td>24.820928</td>\n    </tr>\n    <tr>\n      <th>7</th>\n      <td></td>\n      <td>8</td>\n      <td>0.201597</td>\n      <td>2.190232e-04</td>\n      <td>1.304379</td>\n      <td>1.262113</td>\n      <td>0.880000</td>\n      <td>6.011382e-04</td>\n      <td>0.851485</td>\n      <td>0.384228</td>\n      <td>0.065089</td>\n      <td>0.254438</td>\n      <td>30.437870</td>\n      <td>26.211260</td>\n    </tr>\n    <tr>\n      <th>8</th>\n      <td></td>\n      <td>9</td>\n      <td>0.301397</td>\n      <td>5.605416e-06</td>\n      <td>1.245089</td>\n      <td>1.256476</td>\n      <td>0.840000</td>\n      <td>4.508047e-05</td>\n      <td>0.847682</td>\n      <td>0.257015</td>\n      <td>0.124260</td>\n      <td>0.378698</td>\n      <td>24.508876</td>\n      <td>25.647557</td>\n    </tr>\n    <tr>\n      <th>9</th>\n      <td></td>\n      <td>10</td>\n      <td>0.401198</td>\n      <td>9.520323e-07</td>\n      <td>1.067219</td>\n      <td>1.209397</td>\n      <td>0.720000</td>\n      <td>2.760087e-06</td>\n      <td>0.815920</td>\n      <td>0.193082</td>\n      <td>0.106509</td>\n      <td>0.485207</td>\n      <td>6.721893</td>\n      <td>20.939680</td>\n    </tr>\n    <tr>\n      <th>10</th>\n      <td></td>\n      <td>11</td>\n      <td>0.500998</td>\n      <td>3.089048e-07</td>\n      <td>1.096864</td>\n      <td>1.186980</td>\n      <td>0.740000</td>\n      <td>5.348570e-07</td>\n      <td>0.800797</td>\n      <td>0.154619</td>\n      <td>0.109467</td>\n      <td>0.594675</td>\n      <td>9.686391</td>\n      <td>18.697989</td>\n    </tr>\n    <tr>\n      <th>11</th>\n      <td></td>\n      <td>12</td>\n      <td>0.600798</td>\n      <td>7.341972e-08</td>\n      <td>0.889349</td>\n      <td>1.137540</td>\n      <td>0.600000</td>\n      <td>1.510384e-07</td>\n      <td>0.767442</td>\n      <td>0.128935</td>\n      <td>0.088757</td>\n      <td>0.683432</td>\n      <td>-11.065089</td>\n      <td>13.753956</td>\n    </tr>\n    <tr>\n      <th>12</th>\n      <td></td>\n      <td>13</td>\n      <td>0.700599</td>\n      <td>2.363952e-08</td>\n      <td>0.859704</td>\n      <td>1.097962</td>\n      <td>0.580000</td>\n      <td>4.363949e-08</td>\n      <td>0.740741</td>\n      <td>0.110568</td>\n      <td>0.085799</td>\n      <td>0.769231</td>\n      <td>-14.029586</td>\n      <td>9.796187</td>\n    </tr>\n    <tr>\n      <th>13</th>\n      <td></td>\n      <td>14</td>\n      <td>0.800399</td>\n      <td>1.929145e-09</td>\n      <td>0.770769</td>\n      <td>1.057165</td>\n      <td>0.520000</td>\n      <td>1.110218e-08</td>\n      <td>0.713217</td>\n      <td>0.096782</td>\n      <td>0.076923</td>\n      <td>0.846154</td>\n      <td>-22.923077</td>\n      <td>5.716478</td>\n    </tr>\n    <tr>\n      <th>14</th>\n      <td></td>\n      <td>15</td>\n      <td>0.900200</td>\n      <td>5.372098e-12</td>\n      <td>0.770769</td>\n      <td>1.025414</td>\n      <td>0.520000</td>\n      <td>4.234675e-10</td>\n      <td>0.691796</td>\n      <td>0.086052</td>\n      <td>0.076923</td>\n      <td>0.923077</td>\n      <td>-22.923077</td>\n      <td>2.541361</td>\n    </tr>\n    <tr>\n      <th>15</th>\n      <td></td>\n      <td>16</td>\n      <td>1.000000</td>\n      <td>8.631751e-20</td>\n      <td>0.770769</td>\n      <td>1.000000</td>\n      <td>0.520000</td>\n      <td>6.498410e-13</td>\n      <td>0.674651</td>\n      <td>0.077464</td>\n      <td>0.076923</td>\n      <td>1.000000</td>\n      <td>-22.923077</td>\n      <td>0.000000</td>\n    </tr>\n  </tbody>\n</table>\n</div>"
          },
          "metadata": {}
        },
        {
          "output_type": "display_data",
          "data": {
            "text/plain": "            0       1   Error             Rate\n0      0  0.0   423.0     1.0    (423.0/423.0)\n1      1  0.0   800.0     0.0      (0.0/800.0)\n2  Total  0.0  1223.0  0.3459   (423.0/1223.0)",
            "text/html": "<div>\n<style scoped>\n    .dataframe tbody tr th:only-of-type {\n        vertical-align: middle;\n    }\n\n    .dataframe tbody tr th {\n        vertical-align: top;\n    }\n\n    .dataframe thead th {\n        text-align: right;\n    }\n</style>\n<table border=\"1\" class=\"dataframe\">\n  <thead>\n    <tr style=\"text-align: right;\">\n      <th></th>\n      <th></th>\n      <th>0</th>\n      <th>1</th>\n      <th>Error</th>\n      <th>Rate</th>\n    </tr>\n  </thead>\n  <tbody>\n    <tr>\n      <th>0</th>\n      <td>0</td>\n      <td>0.0</td>\n      <td>423.0</td>\n      <td>1.0</td>\n      <td>(423.0/423.0)</td>\n    </tr>\n    <tr>\n      <th>1</th>\n      <td>1</td>\n      <td>0.0</td>\n      <td>800.0</td>\n      <td>0.0</td>\n      <td>(0.0/800.0)</td>\n    </tr>\n    <tr>\n      <th>2</th>\n      <td>Total</td>\n      <td>0.0</td>\n      <td>1223.0</td>\n      <td>0.3459</td>\n      <td>(423.0/1223.0)</td>\n    </tr>\n  </tbody>\n</table>\n</div>"
          },
          "metadata": {}
        },
        {
          "output_type": "display_data",
          "data": {
            "text/plain": "                         metric     threshold       value    idx\n0                        max f1  1.272788e-10    0.790905  399.0\n1                        max f2  1.272788e-10    0.904364  399.0\n2                  max f0point5  1.101170e-08    0.741124  398.0\n3                  max accuracy  1.272788e-10    0.654129  399.0\n4                 max precision  9.999998e-01    0.966102    4.0\n5                    max recall  1.272788e-10    1.000000  399.0\n6               max specificity  1.000000e+00    0.990544    0.0\n7              max absolute_mcc  1.101170e-08    0.272315  398.0\n8    max min_per_class_accuracy  1.101170e-08    0.626250  398.0\n9   max mean_per_class_accuracy  1.101170e-08    0.642912  398.0\n10                      max tns  1.000000e+00  419.000000    0.0\n11                      max fns  1.000000e+00  705.000000    0.0\n12                      max fps  1.272788e-10  423.000000  399.0\n13                      max tps  1.272788e-10  800.000000  399.0\n14                      max tnr  1.000000e+00    0.990544    0.0\n15                      max fnr  1.000000e+00    0.881250    0.0\n16                      max fpr  1.272788e-10    1.000000  399.0\n17                      max tpr  1.272788e-10    1.000000  399.0",
            "text/html": "<div>\n<style scoped>\n    .dataframe tbody tr th:only-of-type {\n        vertical-align: middle;\n    }\n\n    .dataframe tbody tr th {\n        vertical-align: top;\n    }\n\n    .dataframe thead th {\n        text-align: right;\n    }\n</style>\n<table border=\"1\" class=\"dataframe\">\n  <thead>\n    <tr style=\"text-align: right;\">\n      <th></th>\n      <th>metric</th>\n      <th>threshold</th>\n      <th>value</th>\n      <th>idx</th>\n    </tr>\n  </thead>\n  <tbody>\n    <tr>\n      <th>0</th>\n      <td>max f1</td>\n      <td>1.272788e-10</td>\n      <td>0.790905</td>\n      <td>399.0</td>\n    </tr>\n    <tr>\n      <th>1</th>\n      <td>max f2</td>\n      <td>1.272788e-10</td>\n      <td>0.904364</td>\n      <td>399.0</td>\n    </tr>\n    <tr>\n      <th>2</th>\n      <td>max f0point5</td>\n      <td>1.101170e-08</td>\n      <td>0.741124</td>\n      <td>398.0</td>\n    </tr>\n    <tr>\n      <th>3</th>\n      <td>max accuracy</td>\n      <td>1.272788e-10</td>\n      <td>0.654129</td>\n      <td>399.0</td>\n    </tr>\n    <tr>\n      <th>4</th>\n      <td>max precision</td>\n      <td>9.999998e-01</td>\n      <td>0.966102</td>\n      <td>4.0</td>\n    </tr>\n    <tr>\n      <th>5</th>\n      <td>max recall</td>\n      <td>1.272788e-10</td>\n      <td>1.000000</td>\n      <td>399.0</td>\n    </tr>\n    <tr>\n      <th>6</th>\n      <td>max specificity</td>\n      <td>1.000000e+00</td>\n      <td>0.990544</td>\n      <td>0.0</td>\n    </tr>\n    <tr>\n      <th>7</th>\n      <td>max absolute_mcc</td>\n      <td>1.101170e-08</td>\n      <td>0.272315</td>\n      <td>398.0</td>\n    </tr>\n    <tr>\n      <th>8</th>\n      <td>max min_per_class_accuracy</td>\n      <td>1.101170e-08</td>\n      <td>0.626250</td>\n      <td>398.0</td>\n    </tr>\n    <tr>\n      <th>9</th>\n      <td>max mean_per_class_accuracy</td>\n      <td>1.101170e-08</td>\n      <td>0.642912</td>\n      <td>398.0</td>\n    </tr>\n    <tr>\n      <th>10</th>\n      <td>max tns</td>\n      <td>1.000000e+00</td>\n      <td>419.000000</td>\n      <td>0.0</td>\n    </tr>\n    <tr>\n      <th>11</th>\n      <td>max fns</td>\n      <td>1.000000e+00</td>\n      <td>705.000000</td>\n      <td>0.0</td>\n    </tr>\n    <tr>\n      <th>12</th>\n      <td>max fps</td>\n      <td>1.272788e-10</td>\n      <td>423.000000</td>\n      <td>399.0</td>\n    </tr>\n    <tr>\n      <th>13</th>\n      <td>max tps</td>\n      <td>1.272788e-10</td>\n      <td>800.000000</td>\n      <td>399.0</td>\n    </tr>\n    <tr>\n      <th>14</th>\n      <td>max tnr</td>\n      <td>1.000000e+00</td>\n      <td>0.990544</td>\n      <td>0.0</td>\n    </tr>\n    <tr>\n      <th>15</th>\n      <td>max fnr</td>\n      <td>1.000000e+00</td>\n      <td>0.881250</td>\n      <td>0.0</td>\n    </tr>\n    <tr>\n      <th>16</th>\n      <td>max fpr</td>\n      <td>1.272788e-10</td>\n      <td>1.000000</td>\n      <td>399.0</td>\n    </tr>\n    <tr>\n      <th>17</th>\n      <td>max tpr</td>\n      <td>1.272788e-10</td>\n      <td>1.000000</td>\n      <td>399.0</td>\n    </tr>\n  </tbody>\n</table>\n</div>"
          },
          "metadata": {}
        },
        {
          "output_type": "display_data",
          "data": {
            "text/plain": "      group  cumulative_data_fraction  lower_threshold      lift  \\\n0         1                  0.020442     1.000000e+00  1.467600   \n1         2                  0.020442     1.000000e+00  0.000000   \n2         3                  0.030253     1.000000e+00  1.528750   \n3         4                  0.040065     1.000000e+00  1.401354   \n4         5                  0.050695     1.000000e+00  1.411154   \n5         6                  0.100572     9.999997e-01  1.478627   \n6         7                  0.150450     9.999582e-01  1.102705   \n7         8                  0.200327     9.990533e-01  1.228012   \n8         9                  0.300082     9.298661e-04  1.027520   \n9        10                  0.399836     4.129111e-06  1.140297   \n10       11                  0.500409     2.628160e-08  1.155884   \n11       12                  0.600164     9.133037e-11  1.065113   \n12       13                  0.699918     3.528785e-13  0.839559   \n13       14                  0.799673     3.697363e-16  0.902213   \n14       15                  0.899428     4.359545e-19  0.889682   \n15       16                  1.000000     2.492095e-41  0.348008   \n\n    cumulative_lift  response_rate         score  cumulative_response_rate  \\\n0          1.467600       0.960000  1.000000e+00                  0.960000   \n1          1.467600       0.000000  0.000000e+00                  0.960000   \n2          1.487432       1.000000  1.000000e+00                  0.972973   \n3          1.466352       0.916667  1.000000e+00                  0.959184   \n4          1.454778       0.923077  1.000000e+00                  0.951613   \n5          1.466606       0.967213  9.999999e-01                  0.959350   \n6          1.345965       0.721311  9.999888e-01                  0.880435   \n7          1.316597       0.803279  9.998026e-01                  0.861224   \n8          1.220501       0.672131  3.623897e-01                  0.798365   \n9          1.200491       0.745902  1.078321e-04                  0.785276   \n10         1.191526       0.756098  8.559034e-07                  0.779412   \n11         1.170514       0.696721  4.028467e-09                  0.765668   \n12         1.123346       0.549180  2.053218e-11                  0.734813   \n13         1.095760       0.590164  4.798398e-14                  0.716769   \n14         1.072905       0.581967  8.008600e-17                  0.701818   \n15         1.000000       0.227642  2.308190e-20                  0.654129   \n\n    cumulative_score  capture_rate  cumulative_capture_rate        gain  \\\n0           1.000000       0.03000                  0.03000   46.760000   \n1           1.000000       0.00000                  0.03000 -100.000000   \n2           1.000000       0.01500                  0.04500   52.875000   \n3           1.000000       0.01375                  0.05875   40.135417   \n4           1.000000       0.01500                  0.07375   41.115385   \n5           1.000000       0.07375                  0.14750   47.862705   \n6           0.999996       0.05500                  0.20250   10.270492   \n7           0.999948       0.06125                  0.26375   22.801230   \n8           0.788008       0.10250                  0.36625    2.752049   \n9           0.591436       0.11375                  0.48000   14.029713   \n10          0.472569       0.11625                  0.59625   15.588415   \n11          0.394022       0.10625                  0.70250    6.511270   \n12          0.337865       0.08375                  0.78625  -16.044057   \n13          0.295718       0.09000                  0.87625   -9.778689   \n14          0.262920       0.08875                  0.96500  -11.031762   \n15          0.236478       0.03500                  1.00000  -65.199187   \n\n    cumulative_gain  \n0         46.760000  \n1         46.760000  \n2         48.743243  \n3         46.635204  \n4         45.477823  \n5         46.660569  \n6         34.596467  \n7         31.659694  \n8         22.050068  \n9         20.049080  \n10        19.152574  \n11        17.051431  \n12        12.334550  \n13         9.576048  \n14         7.290455  \n15         0.000000  ",
            "text/html": "<div>\n<style scoped>\n    .dataframe tbody tr th:only-of-type {\n        vertical-align: middle;\n    }\n\n    .dataframe tbody tr th {\n        vertical-align: top;\n    }\n\n    .dataframe thead th {\n        text-align: right;\n    }\n</style>\n<table border=\"1\" class=\"dataframe\">\n  <thead>\n    <tr style=\"text-align: right;\">\n      <th></th>\n      <th></th>\n      <th>group</th>\n      <th>cumulative_data_fraction</th>\n      <th>lower_threshold</th>\n      <th>lift</th>\n      <th>cumulative_lift</th>\n      <th>response_rate</th>\n      <th>score</th>\n      <th>cumulative_response_rate</th>\n      <th>cumulative_score</th>\n      <th>capture_rate</th>\n      <th>cumulative_capture_rate</th>\n      <th>gain</th>\n      <th>cumulative_gain</th>\n    </tr>\n  </thead>\n  <tbody>\n    <tr>\n      <th>0</th>\n      <td></td>\n      <td>1</td>\n      <td>0.020442</td>\n      <td>1.000000e+00</td>\n      <td>1.467600</td>\n      <td>1.467600</td>\n      <td>0.960000</td>\n      <td>1.000000e+00</td>\n      <td>0.960000</td>\n      <td>1.000000</td>\n      <td>0.03000</td>\n      <td>0.03000</td>\n      <td>46.760000</td>\n      <td>46.760000</td>\n    </tr>\n    <tr>\n      <th>1</th>\n      <td></td>\n      <td>2</td>\n      <td>0.020442</td>\n      <td>1.000000e+00</td>\n      <td>0.000000</td>\n      <td>1.467600</td>\n      <td>0.000000</td>\n      <td>0.000000e+00</td>\n      <td>0.960000</td>\n      <td>1.000000</td>\n      <td>0.00000</td>\n      <td>0.03000</td>\n      <td>-100.000000</td>\n      <td>46.760000</td>\n    </tr>\n    <tr>\n      <th>2</th>\n      <td></td>\n      <td>3</td>\n      <td>0.030253</td>\n      <td>1.000000e+00</td>\n      <td>1.528750</td>\n      <td>1.487432</td>\n      <td>1.000000</td>\n      <td>1.000000e+00</td>\n      <td>0.972973</td>\n      <td>1.000000</td>\n      <td>0.01500</td>\n      <td>0.04500</td>\n      <td>52.875000</td>\n      <td>48.743243</td>\n    </tr>\n    <tr>\n      <th>3</th>\n      <td></td>\n      <td>4</td>\n      <td>0.040065</td>\n      <td>1.000000e+00</td>\n      <td>1.401354</td>\n      <td>1.466352</td>\n      <td>0.916667</td>\n      <td>1.000000e+00</td>\n      <td>0.959184</td>\n      <td>1.000000</td>\n      <td>0.01375</td>\n      <td>0.05875</td>\n      <td>40.135417</td>\n      <td>46.635204</td>\n    </tr>\n    <tr>\n      <th>4</th>\n      <td></td>\n      <td>5</td>\n      <td>0.050695</td>\n      <td>1.000000e+00</td>\n      <td>1.411154</td>\n      <td>1.454778</td>\n      <td>0.923077</td>\n      <td>1.000000e+00</td>\n      <td>0.951613</td>\n      <td>1.000000</td>\n      <td>0.01500</td>\n      <td>0.07375</td>\n      <td>41.115385</td>\n      <td>45.477823</td>\n    </tr>\n    <tr>\n      <th>5</th>\n      <td></td>\n      <td>6</td>\n      <td>0.100572</td>\n      <td>9.999997e-01</td>\n      <td>1.478627</td>\n      <td>1.466606</td>\n      <td>0.967213</td>\n      <td>9.999999e-01</td>\n      <td>0.959350</td>\n      <td>1.000000</td>\n      <td>0.07375</td>\n      <td>0.14750</td>\n      <td>47.862705</td>\n      <td>46.660569</td>\n    </tr>\n    <tr>\n      <th>6</th>\n      <td></td>\n      <td>7</td>\n      <td>0.150450</td>\n      <td>9.999582e-01</td>\n      <td>1.102705</td>\n      <td>1.345965</td>\n      <td>0.721311</td>\n      <td>9.999888e-01</td>\n      <td>0.880435</td>\n      <td>0.999996</td>\n      <td>0.05500</td>\n      <td>0.20250</td>\n      <td>10.270492</td>\n      <td>34.596467</td>\n    </tr>\n    <tr>\n      <th>7</th>\n      <td></td>\n      <td>8</td>\n      <td>0.200327</td>\n      <td>9.990533e-01</td>\n      <td>1.228012</td>\n      <td>1.316597</td>\n      <td>0.803279</td>\n      <td>9.998026e-01</td>\n      <td>0.861224</td>\n      <td>0.999948</td>\n      <td>0.06125</td>\n      <td>0.26375</td>\n      <td>22.801230</td>\n      <td>31.659694</td>\n    </tr>\n    <tr>\n      <th>8</th>\n      <td></td>\n      <td>9</td>\n      <td>0.300082</td>\n      <td>9.298661e-04</td>\n      <td>1.027520</td>\n      <td>1.220501</td>\n      <td>0.672131</td>\n      <td>3.623897e-01</td>\n      <td>0.798365</td>\n      <td>0.788008</td>\n      <td>0.10250</td>\n      <td>0.36625</td>\n      <td>2.752049</td>\n      <td>22.050068</td>\n    </tr>\n    <tr>\n      <th>9</th>\n      <td></td>\n      <td>10</td>\n      <td>0.399836</td>\n      <td>4.129111e-06</td>\n      <td>1.140297</td>\n      <td>1.200491</td>\n      <td>0.745902</td>\n      <td>1.078321e-04</td>\n      <td>0.785276</td>\n      <td>0.591436</td>\n      <td>0.11375</td>\n      <td>0.48000</td>\n      <td>14.029713</td>\n      <td>20.049080</td>\n    </tr>\n    <tr>\n      <th>10</th>\n      <td></td>\n      <td>11</td>\n      <td>0.500409</td>\n      <td>2.628160e-08</td>\n      <td>1.155884</td>\n      <td>1.191526</td>\n      <td>0.756098</td>\n      <td>8.559034e-07</td>\n      <td>0.779412</td>\n      <td>0.472569</td>\n      <td>0.11625</td>\n      <td>0.59625</td>\n      <td>15.588415</td>\n      <td>19.152574</td>\n    </tr>\n    <tr>\n      <th>11</th>\n      <td></td>\n      <td>12</td>\n      <td>0.600164</td>\n      <td>9.133037e-11</td>\n      <td>1.065113</td>\n      <td>1.170514</td>\n      <td>0.696721</td>\n      <td>4.028467e-09</td>\n      <td>0.765668</td>\n      <td>0.394022</td>\n      <td>0.10625</td>\n      <td>0.70250</td>\n      <td>6.511270</td>\n      <td>17.051431</td>\n    </tr>\n    <tr>\n      <th>12</th>\n      <td></td>\n      <td>13</td>\n      <td>0.699918</td>\n      <td>3.528785e-13</td>\n      <td>0.839559</td>\n      <td>1.123346</td>\n      <td>0.549180</td>\n      <td>2.053218e-11</td>\n      <td>0.734813</td>\n      <td>0.337865</td>\n      <td>0.08375</td>\n      <td>0.78625</td>\n      <td>-16.044057</td>\n      <td>12.334550</td>\n    </tr>\n    <tr>\n      <th>13</th>\n      <td></td>\n      <td>14</td>\n      <td>0.799673</td>\n      <td>3.697363e-16</td>\n      <td>0.902213</td>\n      <td>1.095760</td>\n      <td>0.590164</td>\n      <td>4.798398e-14</td>\n      <td>0.716769</td>\n      <td>0.295718</td>\n      <td>0.09000</td>\n      <td>0.87625</td>\n      <td>-9.778689</td>\n      <td>9.576048</td>\n    </tr>\n    <tr>\n      <th>14</th>\n      <td></td>\n      <td>15</td>\n      <td>0.899428</td>\n      <td>4.359545e-19</td>\n      <td>0.889682</td>\n      <td>1.072905</td>\n      <td>0.581967</td>\n      <td>8.008600e-17</td>\n      <td>0.701818</td>\n      <td>0.262920</td>\n      <td>0.08875</td>\n      <td>0.96500</td>\n      <td>-11.031762</td>\n      <td>7.290455</td>\n    </tr>\n    <tr>\n      <th>15</th>\n      <td></td>\n      <td>16</td>\n      <td>1.000000</td>\n      <td>2.492095e-41</td>\n      <td>0.348008</td>\n      <td>1.000000</td>\n      <td>0.227642</td>\n      <td>2.308190e-20</td>\n      <td>0.654129</td>\n      <td>0.236478</td>\n      <td>0.03500</td>\n      <td>1.00000</td>\n      <td>-65.199187</td>\n      <td>0.000000</td>\n    </tr>\n  </tbody>\n</table>\n</div>"
          },
          "metadata": {}
        },
        {
          "output_type": "display_data",
          "data": {
            "text/plain": "                                   mean            sd  cv_1_valid  cv_2_valid  \\\n0                  accuracy  0.74085116   0.024191575   0.7389558    0.734127   \n1                       auc  0.77306044   0.021443421  0.77611834  0.79549605   \n2                     aucpr  0.85476434  0.0061987354  0.85713553  0.85604465   \n3                       err  0.25914884   0.024191575  0.26104417  0.26587301   \n4                 err_count        63.4     6.1886992        65.0        67.0   \n5                  f0point5  0.77596784    0.03441337   0.7824223    0.754717   \n6                        f1  0.82380354   0.007052221   0.8179272    0.819407   \n7                        f2   0.8810496   0.042874616  0.85680753   0.8962264   \n8            lift_top_group   1.4284575    0.23887382   1.0060606   1.5849056   \n9                   logloss   10.032916     6.0386367    7.355562   12.506874   \n10      max_per_class_error   0.6141956    0.21663617  0.54761904   0.6451613   \n11                      mcc   0.3989019    0.07999245  0.37950635   0.4104328   \n12  mean_per_class_accuracy   0.6558791    0.07192206  0.66861475   0.6554068   \n13     mean_per_class_error  0.34412095    0.07192206  0.33138528  0.34459323   \n14                      mse  0.49346516    0.12314514   0.5345969  0.54297453   \n15                   pr_auc  0.85476434  0.0061987354  0.85713553  0.85604465   \n16                precision   0.7482052   0.054003723   0.7604167   0.7169811   \n17                       r2  -1.1811118     0.5391287  -1.3914534  -1.3318492   \n18                   recall  0.92595375    0.07578684   0.8848485   0.9559748   \n19                     rmse   0.6972127    0.09591389  0.73116136    0.736868   \n\n    cv_3_valid   cv_4_valid  cv_5_valid  \n0    0.7447699    0.7095436   0.7768595  \n1    0.7602201   0.74347824   0.7899896  \n2    0.8438958   0.85730803  0.85943764  \n3   0.25523013   0.29045644   0.2231405  \n4         61.0         70.0        54.0  \n5    0.7696127    0.7419355  0.83115184  \n6    0.8355795    0.8214286   0.8246753  \n7    0.9139151         0.92    0.818299  \n8    1.5031446    1.4968944    1.551282  \n9    18.742535     2.575395    8.984215  \n10      0.7125        0.875  0.29069766  \n11  0.39107752   0.29516304  0.51832986  \n12   0.6311714       0.5625   0.7617024  \n13  0.36882862       0.4375  0.23829755  \n14  0.59907454   0.28109142   0.5095884  \n15   0.8438958   0.85730803  0.85943764  \n16   0.7311321    0.6969697   0.8355263  \n17  -1.6902307  -0.26755205  -1.2244735  \n18   0.9748428          1.0   0.8141026  \n19  0.77399904    0.5301806   0.7138546  ",
            "text/html": "<div>\n<style scoped>\n    .dataframe tbody tr th:only-of-type {\n        vertical-align: middle;\n    }\n\n    .dataframe tbody tr th {\n        vertical-align: top;\n    }\n\n    .dataframe thead th {\n        text-align: right;\n    }\n</style>\n<table border=\"1\" class=\"dataframe\">\n  <thead>\n    <tr style=\"text-align: right;\">\n      <th></th>\n      <th></th>\n      <th>mean</th>\n      <th>sd</th>\n      <th>cv_1_valid</th>\n      <th>cv_2_valid</th>\n      <th>cv_3_valid</th>\n      <th>cv_4_valid</th>\n      <th>cv_5_valid</th>\n    </tr>\n  </thead>\n  <tbody>\n    <tr>\n      <th>0</th>\n      <td>accuracy</td>\n      <td>0.74085116</td>\n      <td>0.024191575</td>\n      <td>0.7389558</td>\n      <td>0.734127</td>\n      <td>0.7447699</td>\n      <td>0.7095436</td>\n      <td>0.7768595</td>\n    </tr>\n    <tr>\n      <th>1</th>\n      <td>auc</td>\n      <td>0.77306044</td>\n      <td>0.021443421</td>\n      <td>0.77611834</td>\n      <td>0.79549605</td>\n      <td>0.7602201</td>\n      <td>0.74347824</td>\n      <td>0.7899896</td>\n    </tr>\n    <tr>\n      <th>2</th>\n      <td>aucpr</td>\n      <td>0.85476434</td>\n      <td>0.0061987354</td>\n      <td>0.85713553</td>\n      <td>0.85604465</td>\n      <td>0.8438958</td>\n      <td>0.85730803</td>\n      <td>0.85943764</td>\n    </tr>\n    <tr>\n      <th>3</th>\n      <td>err</td>\n      <td>0.25914884</td>\n      <td>0.024191575</td>\n      <td>0.26104417</td>\n      <td>0.26587301</td>\n      <td>0.25523013</td>\n      <td>0.29045644</td>\n      <td>0.2231405</td>\n    </tr>\n    <tr>\n      <th>4</th>\n      <td>err_count</td>\n      <td>63.4</td>\n      <td>6.1886992</td>\n      <td>65.0</td>\n      <td>67.0</td>\n      <td>61.0</td>\n      <td>70.0</td>\n      <td>54.0</td>\n    </tr>\n    <tr>\n      <th>5</th>\n      <td>f0point5</td>\n      <td>0.77596784</td>\n      <td>0.03441337</td>\n      <td>0.7824223</td>\n      <td>0.754717</td>\n      <td>0.7696127</td>\n      <td>0.7419355</td>\n      <td>0.83115184</td>\n    </tr>\n    <tr>\n      <th>6</th>\n      <td>f1</td>\n      <td>0.82380354</td>\n      <td>0.007052221</td>\n      <td>0.8179272</td>\n      <td>0.819407</td>\n      <td>0.8355795</td>\n      <td>0.8214286</td>\n      <td>0.8246753</td>\n    </tr>\n    <tr>\n      <th>7</th>\n      <td>f2</td>\n      <td>0.8810496</td>\n      <td>0.042874616</td>\n      <td>0.85680753</td>\n      <td>0.8962264</td>\n      <td>0.9139151</td>\n      <td>0.92</td>\n      <td>0.818299</td>\n    </tr>\n    <tr>\n      <th>8</th>\n      <td>lift_top_group</td>\n      <td>1.4284575</td>\n      <td>0.23887382</td>\n      <td>1.0060606</td>\n      <td>1.5849056</td>\n      <td>1.5031446</td>\n      <td>1.4968944</td>\n      <td>1.551282</td>\n    </tr>\n    <tr>\n      <th>9</th>\n      <td>logloss</td>\n      <td>10.032916</td>\n      <td>6.0386367</td>\n      <td>7.355562</td>\n      <td>12.506874</td>\n      <td>18.742535</td>\n      <td>2.575395</td>\n      <td>8.984215</td>\n    </tr>\n    <tr>\n      <th>10</th>\n      <td>max_per_class_error</td>\n      <td>0.6141956</td>\n      <td>0.21663617</td>\n      <td>0.54761904</td>\n      <td>0.6451613</td>\n      <td>0.7125</td>\n      <td>0.875</td>\n      <td>0.29069766</td>\n    </tr>\n    <tr>\n      <th>11</th>\n      <td>mcc</td>\n      <td>0.3989019</td>\n      <td>0.07999245</td>\n      <td>0.37950635</td>\n      <td>0.4104328</td>\n      <td>0.39107752</td>\n      <td>0.29516304</td>\n      <td>0.51832986</td>\n    </tr>\n    <tr>\n      <th>12</th>\n      <td>mean_per_class_accuracy</td>\n      <td>0.6558791</td>\n      <td>0.07192206</td>\n      <td>0.66861475</td>\n      <td>0.6554068</td>\n      <td>0.6311714</td>\n      <td>0.5625</td>\n      <td>0.7617024</td>\n    </tr>\n    <tr>\n      <th>13</th>\n      <td>mean_per_class_error</td>\n      <td>0.34412095</td>\n      <td>0.07192206</td>\n      <td>0.33138528</td>\n      <td>0.34459323</td>\n      <td>0.36882862</td>\n      <td>0.4375</td>\n      <td>0.23829755</td>\n    </tr>\n    <tr>\n      <th>14</th>\n      <td>mse</td>\n      <td>0.49346516</td>\n      <td>0.12314514</td>\n      <td>0.5345969</td>\n      <td>0.54297453</td>\n      <td>0.59907454</td>\n      <td>0.28109142</td>\n      <td>0.5095884</td>\n    </tr>\n    <tr>\n      <th>15</th>\n      <td>pr_auc</td>\n      <td>0.85476434</td>\n      <td>0.0061987354</td>\n      <td>0.85713553</td>\n      <td>0.85604465</td>\n      <td>0.8438958</td>\n      <td>0.85730803</td>\n      <td>0.85943764</td>\n    </tr>\n    <tr>\n      <th>16</th>\n      <td>precision</td>\n      <td>0.7482052</td>\n      <td>0.054003723</td>\n      <td>0.7604167</td>\n      <td>0.7169811</td>\n      <td>0.7311321</td>\n      <td>0.6969697</td>\n      <td>0.8355263</td>\n    </tr>\n    <tr>\n      <th>17</th>\n      <td>r2</td>\n      <td>-1.1811118</td>\n      <td>0.5391287</td>\n      <td>-1.3914534</td>\n      <td>-1.3318492</td>\n      <td>-1.6902307</td>\n      <td>-0.26755205</td>\n      <td>-1.2244735</td>\n    </tr>\n    <tr>\n      <th>18</th>\n      <td>recall</td>\n      <td>0.92595375</td>\n      <td>0.07578684</td>\n      <td>0.8848485</td>\n      <td>0.9559748</td>\n      <td>0.9748428</td>\n      <td>1.0</td>\n      <td>0.8141026</td>\n    </tr>\n    <tr>\n      <th>19</th>\n      <td>rmse</td>\n      <td>0.6972127</td>\n      <td>0.09591389</td>\n      <td>0.73116136</td>\n      <td>0.736868</td>\n      <td>0.77399904</td>\n      <td>0.5301806</td>\n      <td>0.7138546</td>\n    </tr>\n  </tbody>\n</table>\n</div>"
          },
          "metadata": {}
        },
        {
          "output_type": "execute_result",
          "execution_count": 43,
          "data": {
            "text/plain": "<bound method ModelBase.summary of >"
          },
          "metadata": {}
        }
      ],
      "execution_count": 43,
      "metadata": {
        "collapsed": true,
        "jupyter": {
          "source_hidden": false,
          "outputs_hidden": false
        },
        "nteract": {
          "transient": {
            "deleting": false
          }
        },
        "gather": {
          "logged": 1604247817229
        }
      }
    },
    {
      "cell_type": "code",
      "source": [
        "model.actual_params"
      ],
      "outputs": [
        {
          "output_type": "execute_result",
          "execution_count": 44,
          "data": {
            "text/plain": "{'model_id': 'Grid_NaiveBayes_py_5_sid_8e0c_model_python_1604225741410_1205_model_2',\n 'nfolds': 5,\n 'seed': 1234,\n 'fold_assignment': 'Random',\n 'fold_column': None,\n 'keep_cross_validation_models': True,\n 'keep_cross_validation_predictions': True,\n 'keep_cross_validation_fold_assignment': False,\n 'training_frame': None,\n 'validation_frame': None,\n 'response_column': 'Resistance_Status',\n 'ignored_columns': ['SampleID'],\n 'ignore_const_cols': True,\n 'score_each_iteration': False,\n 'balance_classes': False,\n 'class_sampling_factors': None,\n 'max_after_balance_size': 5.0,\n 'max_confusion_matrix_size': 20,\n 'max_hit_ratio_k': 0,\n 'laplace': 0.1,\n 'min_sdev': 0.1,\n 'eps_sdev': 0.9,\n 'min_prob': 1.0,\n 'eps_prob': 0.9,\n 'compute_metrics': False,\n 'max_runtime_secs': 1.7976931348623157e+308,\n 'export_checkpoints_dir': None}"
          },
          "metadata": {}
        }
      ],
      "execution_count": 44,
      "metadata": {
        "collapsed": true,
        "jupyter": {
          "source_hidden": false,
          "outputs_hidden": false
        },
        "nteract": {
          "transient": {
            "deleting": false
          }
        },
        "gather": {
          "logged": 1604247817279
        }
      }
    },
    {
      "cell_type": "code",
      "source": [
        "model1 = h2o.load_model(\"../models/ALL_FEATURES/nb_grid/Grid_NaiveBayes_py_5_sid_8e0c_model_python_1604225741410_1205_model_1\")"
      ],
      "outputs": [],
      "execution_count": 14,
      "metadata": {
        "collapsed": true,
        "jupyter": {
          "source_hidden": false,
          "outputs_hidden": false
        },
        "nteract": {
          "transient": {
            "deleting": false
          }
        },
        "gather": {
          "logged": 1604246133986
        }
      }
    },
    {
      "cell_type": "code",
      "source": [
        "model1.actual_params"
      ],
      "outputs": [
        {
          "output_type": "execute_result",
          "execution_count": 46,
          "data": {
            "text/plain": "dict"
          },
          "metadata": {}
        }
      ],
      "execution_count": 46,
      "metadata": {
        "collapsed": true,
        "jupyter": {
          "source_hidden": false,
          "outputs_hidden": false
        },
        "nteract": {
          "transient": {
            "deleting": false
          }
        },
        "gather": {
          "logged": 1604247911231
        }
      }
    },
    {
      "cell_type": "code",
      "source": [
        "a_dict= model.actual_params\r\n",
        "b_dict= model1.actual_params\r\n",
        "\r\n",
        "for diff in list(dictdiffer.diff(a_dict, b_dict)):         \r\n",
        "    print(diff)"
      ],
      "outputs": [
        {
          "output_type": "stream",
          "name": "stdout",
          "text": [
            "('change', 'model_id', ('Grid_NaiveBayes_py_5_sid_8e0c_model_python_1604225741410_1205_model_2', 'Grid_NaiveBayes_py_5_sid_8e0c_model_python_1604225741410_1205_model_1'))\n",
            "('change', 'laplace', (0.1, 0.9))\n",
            "('change', 'eps_sdev', (0.9, 0.6))\n",
            "('change', 'eps_prob', (0.9, 0.6))\n"
          ]
        }
      ],
      "execution_count": 50,
      "metadata": {
        "collapsed": true,
        "jupyter": {
          "source_hidden": false,
          "outputs_hidden": false
        },
        "nteract": {
          "transient": {
            "deleting": false
          }
        },
        "gather": {
          "logged": 1604248051854
        }
      }
    },
    {
      "cell_type": "markdown",
      "source": [
        "## Train similar algorithm with the same parameters"
      ],
      "metadata": {
        "nteract": {
          "transient": {
            "deleting": false
          }
        }
      }
    },
    {
      "cell_type": "code",
      "source": [
        "model1.actual_params"
      ],
      "outputs": [
        {
          "output_type": "execute_result",
          "execution_count": 66,
          "data": {
            "text/plain": "{'model_id': 'Grid_NaiveBayes_py_5_sid_8e0c_model_python_1604225741410_1205_model_1',\n 'nfolds': 5,\n 'seed': 1234,\n 'fold_assignment': 'Random',\n 'fold_column': None,\n 'keep_cross_validation_models': True,\n 'keep_cross_validation_predictions': True,\n 'keep_cross_validation_fold_assignment': False,\n 'training_frame': None,\n 'validation_frame': None,\n 'response_column': 'Resistance_Status',\n 'ignored_columns': ['SampleID'],\n 'ignore_const_cols': True,\n 'score_each_iteration': False,\n 'balance_classes': False,\n 'class_sampling_factors': None,\n 'max_after_balance_size': 5.0,\n 'max_confusion_matrix_size': 20,\n 'max_hit_ratio_k': 0,\n 'laplace': 0.9,\n 'min_sdev': 0.1,\n 'eps_sdev': 0.6,\n 'min_prob': 1.0,\n 'eps_prob': 0.6,\n 'compute_metrics': False,\n 'max_runtime_secs': 1.7976931348623157e+308,\n 'export_checkpoints_dir': None}"
          },
          "metadata": {}
        }
      ],
      "execution_count": 66,
      "metadata": {
        "collapsed": true,
        "jupyter": {
          "source_hidden": false,
          "outputs_hidden": false
        },
        "nteract": {
          "transient": {
            "deleting": false
          }
        },
        "gather": {
          "logged": 1604249723306
        }
      }
    },
    {
      "cell_type": "code",
      "source": [
        "{**model1.actual_params}"
      ],
      "outputs": [
        {
          "output_type": "execute_result",
          "execution_count": 68,
          "data": {
            "text/plain": "{'model_id': 'Grid_NaiveBayes_py_5_sid_8e0c_model_python_1604225741410_1205_model_1',\n 'nfolds': 5,\n 'seed': 1234,\n 'fold_assignment': 'Random',\n 'fold_column': None,\n 'keep_cross_validation_models': True,\n 'keep_cross_validation_predictions': True,\n 'keep_cross_validation_fold_assignment': False,\n 'training_frame': 10,\n 'validation_frame': None,\n 'response_column': 'Resistance_Status',\n 'ignored_columns': ['SampleID'],\n 'ignore_const_cols': True,\n 'score_each_iteration': False,\n 'balance_classes': False,\n 'class_sampling_factors': None,\n 'max_after_balance_size': 5.0,\n 'max_confusion_matrix_size': 20,\n 'max_hit_ratio_k': 0,\n 'laplace': 0.9,\n 'min_sdev': 0.1,\n 'eps_sdev': 0.6,\n 'min_prob': 1.0,\n 'eps_prob': 0.6,\n 'compute_metrics': False,\n 'max_runtime_secs': 1.7976931348623157e+308,\n 'export_checkpoints_dir': None}"
          },
          "metadata": {}
        }
      ],
      "execution_count": 68,
      "metadata": {
        "collapsed": true,
        "jupyter": {
          "source_hidden": false,
          "outputs_hidden": false
        },
        "nteract": {
          "transient": {
            "deleting": false
          }
        },
        "gather": {
          "logged": 1604249782306
        }
      }
    },
    {
      "cell_type": "code",
      "source": [
        "mdl = H2ONaiveBayesEstimator(\r\n",
        "\r\n",
        " nfolds= 5,\r\n",
        " seed= 1234,\r\n",
        " fold_assignment= 'Random',\r\n",
        " fold_column= None,\r\n",
        " keep_cross_validation_models= True,\r\n",
        " keep_cross_validation_predictions= True,\r\n",
        " keep_cross_validation_fold_assignment= False,\r\n",
        " ignore_const_cols= True,\r\n",
        " score_each_iteration= False,\r\n",
        " balance_classes= False,\r\n",
        " class_sampling_factors= None,\r\n",
        " max_after_balance_size= 5.0,\r\n",
        " max_confusion_matrix_size= 20,\r\n",
        " max_hit_ratio_k= 0,\r\n",
        " laplace= 0.9,\r\n",
        " min_sdev= 0.1,\r\n",
        " eps_sdev= 0.6,\r\n",
        " min_prob= 1.0,\r\n",
        " eps_prob= 0.6,\r\n",
        " compute_metrics= False,\r\n",
        " export_checkpoints_dir= None)\r\n",
        "\r\n",
        "\r\n",
        "mdl.train(x=x, y=y, training_frame=train, validation_frame=test) \r\n",
        "\r\n",
        "mdl\r\n"
      ],
      "outputs": [
        {
          "output_type": "stream",
          "name": "stdout",
          "text": [
            "naivebayes Model Build progress: |████████████████████████████████████████| 100%\n",
            "Model Details\n",
            "=============\n",
            "H2ONaiveBayesEstimator :  Naive Bayes\n",
            "Model Key:  NaiveBayes_model_python_1604225741410_5596\n",
            "\n",
            "\n",
            "Model Summary: \n"
          ]
        },
        {
          "output_type": "display_data",
          "data": {
            "text/plain": "     number_of_response_levels  min_apriori_probability  \\\n0                          2.0                 0.346097   \n\n   max_apriori_probability  \n0                 0.653903  ",
            "text/html": "<div>\n<style scoped>\n    .dataframe tbody tr th:only-of-type {\n        vertical-align: middle;\n    }\n\n    .dataframe tbody tr th {\n        vertical-align: top;\n    }\n\n    .dataframe thead th {\n        text-align: right;\n    }\n</style>\n<table border=\"1\" class=\"dataframe\">\n  <thead>\n    <tr style=\"text-align: right;\">\n      <th></th>\n      <th></th>\n      <th>number_of_response_levels</th>\n      <th>min_apriori_probability</th>\n      <th>max_apriori_probability</th>\n    </tr>\n  </thead>\n  <tbody>\n    <tr>\n      <th>0</th>\n      <td></td>\n      <td>2.0</td>\n      <td>0.346097</td>\n      <td>0.653903</td>\n    </tr>\n  </tbody>\n</table>\n</div>"
          },
          "metadata": {}
        },
        {
          "output_type": "stream",
          "name": "stdout",
          "text": [
            "\n",
            "\n",
            "ModelMetricsBinomial: naivebayes\n",
            "** Reported on validation data. **\n",
            "\n",
            "MSE: 0.6088986395173629\n",
            "RMSE: 0.7803195752493737\n",
            "LogLoss: 9.264358009127474\n",
            "Mean Per-Class Error: 0.3510999382872908\n",
            "AUC: 0.658338476059099\n",
            "AUCPR: 0.7693302572383104\n",
            "Gini: 0.316676952118198\n",
            "\n",
            "Confusion Matrix (Act/Pred) for max f1 @ threshold = 1.6220420045776861e-12: \n",
            "\n",
            "Maximum Metrics: Maximum metrics at their respective thresholds\n",
            "\n",
            "Gains/Lift Table: Avg response rate: 67.47 %, avg score:  9.21 %\n",
            "\n",
            "\n",
            "ModelMetricsBinomial: naivebayes\n",
            "** Reported on cross-validation data. **\n",
            "\n",
            "MSE: 0.4976600357752729\n",
            "RMSE: 0.7054502362146269\n",
            "LogLoss: 10.91944247185881\n",
            "Mean Per-Class Error: 0.34568853427895985\n",
            "AUC: 0.6664420803782505\n",
            "AUCPR: 0.797701018048522\n",
            "Gini: 0.33288416075650096\n",
            "\n",
            "Confusion Matrix (Act/Pred) for max f1 @ threshold = 1.484107825917021e-11: \n",
            "\n",
            "Maximum Metrics: Maximum metrics at their respective thresholds\n"
          ]
        },
        {
          "output_type": "display_data",
          "data": {
            "text/plain": "            0      1   Error            Rate\n0      0  0.0  163.0     1.0   (163.0/163.0)\n1      1  0.0  338.0     0.0     (0.0/338.0)\n2  Total  0.0  501.0  0.3253   (163.0/501.0)",
            "text/html": "<div>\n<style scoped>\n    .dataframe tbody tr th:only-of-type {\n        vertical-align: middle;\n    }\n\n    .dataframe tbody tr th {\n        vertical-align: top;\n    }\n\n    .dataframe thead th {\n        text-align: right;\n    }\n</style>\n<table border=\"1\" class=\"dataframe\">\n  <thead>\n    <tr style=\"text-align: right;\">\n      <th></th>\n      <th></th>\n      <th>0</th>\n      <th>1</th>\n      <th>Error</th>\n      <th>Rate</th>\n    </tr>\n  </thead>\n  <tbody>\n    <tr>\n      <th>0</th>\n      <td>0</td>\n      <td>0.0</td>\n      <td>163.0</td>\n      <td>1.0</td>\n      <td>(163.0/163.0)</td>\n    </tr>\n    <tr>\n      <th>1</th>\n      <td>1</td>\n      <td>0.0</td>\n      <td>338.0</td>\n      <td>0.0</td>\n      <td>(0.0/338.0)</td>\n    </tr>\n    <tr>\n      <th>2</th>\n      <td>Total</td>\n      <td>0.0</td>\n      <td>501.0</td>\n      <td>0.3253</td>\n      <td>(163.0/501.0)</td>\n    </tr>\n  </tbody>\n</table>\n</div>"
          },
          "metadata": {}
        },
        {
          "output_type": "display_data",
          "data": {
            "text/plain": "                         metric     threshold       value    idx\n0                        max f1  1.622042e-12    0.805721  399.0\n1                        max f2  1.622042e-12    0.912035  399.0\n2                  max f0point5  1.191813e-07    0.761745  270.0\n3                  max accuracy  4.758154e-10    0.680639  392.0\n4                 max precision  1.864487e-05    0.863636  115.0\n5                    max recall  1.622042e-12    1.000000  399.0\n6               max specificity  1.000000e+00    0.957055    0.0\n7              max absolute_mcc  1.191813e-07    0.281809  270.0\n8    max min_per_class_accuracy  1.654924e-07    0.639053  257.0\n9   max mean_per_class_accuracy  1.303375e-07    0.648900  265.0\n10                      max tns  1.000000e+00  156.000000    0.0\n11                      max fns  1.000000e+00  328.000000    0.0\n12                      max fps  1.622042e-12  163.000000  399.0\n13                      max tps  1.622042e-12  338.000000  399.0\n14                      max tnr  1.000000e+00    0.957055    0.0\n15                      max fnr  1.000000e+00    0.970414    0.0\n16                      max fpr  1.622042e-12    1.000000  399.0\n17                      max tpr  1.622042e-12    1.000000  399.0",
            "text/html": "<div>\n<style scoped>\n    .dataframe tbody tr th:only-of-type {\n        vertical-align: middle;\n    }\n\n    .dataframe tbody tr th {\n        vertical-align: top;\n    }\n\n    .dataframe thead th {\n        text-align: right;\n    }\n</style>\n<table border=\"1\" class=\"dataframe\">\n  <thead>\n    <tr style=\"text-align: right;\">\n      <th></th>\n      <th>metric</th>\n      <th>threshold</th>\n      <th>value</th>\n      <th>idx</th>\n    </tr>\n  </thead>\n  <tbody>\n    <tr>\n      <th>0</th>\n      <td>max f1</td>\n      <td>1.622042e-12</td>\n      <td>0.805721</td>\n      <td>399.0</td>\n    </tr>\n    <tr>\n      <th>1</th>\n      <td>max f2</td>\n      <td>1.622042e-12</td>\n      <td>0.912035</td>\n      <td>399.0</td>\n    </tr>\n    <tr>\n      <th>2</th>\n      <td>max f0point5</td>\n      <td>1.191813e-07</td>\n      <td>0.761745</td>\n      <td>270.0</td>\n    </tr>\n    <tr>\n      <th>3</th>\n      <td>max accuracy</td>\n      <td>4.758154e-10</td>\n      <td>0.680639</td>\n      <td>392.0</td>\n    </tr>\n    <tr>\n      <th>4</th>\n      <td>max precision</td>\n      <td>1.864487e-05</td>\n      <td>0.863636</td>\n      <td>115.0</td>\n    </tr>\n    <tr>\n      <th>5</th>\n      <td>max recall</td>\n      <td>1.622042e-12</td>\n      <td>1.000000</td>\n      <td>399.0</td>\n    </tr>\n    <tr>\n      <th>6</th>\n      <td>max specificity</td>\n      <td>1.000000e+00</td>\n      <td>0.957055</td>\n      <td>0.0</td>\n    </tr>\n    <tr>\n      <th>7</th>\n      <td>max absolute_mcc</td>\n      <td>1.191813e-07</td>\n      <td>0.281809</td>\n      <td>270.0</td>\n    </tr>\n    <tr>\n      <th>8</th>\n      <td>max min_per_class_accuracy</td>\n      <td>1.654924e-07</td>\n      <td>0.639053</td>\n      <td>257.0</td>\n    </tr>\n    <tr>\n      <th>9</th>\n      <td>max mean_per_class_accuracy</td>\n      <td>1.303375e-07</td>\n      <td>0.648900</td>\n      <td>265.0</td>\n    </tr>\n    <tr>\n      <th>10</th>\n      <td>max tns</td>\n      <td>1.000000e+00</td>\n      <td>156.000000</td>\n      <td>0.0</td>\n    </tr>\n    <tr>\n      <th>11</th>\n      <td>max fns</td>\n      <td>1.000000e+00</td>\n      <td>328.000000</td>\n      <td>0.0</td>\n    </tr>\n    <tr>\n      <th>12</th>\n      <td>max fps</td>\n      <td>1.622042e-12</td>\n      <td>163.000000</td>\n      <td>399.0</td>\n    </tr>\n    <tr>\n      <th>13</th>\n      <td>max tps</td>\n      <td>1.622042e-12</td>\n      <td>338.000000</td>\n      <td>399.0</td>\n    </tr>\n    <tr>\n      <th>14</th>\n      <td>max tnr</td>\n      <td>1.000000e+00</td>\n      <td>0.957055</td>\n      <td>0.0</td>\n    </tr>\n    <tr>\n      <th>15</th>\n      <td>max fnr</td>\n      <td>1.000000e+00</td>\n      <td>0.970414</td>\n      <td>0.0</td>\n    </tr>\n    <tr>\n      <th>16</th>\n      <td>max fpr</td>\n      <td>1.622042e-12</td>\n      <td>1.000000</td>\n      <td>399.0</td>\n    </tr>\n    <tr>\n      <th>17</th>\n      <td>max tpr</td>\n      <td>1.622042e-12</td>\n      <td>1.000000</td>\n      <td>399.0</td>\n    </tr>\n  </tbody>\n</table>\n</div>"
          },
          "metadata": {}
        },
        {
          "output_type": "display_data",
          "data": {
            "text/plain": "      group  cumulative_data_fraction  lower_threshold      lift  \\\n0         1                  0.011976     1.000000e+00  0.988166   \n1         2                  0.021956     1.000000e+00  0.889349   \n2         3                  0.031936     1.000000e+00  0.592899   \n3         4                  0.041916     9.995931e-01  1.185799   \n4         5                  0.051896     9.806915e-01  1.482249   \n5         6                  0.101796     3.700749e-01  1.363669   \n6         7                  0.151697     4.518398e-03  1.422959   \n7         8                  0.201597     3.522155e-04  1.126509   \n8         9                  0.301397     6.534158e-06  1.215444   \n9        10                  0.401198     1.673965e-06  1.037574   \n10       11                  0.500998     3.297601e-07  1.156154   \n11       12                  0.600798     9.387908e-08  0.918994   \n12       13                  0.700599     3.028945e-08  0.800414   \n13       14                  0.800399     2.872762e-09  0.830059   \n14       15                  0.900200     7.934607e-12  0.859704   \n15       16                  1.000000     2.078427e-19  0.711479   \n\n    cumulative_lift  response_rate         score  cumulative_response_rate  \\\n0          0.988166       0.666667  1.000000e+00                  0.666667   \n1          0.943249       0.600000  1.000000e+00                  0.636364   \n2          0.833765       0.400000  1.000000e+00                  0.562500   \n3          0.917582       0.800000  9.999018e-01                  0.619048   \n4          1.026172       1.000000  9.906748e-01                  0.692308   \n5          1.191612       0.920000  7.018496e-01                  0.803922   \n6          1.267713       0.960000  1.041585e-01                  0.855263   \n7          1.232761       0.760000  1.112863e-03                  0.831683   \n8          1.227027       0.820000  5.820506e-05                  0.827815   \n9          1.179899       0.700000  3.577505e-06                  0.796020   \n10         1.175169       0.780000  7.819073e-07                  0.792829   \n11         1.132615       0.620000  1.801246e-07                  0.764120   \n12         1.085293       0.540000  5.716029e-08                  0.732194   \n13         1.053468       0.560000  1.486817e-08                  0.710723   \n14         1.031987       0.580000  4.968046e-10                  0.696231   \n15         1.000000       0.480000  1.034326e-12                  0.674651   \n\n    cumulative_score  capture_rate  cumulative_capture_rate       gain  \\\n0           1.000000      0.011834                 0.011834  -1.183432   \n1           1.000000      0.008876                 0.020710 -11.065089   \n2           1.000000      0.005917                 0.026627 -40.710059   \n3           0.999977      0.011834                 0.038462  18.579882   \n4           0.998188      0.014793                 0.053254  48.224852   \n5           0.852924      0.068047                 0.121302  36.366864   \n6           0.606620      0.071006                 0.192308  42.295858   \n7           0.456742      0.056213                 0.248521  12.650888   \n8           0.305522      0.121302                 0.369822  21.544379   \n9           0.229522      0.103550                 0.473373   3.757396   \n10          0.183801      0.115385                 0.588757  15.615385   \n11          0.153269      0.091716                 0.680473  -8.100592   \n12          0.131436      0.079882                 0.760355 -19.958580   \n13          0.115048      0.082840                 0.843195 -16.994083   \n14          0.102293      0.085799                 0.928994 -14.029586   \n15          0.092084      0.071006                 1.000000 -28.852071   \n\n    cumulative_gain  \n0         -1.183432  \n1         -5.675094  \n2        -16.623521  \n3         -8.241758  \n4          2.617205  \n5         19.161156  \n6         26.771255  \n7         23.276115  \n8         22.702692  \n9         17.989932  \n10        17.516915  \n11        13.261515  \n12         8.529308  \n13         5.346840  \n14         3.198677  \n15         0.000000  ",
            "text/html": "<div>\n<style scoped>\n    .dataframe tbody tr th:only-of-type {\n        vertical-align: middle;\n    }\n\n    .dataframe tbody tr th {\n        vertical-align: top;\n    }\n\n    .dataframe thead th {\n        text-align: right;\n    }\n</style>\n<table border=\"1\" class=\"dataframe\">\n  <thead>\n    <tr style=\"text-align: right;\">\n      <th></th>\n      <th></th>\n      <th>group</th>\n      <th>cumulative_data_fraction</th>\n      <th>lower_threshold</th>\n      <th>lift</th>\n      <th>cumulative_lift</th>\n      <th>response_rate</th>\n      <th>score</th>\n      <th>cumulative_response_rate</th>\n      <th>cumulative_score</th>\n      <th>capture_rate</th>\n      <th>cumulative_capture_rate</th>\n      <th>gain</th>\n      <th>cumulative_gain</th>\n    </tr>\n  </thead>\n  <tbody>\n    <tr>\n      <th>0</th>\n      <td></td>\n      <td>1</td>\n      <td>0.011976</td>\n      <td>1.000000e+00</td>\n      <td>0.988166</td>\n      <td>0.988166</td>\n      <td>0.666667</td>\n      <td>1.000000e+00</td>\n      <td>0.666667</td>\n      <td>1.000000</td>\n      <td>0.011834</td>\n      <td>0.011834</td>\n      <td>-1.183432</td>\n      <td>-1.183432</td>\n    </tr>\n    <tr>\n      <th>1</th>\n      <td></td>\n      <td>2</td>\n      <td>0.021956</td>\n      <td>1.000000e+00</td>\n      <td>0.889349</td>\n      <td>0.943249</td>\n      <td>0.600000</td>\n      <td>1.000000e+00</td>\n      <td>0.636364</td>\n      <td>1.000000</td>\n      <td>0.008876</td>\n      <td>0.020710</td>\n      <td>-11.065089</td>\n      <td>-5.675094</td>\n    </tr>\n    <tr>\n      <th>2</th>\n      <td></td>\n      <td>3</td>\n      <td>0.031936</td>\n      <td>1.000000e+00</td>\n      <td>0.592899</td>\n      <td>0.833765</td>\n      <td>0.400000</td>\n      <td>1.000000e+00</td>\n      <td>0.562500</td>\n      <td>1.000000</td>\n      <td>0.005917</td>\n      <td>0.026627</td>\n      <td>-40.710059</td>\n      <td>-16.623521</td>\n    </tr>\n    <tr>\n      <th>3</th>\n      <td></td>\n      <td>4</td>\n      <td>0.041916</td>\n      <td>9.995931e-01</td>\n      <td>1.185799</td>\n      <td>0.917582</td>\n      <td>0.800000</td>\n      <td>9.999018e-01</td>\n      <td>0.619048</td>\n      <td>0.999977</td>\n      <td>0.011834</td>\n      <td>0.038462</td>\n      <td>18.579882</td>\n      <td>-8.241758</td>\n    </tr>\n    <tr>\n      <th>4</th>\n      <td></td>\n      <td>5</td>\n      <td>0.051896</td>\n      <td>9.806915e-01</td>\n      <td>1.482249</td>\n      <td>1.026172</td>\n      <td>1.000000</td>\n      <td>9.906748e-01</td>\n      <td>0.692308</td>\n      <td>0.998188</td>\n      <td>0.014793</td>\n      <td>0.053254</td>\n      <td>48.224852</td>\n      <td>2.617205</td>\n    </tr>\n    <tr>\n      <th>5</th>\n      <td></td>\n      <td>6</td>\n      <td>0.101796</td>\n      <td>3.700749e-01</td>\n      <td>1.363669</td>\n      <td>1.191612</td>\n      <td>0.920000</td>\n      <td>7.018496e-01</td>\n      <td>0.803922</td>\n      <td>0.852924</td>\n      <td>0.068047</td>\n      <td>0.121302</td>\n      <td>36.366864</td>\n      <td>19.161156</td>\n    </tr>\n    <tr>\n      <th>6</th>\n      <td></td>\n      <td>7</td>\n      <td>0.151697</td>\n      <td>4.518398e-03</td>\n      <td>1.422959</td>\n      <td>1.267713</td>\n      <td>0.960000</td>\n      <td>1.041585e-01</td>\n      <td>0.855263</td>\n      <td>0.606620</td>\n      <td>0.071006</td>\n      <td>0.192308</td>\n      <td>42.295858</td>\n      <td>26.771255</td>\n    </tr>\n    <tr>\n      <th>7</th>\n      <td></td>\n      <td>8</td>\n      <td>0.201597</td>\n      <td>3.522155e-04</td>\n      <td>1.126509</td>\n      <td>1.232761</td>\n      <td>0.760000</td>\n      <td>1.112863e-03</td>\n      <td>0.831683</td>\n      <td>0.456742</td>\n      <td>0.056213</td>\n      <td>0.248521</td>\n      <td>12.650888</td>\n      <td>23.276115</td>\n    </tr>\n    <tr>\n      <th>8</th>\n      <td></td>\n      <td>9</td>\n      <td>0.301397</td>\n      <td>6.534158e-06</td>\n      <td>1.215444</td>\n      <td>1.227027</td>\n      <td>0.820000</td>\n      <td>5.820506e-05</td>\n      <td>0.827815</td>\n      <td>0.305522</td>\n      <td>0.121302</td>\n      <td>0.369822</td>\n      <td>21.544379</td>\n      <td>22.702692</td>\n    </tr>\n    <tr>\n      <th>9</th>\n      <td></td>\n      <td>10</td>\n      <td>0.401198</td>\n      <td>1.673965e-06</td>\n      <td>1.037574</td>\n      <td>1.179899</td>\n      <td>0.700000</td>\n      <td>3.577505e-06</td>\n      <td>0.796020</td>\n      <td>0.229522</td>\n      <td>0.103550</td>\n      <td>0.473373</td>\n      <td>3.757396</td>\n      <td>17.989932</td>\n    </tr>\n    <tr>\n      <th>10</th>\n      <td></td>\n      <td>11</td>\n      <td>0.500998</td>\n      <td>3.297601e-07</td>\n      <td>1.156154</td>\n      <td>1.175169</td>\n      <td>0.780000</td>\n      <td>7.819073e-07</td>\n      <td>0.792829</td>\n      <td>0.183801</td>\n      <td>0.115385</td>\n      <td>0.588757</td>\n      <td>15.615385</td>\n      <td>17.516915</td>\n    </tr>\n    <tr>\n      <th>11</th>\n      <td></td>\n      <td>12</td>\n      <td>0.600798</td>\n      <td>9.387908e-08</td>\n      <td>0.918994</td>\n      <td>1.132615</td>\n      <td>0.620000</td>\n      <td>1.801246e-07</td>\n      <td>0.764120</td>\n      <td>0.153269</td>\n      <td>0.091716</td>\n      <td>0.680473</td>\n      <td>-8.100592</td>\n      <td>13.261515</td>\n    </tr>\n    <tr>\n      <th>12</th>\n      <td></td>\n      <td>13</td>\n      <td>0.700599</td>\n      <td>3.028945e-08</td>\n      <td>0.800414</td>\n      <td>1.085293</td>\n      <td>0.540000</td>\n      <td>5.716029e-08</td>\n      <td>0.732194</td>\n      <td>0.131436</td>\n      <td>0.079882</td>\n      <td>0.760355</td>\n      <td>-19.958580</td>\n      <td>8.529308</td>\n    </tr>\n    <tr>\n      <th>13</th>\n      <td></td>\n      <td>14</td>\n      <td>0.800399</td>\n      <td>2.872762e-09</td>\n      <td>0.830059</td>\n      <td>1.053468</td>\n      <td>0.560000</td>\n      <td>1.486817e-08</td>\n      <td>0.710723</td>\n      <td>0.115048</td>\n      <td>0.082840</td>\n      <td>0.843195</td>\n      <td>-16.994083</td>\n      <td>5.346840</td>\n    </tr>\n    <tr>\n      <th>14</th>\n      <td></td>\n      <td>15</td>\n      <td>0.900200</td>\n      <td>7.934607e-12</td>\n      <td>0.859704</td>\n      <td>1.031987</td>\n      <td>0.580000</td>\n      <td>4.968046e-10</td>\n      <td>0.696231</td>\n      <td>0.102293</td>\n      <td>0.085799</td>\n      <td>0.928994</td>\n      <td>-14.029586</td>\n      <td>3.198677</td>\n    </tr>\n    <tr>\n      <th>15</th>\n      <td></td>\n      <td>16</td>\n      <td>1.000000</td>\n      <td>2.078427e-19</td>\n      <td>0.711479</td>\n      <td>1.000000</td>\n      <td>0.480000</td>\n      <td>1.034326e-12</td>\n      <td>0.674651</td>\n      <td>0.092084</td>\n      <td>0.071006</td>\n      <td>1.000000</td>\n      <td>-28.852071</td>\n      <td>0.000000</td>\n    </tr>\n  </tbody>\n</table>\n</div>"
          },
          "metadata": {}
        },
        {
          "output_type": "display_data",
          "data": {
            "text/plain": "            0       1   Error             Rate\n0      0  0.0   423.0     1.0    (423.0/423.0)\n1      1  0.0   800.0     0.0      (0.0/800.0)\n2  Total  0.0  1223.0  0.3459   (423.0/1223.0)",
            "text/html": "<div>\n<style scoped>\n    .dataframe tbody tr th:only-of-type {\n        vertical-align: middle;\n    }\n\n    .dataframe tbody tr th {\n        vertical-align: top;\n    }\n\n    .dataframe thead th {\n        text-align: right;\n    }\n</style>\n<table border=\"1\" class=\"dataframe\">\n  <thead>\n    <tr style=\"text-align: right;\">\n      <th></th>\n      <th></th>\n      <th>0</th>\n      <th>1</th>\n      <th>Error</th>\n      <th>Rate</th>\n    </tr>\n  </thead>\n  <tbody>\n    <tr>\n      <th>0</th>\n      <td>0</td>\n      <td>0.0</td>\n      <td>423.0</td>\n      <td>1.0</td>\n      <td>(423.0/423.0)</td>\n    </tr>\n    <tr>\n      <th>1</th>\n      <td>1</td>\n      <td>0.0</td>\n      <td>800.0</td>\n      <td>0.0</td>\n      <td>(0.0/800.0)</td>\n    </tr>\n    <tr>\n      <th>2</th>\n      <td>Total</td>\n      <td>0.0</td>\n      <td>1223.0</td>\n      <td>0.3459</td>\n      <td>(423.0/1223.0)</td>\n    </tr>\n  </tbody>\n</table>\n</div>"
          },
          "metadata": {}
        },
        {
          "output_type": "display_data",
          "data": {
            "text/plain": "                         metric     threshold       value    idx\n0                        max f1  1.484108e-11    0.790905  399.0\n1                        max f2  1.484108e-11    0.904364  399.0\n2                  max f0point5  3.601569e-10    0.750297  398.0\n3                  max accuracy  1.484108e-11    0.654129  399.0\n4                 max precision  9.999997e-01    0.961905    4.0\n5                    max recall  1.484108e-11    1.000000  399.0\n6               max specificity  1.000000e+00    0.990544    0.0\n7              max absolute_mcc  3.601569e-10    0.293984  398.0\n8    max min_per_class_accuracy  3.601569e-10    0.632500  398.0\n9   max mean_per_class_accuracy  3.601569e-10    0.654311  398.0\n10                      max tns  1.000000e+00  419.000000    0.0\n11                      max fns  1.000000e+00  710.000000    0.0\n12                      max fps  1.484108e-11  423.000000  399.0\n13                      max tps  1.484108e-11  800.000000  399.0\n14                      max tnr  1.000000e+00    0.990544    0.0\n15                      max fnr  1.000000e+00    0.887500    0.0\n16                      max fpr  1.484108e-11    1.000000  399.0\n17                      max tpr  1.484108e-11    1.000000  399.0",
            "text/html": "<div>\n<style scoped>\n    .dataframe tbody tr th:only-of-type {\n        vertical-align: middle;\n    }\n\n    .dataframe tbody tr th {\n        vertical-align: top;\n    }\n\n    .dataframe thead th {\n        text-align: right;\n    }\n</style>\n<table border=\"1\" class=\"dataframe\">\n  <thead>\n    <tr style=\"text-align: right;\">\n      <th></th>\n      <th>metric</th>\n      <th>threshold</th>\n      <th>value</th>\n      <th>idx</th>\n    </tr>\n  </thead>\n  <tbody>\n    <tr>\n      <th>0</th>\n      <td>max f1</td>\n      <td>1.484108e-11</td>\n      <td>0.790905</td>\n      <td>399.0</td>\n    </tr>\n    <tr>\n      <th>1</th>\n      <td>max f2</td>\n      <td>1.484108e-11</td>\n      <td>0.904364</td>\n      <td>399.0</td>\n    </tr>\n    <tr>\n      <th>2</th>\n      <td>max f0point5</td>\n      <td>3.601569e-10</td>\n      <td>0.750297</td>\n      <td>398.0</td>\n    </tr>\n    <tr>\n      <th>3</th>\n      <td>max accuracy</td>\n      <td>1.484108e-11</td>\n      <td>0.654129</td>\n      <td>399.0</td>\n    </tr>\n    <tr>\n      <th>4</th>\n      <td>max precision</td>\n      <td>9.999997e-01</td>\n      <td>0.961905</td>\n      <td>4.0</td>\n    </tr>\n    <tr>\n      <th>5</th>\n      <td>max recall</td>\n      <td>1.484108e-11</td>\n      <td>1.000000</td>\n      <td>399.0</td>\n    </tr>\n    <tr>\n      <th>6</th>\n      <td>max specificity</td>\n      <td>1.000000e+00</td>\n      <td>0.990544</td>\n      <td>0.0</td>\n    </tr>\n    <tr>\n      <th>7</th>\n      <td>max absolute_mcc</td>\n      <td>3.601569e-10</td>\n      <td>0.293984</td>\n      <td>398.0</td>\n    </tr>\n    <tr>\n      <th>8</th>\n      <td>max min_per_class_accuracy</td>\n      <td>3.601569e-10</td>\n      <td>0.632500</td>\n      <td>398.0</td>\n    </tr>\n    <tr>\n      <th>9</th>\n      <td>max mean_per_class_accuracy</td>\n      <td>3.601569e-10</td>\n      <td>0.654311</td>\n      <td>398.0</td>\n    </tr>\n    <tr>\n      <th>10</th>\n      <td>max tns</td>\n      <td>1.000000e+00</td>\n      <td>419.000000</td>\n      <td>0.0</td>\n    </tr>\n    <tr>\n      <th>11</th>\n      <td>max fns</td>\n      <td>1.000000e+00</td>\n      <td>710.000000</td>\n      <td>0.0</td>\n    </tr>\n    <tr>\n      <th>12</th>\n      <td>max fps</td>\n      <td>1.484108e-11</td>\n      <td>423.000000</td>\n      <td>399.0</td>\n    </tr>\n    <tr>\n      <th>13</th>\n      <td>max tps</td>\n      <td>1.484108e-11</td>\n      <td>800.000000</td>\n      <td>399.0</td>\n    </tr>\n    <tr>\n      <th>14</th>\n      <td>max tnr</td>\n      <td>1.000000e+00</td>\n      <td>0.990544</td>\n      <td>0.0</td>\n    </tr>\n    <tr>\n      <th>15</th>\n      <td>max fnr</td>\n      <td>1.000000e+00</td>\n      <td>0.887500</td>\n      <td>0.0</td>\n    </tr>\n    <tr>\n      <th>16</th>\n      <td>max fpr</td>\n      <td>1.484108e-11</td>\n      <td>1.000000</td>\n      <td>399.0</td>\n    </tr>\n    <tr>\n      <th>17</th>\n      <td>max tpr</td>\n      <td>1.484108e-11</td>\n      <td>1.000000</td>\n      <td>399.0</td>\n    </tr>\n  </tbody>\n</table>\n</div>"
          },
          "metadata": {}
        },
        {
          "output_type": "stream",
          "name": "stdout",
          "text": [
            "\n",
            "Gains/Lift Table: Avg response rate: 65.41 %, avg score: 22.07 %\n",
            "\n",
            "\n",
            "Cross-Validation Metrics Summary: \n",
            "\n",
            "See the whole table with table.as_data_frame()\n"
          ]
        },
        {
          "output_type": "display_data",
          "data": {
            "text/plain": "      group  cumulative_data_fraction  lower_threshold      lift  \\\n0         1                  0.018806     1.000000e+00  1.528750   \n1         2                  0.022077     1.000000e+00  1.146562   \n2         3                  0.030253     1.000000e+00  1.528750   \n3         4                  0.040065     1.000000e+00  1.401354   \n4         5                  0.050695     1.000000e+00  1.411154   \n5         6                  0.100572     9.999908e-01  1.453566   \n6         7                  0.150450     9.942224e-01  1.253074   \n7         8                  0.200327     9.183396e-01  1.077643   \n8         9                  0.300082     2.951471e-05  1.027520   \n9        10                  0.399836     9.812856e-08  1.127766   \n10       11                  0.500409     8.745437e-10  1.205600   \n11       12                  0.600164     1.330824e-11  1.127766   \n12       13                  0.699918     2.567750e-14  0.789436   \n13       14                  0.799673     5.017828e-17  0.852090   \n14       15                  0.899428     9.905720e-20  0.889682   \n15       16                  1.000000     9.406666e-43  0.360437   \n\n    cumulative_lift  response_rate         score  cumulative_response_rate  \\\n0          1.528750       1.000000  1.000000e+00                  1.000000   \n1          1.472130       0.750000  1.000000e+00                  0.962963   \n2          1.487432       1.000000  1.000000e+00                  0.972973   \n3          1.466352       0.916667  1.000000e+00                  0.959184   \n4          1.454778       0.923077  1.000000e+00                  0.951613   \n5          1.454177       0.950820  9.999989e-01                  0.951220   \n6          1.387507       0.819672  9.988436e-01                  0.907609   \n7          1.310357       0.704918  9.694092e-01                  0.857143   \n8          1.216335       0.672131  2.199444e-01                  0.795640   \n9          1.194238       0.737705  3.653452e-06                  0.781186   \n10         1.196522       0.788618  2.179165e-08                  0.782680   \n11         1.185094       0.737705  1.766948e-10                  0.775204   \n12         1.128703       0.516393  2.769943e-12                  0.738318   \n13         1.094197       0.557377  3.823050e-15                  0.715746   \n14         1.071515       0.581967  1.050178e-17                  0.700909   \n15         1.000000       0.235772  4.100227e-21                  0.654129   \n\n    cumulative_score  capture_rate  cumulative_capture_rate       gain  \\\n0           1.000000       0.02875                  0.02875  52.875000   \n1           1.000000       0.00375                  0.03250  14.656250   \n2           1.000000       0.01250                  0.04500  52.875000   \n3           1.000000       0.01375                  0.05875  40.135417   \n4           1.000000       0.01500                  0.07375  41.115385   \n5           0.999999       0.07250                  0.14625  45.356557   \n6           0.999616       0.06250                  0.20875  25.307377   \n7           0.992095       0.05375                  0.26250   7.764344   \n8           0.735413       0.10250                  0.36500   2.752049   \n9           0.551937       0.11250                  0.47750  12.776639   \n10          0.441008       0.12125                  0.59875  20.559959   \n11          0.367707       0.11250                  0.71125  12.776639   \n12          0.315300       0.07875                  0.79000 -21.056352   \n13          0.275968       0.08500                  0.87500 -14.790984   \n14          0.245361       0.08875                  0.96375 -11.031762   \n15          0.220684       0.03625                  1.00000 -63.956301   \n\n    cumulative_gain  \n0         52.875000  \n1         47.212963  \n2         48.743243  \n3         46.635204  \n4         45.477823  \n5         45.417683  \n6         38.750679  \n7         31.035714  \n8         21.633515  \n9         19.423824  \n10        19.652165  \n11        18.509366  \n12        12.870327  \n13         9.419734  \n14         7.151477  \n15         0.000000  ",
            "text/html": "<div>\n<style scoped>\n    .dataframe tbody tr th:only-of-type {\n        vertical-align: middle;\n    }\n\n    .dataframe tbody tr th {\n        vertical-align: top;\n    }\n\n    .dataframe thead th {\n        text-align: right;\n    }\n</style>\n<table border=\"1\" class=\"dataframe\">\n  <thead>\n    <tr style=\"text-align: right;\">\n      <th></th>\n      <th></th>\n      <th>group</th>\n      <th>cumulative_data_fraction</th>\n      <th>lower_threshold</th>\n      <th>lift</th>\n      <th>cumulative_lift</th>\n      <th>response_rate</th>\n      <th>score</th>\n      <th>cumulative_response_rate</th>\n      <th>cumulative_score</th>\n      <th>capture_rate</th>\n      <th>cumulative_capture_rate</th>\n      <th>gain</th>\n      <th>cumulative_gain</th>\n    </tr>\n  </thead>\n  <tbody>\n    <tr>\n      <th>0</th>\n      <td></td>\n      <td>1</td>\n      <td>0.018806</td>\n      <td>1.000000e+00</td>\n      <td>1.528750</td>\n      <td>1.528750</td>\n      <td>1.000000</td>\n      <td>1.000000e+00</td>\n      <td>1.000000</td>\n      <td>1.000000</td>\n      <td>0.02875</td>\n      <td>0.02875</td>\n      <td>52.875000</td>\n      <td>52.875000</td>\n    </tr>\n    <tr>\n      <th>1</th>\n      <td></td>\n      <td>2</td>\n      <td>0.022077</td>\n      <td>1.000000e+00</td>\n      <td>1.146562</td>\n      <td>1.472130</td>\n      <td>0.750000</td>\n      <td>1.000000e+00</td>\n      <td>0.962963</td>\n      <td>1.000000</td>\n      <td>0.00375</td>\n      <td>0.03250</td>\n      <td>14.656250</td>\n      <td>47.212963</td>\n    </tr>\n    <tr>\n      <th>2</th>\n      <td></td>\n      <td>3</td>\n      <td>0.030253</td>\n      <td>1.000000e+00</td>\n      <td>1.528750</td>\n      <td>1.487432</td>\n      <td>1.000000</td>\n      <td>1.000000e+00</td>\n      <td>0.972973</td>\n      <td>1.000000</td>\n      <td>0.01250</td>\n      <td>0.04500</td>\n      <td>52.875000</td>\n      <td>48.743243</td>\n    </tr>\n    <tr>\n      <th>3</th>\n      <td></td>\n      <td>4</td>\n      <td>0.040065</td>\n      <td>1.000000e+00</td>\n      <td>1.401354</td>\n      <td>1.466352</td>\n      <td>0.916667</td>\n      <td>1.000000e+00</td>\n      <td>0.959184</td>\n      <td>1.000000</td>\n      <td>0.01375</td>\n      <td>0.05875</td>\n      <td>40.135417</td>\n      <td>46.635204</td>\n    </tr>\n    <tr>\n      <th>4</th>\n      <td></td>\n      <td>5</td>\n      <td>0.050695</td>\n      <td>1.000000e+00</td>\n      <td>1.411154</td>\n      <td>1.454778</td>\n      <td>0.923077</td>\n      <td>1.000000e+00</td>\n      <td>0.951613</td>\n      <td>1.000000</td>\n      <td>0.01500</td>\n      <td>0.07375</td>\n      <td>41.115385</td>\n      <td>45.477823</td>\n    </tr>\n    <tr>\n      <th>5</th>\n      <td></td>\n      <td>6</td>\n      <td>0.100572</td>\n      <td>9.999908e-01</td>\n      <td>1.453566</td>\n      <td>1.454177</td>\n      <td>0.950820</td>\n      <td>9.999989e-01</td>\n      <td>0.951220</td>\n      <td>0.999999</td>\n      <td>0.07250</td>\n      <td>0.14625</td>\n      <td>45.356557</td>\n      <td>45.417683</td>\n    </tr>\n    <tr>\n      <th>6</th>\n      <td></td>\n      <td>7</td>\n      <td>0.150450</td>\n      <td>9.942224e-01</td>\n      <td>1.253074</td>\n      <td>1.387507</td>\n      <td>0.819672</td>\n      <td>9.988436e-01</td>\n      <td>0.907609</td>\n      <td>0.999616</td>\n      <td>0.06250</td>\n      <td>0.20875</td>\n      <td>25.307377</td>\n      <td>38.750679</td>\n    </tr>\n    <tr>\n      <th>7</th>\n      <td></td>\n      <td>8</td>\n      <td>0.200327</td>\n      <td>9.183396e-01</td>\n      <td>1.077643</td>\n      <td>1.310357</td>\n      <td>0.704918</td>\n      <td>9.694092e-01</td>\n      <td>0.857143</td>\n      <td>0.992095</td>\n      <td>0.05375</td>\n      <td>0.26250</td>\n      <td>7.764344</td>\n      <td>31.035714</td>\n    </tr>\n    <tr>\n      <th>8</th>\n      <td></td>\n      <td>9</td>\n      <td>0.300082</td>\n      <td>2.951471e-05</td>\n      <td>1.027520</td>\n      <td>1.216335</td>\n      <td>0.672131</td>\n      <td>2.199444e-01</td>\n      <td>0.795640</td>\n      <td>0.735413</td>\n      <td>0.10250</td>\n      <td>0.36500</td>\n      <td>2.752049</td>\n      <td>21.633515</td>\n    </tr>\n    <tr>\n      <th>9</th>\n      <td></td>\n      <td>10</td>\n      <td>0.399836</td>\n      <td>9.812856e-08</td>\n      <td>1.127766</td>\n      <td>1.194238</td>\n      <td>0.737705</td>\n      <td>3.653452e-06</td>\n      <td>0.781186</td>\n      <td>0.551937</td>\n      <td>0.11250</td>\n      <td>0.47750</td>\n      <td>12.776639</td>\n      <td>19.423824</td>\n    </tr>\n    <tr>\n      <th>10</th>\n      <td></td>\n      <td>11</td>\n      <td>0.500409</td>\n      <td>8.745437e-10</td>\n      <td>1.205600</td>\n      <td>1.196522</td>\n      <td>0.788618</td>\n      <td>2.179165e-08</td>\n      <td>0.782680</td>\n      <td>0.441008</td>\n      <td>0.12125</td>\n      <td>0.59875</td>\n      <td>20.559959</td>\n      <td>19.652165</td>\n    </tr>\n    <tr>\n      <th>11</th>\n      <td></td>\n      <td>12</td>\n      <td>0.600164</td>\n      <td>1.330824e-11</td>\n      <td>1.127766</td>\n      <td>1.185094</td>\n      <td>0.737705</td>\n      <td>1.766948e-10</td>\n      <td>0.775204</td>\n      <td>0.367707</td>\n      <td>0.11250</td>\n      <td>0.71125</td>\n      <td>12.776639</td>\n      <td>18.509366</td>\n    </tr>\n    <tr>\n      <th>12</th>\n      <td></td>\n      <td>13</td>\n      <td>0.699918</td>\n      <td>2.567750e-14</td>\n      <td>0.789436</td>\n      <td>1.128703</td>\n      <td>0.516393</td>\n      <td>2.769943e-12</td>\n      <td>0.738318</td>\n      <td>0.315300</td>\n      <td>0.07875</td>\n      <td>0.79000</td>\n      <td>-21.056352</td>\n      <td>12.870327</td>\n    </tr>\n    <tr>\n      <th>13</th>\n      <td></td>\n      <td>14</td>\n      <td>0.799673</td>\n      <td>5.017828e-17</td>\n      <td>0.852090</td>\n      <td>1.094197</td>\n      <td>0.557377</td>\n      <td>3.823050e-15</td>\n      <td>0.715746</td>\n      <td>0.275968</td>\n      <td>0.08500</td>\n      <td>0.87500</td>\n      <td>-14.790984</td>\n      <td>9.419734</td>\n    </tr>\n    <tr>\n      <th>14</th>\n      <td></td>\n      <td>15</td>\n      <td>0.899428</td>\n      <td>9.905720e-20</td>\n      <td>0.889682</td>\n      <td>1.071515</td>\n      <td>0.581967</td>\n      <td>1.050178e-17</td>\n      <td>0.700909</td>\n      <td>0.245361</td>\n      <td>0.08875</td>\n      <td>0.96375</td>\n      <td>-11.031762</td>\n      <td>7.151477</td>\n    </tr>\n    <tr>\n      <th>15</th>\n      <td></td>\n      <td>16</td>\n      <td>1.000000</td>\n      <td>9.406666e-43</td>\n      <td>0.360437</td>\n      <td>1.000000</td>\n      <td>0.235772</td>\n      <td>4.100227e-21</td>\n      <td>0.654129</td>\n      <td>0.220684</td>\n      <td>0.03625</td>\n      <td>1.00000</td>\n      <td>-63.956301</td>\n      <td>0.000000</td>\n    </tr>\n  </tbody>\n</table>\n</div>"
          },
          "metadata": {}
        },
        {
          "output_type": "display_data",
          "data": {
            "text/plain": "                                   mean            sd  cv_1_valid  cv_2_valid  \\\n0                  accuracy   0.7432512   0.024023822  0.74698794   0.7380952   \n1                       auc  0.76616967    0.02633042  0.76608944   0.7945493   \n2                     aucpr   0.8487915  0.0043183267  0.84857494   0.8534926   \n3                       err  0.25674877   0.024023822  0.25301206  0.26190478   \n4                 err_count        62.8      5.974948        63.0        66.0   \n5                  f0point5  0.77597517   0.033293646  0.78778136   0.7536232   \n6                        f1  0.82657146  0.0054394808   0.8235294  0.82539684   \n7                        f2    0.887159   0.040783882   0.8626761   0.9122807   \n8            lift_top_group   1.4686999    0.15053996   1.2072728   1.5849056   \n9                   logloss   10.923886      6.052298    9.333387   13.057011   \n10      max_per_class_error   0.6229174    0.21071558  0.53571427  0.67741936   \n11                      mcc  0.40667364   0.078733146  0.39972395  0.43443418   \n12  mean_per_class_accuracy    0.655922    0.07060363   0.6775974  0.65185636   \n13     mean_per_class_error    0.344078    0.07060363   0.3224026  0.34814364   \n14                      mse  0.49704036    0.11927558  0.55122846  0.54204524   \n15                   pr_auc   0.8487915  0.0043183267  0.84857494   0.8534926   \n16                precision  0.74659574    0.05169789    0.765625   0.7123288   \n17                       r2  -1.1971079    0.52212876  -1.4658526  -1.3278583   \n18                   recall   0.9347614    0.07342506   0.8909091   0.9811321   \n19                     rmse   0.7001394    0.09250118   0.7424476   0.7362372   \n\n    cv_3_valid   cv_4_valid  cv_5_valid  \n0    0.7447699    0.7095436   0.7768595  \n1   0.75998425     0.726087   0.7841383  \n2    0.8446811    0.8443926   0.8528162  \n3   0.25523013   0.29045644   0.2231405  \n4         61.0         70.0        54.0  \n5    0.7696127    0.7419355   0.8269231  \n6    0.8355795    0.8214286   0.8269231  \n7    0.9139151         0.92   0.8269231  \n8    1.5031446    1.4968944    1.551282  \n9    19.005009    2.3136234   10.910403  \n10      0.7125        0.875   0.3139535  \n11  0.39107752   0.29516304   0.5129696  \n12   0.6311714       0.5625   0.7564848  \n13  0.36882862       0.4375  0.24351521  \n14   0.5900433   0.28952947   0.5123553  \n15   0.8446811    0.8443926   0.8528162  \n16   0.7311321    0.6969697   0.8269231  \n17  -1.6496747  -0.30560252  -1.2365516  \n18   0.9748428          1.0   0.8269231  \n19  0.76814276   0.53807944  0.71579003  ",
            "text/html": "<div>\n<style scoped>\n    .dataframe tbody tr th:only-of-type {\n        vertical-align: middle;\n    }\n\n    .dataframe tbody tr th {\n        vertical-align: top;\n    }\n\n    .dataframe thead th {\n        text-align: right;\n    }\n</style>\n<table border=\"1\" class=\"dataframe\">\n  <thead>\n    <tr style=\"text-align: right;\">\n      <th></th>\n      <th></th>\n      <th>mean</th>\n      <th>sd</th>\n      <th>cv_1_valid</th>\n      <th>cv_2_valid</th>\n      <th>cv_3_valid</th>\n      <th>cv_4_valid</th>\n      <th>cv_5_valid</th>\n    </tr>\n  </thead>\n  <tbody>\n    <tr>\n      <th>0</th>\n      <td>accuracy</td>\n      <td>0.7432512</td>\n      <td>0.024023822</td>\n      <td>0.74698794</td>\n      <td>0.7380952</td>\n      <td>0.7447699</td>\n      <td>0.7095436</td>\n      <td>0.7768595</td>\n    </tr>\n    <tr>\n      <th>1</th>\n      <td>auc</td>\n      <td>0.76616967</td>\n      <td>0.02633042</td>\n      <td>0.76608944</td>\n      <td>0.7945493</td>\n      <td>0.75998425</td>\n      <td>0.726087</td>\n      <td>0.7841383</td>\n    </tr>\n    <tr>\n      <th>2</th>\n      <td>aucpr</td>\n      <td>0.8487915</td>\n      <td>0.0043183267</td>\n      <td>0.84857494</td>\n      <td>0.8534926</td>\n      <td>0.8446811</td>\n      <td>0.8443926</td>\n      <td>0.8528162</td>\n    </tr>\n    <tr>\n      <th>3</th>\n      <td>err</td>\n      <td>0.25674877</td>\n      <td>0.024023822</td>\n      <td>0.25301206</td>\n      <td>0.26190478</td>\n      <td>0.25523013</td>\n      <td>0.29045644</td>\n      <td>0.2231405</td>\n    </tr>\n    <tr>\n      <th>4</th>\n      <td>err_count</td>\n      <td>62.8</td>\n      <td>5.974948</td>\n      <td>63.0</td>\n      <td>66.0</td>\n      <td>61.0</td>\n      <td>70.0</td>\n      <td>54.0</td>\n    </tr>\n    <tr>\n      <th>5</th>\n      <td>f0point5</td>\n      <td>0.77597517</td>\n      <td>0.033293646</td>\n      <td>0.78778136</td>\n      <td>0.7536232</td>\n      <td>0.7696127</td>\n      <td>0.7419355</td>\n      <td>0.8269231</td>\n    </tr>\n    <tr>\n      <th>6</th>\n      <td>f1</td>\n      <td>0.82657146</td>\n      <td>0.0054394808</td>\n      <td>0.8235294</td>\n      <td>0.82539684</td>\n      <td>0.8355795</td>\n      <td>0.8214286</td>\n      <td>0.8269231</td>\n    </tr>\n    <tr>\n      <th>7</th>\n      <td>f2</td>\n      <td>0.887159</td>\n      <td>0.040783882</td>\n      <td>0.8626761</td>\n      <td>0.9122807</td>\n      <td>0.9139151</td>\n      <td>0.92</td>\n      <td>0.8269231</td>\n    </tr>\n    <tr>\n      <th>8</th>\n      <td>lift_top_group</td>\n      <td>1.4686999</td>\n      <td>0.15053996</td>\n      <td>1.2072728</td>\n      <td>1.5849056</td>\n      <td>1.5031446</td>\n      <td>1.4968944</td>\n      <td>1.551282</td>\n    </tr>\n    <tr>\n      <th>9</th>\n      <td>logloss</td>\n      <td>10.923886</td>\n      <td>6.052298</td>\n      <td>9.333387</td>\n      <td>13.057011</td>\n      <td>19.005009</td>\n      <td>2.3136234</td>\n      <td>10.910403</td>\n    </tr>\n    <tr>\n      <th>10</th>\n      <td>max_per_class_error</td>\n      <td>0.6229174</td>\n      <td>0.21071558</td>\n      <td>0.53571427</td>\n      <td>0.67741936</td>\n      <td>0.7125</td>\n      <td>0.875</td>\n      <td>0.3139535</td>\n    </tr>\n    <tr>\n      <th>11</th>\n      <td>mcc</td>\n      <td>0.40667364</td>\n      <td>0.078733146</td>\n      <td>0.39972395</td>\n      <td>0.43443418</td>\n      <td>0.39107752</td>\n      <td>0.29516304</td>\n      <td>0.5129696</td>\n    </tr>\n    <tr>\n      <th>12</th>\n      <td>mean_per_class_accuracy</td>\n      <td>0.655922</td>\n      <td>0.07060363</td>\n      <td>0.6775974</td>\n      <td>0.65185636</td>\n      <td>0.6311714</td>\n      <td>0.5625</td>\n      <td>0.7564848</td>\n    </tr>\n    <tr>\n      <th>13</th>\n      <td>mean_per_class_error</td>\n      <td>0.344078</td>\n      <td>0.07060363</td>\n      <td>0.3224026</td>\n      <td>0.34814364</td>\n      <td>0.36882862</td>\n      <td>0.4375</td>\n      <td>0.24351521</td>\n    </tr>\n    <tr>\n      <th>14</th>\n      <td>mse</td>\n      <td>0.49704036</td>\n      <td>0.11927558</td>\n      <td>0.55122846</td>\n      <td>0.54204524</td>\n      <td>0.5900433</td>\n      <td>0.28952947</td>\n      <td>0.5123553</td>\n    </tr>\n    <tr>\n      <th>15</th>\n      <td>pr_auc</td>\n      <td>0.8487915</td>\n      <td>0.0043183267</td>\n      <td>0.84857494</td>\n      <td>0.8534926</td>\n      <td>0.8446811</td>\n      <td>0.8443926</td>\n      <td>0.8528162</td>\n    </tr>\n    <tr>\n      <th>16</th>\n      <td>precision</td>\n      <td>0.74659574</td>\n      <td>0.05169789</td>\n      <td>0.765625</td>\n      <td>0.7123288</td>\n      <td>0.7311321</td>\n      <td>0.6969697</td>\n      <td>0.8269231</td>\n    </tr>\n    <tr>\n      <th>17</th>\n      <td>r2</td>\n      <td>-1.1971079</td>\n      <td>0.52212876</td>\n      <td>-1.4658526</td>\n      <td>-1.3278583</td>\n      <td>-1.6496747</td>\n      <td>-0.30560252</td>\n      <td>-1.2365516</td>\n    </tr>\n    <tr>\n      <th>18</th>\n      <td>recall</td>\n      <td>0.9347614</td>\n      <td>0.07342506</td>\n      <td>0.8909091</td>\n      <td>0.9811321</td>\n      <td>0.9748428</td>\n      <td>1.0</td>\n      <td>0.8269231</td>\n    </tr>\n    <tr>\n      <th>19</th>\n      <td>rmse</td>\n      <td>0.7001394</td>\n      <td>0.09250118</td>\n      <td>0.7424476</td>\n      <td>0.7362372</td>\n      <td>0.76814276</td>\n      <td>0.53807944</td>\n      <td>0.71579003</td>\n    </tr>\n  </tbody>\n</table>\n</div>"
          },
          "metadata": {}
        },
        {
          "output_type": "execute_result",
          "execution_count": 73,
          "data": {
            "text/plain": ""
          },
          "metadata": {}
        }
      ],
      "execution_count": 73,
      "metadata": {
        "collapsed": true,
        "jupyter": {
          "source_hidden": false,
          "outputs_hidden": false
        },
        "nteract": {
          "transient": {
            "deleting": false
          }
        },
        "gather": {
          "logged": 1604250100425
        }
      }
    },
    {
      "cell_type": "markdown",
      "source": [
        "## Train a grid of models"
      ],
      "metadata": {
        "nteract": {
          "transient": {
            "deleting": false
          }
        }
      }
    },
    {
      "cell_type": "code",
      "source": [
        "from h2o.grid.grid_search import H2OGridSearch\r\n",
        "from h2o.estimators import H2ONaiveBayesEstimator\r\n",
        "\r\n",
        "MAX_MODELS= 10\r\n",
        "\r\n",
        "\r\n",
        "hyper_params = {\r\n",
        "                \"laplace\": [0.1, 0.6, 0.9],\r\n",
        "                \"eps_sdev\": [0.6, 0.9],\r\n",
        "                \"eps_prob\": [0.6, 0.9],\r\n",
        "                \"compute_metrics\": [True, False]\r\n",
        "                }\r\n",
        "\r\n",
        "search_criteria = {\"strategy\": \"RandomDiscrete\", \r\n",
        "                   \"max_models\": MAX_MODELS}\r\n",
        "\r\n",
        "\r\n",
        "\r\n",
        "base_model = H2ONaiveBayesEstimator(\r\n",
        "                                 nfolds=nfolds, \r\n",
        "                                 fold_assignment = \"random\",\r\n",
        "                                 keep_cross_validation_predictions = True,\r\n",
        "                                 seed=1234)\r\n",
        "\r\n",
        "\r\n",
        "\r\n",
        "\r\n",
        "# Train the grid\r\n",
        "nb_grid = H2OGridSearch(model=base_model,\r\n",
        "                     hyper_params=hyper_params,\r\n",
        "                     search_criteria=search_criteria)\r\n",
        "\r\n",
        "\r\n",
        "nb_grid.train(x=x, y=y, training_frame=train, validation_frame=test) \r\n",
        "\r\n"
      ],
      "outputs": [
        {
          "output_type": "stream",
          "name": "stdout",
          "text": [
            "naivebayes Grid Build progress: |█████████████████████████████████████████| 100%\n"
          ]
        }
      ],
      "execution_count": 53,
      "metadata": {
        "collapsed": true,
        "jupyter": {
          "source_hidden": false,
          "outputs_hidden": false
        },
        "nteract": {
          "transient": {
            "deleting": false
          }
        },
        "gather": {
          "logged": 1604248996450
        }
      }
    },
    {
      "cell_type": "code",
      "source": [
        "nb_grid_sorted = nb_grid.get_grid(sort_by='auc', decreasing=True)\r\n",
        "nb_grid_sorted"
      ],
      "outputs": [
        {
          "output_type": "stream",
          "name": "stdout",
          "text": [
            "    compute_metrics eps_prob eps_sdev laplace  \\\n",
            "0              true      0.6      0.6     0.1   \n",
            "1             false      0.6      0.6     0.1   \n",
            "2              true      0.9      0.6     0.6   \n",
            "3             false      0.6      0.6     0.9   \n",
            "4             false      0.9      0.6     0.6   \n",
            "5              true      0.9      0.6     0.1   \n",
            "6             false      0.6      0.9     0.9   \n",
            "7              true      0.6      0.9     0.1   \n",
            "8              true      0.9      0.9     0.6   \n",
            "9             false      0.6      0.6     0.6   \n",
            "\n",
            "                                                               model_ids  \\\n",
            "0  Grid_NaiveBayes_py_1_sid_82fb_model_python_1604225741410_5368_model_3   \n",
            "1  Grid_NaiveBayes_py_1_sid_82fb_model_python_1604225741410_5368_model_4   \n",
            "2  Grid_NaiveBayes_py_1_sid_82fb_model_python_1604225741410_5447_model_1   \n",
            "3  Grid_NaiveBayes_py_1_sid_82fb_model_python_1604225741410_5447_mode...   \n",
            "4  Grid_NaiveBayes_py_1_sid_82fb_model_python_1604225741410_5447_model_2   \n",
            "5  Grid_NaiveBayes_py_1_sid_82fb_model_python_1604225741410_5447_model_3   \n",
            "6  Grid_NaiveBayes_py_1_sid_82fb_model_python_1604225741410_5447_model_5   \n",
            "7  Grid_NaiveBayes_py_1_sid_82fb_model_python_1604225741410_5447_model_6   \n",
            "8  Grid_NaiveBayes_py_1_sid_82fb_model_python_1604225741410_5447_model_8   \n",
            "9  Grid_NaiveBayes_py_1_sid_82fb_model_python_1604225741410_5447_model_9   \n",
            "\n",
            "       auc  \n",
            "0  0.50125  \n",
            "1  0.50125  \n",
            "2  0.50125  \n",
            "3  0.50125  \n",
            "4  0.50125  \n",
            "5  0.50125  \n",
            "6  0.50125  \n",
            "7  0.50125  \n",
            "8  0.50125  \n",
            "9  0.50125  \n"
          ]
        },
        {
          "output_type": "execute_result",
          "execution_count": 58,
          "data": {
            "text/plain": ""
          },
          "metadata": {}
        }
      ],
      "execution_count": 58,
      "metadata": {
        "collapsed": true,
        "jupyter": {
          "source_hidden": false,
          "outputs_hidden": false
        },
        "nteract": {
          "transient": {
            "deleting": false
          }
        },
        "gather": {
          "logged": 1604249168735
        }
      }
    },
    {
      "cell_type": "markdown",
      "source": [
        "## Stacked ensembles with different meta-learners"
      ],
      "metadata": {
        "nteract": {
          "transient": {
            "deleting": false
          }
        }
      }
    },
    {
      "cell_type": "code",
      "source": [
        "from h2o.estimators.stackedensemble import H2OStackedEnsembleEstimator\r\n",
        "\r\n",
        "top_n_models = 3\r\n",
        "collection_of_models = get_models_from_model_ids(nb_grid_sorted.model_ids[:top_n_models])\r\n",
        "\r\n",
        "\r\n",
        "metalearner_algorithm = [\"auto\", \"xgboost\", \"drf\", \"gbm\", \"glm\", \"naivebayes\", \"deeplearning\"]\r\n",
        "\r\n",
        "ensemble_list = []\r\n",
        "\r\n",
        "for metalearner in metalearner_algorithm:\r\n",
        "    print(\"\\n\\n>>>>> \", metalearner, \" <<<<<<\")\r\n",
        "\r\n",
        "    ensemble = H2OStackedEnsembleEstimator(\r\n",
        "                                       base_models= collection_of_models,\r\n",
        "\r\n",
        "                                       model_id= \"ensemble_\" + metalearner\r\n",
        "\r\n",
        "                                       #metalearner_params\r\n",
        "                                       )\r\n",
        "    ensemble.train(x=x, y=y, training_frame=train, validation_frame=test)\r\n",
        "    \r\n",
        "\r\n",
        "    ensemble_list.append(ensemble)\r\n",
        "\r\n",
        "\r\n",
        "\r\n",
        "ensemble_list\r\n",
        "\r\n"
      ],
      "outputs": [
        {
          "output_type": "stream",
          "name": "stdout",
          "text": [
            "\n",
            "\n",
            ">>>>>  auto  <<<<<<\n",
            "stackedensemble Model Build progress: |███████████████████████████████████| 100%\n",
            "\n",
            "\n",
            ">>>>>  xgboost  <<<<<<\n",
            "stackedensemble Model Build progress: |███████████████████████████████████| 100%\n",
            "\n",
            "\n",
            ">>>>>  drf  <<<<<<\n",
            "stackedensemble Model Build progress: |███████████████████████████████████| 100%\n",
            "\n",
            "\n",
            ">>>>>  gbm  <<<<<<\n",
            "stackedensemble Model Build progress: |███████████████████████████████████| 100%\n",
            "\n",
            "\n",
            ">>>>>  glm  <<<<<<\n",
            "stackedensemble Model Build progress: |███████████████████████████████████| 100%\n",
            "\n",
            "\n",
            ">>>>>  naivebayes  <<<<<<\n",
            "stackedensemble Model Build progress: |███████████████████████████████████| 100%\n",
            "\n",
            "\n",
            ">>>>>  deeplearning  <<<<<<\n",
            "stackedensemble Model Build progress: |███████████████████████████████████| 100%\n",
            "Model Details\n",
            "=============\n",
            "H2OStackedEnsembleEstimator :  Stacked Ensemble\n",
            "Model Key:  ensemble_auto\n",
            "\n",
            "No model summary for this model\n",
            "\n",
            "ModelMetricsBinomialGLM: stackedensemble\n",
            "** Reported on train data. **\n",
            "\n",
            "MSE: 0.22624419263115159\n",
            "RMSE: 0.47565133515123403\n",
            "LogLoss: 0.6448529665367898\n",
            "Null degrees of freedom: 1222\n",
            "Residual degrees of freedom: 1222\n",
            "Null deviance: 1577.310356148988\n",
            "Residual deviance: 1577.310356148988\n",
            "AIC: 1579.310356148988\n",
            "AUC: 0.5\n",
            "AUCPR: 0.6541291905151267\n",
            "Gini: 0.0\n",
            "\n",
            "Confusion Matrix (Act/Pred) for max f1 @ threshold = 0.6541291905151275: \n",
            "\n",
            "Maximum Metrics: Maximum metrics at their respective thresholds\n",
            "\n",
            "Gains/Lift Table: Avg response rate: 65.41 %, avg score: 65.41 %\n",
            "\n",
            "\n",
            "ModelMetricsBinomialGLM: stackedensemble\n",
            "** Reported on validation data. **\n",
            "\n",
            "MSE: 0.21991826577174792\n",
            "RMSE: 0.4689544389082461\n",
            "LogLoss: 0.6317758499859693\n",
            "Null degrees of freedom: 500\n",
            "Residual degrees of freedom: 500\n",
            "Null deviance: 633.0394016859412\n",
            "Residual deviance: 633.0394016859412\n",
            "AIC: 635.0394016859412\n",
            "AUC: 0.5\n",
            "AUCPR: 0.6746506986027944\n"
          ]
        },
        {
          "output_type": "display_data",
          "data": {
            "text/plain": "            0       1   Error             Rate\n0      0  0.0   423.0     1.0    (423.0/423.0)\n1      1  0.0   800.0     0.0      (0.0/800.0)\n2  Total  0.0  1223.0  0.3459   (423.0/1223.0)",
            "text/html": "<div>\n<style scoped>\n    .dataframe tbody tr th:only-of-type {\n        vertical-align: middle;\n    }\n\n    .dataframe tbody tr th {\n        vertical-align: top;\n    }\n\n    .dataframe thead th {\n        text-align: right;\n    }\n</style>\n<table border=\"1\" class=\"dataframe\">\n  <thead>\n    <tr style=\"text-align: right;\">\n      <th></th>\n      <th></th>\n      <th>0</th>\n      <th>1</th>\n      <th>Error</th>\n      <th>Rate</th>\n    </tr>\n  </thead>\n  <tbody>\n    <tr>\n      <th>0</th>\n      <td>0</td>\n      <td>0.0</td>\n      <td>423.0</td>\n      <td>1.0</td>\n      <td>(423.0/423.0)</td>\n    </tr>\n    <tr>\n      <th>1</th>\n      <td>1</td>\n      <td>0.0</td>\n      <td>800.0</td>\n      <td>0.0</td>\n      <td>(0.0/800.0)</td>\n    </tr>\n    <tr>\n      <th>2</th>\n      <td>Total</td>\n      <td>0.0</td>\n      <td>1223.0</td>\n      <td>0.3459</td>\n      <td>(423.0/1223.0)</td>\n    </tr>\n  </tbody>\n</table>\n</div>"
          },
          "metadata": {}
        },
        {
          "output_type": "display_data",
          "data": {
            "text/plain": "                         metric  threshold       value  idx\n0                        max f1   0.654129    0.790905  0.0\n1                        max f2   0.654129    0.904364  0.0\n2                  max f0point5   0.654129    0.702741  0.0\n3                  max accuracy   0.654129    0.654129  0.0\n4                 max precision   0.654129    0.654129  0.0\n5                    max recall   0.654129    1.000000  0.0\n6               max specificity   0.654129    0.000000  0.0\n7              max absolute_mcc   0.654129    0.000000  0.0\n8    max min_per_class_accuracy   0.654129    0.000000  0.0\n9   max mean_per_class_accuracy   0.654129    0.500000  0.0\n10                      max tns   0.654129    0.000000  0.0\n11                      max fns   0.654129    0.000000  0.0\n12                      max fps   0.654129  423.000000  0.0\n13                      max tps   0.654129  800.000000  0.0\n14                      max tnr   0.654129    0.000000  0.0\n15                      max fnr   0.654129    0.000000  0.0\n16                      max fpr   0.654129    1.000000  0.0\n17                      max tpr   0.654129    1.000000  0.0",
            "text/html": "<div>\n<style scoped>\n    .dataframe tbody tr th:only-of-type {\n        vertical-align: middle;\n    }\n\n    .dataframe tbody tr th {\n        vertical-align: top;\n    }\n\n    .dataframe thead th {\n        text-align: right;\n    }\n</style>\n<table border=\"1\" class=\"dataframe\">\n  <thead>\n    <tr style=\"text-align: right;\">\n      <th></th>\n      <th>metric</th>\n      <th>threshold</th>\n      <th>value</th>\n      <th>idx</th>\n    </tr>\n  </thead>\n  <tbody>\n    <tr>\n      <th>0</th>\n      <td>max f1</td>\n      <td>0.654129</td>\n      <td>0.790905</td>\n      <td>0.0</td>\n    </tr>\n    <tr>\n      <th>1</th>\n      <td>max f2</td>\n      <td>0.654129</td>\n      <td>0.904364</td>\n      <td>0.0</td>\n    </tr>\n    <tr>\n      <th>2</th>\n      <td>max f0point5</td>\n      <td>0.654129</td>\n      <td>0.702741</td>\n      <td>0.0</td>\n    </tr>\n    <tr>\n      <th>3</th>\n      <td>max accuracy</td>\n      <td>0.654129</td>\n      <td>0.654129</td>\n      <td>0.0</td>\n    </tr>\n    <tr>\n      <th>4</th>\n      <td>max precision</td>\n      <td>0.654129</td>\n      <td>0.654129</td>\n      <td>0.0</td>\n    </tr>\n    <tr>\n      <th>5</th>\n      <td>max recall</td>\n      <td>0.654129</td>\n      <td>1.000000</td>\n      <td>0.0</td>\n    </tr>\n    <tr>\n      <th>6</th>\n      <td>max specificity</td>\n      <td>0.654129</td>\n      <td>0.000000</td>\n      <td>0.0</td>\n    </tr>\n    <tr>\n      <th>7</th>\n      <td>max absolute_mcc</td>\n      <td>0.654129</td>\n      <td>0.000000</td>\n      <td>0.0</td>\n    </tr>\n    <tr>\n      <th>8</th>\n      <td>max min_per_class_accuracy</td>\n      <td>0.654129</td>\n      <td>0.000000</td>\n      <td>0.0</td>\n    </tr>\n    <tr>\n      <th>9</th>\n      <td>max mean_per_class_accuracy</td>\n      <td>0.654129</td>\n      <td>0.500000</td>\n      <td>0.0</td>\n    </tr>\n    <tr>\n      <th>10</th>\n      <td>max tns</td>\n      <td>0.654129</td>\n      <td>0.000000</td>\n      <td>0.0</td>\n    </tr>\n    <tr>\n      <th>11</th>\n      <td>max fns</td>\n      <td>0.654129</td>\n      <td>0.000000</td>\n      <td>0.0</td>\n    </tr>\n    <tr>\n      <th>12</th>\n      <td>max fps</td>\n      <td>0.654129</td>\n      <td>423.000000</td>\n      <td>0.0</td>\n    </tr>\n    <tr>\n      <th>13</th>\n      <td>max tps</td>\n      <td>0.654129</td>\n      <td>800.000000</td>\n      <td>0.0</td>\n    </tr>\n    <tr>\n      <th>14</th>\n      <td>max tnr</td>\n      <td>0.654129</td>\n      <td>0.000000</td>\n      <td>0.0</td>\n    </tr>\n    <tr>\n      <th>15</th>\n      <td>max fnr</td>\n      <td>0.654129</td>\n      <td>0.000000</td>\n      <td>0.0</td>\n    </tr>\n    <tr>\n      <th>16</th>\n      <td>max fpr</td>\n      <td>0.654129</td>\n      <td>1.000000</td>\n      <td>0.0</td>\n    </tr>\n    <tr>\n      <th>17</th>\n      <td>max tpr</td>\n      <td>0.654129</td>\n      <td>1.000000</td>\n      <td>0.0</td>\n    </tr>\n  </tbody>\n</table>\n</div>"
          },
          "metadata": {}
        },
        {
          "output_type": "display_data",
          "data": {
            "text/plain": "     group  cumulative_data_fraction  lower_threshold  lift  cumulative_lift  \\\n0        1                       1.0         0.654129   1.0              1.0   \n\n   response_rate     score  cumulative_response_rate  cumulative_score  \\\n0       0.654129  0.654129                  0.654129          0.654129   \n\n   capture_rate  cumulative_capture_rate  gain  cumulative_gain  \n0           1.0                      1.0   0.0              0.0  ",
            "text/html": "<div>\n<style scoped>\n    .dataframe tbody tr th:only-of-type {\n        vertical-align: middle;\n    }\n\n    .dataframe tbody tr th {\n        vertical-align: top;\n    }\n\n    .dataframe thead th {\n        text-align: right;\n    }\n</style>\n<table border=\"1\" class=\"dataframe\">\n  <thead>\n    <tr style=\"text-align: right;\">\n      <th></th>\n      <th></th>\n      <th>group</th>\n      <th>cumulative_data_fraction</th>\n      <th>lower_threshold</th>\n      <th>lift</th>\n      <th>cumulative_lift</th>\n      <th>response_rate</th>\n      <th>score</th>\n      <th>cumulative_response_rate</th>\n      <th>cumulative_score</th>\n      <th>capture_rate</th>\n      <th>cumulative_capture_rate</th>\n      <th>gain</th>\n      <th>cumulative_gain</th>\n    </tr>\n  </thead>\n  <tbody>\n    <tr>\n      <th>0</th>\n      <td></td>\n      <td>1</td>\n      <td>1.0</td>\n      <td>0.654129</td>\n      <td>1.0</td>\n      <td>1.0</td>\n      <td>0.654129</td>\n      <td>0.654129</td>\n      <td>0.654129</td>\n      <td>0.654129</td>\n      <td>1.0</td>\n      <td>1.0</td>\n      <td>0.0</td>\n      <td>0.0</td>\n    </tr>\n  </tbody>\n</table>\n</div>"
          },
          "metadata": {}
        },
        {
          "output_type": "stream",
          "name": "stdout",
          "text": [
            "Gini: 0.0\n",
            "\n",
            "Confusion Matrix (Act/Pred) for max f1 @ threshold = 0.6541291905151275: \n",
            "\n",
            "Maximum Metrics: Maximum metrics at their respective thresholds\n",
            "\n",
            "Gains/Lift Table: Avg response rate: 67.47 %, avg score: 65.41 %\n",
            "\n",
            "Model Details\n",
            "=============\n",
            "H2OStackedEnsembleEstimator :  Stacked Ensemble\n",
            "Model Key:  ensemble_xgboost\n",
            "\n",
            "No model summary for this model\n",
            "\n",
            "ModelMetricsBinomialGLM: stackedensemble\n",
            "** Reported on train data. **\n",
            "\n",
            "MSE: 0.22624419263115159\n",
            "RMSE: 0.47565133515123403\n",
            "LogLoss: 0.6448529665367898\n",
            "Null degrees of freedom: 1222\n",
            "Residual degrees of freedom: 1222\n",
            "Null deviance: 1577.310356148988\n",
            "Residual deviance: 1577.310356148988\n",
            "AIC: 1579.310356148988\n",
            "AUC: 0.5\n",
            "AUCPR: 0.6541291905151267\n",
            "Gini: 0.0\n",
            "\n",
            "Confusion Matrix (Act/Pred) for max f1 @ threshold = 0.6541291905151275: "
          ]
        },
        {
          "output_type": "display_data",
          "data": {
            "text/plain": "            0      1   Error            Rate\n0      0  0.0  163.0     1.0   (163.0/163.0)\n1      1  0.0  338.0     0.0     (0.0/338.0)\n2  Total  0.0  501.0  0.3253   (163.0/501.0)",
            "text/html": "<div>\n<style scoped>\n    .dataframe tbody tr th:only-of-type {\n        vertical-align: middle;\n    }\n\n    .dataframe tbody tr th {\n        vertical-align: top;\n    }\n\n    .dataframe thead th {\n        text-align: right;\n    }\n</style>\n<table border=\"1\" class=\"dataframe\">\n  <thead>\n    <tr style=\"text-align: right;\">\n      <th></th>\n      <th></th>\n      <th>0</th>\n      <th>1</th>\n      <th>Error</th>\n      <th>Rate</th>\n    </tr>\n  </thead>\n  <tbody>\n    <tr>\n      <th>0</th>\n      <td>0</td>\n      <td>0.0</td>\n      <td>163.0</td>\n      <td>1.0</td>\n      <td>(163.0/163.0)</td>\n    </tr>\n    <tr>\n      <th>1</th>\n      <td>1</td>\n      <td>0.0</td>\n      <td>338.0</td>\n      <td>0.0</td>\n      <td>(0.0/338.0)</td>\n    </tr>\n    <tr>\n      <th>2</th>\n      <td>Total</td>\n      <td>0.0</td>\n      <td>501.0</td>\n      <td>0.3253</td>\n      <td>(163.0/501.0)</td>\n    </tr>\n  </tbody>\n</table>\n</div>"
          },
          "metadata": {}
        },
        {
          "output_type": "display_data",
          "data": {
            "text/plain": "                         metric  threshold       value  idx\n0                        max f1   0.654129    0.805721  0.0\n1                        max f2   0.654129    0.912035  0.0\n2                  max f0point5   0.654129    0.721605  0.0\n3                  max accuracy   0.654129    0.674651  0.0\n4                 max precision   0.654129    0.674651  0.0\n5                    max recall   0.654129    1.000000  0.0\n6               max specificity   0.654129    0.000000  0.0\n7              max absolute_mcc   0.654129    0.000000  0.0\n8    max min_per_class_accuracy   0.654129    0.000000  0.0\n9   max mean_per_class_accuracy   0.654129    0.500000  0.0\n10                      max tns   0.654129    0.000000  0.0\n11                      max fns   0.654129    0.000000  0.0\n12                      max fps   0.654129  163.000000  0.0\n13                      max tps   0.654129  338.000000  0.0\n14                      max tnr   0.654129    0.000000  0.0\n15                      max fnr   0.654129    0.000000  0.0\n16                      max fpr   0.654129    1.000000  0.0\n17                      max tpr   0.654129    1.000000  0.0",
            "text/html": "<div>\n<style scoped>\n    .dataframe tbody tr th:only-of-type {\n        vertical-align: middle;\n    }\n\n    .dataframe tbody tr th {\n        vertical-align: top;\n    }\n\n    .dataframe thead th {\n        text-align: right;\n    }\n</style>\n<table border=\"1\" class=\"dataframe\">\n  <thead>\n    <tr style=\"text-align: right;\">\n      <th></th>\n      <th>metric</th>\n      <th>threshold</th>\n      <th>value</th>\n      <th>idx</th>\n    </tr>\n  </thead>\n  <tbody>\n    <tr>\n      <th>0</th>\n      <td>max f1</td>\n      <td>0.654129</td>\n      <td>0.805721</td>\n      <td>0.0</td>\n    </tr>\n    <tr>\n      <th>1</th>\n      <td>max f2</td>\n      <td>0.654129</td>\n      <td>0.912035</td>\n      <td>0.0</td>\n    </tr>\n    <tr>\n      <th>2</th>\n      <td>max f0point5</td>\n      <td>0.654129</td>\n      <td>0.721605</td>\n      <td>0.0</td>\n    </tr>\n    <tr>\n      <th>3</th>\n      <td>max accuracy</td>\n      <td>0.654129</td>\n      <td>0.674651</td>\n      <td>0.0</td>\n    </tr>\n    <tr>\n      <th>4</th>\n      <td>max precision</td>\n      <td>0.654129</td>\n      <td>0.674651</td>\n      <td>0.0</td>\n    </tr>\n    <tr>\n      <th>5</th>\n      <td>max recall</td>\n      <td>0.654129</td>\n      <td>1.000000</td>\n      <td>0.0</td>\n    </tr>\n    <tr>\n      <th>6</th>\n      <td>max specificity</td>\n      <td>0.654129</td>\n      <td>0.000000</td>\n      <td>0.0</td>\n    </tr>\n    <tr>\n      <th>7</th>\n      <td>max absolute_mcc</td>\n      <td>0.654129</td>\n      <td>0.000000</td>\n      <td>0.0</td>\n    </tr>\n    <tr>\n      <th>8</th>\n      <td>max min_per_class_accuracy</td>\n      <td>0.654129</td>\n      <td>0.000000</td>\n      <td>0.0</td>\n    </tr>\n    <tr>\n      <th>9</th>\n      <td>max mean_per_class_accuracy</td>\n      <td>0.654129</td>\n      <td>0.500000</td>\n      <td>0.0</td>\n    </tr>\n    <tr>\n      <th>10</th>\n      <td>max tns</td>\n      <td>0.654129</td>\n      <td>0.000000</td>\n      <td>0.0</td>\n    </tr>\n    <tr>\n      <th>11</th>\n      <td>max fns</td>\n      <td>0.654129</td>\n      <td>0.000000</td>\n      <td>0.0</td>\n    </tr>\n    <tr>\n      <th>12</th>\n      <td>max fps</td>\n      <td>0.654129</td>\n      <td>163.000000</td>\n      <td>0.0</td>\n    </tr>\n    <tr>\n      <th>13</th>\n      <td>max tps</td>\n      <td>0.654129</td>\n      <td>338.000000</td>\n      <td>0.0</td>\n    </tr>\n    <tr>\n      <th>14</th>\n      <td>max tnr</td>\n      <td>0.654129</td>\n      <td>0.000000</td>\n      <td>0.0</td>\n    </tr>\n    <tr>\n      <th>15</th>\n      <td>max fnr</td>\n      <td>0.654129</td>\n      <td>0.000000</td>\n      <td>0.0</td>\n    </tr>\n    <tr>\n      <th>16</th>\n      <td>max fpr</td>\n      <td>0.654129</td>\n      <td>1.000000</td>\n      <td>0.0</td>\n    </tr>\n    <tr>\n      <th>17</th>\n      <td>max tpr</td>\n      <td>0.654129</td>\n      <td>1.000000</td>\n      <td>0.0</td>\n    </tr>\n  </tbody>\n</table>\n</div>"
          },
          "metadata": {}
        },
        {
          "output_type": "display_data",
          "data": {
            "text/plain": "     group  cumulative_data_fraction  lower_threshold  lift  cumulative_lift  \\\n0        1                       1.0         0.654129   1.0              1.0   \n\n   response_rate     score  cumulative_response_rate  cumulative_score  \\\n0       0.674651  0.654129                  0.674651          0.654129   \n\n   capture_rate  cumulative_capture_rate  gain  cumulative_gain  \n0           1.0                      1.0   0.0              0.0  ",
            "text/html": "<div>\n<style scoped>\n    .dataframe tbody tr th:only-of-type {\n        vertical-align: middle;\n    }\n\n    .dataframe tbody tr th {\n        vertical-align: top;\n    }\n\n    .dataframe thead th {\n        text-align: right;\n    }\n</style>\n<table border=\"1\" class=\"dataframe\">\n  <thead>\n    <tr style=\"text-align: right;\">\n      <th></th>\n      <th></th>\n      <th>group</th>\n      <th>cumulative_data_fraction</th>\n      <th>lower_threshold</th>\n      <th>lift</th>\n      <th>cumulative_lift</th>\n      <th>response_rate</th>\n      <th>score</th>\n      <th>cumulative_response_rate</th>\n      <th>cumulative_score</th>\n      <th>capture_rate</th>\n      <th>cumulative_capture_rate</th>\n      <th>gain</th>\n      <th>cumulative_gain</th>\n    </tr>\n  </thead>\n  <tbody>\n    <tr>\n      <th>0</th>\n      <td></td>\n      <td>1</td>\n      <td>1.0</td>\n      <td>0.654129</td>\n      <td>1.0</td>\n      <td>1.0</td>\n      <td>0.674651</td>\n      <td>0.654129</td>\n      <td>0.674651</td>\n      <td>0.654129</td>\n      <td>1.0</td>\n      <td>1.0</td>\n      <td>0.0</td>\n      <td>0.0</td>\n    </tr>\n  </tbody>\n</table>\n</div>"
          },
          "metadata": {}
        },
        {
          "output_type": "stream",
          "name": "stdout",
          "text": [
            "\n",
            "\n",
            "Maximum Metrics: Maximum metrics at their respective thresholds\n",
            "\n",
            "Gains/Lift Table: Avg response rate: 65.41 %, avg score: 65.41 %\n",
            "\n",
            "\n",
            "ModelMetricsBinomialGLM: stackedensemble\n",
            "** Reported on validation data. **\n",
            "\n",
            "MSE: 0.21991826577174792\n",
            "RMSE: 0.4689544389082461\n",
            "LogLoss: 0.6317758499859693\n",
            "Null degrees of freedom: 500\n",
            "Residual degrees of freedom: 500\n",
            "Null deviance: 633.0394016859412\n",
            "Residual deviance: 633.0394016859412\n",
            "AIC: 635.0394016859412\n",
            "AUC: 0.5\n",
            "AUCPR: 0.6746506986027944\n",
            "Gini: 0.0\n",
            "\n",
            "Confusion Matrix (Act/Pred) for max f1 @ threshold = 0.6541291905151275: \n",
            "\n",
            "Maximum Metrics: Maximum metrics at their respective thresholds\n",
            "\n",
            "Gains/Lift Table: Avg response rate: 67.47 %, avg score: 65.41 %\n",
            "\n",
            "Model Details\n",
            "=============\n",
            "H2OStackedEnsembleEstimator :  Stacked Ensemble\n",
            "Model Key:  ensemble_drf\n",
            "\n",
            "No model summary for this model\n",
            "\n",
            "ModelMetricsBinomialGLM: stackedensemble\n",
            "** Reported on train data. **\n",
            "\n",
            "MSE: 0.22624419263115159\n",
            "RMSE: 0.47565133515123403\n",
            "LogLoss: 0.6448529665367898\n",
            "Null degrees of freedom: 1222\n",
            "Residual degrees of freedom: 1222\n",
            "Null deviance: 1577.310356148988\n",
            "Residual deviance: 1577.310356148988\n",
            "AIC: 1579.310356148988\n",
            "AUC: 0.5"
          ]
        },
        {
          "output_type": "display_data",
          "data": {
            "text/plain": "            0       1   Error             Rate\n0      0  0.0   423.0     1.0    (423.0/423.0)\n1      1  0.0   800.0     0.0      (0.0/800.0)\n2  Total  0.0  1223.0  0.3459   (423.0/1223.0)",
            "text/html": "<div>\n<style scoped>\n    .dataframe tbody tr th:only-of-type {\n        vertical-align: middle;\n    }\n\n    .dataframe tbody tr th {\n        vertical-align: top;\n    }\n\n    .dataframe thead th {\n        text-align: right;\n    }\n</style>\n<table border=\"1\" class=\"dataframe\">\n  <thead>\n    <tr style=\"text-align: right;\">\n      <th></th>\n      <th></th>\n      <th>0</th>\n      <th>1</th>\n      <th>Error</th>\n      <th>Rate</th>\n    </tr>\n  </thead>\n  <tbody>\n    <tr>\n      <th>0</th>\n      <td>0</td>\n      <td>0.0</td>\n      <td>423.0</td>\n      <td>1.0</td>\n      <td>(423.0/423.0)</td>\n    </tr>\n    <tr>\n      <th>1</th>\n      <td>1</td>\n      <td>0.0</td>\n      <td>800.0</td>\n      <td>0.0</td>\n      <td>(0.0/800.0)</td>\n    </tr>\n    <tr>\n      <th>2</th>\n      <td>Total</td>\n      <td>0.0</td>\n      <td>1223.0</td>\n      <td>0.3459</td>\n      <td>(423.0/1223.0)</td>\n    </tr>\n  </tbody>\n</table>\n</div>"
          },
          "metadata": {}
        },
        {
          "output_type": "display_data",
          "data": {
            "text/plain": "                         metric  threshold       value  idx\n0                        max f1   0.654129    0.790905  0.0\n1                        max f2   0.654129    0.904364  0.0\n2                  max f0point5   0.654129    0.702741  0.0\n3                  max accuracy   0.654129    0.654129  0.0\n4                 max precision   0.654129    0.654129  0.0\n5                    max recall   0.654129    1.000000  0.0\n6               max specificity   0.654129    0.000000  0.0\n7              max absolute_mcc   0.654129    0.000000  0.0\n8    max min_per_class_accuracy   0.654129    0.000000  0.0\n9   max mean_per_class_accuracy   0.654129    0.500000  0.0\n10                      max tns   0.654129    0.000000  0.0\n11                      max fns   0.654129    0.000000  0.0\n12                      max fps   0.654129  423.000000  0.0\n13                      max tps   0.654129  800.000000  0.0\n14                      max tnr   0.654129    0.000000  0.0\n15                      max fnr   0.654129    0.000000  0.0\n16                      max fpr   0.654129    1.000000  0.0\n17                      max tpr   0.654129    1.000000  0.0",
            "text/html": "<div>\n<style scoped>\n    .dataframe tbody tr th:only-of-type {\n        vertical-align: middle;\n    }\n\n    .dataframe tbody tr th {\n        vertical-align: top;\n    }\n\n    .dataframe thead th {\n        text-align: right;\n    }\n</style>\n<table border=\"1\" class=\"dataframe\">\n  <thead>\n    <tr style=\"text-align: right;\">\n      <th></th>\n      <th>metric</th>\n      <th>threshold</th>\n      <th>value</th>\n      <th>idx</th>\n    </tr>\n  </thead>\n  <tbody>\n    <tr>\n      <th>0</th>\n      <td>max f1</td>\n      <td>0.654129</td>\n      <td>0.790905</td>\n      <td>0.0</td>\n    </tr>\n    <tr>\n      <th>1</th>\n      <td>max f2</td>\n      <td>0.654129</td>\n      <td>0.904364</td>\n      <td>0.0</td>\n    </tr>\n    <tr>\n      <th>2</th>\n      <td>max f0point5</td>\n      <td>0.654129</td>\n      <td>0.702741</td>\n      <td>0.0</td>\n    </tr>\n    <tr>\n      <th>3</th>\n      <td>max accuracy</td>\n      <td>0.654129</td>\n      <td>0.654129</td>\n      <td>0.0</td>\n    </tr>\n    <tr>\n      <th>4</th>\n      <td>max precision</td>\n      <td>0.654129</td>\n      <td>0.654129</td>\n      <td>0.0</td>\n    </tr>\n    <tr>\n      <th>5</th>\n      <td>max recall</td>\n      <td>0.654129</td>\n      <td>1.000000</td>\n      <td>0.0</td>\n    </tr>\n    <tr>\n      <th>6</th>\n      <td>max specificity</td>\n      <td>0.654129</td>\n      <td>0.000000</td>\n      <td>0.0</td>\n    </tr>\n    <tr>\n      <th>7</th>\n      <td>max absolute_mcc</td>\n      <td>0.654129</td>\n      <td>0.000000</td>\n      <td>0.0</td>\n    </tr>\n    <tr>\n      <th>8</th>\n      <td>max min_per_class_accuracy</td>\n      <td>0.654129</td>\n      <td>0.000000</td>\n      <td>0.0</td>\n    </tr>\n    <tr>\n      <th>9</th>\n      <td>max mean_per_class_accuracy</td>\n      <td>0.654129</td>\n      <td>0.500000</td>\n      <td>0.0</td>\n    </tr>\n    <tr>\n      <th>10</th>\n      <td>max tns</td>\n      <td>0.654129</td>\n      <td>0.000000</td>\n      <td>0.0</td>\n    </tr>\n    <tr>\n      <th>11</th>\n      <td>max fns</td>\n      <td>0.654129</td>\n      <td>0.000000</td>\n      <td>0.0</td>\n    </tr>\n    <tr>\n      <th>12</th>\n      <td>max fps</td>\n      <td>0.654129</td>\n      <td>423.000000</td>\n      <td>0.0</td>\n    </tr>\n    <tr>\n      <th>13</th>\n      <td>max tps</td>\n      <td>0.654129</td>\n      <td>800.000000</td>\n      <td>0.0</td>\n    </tr>\n    <tr>\n      <th>14</th>\n      <td>max tnr</td>\n      <td>0.654129</td>\n      <td>0.000000</td>\n      <td>0.0</td>\n    </tr>\n    <tr>\n      <th>15</th>\n      <td>max fnr</td>\n      <td>0.654129</td>\n      <td>0.000000</td>\n      <td>0.0</td>\n    </tr>\n    <tr>\n      <th>16</th>\n      <td>max fpr</td>\n      <td>0.654129</td>\n      <td>1.000000</td>\n      <td>0.0</td>\n    </tr>\n    <tr>\n      <th>17</th>\n      <td>max tpr</td>\n      <td>0.654129</td>\n      <td>1.000000</td>\n      <td>0.0</td>\n    </tr>\n  </tbody>\n</table>\n</div>"
          },
          "metadata": {}
        },
        {
          "output_type": "display_data",
          "data": {
            "text/plain": "     group  cumulative_data_fraction  lower_threshold  lift  cumulative_lift  \\\n0        1                       1.0         0.654129   1.0              1.0   \n\n   response_rate     score  cumulative_response_rate  cumulative_score  \\\n0       0.654129  0.654129                  0.654129          0.654129   \n\n   capture_rate  cumulative_capture_rate  gain  cumulative_gain  \n0           1.0                      1.0   0.0              0.0  ",
            "text/html": "<div>\n<style scoped>\n    .dataframe tbody tr th:only-of-type {\n        vertical-align: middle;\n    }\n\n    .dataframe tbody tr th {\n        vertical-align: top;\n    }\n\n    .dataframe thead th {\n        text-align: right;\n    }\n</style>\n<table border=\"1\" class=\"dataframe\">\n  <thead>\n    <tr style=\"text-align: right;\">\n      <th></th>\n      <th></th>\n      <th>group</th>\n      <th>cumulative_data_fraction</th>\n      <th>lower_threshold</th>\n      <th>lift</th>\n      <th>cumulative_lift</th>\n      <th>response_rate</th>\n      <th>score</th>\n      <th>cumulative_response_rate</th>\n      <th>cumulative_score</th>\n      <th>capture_rate</th>\n      <th>cumulative_capture_rate</th>\n      <th>gain</th>\n      <th>cumulative_gain</th>\n    </tr>\n  </thead>\n  <tbody>\n    <tr>\n      <th>0</th>\n      <td></td>\n      <td>1</td>\n      <td>1.0</td>\n      <td>0.654129</td>\n      <td>1.0</td>\n      <td>1.0</td>\n      <td>0.654129</td>\n      <td>0.654129</td>\n      <td>0.654129</td>\n      <td>0.654129</td>\n      <td>1.0</td>\n      <td>1.0</td>\n      <td>0.0</td>\n      <td>0.0</td>\n    </tr>\n  </tbody>\n</table>\n</div>"
          },
          "metadata": {}
        },
        {
          "output_type": "display_data",
          "data": {
            "text/plain": "            0      1   Error            Rate\n0      0  0.0  163.0     1.0   (163.0/163.0)\n1      1  0.0  338.0     0.0     (0.0/338.0)\n2  Total  0.0  501.0  0.3253   (163.0/501.0)",
            "text/html": "<div>\n<style scoped>\n    .dataframe tbody tr th:only-of-type {\n        vertical-align: middle;\n    }\n\n    .dataframe tbody tr th {\n        vertical-align: top;\n    }\n\n    .dataframe thead th {\n        text-align: right;\n    }\n</style>\n<table border=\"1\" class=\"dataframe\">\n  <thead>\n    <tr style=\"text-align: right;\">\n      <th></th>\n      <th></th>\n      <th>0</th>\n      <th>1</th>\n      <th>Error</th>\n      <th>Rate</th>\n    </tr>\n  </thead>\n  <tbody>\n    <tr>\n      <th>0</th>\n      <td>0</td>\n      <td>0.0</td>\n      <td>163.0</td>\n      <td>1.0</td>\n      <td>(163.0/163.0)</td>\n    </tr>\n    <tr>\n      <th>1</th>\n      <td>1</td>\n      <td>0.0</td>\n      <td>338.0</td>\n      <td>0.0</td>\n      <td>(0.0/338.0)</td>\n    </tr>\n    <tr>\n      <th>2</th>\n      <td>Total</td>\n      <td>0.0</td>\n      <td>501.0</td>\n      <td>0.3253</td>\n      <td>(163.0/501.0)</td>\n    </tr>\n  </tbody>\n</table>\n</div>"
          },
          "metadata": {}
        },
        {
          "output_type": "display_data",
          "data": {
            "text/plain": "                         metric  threshold       value  idx\n0                        max f1   0.654129    0.805721  0.0\n1                        max f2   0.654129    0.912035  0.0\n2                  max f0point5   0.654129    0.721605  0.0\n3                  max accuracy   0.654129    0.674651  0.0\n4                 max precision   0.654129    0.674651  0.0\n5                    max recall   0.654129    1.000000  0.0\n6               max specificity   0.654129    0.000000  0.0\n7              max absolute_mcc   0.654129    0.000000  0.0\n8    max min_per_class_accuracy   0.654129    0.000000  0.0\n9   max mean_per_class_accuracy   0.654129    0.500000  0.0\n10                      max tns   0.654129    0.000000  0.0\n11                      max fns   0.654129    0.000000  0.0\n12                      max fps   0.654129  163.000000  0.0\n13                      max tps   0.654129  338.000000  0.0\n14                      max tnr   0.654129    0.000000  0.0\n15                      max fnr   0.654129    0.000000  0.0\n16                      max fpr   0.654129    1.000000  0.0\n17                      max tpr   0.654129    1.000000  0.0",
            "text/html": "<div>\n<style scoped>\n    .dataframe tbody tr th:only-of-type {\n        vertical-align: middle;\n    }\n\n    .dataframe tbody tr th {\n        vertical-align: top;\n    }\n\n    .dataframe thead th {\n        text-align: right;\n    }\n</style>\n<table border=\"1\" class=\"dataframe\">\n  <thead>\n    <tr style=\"text-align: right;\">\n      <th></th>\n      <th>metric</th>\n      <th>threshold</th>\n      <th>value</th>\n      <th>idx</th>\n    </tr>\n  </thead>\n  <tbody>\n    <tr>\n      <th>0</th>\n      <td>max f1</td>\n      <td>0.654129</td>\n      <td>0.805721</td>\n      <td>0.0</td>\n    </tr>\n    <tr>\n      <th>1</th>\n      <td>max f2</td>\n      <td>0.654129</td>\n      <td>0.912035</td>\n      <td>0.0</td>\n    </tr>\n    <tr>\n      <th>2</th>\n      <td>max f0point5</td>\n      <td>0.654129</td>\n      <td>0.721605</td>\n      <td>0.0</td>\n    </tr>\n    <tr>\n      <th>3</th>\n      <td>max accuracy</td>\n      <td>0.654129</td>\n      <td>0.674651</td>\n      <td>0.0</td>\n    </tr>\n    <tr>\n      <th>4</th>\n      <td>max precision</td>\n      <td>0.654129</td>\n      <td>0.674651</td>\n      <td>0.0</td>\n    </tr>\n    <tr>\n      <th>5</th>\n      <td>max recall</td>\n      <td>0.654129</td>\n      <td>1.000000</td>\n      <td>0.0</td>\n    </tr>\n    <tr>\n      <th>6</th>\n      <td>max specificity</td>\n      <td>0.654129</td>\n      <td>0.000000</td>\n      <td>0.0</td>\n    </tr>\n    <tr>\n      <th>7</th>\n      <td>max absolute_mcc</td>\n      <td>0.654129</td>\n      <td>0.000000</td>\n      <td>0.0</td>\n    </tr>\n    <tr>\n      <th>8</th>\n      <td>max min_per_class_accuracy</td>\n      <td>0.654129</td>\n      <td>0.000000</td>\n      <td>0.0</td>\n    </tr>\n    <tr>\n      <th>9</th>\n      <td>max mean_per_class_accuracy</td>\n      <td>0.654129</td>\n      <td>0.500000</td>\n      <td>0.0</td>\n    </tr>\n    <tr>\n      <th>10</th>\n      <td>max tns</td>\n      <td>0.654129</td>\n      <td>0.000000</td>\n      <td>0.0</td>\n    </tr>\n    <tr>\n      <th>11</th>\n      <td>max fns</td>\n      <td>0.654129</td>\n      <td>0.000000</td>\n      <td>0.0</td>\n    </tr>\n    <tr>\n      <th>12</th>\n      <td>max fps</td>\n      <td>0.654129</td>\n      <td>163.000000</td>\n      <td>0.0</td>\n    </tr>\n    <tr>\n      <th>13</th>\n      <td>max tps</td>\n      <td>0.654129</td>\n      <td>338.000000</td>\n      <td>0.0</td>\n    </tr>\n    <tr>\n      <th>14</th>\n      <td>max tnr</td>\n      <td>0.654129</td>\n      <td>0.000000</td>\n      <td>0.0</td>\n    </tr>\n    <tr>\n      <th>15</th>\n      <td>max fnr</td>\n      <td>0.654129</td>\n      <td>0.000000</td>\n      <td>0.0</td>\n    </tr>\n    <tr>\n      <th>16</th>\n      <td>max fpr</td>\n      <td>0.654129</td>\n      <td>1.000000</td>\n      <td>0.0</td>\n    </tr>\n    <tr>\n      <th>17</th>\n      <td>max tpr</td>\n      <td>0.654129</td>\n      <td>1.000000</td>\n      <td>0.0</td>\n    </tr>\n  </tbody>\n</table>\n</div>"
          },
          "metadata": {}
        },
        {
          "output_type": "display_data",
          "data": {
            "text/plain": "     group  cumulative_data_fraction  lower_threshold  lift  cumulative_lift  \\\n0        1                       1.0         0.654129   1.0              1.0   \n\n   response_rate     score  cumulative_response_rate  cumulative_score  \\\n0       0.674651  0.654129                  0.674651          0.654129   \n\n   capture_rate  cumulative_capture_rate  gain  cumulative_gain  \n0           1.0                      1.0   0.0              0.0  ",
            "text/html": "<div>\n<style scoped>\n    .dataframe tbody tr th:only-of-type {\n        vertical-align: middle;\n    }\n\n    .dataframe tbody tr th {\n        vertical-align: top;\n    }\n\n    .dataframe thead th {\n        text-align: right;\n    }\n</style>\n<table border=\"1\" class=\"dataframe\">\n  <thead>\n    <tr style=\"text-align: right;\">\n      <th></th>\n      <th></th>\n      <th>group</th>\n      <th>cumulative_data_fraction</th>\n      <th>lower_threshold</th>\n      <th>lift</th>\n      <th>cumulative_lift</th>\n      <th>response_rate</th>\n      <th>score</th>\n      <th>cumulative_response_rate</th>\n      <th>cumulative_score</th>\n      <th>capture_rate</th>\n      <th>cumulative_capture_rate</th>\n      <th>gain</th>\n      <th>cumulative_gain</th>\n    </tr>\n  </thead>\n  <tbody>\n    <tr>\n      <th>0</th>\n      <td></td>\n      <td>1</td>\n      <td>1.0</td>\n      <td>0.654129</td>\n      <td>1.0</td>\n      <td>1.0</td>\n      <td>0.674651</td>\n      <td>0.654129</td>\n      <td>0.674651</td>\n      <td>0.654129</td>\n      <td>1.0</td>\n      <td>1.0</td>\n      <td>0.0</td>\n      <td>0.0</td>\n    </tr>\n  </tbody>\n</table>\n</div>"
          },
          "metadata": {}
        },
        {
          "output_type": "stream",
          "name": "stdout",
          "text": [
            "\n",
            "AUCPR: 0.6541291905151267\n",
            "Gini: 0.0\n",
            "\n",
            "Confusion Matrix (Act/Pred) for max f1 @ threshold = 0.6541291905151275: \n",
            "\n",
            "Maximum Metrics: Maximum metrics at their respective thresholds\n",
            "\n",
            "Gains/Lift Table: Avg response rate: 65.41 %, avg score: 65.41 %\n",
            "\n",
            "\n",
            "ModelMetricsBinomialGLM: stackedensemble\n",
            "** Reported on validation data. **\n",
            "\n",
            "MSE: 0.21991826577174792\n",
            "RMSE: 0.4689544389082461\n",
            "LogLoss: 0.6317758499859693\n",
            "Null degrees of freedom: 500\n",
            "Residual degrees of freedom: 500\n",
            "Null deviance: 633.0394016859412\n",
            "Residual deviance: 633.0394016859412\n",
            "AIC: 635.0394016859412\n",
            "AUC: 0.5\n",
            "AUCPR: 0.6746506986027944\n",
            "Gini: 0.0\n",
            "\n",
            "Confusion Matrix (Act/Pred) for max f1 @ threshold = 0.6541291905151275: \n",
            "\n",
            "Maximum Metrics: Maximum metrics at their respective thresholds\n",
            "\n",
            "Gains/Lift Table: Avg response rate: 67.47 %, avg score: 65.41 %\n",
            "\n",
            "Model Details\n",
            "=============\n",
            "H2OStackedEnsembleEstimator :  Stacked Ensemble\n",
            "Model Key:  ensemble_gbm\n",
            "\n"
          ]
        },
        {
          "output_type": "display_data",
          "data": {
            "text/plain": "            0       1   Error             Rate\n0      0  0.0   423.0     1.0    (423.0/423.0)\n1      1  0.0   800.0     0.0      (0.0/800.0)\n2  Total  0.0  1223.0  0.3459   (423.0/1223.0)",
            "text/html": "<div>\n<style scoped>\n    .dataframe tbody tr th:only-of-type {\n        vertical-align: middle;\n    }\n\n    .dataframe tbody tr th {\n        vertical-align: top;\n    }\n\n    .dataframe thead th {\n        text-align: right;\n    }\n</style>\n<table border=\"1\" class=\"dataframe\">\n  <thead>\n    <tr style=\"text-align: right;\">\n      <th></th>\n      <th></th>\n      <th>0</th>\n      <th>1</th>\n      <th>Error</th>\n      <th>Rate</th>\n    </tr>\n  </thead>\n  <tbody>\n    <tr>\n      <th>0</th>\n      <td>0</td>\n      <td>0.0</td>\n      <td>423.0</td>\n      <td>1.0</td>\n      <td>(423.0/423.0)</td>\n    </tr>\n    <tr>\n      <th>1</th>\n      <td>1</td>\n      <td>0.0</td>\n      <td>800.0</td>\n      <td>0.0</td>\n      <td>(0.0/800.0)</td>\n    </tr>\n    <tr>\n      <th>2</th>\n      <td>Total</td>\n      <td>0.0</td>\n      <td>1223.0</td>\n      <td>0.3459</td>\n      <td>(423.0/1223.0)</td>\n    </tr>\n  </tbody>\n</table>\n</div>"
          },
          "metadata": {}
        },
        {
          "output_type": "display_data",
          "data": {
            "text/plain": "                         metric  threshold       value  idx\n0                        max f1   0.654129    0.790905  0.0\n1                        max f2   0.654129    0.904364  0.0\n2                  max f0point5   0.654129    0.702741  0.0\n3                  max accuracy   0.654129    0.654129  0.0\n4                 max precision   0.654129    0.654129  0.0\n5                    max recall   0.654129    1.000000  0.0\n6               max specificity   0.654129    0.000000  0.0\n7              max absolute_mcc   0.654129    0.000000  0.0\n8    max min_per_class_accuracy   0.654129    0.000000  0.0\n9   max mean_per_class_accuracy   0.654129    0.500000  0.0\n10                      max tns   0.654129    0.000000  0.0\n11                      max fns   0.654129    0.000000  0.0\n12                      max fps   0.654129  423.000000  0.0\n13                      max tps   0.654129  800.000000  0.0\n14                      max tnr   0.654129    0.000000  0.0\n15                      max fnr   0.654129    0.000000  0.0\n16                      max fpr   0.654129    1.000000  0.0\n17                      max tpr   0.654129    1.000000  0.0",
            "text/html": "<div>\n<style scoped>\n    .dataframe tbody tr th:only-of-type {\n        vertical-align: middle;\n    }\n\n    .dataframe tbody tr th {\n        vertical-align: top;\n    }\n\n    .dataframe thead th {\n        text-align: right;\n    }\n</style>\n<table border=\"1\" class=\"dataframe\">\n  <thead>\n    <tr style=\"text-align: right;\">\n      <th></th>\n      <th>metric</th>\n      <th>threshold</th>\n      <th>value</th>\n      <th>idx</th>\n    </tr>\n  </thead>\n  <tbody>\n    <tr>\n      <th>0</th>\n      <td>max f1</td>\n      <td>0.654129</td>\n      <td>0.790905</td>\n      <td>0.0</td>\n    </tr>\n    <tr>\n      <th>1</th>\n      <td>max f2</td>\n      <td>0.654129</td>\n      <td>0.904364</td>\n      <td>0.0</td>\n    </tr>\n    <tr>\n      <th>2</th>\n      <td>max f0point5</td>\n      <td>0.654129</td>\n      <td>0.702741</td>\n      <td>0.0</td>\n    </tr>\n    <tr>\n      <th>3</th>\n      <td>max accuracy</td>\n      <td>0.654129</td>\n      <td>0.654129</td>\n      <td>0.0</td>\n    </tr>\n    <tr>\n      <th>4</th>\n      <td>max precision</td>\n      <td>0.654129</td>\n      <td>0.654129</td>\n      <td>0.0</td>\n    </tr>\n    <tr>\n      <th>5</th>\n      <td>max recall</td>\n      <td>0.654129</td>\n      <td>1.000000</td>\n      <td>0.0</td>\n    </tr>\n    <tr>\n      <th>6</th>\n      <td>max specificity</td>\n      <td>0.654129</td>\n      <td>0.000000</td>\n      <td>0.0</td>\n    </tr>\n    <tr>\n      <th>7</th>\n      <td>max absolute_mcc</td>\n      <td>0.654129</td>\n      <td>0.000000</td>\n      <td>0.0</td>\n    </tr>\n    <tr>\n      <th>8</th>\n      <td>max min_per_class_accuracy</td>\n      <td>0.654129</td>\n      <td>0.000000</td>\n      <td>0.0</td>\n    </tr>\n    <tr>\n      <th>9</th>\n      <td>max mean_per_class_accuracy</td>\n      <td>0.654129</td>\n      <td>0.500000</td>\n      <td>0.0</td>\n    </tr>\n    <tr>\n      <th>10</th>\n      <td>max tns</td>\n      <td>0.654129</td>\n      <td>0.000000</td>\n      <td>0.0</td>\n    </tr>\n    <tr>\n      <th>11</th>\n      <td>max fns</td>\n      <td>0.654129</td>\n      <td>0.000000</td>\n      <td>0.0</td>\n    </tr>\n    <tr>\n      <th>12</th>\n      <td>max fps</td>\n      <td>0.654129</td>\n      <td>423.000000</td>\n      <td>0.0</td>\n    </tr>\n    <tr>\n      <th>13</th>\n      <td>max tps</td>\n      <td>0.654129</td>\n      <td>800.000000</td>\n      <td>0.0</td>\n    </tr>\n    <tr>\n      <th>14</th>\n      <td>max tnr</td>\n      <td>0.654129</td>\n      <td>0.000000</td>\n      <td>0.0</td>\n    </tr>\n    <tr>\n      <th>15</th>\n      <td>max fnr</td>\n      <td>0.654129</td>\n      <td>0.000000</td>\n      <td>0.0</td>\n    </tr>\n    <tr>\n      <th>16</th>\n      <td>max fpr</td>\n      <td>0.654129</td>\n      <td>1.000000</td>\n      <td>0.0</td>\n    </tr>\n    <tr>\n      <th>17</th>\n      <td>max tpr</td>\n      <td>0.654129</td>\n      <td>1.000000</td>\n      <td>0.0</td>\n    </tr>\n  </tbody>\n</table>\n</div>"
          },
          "metadata": {}
        },
        {
          "output_type": "display_data",
          "data": {
            "text/plain": "     group  cumulative_data_fraction  lower_threshold  lift  cumulative_lift  \\\n0        1                       1.0         0.654129   1.0              1.0   \n\n   response_rate     score  cumulative_response_rate  cumulative_score  \\\n0       0.654129  0.654129                  0.654129          0.654129   \n\n   capture_rate  cumulative_capture_rate  gain  cumulative_gain  \n0           1.0                      1.0   0.0              0.0  ",
            "text/html": "<div>\n<style scoped>\n    .dataframe tbody tr th:only-of-type {\n        vertical-align: middle;\n    }\n\n    .dataframe tbody tr th {\n        vertical-align: top;\n    }\n\n    .dataframe thead th {\n        text-align: right;\n    }\n</style>\n<table border=\"1\" class=\"dataframe\">\n  <thead>\n    <tr style=\"text-align: right;\">\n      <th></th>\n      <th></th>\n      <th>group</th>\n      <th>cumulative_data_fraction</th>\n      <th>lower_threshold</th>\n      <th>lift</th>\n      <th>cumulative_lift</th>\n      <th>response_rate</th>\n      <th>score</th>\n      <th>cumulative_response_rate</th>\n      <th>cumulative_score</th>\n      <th>capture_rate</th>\n      <th>cumulative_capture_rate</th>\n      <th>gain</th>\n      <th>cumulative_gain</th>\n    </tr>\n  </thead>\n  <tbody>\n    <tr>\n      <th>0</th>\n      <td></td>\n      <td>1</td>\n      <td>1.0</td>\n      <td>0.654129</td>\n      <td>1.0</td>\n      <td>1.0</td>\n      <td>0.654129</td>\n      <td>0.654129</td>\n      <td>0.654129</td>\n      <td>0.654129</td>\n      <td>1.0</td>\n      <td>1.0</td>\n      <td>0.0</td>\n      <td>0.0</td>\n    </tr>\n  </tbody>\n</table>\n</div>"
          },
          "metadata": {}
        },
        {
          "output_type": "display_data",
          "data": {
            "text/plain": "            0      1   Error            Rate\n0      0  0.0  163.0     1.0   (163.0/163.0)\n1      1  0.0  338.0     0.0     (0.0/338.0)\n2  Total  0.0  501.0  0.3253   (163.0/501.0)",
            "text/html": "<div>\n<style scoped>\n    .dataframe tbody tr th:only-of-type {\n        vertical-align: middle;\n    }\n\n    .dataframe tbody tr th {\n        vertical-align: top;\n    }\n\n    .dataframe thead th {\n        text-align: right;\n    }\n</style>\n<table border=\"1\" class=\"dataframe\">\n  <thead>\n    <tr style=\"text-align: right;\">\n      <th></th>\n      <th></th>\n      <th>0</th>\n      <th>1</th>\n      <th>Error</th>\n      <th>Rate</th>\n    </tr>\n  </thead>\n  <tbody>\n    <tr>\n      <th>0</th>\n      <td>0</td>\n      <td>0.0</td>\n      <td>163.0</td>\n      <td>1.0</td>\n      <td>(163.0/163.0)</td>\n    </tr>\n    <tr>\n      <th>1</th>\n      <td>1</td>\n      <td>0.0</td>\n      <td>338.0</td>\n      <td>0.0</td>\n      <td>(0.0/338.0)</td>\n    </tr>\n    <tr>\n      <th>2</th>\n      <td>Total</td>\n      <td>0.0</td>\n      <td>501.0</td>\n      <td>0.3253</td>\n      <td>(163.0/501.0)</td>\n    </tr>\n  </tbody>\n</table>\n</div>"
          },
          "metadata": {}
        },
        {
          "output_type": "display_data",
          "data": {
            "text/plain": "                         metric  threshold       value  idx\n0                        max f1   0.654129    0.805721  0.0\n1                        max f2   0.654129    0.912035  0.0\n2                  max f0point5   0.654129    0.721605  0.0\n3                  max accuracy   0.654129    0.674651  0.0\n4                 max precision   0.654129    0.674651  0.0\n5                    max recall   0.654129    1.000000  0.0\n6               max specificity   0.654129    0.000000  0.0\n7              max absolute_mcc   0.654129    0.000000  0.0\n8    max min_per_class_accuracy   0.654129    0.000000  0.0\n9   max mean_per_class_accuracy   0.654129    0.500000  0.0\n10                      max tns   0.654129    0.000000  0.0\n11                      max fns   0.654129    0.000000  0.0\n12                      max fps   0.654129  163.000000  0.0\n13                      max tps   0.654129  338.000000  0.0\n14                      max tnr   0.654129    0.000000  0.0\n15                      max fnr   0.654129    0.000000  0.0\n16                      max fpr   0.654129    1.000000  0.0\n17                      max tpr   0.654129    1.000000  0.0",
            "text/html": "<div>\n<style scoped>\n    .dataframe tbody tr th:only-of-type {\n        vertical-align: middle;\n    }\n\n    .dataframe tbody tr th {\n        vertical-align: top;\n    }\n\n    .dataframe thead th {\n        text-align: right;\n    }\n</style>\n<table border=\"1\" class=\"dataframe\">\n  <thead>\n    <tr style=\"text-align: right;\">\n      <th></th>\n      <th>metric</th>\n      <th>threshold</th>\n      <th>value</th>\n      <th>idx</th>\n    </tr>\n  </thead>\n  <tbody>\n    <tr>\n      <th>0</th>\n      <td>max f1</td>\n      <td>0.654129</td>\n      <td>0.805721</td>\n      <td>0.0</td>\n    </tr>\n    <tr>\n      <th>1</th>\n      <td>max f2</td>\n      <td>0.654129</td>\n      <td>0.912035</td>\n      <td>0.0</td>\n    </tr>\n    <tr>\n      <th>2</th>\n      <td>max f0point5</td>\n      <td>0.654129</td>\n      <td>0.721605</td>\n      <td>0.0</td>\n    </tr>\n    <tr>\n      <th>3</th>\n      <td>max accuracy</td>\n      <td>0.654129</td>\n      <td>0.674651</td>\n      <td>0.0</td>\n    </tr>\n    <tr>\n      <th>4</th>\n      <td>max precision</td>\n      <td>0.654129</td>\n      <td>0.674651</td>\n      <td>0.0</td>\n    </tr>\n    <tr>\n      <th>5</th>\n      <td>max recall</td>\n      <td>0.654129</td>\n      <td>1.000000</td>\n      <td>0.0</td>\n    </tr>\n    <tr>\n      <th>6</th>\n      <td>max specificity</td>\n      <td>0.654129</td>\n      <td>0.000000</td>\n      <td>0.0</td>\n    </tr>\n    <tr>\n      <th>7</th>\n      <td>max absolute_mcc</td>\n      <td>0.654129</td>\n      <td>0.000000</td>\n      <td>0.0</td>\n    </tr>\n    <tr>\n      <th>8</th>\n      <td>max min_per_class_accuracy</td>\n      <td>0.654129</td>\n      <td>0.000000</td>\n      <td>0.0</td>\n    </tr>\n    <tr>\n      <th>9</th>\n      <td>max mean_per_class_accuracy</td>\n      <td>0.654129</td>\n      <td>0.500000</td>\n      <td>0.0</td>\n    </tr>\n    <tr>\n      <th>10</th>\n      <td>max tns</td>\n      <td>0.654129</td>\n      <td>0.000000</td>\n      <td>0.0</td>\n    </tr>\n    <tr>\n      <th>11</th>\n      <td>max fns</td>\n      <td>0.654129</td>\n      <td>0.000000</td>\n      <td>0.0</td>\n    </tr>\n    <tr>\n      <th>12</th>\n      <td>max fps</td>\n      <td>0.654129</td>\n      <td>163.000000</td>\n      <td>0.0</td>\n    </tr>\n    <tr>\n      <th>13</th>\n      <td>max tps</td>\n      <td>0.654129</td>\n      <td>338.000000</td>\n      <td>0.0</td>\n    </tr>\n    <tr>\n      <th>14</th>\n      <td>max tnr</td>\n      <td>0.654129</td>\n      <td>0.000000</td>\n      <td>0.0</td>\n    </tr>\n    <tr>\n      <th>15</th>\n      <td>max fnr</td>\n      <td>0.654129</td>\n      <td>0.000000</td>\n      <td>0.0</td>\n    </tr>\n    <tr>\n      <th>16</th>\n      <td>max fpr</td>\n      <td>0.654129</td>\n      <td>1.000000</td>\n      <td>0.0</td>\n    </tr>\n    <tr>\n      <th>17</th>\n      <td>max tpr</td>\n      <td>0.654129</td>\n      <td>1.000000</td>\n      <td>0.0</td>\n    </tr>\n  </tbody>\n</table>\n</div>"
          },
          "metadata": {}
        },
        {
          "output_type": "stream",
          "name": "stdout",
          "text": [
            "No model summary for this model\n",
            "\n",
            "ModelMetricsBinomialGLM: stackedensemble\n",
            "** Reported on train data. **\n",
            "\n",
            "MSE: 0.22624419263115159\n",
            "RMSE: 0.47565133515123403\n",
            "LogLoss: 0.6448529665367898\n",
            "Null degrees of freedom: 1222\n",
            "Residual degrees of freedom: 1222\n",
            "Null deviance: 1577.310356148988\n",
            "Residual deviance: 1577.310356148988\n",
            "AIC: 1579.310356148988\n",
            "AUC: 0.5\n",
            "AUCPR: 0.6541291905151267\n",
            "Gini: 0.0\n",
            "\n",
            "Confusion Matrix (Act/Pred) for max f1 @ threshold = 0.6541291905151275: \n",
            "\n",
            "Maximum Metrics: Maximum metrics at their respective thresholds\n",
            "\n",
            "Gains/Lift Table: Avg response rate: 65.41 %, avg score: 65.41 %\n",
            "\n",
            "\n",
            "ModelMetricsBinomialGLM: stackedensemble\n",
            "** Reported on validation data. **\n",
            "\n",
            "MSE: 0.21991826577174792\n",
            "RMSE: 0.4689544389082461\n",
            "LogLoss: 0.6317758499859693"
          ]
        },
        {
          "output_type": "display_data",
          "data": {
            "text/plain": "     group  cumulative_data_fraction  lower_threshold  lift  cumulative_lift  \\\n0        1                       1.0         0.654129   1.0              1.0   \n\n   response_rate     score  cumulative_response_rate  cumulative_score  \\\n0       0.674651  0.654129                  0.674651          0.654129   \n\n   capture_rate  cumulative_capture_rate  gain  cumulative_gain  \n0           1.0                      1.0   0.0              0.0  ",
            "text/html": "<div>\n<style scoped>\n    .dataframe tbody tr th:only-of-type {\n        vertical-align: middle;\n    }\n\n    .dataframe tbody tr th {\n        vertical-align: top;\n    }\n\n    .dataframe thead th {\n        text-align: right;\n    }\n</style>\n<table border=\"1\" class=\"dataframe\">\n  <thead>\n    <tr style=\"text-align: right;\">\n      <th></th>\n      <th></th>\n      <th>group</th>\n      <th>cumulative_data_fraction</th>\n      <th>lower_threshold</th>\n      <th>lift</th>\n      <th>cumulative_lift</th>\n      <th>response_rate</th>\n      <th>score</th>\n      <th>cumulative_response_rate</th>\n      <th>cumulative_score</th>\n      <th>capture_rate</th>\n      <th>cumulative_capture_rate</th>\n      <th>gain</th>\n      <th>cumulative_gain</th>\n    </tr>\n  </thead>\n  <tbody>\n    <tr>\n      <th>0</th>\n      <td></td>\n      <td>1</td>\n      <td>1.0</td>\n      <td>0.654129</td>\n      <td>1.0</td>\n      <td>1.0</td>\n      <td>0.674651</td>\n      <td>0.654129</td>\n      <td>0.674651</td>\n      <td>0.654129</td>\n      <td>1.0</td>\n      <td>1.0</td>\n      <td>0.0</td>\n      <td>0.0</td>\n    </tr>\n  </tbody>\n</table>\n</div>"
          },
          "metadata": {}
        },
        {
          "output_type": "stream",
          "name": "stdout",
          "text": [
            "\n",
            "Null degrees of freedom: 500\n",
            "Residual degrees of freedom: 500\n",
            "Null deviance: 633.0394016859412\n",
            "Residual deviance: 633.0394016859412\n",
            "AIC: 635.0394016859412\n",
            "AUC: 0.5\n",
            "AUCPR: 0.6746506986027944\n",
            "Gini: 0.0\n",
            "\n",
            "Confusion Matrix (Act/Pred) for max f1 @ threshold = 0.6541291905151275: \n",
            "\n",
            "Maximum Metrics: Maximum metrics at their respective thresholds\n",
            "\n",
            "Gains/Lift Table: Avg response rate: 67.47 %, avg score: 65.41 %\n",
            "\n",
            "Model Details\n",
            "=============\n",
            "H2OStackedEnsembleEstimator :  Stacked Ensemble\n",
            "Model Key:  ensemble_glm\n"
          ]
        },
        {
          "output_type": "display_data",
          "data": {
            "text/plain": "            0       1   Error             Rate\n0      0  0.0   423.0     1.0    (423.0/423.0)\n1      1  0.0   800.0     0.0      (0.0/800.0)\n2  Total  0.0  1223.0  0.3459   (423.0/1223.0)",
            "text/html": "<div>\n<style scoped>\n    .dataframe tbody tr th:only-of-type {\n        vertical-align: middle;\n    }\n\n    .dataframe tbody tr th {\n        vertical-align: top;\n    }\n\n    .dataframe thead th {\n        text-align: right;\n    }\n</style>\n<table border=\"1\" class=\"dataframe\">\n  <thead>\n    <tr style=\"text-align: right;\">\n      <th></th>\n      <th></th>\n      <th>0</th>\n      <th>1</th>\n      <th>Error</th>\n      <th>Rate</th>\n    </tr>\n  </thead>\n  <tbody>\n    <tr>\n      <th>0</th>\n      <td>0</td>\n      <td>0.0</td>\n      <td>423.0</td>\n      <td>1.0</td>\n      <td>(423.0/423.0)</td>\n    </tr>\n    <tr>\n      <th>1</th>\n      <td>1</td>\n      <td>0.0</td>\n      <td>800.0</td>\n      <td>0.0</td>\n      <td>(0.0/800.0)</td>\n    </tr>\n    <tr>\n      <th>2</th>\n      <td>Total</td>\n      <td>0.0</td>\n      <td>1223.0</td>\n      <td>0.3459</td>\n      <td>(423.0/1223.0)</td>\n    </tr>\n  </tbody>\n</table>\n</div>"
          },
          "metadata": {}
        },
        {
          "output_type": "display_data",
          "data": {
            "text/plain": "                         metric  threshold       value  idx\n0                        max f1   0.654129    0.790905  0.0\n1                        max f2   0.654129    0.904364  0.0\n2                  max f0point5   0.654129    0.702741  0.0\n3                  max accuracy   0.654129    0.654129  0.0\n4                 max precision   0.654129    0.654129  0.0\n5                    max recall   0.654129    1.000000  0.0\n6               max specificity   0.654129    0.000000  0.0\n7              max absolute_mcc   0.654129    0.000000  0.0\n8    max min_per_class_accuracy   0.654129    0.000000  0.0\n9   max mean_per_class_accuracy   0.654129    0.500000  0.0\n10                      max tns   0.654129    0.000000  0.0\n11                      max fns   0.654129    0.000000  0.0\n12                      max fps   0.654129  423.000000  0.0\n13                      max tps   0.654129  800.000000  0.0\n14                      max tnr   0.654129    0.000000  0.0\n15                      max fnr   0.654129    0.000000  0.0\n16                      max fpr   0.654129    1.000000  0.0\n17                      max tpr   0.654129    1.000000  0.0",
            "text/html": "<div>\n<style scoped>\n    .dataframe tbody tr th:only-of-type {\n        vertical-align: middle;\n    }\n\n    .dataframe tbody tr th {\n        vertical-align: top;\n    }\n\n    .dataframe thead th {\n        text-align: right;\n    }\n</style>\n<table border=\"1\" class=\"dataframe\">\n  <thead>\n    <tr style=\"text-align: right;\">\n      <th></th>\n      <th>metric</th>\n      <th>threshold</th>\n      <th>value</th>\n      <th>idx</th>\n    </tr>\n  </thead>\n  <tbody>\n    <tr>\n      <th>0</th>\n      <td>max f1</td>\n      <td>0.654129</td>\n      <td>0.790905</td>\n      <td>0.0</td>\n    </tr>\n    <tr>\n      <th>1</th>\n      <td>max f2</td>\n      <td>0.654129</td>\n      <td>0.904364</td>\n      <td>0.0</td>\n    </tr>\n    <tr>\n      <th>2</th>\n      <td>max f0point5</td>\n      <td>0.654129</td>\n      <td>0.702741</td>\n      <td>0.0</td>\n    </tr>\n    <tr>\n      <th>3</th>\n      <td>max accuracy</td>\n      <td>0.654129</td>\n      <td>0.654129</td>\n      <td>0.0</td>\n    </tr>\n    <tr>\n      <th>4</th>\n      <td>max precision</td>\n      <td>0.654129</td>\n      <td>0.654129</td>\n      <td>0.0</td>\n    </tr>\n    <tr>\n      <th>5</th>\n      <td>max recall</td>\n      <td>0.654129</td>\n      <td>1.000000</td>\n      <td>0.0</td>\n    </tr>\n    <tr>\n      <th>6</th>\n      <td>max specificity</td>\n      <td>0.654129</td>\n      <td>0.000000</td>\n      <td>0.0</td>\n    </tr>\n    <tr>\n      <th>7</th>\n      <td>max absolute_mcc</td>\n      <td>0.654129</td>\n      <td>0.000000</td>\n      <td>0.0</td>\n    </tr>\n    <tr>\n      <th>8</th>\n      <td>max min_per_class_accuracy</td>\n      <td>0.654129</td>\n      <td>0.000000</td>\n      <td>0.0</td>\n    </tr>\n    <tr>\n      <th>9</th>\n      <td>max mean_per_class_accuracy</td>\n      <td>0.654129</td>\n      <td>0.500000</td>\n      <td>0.0</td>\n    </tr>\n    <tr>\n      <th>10</th>\n      <td>max tns</td>\n      <td>0.654129</td>\n      <td>0.000000</td>\n      <td>0.0</td>\n    </tr>\n    <tr>\n      <th>11</th>\n      <td>max fns</td>\n      <td>0.654129</td>\n      <td>0.000000</td>\n      <td>0.0</td>\n    </tr>\n    <tr>\n      <th>12</th>\n      <td>max fps</td>\n      <td>0.654129</td>\n      <td>423.000000</td>\n      <td>0.0</td>\n    </tr>\n    <tr>\n      <th>13</th>\n      <td>max tps</td>\n      <td>0.654129</td>\n      <td>800.000000</td>\n      <td>0.0</td>\n    </tr>\n    <tr>\n      <th>14</th>\n      <td>max tnr</td>\n      <td>0.654129</td>\n      <td>0.000000</td>\n      <td>0.0</td>\n    </tr>\n    <tr>\n      <th>15</th>\n      <td>max fnr</td>\n      <td>0.654129</td>\n      <td>0.000000</td>\n      <td>0.0</td>\n    </tr>\n    <tr>\n      <th>16</th>\n      <td>max fpr</td>\n      <td>0.654129</td>\n      <td>1.000000</td>\n      <td>0.0</td>\n    </tr>\n    <tr>\n      <th>17</th>\n      <td>max tpr</td>\n      <td>0.654129</td>\n      <td>1.000000</td>\n      <td>0.0</td>\n    </tr>\n  </tbody>\n</table>\n</div>"
          },
          "metadata": {}
        },
        {
          "output_type": "display_data",
          "data": {
            "text/plain": "     group  cumulative_data_fraction  lower_threshold  lift  cumulative_lift  \\\n0        1                       1.0         0.654129   1.0              1.0   \n\n   response_rate     score  cumulative_response_rate  cumulative_score  \\\n0       0.654129  0.654129                  0.654129          0.654129   \n\n   capture_rate  cumulative_capture_rate  gain  cumulative_gain  \n0           1.0                      1.0   0.0              0.0  ",
            "text/html": "<div>\n<style scoped>\n    .dataframe tbody tr th:only-of-type {\n        vertical-align: middle;\n    }\n\n    .dataframe tbody tr th {\n        vertical-align: top;\n    }\n\n    .dataframe thead th {\n        text-align: right;\n    }\n</style>\n<table border=\"1\" class=\"dataframe\">\n  <thead>\n    <tr style=\"text-align: right;\">\n      <th></th>\n      <th></th>\n      <th>group</th>\n      <th>cumulative_data_fraction</th>\n      <th>lower_threshold</th>\n      <th>lift</th>\n      <th>cumulative_lift</th>\n      <th>response_rate</th>\n      <th>score</th>\n      <th>cumulative_response_rate</th>\n      <th>cumulative_score</th>\n      <th>capture_rate</th>\n      <th>cumulative_capture_rate</th>\n      <th>gain</th>\n      <th>cumulative_gain</th>\n    </tr>\n  </thead>\n  <tbody>\n    <tr>\n      <th>0</th>\n      <td></td>\n      <td>1</td>\n      <td>1.0</td>\n      <td>0.654129</td>\n      <td>1.0</td>\n      <td>1.0</td>\n      <td>0.654129</td>\n      <td>0.654129</td>\n      <td>0.654129</td>\n      <td>0.654129</td>\n      <td>1.0</td>\n      <td>1.0</td>\n      <td>0.0</td>\n      <td>0.0</td>\n    </tr>\n  </tbody>\n</table>\n</div>"
          },
          "metadata": {}
        },
        {
          "output_type": "stream",
          "name": "stdout",
          "text": [
            "\n"
          ]
        },
        {
          "output_type": "display_data",
          "data": {
            "text/plain": "            0      1   Error            Rate\n0      0  0.0  163.0     1.0   (163.0/163.0)\n1      1  0.0  338.0     0.0     (0.0/338.0)\n2  Total  0.0  501.0  0.3253   (163.0/501.0)",
            "text/html": "<div>\n<style scoped>\n    .dataframe tbody tr th:only-of-type {\n        vertical-align: middle;\n    }\n\n    .dataframe tbody tr th {\n        vertical-align: top;\n    }\n\n    .dataframe thead th {\n        text-align: right;\n    }\n</style>\n<table border=\"1\" class=\"dataframe\">\n  <thead>\n    <tr style=\"text-align: right;\">\n      <th></th>\n      <th></th>\n      <th>0</th>\n      <th>1</th>\n      <th>Error</th>\n      <th>Rate</th>\n    </tr>\n  </thead>\n  <tbody>\n    <tr>\n      <th>0</th>\n      <td>0</td>\n      <td>0.0</td>\n      <td>163.0</td>\n      <td>1.0</td>\n      <td>(163.0/163.0)</td>\n    </tr>\n    <tr>\n      <th>1</th>\n      <td>1</td>\n      <td>0.0</td>\n      <td>338.0</td>\n      <td>0.0</td>\n      <td>(0.0/338.0)</td>\n    </tr>\n    <tr>\n      <th>2</th>\n      <td>Total</td>\n      <td>0.0</td>\n      <td>501.0</td>\n      <td>0.3253</td>\n      <td>(163.0/501.0)</td>\n    </tr>\n  </tbody>\n</table>\n</div>"
          },
          "metadata": {}
        },
        {
          "output_type": "display_data",
          "data": {
            "text/plain": "                         metric  threshold       value  idx\n0                        max f1   0.654129    0.805721  0.0\n1                        max f2   0.654129    0.912035  0.0\n2                  max f0point5   0.654129    0.721605  0.0\n3                  max accuracy   0.654129    0.674651  0.0\n4                 max precision   0.654129    0.674651  0.0\n5                    max recall   0.654129    1.000000  0.0\n6               max specificity   0.654129    0.000000  0.0\n7              max absolute_mcc   0.654129    0.000000  0.0\n8    max min_per_class_accuracy   0.654129    0.000000  0.0\n9   max mean_per_class_accuracy   0.654129    0.500000  0.0\n10                      max tns   0.654129    0.000000  0.0\n11                      max fns   0.654129    0.000000  0.0\n12                      max fps   0.654129  163.000000  0.0\n13                      max tps   0.654129  338.000000  0.0\n14                      max tnr   0.654129    0.000000  0.0\n15                      max fnr   0.654129    0.000000  0.0\n16                      max fpr   0.654129    1.000000  0.0\n17                      max tpr   0.654129    1.000000  0.0",
            "text/html": "<div>\n<style scoped>\n    .dataframe tbody tr th:only-of-type {\n        vertical-align: middle;\n    }\n\n    .dataframe tbody tr th {\n        vertical-align: top;\n    }\n\n    .dataframe thead th {\n        text-align: right;\n    }\n</style>\n<table border=\"1\" class=\"dataframe\">\n  <thead>\n    <tr style=\"text-align: right;\">\n      <th></th>\n      <th>metric</th>\n      <th>threshold</th>\n      <th>value</th>\n      <th>idx</th>\n    </tr>\n  </thead>\n  <tbody>\n    <tr>\n      <th>0</th>\n      <td>max f1</td>\n      <td>0.654129</td>\n      <td>0.805721</td>\n      <td>0.0</td>\n    </tr>\n    <tr>\n      <th>1</th>\n      <td>max f2</td>\n      <td>0.654129</td>\n      <td>0.912035</td>\n      <td>0.0</td>\n    </tr>\n    <tr>\n      <th>2</th>\n      <td>max f0point5</td>\n      <td>0.654129</td>\n      <td>0.721605</td>\n      <td>0.0</td>\n    </tr>\n    <tr>\n      <th>3</th>\n      <td>max accuracy</td>\n      <td>0.654129</td>\n      <td>0.674651</td>\n      <td>0.0</td>\n    </tr>\n    <tr>\n      <th>4</th>\n      <td>max precision</td>\n      <td>0.654129</td>\n      <td>0.674651</td>\n      <td>0.0</td>\n    </tr>\n    <tr>\n      <th>5</th>\n      <td>max recall</td>\n      <td>0.654129</td>\n      <td>1.000000</td>\n      <td>0.0</td>\n    </tr>\n    <tr>\n      <th>6</th>\n      <td>max specificity</td>\n      <td>0.654129</td>\n      <td>0.000000</td>\n      <td>0.0</td>\n    </tr>\n    <tr>\n      <th>7</th>\n      <td>max absolute_mcc</td>\n      <td>0.654129</td>\n      <td>0.000000</td>\n      <td>0.0</td>\n    </tr>\n    <tr>\n      <th>8</th>\n      <td>max min_per_class_accuracy</td>\n      <td>0.654129</td>\n      <td>0.000000</td>\n      <td>0.0</td>\n    </tr>\n    <tr>\n      <th>9</th>\n      <td>max mean_per_class_accuracy</td>\n      <td>0.654129</td>\n      <td>0.500000</td>\n      <td>0.0</td>\n    </tr>\n    <tr>\n      <th>10</th>\n      <td>max tns</td>\n      <td>0.654129</td>\n      <td>0.000000</td>\n      <td>0.0</td>\n    </tr>\n    <tr>\n      <th>11</th>\n      <td>max fns</td>\n      <td>0.654129</td>\n      <td>0.000000</td>\n      <td>0.0</td>\n    </tr>\n    <tr>\n      <th>12</th>\n      <td>max fps</td>\n      <td>0.654129</td>\n      <td>163.000000</td>\n      <td>0.0</td>\n    </tr>\n    <tr>\n      <th>13</th>\n      <td>max tps</td>\n      <td>0.654129</td>\n      <td>338.000000</td>\n      <td>0.0</td>\n    </tr>\n    <tr>\n      <th>14</th>\n      <td>max tnr</td>\n      <td>0.654129</td>\n      <td>0.000000</td>\n      <td>0.0</td>\n    </tr>\n    <tr>\n      <th>15</th>\n      <td>max fnr</td>\n      <td>0.654129</td>\n      <td>0.000000</td>\n      <td>0.0</td>\n    </tr>\n    <tr>\n      <th>16</th>\n      <td>max fpr</td>\n      <td>0.654129</td>\n      <td>1.000000</td>\n      <td>0.0</td>\n    </tr>\n    <tr>\n      <th>17</th>\n      <td>max tpr</td>\n      <td>0.654129</td>\n      <td>1.000000</td>\n      <td>0.0</td>\n    </tr>\n  </tbody>\n</table>\n</div>"
          },
          "metadata": {}
        },
        {
          "output_type": "display_data",
          "data": {
            "text/plain": "     group  cumulative_data_fraction  lower_threshold  lift  cumulative_lift  \\\n0        1                       1.0         0.654129   1.0              1.0   \n\n   response_rate     score  cumulative_response_rate  cumulative_score  \\\n0       0.674651  0.654129                  0.674651          0.654129   \n\n   capture_rate  cumulative_capture_rate  gain  cumulative_gain  \n0           1.0                      1.0   0.0              0.0  ",
            "text/html": "<div>\n<style scoped>\n    .dataframe tbody tr th:only-of-type {\n        vertical-align: middle;\n    }\n\n    .dataframe tbody tr th {\n        vertical-align: top;\n    }\n\n    .dataframe thead th {\n        text-align: right;\n    }\n</style>\n<table border=\"1\" class=\"dataframe\">\n  <thead>\n    <tr style=\"text-align: right;\">\n      <th></th>\n      <th></th>\n      <th>group</th>\n      <th>cumulative_data_fraction</th>\n      <th>lower_threshold</th>\n      <th>lift</th>\n      <th>cumulative_lift</th>\n      <th>response_rate</th>\n      <th>score</th>\n      <th>cumulative_response_rate</th>\n      <th>cumulative_score</th>\n      <th>capture_rate</th>\n      <th>cumulative_capture_rate</th>\n      <th>gain</th>\n      <th>cumulative_gain</th>\n    </tr>\n  </thead>\n  <tbody>\n    <tr>\n      <th>0</th>\n      <td></td>\n      <td>1</td>\n      <td>1.0</td>\n      <td>0.654129</td>\n      <td>1.0</td>\n      <td>1.0</td>\n      <td>0.674651</td>\n      <td>0.654129</td>\n      <td>0.674651</td>\n      <td>0.654129</td>\n      <td>1.0</td>\n      <td>1.0</td>\n      <td>0.0</td>\n      <td>0.0</td>\n    </tr>\n  </tbody>\n</table>\n</div>"
          },
          "metadata": {}
        },
        {
          "output_type": "stream",
          "name": "stdout",
          "text": [
            "No model summary for this model\n",
            "\n",
            "ModelMetricsBinomialGLM: stackedensemble\n",
            "** Reported on train data. **\n",
            "\n",
            "MSE: 0.22624419263115159\n",
            "RMSE: 0.47565133515123403\n",
            "LogLoss: 0.6448529665367898\n",
            "Null degrees of freedom: 1222\n",
            "Residual degrees of freedom: 1222\n",
            "Null deviance: 1577.310356148988\n",
            "Residual deviance: 1577.310356148988\n",
            "AIC: 1579.310356148988\n",
            "AUC: 0.5\n",
            "AUCPR: 0.6541291905151267\n",
            "Gini: 0.0\n",
            "\n",
            "Confusion Matrix (Act/Pred) for max f1 @ threshold = 0.6541291905151275: \n",
            "\n",
            "Maximum Metrics: Maximum metrics at their respective thresholds\n",
            "\n",
            "Gains/Lift Table: Avg response rate: 65.41 %, avg score: 65.41 %\n",
            "\n",
            "\n",
            "ModelMetricsBinomialGLM: stackedensemble\n",
            "** Reported on validation data. **\n",
            "\n",
            "MSE: 0.21991826577174792\n",
            "RMSE: 0.4689544389082461\n",
            "LogLoss: 0.6317758499859693\n",
            "Null degrees of freedom: 500\n",
            "Residual degrees of freedom: 500\n",
            "Null deviance: 633.0394016859412\n",
            "Residual deviance: 633.0394016859412\n",
            "AIC: 635.0394016859412\n",
            "AUC: 0.5\n",
            "AUCPR: 0.6746506986027944\n",
            "Gini: 0.0\n",
            "\n",
            "Confusion Matrix (Act/Pred) for max f1 @ threshold = 0.6541291905151275: \n",
            "\n",
            "Maximum Metrics: Maximum metrics at their respective thresholds\n",
            "\n",
            "Gains/Lift Table: Avg response rate: 67.47 %, avg score: 65.41 %\n",
            "\n",
            "Model Details\n",
            "=============\n",
            "H2OStackedEnsembleEstimator :  Stacked Ensemble\n",
            "Model Key:  ensemble_naivebayes\n",
            "\n",
            "No model summary for this model\n",
            "\n",
            "ModelMetricsBinomialGLM: stackedensemble\n",
            "** Reported on train data. **\n",
            "\n",
            "MSE: 0.22624419263115159\n",
            "RMSE: 0.47565133515123403\n",
            "LogLoss: 0.6448529665367898\n",
            "Null degrees of freedom: 1222\n",
            "Residual degrees of freedom: 1222\n",
            "Null deviance: 1577.310356148988\n",
            "Residual deviance: 1577.310356148988\n",
            "AIC: 1579.310356148988\n",
            "AUC: 0.5\n",
            "AUCPR: 0.6541291905151267\n",
            "Gini: 0.0\n",
            "\n",
            "Confusion Matrix (Act/Pred) for max f1 @ threshold = 0.6541291905151275: \n",
            "\n",
            "Maximum Metrics: Maximum metrics at their respective thresholds\n",
            "\n",
            "Gains/Lift Table: Avg response rate: 65.41 %, avg score: 65.41 %\n",
            "\n",
            "\n",
            "ModelMetricsBinomialGLM: stackedensemble\n",
            "** Reported on validation data. **\n",
            "\n",
            "MSE: 0.21991826577174792\n",
            "RMSE: 0.4689544389082461\n",
            "LogLoss: 0.6317758499859693\n",
            "Null degrees of freedom: 500\n",
            "Residual degrees of freedom: 500\n",
            "Null deviance: 633.0394016859412\n",
            "Residual deviance: 633.0394016859412\n",
            "AIC: 635.0394016859412\n",
            "AUC: 0.5\n",
            "AUCPR: 0.6746506986027944\n",
            "Gini: 0.0\n",
            "\n",
            "Confusion Matrix (Act/Pred) for max f1 @ threshold = 0.6541291905151275: \n",
            "\n",
            "Maximum Metrics: Maximum metrics at their respective thresholds\n",
            "\n",
            "Gains/Lift Table: Avg response rate: 67.47 %, avg score: 65.41 %\n",
            "\n"
          ]
        },
        {
          "output_type": "display_data",
          "data": {
            "text/plain": "            0       1   Error             Rate\n0      0  0.0   423.0     1.0    (423.0/423.0)\n1      1  0.0   800.0     0.0      (0.0/800.0)\n2  Total  0.0  1223.0  0.3459   (423.0/1223.0)",
            "text/html": "<div>\n<style scoped>\n    .dataframe tbody tr th:only-of-type {\n        vertical-align: middle;\n    }\n\n    .dataframe tbody tr th {\n        vertical-align: top;\n    }\n\n    .dataframe thead th {\n        text-align: right;\n    }\n</style>\n<table border=\"1\" class=\"dataframe\">\n  <thead>\n    <tr style=\"text-align: right;\">\n      <th></th>\n      <th></th>\n      <th>0</th>\n      <th>1</th>\n      <th>Error</th>\n      <th>Rate</th>\n    </tr>\n  </thead>\n  <tbody>\n    <tr>\n      <th>0</th>\n      <td>0</td>\n      <td>0.0</td>\n      <td>423.0</td>\n      <td>1.0</td>\n      <td>(423.0/423.0)</td>\n    </tr>\n    <tr>\n      <th>1</th>\n      <td>1</td>\n      <td>0.0</td>\n      <td>800.0</td>\n      <td>0.0</td>\n      <td>(0.0/800.0)</td>\n    </tr>\n    <tr>\n      <th>2</th>\n      <td>Total</td>\n      <td>0.0</td>\n      <td>1223.0</td>\n      <td>0.3459</td>\n      <td>(423.0/1223.0)</td>\n    </tr>\n  </tbody>\n</table>\n</div>"
          },
          "metadata": {}
        },
        {
          "output_type": "display_data",
          "data": {
            "text/plain": "                         metric  threshold       value  idx\n0                        max f1   0.654129    0.790905  0.0\n1                        max f2   0.654129    0.904364  0.0\n2                  max f0point5   0.654129    0.702741  0.0\n3                  max accuracy   0.654129    0.654129  0.0\n4                 max precision   0.654129    0.654129  0.0\n5                    max recall   0.654129    1.000000  0.0\n6               max specificity   0.654129    0.000000  0.0\n7              max absolute_mcc   0.654129    0.000000  0.0\n8    max min_per_class_accuracy   0.654129    0.000000  0.0\n9   max mean_per_class_accuracy   0.654129    0.500000  0.0\n10                      max tns   0.654129    0.000000  0.0\n11                      max fns   0.654129    0.000000  0.0\n12                      max fps   0.654129  423.000000  0.0\n13                      max tps   0.654129  800.000000  0.0\n14                      max tnr   0.654129    0.000000  0.0\n15                      max fnr   0.654129    0.000000  0.0\n16                      max fpr   0.654129    1.000000  0.0\n17                      max tpr   0.654129    1.000000  0.0",
            "text/html": "<div>\n<style scoped>\n    .dataframe tbody tr th:only-of-type {\n        vertical-align: middle;\n    }\n\n    .dataframe tbody tr th {\n        vertical-align: top;\n    }\n\n    .dataframe thead th {\n        text-align: right;\n    }\n</style>\n<table border=\"1\" class=\"dataframe\">\n  <thead>\n    <tr style=\"text-align: right;\">\n      <th></th>\n      <th>metric</th>\n      <th>threshold</th>\n      <th>value</th>\n      <th>idx</th>\n    </tr>\n  </thead>\n  <tbody>\n    <tr>\n      <th>0</th>\n      <td>max f1</td>\n      <td>0.654129</td>\n      <td>0.790905</td>\n      <td>0.0</td>\n    </tr>\n    <tr>\n      <th>1</th>\n      <td>max f2</td>\n      <td>0.654129</td>\n      <td>0.904364</td>\n      <td>0.0</td>\n    </tr>\n    <tr>\n      <th>2</th>\n      <td>max f0point5</td>\n      <td>0.654129</td>\n      <td>0.702741</td>\n      <td>0.0</td>\n    </tr>\n    <tr>\n      <th>3</th>\n      <td>max accuracy</td>\n      <td>0.654129</td>\n      <td>0.654129</td>\n      <td>0.0</td>\n    </tr>\n    <tr>\n      <th>4</th>\n      <td>max precision</td>\n      <td>0.654129</td>\n      <td>0.654129</td>\n      <td>0.0</td>\n    </tr>\n    <tr>\n      <th>5</th>\n      <td>max recall</td>\n      <td>0.654129</td>\n      <td>1.000000</td>\n      <td>0.0</td>\n    </tr>\n    <tr>\n      <th>6</th>\n      <td>max specificity</td>\n      <td>0.654129</td>\n      <td>0.000000</td>\n      <td>0.0</td>\n    </tr>\n    <tr>\n      <th>7</th>\n      <td>max absolute_mcc</td>\n      <td>0.654129</td>\n      <td>0.000000</td>\n      <td>0.0</td>\n    </tr>\n    <tr>\n      <th>8</th>\n      <td>max min_per_class_accuracy</td>\n      <td>0.654129</td>\n      <td>0.000000</td>\n      <td>0.0</td>\n    </tr>\n    <tr>\n      <th>9</th>\n      <td>max mean_per_class_accuracy</td>\n      <td>0.654129</td>\n      <td>0.500000</td>\n      <td>0.0</td>\n    </tr>\n    <tr>\n      <th>10</th>\n      <td>max tns</td>\n      <td>0.654129</td>\n      <td>0.000000</td>\n      <td>0.0</td>\n    </tr>\n    <tr>\n      <th>11</th>\n      <td>max fns</td>\n      <td>0.654129</td>\n      <td>0.000000</td>\n      <td>0.0</td>\n    </tr>\n    <tr>\n      <th>12</th>\n      <td>max fps</td>\n      <td>0.654129</td>\n      <td>423.000000</td>\n      <td>0.0</td>\n    </tr>\n    <tr>\n      <th>13</th>\n      <td>max tps</td>\n      <td>0.654129</td>\n      <td>800.000000</td>\n      <td>0.0</td>\n    </tr>\n    <tr>\n      <th>14</th>\n      <td>max tnr</td>\n      <td>0.654129</td>\n      <td>0.000000</td>\n      <td>0.0</td>\n    </tr>\n    <tr>\n      <th>15</th>\n      <td>max fnr</td>\n      <td>0.654129</td>\n      <td>0.000000</td>\n      <td>0.0</td>\n    </tr>\n    <tr>\n      <th>16</th>\n      <td>max fpr</td>\n      <td>0.654129</td>\n      <td>1.000000</td>\n      <td>0.0</td>\n    </tr>\n    <tr>\n      <th>17</th>\n      <td>max tpr</td>\n      <td>0.654129</td>\n      <td>1.000000</td>\n      <td>0.0</td>\n    </tr>\n  </tbody>\n</table>\n</div>"
          },
          "metadata": {}
        },
        {
          "output_type": "display_data",
          "data": {
            "text/plain": "     group  cumulative_data_fraction  lower_threshold  lift  cumulative_lift  \\\n0        1                       1.0         0.654129   1.0              1.0   \n\n   response_rate     score  cumulative_response_rate  cumulative_score  \\\n0       0.654129  0.654129                  0.654129          0.654129   \n\n   capture_rate  cumulative_capture_rate  gain  cumulative_gain  \n0           1.0                      1.0   0.0              0.0  ",
            "text/html": "<div>\n<style scoped>\n    .dataframe tbody tr th:only-of-type {\n        vertical-align: middle;\n    }\n\n    .dataframe tbody tr th {\n        vertical-align: top;\n    }\n\n    .dataframe thead th {\n        text-align: right;\n    }\n</style>\n<table border=\"1\" class=\"dataframe\">\n  <thead>\n    <tr style=\"text-align: right;\">\n      <th></th>\n      <th></th>\n      <th>group</th>\n      <th>cumulative_data_fraction</th>\n      <th>lower_threshold</th>\n      <th>lift</th>\n      <th>cumulative_lift</th>\n      <th>response_rate</th>\n      <th>score</th>\n      <th>cumulative_response_rate</th>\n      <th>cumulative_score</th>\n      <th>capture_rate</th>\n      <th>cumulative_capture_rate</th>\n      <th>gain</th>\n      <th>cumulative_gain</th>\n    </tr>\n  </thead>\n  <tbody>\n    <tr>\n      <th>0</th>\n      <td></td>\n      <td>1</td>\n      <td>1.0</td>\n      <td>0.654129</td>\n      <td>1.0</td>\n      <td>1.0</td>\n      <td>0.654129</td>\n      <td>0.654129</td>\n      <td>0.654129</td>\n      <td>0.654129</td>\n      <td>1.0</td>\n      <td>1.0</td>\n      <td>0.0</td>\n      <td>0.0</td>\n    </tr>\n  </tbody>\n</table>\n</div>"
          },
          "metadata": {}
        },
        {
          "output_type": "stream",
          "name": "stdout",
          "text": [
            "Model Details"
          ]
        },
        {
          "output_type": "display_data",
          "data": {
            "text/plain": "            0      1   Error            Rate\n0      0  0.0  163.0     1.0   (163.0/163.0)\n1      1  0.0  338.0     0.0     (0.0/338.0)\n2  Total  0.0  501.0  0.3253   (163.0/501.0)",
            "text/html": "<div>\n<style scoped>\n    .dataframe tbody tr th:only-of-type {\n        vertical-align: middle;\n    }\n\n    .dataframe tbody tr th {\n        vertical-align: top;\n    }\n\n    .dataframe thead th {\n        text-align: right;\n    }\n</style>\n<table border=\"1\" class=\"dataframe\">\n  <thead>\n    <tr style=\"text-align: right;\">\n      <th></th>\n      <th></th>\n      <th>0</th>\n      <th>1</th>\n      <th>Error</th>\n      <th>Rate</th>\n    </tr>\n  </thead>\n  <tbody>\n    <tr>\n      <th>0</th>\n      <td>0</td>\n      <td>0.0</td>\n      <td>163.0</td>\n      <td>1.0</td>\n      <td>(163.0/163.0)</td>\n    </tr>\n    <tr>\n      <th>1</th>\n      <td>1</td>\n      <td>0.0</td>\n      <td>338.0</td>\n      <td>0.0</td>\n      <td>(0.0/338.0)</td>\n    </tr>\n    <tr>\n      <th>2</th>\n      <td>Total</td>\n      <td>0.0</td>\n      <td>501.0</td>\n      <td>0.3253</td>\n      <td>(163.0/501.0)</td>\n    </tr>\n  </tbody>\n</table>\n</div>"
          },
          "metadata": {}
        },
        {
          "output_type": "display_data",
          "data": {
            "text/plain": "                         metric  threshold       value  idx\n0                        max f1   0.654129    0.805721  0.0\n1                        max f2   0.654129    0.912035  0.0\n2                  max f0point5   0.654129    0.721605  0.0\n3                  max accuracy   0.654129    0.674651  0.0\n4                 max precision   0.654129    0.674651  0.0\n5                    max recall   0.654129    1.000000  0.0\n6               max specificity   0.654129    0.000000  0.0\n7              max absolute_mcc   0.654129    0.000000  0.0\n8    max min_per_class_accuracy   0.654129    0.000000  0.0\n9   max mean_per_class_accuracy   0.654129    0.500000  0.0\n10                      max tns   0.654129    0.000000  0.0\n11                      max fns   0.654129    0.000000  0.0\n12                      max fps   0.654129  163.000000  0.0\n13                      max tps   0.654129  338.000000  0.0\n14                      max tnr   0.654129    0.000000  0.0\n15                      max fnr   0.654129    0.000000  0.0\n16                      max fpr   0.654129    1.000000  0.0\n17                      max tpr   0.654129    1.000000  0.0",
            "text/html": "<div>\n<style scoped>\n    .dataframe tbody tr th:only-of-type {\n        vertical-align: middle;\n    }\n\n    .dataframe tbody tr th {\n        vertical-align: top;\n    }\n\n    .dataframe thead th {\n        text-align: right;\n    }\n</style>\n<table border=\"1\" class=\"dataframe\">\n  <thead>\n    <tr style=\"text-align: right;\">\n      <th></th>\n      <th>metric</th>\n      <th>threshold</th>\n      <th>value</th>\n      <th>idx</th>\n    </tr>\n  </thead>\n  <tbody>\n    <tr>\n      <th>0</th>\n      <td>max f1</td>\n      <td>0.654129</td>\n      <td>0.805721</td>\n      <td>0.0</td>\n    </tr>\n    <tr>\n      <th>1</th>\n      <td>max f2</td>\n      <td>0.654129</td>\n      <td>0.912035</td>\n      <td>0.0</td>\n    </tr>\n    <tr>\n      <th>2</th>\n      <td>max f0point5</td>\n      <td>0.654129</td>\n      <td>0.721605</td>\n      <td>0.0</td>\n    </tr>\n    <tr>\n      <th>3</th>\n      <td>max accuracy</td>\n      <td>0.654129</td>\n      <td>0.674651</td>\n      <td>0.0</td>\n    </tr>\n    <tr>\n      <th>4</th>\n      <td>max precision</td>\n      <td>0.654129</td>\n      <td>0.674651</td>\n      <td>0.0</td>\n    </tr>\n    <tr>\n      <th>5</th>\n      <td>max recall</td>\n      <td>0.654129</td>\n      <td>1.000000</td>\n      <td>0.0</td>\n    </tr>\n    <tr>\n      <th>6</th>\n      <td>max specificity</td>\n      <td>0.654129</td>\n      <td>0.000000</td>\n      <td>0.0</td>\n    </tr>\n    <tr>\n      <th>7</th>\n      <td>max absolute_mcc</td>\n      <td>0.654129</td>\n      <td>0.000000</td>\n      <td>0.0</td>\n    </tr>\n    <tr>\n      <th>8</th>\n      <td>max min_per_class_accuracy</td>\n      <td>0.654129</td>\n      <td>0.000000</td>\n      <td>0.0</td>\n    </tr>\n    <tr>\n      <th>9</th>\n      <td>max mean_per_class_accuracy</td>\n      <td>0.654129</td>\n      <td>0.500000</td>\n      <td>0.0</td>\n    </tr>\n    <tr>\n      <th>10</th>\n      <td>max tns</td>\n      <td>0.654129</td>\n      <td>0.000000</td>\n      <td>0.0</td>\n    </tr>\n    <tr>\n      <th>11</th>\n      <td>max fns</td>\n      <td>0.654129</td>\n      <td>0.000000</td>\n      <td>0.0</td>\n    </tr>\n    <tr>\n      <th>12</th>\n      <td>max fps</td>\n      <td>0.654129</td>\n      <td>163.000000</td>\n      <td>0.0</td>\n    </tr>\n    <tr>\n      <th>13</th>\n      <td>max tps</td>\n      <td>0.654129</td>\n      <td>338.000000</td>\n      <td>0.0</td>\n    </tr>\n    <tr>\n      <th>14</th>\n      <td>max tnr</td>\n      <td>0.654129</td>\n      <td>0.000000</td>\n      <td>0.0</td>\n    </tr>\n    <tr>\n      <th>15</th>\n      <td>max fnr</td>\n      <td>0.654129</td>\n      <td>0.000000</td>\n      <td>0.0</td>\n    </tr>\n    <tr>\n      <th>16</th>\n      <td>max fpr</td>\n      <td>0.654129</td>\n      <td>1.000000</td>\n      <td>0.0</td>\n    </tr>\n    <tr>\n      <th>17</th>\n      <td>max tpr</td>\n      <td>0.654129</td>\n      <td>1.000000</td>\n      <td>0.0</td>\n    </tr>\n  </tbody>\n</table>\n</div>"
          },
          "metadata": {}
        },
        {
          "output_type": "display_data",
          "data": {
            "text/plain": "     group  cumulative_data_fraction  lower_threshold  lift  cumulative_lift  \\\n0        1                       1.0         0.654129   1.0              1.0   \n\n   response_rate     score  cumulative_response_rate  cumulative_score  \\\n0       0.674651  0.654129                  0.674651          0.654129   \n\n   capture_rate  cumulative_capture_rate  gain  cumulative_gain  \n0           1.0                      1.0   0.0              0.0  ",
            "text/html": "<div>\n<style scoped>\n    .dataframe tbody tr th:only-of-type {\n        vertical-align: middle;\n    }\n\n    .dataframe tbody tr th {\n        vertical-align: top;\n    }\n\n    .dataframe thead th {\n        text-align: right;\n    }\n</style>\n<table border=\"1\" class=\"dataframe\">\n  <thead>\n    <tr style=\"text-align: right;\">\n      <th></th>\n      <th></th>\n      <th>group</th>\n      <th>cumulative_data_fraction</th>\n      <th>lower_threshold</th>\n      <th>lift</th>\n      <th>cumulative_lift</th>\n      <th>response_rate</th>\n      <th>score</th>\n      <th>cumulative_response_rate</th>\n      <th>cumulative_score</th>\n      <th>capture_rate</th>\n      <th>cumulative_capture_rate</th>\n      <th>gain</th>\n      <th>cumulative_gain</th>\n    </tr>\n  </thead>\n  <tbody>\n    <tr>\n      <th>0</th>\n      <td></td>\n      <td>1</td>\n      <td>1.0</td>\n      <td>0.654129</td>\n      <td>1.0</td>\n      <td>1.0</td>\n      <td>0.674651</td>\n      <td>0.654129</td>\n      <td>0.674651</td>\n      <td>0.654129</td>\n      <td>1.0</td>\n      <td>1.0</td>\n      <td>0.0</td>\n      <td>0.0</td>\n    </tr>\n  </tbody>\n</table>\n</div>"
          },
          "metadata": {}
        },
        {
          "output_type": "display_data",
          "data": {
            "text/plain": "            0       1   Error             Rate\n0      0  0.0   423.0     1.0    (423.0/423.0)\n1      1  0.0   800.0     0.0      (0.0/800.0)\n2  Total  0.0  1223.0  0.3459   (423.0/1223.0)",
            "text/html": "<div>\n<style scoped>\n    .dataframe tbody tr th:only-of-type {\n        vertical-align: middle;\n    }\n\n    .dataframe tbody tr th {\n        vertical-align: top;\n    }\n\n    .dataframe thead th {\n        text-align: right;\n    }\n</style>\n<table border=\"1\" class=\"dataframe\">\n  <thead>\n    <tr style=\"text-align: right;\">\n      <th></th>\n      <th></th>\n      <th>0</th>\n      <th>1</th>\n      <th>Error</th>\n      <th>Rate</th>\n    </tr>\n  </thead>\n  <tbody>\n    <tr>\n      <th>0</th>\n      <td>0</td>\n      <td>0.0</td>\n      <td>423.0</td>\n      <td>1.0</td>\n      <td>(423.0/423.0)</td>\n    </tr>\n    <tr>\n      <th>1</th>\n      <td>1</td>\n      <td>0.0</td>\n      <td>800.0</td>\n      <td>0.0</td>\n      <td>(0.0/800.0)</td>\n    </tr>\n    <tr>\n      <th>2</th>\n      <td>Total</td>\n      <td>0.0</td>\n      <td>1223.0</td>\n      <td>0.3459</td>\n      <td>(423.0/1223.0)</td>\n    </tr>\n  </tbody>\n</table>\n</div>"
          },
          "metadata": {}
        },
        {
          "output_type": "display_data",
          "data": {
            "text/plain": "                         metric  threshold       value  idx\n0                        max f1   0.654129    0.790905  0.0\n1                        max f2   0.654129    0.904364  0.0\n2                  max f0point5   0.654129    0.702741  0.0\n3                  max accuracy   0.654129    0.654129  0.0\n4                 max precision   0.654129    0.654129  0.0\n5                    max recall   0.654129    1.000000  0.0\n6               max specificity   0.654129    0.000000  0.0\n7              max absolute_mcc   0.654129    0.000000  0.0\n8    max min_per_class_accuracy   0.654129    0.000000  0.0\n9   max mean_per_class_accuracy   0.654129    0.500000  0.0\n10                      max tns   0.654129    0.000000  0.0\n11                      max fns   0.654129    0.000000  0.0\n12                      max fps   0.654129  423.000000  0.0\n13                      max tps   0.654129  800.000000  0.0\n14                      max tnr   0.654129    0.000000  0.0\n15                      max fnr   0.654129    0.000000  0.0\n16                      max fpr   0.654129    1.000000  0.0\n17                      max tpr   0.654129    1.000000  0.0",
            "text/html": "<div>\n<style scoped>\n    .dataframe tbody tr th:only-of-type {\n        vertical-align: middle;\n    }\n\n    .dataframe tbody tr th {\n        vertical-align: top;\n    }\n\n    .dataframe thead th {\n        text-align: right;\n    }\n</style>\n<table border=\"1\" class=\"dataframe\">\n  <thead>\n    <tr style=\"text-align: right;\">\n      <th></th>\n      <th>metric</th>\n      <th>threshold</th>\n      <th>value</th>\n      <th>idx</th>\n    </tr>\n  </thead>\n  <tbody>\n    <tr>\n      <th>0</th>\n      <td>max f1</td>\n      <td>0.654129</td>\n      <td>0.790905</td>\n      <td>0.0</td>\n    </tr>\n    <tr>\n      <th>1</th>\n      <td>max f2</td>\n      <td>0.654129</td>\n      <td>0.904364</td>\n      <td>0.0</td>\n    </tr>\n    <tr>\n      <th>2</th>\n      <td>max f0point5</td>\n      <td>0.654129</td>\n      <td>0.702741</td>\n      <td>0.0</td>\n    </tr>\n    <tr>\n      <th>3</th>\n      <td>max accuracy</td>\n      <td>0.654129</td>\n      <td>0.654129</td>\n      <td>0.0</td>\n    </tr>\n    <tr>\n      <th>4</th>\n      <td>max precision</td>\n      <td>0.654129</td>\n      <td>0.654129</td>\n      <td>0.0</td>\n    </tr>\n    <tr>\n      <th>5</th>\n      <td>max recall</td>\n      <td>0.654129</td>\n      <td>1.000000</td>\n      <td>0.0</td>\n    </tr>\n    <tr>\n      <th>6</th>\n      <td>max specificity</td>\n      <td>0.654129</td>\n      <td>0.000000</td>\n      <td>0.0</td>\n    </tr>\n    <tr>\n      <th>7</th>\n      <td>max absolute_mcc</td>\n      <td>0.654129</td>\n      <td>0.000000</td>\n      <td>0.0</td>\n    </tr>\n    <tr>\n      <th>8</th>\n      <td>max min_per_class_accuracy</td>\n      <td>0.654129</td>\n      <td>0.000000</td>\n      <td>0.0</td>\n    </tr>\n    <tr>\n      <th>9</th>\n      <td>max mean_per_class_accuracy</td>\n      <td>0.654129</td>\n      <td>0.500000</td>\n      <td>0.0</td>\n    </tr>\n    <tr>\n      <th>10</th>\n      <td>max tns</td>\n      <td>0.654129</td>\n      <td>0.000000</td>\n      <td>0.0</td>\n    </tr>\n    <tr>\n      <th>11</th>\n      <td>max fns</td>\n      <td>0.654129</td>\n      <td>0.000000</td>\n      <td>0.0</td>\n    </tr>\n    <tr>\n      <th>12</th>\n      <td>max fps</td>\n      <td>0.654129</td>\n      <td>423.000000</td>\n      <td>0.0</td>\n    </tr>\n    <tr>\n      <th>13</th>\n      <td>max tps</td>\n      <td>0.654129</td>\n      <td>800.000000</td>\n      <td>0.0</td>\n    </tr>\n    <tr>\n      <th>14</th>\n      <td>max tnr</td>\n      <td>0.654129</td>\n      <td>0.000000</td>\n      <td>0.0</td>\n    </tr>\n    <tr>\n      <th>15</th>\n      <td>max fnr</td>\n      <td>0.654129</td>\n      <td>0.000000</td>\n      <td>0.0</td>\n    </tr>\n    <tr>\n      <th>16</th>\n      <td>max fpr</td>\n      <td>0.654129</td>\n      <td>1.000000</td>\n      <td>0.0</td>\n    </tr>\n    <tr>\n      <th>17</th>\n      <td>max tpr</td>\n      <td>0.654129</td>\n      <td>1.000000</td>\n      <td>0.0</td>\n    </tr>\n  </tbody>\n</table>\n</div>"
          },
          "metadata": {}
        },
        {
          "output_type": "display_data",
          "data": {
            "text/plain": "     group  cumulative_data_fraction  lower_threshold  lift  cumulative_lift  \\\n0        1                       1.0         0.654129   1.0              1.0   \n\n   response_rate     score  cumulative_response_rate  cumulative_score  \\\n0       0.654129  0.654129                  0.654129          0.654129   \n\n   capture_rate  cumulative_capture_rate  gain  cumulative_gain  \n0           1.0                      1.0   0.0              0.0  ",
            "text/html": "<div>\n<style scoped>\n    .dataframe tbody tr th:only-of-type {\n        vertical-align: middle;\n    }\n\n    .dataframe tbody tr th {\n        vertical-align: top;\n    }\n\n    .dataframe thead th {\n        text-align: right;\n    }\n</style>\n<table border=\"1\" class=\"dataframe\">\n  <thead>\n    <tr style=\"text-align: right;\">\n      <th></th>\n      <th></th>\n      <th>group</th>\n      <th>cumulative_data_fraction</th>\n      <th>lower_threshold</th>\n      <th>lift</th>\n      <th>cumulative_lift</th>\n      <th>response_rate</th>\n      <th>score</th>\n      <th>cumulative_response_rate</th>\n      <th>cumulative_score</th>\n      <th>capture_rate</th>\n      <th>cumulative_capture_rate</th>\n      <th>gain</th>\n      <th>cumulative_gain</th>\n    </tr>\n  </thead>\n  <tbody>\n    <tr>\n      <th>0</th>\n      <td></td>\n      <td>1</td>\n      <td>1.0</td>\n      <td>0.654129</td>\n      <td>1.0</td>\n      <td>1.0</td>\n      <td>0.654129</td>\n      <td>0.654129</td>\n      <td>0.654129</td>\n      <td>0.654129</td>\n      <td>1.0</td>\n      <td>1.0</td>\n      <td>0.0</td>\n      <td>0.0</td>\n    </tr>\n  </tbody>\n</table>\n</div>"
          },
          "metadata": {}
        },
        {
          "output_type": "display_data",
          "data": {
            "text/plain": "            0      1   Error            Rate\n0      0  0.0  163.0     1.0   (163.0/163.0)\n1      1  0.0  338.0     0.0     (0.0/338.0)\n2  Total  0.0  501.0  0.3253   (163.0/501.0)",
            "text/html": "<div>\n<style scoped>\n    .dataframe tbody tr th:only-of-type {\n        vertical-align: middle;\n    }\n\n    .dataframe tbody tr th {\n        vertical-align: top;\n    }\n\n    .dataframe thead th {\n        text-align: right;\n    }\n</style>\n<table border=\"1\" class=\"dataframe\">\n  <thead>\n    <tr style=\"text-align: right;\">\n      <th></th>\n      <th></th>\n      <th>0</th>\n      <th>1</th>\n      <th>Error</th>\n      <th>Rate</th>\n    </tr>\n  </thead>\n  <tbody>\n    <tr>\n      <th>0</th>\n      <td>0</td>\n      <td>0.0</td>\n      <td>163.0</td>\n      <td>1.0</td>\n      <td>(163.0/163.0)</td>\n    </tr>\n    <tr>\n      <th>1</th>\n      <td>1</td>\n      <td>0.0</td>\n      <td>338.0</td>\n      <td>0.0</td>\n      <td>(0.0/338.0)</td>\n    </tr>\n    <tr>\n      <th>2</th>\n      <td>Total</td>\n      <td>0.0</td>\n      <td>501.0</td>\n      <td>0.3253</td>\n      <td>(163.0/501.0)</td>\n    </tr>\n  </tbody>\n</table>\n</div>"
          },
          "metadata": {}
        },
        {
          "output_type": "display_data",
          "data": {
            "text/plain": "                         metric  threshold       value  idx\n0                        max f1   0.654129    0.805721  0.0\n1                        max f2   0.654129    0.912035  0.0\n2                  max f0point5   0.654129    0.721605  0.0\n3                  max accuracy   0.654129    0.674651  0.0\n4                 max precision   0.654129    0.674651  0.0\n5                    max recall   0.654129    1.000000  0.0\n6               max specificity   0.654129    0.000000  0.0\n7              max absolute_mcc   0.654129    0.000000  0.0\n8    max min_per_class_accuracy   0.654129    0.000000  0.0\n9   max mean_per_class_accuracy   0.654129    0.500000  0.0\n10                      max tns   0.654129    0.000000  0.0\n11                      max fns   0.654129    0.000000  0.0\n12                      max fps   0.654129  163.000000  0.0\n13                      max tps   0.654129  338.000000  0.0\n14                      max tnr   0.654129    0.000000  0.0\n15                      max fnr   0.654129    0.000000  0.0\n16                      max fpr   0.654129    1.000000  0.0\n17                      max tpr   0.654129    1.000000  0.0",
            "text/html": "<div>\n<style scoped>\n    .dataframe tbody tr th:only-of-type {\n        vertical-align: middle;\n    }\n\n    .dataframe tbody tr th {\n        vertical-align: top;\n    }\n\n    .dataframe thead th {\n        text-align: right;\n    }\n</style>\n<table border=\"1\" class=\"dataframe\">\n  <thead>\n    <tr style=\"text-align: right;\">\n      <th></th>\n      <th>metric</th>\n      <th>threshold</th>\n      <th>value</th>\n      <th>idx</th>\n    </tr>\n  </thead>\n  <tbody>\n    <tr>\n      <th>0</th>\n      <td>max f1</td>\n      <td>0.654129</td>\n      <td>0.805721</td>\n      <td>0.0</td>\n    </tr>\n    <tr>\n      <th>1</th>\n      <td>max f2</td>\n      <td>0.654129</td>\n      <td>0.912035</td>\n      <td>0.0</td>\n    </tr>\n    <tr>\n      <th>2</th>\n      <td>max f0point5</td>\n      <td>0.654129</td>\n      <td>0.721605</td>\n      <td>0.0</td>\n    </tr>\n    <tr>\n      <th>3</th>\n      <td>max accuracy</td>\n      <td>0.654129</td>\n      <td>0.674651</td>\n      <td>0.0</td>\n    </tr>\n    <tr>\n      <th>4</th>\n      <td>max precision</td>\n      <td>0.654129</td>\n      <td>0.674651</td>\n      <td>0.0</td>\n    </tr>\n    <tr>\n      <th>5</th>\n      <td>max recall</td>\n      <td>0.654129</td>\n      <td>1.000000</td>\n      <td>0.0</td>\n    </tr>\n    <tr>\n      <th>6</th>\n      <td>max specificity</td>\n      <td>0.654129</td>\n      <td>0.000000</td>\n      <td>0.0</td>\n    </tr>\n    <tr>\n      <th>7</th>\n      <td>max absolute_mcc</td>\n      <td>0.654129</td>\n      <td>0.000000</td>\n      <td>0.0</td>\n    </tr>\n    <tr>\n      <th>8</th>\n      <td>max min_per_class_accuracy</td>\n      <td>0.654129</td>\n      <td>0.000000</td>\n      <td>0.0</td>\n    </tr>\n    <tr>\n      <th>9</th>\n      <td>max mean_per_class_accuracy</td>\n      <td>0.654129</td>\n      <td>0.500000</td>\n      <td>0.0</td>\n    </tr>\n    <tr>\n      <th>10</th>\n      <td>max tns</td>\n      <td>0.654129</td>\n      <td>0.000000</td>\n      <td>0.0</td>\n    </tr>\n    <tr>\n      <th>11</th>\n      <td>max fns</td>\n      <td>0.654129</td>\n      <td>0.000000</td>\n      <td>0.0</td>\n    </tr>\n    <tr>\n      <th>12</th>\n      <td>max fps</td>\n      <td>0.654129</td>\n      <td>163.000000</td>\n      <td>0.0</td>\n    </tr>\n    <tr>\n      <th>13</th>\n      <td>max tps</td>\n      <td>0.654129</td>\n      <td>338.000000</td>\n      <td>0.0</td>\n    </tr>\n    <tr>\n      <th>14</th>\n      <td>max tnr</td>\n      <td>0.654129</td>\n      <td>0.000000</td>\n      <td>0.0</td>\n    </tr>\n    <tr>\n      <th>15</th>\n      <td>max fnr</td>\n      <td>0.654129</td>\n      <td>0.000000</td>\n      <td>0.0</td>\n    </tr>\n    <tr>\n      <th>16</th>\n      <td>max fpr</td>\n      <td>0.654129</td>\n      <td>1.000000</td>\n      <td>0.0</td>\n    </tr>\n    <tr>\n      <th>17</th>\n      <td>max tpr</td>\n      <td>0.654129</td>\n      <td>1.000000</td>\n      <td>0.0</td>\n    </tr>\n  </tbody>\n</table>\n</div>"
          },
          "metadata": {}
        },
        {
          "output_type": "display_data",
          "data": {
            "text/plain": "     group  cumulative_data_fraction  lower_threshold  lift  cumulative_lift  \\\n0        1                       1.0         0.654129   1.0              1.0   \n\n   response_rate     score  cumulative_response_rate  cumulative_score  \\\n0       0.674651  0.654129                  0.674651          0.654129   \n\n   capture_rate  cumulative_capture_rate  gain  cumulative_gain  \n0           1.0                      1.0   0.0              0.0  ",
            "text/html": "<div>\n<style scoped>\n    .dataframe tbody tr th:only-of-type {\n        vertical-align: middle;\n    }\n\n    .dataframe tbody tr th {\n        vertical-align: top;\n    }\n\n    .dataframe thead th {\n        text-align: right;\n    }\n</style>\n<table border=\"1\" class=\"dataframe\">\n  <thead>\n    <tr style=\"text-align: right;\">\n      <th></th>\n      <th></th>\n      <th>group</th>\n      <th>cumulative_data_fraction</th>\n      <th>lower_threshold</th>\n      <th>lift</th>\n      <th>cumulative_lift</th>\n      <th>response_rate</th>\n      <th>score</th>\n      <th>cumulative_response_rate</th>\n      <th>cumulative_score</th>\n      <th>capture_rate</th>\n      <th>cumulative_capture_rate</th>\n      <th>gain</th>\n      <th>cumulative_gain</th>\n    </tr>\n  </thead>\n  <tbody>\n    <tr>\n      <th>0</th>\n      <td></td>\n      <td>1</td>\n      <td>1.0</td>\n      <td>0.654129</td>\n      <td>1.0</td>\n      <td>1.0</td>\n      <td>0.674651</td>\n      <td>0.654129</td>\n      <td>0.674651</td>\n      <td>0.654129</td>\n      <td>1.0</td>\n      <td>1.0</td>\n      <td>0.0</td>\n      <td>0.0</td>\n    </tr>\n  </tbody>\n</table>\n</div>"
          },
          "metadata": {}
        },
        {
          "output_type": "stream",
          "name": "stdout",
          "text": [
            "\n",
            "=============\n",
            "H2OStackedEnsembleEstimator :  Stacked Ensemble\n",
            "Model Key:  ensemble_deeplearning\n",
            "\n",
            "No model summary for this model\n",
            "\n",
            "ModelMetricsBinomialGLM: stackedensemble\n",
            "** Reported on train data. **\n",
            "\n",
            "MSE: 0.22624419263115159\n",
            "RMSE: 0.47565133515123403\n",
            "LogLoss: 0.6448529665367898\n",
            "Null degrees of freedom: 1222\n",
            "Residual degrees of freedom: 1222\n",
            "Null deviance: 1577.310356148988\n",
            "Residual deviance: 1577.310356148988\n",
            "AIC: 1579.310356148988\n",
            "AUC: 0.5\n",
            "AUCPR: 0.6541291905151267\n",
            "Gini: 0.0\n",
            "\n",
            "Confusion Matrix (Act/Pred) for max f1 @ threshold = 0.6541291905151275: \n",
            "\n",
            "Maximum Metrics: Maximum metrics at their respective thresholds\n",
            "\n",
            "Gains/Lift Table: Avg response rate: 65.41 %, avg score: 65.41 %\n",
            "\n",
            "\n",
            "ModelMetricsBinomialGLM: stackedensemble\n",
            "** Reported on validation data. **\n",
            "\n",
            "MSE: 0.21991826577174792\n",
            "RMSE: 0.4689544389082461\n",
            "LogLoss: 0.6317758499859693\n",
            "Null degrees of freedom: 500\n",
            "Residual degrees of freedom: 500\n",
            "Null deviance: 633.0394016859412\n",
            "Residual deviance: 633.0394016859412\n",
            "AIC: 635.0394016859412\n",
            "AUC: 0.5\n",
            "AUCPR: 0.6746506986027944\n",
            "Gini: 0.0\n",
            "\n",
            "Confusion Matrix (Act/Pred) for max f1 @ threshold = 0.6541291905151275: \n",
            "\n",
            "Maximum Metrics: Maximum metrics at their respective thresholds\n",
            "\n",
            "Gains/Lift Table: Avg response rate: 67.47 %, avg score: 65.41 %\n",
            "\n"
          ]
        },
        {
          "output_type": "display_data",
          "data": {
            "text/plain": "            0       1   Error             Rate\n0      0  0.0   423.0     1.0    (423.0/423.0)\n1      1  0.0   800.0     0.0      (0.0/800.0)\n2  Total  0.0  1223.0  0.3459   (423.0/1223.0)",
            "text/html": "<div>\n<style scoped>\n    .dataframe tbody tr th:only-of-type {\n        vertical-align: middle;\n    }\n\n    .dataframe tbody tr th {\n        vertical-align: top;\n    }\n\n    .dataframe thead th {\n        text-align: right;\n    }\n</style>\n<table border=\"1\" class=\"dataframe\">\n  <thead>\n    <tr style=\"text-align: right;\">\n      <th></th>\n      <th></th>\n      <th>0</th>\n      <th>1</th>\n      <th>Error</th>\n      <th>Rate</th>\n    </tr>\n  </thead>\n  <tbody>\n    <tr>\n      <th>0</th>\n      <td>0</td>\n      <td>0.0</td>\n      <td>423.0</td>\n      <td>1.0</td>\n      <td>(423.0/423.0)</td>\n    </tr>\n    <tr>\n      <th>1</th>\n      <td>1</td>\n      <td>0.0</td>\n      <td>800.0</td>\n      <td>0.0</td>\n      <td>(0.0/800.0)</td>\n    </tr>\n    <tr>\n      <th>2</th>\n      <td>Total</td>\n      <td>0.0</td>\n      <td>1223.0</td>\n      <td>0.3459</td>\n      <td>(423.0/1223.0)</td>\n    </tr>\n  </tbody>\n</table>\n</div>"
          },
          "metadata": {}
        },
        {
          "output_type": "display_data",
          "data": {
            "text/plain": "                         metric  threshold       value  idx\n0                        max f1   0.654129    0.790905  0.0\n1                        max f2   0.654129    0.904364  0.0\n2                  max f0point5   0.654129    0.702741  0.0\n3                  max accuracy   0.654129    0.654129  0.0\n4                 max precision   0.654129    0.654129  0.0\n5                    max recall   0.654129    1.000000  0.0\n6               max specificity   0.654129    0.000000  0.0\n7              max absolute_mcc   0.654129    0.000000  0.0\n8    max min_per_class_accuracy   0.654129    0.000000  0.0\n9   max mean_per_class_accuracy   0.654129    0.500000  0.0\n10                      max tns   0.654129    0.000000  0.0\n11                      max fns   0.654129    0.000000  0.0\n12                      max fps   0.654129  423.000000  0.0\n13                      max tps   0.654129  800.000000  0.0\n14                      max tnr   0.654129    0.000000  0.0\n15                      max fnr   0.654129    0.000000  0.0\n16                      max fpr   0.654129    1.000000  0.0\n17                      max tpr   0.654129    1.000000  0.0",
            "text/html": "<div>\n<style scoped>\n    .dataframe tbody tr th:only-of-type {\n        vertical-align: middle;\n    }\n\n    .dataframe tbody tr th {\n        vertical-align: top;\n    }\n\n    .dataframe thead th {\n        text-align: right;\n    }\n</style>\n<table border=\"1\" class=\"dataframe\">\n  <thead>\n    <tr style=\"text-align: right;\">\n      <th></th>\n      <th>metric</th>\n      <th>threshold</th>\n      <th>value</th>\n      <th>idx</th>\n    </tr>\n  </thead>\n  <tbody>\n    <tr>\n      <th>0</th>\n      <td>max f1</td>\n      <td>0.654129</td>\n      <td>0.790905</td>\n      <td>0.0</td>\n    </tr>\n    <tr>\n      <th>1</th>\n      <td>max f2</td>\n      <td>0.654129</td>\n      <td>0.904364</td>\n      <td>0.0</td>\n    </tr>\n    <tr>\n      <th>2</th>\n      <td>max f0point5</td>\n      <td>0.654129</td>\n      <td>0.702741</td>\n      <td>0.0</td>\n    </tr>\n    <tr>\n      <th>3</th>\n      <td>max accuracy</td>\n      <td>0.654129</td>\n      <td>0.654129</td>\n      <td>0.0</td>\n    </tr>\n    <tr>\n      <th>4</th>\n      <td>max precision</td>\n      <td>0.654129</td>\n      <td>0.654129</td>\n      <td>0.0</td>\n    </tr>\n    <tr>\n      <th>5</th>\n      <td>max recall</td>\n      <td>0.654129</td>\n      <td>1.000000</td>\n      <td>0.0</td>\n    </tr>\n    <tr>\n      <th>6</th>\n      <td>max specificity</td>\n      <td>0.654129</td>\n      <td>0.000000</td>\n      <td>0.0</td>\n    </tr>\n    <tr>\n      <th>7</th>\n      <td>max absolute_mcc</td>\n      <td>0.654129</td>\n      <td>0.000000</td>\n      <td>0.0</td>\n    </tr>\n    <tr>\n      <th>8</th>\n      <td>max min_per_class_accuracy</td>\n      <td>0.654129</td>\n      <td>0.000000</td>\n      <td>0.0</td>\n    </tr>\n    <tr>\n      <th>9</th>\n      <td>max mean_per_class_accuracy</td>\n      <td>0.654129</td>\n      <td>0.500000</td>\n      <td>0.0</td>\n    </tr>\n    <tr>\n      <th>10</th>\n      <td>max tns</td>\n      <td>0.654129</td>\n      <td>0.000000</td>\n      <td>0.0</td>\n    </tr>\n    <tr>\n      <th>11</th>\n      <td>max fns</td>\n      <td>0.654129</td>\n      <td>0.000000</td>\n      <td>0.0</td>\n    </tr>\n    <tr>\n      <th>12</th>\n      <td>max fps</td>\n      <td>0.654129</td>\n      <td>423.000000</td>\n      <td>0.0</td>\n    </tr>\n    <tr>\n      <th>13</th>\n      <td>max tps</td>\n      <td>0.654129</td>\n      <td>800.000000</td>\n      <td>0.0</td>\n    </tr>\n    <tr>\n      <th>14</th>\n      <td>max tnr</td>\n      <td>0.654129</td>\n      <td>0.000000</td>\n      <td>0.0</td>\n    </tr>\n    <tr>\n      <th>15</th>\n      <td>max fnr</td>\n      <td>0.654129</td>\n      <td>0.000000</td>\n      <td>0.0</td>\n    </tr>\n    <tr>\n      <th>16</th>\n      <td>max fpr</td>\n      <td>0.654129</td>\n      <td>1.000000</td>\n      <td>0.0</td>\n    </tr>\n    <tr>\n      <th>17</th>\n      <td>max tpr</td>\n      <td>0.654129</td>\n      <td>1.000000</td>\n      <td>0.0</td>\n    </tr>\n  </tbody>\n</table>\n</div>"
          },
          "metadata": {}
        },
        {
          "output_type": "display_data",
          "data": {
            "text/plain": "     group  cumulative_data_fraction  lower_threshold  lift  cumulative_lift  \\\n0        1                       1.0         0.654129   1.0              1.0   \n\n   response_rate     score  cumulative_response_rate  cumulative_score  \\\n0       0.654129  0.654129                  0.654129          0.654129   \n\n   capture_rate  cumulative_capture_rate  gain  cumulative_gain  \n0           1.0                      1.0   0.0              0.0  ",
            "text/html": "<div>\n<style scoped>\n    .dataframe tbody tr th:only-of-type {\n        vertical-align: middle;\n    }\n\n    .dataframe tbody tr th {\n        vertical-align: top;\n    }\n\n    .dataframe thead th {\n        text-align: right;\n    }\n</style>\n<table border=\"1\" class=\"dataframe\">\n  <thead>\n    <tr style=\"text-align: right;\">\n      <th></th>\n      <th></th>\n      <th>group</th>\n      <th>cumulative_data_fraction</th>\n      <th>lower_threshold</th>\n      <th>lift</th>\n      <th>cumulative_lift</th>\n      <th>response_rate</th>\n      <th>score</th>\n      <th>cumulative_response_rate</th>\n      <th>cumulative_score</th>\n      <th>capture_rate</th>\n      <th>cumulative_capture_rate</th>\n      <th>gain</th>\n      <th>cumulative_gain</th>\n    </tr>\n  </thead>\n  <tbody>\n    <tr>\n      <th>0</th>\n      <td></td>\n      <td>1</td>\n      <td>1.0</td>\n      <td>0.654129</td>\n      <td>1.0</td>\n      <td>1.0</td>\n      <td>0.654129</td>\n      <td>0.654129</td>\n      <td>0.654129</td>\n      <td>0.654129</td>\n      <td>1.0</td>\n      <td>1.0</td>\n      <td>0.0</td>\n      <td>0.0</td>\n    </tr>\n  </tbody>\n</table>\n</div>"
          },
          "metadata": {}
        },
        {
          "output_type": "display_data",
          "data": {
            "text/plain": "            0      1   Error            Rate\n0      0  0.0  163.0     1.0   (163.0/163.0)\n1      1  0.0  338.0     0.0     (0.0/338.0)\n2  Total  0.0  501.0  0.3253   (163.0/501.0)",
            "text/html": "<div>\n<style scoped>\n    .dataframe tbody tr th:only-of-type {\n        vertical-align: middle;\n    }\n\n    .dataframe tbody tr th {\n        vertical-align: top;\n    }\n\n    .dataframe thead th {\n        text-align: right;\n    }\n</style>\n<table border=\"1\" class=\"dataframe\">\n  <thead>\n    <tr style=\"text-align: right;\">\n      <th></th>\n      <th></th>\n      <th>0</th>\n      <th>1</th>\n      <th>Error</th>\n      <th>Rate</th>\n    </tr>\n  </thead>\n  <tbody>\n    <tr>\n      <th>0</th>\n      <td>0</td>\n      <td>0.0</td>\n      <td>163.0</td>\n      <td>1.0</td>\n      <td>(163.0/163.0)</td>\n    </tr>\n    <tr>\n      <th>1</th>\n      <td>1</td>\n      <td>0.0</td>\n      <td>338.0</td>\n      <td>0.0</td>\n      <td>(0.0/338.0)</td>\n    </tr>\n    <tr>\n      <th>2</th>\n      <td>Total</td>\n      <td>0.0</td>\n      <td>501.0</td>\n      <td>0.3253</td>\n      <td>(163.0/501.0)</td>\n    </tr>\n  </tbody>\n</table>\n</div>"
          },
          "metadata": {}
        },
        {
          "output_type": "display_data",
          "data": {
            "text/plain": "                         metric  threshold       value  idx\n0                        max f1   0.654129    0.805721  0.0\n1                        max f2   0.654129    0.912035  0.0\n2                  max f0point5   0.654129    0.721605  0.0\n3                  max accuracy   0.654129    0.674651  0.0\n4                 max precision   0.654129    0.674651  0.0\n5                    max recall   0.654129    1.000000  0.0\n6               max specificity   0.654129    0.000000  0.0\n7              max absolute_mcc   0.654129    0.000000  0.0\n8    max min_per_class_accuracy   0.654129    0.000000  0.0\n9   max mean_per_class_accuracy   0.654129    0.500000  0.0\n10                      max tns   0.654129    0.000000  0.0\n11                      max fns   0.654129    0.000000  0.0\n12                      max fps   0.654129  163.000000  0.0\n13                      max tps   0.654129  338.000000  0.0\n14                      max tnr   0.654129    0.000000  0.0\n15                      max fnr   0.654129    0.000000  0.0\n16                      max fpr   0.654129    1.000000  0.0\n17                      max tpr   0.654129    1.000000  0.0",
            "text/html": "<div>\n<style scoped>\n    .dataframe tbody tr th:only-of-type {\n        vertical-align: middle;\n    }\n\n    .dataframe tbody tr th {\n        vertical-align: top;\n    }\n\n    .dataframe thead th {\n        text-align: right;\n    }\n</style>\n<table border=\"1\" class=\"dataframe\">\n  <thead>\n    <tr style=\"text-align: right;\">\n      <th></th>\n      <th>metric</th>\n      <th>threshold</th>\n      <th>value</th>\n      <th>idx</th>\n    </tr>\n  </thead>\n  <tbody>\n    <tr>\n      <th>0</th>\n      <td>max f1</td>\n      <td>0.654129</td>\n      <td>0.805721</td>\n      <td>0.0</td>\n    </tr>\n    <tr>\n      <th>1</th>\n      <td>max f2</td>\n      <td>0.654129</td>\n      <td>0.912035</td>\n      <td>0.0</td>\n    </tr>\n    <tr>\n      <th>2</th>\n      <td>max f0point5</td>\n      <td>0.654129</td>\n      <td>0.721605</td>\n      <td>0.0</td>\n    </tr>\n    <tr>\n      <th>3</th>\n      <td>max accuracy</td>\n      <td>0.654129</td>\n      <td>0.674651</td>\n      <td>0.0</td>\n    </tr>\n    <tr>\n      <th>4</th>\n      <td>max precision</td>\n      <td>0.654129</td>\n      <td>0.674651</td>\n      <td>0.0</td>\n    </tr>\n    <tr>\n      <th>5</th>\n      <td>max recall</td>\n      <td>0.654129</td>\n      <td>1.000000</td>\n      <td>0.0</td>\n    </tr>\n    <tr>\n      <th>6</th>\n      <td>max specificity</td>\n      <td>0.654129</td>\n      <td>0.000000</td>\n      <td>0.0</td>\n    </tr>\n    <tr>\n      <th>7</th>\n      <td>max absolute_mcc</td>\n      <td>0.654129</td>\n      <td>0.000000</td>\n      <td>0.0</td>\n    </tr>\n    <tr>\n      <th>8</th>\n      <td>max min_per_class_accuracy</td>\n      <td>0.654129</td>\n      <td>0.000000</td>\n      <td>0.0</td>\n    </tr>\n    <tr>\n      <th>9</th>\n      <td>max mean_per_class_accuracy</td>\n      <td>0.654129</td>\n      <td>0.500000</td>\n      <td>0.0</td>\n    </tr>\n    <tr>\n      <th>10</th>\n      <td>max tns</td>\n      <td>0.654129</td>\n      <td>0.000000</td>\n      <td>0.0</td>\n    </tr>\n    <tr>\n      <th>11</th>\n      <td>max fns</td>\n      <td>0.654129</td>\n      <td>0.000000</td>\n      <td>0.0</td>\n    </tr>\n    <tr>\n      <th>12</th>\n      <td>max fps</td>\n      <td>0.654129</td>\n      <td>163.000000</td>\n      <td>0.0</td>\n    </tr>\n    <tr>\n      <th>13</th>\n      <td>max tps</td>\n      <td>0.654129</td>\n      <td>338.000000</td>\n      <td>0.0</td>\n    </tr>\n    <tr>\n      <th>14</th>\n      <td>max tnr</td>\n      <td>0.654129</td>\n      <td>0.000000</td>\n      <td>0.0</td>\n    </tr>\n    <tr>\n      <th>15</th>\n      <td>max fnr</td>\n      <td>0.654129</td>\n      <td>0.000000</td>\n      <td>0.0</td>\n    </tr>\n    <tr>\n      <th>16</th>\n      <td>max fpr</td>\n      <td>0.654129</td>\n      <td>1.000000</td>\n      <td>0.0</td>\n    </tr>\n    <tr>\n      <th>17</th>\n      <td>max tpr</td>\n      <td>0.654129</td>\n      <td>1.000000</td>\n      <td>0.0</td>\n    </tr>\n  </tbody>\n</table>\n</div>"
          },
          "metadata": {}
        },
        {
          "output_type": "display_data",
          "data": {
            "text/plain": "     group  cumulative_data_fraction  lower_threshold  lift  cumulative_lift  \\\n0        1                       1.0         0.654129   1.0              1.0   \n\n   response_rate     score  cumulative_response_rate  cumulative_score  \\\n0       0.674651  0.654129                  0.674651          0.654129   \n\n   capture_rate  cumulative_capture_rate  gain  cumulative_gain  \n0           1.0                      1.0   0.0              0.0  ",
            "text/html": "<div>\n<style scoped>\n    .dataframe tbody tr th:only-of-type {\n        vertical-align: middle;\n    }\n\n    .dataframe tbody tr th {\n        vertical-align: top;\n    }\n\n    .dataframe thead th {\n        text-align: right;\n    }\n</style>\n<table border=\"1\" class=\"dataframe\">\n  <thead>\n    <tr style=\"text-align: right;\">\n      <th></th>\n      <th></th>\n      <th>group</th>\n      <th>cumulative_data_fraction</th>\n      <th>lower_threshold</th>\n      <th>lift</th>\n      <th>cumulative_lift</th>\n      <th>response_rate</th>\n      <th>score</th>\n      <th>cumulative_response_rate</th>\n      <th>cumulative_score</th>\n      <th>capture_rate</th>\n      <th>cumulative_capture_rate</th>\n      <th>gain</th>\n      <th>cumulative_gain</th>\n    </tr>\n  </thead>\n  <tbody>\n    <tr>\n      <th>0</th>\n      <td></td>\n      <td>1</td>\n      <td>1.0</td>\n      <td>0.654129</td>\n      <td>1.0</td>\n      <td>1.0</td>\n      <td>0.674651</td>\n      <td>0.654129</td>\n      <td>0.674651</td>\n      <td>0.654129</td>\n      <td>1.0</td>\n      <td>1.0</td>\n      <td>0.0</td>\n      <td>0.0</td>\n    </tr>\n  </tbody>\n</table>\n</div>"
          },
          "metadata": {}
        },
        {
          "output_type": "execute_result",
          "execution_count": 62,
          "data": {
            "text/plain": "[, , , , , , ]"
          },
          "metadata": {}
        }
      ],
      "execution_count": 62,
      "metadata": {
        "collapsed": true,
        "jupyter": {
          "source_hidden": false,
          "outputs_hidden": false
        },
        "nteract": {
          "transient": {
            "deleting": false
          }
        },
        "gather": {
          "logged": 1604249487534
        }
      }
    },
    {
      "cell_type": "code",
      "source": [
        "for model in ensemble_list:\r\n",
        "    print(\"AUC on test data: \",  model.model_performance(test).auc())\r\n",
        "\r\n",
        "    "
      ],
      "outputs": [
        {
          "output_type": "stream",
          "name": "stdout",
          "text": [
            "AUC on test data:  0.5\n",
            "AUC on test data:  0.5\n",
            "AUC on test data:  0.5\n",
            "AUC on test data:  0.5\n",
            "AUC on test data:  0.5\n",
            "AUC on test data:  0.5\n",
            "AUC on test data:  0.5\n"
          ]
        }
      ],
      "execution_count": 64,
      "metadata": {
        "collapsed": true,
        "jupyter": {
          "source_hidden": false,
          "outputs_hidden": false
        },
        "nteract": {
          "transient": {
            "deleting": false
          }
        },
        "gather": {
          "logged": 1604249591848
        }
      }
    },
    {
      "cell_type": "code",
      "source": [
        "ensemble.model_performance"
      ],
      "outputs": [
        {
          "output_type": "stream",
          "name": "stdout",
          "text": [
            "Model Details\n",
            "=============\n",
            "H2OStackedEnsembleEstimator :  Stacked Ensemble\n",
            "Model Key:  StackedEnsemble_model_python_1604225741410_5364\n",
            "\n",
            "No model summary for this model\n",
            "\n",
            "ModelMetricsBinomialGLM: stackedensemble\n",
            "** Reported on train data. **\n",
            "\n",
            "MSE: 0.22750895562837425\n",
            "RMSE: 0.47697898866551164\n",
            "LogLoss: 0.6483031547241926\n",
            "Null degrees of freedom: 1222\n",
            "Residual degrees of freedom: 1220\n",
            "Null deviance: 1577.310356148988\n",
            "Residual deviance: 1585.7495164553748\n",
            "AIC: 1591.7495164553748\n",
            "AUC: 0.493600768321513\n",
            "AUCPR: 0.6416148141617539\n",
            "Gini: -0.012798463356973988\n",
            "\n",
            "Confusion Matrix (Act/Pred) for max f1 @ threshold = 0.6532691541252658: \n"
          ]
        },
        {
          "output_type": "display_data",
          "data": {
            "text/plain": "            0       1   Error             Rate\n0      0  0.0   423.0     1.0    (423.0/423.0)\n1      1  0.0   800.0     0.0      (0.0/800.0)\n2  Total  0.0  1223.0  0.3459   (423.0/1223.0)",
            "text/html": "<div>\n<style scoped>\n    .dataframe tbody tr th:only-of-type {\n        vertical-align: middle;\n    }\n\n    .dataframe tbody tr th {\n        vertical-align: top;\n    }\n\n    .dataframe thead th {\n        text-align: right;\n    }\n</style>\n<table border=\"1\" class=\"dataframe\">\n  <thead>\n    <tr style=\"text-align: right;\">\n      <th></th>\n      <th></th>\n      <th>0</th>\n      <th>1</th>\n      <th>Error</th>\n      <th>Rate</th>\n    </tr>\n  </thead>\n  <tbody>\n    <tr>\n      <th>0</th>\n      <td>0</td>\n      <td>0.0</td>\n      <td>423.0</td>\n      <td>1.0</td>\n      <td>(423.0/423.0)</td>\n    </tr>\n    <tr>\n      <th>1</th>\n      <td>1</td>\n      <td>0.0</td>\n      <td>800.0</td>\n      <td>0.0</td>\n      <td>(0.0/800.0)</td>\n    </tr>\n    <tr>\n      <th>2</th>\n      <td>Total</td>\n      <td>0.0</td>\n      <td>1223.0</td>\n      <td>0.3459</td>\n      <td>(423.0/1223.0)</td>\n    </tr>\n  </tbody>\n</table>\n</div>"
          },
          "metadata": {}
        },
        {
          "output_type": "stream",
          "name": "stdout",
          "text": [
            "\n",
            "Maximum Metrics: Maximum metrics at their respective thresholds\n",
            "\n",
            "Gains/Lift Table: Avg response rate: 65.41 %, avg score: 65.47 %\n",
            "\n",
            "\n",
            "ModelMetricsBinomialGLM: stackedensemble\n",
            "** Reported on validation data. **\n",
            "\n",
            "MSE: 0.21956627463493159\n",
            "RMSE: 0.46857899508506734\n",
            "LogLoss: 0.6308890058865814\n",
            "Null degrees of freedom: 500\n",
            "Residual degrees of freedom: 498\n",
            "Null deviance: 633.0394016859412\n",
            "Residual deviance: 632.150783898354\n",
            "AIC: 638.150783898354\n",
            "AUC: 0.5043289650415653\n",
            "AUCPR: 0.6835897020996019\n",
            "Gini: 0.00865793008313065\n",
            "\n",
            "Confusion Matrix (Act/Pred) for max f1 @ threshold = 0.6532691541252656: \n",
            "\n",
            "Maximum Metrics: Maximum metrics at their respective thresholds\n",
            "\n",
            "Gains/Lift Table: Avg response rate: 67.47 %, avg score: 65.54 %\n",
            "\n"
          ]
        },
        {
          "output_type": "display_data",
          "data": {
            "text/plain": "                         metric  threshold       value  idx\n0                        max f1   0.653269    0.790905  1.0\n1                        max f2   0.653269    0.904364  1.0\n2                  max f0point5   0.653269    0.702741  1.0\n3                  max accuracy   0.653269    0.654129  1.0\n4                 max precision   0.653269    0.654129  1.0\n5                    max recall   0.653269    1.000000  1.0\n6               max specificity   0.828573    0.983452  0.0\n7              max absolute_mcc   0.828573    0.067599  0.0\n8    max min_per_class_accuracy   0.828573    0.003750  0.0\n9   max mean_per_class_accuracy   0.653269    0.500000  1.0\n10                      max tns   0.828573  416.000000  0.0\n11                      max fns   0.828573  797.000000  0.0\n12                      max fps   0.653269  423.000000  1.0\n13                      max tps   0.653269  800.000000  1.0\n14                      max tnr   0.828573    0.983452  0.0\n15                      max fnr   0.828573    0.996250  0.0\n16                      max fpr   0.653269    1.000000  1.0\n17                      max tpr   0.653269    1.000000  1.0",
            "text/html": "<div>\n<style scoped>\n    .dataframe tbody tr th:only-of-type {\n        vertical-align: middle;\n    }\n\n    .dataframe tbody tr th {\n        vertical-align: top;\n    }\n\n    .dataframe thead th {\n        text-align: right;\n    }\n</style>\n<table border=\"1\" class=\"dataframe\">\n  <thead>\n    <tr style=\"text-align: right;\">\n      <th></th>\n      <th>metric</th>\n      <th>threshold</th>\n      <th>value</th>\n      <th>idx</th>\n    </tr>\n  </thead>\n  <tbody>\n    <tr>\n      <th>0</th>\n      <td>max f1</td>\n      <td>0.653269</td>\n      <td>0.790905</td>\n      <td>1.0</td>\n    </tr>\n    <tr>\n      <th>1</th>\n      <td>max f2</td>\n      <td>0.653269</td>\n      <td>0.904364</td>\n      <td>1.0</td>\n    </tr>\n    <tr>\n      <th>2</th>\n      <td>max f0point5</td>\n      <td>0.653269</td>\n      <td>0.702741</td>\n      <td>1.0</td>\n    </tr>\n    <tr>\n      <th>3</th>\n      <td>max accuracy</td>\n      <td>0.653269</td>\n      <td>0.654129</td>\n      <td>1.0</td>\n    </tr>\n    <tr>\n      <th>4</th>\n      <td>max precision</td>\n      <td>0.653269</td>\n      <td>0.654129</td>\n      <td>1.0</td>\n    </tr>\n    <tr>\n      <th>5</th>\n      <td>max recall</td>\n      <td>0.653269</td>\n      <td>1.000000</td>\n      <td>1.0</td>\n    </tr>\n    <tr>\n      <th>6</th>\n      <td>max specificity</td>\n      <td>0.828573</td>\n      <td>0.983452</td>\n      <td>0.0</td>\n    </tr>\n    <tr>\n      <th>7</th>\n      <td>max absolute_mcc</td>\n      <td>0.828573</td>\n      <td>0.067599</td>\n      <td>0.0</td>\n    </tr>\n    <tr>\n      <th>8</th>\n      <td>max min_per_class_accuracy</td>\n      <td>0.828573</td>\n      <td>0.003750</td>\n      <td>0.0</td>\n    </tr>\n    <tr>\n      <th>9</th>\n      <td>max mean_per_class_accuracy</td>\n      <td>0.653269</td>\n      <td>0.500000</td>\n      <td>1.0</td>\n    </tr>\n    <tr>\n      <th>10</th>\n      <td>max tns</td>\n      <td>0.828573</td>\n      <td>416.000000</td>\n      <td>0.0</td>\n    </tr>\n    <tr>\n      <th>11</th>\n      <td>max fns</td>\n      <td>0.828573</td>\n      <td>797.000000</td>\n      <td>0.0</td>\n    </tr>\n    <tr>\n      <th>12</th>\n      <td>max fps</td>\n      <td>0.653269</td>\n      <td>423.000000</td>\n      <td>1.0</td>\n    </tr>\n    <tr>\n      <th>13</th>\n      <td>max tps</td>\n      <td>0.653269</td>\n      <td>800.000000</td>\n      <td>1.0</td>\n    </tr>\n    <tr>\n      <th>14</th>\n      <td>max tnr</td>\n      <td>0.828573</td>\n      <td>0.983452</td>\n      <td>0.0</td>\n    </tr>\n    <tr>\n      <th>15</th>\n      <td>max fnr</td>\n      <td>0.828573</td>\n      <td>0.996250</td>\n      <td>0.0</td>\n    </tr>\n    <tr>\n      <th>16</th>\n      <td>max fpr</td>\n      <td>0.653269</td>\n      <td>1.000000</td>\n      <td>1.0</td>\n    </tr>\n    <tr>\n      <th>17</th>\n      <td>max tpr</td>\n      <td>0.653269</td>\n      <td>1.000000</td>\n      <td>1.0</td>\n    </tr>\n  </tbody>\n</table>\n</div>"
          },
          "metadata": {}
        },
        {
          "output_type": "display_data",
          "data": {
            "text/plain": "     group  cumulative_data_fraction  lower_threshold  lift  cumulative_lift  \\\n0        1                       1.0         0.653269   1.0              1.0   \n\n   response_rate     score  cumulative_response_rate  cumulative_score  \\\n0       0.654129  0.654703                  0.654129          0.654703   \n\n   capture_rate  cumulative_capture_rate  gain  cumulative_gain  \n0           1.0                      1.0   0.0              0.0  ",
            "text/html": "<div>\n<style scoped>\n    .dataframe tbody tr th:only-of-type {\n        vertical-align: middle;\n    }\n\n    .dataframe tbody tr th {\n        vertical-align: top;\n    }\n\n    .dataframe thead th {\n        text-align: right;\n    }\n</style>\n<table border=\"1\" class=\"dataframe\">\n  <thead>\n    <tr style=\"text-align: right;\">\n      <th></th>\n      <th></th>\n      <th>group</th>\n      <th>cumulative_data_fraction</th>\n      <th>lower_threshold</th>\n      <th>lift</th>\n      <th>cumulative_lift</th>\n      <th>response_rate</th>\n      <th>score</th>\n      <th>cumulative_response_rate</th>\n      <th>cumulative_score</th>\n      <th>capture_rate</th>\n      <th>cumulative_capture_rate</th>\n      <th>gain</th>\n      <th>cumulative_gain</th>\n    </tr>\n  </thead>\n  <tbody>\n    <tr>\n      <th>0</th>\n      <td></td>\n      <td>1</td>\n      <td>1.0</td>\n      <td>0.653269</td>\n      <td>1.0</td>\n      <td>1.0</td>\n      <td>0.654129</td>\n      <td>0.654703</td>\n      <td>0.654129</td>\n      <td>0.654703</td>\n      <td>1.0</td>\n      <td>1.0</td>\n      <td>0.0</td>\n      <td>0.0</td>\n    </tr>\n  </tbody>\n</table>\n</div>"
          },
          "metadata": {}
        },
        {
          "output_type": "display_data",
          "data": {
            "text/plain": "            0      1   Error            Rate\n0      0  0.0  163.0     1.0   (163.0/163.0)\n1      1  0.0  338.0     0.0     (0.0/338.0)\n2  Total  0.0  501.0  0.3253   (163.0/501.0)",
            "text/html": "<div>\n<style scoped>\n    .dataframe tbody tr th:only-of-type {\n        vertical-align: middle;\n    }\n\n    .dataframe tbody tr th {\n        vertical-align: top;\n    }\n\n    .dataframe thead th {\n        text-align: right;\n    }\n</style>\n<table border=\"1\" class=\"dataframe\">\n  <thead>\n    <tr style=\"text-align: right;\">\n      <th></th>\n      <th></th>\n      <th>0</th>\n      <th>1</th>\n      <th>Error</th>\n      <th>Rate</th>\n    </tr>\n  </thead>\n  <tbody>\n    <tr>\n      <th>0</th>\n      <td>0</td>\n      <td>0.0</td>\n      <td>163.0</td>\n      <td>1.0</td>\n      <td>(163.0/163.0)</td>\n    </tr>\n    <tr>\n      <th>1</th>\n      <td>1</td>\n      <td>0.0</td>\n      <td>338.0</td>\n      <td>0.0</td>\n      <td>(0.0/338.0)</td>\n    </tr>\n    <tr>\n      <th>2</th>\n      <td>Total</td>\n      <td>0.0</td>\n      <td>501.0</td>\n      <td>0.3253</td>\n      <td>(163.0/501.0)</td>\n    </tr>\n  </tbody>\n</table>\n</div>"
          },
          "metadata": {}
        },
        {
          "output_type": "display_data",
          "data": {
            "text/plain": "                         metric  threshold       value  idx\n0                        max f1   0.653269    0.805721  1.0\n1                        max f2   0.653269    0.912035  1.0\n2                  max f0point5   0.653269    0.721605  1.0\n3                  max accuracy   0.653269    0.674651  1.0\n4                 max precision   0.828573    0.833333  0.0\n5                    max recall   0.653269    1.000000  1.0\n6               max specificity   0.828573    0.993865  0.0\n7              max absolute_mcc   0.828573    0.037290  0.0\n8    max min_per_class_accuracy   0.828573    0.014793  0.0\n9   max mean_per_class_accuracy   0.828573    0.504329  0.0\n10                      max tns   0.828573  162.000000  0.0\n11                      max fns   0.828573  333.000000  0.0\n12                      max fps   0.653269  163.000000  1.0\n13                      max tps   0.653269  338.000000  1.0\n14                      max tnr   0.828573    0.993865  0.0\n15                      max fnr   0.828573    0.985207  0.0\n16                      max fpr   0.653269    1.000000  1.0\n17                      max tpr   0.653269    1.000000  1.0",
            "text/html": "<div>\n<style scoped>\n    .dataframe tbody tr th:only-of-type {\n        vertical-align: middle;\n    }\n\n    .dataframe tbody tr th {\n        vertical-align: top;\n    }\n\n    .dataframe thead th {\n        text-align: right;\n    }\n</style>\n<table border=\"1\" class=\"dataframe\">\n  <thead>\n    <tr style=\"text-align: right;\">\n      <th></th>\n      <th>metric</th>\n      <th>threshold</th>\n      <th>value</th>\n      <th>idx</th>\n    </tr>\n  </thead>\n  <tbody>\n    <tr>\n      <th>0</th>\n      <td>max f1</td>\n      <td>0.653269</td>\n      <td>0.805721</td>\n      <td>1.0</td>\n    </tr>\n    <tr>\n      <th>1</th>\n      <td>max f2</td>\n      <td>0.653269</td>\n      <td>0.912035</td>\n      <td>1.0</td>\n    </tr>\n    <tr>\n      <th>2</th>\n      <td>max f0point5</td>\n      <td>0.653269</td>\n      <td>0.721605</td>\n      <td>1.0</td>\n    </tr>\n    <tr>\n      <th>3</th>\n      <td>max accuracy</td>\n      <td>0.653269</td>\n      <td>0.674651</td>\n      <td>1.0</td>\n    </tr>\n    <tr>\n      <th>4</th>\n      <td>max precision</td>\n      <td>0.828573</td>\n      <td>0.833333</td>\n      <td>0.0</td>\n    </tr>\n    <tr>\n      <th>5</th>\n      <td>max recall</td>\n      <td>0.653269</td>\n      <td>1.000000</td>\n      <td>1.0</td>\n    </tr>\n    <tr>\n      <th>6</th>\n      <td>max specificity</td>\n      <td>0.828573</td>\n      <td>0.993865</td>\n      <td>0.0</td>\n    </tr>\n    <tr>\n      <th>7</th>\n      <td>max absolute_mcc</td>\n      <td>0.828573</td>\n      <td>0.037290</td>\n      <td>0.0</td>\n    </tr>\n    <tr>\n      <th>8</th>\n      <td>max min_per_class_accuracy</td>\n      <td>0.828573</td>\n      <td>0.014793</td>\n      <td>0.0</td>\n    </tr>\n    <tr>\n      <th>9</th>\n      <td>max mean_per_class_accuracy</td>\n      <td>0.828573</td>\n      <td>0.504329</td>\n      <td>0.0</td>\n    </tr>\n    <tr>\n      <th>10</th>\n      <td>max tns</td>\n      <td>0.828573</td>\n      <td>162.000000</td>\n      <td>0.0</td>\n    </tr>\n    <tr>\n      <th>11</th>\n      <td>max fns</td>\n      <td>0.828573</td>\n      <td>333.000000</td>\n      <td>0.0</td>\n    </tr>\n    <tr>\n      <th>12</th>\n      <td>max fps</td>\n      <td>0.653269</td>\n      <td>163.000000</td>\n      <td>1.0</td>\n    </tr>\n    <tr>\n      <th>13</th>\n      <td>max tps</td>\n      <td>0.653269</td>\n      <td>338.000000</td>\n      <td>1.0</td>\n    </tr>\n    <tr>\n      <th>14</th>\n      <td>max tnr</td>\n      <td>0.828573</td>\n      <td>0.993865</td>\n      <td>0.0</td>\n    </tr>\n    <tr>\n      <th>15</th>\n      <td>max fnr</td>\n      <td>0.828573</td>\n      <td>0.985207</td>\n      <td>0.0</td>\n    </tr>\n    <tr>\n      <th>16</th>\n      <td>max fpr</td>\n      <td>0.653269</td>\n      <td>1.000000</td>\n      <td>1.0</td>\n    </tr>\n    <tr>\n      <th>17</th>\n      <td>max tpr</td>\n      <td>0.653269</td>\n      <td>1.000000</td>\n      <td>1.0</td>\n    </tr>\n  </tbody>\n</table>\n</div>"
          },
          "metadata": {}
        },
        {
          "output_type": "display_data",
          "data": {
            "text/plain": "     group  cumulative_data_fraction  lower_threshold      lift  \\\n0        1                  0.011976         0.828573  1.235207   \n1        2                  1.000000         0.653269  0.997149   \n\n   cumulative_lift  response_rate     score  cumulative_response_rate  \\\n0         1.235207       0.833333  0.828573                  0.833333   \n1         1.000000       0.672727  0.653269                  0.674651   \n\n   cumulative_score  capture_rate  cumulative_capture_rate      gain  \\\n0          0.828573      0.014793                 0.014793  23.52071   \n1          0.655369      0.985207                 1.000000  -0.28510   \n\n   cumulative_gain  \n0         23.52071  \n1          0.00000  ",
            "text/html": "<div>\n<style scoped>\n    .dataframe tbody tr th:only-of-type {\n        vertical-align: middle;\n    }\n\n    .dataframe tbody tr th {\n        vertical-align: top;\n    }\n\n    .dataframe thead th {\n        text-align: right;\n    }\n</style>\n<table border=\"1\" class=\"dataframe\">\n  <thead>\n    <tr style=\"text-align: right;\">\n      <th></th>\n      <th></th>\n      <th>group</th>\n      <th>cumulative_data_fraction</th>\n      <th>lower_threshold</th>\n      <th>lift</th>\n      <th>cumulative_lift</th>\n      <th>response_rate</th>\n      <th>score</th>\n      <th>cumulative_response_rate</th>\n      <th>cumulative_score</th>\n      <th>capture_rate</th>\n      <th>cumulative_capture_rate</th>\n      <th>gain</th>\n      <th>cumulative_gain</th>\n    </tr>\n  </thead>\n  <tbody>\n    <tr>\n      <th>0</th>\n      <td></td>\n      <td>1</td>\n      <td>0.011976</td>\n      <td>0.828573</td>\n      <td>1.235207</td>\n      <td>1.235207</td>\n      <td>0.833333</td>\n      <td>0.828573</td>\n      <td>0.833333</td>\n      <td>0.828573</td>\n      <td>0.014793</td>\n      <td>0.014793</td>\n      <td>23.52071</td>\n      <td>23.52071</td>\n    </tr>\n    <tr>\n      <th>1</th>\n      <td></td>\n      <td>2</td>\n      <td>1.000000</td>\n      <td>0.653269</td>\n      <td>0.997149</td>\n      <td>1.000000</td>\n      <td>0.672727</td>\n      <td>0.653269</td>\n      <td>0.674651</td>\n      <td>0.655369</td>\n      <td>0.985207</td>\n      <td>1.000000</td>\n      <td>-0.28510</td>\n      <td>0.00000</td>\n    </tr>\n  </tbody>\n</table>\n</div>"
          },
          "metadata": {}
        },
        {
          "output_type": "execute_result",
          "execution_count": 38,
          "data": {
            "text/plain": "<bound method ModelBase.model_performance of >"
          },
          "metadata": {}
        }
      ],
      "execution_count": 38,
      "metadata": {
        "collapsed": true,
        "jupyter": {
          "source_hidden": false,
          "outputs_hidden": false
        },
        "nteract": {
          "transient": {
            "deleting": false
          }
        },
        "gather": {
          "logged": 1604247539062
        }
      }
    },
    {
      "cell_type": "code",
      "source": [],
      "outputs": [],
      "execution_count": null,
      "metadata": {
        "collapsed": true,
        "jupyter": {
          "source_hidden": false,
          "outputs_hidden": false
        },
        "nteract": {
          "transient": {
            "deleting": false
          }
        }
      }
    }
  ],
  "metadata": {
    "kernelspec": {
      "name": "python3-azureml",
      "language": "python",
      "display_name": "Python 3.6 - AzureML"
    },
    "language_info": {
      "name": "python",
      "version": "3.6.9",
      "mimetype": "text/x-python",
      "codemirror_mode": {
        "name": "ipython",
        "version": 3
      },
      "pygments_lexer": "ipython3",
      "nbconvert_exporter": "python",
      "file_extension": ".py"
    },
    "kernel_info": {
      "name": "python3-azureml"
    },
    "nteract": {
      "version": "nteract-front-end@1.0.0"
    }
  },
  "nbformat": 4,
  "nbformat_minor": 2
}