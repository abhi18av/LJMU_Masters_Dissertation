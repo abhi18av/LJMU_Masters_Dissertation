{
  "cells": [
    {
      "cell_type": "code",
      "source": [
        "import pandas as pd\r\n",
        "\r\n",
        "import warnings\r\n",
        "warnings.filterwarnings('ignore')\r\n",
        "\r\n",
        "\r\n",
        "import h2o\r\n",
        "h2o.init(min_mem_size='25G')\r\n",
        "\r\n"
      ],
      "outputs": [
        {
          "output_type": "stream",
          "name": "stdout",
          "text": [
            "Checking whether there is an H2O instance running at http://localhost:54321 ..... not found.\n",
            "Attempting to start a local H2O server...\n",
            "  Java Version: openjdk version \"1.8.0_265\"; OpenJDK Runtime Environment (build 1.8.0_265-8u265-b01-0ubuntu2~16.04-b01); OpenJDK 64-Bit Server VM (build 25.265-b01, mixed mode)\n",
            "  Starting server from /anaconda/envs/azureml_py36/lib/python3.6/site-packages/h2o/backend/bin/h2o.jar\n",
            "  Ice root: /tmp/tmpa_ntdm_7\n",
            "  JVM stdout: /tmp/tmpa_ntdm_7/h2o_azureuser_started_from_python.out\n",
            "  JVM stderr: /tmp/tmpa_ntdm_7/h2o_azureuser_started_from_python.err\n",
            "  Server is running at http://127.0.0.1:54321\n",
            "Connecting to H2O server at http://127.0.0.1:54321 ... successful.\n",
            "Warning: Your H2O cluster version is too old (5 months and 1 day)! Please download and install the latest version from http://h2o.ai/download/\n"
          ]
        },
        {
          "output_type": "display_data",
          "data": {
            "text/plain": "--------------------------  ------------------------------------------------------------------\nH2O_cluster_uptime:         01 secs\nH2O_cluster_timezone:       Etc/UTC\nH2O_data_parsing_timezone:  UTC\nH2O_cluster_version:        3.30.0.4\nH2O_cluster_version_age:    5 months and 1 day !!!\nH2O_cluster_name:           H2O_from_python_azureuser_b7f86b\nH2O_cluster_total_nodes:    1\nH2O_cluster_free_memory:    23.96 Gb\nH2O_cluster_total_cores:    4\nH2O_cluster_allowed_cores:  4\nH2O_cluster_status:         accepting new members, healthy\nH2O_connection_url:         http://127.0.0.1:54321\nH2O_connection_proxy:       {\"http\": null, \"https\": null}\nH2O_internal_security:      False\nH2O_API_Extensions:         Amazon S3, XGBoost, Algos, AutoML, Core V3, TargetEncoder, Core V4\nPython_version:             3.6.9 final\n--------------------------  ------------------------------------------------------------------",
            "text/html": "<div style=\"overflow:auto\"><table style=\"width:50%\"><tr><td>H2O_cluster_uptime:</td>\n<td>01 secs</td></tr>\n<tr><td>H2O_cluster_timezone:</td>\n<td>Etc/UTC</td></tr>\n<tr><td>H2O_data_parsing_timezone:</td>\n<td>UTC</td></tr>\n<tr><td>H2O_cluster_version:</td>\n<td>3.30.0.4</td></tr>\n<tr><td>H2O_cluster_version_age:</td>\n<td>5 months and 1 day !!!</td></tr>\n<tr><td>H2O_cluster_name:</td>\n<td>H2O_from_python_azureuser_b7f86b</td></tr>\n<tr><td>H2O_cluster_total_nodes:</td>\n<td>1</td></tr>\n<tr><td>H2O_cluster_free_memory:</td>\n<td>23.96 Gb</td></tr>\n<tr><td>H2O_cluster_total_cores:</td>\n<td>4</td></tr>\n<tr><td>H2O_cluster_allowed_cores:</td>\n<td>4</td></tr>\n<tr><td>H2O_cluster_status:</td>\n<td>accepting new members, healthy</td></tr>\n<tr><td>H2O_connection_url:</td>\n<td>http://127.0.0.1:54321</td></tr>\n<tr><td>H2O_connection_proxy:</td>\n<td>{\"http\": null, \"https\": null}</td></tr>\n<tr><td>H2O_internal_security:</td>\n<td>False</td></tr>\n<tr><td>H2O_API_Extensions:</td>\n<td>Amazon S3, XGBoost, Algos, AutoML, Core V3, TargetEncoder, Core V4</td></tr>\n<tr><td>Python_version:</td>\n<td>3.6.9 final</td></tr></table></div>"
          },
          "metadata": {}
        }
      ],
      "execution_count": 16,
      "metadata": {
        "gather": {
          "logged": 1604407523992
        }
      }
    },
    {
      "cell_type": "code",
      "source": [
        "train = h2o.import_file(\"../data/processed/final.train.tsv\")\r\n",
        "train.head()"
      ],
      "outputs": [
        {
          "output_type": "stream",
          "name": "stdout",
          "text": [
            "Parse progress: |█████████████████████████████████████████████████████████| 100%\n"
          ]
        },
        {
          "output_type": "display_data",
          "data": {
            "text/html": "<table>\n<thead>\n<tr><th>SampleID   </th><th style=\"text-align: right;\">  NC000962_3.22</th><th style=\"text-align: right;\">  NC000962_3.434</th><th style=\"text-align: right;\">  NC000962_3.524</th><th style=\"text-align: right;\">  NC000962_3.645</th><th style=\"text-align: right;\">  NC000962_3.648</th><th style=\"text-align: right;\">  NC000962_3.654</th><th style=\"text-align: right;\">  NC000962_3.666</th><th style=\"text-align: right;\">  NC000962_3.675</th><th style=\"text-align: right;\">  NC000962_3.678</th><th style=\"text-align: right;\">  NC000962_3.693</th><th style=\"text-align: right;\">  NC000962_3.698</th><th style=\"text-align: right;\">  NC000962_3.699</th><th style=\"text-align: right;\">  NC000962_3.702</th><th style=\"text-align: right;\">  NC000962_3.705</th><th style=\"text-align: right;\">  NC000962_3.708</th><th style=\"text-align: right;\">  NC000962_3.717</th><th style=\"text-align: right;\">  NC000962_3.729</th><th style=\"text-align: right;\">  NC000962_3.741</th><th style=\"text-align: right;\">  NC000962_3.744</th><th style=\"text-align: right;\">  NC000962_3.747</th><th style=\"text-align: right;\">  NC000962_3.750</th><th style=\"text-align: right;\">  NC000962_3.756</th><th style=\"text-align: right;\">  NC000962_3.770</th><th style=\"text-align: right;\">  NC000962_3.777</th><th style=\"text-align: right;\">  NC000962_3.780</th><th style=\"text-align: right;\">  NC000962_3.783</th><th style=\"text-align: right;\">  NC000962_3.793</th><th style=\"text-align: right;\">  NC000962_3.795</th><th style=\"text-align: right;\">  NC000962_3.799</th><th style=\"text-align: right;\">  NC000962_3.801</th><th style=\"text-align: right;\">  NC000962_3.805</th><th style=\"text-align: right;\">  NC000962_3.822</th><th style=\"text-align: right;\">  NC000962_3.840</th><th style=\"text-align: right;\">  NC000962_3.846</th><th style=\"text-align: right;\">  NC000962_3.849</th><th style=\"text-align: right;\">  NC000962_3.852</th><th style=\"text-align: right;\">  NC000962_3.1045</th><th style=\"text-align: right;\">  NC000962_3.1049</th><th style=\"text-align: right;\">  NC000962_3.1089</th><th style=\"text-align: right;\">  NC000962_3.1123</th><th style=\"text-align: right;\">  NC000962_3.1152</th><th style=\"text-align: right;\">  NC000962_3.1153</th><th style=\"text-align: right;\">  NC000962_3.1155</th><th style=\"text-align: right;\">  NC000962_3.1161</th><th style=\"text-align: right;\">  NC000962_3.1164</th><th style=\"text-align: right;\">  NC000962_3.1166</th><th style=\"text-align: right;\">  NC000962_3.1167</th><th style=\"text-align: right;\">  NC000962_3.1176</th><th style=\"text-align: right;\">  NC000962_3.1206</th><th style=\"text-align: right;\">  NC000962_3.1212</th><th style=\"text-align: right;\">  NC000962_3.1255</th><th style=\"text-align: right;\">  NC000962_3.1278</th><th style=\"text-align: right;\">  NC000962_3.1291</th><th style=\"text-align: right;\">  NC000962_3.1302</th><th style=\"text-align: right;\">  NC000962_3.1326</th><th style=\"text-align: right;\">  NC000962_3.1389</th><th style=\"text-align: right;\">  NC000962_3.1399</th><th style=\"text-align: right;\">  NC000962_3.1413</th><th style=\"text-align: right;\">  NC000962_3.1416</th><th style=\"text-align: right;\">  NC000962_3.1422</th><th style=\"text-align: right;\">  NC000962_3.1429</th><th style=\"text-align: right;\">  NC000962_3.1431</th><th style=\"text-align: right;\">  NC000962_3.1432</th><th style=\"text-align: right;\">  NC000962_3.1452</th><th style=\"text-align: right;\">  NC000962_3.1458</th><th style=\"text-align: right;\">  NC000962_3.1461</th><th style=\"text-align: right;\">  NC000962_3.1470</th><th style=\"text-align: right;\">  NC000962_3.1473</th><th style=\"text-align: right;\">  NC000962_3.1474</th><th style=\"text-align: right;\">  NC000962_3.1653</th><th style=\"text-align: right;\">  NC000962_3.1676</th><th style=\"text-align: right;\">  NC000962_3.1699</th><th style=\"text-align: right;\">  NC000962_3.1703</th><th style=\"text-align: right;\">  NC000962_3.1708</th><th style=\"text-align: right;\">  NC000962_3.1718</th><th style=\"text-align: right;\">  NC000962_3.1729</th><th style=\"text-align: right;\">  NC000962_3.1771</th><th style=\"text-align: right;\">  NC000962_3.1827</th><th style=\"text-align: right;\">  NC000962_3.1849</th><th style=\"text-align: right;\">  NC000962_3.1918</th><th style=\"text-align: right;\">  NC000962_3.1977</th><th style=\"text-align: right;\">  NC000962_3.2532</th><th style=\"text-align: right;\">  NC000962_3.2745</th><th style=\"text-align: right;\">  NC000962_3.3352</th><th style=\"text-align: right;\">  NC000962_3.3446</th><th style=\"text-align: right;\">  NC000962_3.4013</th><th style=\"text-align: right;\">  NC000962_3.4086</th><th style=\"text-align: right;\">  NC000962_3.4096</th><th style=\"text-align: right;\">  NC000962_3.4119</th><th style=\"text-align: right;\">  NC000962_3.4938</th><th style=\"text-align: right;\">  NC000962_3.5075</th><th style=\"text-align: right;\">  NC000962_3.5627</th><th style=\"text-align: right;\">  NC000962_3.5782</th><th style=\"text-align: right;\">  NC000962_3.5790</th><th style=\"text-align: right;\">  NC000962_3.5791</th><th style=\"text-align: right;\">  NC000962_3.5803</th><th style=\"text-align: right;\">  NC000962_3.5807</th><th style=\"text-align: right;\">  NC000962_3.5824</th><th style=\"text-align: right;\">  NC000962_3.5839</th><th style=\"text-align: right;\">  NC000962_3.5848</th><th style=\"text-align: right;\">  NC000962_3.5856</th><th style=\"text-align: right;\">  NC000962_3.5858</th><th style=\"text-align: right;\">  NC000962_3.5860</th><th style=\"text-align: right;\">  NC000962_3.5902</th><th style=\"text-align: right;\">  NC000962_3.6003</th><th style=\"text-align: right;\">  NC000962_3.6013</th><th style=\"text-align: right;\">  NC000962_3.6112</th><th style=\"text-align: right;\">  NC000962_3.6280</th><th style=\"text-align: right;\">  NC000962_3.6286</th><th style=\"text-align: right;\">  NC000962_3.6292</th><th style=\"text-align: right;\">  NC000962_3.6307</th><th style=\"text-align: right;\">  NC000962_3.6362</th><th style=\"text-align: right;\">  NC000962_3.6382</th><th style=\"text-align: right;\">  NC000962_3.6388</th><th style=\"text-align: right;\">  NC000962_3.6403</th><th style=\"text-align: right;\">  NC000962_3.6430</th><th style=\"text-align: right;\">  NC000962_3.6436</th><th style=\"text-align: right;\">  NC000962_3.6439</th><th style=\"text-align: right;\">  NC000962_3.6445</th><th style=\"text-align: right;\">  NC000962_3.6452</th><th style=\"text-align: right;\">  NC000962_3.6453</th><th style=\"text-align: right;\">  NC000962_3.6502</th><th style=\"text-align: right;\">  NC000962_3.6508</th><th style=\"text-align: right;\">  NC000962_3.6511</th><th style=\"text-align: right;\">  NC000962_3.6515</th><th style=\"text-align: right;\">  NC000962_3.6520</th><th style=\"text-align: right;\">  NC000962_3.6535</th><th style=\"text-align: right;\">  NC000962_3.6547</th><th style=\"text-align: right;\">  NC000962_3.6550</th><th style=\"text-align: right;\">  NC000962_3.6551</th><th style=\"text-align: right;\">  NC000962_3.6553</th><th style=\"text-align: right;\">  NC000962_3.6571</th><th style=\"text-align: right;\">  NC000962_3.6575</th><th style=\"text-align: right;\">  NC000962_3.6579</th><th style=\"text-align: right;\">  NC000962_3.6586</th><th style=\"text-align: right;\">  NC000962_3.6620</th><th style=\"text-align: right;\">  NC000962_3.6638</th><th style=\"text-align: right;\">  NC000962_3.6695</th><th style=\"text-align: right;\">  NC000962_3.6735</th><th style=\"text-align: right;\">  NC000962_3.6738</th><th style=\"text-align: right;\">  NC000962_3.6742</th><th style=\"text-align: right;\">  NC000962_3.6749</th><th style=\"text-align: right;\">  NC000962_3.6750</th><th style=\"text-align: right;\">  NC000962_3.6807</th><th style=\"text-align: right;\">  NC000962_3.6878</th><th style=\"text-align: right;\">  NC000962_3.6881</th><th style=\"text-align: right;\">  NC000962_3.7058</th><th style=\"text-align: right;\">  NC000962_3.7088</th><th style=\"text-align: right;\">  NC000962_3.7170</th><th style=\"text-align: right;\">  NC000962_3.7268</th><th style=\"text-align: right;\">  NC000962_3.7355</th><th style=\"text-align: right;\">  NC000962_3.7362</th><th style=\"text-align: right;\">  NC000962_3.7496</th><th style=\"text-align: right;\">  NC000962_3.7563</th><th style=\"text-align: right;\">  NC000962_3.7564</th><th style=\"text-align: right;\">  NC000962_3.7566</th><th style=\"text-align: right;\">  NC000962_3.7567</th><th style=\"text-align: right;\">  NC000962_3.7570</th><th style=\"text-align: right;\">  NC000962_3.7572</th><th style=\"text-align: right;\">  NC000962_3.7581</th><th style=\"text-align: right;\">  NC000962_3.7582</th><th style=\"text-align: right;\">  NC000962_3.7585</th><th style=\"text-align: right;\">  NC000962_3.7607</th><th style=\"text-align: right;\">  NC000962_3.7631</th><th style=\"text-align: right;\">  NC000962_3.7637</th><th style=\"text-align: right;\">  NC000962_3.7652</th><th style=\"text-align: right;\">  NC000962_3.7658</th><th style=\"text-align: right;\">  NC000962_3.7664</th><th style=\"text-align: right;\">  NC000962_3.7683</th><th style=\"text-align: right;\">  NC000962_3.7685</th><th style=\"text-align: right;\">  NC000962_3.7694</th><th style=\"text-align: right;\">  NC000962_3.7710</th><th style=\"text-align: right;\">  NC000962_3.7712</th><th style=\"text-align: right;\">  NC000962_3.7725</th><th style=\"text-align: right;\">  NC000962_3.7728</th><th style=\"text-align: right;\">  NC000962_3.7730</th><th style=\"text-align: right;\">  NC000962_3.7892</th><th style=\"text-align: right;\">  NC000962_3.8040</th><th style=\"text-align: right;\">  NC000962_3.8164</th><th style=\"text-align: right;\">  NC000962_3.8201</th><th style=\"text-align: right;\">  NC000962_3.8434</th><th style=\"text-align: right;\">  NC000962_3.8452</th><th style=\"text-align: right;\">  NC000962_3.8519</th><th style=\"text-align: right;\">  NC000962_3.8619</th><th style=\"text-align: right;\">  NC000962_3.8624</th><th style=\"text-align: right;\">  NC000962_3.9023</th><th style=\"text-align: right;\">  NC000962_3.9032</th><th style=\"text-align: right;\">  NC000962_3.9034</th><th style=\"text-align: right;\">  NC000962_3.9050</th><th style=\"text-align: right;\">  NC000962_3.9051</th><th style=\"text-align: right;\">  NC000962_3.9113</th><th style=\"text-align: right;\">  NC000962_3.9119</th><th style=\"text-align: right;\">  NC000962_3.9134</th><th style=\"text-align: right;\">  NC000962_3.9143</th><th style=\"text-align: right;\">  NC000962_3.9145</th><th style=\"text-align: right;\">  NC000962_3.9147</th><th style=\"text-align: right;\">  NC000962_3.9153</th><th style=\"text-align: right;\">  NC000962_3.9154</th><th style=\"text-align: right;\">  NC000962_3.9155</th></tr>\n</thead>\n<tbody>\n<tr><td>SRR10525336</td><td style=\"text-align: right;\">              0</td><td style=\"text-align: right;\">               0</td><td style=\"text-align: right;\">               0</td><td style=\"text-align: right;\">               0</td><td style=\"text-align: right;\">               0</td><td style=\"text-align: right;\">               0</td><td style=\"text-align: right;\">               0</td><td style=\"text-align: right;\">               0</td><td style=\"text-align: right;\">               0</td><td style=\"text-align: right;\">               0</td><td style=\"text-align: right;\">               0</td><td style=\"text-align: right;\">               0</td><td style=\"text-align: right;\">               0</td><td style=\"text-align: right;\">               0</td><td style=\"text-align: right;\">               0</td><td style=\"text-align: right;\">               0</td><td style=\"text-align: right;\">               0</td><td style=\"text-align: right;\">               0</td><td style=\"text-align: right;\">               0</td><td style=\"text-align: right;\">               0</td><td style=\"text-align: right;\">               0</td><td style=\"text-align: right;\">               0</td><td style=\"text-align: right;\">               0</td><td style=\"text-align: right;\">               0</td><td style=\"text-align: right;\">               0</td><td style=\"text-align: right;\">               0</td><td style=\"text-align: right;\">               0</td><td style=\"text-align: right;\">               0</td><td style=\"text-align: right;\">               0</td><td style=\"text-align: right;\">               0</td><td style=\"text-align: right;\">               0</td><td style=\"text-align: right;\">               0</td><td style=\"text-align: right;\">               0</td><td style=\"text-align: right;\">               0</td><td style=\"text-align: right;\">               0</td><td style=\"text-align: right;\">               0</td><td style=\"text-align: right;\">                0</td><td style=\"text-align: right;\">                0</td><td style=\"text-align: right;\">                0</td><td style=\"text-align: right;\">                0</td><td style=\"text-align: right;\">                0</td><td style=\"text-align: right;\">                0</td><td style=\"text-align: right;\">                0</td><td style=\"text-align: right;\">                0</td><td style=\"text-align: right;\">                0</td><td style=\"text-align: right;\">                0</td><td style=\"text-align: right;\">                0</td><td style=\"text-align: right;\">                0</td><td style=\"text-align: right;\">                0</td><td style=\"text-align: right;\">                0</td><td style=\"text-align: right;\">                0</td><td style=\"text-align: right;\">                0</td><td style=\"text-align: right;\">                0</td><td style=\"text-align: right;\">                0</td><td style=\"text-align: right;\">                0</td><td style=\"text-align: right;\">                0</td><td style=\"text-align: right;\">                0</td><td style=\"text-align: right;\">                0</td><td style=\"text-align: right;\">                0</td><td style=\"text-align: right;\">                0</td><td style=\"text-align: right;\">                0</td><td style=\"text-align: right;\">                0</td><td style=\"text-align: right;\">                0</td><td style=\"text-align: right;\">                0</td><td style=\"text-align: right;\">                0</td><td style=\"text-align: right;\">                0</td><td style=\"text-align: right;\">                0</td><td style=\"text-align: right;\">                0</td><td style=\"text-align: right;\">                0</td><td style=\"text-align: right;\">                0</td><td style=\"text-align: right;\">                0</td><td style=\"text-align: right;\">                0</td><td style=\"text-align: right;\">                0</td><td style=\"text-align: right;\">                0</td><td style=\"text-align: right;\">                0</td><td style=\"text-align: right;\">                0</td><td style=\"text-align: right;\">                0</td><td style=\"text-align: right;\">                1</td><td style=\"text-align: right;\">                0</td><td style=\"text-align: right;\">                0</td><td style=\"text-align: right;\">                0</td><td style=\"text-align: right;\">                0</td><td style=\"text-align: right;\">                0</td><td style=\"text-align: right;\">                0</td><td style=\"text-align: right;\">                0</td><td style=\"text-align: right;\">                0</td><td style=\"text-align: right;\">                0</td><td style=\"text-align: right;\">                0</td><td style=\"text-align: right;\">                0</td><td style=\"text-align: right;\">                0</td><td style=\"text-align: right;\">                0</td><td style=\"text-align: right;\">                0</td><td style=\"text-align: right;\">                0</td><td style=\"text-align: right;\">                0</td><td style=\"text-align: right;\">                0</td><td style=\"text-align: right;\">                0</td><td style=\"text-align: right;\">                0</td><td style=\"text-align: right;\">                0</td><td style=\"text-align: right;\">                0</td><td style=\"text-align: right;\">                0</td><td style=\"text-align: right;\">                0</td><td style=\"text-align: right;\">                0</td><td style=\"text-align: right;\">                0</td><td style=\"text-align: right;\">                0</td><td style=\"text-align: right;\">                0</td><td style=\"text-align: right;\">                0</td><td style=\"text-align: right;\">                0</td><td style=\"text-align: right;\">                0</td><td style=\"text-align: right;\">                0</td><td style=\"text-align: right;\">                0</td><td style=\"text-align: right;\">                0</td><td style=\"text-align: right;\">                0</td><td style=\"text-align: right;\">                0</td><td style=\"text-align: right;\">                0</td><td style=\"text-align: right;\">                0</td><td style=\"text-align: right;\">                0</td><td style=\"text-align: right;\">                0</td><td style=\"text-align: right;\">                0</td><td style=\"text-align: right;\">                0</td><td style=\"text-align: right;\">                0</td><td style=\"text-align: right;\">                0</td><td style=\"text-align: right;\">                0</td><td style=\"text-align: right;\">                0</td><td style=\"text-align: right;\">                0</td><td style=\"text-align: right;\">                0</td><td style=\"text-align: right;\">                0</td><td style=\"text-align: right;\">                0</td><td style=\"text-align: right;\">                0</td><td style=\"text-align: right;\">                0</td><td style=\"text-align: right;\">                0</td><td style=\"text-align: right;\">                0</td><td style=\"text-align: right;\">                0</td><td style=\"text-align: right;\">                0</td><td style=\"text-align: right;\">                0</td><td style=\"text-align: right;\">                0</td><td style=\"text-align: right;\">                0</td><td style=\"text-align: right;\">                0</td><td style=\"text-align: right;\">                0</td><td style=\"text-align: right;\">                0</td><td style=\"text-align: right;\">                0</td><td style=\"text-align: right;\">                0</td><td style=\"text-align: right;\">                0</td><td style=\"text-align: right;\">                0</td><td style=\"text-align: right;\">                0</td><td style=\"text-align: right;\">                0</td><td style=\"text-align: right;\">                0</td><td style=\"text-align: right;\">                0</td><td style=\"text-align: right;\">                0</td><td style=\"text-align: right;\">                0</td><td style=\"text-align: right;\">                0</td><td style=\"text-align: right;\">                0</td><td style=\"text-align: right;\">                0</td><td style=\"text-align: right;\">                0</td><td style=\"text-align: right;\">                0</td><td style=\"text-align: right;\">                0</td><td style=\"text-align: right;\">                0</td><td style=\"text-align: right;\">                0</td><td style=\"text-align: right;\">                0</td><td style=\"text-align: right;\">                0</td><td style=\"text-align: right;\">                0</td><td style=\"text-align: right;\">                0</td><td style=\"text-align: right;\">                0</td><td style=\"text-align: right;\">                0</td><td style=\"text-align: right;\">                0</td><td style=\"text-align: right;\">                0</td><td style=\"text-align: right;\">                0</td><td style=\"text-align: right;\">                0</td><td style=\"text-align: right;\">                0</td><td style=\"text-align: right;\">                0</td><td style=\"text-align: right;\">                0</td><td style=\"text-align: right;\">                0</td><td style=\"text-align: right;\">                0</td><td style=\"text-align: right;\">                0</td><td style=\"text-align: right;\">                0</td><td style=\"text-align: right;\">                0</td><td style=\"text-align: right;\">                0</td><td style=\"text-align: right;\">                0</td><td style=\"text-align: right;\">                0</td><td style=\"text-align: right;\">                0</td><td style=\"text-align: right;\">                0</td><td style=\"text-align: right;\">                0</td><td style=\"text-align: right;\">                0</td><td style=\"text-align: right;\">                0</td><td style=\"text-align: right;\">                0</td><td style=\"text-align: right;\">                0</td><td style=\"text-align: right;\">                0</td><td style=\"text-align: right;\">                0</td><td style=\"text-align: right;\">                0</td><td style=\"text-align: right;\">                0</td><td style=\"text-align: right;\">                0</td><td style=\"text-align: right;\">                0</td><td style=\"text-align: right;\">                0</td><td style=\"text-align: right;\">                0</td><td style=\"text-align: right;\">                0</td><td style=\"text-align: right;\">                0</td><td style=\"text-align: right;\">                0</td><td style=\"text-align: right;\">                0</td><td style=\"text-align: right;\">                0</td><td style=\"text-align: right;\">                0</td></tr>\n<tr><td>SRR10380004</td><td style=\"text-align: right;\">              0</td><td style=\"text-align: right;\">               0</td><td style=\"text-align: right;\">               0</td><td style=\"text-align: right;\">               0</td><td style=\"text-align: right;\">               0</td><td style=\"text-align: right;\">               0</td><td style=\"text-align: right;\">               0</td><td style=\"text-align: right;\">               0</td><td style=\"text-align: right;\">               0</td><td style=\"text-align: right;\">               0</td><td style=\"text-align: right;\">               0</td><td style=\"text-align: right;\">               0</td><td style=\"text-align: right;\">               0</td><td style=\"text-align: right;\">               0</td><td style=\"text-align: right;\">               0</td><td style=\"text-align: right;\">               0</td><td style=\"text-align: right;\">               0</td><td style=\"text-align: right;\">               0</td><td style=\"text-align: right;\">               0</td><td style=\"text-align: right;\">               0</td><td style=\"text-align: right;\">               0</td><td style=\"text-align: right;\">               0</td><td style=\"text-align: right;\">               0</td><td style=\"text-align: right;\">               0</td><td style=\"text-align: right;\">               0</td><td style=\"text-align: right;\">               0</td><td style=\"text-align: right;\">               0</td><td style=\"text-align: right;\">               0</td><td style=\"text-align: right;\">               0</td><td style=\"text-align: right;\">               0</td><td style=\"text-align: right;\">               0</td><td style=\"text-align: right;\">               0</td><td style=\"text-align: right;\">               0</td><td style=\"text-align: right;\">               0</td><td style=\"text-align: right;\">               0</td><td style=\"text-align: right;\">               0</td><td style=\"text-align: right;\">                0</td><td style=\"text-align: right;\">                0</td><td style=\"text-align: right;\">                0</td><td style=\"text-align: right;\">                0</td><td style=\"text-align: right;\">                0</td><td style=\"text-align: right;\">                0</td><td style=\"text-align: right;\">                0</td><td style=\"text-align: right;\">                0</td><td style=\"text-align: right;\">                0</td><td style=\"text-align: right;\">                0</td><td style=\"text-align: right;\">                0</td><td style=\"text-align: right;\">                0</td><td style=\"text-align: right;\">                0</td><td style=\"text-align: right;\">                0</td><td style=\"text-align: right;\">                0</td><td style=\"text-align: right;\">                0</td><td style=\"text-align: right;\">                0</td><td style=\"text-align: right;\">                0</td><td style=\"text-align: right;\">                0</td><td style=\"text-align: right;\">                0</td><td style=\"text-align: right;\">                0</td><td style=\"text-align: right;\">                0</td><td style=\"text-align: right;\">                0</td><td style=\"text-align: right;\">                0</td><td style=\"text-align: right;\">                0</td><td style=\"text-align: right;\">                0</td><td style=\"text-align: right;\">                0</td><td style=\"text-align: right;\">                0</td><td style=\"text-align: right;\">                0</td><td style=\"text-align: right;\">                0</td><td style=\"text-align: right;\">                0</td><td style=\"text-align: right;\">                0</td><td style=\"text-align: right;\">                0</td><td style=\"text-align: right;\">                0</td><td style=\"text-align: right;\">                0</td><td style=\"text-align: right;\">                0</td><td style=\"text-align: right;\">                0</td><td style=\"text-align: right;\">                0</td><td style=\"text-align: right;\">                0</td><td style=\"text-align: right;\">                0</td><td style=\"text-align: right;\">                0</td><td style=\"text-align: right;\">                0</td><td style=\"text-align: right;\">                0</td><td style=\"text-align: right;\">                0</td><td style=\"text-align: right;\">                0</td><td style=\"text-align: right;\">                0</td><td style=\"text-align: right;\">                0</td><td style=\"text-align: right;\">                0</td><td style=\"text-align: right;\">                0</td><td style=\"text-align: right;\">                0</td><td style=\"text-align: right;\">                0</td><td style=\"text-align: right;\">                0</td><td style=\"text-align: right;\">                0</td><td style=\"text-align: right;\">                0</td><td style=\"text-align: right;\">                0</td><td style=\"text-align: right;\">                0</td><td style=\"text-align: right;\">                0</td><td style=\"text-align: right;\">                0</td><td style=\"text-align: right;\">                0</td><td style=\"text-align: right;\">                0</td><td style=\"text-align: right;\">                0</td><td style=\"text-align: right;\">                0</td><td style=\"text-align: right;\">                0</td><td style=\"text-align: right;\">                0</td><td style=\"text-align: right;\">                0</td><td style=\"text-align: right;\">                0</td><td style=\"text-align: right;\">                0</td><td style=\"text-align: right;\">                0</td><td style=\"text-align: right;\">                0</td><td style=\"text-align: right;\">                0</td><td style=\"text-align: right;\">                0</td><td style=\"text-align: right;\">                0</td><td style=\"text-align: right;\">                0</td><td style=\"text-align: right;\">                0</td><td style=\"text-align: right;\">                0</td><td style=\"text-align: right;\">                0</td><td style=\"text-align: right;\">                0</td><td style=\"text-align: right;\">                0</td><td style=\"text-align: right;\">                0</td><td style=\"text-align: right;\">                0</td><td style=\"text-align: right;\">                0</td><td style=\"text-align: right;\">                0</td><td style=\"text-align: right;\">                0</td><td style=\"text-align: right;\">                0</td><td style=\"text-align: right;\">                0</td><td style=\"text-align: right;\">                0</td><td style=\"text-align: right;\">                0</td><td style=\"text-align: right;\">                0</td><td style=\"text-align: right;\">                0</td><td style=\"text-align: right;\">                0</td><td style=\"text-align: right;\">                0</td><td style=\"text-align: right;\">                0</td><td style=\"text-align: right;\">                0</td><td style=\"text-align: right;\">                0</td><td style=\"text-align: right;\">                0</td><td style=\"text-align: right;\">                0</td><td style=\"text-align: right;\">                0</td><td style=\"text-align: right;\">                0</td><td style=\"text-align: right;\">                0</td><td style=\"text-align: right;\">                0</td><td style=\"text-align: right;\">                0</td><td style=\"text-align: right;\">                0</td><td style=\"text-align: right;\">                0</td><td style=\"text-align: right;\">                0</td><td style=\"text-align: right;\">                0</td><td style=\"text-align: right;\">                0</td><td style=\"text-align: right;\">                0</td><td style=\"text-align: right;\">                0</td><td style=\"text-align: right;\">                0</td><td style=\"text-align: right;\">                0</td><td style=\"text-align: right;\">                0</td><td style=\"text-align: right;\">                0</td><td style=\"text-align: right;\">                0</td><td style=\"text-align: right;\">                0</td><td style=\"text-align: right;\">                0</td><td style=\"text-align: right;\">                0</td><td style=\"text-align: right;\">                0</td><td style=\"text-align: right;\">                0</td><td style=\"text-align: right;\">                0</td><td style=\"text-align: right;\">                0</td><td style=\"text-align: right;\">                0</td><td style=\"text-align: right;\">                0</td><td style=\"text-align: right;\">                0</td><td style=\"text-align: right;\">                0</td><td style=\"text-align: right;\">                0</td><td style=\"text-align: right;\">                0</td><td style=\"text-align: right;\">                0</td><td style=\"text-align: right;\">                0</td><td style=\"text-align: right;\">                0</td><td style=\"text-align: right;\">                0</td><td style=\"text-align: right;\">                0</td><td style=\"text-align: right;\">                0</td><td style=\"text-align: right;\">                0</td><td style=\"text-align: right;\">                0</td><td style=\"text-align: right;\">                0</td><td style=\"text-align: right;\">                0</td><td style=\"text-align: right;\">                0</td><td style=\"text-align: right;\">                0</td><td style=\"text-align: right;\">                0</td><td style=\"text-align: right;\">                0</td><td style=\"text-align: right;\">                0</td><td style=\"text-align: right;\">                0</td><td style=\"text-align: right;\">                0</td><td style=\"text-align: right;\">                0</td><td style=\"text-align: right;\">                0</td><td style=\"text-align: right;\">                0</td><td style=\"text-align: right;\">                0</td><td style=\"text-align: right;\">                0</td><td style=\"text-align: right;\">                0</td><td style=\"text-align: right;\">                0</td><td style=\"text-align: right;\">                0</td><td style=\"text-align: right;\">                0</td><td style=\"text-align: right;\">                0</td><td style=\"text-align: right;\">                0</td><td style=\"text-align: right;\">                0</td><td style=\"text-align: right;\">                0</td><td style=\"text-align: right;\">                0</td><td style=\"text-align: right;\">                0</td><td style=\"text-align: right;\">                0</td><td style=\"text-align: right;\">                0</td><td style=\"text-align: right;\">                0</td><td style=\"text-align: right;\">                0</td><td style=\"text-align: right;\">                0</td></tr>\n<tr><td>SRR6807701 </td><td style=\"text-align: right;\">              0</td><td style=\"text-align: right;\">               0</td><td style=\"text-align: right;\">               0</td><td style=\"text-align: right;\">               0</td><td style=\"text-align: right;\">               0</td><td style=\"text-align: right;\">               0</td><td style=\"text-align: right;\">               0</td><td style=\"text-align: right;\">               0</td><td style=\"text-align: right;\">               0</td><td style=\"text-align: right;\">               0</td><td style=\"text-align: right;\">               0</td><td style=\"text-align: right;\">               0</td><td style=\"text-align: right;\">               0</td><td style=\"text-align: right;\">               0</td><td style=\"text-align: right;\">               0</td><td style=\"text-align: right;\">               0</td><td style=\"text-align: right;\">               0</td><td style=\"text-align: right;\">               0</td><td style=\"text-align: right;\">               0</td><td style=\"text-align: right;\">               0</td><td style=\"text-align: right;\">               0</td><td style=\"text-align: right;\">               0</td><td style=\"text-align: right;\">               0</td><td style=\"text-align: right;\">               0</td><td style=\"text-align: right;\">               0</td><td style=\"text-align: right;\">               0</td><td style=\"text-align: right;\">               0</td><td style=\"text-align: right;\">               0</td><td style=\"text-align: right;\">               0</td><td style=\"text-align: right;\">               0</td><td style=\"text-align: right;\">               0</td><td style=\"text-align: right;\">               0</td><td style=\"text-align: right;\">               0</td><td style=\"text-align: right;\">               0</td><td style=\"text-align: right;\">               0</td><td style=\"text-align: right;\">               0</td><td style=\"text-align: right;\">                0</td><td style=\"text-align: right;\">                0</td><td style=\"text-align: right;\">                0</td><td style=\"text-align: right;\">                0</td><td style=\"text-align: right;\">                0</td><td style=\"text-align: right;\">                0</td><td style=\"text-align: right;\">                0</td><td style=\"text-align: right;\">                0</td><td style=\"text-align: right;\">                0</td><td style=\"text-align: right;\">                0</td><td style=\"text-align: right;\">                0</td><td style=\"text-align: right;\">                0</td><td style=\"text-align: right;\">                0</td><td style=\"text-align: right;\">                0</td><td style=\"text-align: right;\">                0</td><td style=\"text-align: right;\">                0</td><td style=\"text-align: right;\">                0</td><td style=\"text-align: right;\">                0</td><td style=\"text-align: right;\">                0</td><td style=\"text-align: right;\">                0</td><td style=\"text-align: right;\">                0</td><td style=\"text-align: right;\">                0</td><td style=\"text-align: right;\">                0</td><td style=\"text-align: right;\">                0</td><td style=\"text-align: right;\">                0</td><td style=\"text-align: right;\">                0</td><td style=\"text-align: right;\">                0</td><td style=\"text-align: right;\">                0</td><td style=\"text-align: right;\">                0</td><td style=\"text-align: right;\">                0</td><td style=\"text-align: right;\">                0</td><td style=\"text-align: right;\">                0</td><td style=\"text-align: right;\">                0</td><td style=\"text-align: right;\">                0</td><td style=\"text-align: right;\">                0</td><td style=\"text-align: right;\">                0</td><td style=\"text-align: right;\">                0</td><td style=\"text-align: right;\">                0</td><td style=\"text-align: right;\">                0</td><td style=\"text-align: right;\">                0</td><td style=\"text-align: right;\">                0</td><td style=\"text-align: right;\">                0</td><td style=\"text-align: right;\">                0</td><td style=\"text-align: right;\">                0</td><td style=\"text-align: right;\">                0</td><td style=\"text-align: right;\">                0</td><td style=\"text-align: right;\">                0</td><td style=\"text-align: right;\">                0</td><td style=\"text-align: right;\">                0</td><td style=\"text-align: right;\">                0</td><td style=\"text-align: right;\">                0</td><td style=\"text-align: right;\">                0</td><td style=\"text-align: right;\">                0</td><td style=\"text-align: right;\">                0</td><td style=\"text-align: right;\">                0</td><td style=\"text-align: right;\">                0</td><td style=\"text-align: right;\">                0</td><td style=\"text-align: right;\">                0</td><td style=\"text-align: right;\">                0</td><td style=\"text-align: right;\">                0</td><td style=\"text-align: right;\">                0</td><td style=\"text-align: right;\">                0</td><td style=\"text-align: right;\">                0</td><td style=\"text-align: right;\">                0</td><td style=\"text-align: right;\">                0</td><td style=\"text-align: right;\">                0</td><td style=\"text-align: right;\">                0</td><td style=\"text-align: right;\">                0</td><td style=\"text-align: right;\">                0</td><td style=\"text-align: right;\">                0</td><td style=\"text-align: right;\">                0</td><td style=\"text-align: right;\">                0</td><td style=\"text-align: right;\">                0</td><td style=\"text-align: right;\">                0</td><td style=\"text-align: right;\">                0</td><td style=\"text-align: right;\">                0</td><td style=\"text-align: right;\">                0</td><td style=\"text-align: right;\">                0</td><td style=\"text-align: right;\">                0</td><td style=\"text-align: right;\">                0</td><td style=\"text-align: right;\">                0</td><td style=\"text-align: right;\">                0</td><td style=\"text-align: right;\">                0</td><td style=\"text-align: right;\">                0</td><td style=\"text-align: right;\">                0</td><td style=\"text-align: right;\">                0</td><td style=\"text-align: right;\">                0</td><td style=\"text-align: right;\">                0</td><td style=\"text-align: right;\">                0</td><td style=\"text-align: right;\">                0</td><td style=\"text-align: right;\">                0</td><td style=\"text-align: right;\">                0</td><td style=\"text-align: right;\">                0</td><td style=\"text-align: right;\">                0</td><td style=\"text-align: right;\">                0</td><td style=\"text-align: right;\">                0</td><td style=\"text-align: right;\">                0</td><td style=\"text-align: right;\">                0</td><td style=\"text-align: right;\">                0</td><td style=\"text-align: right;\">                0</td><td style=\"text-align: right;\">                0</td><td style=\"text-align: right;\">                0</td><td style=\"text-align: right;\">                0</td><td style=\"text-align: right;\">                0</td><td style=\"text-align: right;\">                0</td><td style=\"text-align: right;\">                0</td><td style=\"text-align: right;\">                0</td><td style=\"text-align: right;\">                0</td><td style=\"text-align: right;\">                0</td><td style=\"text-align: right;\">                0</td><td style=\"text-align: right;\">                0</td><td style=\"text-align: right;\">                0</td><td style=\"text-align: right;\">                0</td><td style=\"text-align: right;\">                0</td><td style=\"text-align: right;\">                0</td><td style=\"text-align: right;\">                0</td><td style=\"text-align: right;\">                0</td><td style=\"text-align: right;\">                0</td><td style=\"text-align: right;\">                0</td><td style=\"text-align: right;\">                0</td><td style=\"text-align: right;\">                0</td><td style=\"text-align: right;\">                0</td><td style=\"text-align: right;\">                0</td><td style=\"text-align: right;\">                0</td><td style=\"text-align: right;\">                0</td><td style=\"text-align: right;\">                0</td><td style=\"text-align: right;\">                0</td><td style=\"text-align: right;\">                0</td><td style=\"text-align: right;\">                0</td><td style=\"text-align: right;\">                0</td><td style=\"text-align: right;\">                0</td><td style=\"text-align: right;\">                0</td><td style=\"text-align: right;\">                0</td><td style=\"text-align: right;\">                0</td><td style=\"text-align: right;\">                0</td><td style=\"text-align: right;\">                0</td><td style=\"text-align: right;\">                0</td><td style=\"text-align: right;\">                0</td><td style=\"text-align: right;\">                0</td><td style=\"text-align: right;\">                0</td><td style=\"text-align: right;\">                0</td><td style=\"text-align: right;\">                0</td><td style=\"text-align: right;\">                0</td><td style=\"text-align: right;\">                0</td><td style=\"text-align: right;\">                0</td><td style=\"text-align: right;\">                0</td><td style=\"text-align: right;\">                0</td><td style=\"text-align: right;\">                0</td><td style=\"text-align: right;\">                0</td><td style=\"text-align: right;\">                0</td><td style=\"text-align: right;\">                0</td><td style=\"text-align: right;\">                0</td><td style=\"text-align: right;\">                0</td><td style=\"text-align: right;\">                0</td><td style=\"text-align: right;\">                0</td><td style=\"text-align: right;\">                0</td><td style=\"text-align: right;\">                0</td><td style=\"text-align: right;\">                0</td><td style=\"text-align: right;\">                0</td><td style=\"text-align: right;\">                0</td><td style=\"text-align: right;\">                0</td><td style=\"text-align: right;\">                0</td><td style=\"text-align: right;\">                0</td></tr>\n<tr><td>SRR11033700</td><td style=\"text-align: right;\">              0</td><td style=\"text-align: right;\">               0</td><td style=\"text-align: right;\">               0</td><td style=\"text-align: right;\">               0</td><td style=\"text-align: right;\">               0</td><td style=\"text-align: right;\">               0</td><td style=\"text-align: right;\">               0</td><td style=\"text-align: right;\">               0</td><td style=\"text-align: right;\">               0</td><td style=\"text-align: right;\">               0</td><td style=\"text-align: right;\">               0</td><td style=\"text-align: right;\">               0</td><td style=\"text-align: right;\">               0</td><td style=\"text-align: right;\">               0</td><td style=\"text-align: right;\">               0</td><td style=\"text-align: right;\">               0</td><td style=\"text-align: right;\">               0</td><td style=\"text-align: right;\">               0</td><td style=\"text-align: right;\">               0</td><td style=\"text-align: right;\">               0</td><td style=\"text-align: right;\">               0</td><td style=\"text-align: right;\">               0</td><td style=\"text-align: right;\">               0</td><td style=\"text-align: right;\">               0</td><td style=\"text-align: right;\">               0</td><td style=\"text-align: right;\">               0</td><td style=\"text-align: right;\">               0</td><td style=\"text-align: right;\">               0</td><td style=\"text-align: right;\">               0</td><td style=\"text-align: right;\">               0</td><td style=\"text-align: right;\">               0</td><td style=\"text-align: right;\">               0</td><td style=\"text-align: right;\">               0</td><td style=\"text-align: right;\">               0</td><td style=\"text-align: right;\">               0</td><td style=\"text-align: right;\">               0</td><td style=\"text-align: right;\">                0</td><td style=\"text-align: right;\">                0</td><td style=\"text-align: right;\">                0</td><td style=\"text-align: right;\">                0</td><td style=\"text-align: right;\">                0</td><td style=\"text-align: right;\">                0</td><td style=\"text-align: right;\">                0</td><td style=\"text-align: right;\">                0</td><td style=\"text-align: right;\">                0</td><td style=\"text-align: right;\">                0</td><td style=\"text-align: right;\">                0</td><td style=\"text-align: right;\">                0</td><td style=\"text-align: right;\">                0</td><td style=\"text-align: right;\">                0</td><td style=\"text-align: right;\">                0</td><td style=\"text-align: right;\">                0</td><td style=\"text-align: right;\">                0</td><td style=\"text-align: right;\">                0</td><td style=\"text-align: right;\">                0</td><td style=\"text-align: right;\">                0</td><td style=\"text-align: right;\">                0</td><td style=\"text-align: right;\">                0</td><td style=\"text-align: right;\">                0</td><td style=\"text-align: right;\">                0</td><td style=\"text-align: right;\">                0</td><td style=\"text-align: right;\">                0</td><td style=\"text-align: right;\">                0</td><td style=\"text-align: right;\">                0</td><td style=\"text-align: right;\">                0</td><td style=\"text-align: right;\">                0</td><td style=\"text-align: right;\">                0</td><td style=\"text-align: right;\">                0</td><td style=\"text-align: right;\">                0</td><td style=\"text-align: right;\">                0</td><td style=\"text-align: right;\">                0</td><td style=\"text-align: right;\">                0</td><td style=\"text-align: right;\">                0</td><td style=\"text-align: right;\">                0</td><td style=\"text-align: right;\">                0</td><td style=\"text-align: right;\">                0</td><td style=\"text-align: right;\">                0</td><td style=\"text-align: right;\">                0</td><td style=\"text-align: right;\">                0</td><td style=\"text-align: right;\">                0</td><td style=\"text-align: right;\">                0</td><td style=\"text-align: right;\">                0</td><td style=\"text-align: right;\">                0</td><td style=\"text-align: right;\">                0</td><td style=\"text-align: right;\">                0</td><td style=\"text-align: right;\">                0</td><td style=\"text-align: right;\">                0</td><td style=\"text-align: right;\">                0</td><td style=\"text-align: right;\">                0</td><td style=\"text-align: right;\">                0</td><td style=\"text-align: right;\">                0</td><td style=\"text-align: right;\">                0</td><td style=\"text-align: right;\">                0</td><td style=\"text-align: right;\">                0</td><td style=\"text-align: right;\">                0</td><td style=\"text-align: right;\">                0</td><td style=\"text-align: right;\">                0</td><td style=\"text-align: right;\">                0</td><td style=\"text-align: right;\">                0</td><td style=\"text-align: right;\">                0</td><td style=\"text-align: right;\">                0</td><td style=\"text-align: right;\">                0</td><td style=\"text-align: right;\">                0</td><td style=\"text-align: right;\">                0</td><td style=\"text-align: right;\">                0</td><td style=\"text-align: right;\">                0</td><td style=\"text-align: right;\">                0</td><td style=\"text-align: right;\">                0</td><td style=\"text-align: right;\">                0</td><td style=\"text-align: right;\">                0</td><td style=\"text-align: right;\">                0</td><td style=\"text-align: right;\">                0</td><td style=\"text-align: right;\">                0</td><td style=\"text-align: right;\">                0</td><td style=\"text-align: right;\">                0</td><td style=\"text-align: right;\">                0</td><td style=\"text-align: right;\">                0</td><td style=\"text-align: right;\">                0</td><td style=\"text-align: right;\">                0</td><td style=\"text-align: right;\">                0</td><td style=\"text-align: right;\">                0</td><td style=\"text-align: right;\">                0</td><td style=\"text-align: right;\">                0</td><td style=\"text-align: right;\">                0</td><td style=\"text-align: right;\">                0</td><td style=\"text-align: right;\">                0</td><td style=\"text-align: right;\">                0</td><td style=\"text-align: right;\">                0</td><td style=\"text-align: right;\">                0</td><td style=\"text-align: right;\">                0</td><td style=\"text-align: right;\">                0</td><td style=\"text-align: right;\">                0</td><td style=\"text-align: right;\">                0</td><td style=\"text-align: right;\">                0</td><td style=\"text-align: right;\">                0</td><td style=\"text-align: right;\">                0</td><td style=\"text-align: right;\">                0</td><td style=\"text-align: right;\">                0</td><td style=\"text-align: right;\">                0</td><td style=\"text-align: right;\">                0</td><td style=\"text-align: right;\">                0</td><td style=\"text-align: right;\">                0</td><td style=\"text-align: right;\">                0</td><td style=\"text-align: right;\">                0</td><td style=\"text-align: right;\">                0</td><td style=\"text-align: right;\">                0</td><td style=\"text-align: right;\">                0</td><td style=\"text-align: right;\">                0</td><td style=\"text-align: right;\">                0</td><td style=\"text-align: right;\">                0</td><td style=\"text-align: right;\">                0</td><td style=\"text-align: right;\">                0</td><td style=\"text-align: right;\">                0</td><td style=\"text-align: right;\">                0</td><td style=\"text-align: right;\">                0</td><td style=\"text-align: right;\">                0</td><td style=\"text-align: right;\">                0</td><td style=\"text-align: right;\">                0</td><td style=\"text-align: right;\">                0</td><td style=\"text-align: right;\">                0</td><td style=\"text-align: right;\">                0</td><td style=\"text-align: right;\">                0</td><td style=\"text-align: right;\">                0</td><td style=\"text-align: right;\">                0</td><td style=\"text-align: right;\">                0</td><td style=\"text-align: right;\">                0</td><td style=\"text-align: right;\">                0</td><td style=\"text-align: right;\">                0</td><td style=\"text-align: right;\">                0</td><td style=\"text-align: right;\">                0</td><td style=\"text-align: right;\">                0</td><td style=\"text-align: right;\">                0</td><td style=\"text-align: right;\">                0</td><td style=\"text-align: right;\">                0</td><td style=\"text-align: right;\">                0</td><td style=\"text-align: right;\">                0</td><td style=\"text-align: right;\">                0</td><td style=\"text-align: right;\">                0</td><td style=\"text-align: right;\">                0</td><td style=\"text-align: right;\">                0</td><td style=\"text-align: right;\">                0</td><td style=\"text-align: right;\">                0</td><td style=\"text-align: right;\">                0</td><td style=\"text-align: right;\">                0</td><td style=\"text-align: right;\">                0</td><td style=\"text-align: right;\">                0</td><td style=\"text-align: right;\">                0</td><td style=\"text-align: right;\">                0</td><td style=\"text-align: right;\">                0</td><td style=\"text-align: right;\">                0</td><td style=\"text-align: right;\">                0</td><td style=\"text-align: right;\">                0</td><td style=\"text-align: right;\">                0</td><td style=\"text-align: right;\">                0</td><td style=\"text-align: right;\">                0</td><td style=\"text-align: right;\">                0</td><td style=\"text-align: right;\">                0</td><td style=\"text-align: right;\">                0</td><td style=\"text-align: right;\">                0</td></tr>\n<tr><td>SRR1163101 </td><td style=\"text-align: right;\">              0</td><td style=\"text-align: right;\">               0</td><td style=\"text-align: right;\">               0</td><td style=\"text-align: right;\">               0</td><td style=\"text-align: right;\">               0</td><td style=\"text-align: right;\">               0</td><td style=\"text-align: right;\">               0</td><td style=\"text-align: right;\">               0</td><td style=\"text-align: right;\">               0</td><td style=\"text-align: right;\">               0</td><td style=\"text-align: right;\">               0</td><td style=\"text-align: right;\">               0</td><td style=\"text-align: right;\">               0</td><td style=\"text-align: right;\">               0</td><td style=\"text-align: right;\">               0</td><td style=\"text-align: right;\">               0</td><td style=\"text-align: right;\">               0</td><td style=\"text-align: right;\">               0</td><td style=\"text-align: right;\">               0</td><td style=\"text-align: right;\">               0</td><td style=\"text-align: right;\">               0</td><td style=\"text-align: right;\">               0</td><td style=\"text-align: right;\">               0</td><td style=\"text-align: right;\">               0</td><td style=\"text-align: right;\">               0</td><td style=\"text-align: right;\">               0</td><td style=\"text-align: right;\">               0</td><td style=\"text-align: right;\">               0</td><td style=\"text-align: right;\">               0</td><td style=\"text-align: right;\">               0</td><td style=\"text-align: right;\">               0</td><td style=\"text-align: right;\">               0</td><td style=\"text-align: right;\">               0</td><td style=\"text-align: right;\">               0</td><td style=\"text-align: right;\">               0</td><td style=\"text-align: right;\">               0</td><td style=\"text-align: right;\">                0</td><td style=\"text-align: right;\">                0</td><td style=\"text-align: right;\">                0</td><td style=\"text-align: right;\">                0</td><td style=\"text-align: right;\">                0</td><td style=\"text-align: right;\">                0</td><td style=\"text-align: right;\">                0</td><td style=\"text-align: right;\">                0</td><td style=\"text-align: right;\">                0</td><td style=\"text-align: right;\">                0</td><td style=\"text-align: right;\">                0</td><td style=\"text-align: right;\">                0</td><td style=\"text-align: right;\">                0</td><td style=\"text-align: right;\">                0</td><td style=\"text-align: right;\">                0</td><td style=\"text-align: right;\">                0</td><td style=\"text-align: right;\">                0</td><td style=\"text-align: right;\">                0</td><td style=\"text-align: right;\">                0</td><td style=\"text-align: right;\">                0</td><td style=\"text-align: right;\">                0</td><td style=\"text-align: right;\">                0</td><td style=\"text-align: right;\">                0</td><td style=\"text-align: right;\">                0</td><td style=\"text-align: right;\">                0</td><td style=\"text-align: right;\">                0</td><td style=\"text-align: right;\">                0</td><td style=\"text-align: right;\">                0</td><td style=\"text-align: right;\">                0</td><td style=\"text-align: right;\">                0</td><td style=\"text-align: right;\">                0</td><td style=\"text-align: right;\">                0</td><td style=\"text-align: right;\">                0</td><td style=\"text-align: right;\">                0</td><td style=\"text-align: right;\">                0</td><td style=\"text-align: right;\">                0</td><td style=\"text-align: right;\">                0</td><td style=\"text-align: right;\">                0</td><td style=\"text-align: right;\">                0</td><td style=\"text-align: right;\">                0</td><td style=\"text-align: right;\">                0</td><td style=\"text-align: right;\">                0</td><td style=\"text-align: right;\">                0</td><td style=\"text-align: right;\">                0</td><td style=\"text-align: right;\">                0</td><td style=\"text-align: right;\">                0</td><td style=\"text-align: right;\">                0</td><td style=\"text-align: right;\">                0</td><td style=\"text-align: right;\">                0</td><td style=\"text-align: right;\">                0</td><td style=\"text-align: right;\">                0</td><td style=\"text-align: right;\">                0</td><td style=\"text-align: right;\">                0</td><td style=\"text-align: right;\">                0</td><td style=\"text-align: right;\">                0</td><td style=\"text-align: right;\">                0</td><td style=\"text-align: right;\">                0</td><td style=\"text-align: right;\">                0</td><td style=\"text-align: right;\">                0</td><td style=\"text-align: right;\">                0</td><td style=\"text-align: right;\">                0</td><td style=\"text-align: right;\">                0</td><td style=\"text-align: right;\">                0</td><td style=\"text-align: right;\">                0</td><td style=\"text-align: right;\">                0</td><td style=\"text-align: right;\">                0</td><td style=\"text-align: right;\">                0</td><td style=\"text-align: right;\">                0</td><td style=\"text-align: right;\">                0</td><td style=\"text-align: right;\">                0</td><td style=\"text-align: right;\">                0</td><td style=\"text-align: right;\">                0</td><td style=\"text-align: right;\">                0</td><td style=\"text-align: right;\">                0</td><td style=\"text-align: right;\">                0</td><td style=\"text-align: right;\">                0</td><td style=\"text-align: right;\">                0</td><td style=\"text-align: right;\">                0</td><td style=\"text-align: right;\">                0</td><td style=\"text-align: right;\">                0</td><td style=\"text-align: right;\">                0</td><td style=\"text-align: right;\">                0</td><td style=\"text-align: right;\">                0</td><td style=\"text-align: right;\">                0</td><td style=\"text-align: right;\">                0</td><td style=\"text-align: right;\">                0</td><td style=\"text-align: right;\">                0</td><td style=\"text-align: right;\">                0</td><td style=\"text-align: right;\">                0</td><td style=\"text-align: right;\">                0</td><td style=\"text-align: right;\">                0</td><td style=\"text-align: right;\">                0</td><td style=\"text-align: right;\">                0</td><td style=\"text-align: right;\">                0</td><td style=\"text-align: right;\">                0</td><td style=\"text-align: right;\">                0</td><td style=\"text-align: right;\">                0</td><td style=\"text-align: right;\">                0</td><td style=\"text-align: right;\">                0</td><td style=\"text-align: right;\">                0</td><td style=\"text-align: right;\">                0</td><td style=\"text-align: right;\">                0</td><td style=\"text-align: right;\">                0</td><td style=\"text-align: right;\">                0</td><td style=\"text-align: right;\">                0</td><td style=\"text-align: right;\">                0</td><td style=\"text-align: right;\">                0</td><td style=\"text-align: right;\">                0</td><td style=\"text-align: right;\">                0</td><td style=\"text-align: right;\">                0</td><td style=\"text-align: right;\">                0</td><td style=\"text-align: right;\">                0</td><td style=\"text-align: right;\">                0</td><td style=\"text-align: right;\">                0</td><td style=\"text-align: right;\">                0</td><td style=\"text-align: right;\">                0</td><td style=\"text-align: right;\">                0</td><td style=\"text-align: right;\">                0</td><td style=\"text-align: right;\">                0</td><td style=\"text-align: right;\">                0</td><td style=\"text-align: right;\">                0</td><td style=\"text-align: right;\">                0</td><td style=\"text-align: right;\">                0</td><td style=\"text-align: right;\">                0</td><td style=\"text-align: right;\">                0</td><td style=\"text-align: right;\">                0</td><td style=\"text-align: right;\">                0</td><td style=\"text-align: right;\">                0</td><td style=\"text-align: right;\">                0</td><td style=\"text-align: right;\">                0</td><td style=\"text-align: right;\">                0</td><td style=\"text-align: right;\">                0</td><td style=\"text-align: right;\">                0</td><td style=\"text-align: right;\">                0</td><td style=\"text-align: right;\">                0</td><td style=\"text-align: right;\">                0</td><td style=\"text-align: right;\">                0</td><td style=\"text-align: right;\">                0</td><td style=\"text-align: right;\">                0</td><td style=\"text-align: right;\">                0</td><td style=\"text-align: right;\">                0</td><td style=\"text-align: right;\">                0</td><td style=\"text-align: right;\">                0</td><td style=\"text-align: right;\">                0</td><td style=\"text-align: right;\">                0</td><td style=\"text-align: right;\">                0</td><td style=\"text-align: right;\">                0</td><td style=\"text-align: right;\">                0</td><td style=\"text-align: right;\">                0</td><td style=\"text-align: right;\">                0</td><td style=\"text-align: right;\">                0</td><td style=\"text-align: right;\">                0</td><td style=\"text-align: right;\">                0</td><td style=\"text-align: right;\">                0</td><td style=\"text-align: right;\">                0</td><td style=\"text-align: right;\">                0</td><td style=\"text-align: right;\">                0</td><td style=\"text-align: right;\">                0</td><td style=\"text-align: right;\">                0</td><td style=\"text-align: right;\">                0</td><td style=\"text-align: right;\">                0</td><td style=\"text-align: right;\">                0</td><td style=\"text-align: right;\">                0</td></tr>\n<tr><td>SRR7592336 </td><td style=\"text-align: right;\">              0</td><td style=\"text-align: right;\">               0</td><td style=\"text-align: right;\">               0</td><td style=\"text-align: right;\">               0</td><td style=\"text-align: right;\">               0</td><td style=\"text-align: right;\">               0</td><td style=\"text-align: right;\">               0</td><td style=\"text-align: right;\">               0</td><td style=\"text-align: right;\">               0</td><td style=\"text-align: right;\">               0</td><td style=\"text-align: right;\">               0</td><td style=\"text-align: right;\">               0</td><td style=\"text-align: right;\">               0</td><td style=\"text-align: right;\">               0</td><td style=\"text-align: right;\">               0</td><td style=\"text-align: right;\">               0</td><td style=\"text-align: right;\">               0</td><td style=\"text-align: right;\">               0</td><td style=\"text-align: right;\">               0</td><td style=\"text-align: right;\">               0</td><td style=\"text-align: right;\">               0</td><td style=\"text-align: right;\">               0</td><td style=\"text-align: right;\">               0</td><td style=\"text-align: right;\">               0</td><td style=\"text-align: right;\">               0</td><td style=\"text-align: right;\">               0</td><td style=\"text-align: right;\">               0</td><td style=\"text-align: right;\">               0</td><td style=\"text-align: right;\">               0</td><td style=\"text-align: right;\">               0</td><td style=\"text-align: right;\">               0</td><td style=\"text-align: right;\">               0</td><td style=\"text-align: right;\">               0</td><td style=\"text-align: right;\">               0</td><td style=\"text-align: right;\">               0</td><td style=\"text-align: right;\">               0</td><td style=\"text-align: right;\">                0</td><td style=\"text-align: right;\">                0</td><td style=\"text-align: right;\">                0</td><td style=\"text-align: right;\">                0</td><td style=\"text-align: right;\">                0</td><td style=\"text-align: right;\">                0</td><td style=\"text-align: right;\">                0</td><td style=\"text-align: right;\">                0</td><td style=\"text-align: right;\">                0</td><td style=\"text-align: right;\">                0</td><td style=\"text-align: right;\">                0</td><td style=\"text-align: right;\">                0</td><td style=\"text-align: right;\">                0</td><td style=\"text-align: right;\">                0</td><td style=\"text-align: right;\">                0</td><td style=\"text-align: right;\">                0</td><td style=\"text-align: right;\">                0</td><td style=\"text-align: right;\">                0</td><td style=\"text-align: right;\">                0</td><td style=\"text-align: right;\">                0</td><td style=\"text-align: right;\">                0</td><td style=\"text-align: right;\">                0</td><td style=\"text-align: right;\">                0</td><td style=\"text-align: right;\">                0</td><td style=\"text-align: right;\">                0</td><td style=\"text-align: right;\">                0</td><td style=\"text-align: right;\">                0</td><td style=\"text-align: right;\">                0</td><td style=\"text-align: right;\">                0</td><td style=\"text-align: right;\">                0</td><td style=\"text-align: right;\">                0</td><td style=\"text-align: right;\">                0</td><td style=\"text-align: right;\">                0</td><td style=\"text-align: right;\">                0</td><td style=\"text-align: right;\">                0</td><td style=\"text-align: right;\">                0</td><td style=\"text-align: right;\">                0</td><td style=\"text-align: right;\">                0</td><td style=\"text-align: right;\">                0</td><td style=\"text-align: right;\">                0</td><td style=\"text-align: right;\">                0</td><td style=\"text-align: right;\">                0</td><td style=\"text-align: right;\">                0</td><td style=\"text-align: right;\">                0</td><td style=\"text-align: right;\">                0</td><td style=\"text-align: right;\">                0</td><td style=\"text-align: right;\">                0</td><td style=\"text-align: right;\">                0</td><td style=\"text-align: right;\">                0</td><td style=\"text-align: right;\">                0</td><td style=\"text-align: right;\">                0</td><td style=\"text-align: right;\">                0</td><td style=\"text-align: right;\">                0</td><td style=\"text-align: right;\">                0</td><td style=\"text-align: right;\">                0</td><td style=\"text-align: right;\">                0</td><td style=\"text-align: right;\">                0</td><td style=\"text-align: right;\">                0</td><td style=\"text-align: right;\">                0</td><td style=\"text-align: right;\">                0</td><td style=\"text-align: right;\">                0</td><td style=\"text-align: right;\">                0</td><td style=\"text-align: right;\">                0</td><td style=\"text-align: right;\">                0</td><td style=\"text-align: right;\">                0</td><td style=\"text-align: right;\">                0</td><td style=\"text-align: right;\">                0</td><td style=\"text-align: right;\">                0</td><td style=\"text-align: right;\">                0</td><td style=\"text-align: right;\">                0</td><td style=\"text-align: right;\">                0</td><td style=\"text-align: right;\">                0</td><td style=\"text-align: right;\">                0</td><td style=\"text-align: right;\">                0</td><td style=\"text-align: right;\">                0</td><td style=\"text-align: right;\">                0</td><td style=\"text-align: right;\">                0</td><td style=\"text-align: right;\">                0</td><td style=\"text-align: right;\">                0</td><td style=\"text-align: right;\">                0</td><td style=\"text-align: right;\">                0</td><td style=\"text-align: right;\">                0</td><td style=\"text-align: right;\">                0</td><td style=\"text-align: right;\">                0</td><td style=\"text-align: right;\">                0</td><td style=\"text-align: right;\">                0</td><td style=\"text-align: right;\">                0</td><td style=\"text-align: right;\">                0</td><td style=\"text-align: right;\">                0</td><td style=\"text-align: right;\">                0</td><td style=\"text-align: right;\">                0</td><td style=\"text-align: right;\">                0</td><td style=\"text-align: right;\">                0</td><td style=\"text-align: right;\">                0</td><td style=\"text-align: right;\">                0</td><td style=\"text-align: right;\">                0</td><td style=\"text-align: right;\">                0</td><td style=\"text-align: right;\">                0</td><td style=\"text-align: right;\">                0</td><td style=\"text-align: right;\">                0</td><td style=\"text-align: right;\">                0</td><td style=\"text-align: right;\">                0</td><td style=\"text-align: right;\">                0</td><td style=\"text-align: right;\">                0</td><td style=\"text-align: right;\">                0</td><td style=\"text-align: right;\">                0</td><td style=\"text-align: right;\">                0</td><td style=\"text-align: right;\">                0</td><td style=\"text-align: right;\">                0</td><td style=\"text-align: right;\">                0</td><td style=\"text-align: right;\">                0</td><td style=\"text-align: right;\">                0</td><td style=\"text-align: right;\">                0</td><td style=\"text-align: right;\">                0</td><td style=\"text-align: right;\">                0</td><td style=\"text-align: right;\">                0</td><td style=\"text-align: right;\">                0</td><td style=\"text-align: right;\">                0</td><td style=\"text-align: right;\">                0</td><td style=\"text-align: right;\">                0</td><td style=\"text-align: right;\">                0</td><td style=\"text-align: right;\">                0</td><td style=\"text-align: right;\">                0</td><td style=\"text-align: right;\">                0</td><td style=\"text-align: right;\">                0</td><td style=\"text-align: right;\">                0</td><td style=\"text-align: right;\">                0</td><td style=\"text-align: right;\">                0</td><td style=\"text-align: right;\">                0</td><td style=\"text-align: right;\">                0</td><td style=\"text-align: right;\">                0</td><td style=\"text-align: right;\">                0</td><td style=\"text-align: right;\">                0</td><td style=\"text-align: right;\">                0</td><td style=\"text-align: right;\">                0</td><td style=\"text-align: right;\">                0</td><td style=\"text-align: right;\">                0</td><td style=\"text-align: right;\">                0</td><td style=\"text-align: right;\">                0</td><td style=\"text-align: right;\">                0</td><td style=\"text-align: right;\">                0</td><td style=\"text-align: right;\">                0</td><td style=\"text-align: right;\">                0</td><td style=\"text-align: right;\">                0</td><td style=\"text-align: right;\">                0</td><td style=\"text-align: right;\">                0</td><td style=\"text-align: right;\">                0</td><td style=\"text-align: right;\">                0</td><td style=\"text-align: right;\">                0</td><td style=\"text-align: right;\">                0</td><td style=\"text-align: right;\">                0</td><td style=\"text-align: right;\">                0</td><td style=\"text-align: right;\">                0</td><td style=\"text-align: right;\">                0</td><td style=\"text-align: right;\">                0</td><td style=\"text-align: right;\">                0</td><td style=\"text-align: right;\">                0</td><td style=\"text-align: right;\">                0</td><td style=\"text-align: right;\">                0</td><td style=\"text-align: right;\">                0</td><td style=\"text-align: right;\">                0</td><td style=\"text-align: right;\">                0</td><td style=\"text-align: right;\">                0</td></tr>\n<tr><td>SRR1163415 </td><td style=\"text-align: right;\">              0</td><td style=\"text-align: right;\">               0</td><td style=\"text-align: right;\">               0</td><td style=\"text-align: right;\">               0</td><td style=\"text-align: right;\">               0</td><td style=\"text-align: right;\">               0</td><td style=\"text-align: right;\">               0</td><td style=\"text-align: right;\">               0</td><td style=\"text-align: right;\">               0</td><td style=\"text-align: right;\">               0</td><td style=\"text-align: right;\">               0</td><td style=\"text-align: right;\">               0</td><td style=\"text-align: right;\">               0</td><td style=\"text-align: right;\">               0</td><td style=\"text-align: right;\">               0</td><td style=\"text-align: right;\">               0</td><td style=\"text-align: right;\">               0</td><td style=\"text-align: right;\">               0</td><td style=\"text-align: right;\">               0</td><td style=\"text-align: right;\">               0</td><td style=\"text-align: right;\">               0</td><td style=\"text-align: right;\">               0</td><td style=\"text-align: right;\">               0</td><td style=\"text-align: right;\">               0</td><td style=\"text-align: right;\">               0</td><td style=\"text-align: right;\">               0</td><td style=\"text-align: right;\">               0</td><td style=\"text-align: right;\">               0</td><td style=\"text-align: right;\">               0</td><td style=\"text-align: right;\">               0</td><td style=\"text-align: right;\">               0</td><td style=\"text-align: right;\">               0</td><td style=\"text-align: right;\">               0</td><td style=\"text-align: right;\">               0</td><td style=\"text-align: right;\">               0</td><td style=\"text-align: right;\">               0</td><td style=\"text-align: right;\">                0</td><td style=\"text-align: right;\">                0</td><td style=\"text-align: right;\">                0</td><td style=\"text-align: right;\">                0</td><td style=\"text-align: right;\">                0</td><td style=\"text-align: right;\">                0</td><td style=\"text-align: right;\">                0</td><td style=\"text-align: right;\">                0</td><td style=\"text-align: right;\">                0</td><td style=\"text-align: right;\">                0</td><td style=\"text-align: right;\">                0</td><td style=\"text-align: right;\">                0</td><td style=\"text-align: right;\">                0</td><td style=\"text-align: right;\">                0</td><td style=\"text-align: right;\">                0</td><td style=\"text-align: right;\">                0</td><td style=\"text-align: right;\">                0</td><td style=\"text-align: right;\">                0</td><td style=\"text-align: right;\">                0</td><td style=\"text-align: right;\">                0</td><td style=\"text-align: right;\">                0</td><td style=\"text-align: right;\">                0</td><td style=\"text-align: right;\">                0</td><td style=\"text-align: right;\">                0</td><td style=\"text-align: right;\">                0</td><td style=\"text-align: right;\">                0</td><td style=\"text-align: right;\">                0</td><td style=\"text-align: right;\">                0</td><td style=\"text-align: right;\">                0</td><td style=\"text-align: right;\">                0</td><td style=\"text-align: right;\">                0</td><td style=\"text-align: right;\">                0</td><td style=\"text-align: right;\">                0</td><td style=\"text-align: right;\">                0</td><td style=\"text-align: right;\">                0</td><td style=\"text-align: right;\">                0</td><td style=\"text-align: right;\">                0</td><td style=\"text-align: right;\">                0</td><td style=\"text-align: right;\">                0</td><td style=\"text-align: right;\">                0</td><td style=\"text-align: right;\">                0</td><td style=\"text-align: right;\">                0</td><td style=\"text-align: right;\">                0</td><td style=\"text-align: right;\">                0</td><td style=\"text-align: right;\">                0</td><td style=\"text-align: right;\">                0</td><td style=\"text-align: right;\">                0</td><td style=\"text-align: right;\">                0</td><td style=\"text-align: right;\">                0</td><td style=\"text-align: right;\">                0</td><td style=\"text-align: right;\">                0</td><td style=\"text-align: right;\">                0</td><td style=\"text-align: right;\">                0</td><td style=\"text-align: right;\">                0</td><td style=\"text-align: right;\">                0</td><td style=\"text-align: right;\">                0</td><td style=\"text-align: right;\">                0</td><td style=\"text-align: right;\">                0</td><td style=\"text-align: right;\">                0</td><td style=\"text-align: right;\">                0</td><td style=\"text-align: right;\">                0</td><td style=\"text-align: right;\">                0</td><td style=\"text-align: right;\">                0</td><td style=\"text-align: right;\">                0</td><td style=\"text-align: right;\">                0</td><td style=\"text-align: right;\">                0</td><td style=\"text-align: right;\">                0</td><td style=\"text-align: right;\">                0</td><td style=\"text-align: right;\">                0</td><td style=\"text-align: right;\">                0</td><td style=\"text-align: right;\">                0</td><td style=\"text-align: right;\">                0</td><td style=\"text-align: right;\">                0</td><td style=\"text-align: right;\">                0</td><td style=\"text-align: right;\">                0</td><td style=\"text-align: right;\">                0</td><td style=\"text-align: right;\">                0</td><td style=\"text-align: right;\">                0</td><td style=\"text-align: right;\">                0</td><td style=\"text-align: right;\">                0</td><td style=\"text-align: right;\">                0</td><td style=\"text-align: right;\">                0</td><td style=\"text-align: right;\">                0</td><td style=\"text-align: right;\">                0</td><td style=\"text-align: right;\">                0</td><td style=\"text-align: right;\">                0</td><td style=\"text-align: right;\">                0</td><td style=\"text-align: right;\">                0</td><td style=\"text-align: right;\">                0</td><td style=\"text-align: right;\">                0</td><td style=\"text-align: right;\">                0</td><td style=\"text-align: right;\">                0</td><td style=\"text-align: right;\">                0</td><td style=\"text-align: right;\">                0</td><td style=\"text-align: right;\">                0</td><td style=\"text-align: right;\">                0</td><td style=\"text-align: right;\">                0</td><td style=\"text-align: right;\">                0</td><td style=\"text-align: right;\">                0</td><td style=\"text-align: right;\">                0</td><td style=\"text-align: right;\">                0</td><td style=\"text-align: right;\">                0</td><td style=\"text-align: right;\">                0</td><td style=\"text-align: right;\">                0</td><td style=\"text-align: right;\">                0</td><td style=\"text-align: right;\">                0</td><td style=\"text-align: right;\">                0</td><td style=\"text-align: right;\">                0</td><td style=\"text-align: right;\">                0</td><td style=\"text-align: right;\">                0</td><td style=\"text-align: right;\">                0</td><td style=\"text-align: right;\">                0</td><td style=\"text-align: right;\">                0</td><td style=\"text-align: right;\">                0</td><td style=\"text-align: right;\">                0</td><td style=\"text-align: right;\">                0</td><td style=\"text-align: right;\">                0</td><td style=\"text-align: right;\">                0</td><td style=\"text-align: right;\">                0</td><td style=\"text-align: right;\">                0</td><td style=\"text-align: right;\">                0</td><td style=\"text-align: right;\">                0</td><td style=\"text-align: right;\">                0</td><td style=\"text-align: right;\">                0</td><td style=\"text-align: right;\">                0</td><td style=\"text-align: right;\">                0</td><td style=\"text-align: right;\">                0</td><td style=\"text-align: right;\">                0</td><td style=\"text-align: right;\">                0</td><td style=\"text-align: right;\">                0</td><td style=\"text-align: right;\">                0</td><td style=\"text-align: right;\">                0</td><td style=\"text-align: right;\">                0</td><td style=\"text-align: right;\">                0</td><td style=\"text-align: right;\">                0</td><td style=\"text-align: right;\">                0</td><td style=\"text-align: right;\">                0</td><td style=\"text-align: right;\">                0</td><td style=\"text-align: right;\">                0</td><td style=\"text-align: right;\">                0</td><td style=\"text-align: right;\">                0</td><td style=\"text-align: right;\">                0</td><td style=\"text-align: right;\">                0</td><td style=\"text-align: right;\">                0</td><td style=\"text-align: right;\">                0</td><td style=\"text-align: right;\">                0</td><td style=\"text-align: right;\">                0</td><td style=\"text-align: right;\">                0</td><td style=\"text-align: right;\">                0</td><td style=\"text-align: right;\">                0</td><td style=\"text-align: right;\">                0</td><td style=\"text-align: right;\">                0</td><td style=\"text-align: right;\">                0</td><td style=\"text-align: right;\">                0</td><td style=\"text-align: right;\">                0</td><td style=\"text-align: right;\">                0</td><td style=\"text-align: right;\">                0</td><td style=\"text-align: right;\">                0</td><td style=\"text-align: right;\">                0</td><td style=\"text-align: right;\">                0</td><td style=\"text-align: right;\">                0</td><td style=\"text-align: right;\">                0</td><td style=\"text-align: right;\">                0</td></tr>\n<tr><td>SRR6458388 </td><td style=\"text-align: right;\">              0</td><td style=\"text-align: right;\">               0</td><td style=\"text-align: right;\">               0</td><td style=\"text-align: right;\">               0</td><td style=\"text-align: right;\">               0</td><td style=\"text-align: right;\">               0</td><td style=\"text-align: right;\">               0</td><td style=\"text-align: right;\">               0</td><td style=\"text-align: right;\">               0</td><td style=\"text-align: right;\">               0</td><td style=\"text-align: right;\">               0</td><td style=\"text-align: right;\">               0</td><td style=\"text-align: right;\">               0</td><td style=\"text-align: right;\">               0</td><td style=\"text-align: right;\">               0</td><td style=\"text-align: right;\">               0</td><td style=\"text-align: right;\">               0</td><td style=\"text-align: right;\">               0</td><td style=\"text-align: right;\">               0</td><td style=\"text-align: right;\">               0</td><td style=\"text-align: right;\">               0</td><td style=\"text-align: right;\">               0</td><td style=\"text-align: right;\">               0</td><td style=\"text-align: right;\">               0</td><td style=\"text-align: right;\">               0</td><td style=\"text-align: right;\">               0</td><td style=\"text-align: right;\">               0</td><td style=\"text-align: right;\">               0</td><td style=\"text-align: right;\">               0</td><td style=\"text-align: right;\">               0</td><td style=\"text-align: right;\">               0</td><td style=\"text-align: right;\">               0</td><td style=\"text-align: right;\">               0</td><td style=\"text-align: right;\">               0</td><td style=\"text-align: right;\">               0</td><td style=\"text-align: right;\">               0</td><td style=\"text-align: right;\">                0</td><td style=\"text-align: right;\">                0</td><td style=\"text-align: right;\">                0</td><td style=\"text-align: right;\">                0</td><td style=\"text-align: right;\">                0</td><td style=\"text-align: right;\">                0</td><td style=\"text-align: right;\">                0</td><td style=\"text-align: right;\">                0</td><td style=\"text-align: right;\">                0</td><td style=\"text-align: right;\">                0</td><td style=\"text-align: right;\">                0</td><td style=\"text-align: right;\">                0</td><td style=\"text-align: right;\">                0</td><td style=\"text-align: right;\">                0</td><td style=\"text-align: right;\">                0</td><td style=\"text-align: right;\">                0</td><td style=\"text-align: right;\">                0</td><td style=\"text-align: right;\">                0</td><td style=\"text-align: right;\">                0</td><td style=\"text-align: right;\">                0</td><td style=\"text-align: right;\">                0</td><td style=\"text-align: right;\">                0</td><td style=\"text-align: right;\">                0</td><td style=\"text-align: right;\">                0</td><td style=\"text-align: right;\">                0</td><td style=\"text-align: right;\">                0</td><td style=\"text-align: right;\">                0</td><td style=\"text-align: right;\">                0</td><td style=\"text-align: right;\">                0</td><td style=\"text-align: right;\">                0</td><td style=\"text-align: right;\">                0</td><td style=\"text-align: right;\">                0</td><td style=\"text-align: right;\">                0</td><td style=\"text-align: right;\">                0</td><td style=\"text-align: right;\">                0</td><td style=\"text-align: right;\">                0</td><td style=\"text-align: right;\">                0</td><td style=\"text-align: right;\">                0</td><td style=\"text-align: right;\">                0</td><td style=\"text-align: right;\">                0</td><td style=\"text-align: right;\">                0</td><td style=\"text-align: right;\">                0</td><td style=\"text-align: right;\">                0</td><td style=\"text-align: right;\">                0</td><td style=\"text-align: right;\">                0</td><td style=\"text-align: right;\">                0</td><td style=\"text-align: right;\">                0</td><td style=\"text-align: right;\">                0</td><td style=\"text-align: right;\">                0</td><td style=\"text-align: right;\">                0</td><td style=\"text-align: right;\">                0</td><td style=\"text-align: right;\">                0</td><td style=\"text-align: right;\">                0</td><td style=\"text-align: right;\">                0</td><td style=\"text-align: right;\">                0</td><td style=\"text-align: right;\">                0</td><td style=\"text-align: right;\">                0</td><td style=\"text-align: right;\">                0</td><td style=\"text-align: right;\">                0</td><td style=\"text-align: right;\">                0</td><td style=\"text-align: right;\">                0</td><td style=\"text-align: right;\">                0</td><td style=\"text-align: right;\">                0</td><td style=\"text-align: right;\">                0</td><td style=\"text-align: right;\">                0</td><td style=\"text-align: right;\">                0</td><td style=\"text-align: right;\">                0</td><td style=\"text-align: right;\">                0</td><td style=\"text-align: right;\">                0</td><td style=\"text-align: right;\">                0</td><td style=\"text-align: right;\">                0</td><td style=\"text-align: right;\">                0</td><td style=\"text-align: right;\">                0</td><td style=\"text-align: right;\">                0</td><td style=\"text-align: right;\">                0</td><td style=\"text-align: right;\">                0</td><td style=\"text-align: right;\">                0</td><td style=\"text-align: right;\">                0</td><td style=\"text-align: right;\">                0</td><td style=\"text-align: right;\">                0</td><td style=\"text-align: right;\">                0</td><td style=\"text-align: right;\">                0</td><td style=\"text-align: right;\">                0</td><td style=\"text-align: right;\">                0</td><td style=\"text-align: right;\">                0</td><td style=\"text-align: right;\">                0</td><td style=\"text-align: right;\">                0</td><td style=\"text-align: right;\">                0</td><td style=\"text-align: right;\">                0</td><td style=\"text-align: right;\">                0</td><td style=\"text-align: right;\">                0</td><td style=\"text-align: right;\">                0</td><td style=\"text-align: right;\">                0</td><td style=\"text-align: right;\">                0</td><td style=\"text-align: right;\">                0</td><td style=\"text-align: right;\">                0</td><td style=\"text-align: right;\">                0</td><td style=\"text-align: right;\">                0</td><td style=\"text-align: right;\">                0</td><td style=\"text-align: right;\">                0</td><td style=\"text-align: right;\">                0</td><td style=\"text-align: right;\">                0</td><td style=\"text-align: right;\">                0</td><td style=\"text-align: right;\">                0</td><td style=\"text-align: right;\">                0</td><td style=\"text-align: right;\">                0</td><td style=\"text-align: right;\">                0</td><td style=\"text-align: right;\">                0</td><td style=\"text-align: right;\">                0</td><td style=\"text-align: right;\">                0</td><td style=\"text-align: right;\">                0</td><td style=\"text-align: right;\">                0</td><td style=\"text-align: right;\">                0</td><td style=\"text-align: right;\">                0</td><td style=\"text-align: right;\">                0</td><td style=\"text-align: right;\">                0</td><td style=\"text-align: right;\">                0</td><td style=\"text-align: right;\">                0</td><td style=\"text-align: right;\">                0</td><td style=\"text-align: right;\">                0</td><td style=\"text-align: right;\">                0</td><td style=\"text-align: right;\">                0</td><td style=\"text-align: right;\">                0</td><td style=\"text-align: right;\">                0</td><td style=\"text-align: right;\">                0</td><td style=\"text-align: right;\">                0</td><td style=\"text-align: right;\">                0</td><td style=\"text-align: right;\">                0</td><td style=\"text-align: right;\">                0</td><td style=\"text-align: right;\">                0</td><td style=\"text-align: right;\">                0</td><td style=\"text-align: right;\">                0</td><td style=\"text-align: right;\">                0</td><td style=\"text-align: right;\">                0</td><td style=\"text-align: right;\">                0</td><td style=\"text-align: right;\">                0</td><td style=\"text-align: right;\">                0</td><td style=\"text-align: right;\">                0</td><td style=\"text-align: right;\">                0</td><td style=\"text-align: right;\">                0</td><td style=\"text-align: right;\">                0</td><td style=\"text-align: right;\">                0</td><td style=\"text-align: right;\">                0</td><td style=\"text-align: right;\">                0</td><td style=\"text-align: right;\">                0</td><td style=\"text-align: right;\">                0</td><td style=\"text-align: right;\">                0</td><td style=\"text-align: right;\">                0</td><td style=\"text-align: right;\">                0</td><td style=\"text-align: right;\">                0</td><td style=\"text-align: right;\">                0</td><td style=\"text-align: right;\">                0</td><td style=\"text-align: right;\">                0</td><td style=\"text-align: right;\">                0</td><td style=\"text-align: right;\">                0</td><td style=\"text-align: right;\">                0</td><td style=\"text-align: right;\">                0</td><td style=\"text-align: right;\">                0</td><td style=\"text-align: right;\">                0</td><td style=\"text-align: right;\">                0</td><td style=\"text-align: right;\">                0</td><td style=\"text-align: right;\">                0</td><td style=\"text-align: right;\">                0</td></tr>\n<tr><td>SRR5153333 </td><td style=\"text-align: right;\">              0</td><td style=\"text-align: right;\">               0</td><td style=\"text-align: right;\">               0</td><td style=\"text-align: right;\">               0</td><td style=\"text-align: right;\">               0</td><td style=\"text-align: right;\">               0</td><td style=\"text-align: right;\">               0</td><td style=\"text-align: right;\">               0</td><td style=\"text-align: right;\">               0</td><td style=\"text-align: right;\">               0</td><td style=\"text-align: right;\">               0</td><td style=\"text-align: right;\">               0</td><td style=\"text-align: right;\">               0</td><td style=\"text-align: right;\">               0</td><td style=\"text-align: right;\">               0</td><td style=\"text-align: right;\">               0</td><td style=\"text-align: right;\">               0</td><td style=\"text-align: right;\">               0</td><td style=\"text-align: right;\">               0</td><td style=\"text-align: right;\">               0</td><td style=\"text-align: right;\">               0</td><td style=\"text-align: right;\">               0</td><td style=\"text-align: right;\">               0</td><td style=\"text-align: right;\">               0</td><td style=\"text-align: right;\">               0</td><td style=\"text-align: right;\">               0</td><td style=\"text-align: right;\">               0</td><td style=\"text-align: right;\">               0</td><td style=\"text-align: right;\">               0</td><td style=\"text-align: right;\">               0</td><td style=\"text-align: right;\">               0</td><td style=\"text-align: right;\">               0</td><td style=\"text-align: right;\">               0</td><td style=\"text-align: right;\">               0</td><td style=\"text-align: right;\">               0</td><td style=\"text-align: right;\">               0</td><td style=\"text-align: right;\">                0</td><td style=\"text-align: right;\">                0</td><td style=\"text-align: right;\">                0</td><td style=\"text-align: right;\">                0</td><td style=\"text-align: right;\">                0</td><td style=\"text-align: right;\">                0</td><td style=\"text-align: right;\">                0</td><td style=\"text-align: right;\">                0</td><td style=\"text-align: right;\">                0</td><td style=\"text-align: right;\">                0</td><td style=\"text-align: right;\">                0</td><td style=\"text-align: right;\">                0</td><td style=\"text-align: right;\">                0</td><td style=\"text-align: right;\">                0</td><td style=\"text-align: right;\">                0</td><td style=\"text-align: right;\">                0</td><td style=\"text-align: right;\">                0</td><td style=\"text-align: right;\">                0</td><td style=\"text-align: right;\">                0</td><td style=\"text-align: right;\">                0</td><td style=\"text-align: right;\">                0</td><td style=\"text-align: right;\">                0</td><td style=\"text-align: right;\">                0</td><td style=\"text-align: right;\">                0</td><td style=\"text-align: right;\">                0</td><td style=\"text-align: right;\">                0</td><td style=\"text-align: right;\">                0</td><td style=\"text-align: right;\">                0</td><td style=\"text-align: right;\">                0</td><td style=\"text-align: right;\">                0</td><td style=\"text-align: right;\">                0</td><td style=\"text-align: right;\">                0</td><td style=\"text-align: right;\">                0</td><td style=\"text-align: right;\">                0</td><td style=\"text-align: right;\">                0</td><td style=\"text-align: right;\">                0</td><td style=\"text-align: right;\">                0</td><td style=\"text-align: right;\">                0</td><td style=\"text-align: right;\">                0</td><td style=\"text-align: right;\">                0</td><td style=\"text-align: right;\">                0</td><td style=\"text-align: right;\">                0</td><td style=\"text-align: right;\">                0</td><td style=\"text-align: right;\">                0</td><td style=\"text-align: right;\">                0</td><td style=\"text-align: right;\">                0</td><td style=\"text-align: right;\">                0</td><td style=\"text-align: right;\">                0</td><td style=\"text-align: right;\">                0</td><td style=\"text-align: right;\">                0</td><td style=\"text-align: right;\">                0</td><td style=\"text-align: right;\">                0</td><td style=\"text-align: right;\">                0</td><td style=\"text-align: right;\">                0</td><td style=\"text-align: right;\">                0</td><td style=\"text-align: right;\">                0</td><td style=\"text-align: right;\">                0</td><td style=\"text-align: right;\">                0</td><td style=\"text-align: right;\">                0</td><td style=\"text-align: right;\">                0</td><td style=\"text-align: right;\">                0</td><td style=\"text-align: right;\">                0</td><td style=\"text-align: right;\">                0</td><td style=\"text-align: right;\">                0</td><td style=\"text-align: right;\">                0</td><td style=\"text-align: right;\">                0</td><td style=\"text-align: right;\">                0</td><td style=\"text-align: right;\">                0</td><td style=\"text-align: right;\">                0</td><td style=\"text-align: right;\">                0</td><td style=\"text-align: right;\">                0</td><td style=\"text-align: right;\">                0</td><td style=\"text-align: right;\">                0</td><td style=\"text-align: right;\">                0</td><td style=\"text-align: right;\">                0</td><td style=\"text-align: right;\">                0</td><td style=\"text-align: right;\">                0</td><td style=\"text-align: right;\">                0</td><td style=\"text-align: right;\">                0</td><td style=\"text-align: right;\">                0</td><td style=\"text-align: right;\">                0</td><td style=\"text-align: right;\">                0</td><td style=\"text-align: right;\">                0</td><td style=\"text-align: right;\">                0</td><td style=\"text-align: right;\">                0</td><td style=\"text-align: right;\">                0</td><td style=\"text-align: right;\">                0</td><td style=\"text-align: right;\">                0</td><td style=\"text-align: right;\">                0</td><td style=\"text-align: right;\">                0</td><td style=\"text-align: right;\">                0</td><td style=\"text-align: right;\">                0</td><td style=\"text-align: right;\">                0</td><td style=\"text-align: right;\">                0</td><td style=\"text-align: right;\">                0</td><td style=\"text-align: right;\">                0</td><td style=\"text-align: right;\">                0</td><td style=\"text-align: right;\">                0</td><td style=\"text-align: right;\">                0</td><td style=\"text-align: right;\">                0</td><td style=\"text-align: right;\">                0</td><td style=\"text-align: right;\">                0</td><td style=\"text-align: right;\">                0</td><td style=\"text-align: right;\">                0</td><td style=\"text-align: right;\">                0</td><td style=\"text-align: right;\">                0</td><td style=\"text-align: right;\">                0</td><td style=\"text-align: right;\">                0</td><td style=\"text-align: right;\">                0</td><td style=\"text-align: right;\">                0</td><td style=\"text-align: right;\">                0</td><td style=\"text-align: right;\">                0</td><td style=\"text-align: right;\">                0</td><td style=\"text-align: right;\">                0</td><td style=\"text-align: right;\">                0</td><td style=\"text-align: right;\">                0</td><td style=\"text-align: right;\">                0</td><td style=\"text-align: right;\">                0</td><td style=\"text-align: right;\">                0</td><td style=\"text-align: right;\">                0</td><td style=\"text-align: right;\">                0</td><td style=\"text-align: right;\">                0</td><td style=\"text-align: right;\">                0</td><td style=\"text-align: right;\">                0</td><td style=\"text-align: right;\">                0</td><td style=\"text-align: right;\">                0</td><td style=\"text-align: right;\">                0</td><td style=\"text-align: right;\">                0</td><td style=\"text-align: right;\">                0</td><td style=\"text-align: right;\">                0</td><td style=\"text-align: right;\">                0</td><td style=\"text-align: right;\">                0</td><td style=\"text-align: right;\">                0</td><td style=\"text-align: right;\">                0</td><td style=\"text-align: right;\">                0</td><td style=\"text-align: right;\">                0</td><td style=\"text-align: right;\">                0</td><td style=\"text-align: right;\">                0</td><td style=\"text-align: right;\">                0</td><td style=\"text-align: right;\">                0</td><td style=\"text-align: right;\">                0</td><td style=\"text-align: right;\">                0</td><td style=\"text-align: right;\">                0</td><td style=\"text-align: right;\">                0</td><td style=\"text-align: right;\">                0</td><td style=\"text-align: right;\">                0</td><td style=\"text-align: right;\">                0</td><td style=\"text-align: right;\">                0</td><td style=\"text-align: right;\">                0</td><td style=\"text-align: right;\">                0</td><td style=\"text-align: right;\">                0</td><td style=\"text-align: right;\">                0</td><td style=\"text-align: right;\">                0</td><td style=\"text-align: right;\">                0</td><td style=\"text-align: right;\">                0</td><td style=\"text-align: right;\">                0</td><td style=\"text-align: right;\">                0</td><td style=\"text-align: right;\">                0</td><td style=\"text-align: right;\">                0</td><td style=\"text-align: right;\">                0</td><td style=\"text-align: right;\">                0</td><td style=\"text-align: right;\">                0</td><td style=\"text-align: right;\">                0</td></tr>\n<tr><td>SRR5152963 </td><td style=\"text-align: right;\">              0</td><td style=\"text-align: right;\">               0</td><td style=\"text-align: right;\">               0</td><td style=\"text-align: right;\">               0</td><td style=\"text-align: right;\">               0</td><td style=\"text-align: right;\">               0</td><td style=\"text-align: right;\">               0</td><td style=\"text-align: right;\">               0</td><td style=\"text-align: right;\">               0</td><td style=\"text-align: right;\">               0</td><td style=\"text-align: right;\">               0</td><td style=\"text-align: right;\">               0</td><td style=\"text-align: right;\">               0</td><td style=\"text-align: right;\">               0</td><td style=\"text-align: right;\">               0</td><td style=\"text-align: right;\">               0</td><td style=\"text-align: right;\">               0</td><td style=\"text-align: right;\">               0</td><td style=\"text-align: right;\">               0</td><td style=\"text-align: right;\">               0</td><td style=\"text-align: right;\">               0</td><td style=\"text-align: right;\">               0</td><td style=\"text-align: right;\">               0</td><td style=\"text-align: right;\">               0</td><td style=\"text-align: right;\">               0</td><td style=\"text-align: right;\">               0</td><td style=\"text-align: right;\">               0</td><td style=\"text-align: right;\">               0</td><td style=\"text-align: right;\">               0</td><td style=\"text-align: right;\">               0</td><td style=\"text-align: right;\">               0</td><td style=\"text-align: right;\">               0</td><td style=\"text-align: right;\">               0</td><td style=\"text-align: right;\">               0</td><td style=\"text-align: right;\">               0</td><td style=\"text-align: right;\">               0</td><td style=\"text-align: right;\">                0</td><td style=\"text-align: right;\">                0</td><td style=\"text-align: right;\">                0</td><td style=\"text-align: right;\">                0</td><td style=\"text-align: right;\">                0</td><td style=\"text-align: right;\">                0</td><td style=\"text-align: right;\">                0</td><td style=\"text-align: right;\">                0</td><td style=\"text-align: right;\">                0</td><td style=\"text-align: right;\">                0</td><td style=\"text-align: right;\">                0</td><td style=\"text-align: right;\">                0</td><td style=\"text-align: right;\">                0</td><td style=\"text-align: right;\">                0</td><td style=\"text-align: right;\">                0</td><td style=\"text-align: right;\">                0</td><td style=\"text-align: right;\">                0</td><td style=\"text-align: right;\">                0</td><td style=\"text-align: right;\">                0</td><td style=\"text-align: right;\">                0</td><td style=\"text-align: right;\">                0</td><td style=\"text-align: right;\">                0</td><td style=\"text-align: right;\">                0</td><td style=\"text-align: right;\">                0</td><td style=\"text-align: right;\">                0</td><td style=\"text-align: right;\">                0</td><td style=\"text-align: right;\">                0</td><td style=\"text-align: right;\">                0</td><td style=\"text-align: right;\">                0</td><td style=\"text-align: right;\">                0</td><td style=\"text-align: right;\">                0</td><td style=\"text-align: right;\">                0</td><td style=\"text-align: right;\">                0</td><td style=\"text-align: right;\">                0</td><td style=\"text-align: right;\">                0</td><td style=\"text-align: right;\">                0</td><td style=\"text-align: right;\">                0</td><td style=\"text-align: right;\">                0</td><td style=\"text-align: right;\">                0</td><td style=\"text-align: right;\">                0</td><td style=\"text-align: right;\">                0</td><td style=\"text-align: right;\">                0</td><td style=\"text-align: right;\">                0</td><td style=\"text-align: right;\">                0</td><td style=\"text-align: right;\">                0</td><td style=\"text-align: right;\">                0</td><td style=\"text-align: right;\">                0</td><td style=\"text-align: right;\">                0</td><td style=\"text-align: right;\">                0</td><td style=\"text-align: right;\">                0</td><td style=\"text-align: right;\">                0</td><td style=\"text-align: right;\">                0</td><td style=\"text-align: right;\">                0</td><td style=\"text-align: right;\">                0</td><td style=\"text-align: right;\">                0</td><td style=\"text-align: right;\">                0</td><td style=\"text-align: right;\">                0</td><td style=\"text-align: right;\">                0</td><td style=\"text-align: right;\">                0</td><td style=\"text-align: right;\">                0</td><td style=\"text-align: right;\">                0</td><td style=\"text-align: right;\">                0</td><td style=\"text-align: right;\">                0</td><td style=\"text-align: right;\">                0</td><td style=\"text-align: right;\">                0</td><td style=\"text-align: right;\">                0</td><td style=\"text-align: right;\">                0</td><td style=\"text-align: right;\">                0</td><td style=\"text-align: right;\">                0</td><td style=\"text-align: right;\">                0</td><td style=\"text-align: right;\">                0</td><td style=\"text-align: right;\">                0</td><td style=\"text-align: right;\">                0</td><td style=\"text-align: right;\">                0</td><td style=\"text-align: right;\">                0</td><td style=\"text-align: right;\">                0</td><td style=\"text-align: right;\">                0</td><td style=\"text-align: right;\">                0</td><td style=\"text-align: right;\">                0</td><td style=\"text-align: right;\">                0</td><td style=\"text-align: right;\">                0</td><td style=\"text-align: right;\">                0</td><td style=\"text-align: right;\">                0</td><td style=\"text-align: right;\">                0</td><td style=\"text-align: right;\">                0</td><td style=\"text-align: right;\">                0</td><td style=\"text-align: right;\">                0</td><td style=\"text-align: right;\">                0</td><td style=\"text-align: right;\">                0</td><td style=\"text-align: right;\">                0</td><td style=\"text-align: right;\">                0</td><td style=\"text-align: right;\">                0</td><td style=\"text-align: right;\">                0</td><td style=\"text-align: right;\">                0</td><td style=\"text-align: right;\">                0</td><td style=\"text-align: right;\">                0</td><td style=\"text-align: right;\">                0</td><td style=\"text-align: right;\">                0</td><td style=\"text-align: right;\">                0</td><td style=\"text-align: right;\">                0</td><td style=\"text-align: right;\">                0</td><td style=\"text-align: right;\">                0</td><td style=\"text-align: right;\">                0</td><td style=\"text-align: right;\">                0</td><td style=\"text-align: right;\">                0</td><td style=\"text-align: right;\">                0</td><td style=\"text-align: right;\">                0</td><td style=\"text-align: right;\">                0</td><td style=\"text-align: right;\">                0</td><td style=\"text-align: right;\">                0</td><td style=\"text-align: right;\">                0</td><td style=\"text-align: right;\">                0</td><td style=\"text-align: right;\">                0</td><td style=\"text-align: right;\">                0</td><td style=\"text-align: right;\">                0</td><td style=\"text-align: right;\">                0</td><td style=\"text-align: right;\">                0</td><td style=\"text-align: right;\">                0</td><td style=\"text-align: right;\">                0</td><td style=\"text-align: right;\">                0</td><td style=\"text-align: right;\">                0</td><td style=\"text-align: right;\">                0</td><td style=\"text-align: right;\">                0</td><td style=\"text-align: right;\">                0</td><td style=\"text-align: right;\">                0</td><td style=\"text-align: right;\">                0</td><td style=\"text-align: right;\">                0</td><td style=\"text-align: right;\">                0</td><td style=\"text-align: right;\">                0</td><td style=\"text-align: right;\">                0</td><td style=\"text-align: right;\">                0</td><td style=\"text-align: right;\">                0</td><td style=\"text-align: right;\">                0</td><td style=\"text-align: right;\">                0</td><td style=\"text-align: right;\">                0</td><td style=\"text-align: right;\">                0</td><td style=\"text-align: right;\">                0</td><td style=\"text-align: right;\">                0</td><td style=\"text-align: right;\">                0</td><td style=\"text-align: right;\">                0</td><td style=\"text-align: right;\">                0</td><td style=\"text-align: right;\">                0</td><td style=\"text-align: right;\">                0</td><td style=\"text-align: right;\">                0</td><td style=\"text-align: right;\">                0</td><td style=\"text-align: right;\">                0</td><td style=\"text-align: right;\">                0</td><td style=\"text-align: right;\">                0</td><td style=\"text-align: right;\">                0</td><td style=\"text-align: right;\">                0</td><td style=\"text-align: right;\">                0</td><td style=\"text-align: right;\">                0</td><td style=\"text-align: right;\">                0</td><td style=\"text-align: right;\">                0</td><td style=\"text-align: right;\">                0</td><td style=\"text-align: right;\">                0</td><td style=\"text-align: right;\">                0</td><td style=\"text-align: right;\">                0</td><td style=\"text-align: right;\">                0</td><td style=\"text-align: right;\">                0</td><td style=\"text-align: right;\">                0</td><td style=\"text-align: right;\">                0</td><td style=\"text-align: right;\">                0</td></tr>\n</tbody>\n</table>"
          },
          "metadata": {}
        },
        {
          "output_type": "execute_result",
          "execution_count": 17,
          "data": {
            "text/plain": ""
          },
          "metadata": {}
        }
      ],
      "execution_count": 17,
      "metadata": {
        "collapsed": true,
        "jupyter": {
          "source_hidden": false,
          "outputs_hidden": false
        },
        "nteract": {
          "transient": {
            "deleting": false
          }
        },
        "gather": {
          "logged": 1604407545121
        }
      }
    },
    {
      "cell_type": "code",
      "source": [
        "\r\n",
        "test = h2o.import_file(\"../data/processed/final.test.tsv\")\r\n",
        "test.head()"
      ],
      "outputs": [
        {
          "output_type": "stream",
          "name": "stdout",
          "text": [
            "Parse progress: |█████████████████████████████████████████████████████████| 100%\n"
          ]
        },
        {
          "output_type": "display_data",
          "data": {
            "text/html": "<table>\n<thead>\n<tr><th>SampleID  </th><th style=\"text-align: right;\">  NC000962_3.22</th><th style=\"text-align: right;\">  NC000962_3.434</th><th style=\"text-align: right;\">  NC000962_3.524</th><th style=\"text-align: right;\">  NC000962_3.645</th><th style=\"text-align: right;\">  NC000962_3.648</th><th style=\"text-align: right;\">  NC000962_3.654</th><th style=\"text-align: right;\">  NC000962_3.666</th><th style=\"text-align: right;\">  NC000962_3.675</th><th style=\"text-align: right;\">  NC000962_3.678</th><th style=\"text-align: right;\">  NC000962_3.693</th><th style=\"text-align: right;\">  NC000962_3.698</th><th style=\"text-align: right;\">  NC000962_3.699</th><th style=\"text-align: right;\">  NC000962_3.702</th><th style=\"text-align: right;\">  NC000962_3.705</th><th style=\"text-align: right;\">  NC000962_3.708</th><th style=\"text-align: right;\">  NC000962_3.717</th><th style=\"text-align: right;\">  NC000962_3.729</th><th style=\"text-align: right;\">  NC000962_3.741</th><th style=\"text-align: right;\">  NC000962_3.744</th><th style=\"text-align: right;\">  NC000962_3.747</th><th style=\"text-align: right;\">  NC000962_3.750</th><th style=\"text-align: right;\">  NC000962_3.756</th><th style=\"text-align: right;\">  NC000962_3.770</th><th style=\"text-align: right;\">  NC000962_3.777</th><th style=\"text-align: right;\">  NC000962_3.780</th><th style=\"text-align: right;\">  NC000962_3.783</th><th style=\"text-align: right;\">  NC000962_3.793</th><th style=\"text-align: right;\">  NC000962_3.795</th><th style=\"text-align: right;\">  NC000962_3.799</th><th style=\"text-align: right;\">  NC000962_3.801</th><th style=\"text-align: right;\">  NC000962_3.805</th><th style=\"text-align: right;\">  NC000962_3.822</th><th style=\"text-align: right;\">  NC000962_3.840</th><th style=\"text-align: right;\">  NC000962_3.846</th><th style=\"text-align: right;\">  NC000962_3.849</th><th style=\"text-align: right;\">  NC000962_3.852</th><th style=\"text-align: right;\">  NC000962_3.1045</th><th style=\"text-align: right;\">  NC000962_3.1049</th><th style=\"text-align: right;\">  NC000962_3.1089</th><th style=\"text-align: right;\">  NC000962_3.1123</th><th style=\"text-align: right;\">  NC000962_3.1152</th><th style=\"text-align: right;\">  NC000962_3.1153</th><th style=\"text-align: right;\">  NC000962_3.1155</th><th style=\"text-align: right;\">  NC000962_3.1161</th><th style=\"text-align: right;\">  NC000962_3.1164</th><th style=\"text-align: right;\">  NC000962_3.1166</th><th style=\"text-align: right;\">  NC000962_3.1167</th><th style=\"text-align: right;\">  NC000962_3.1176</th><th style=\"text-align: right;\">  NC000962_3.1206</th><th style=\"text-align: right;\">  NC000962_3.1212</th><th style=\"text-align: right;\">  NC000962_3.1255</th><th style=\"text-align: right;\">  NC000962_3.1278</th><th style=\"text-align: right;\">  NC000962_3.1291</th><th style=\"text-align: right;\">  NC000962_3.1302</th><th style=\"text-align: right;\">  NC000962_3.1326</th><th style=\"text-align: right;\">  NC000962_3.1389</th><th style=\"text-align: right;\">  NC000962_3.1399</th><th style=\"text-align: right;\">  NC000962_3.1413</th><th style=\"text-align: right;\">  NC000962_3.1416</th><th style=\"text-align: right;\">  NC000962_3.1422</th><th style=\"text-align: right;\">  NC000962_3.1429</th><th style=\"text-align: right;\">  NC000962_3.1431</th><th style=\"text-align: right;\">  NC000962_3.1432</th><th style=\"text-align: right;\">  NC000962_3.1452</th><th style=\"text-align: right;\">  NC000962_3.1458</th><th style=\"text-align: right;\">  NC000962_3.1461</th><th style=\"text-align: right;\">  NC000962_3.1470</th><th style=\"text-align: right;\">  NC000962_3.1473</th><th style=\"text-align: right;\">  NC000962_3.1474</th><th style=\"text-align: right;\">  NC000962_3.1653</th><th style=\"text-align: right;\">  NC000962_3.1676</th><th style=\"text-align: right;\">  NC000962_3.1699</th><th style=\"text-align: right;\">  NC000962_3.1703</th><th style=\"text-align: right;\">  NC000962_3.1708</th><th style=\"text-align: right;\">  NC000962_3.1718</th><th style=\"text-align: right;\">  NC000962_3.1729</th><th style=\"text-align: right;\">  NC000962_3.1771</th><th style=\"text-align: right;\">  NC000962_3.1827</th><th style=\"text-align: right;\">  NC000962_3.1849</th><th style=\"text-align: right;\">  NC000962_3.1918</th><th style=\"text-align: right;\">  NC000962_3.1977</th><th style=\"text-align: right;\">  NC000962_3.2532</th><th style=\"text-align: right;\">  NC000962_3.2745</th><th style=\"text-align: right;\">  NC000962_3.3352</th><th style=\"text-align: right;\">  NC000962_3.3446</th><th style=\"text-align: right;\">  NC000962_3.4013</th><th style=\"text-align: right;\">  NC000962_3.4086</th><th style=\"text-align: right;\">  NC000962_3.4096</th><th style=\"text-align: right;\">  NC000962_3.4119</th><th style=\"text-align: right;\">  NC000962_3.4938</th><th style=\"text-align: right;\">  NC000962_3.5075</th><th style=\"text-align: right;\">  NC000962_3.5627</th><th style=\"text-align: right;\">  NC000962_3.5782</th><th style=\"text-align: right;\">  NC000962_3.5790</th><th style=\"text-align: right;\">  NC000962_3.5791</th><th style=\"text-align: right;\">  NC000962_3.5803</th><th style=\"text-align: right;\">  NC000962_3.5807</th><th style=\"text-align: right;\">  NC000962_3.5824</th><th style=\"text-align: right;\">  NC000962_3.5839</th><th style=\"text-align: right;\">  NC000962_3.5848</th><th style=\"text-align: right;\">  NC000962_3.5856</th><th style=\"text-align: right;\">  NC000962_3.5858</th><th style=\"text-align: right;\">  NC000962_3.5860</th><th style=\"text-align: right;\">  NC000962_3.5902</th><th style=\"text-align: right;\">  NC000962_3.6003</th><th style=\"text-align: right;\">  NC000962_3.6013</th><th style=\"text-align: right;\">  NC000962_3.6112</th><th style=\"text-align: right;\">  NC000962_3.6280</th><th style=\"text-align: right;\">  NC000962_3.6286</th><th style=\"text-align: right;\">  NC000962_3.6292</th><th style=\"text-align: right;\">  NC000962_3.6307</th><th style=\"text-align: right;\">  NC000962_3.6362</th><th style=\"text-align: right;\">  NC000962_3.6382</th><th style=\"text-align: right;\">  NC000962_3.6388</th><th style=\"text-align: right;\">  NC000962_3.6403</th><th style=\"text-align: right;\">  NC000962_3.6430</th><th style=\"text-align: right;\">  NC000962_3.6436</th><th style=\"text-align: right;\">  NC000962_3.6439</th><th style=\"text-align: right;\">  NC000962_3.6445</th><th style=\"text-align: right;\">  NC000962_3.6452</th><th style=\"text-align: right;\">  NC000962_3.6453</th><th style=\"text-align: right;\">  NC000962_3.6502</th><th style=\"text-align: right;\">  NC000962_3.6508</th><th style=\"text-align: right;\">  NC000962_3.6511</th><th style=\"text-align: right;\">  NC000962_3.6515</th><th style=\"text-align: right;\">  NC000962_3.6520</th><th style=\"text-align: right;\">  NC000962_3.6535</th><th style=\"text-align: right;\">  NC000962_3.6547</th><th style=\"text-align: right;\">  NC000962_3.6550</th><th style=\"text-align: right;\">  NC000962_3.6551</th><th style=\"text-align: right;\">  NC000962_3.6553</th><th style=\"text-align: right;\">  NC000962_3.6571</th><th style=\"text-align: right;\">  NC000962_3.6575</th><th style=\"text-align: right;\">  NC000962_3.6579</th><th style=\"text-align: right;\">  NC000962_3.6586</th><th style=\"text-align: right;\">  NC000962_3.6620</th><th style=\"text-align: right;\">  NC000962_3.6638</th><th style=\"text-align: right;\">  NC000962_3.6695</th><th style=\"text-align: right;\">  NC000962_3.6735</th><th style=\"text-align: right;\">  NC000962_3.6738</th><th style=\"text-align: right;\">  NC000962_3.6742</th><th style=\"text-align: right;\">  NC000962_3.6749</th><th style=\"text-align: right;\">  NC000962_3.6750</th><th style=\"text-align: right;\">  NC000962_3.6807</th><th style=\"text-align: right;\">  NC000962_3.6878</th><th style=\"text-align: right;\">  NC000962_3.6881</th><th style=\"text-align: right;\">  NC000962_3.7058</th><th style=\"text-align: right;\">  NC000962_3.7088</th><th style=\"text-align: right;\">  NC000962_3.7170</th><th style=\"text-align: right;\">  NC000962_3.7268</th><th style=\"text-align: right;\">  NC000962_3.7355</th><th style=\"text-align: right;\">  NC000962_3.7362</th><th style=\"text-align: right;\">  NC000962_3.7496</th><th style=\"text-align: right;\">  NC000962_3.7563</th><th style=\"text-align: right;\">  NC000962_3.7564</th><th style=\"text-align: right;\">  NC000962_3.7566</th><th style=\"text-align: right;\">  NC000962_3.7567</th><th style=\"text-align: right;\">  NC000962_3.7570</th><th style=\"text-align: right;\">  NC000962_3.7572</th><th style=\"text-align: right;\">  NC000962_3.7581</th><th style=\"text-align: right;\">  NC000962_3.7582</th><th style=\"text-align: right;\">  NC000962_3.7585</th><th style=\"text-align: right;\">  NC000962_3.7607</th><th style=\"text-align: right;\">  NC000962_3.7631</th><th style=\"text-align: right;\">  NC000962_3.7637</th><th style=\"text-align: right;\">  NC000962_3.7652</th><th style=\"text-align: right;\">  NC000962_3.7658</th><th style=\"text-align: right;\">  NC000962_3.7664</th><th style=\"text-align: right;\">  NC000962_3.7683</th><th style=\"text-align: right;\">  NC000962_3.7685</th><th style=\"text-align: right;\">  NC000962_3.7694</th><th style=\"text-align: right;\">  NC000962_3.7710</th><th style=\"text-align: right;\">  NC000962_3.7712</th><th style=\"text-align: right;\">  NC000962_3.7725</th><th style=\"text-align: right;\">  NC000962_3.7728</th><th style=\"text-align: right;\">  NC000962_3.7730</th><th style=\"text-align: right;\">  NC000962_3.7892</th><th style=\"text-align: right;\">  NC000962_3.8040</th><th style=\"text-align: right;\">  NC000962_3.8164</th><th style=\"text-align: right;\">  NC000962_3.8201</th><th style=\"text-align: right;\">  NC000962_3.8434</th><th style=\"text-align: right;\">  NC000962_3.8452</th><th style=\"text-align: right;\">  NC000962_3.8519</th><th style=\"text-align: right;\">  NC000962_3.8619</th><th style=\"text-align: right;\">  NC000962_3.8624</th><th style=\"text-align: right;\">  NC000962_3.9023</th><th style=\"text-align: right;\">  NC000962_3.9032</th><th style=\"text-align: right;\">  NC000962_3.9034</th><th style=\"text-align: right;\">  NC000962_3.9050</th><th style=\"text-align: right;\">  NC000962_3.9051</th><th style=\"text-align: right;\">  NC000962_3.9113</th><th style=\"text-align: right;\">  NC000962_3.9119</th><th style=\"text-align: right;\">  NC000962_3.9134</th><th style=\"text-align: right;\">  NC000962_3.9143</th><th style=\"text-align: right;\">  NC000962_3.9145</th><th style=\"text-align: right;\">  NC000962_3.9147</th><th style=\"text-align: right;\">  NC000962_3.9153</th><th style=\"text-align: right;\">  NC000962_3.9154</th><th style=\"text-align: right;\">  NC000962_3.9155</th></tr>\n</thead>\n<tbody>\n<tr><td>ERR3335735</td><td style=\"text-align: right;\">              0</td><td style=\"text-align: right;\">               0</td><td style=\"text-align: right;\">               0</td><td style=\"text-align: right;\">               0</td><td style=\"text-align: right;\">               0</td><td style=\"text-align: right;\">               0</td><td style=\"text-align: right;\">               0</td><td style=\"text-align: right;\">               0</td><td style=\"text-align: right;\">               0</td><td style=\"text-align: right;\">               0</td><td style=\"text-align: right;\">               0</td><td style=\"text-align: right;\">               0</td><td style=\"text-align: right;\">               0</td><td style=\"text-align: right;\">               0</td><td style=\"text-align: right;\">               0</td><td style=\"text-align: right;\">               0</td><td style=\"text-align: right;\">               0</td><td style=\"text-align: right;\">               0</td><td style=\"text-align: right;\">               0</td><td style=\"text-align: right;\">               0</td><td style=\"text-align: right;\">               0</td><td style=\"text-align: right;\">               0</td><td style=\"text-align: right;\">               0</td><td style=\"text-align: right;\">               0</td><td style=\"text-align: right;\">               0</td><td style=\"text-align: right;\">               0</td><td style=\"text-align: right;\">               0</td><td style=\"text-align: right;\">               0</td><td style=\"text-align: right;\">               0</td><td style=\"text-align: right;\">               0</td><td style=\"text-align: right;\">               0</td><td style=\"text-align: right;\">               0</td><td style=\"text-align: right;\">               0</td><td style=\"text-align: right;\">               0</td><td style=\"text-align: right;\">               0</td><td style=\"text-align: right;\">               0</td><td style=\"text-align: right;\">                0</td><td style=\"text-align: right;\">                0</td><td style=\"text-align: right;\">                0</td><td style=\"text-align: right;\">                0</td><td style=\"text-align: right;\">                0</td><td style=\"text-align: right;\">                0</td><td style=\"text-align: right;\">                0</td><td style=\"text-align: right;\">                0</td><td style=\"text-align: right;\">                0</td><td style=\"text-align: right;\">                0</td><td style=\"text-align: right;\">                0</td><td style=\"text-align: right;\">                0</td><td style=\"text-align: right;\">                0</td><td style=\"text-align: right;\">                0</td><td style=\"text-align: right;\">                0</td><td style=\"text-align: right;\">                0</td><td style=\"text-align: right;\">                0</td><td style=\"text-align: right;\">                0</td><td style=\"text-align: right;\">                0</td><td style=\"text-align: right;\">                0</td><td style=\"text-align: right;\">                0</td><td style=\"text-align: right;\">                0</td><td style=\"text-align: right;\">                0</td><td style=\"text-align: right;\">                0</td><td style=\"text-align: right;\">                0</td><td style=\"text-align: right;\">                0</td><td style=\"text-align: right;\">                0</td><td style=\"text-align: right;\">                0</td><td style=\"text-align: right;\">                0</td><td style=\"text-align: right;\">                0</td><td style=\"text-align: right;\">                0</td><td style=\"text-align: right;\">                0</td><td style=\"text-align: right;\">                0</td><td style=\"text-align: right;\">                0</td><td style=\"text-align: right;\">                0</td><td style=\"text-align: right;\">                0</td><td style=\"text-align: right;\">                0</td><td style=\"text-align: right;\">                0</td><td style=\"text-align: right;\">                0</td><td style=\"text-align: right;\">                0</td><td style=\"text-align: right;\">                0</td><td style=\"text-align: right;\">                0</td><td style=\"text-align: right;\">                0</td><td style=\"text-align: right;\">                0</td><td style=\"text-align: right;\">                0</td><td style=\"text-align: right;\">                0</td><td style=\"text-align: right;\">                0</td><td style=\"text-align: right;\">                0</td><td style=\"text-align: right;\">                0</td><td style=\"text-align: right;\">                0</td><td style=\"text-align: right;\">                0</td><td style=\"text-align: right;\">                0</td><td style=\"text-align: right;\">                0</td><td style=\"text-align: right;\">                0</td><td style=\"text-align: right;\">                0</td><td style=\"text-align: right;\">                0</td><td style=\"text-align: right;\">                0</td><td style=\"text-align: right;\">                0</td><td style=\"text-align: right;\">                0</td><td style=\"text-align: right;\">                0</td><td style=\"text-align: right;\">                0</td><td style=\"text-align: right;\">                0</td><td style=\"text-align: right;\">                0</td><td style=\"text-align: right;\">                0</td><td style=\"text-align: right;\">                0</td><td style=\"text-align: right;\">                0</td><td style=\"text-align: right;\">                0</td><td style=\"text-align: right;\">                0</td><td style=\"text-align: right;\">                0</td><td style=\"text-align: right;\">                0</td><td style=\"text-align: right;\">                0</td><td style=\"text-align: right;\">                0</td><td style=\"text-align: right;\">                0</td><td style=\"text-align: right;\">                0</td><td style=\"text-align: right;\">                0</td><td style=\"text-align: right;\">                0</td><td style=\"text-align: right;\">                0</td><td style=\"text-align: right;\">                0</td><td style=\"text-align: right;\">                0</td><td style=\"text-align: right;\">                0</td><td style=\"text-align: right;\">                0</td><td style=\"text-align: right;\">                0</td><td style=\"text-align: right;\">                0</td><td style=\"text-align: right;\">                0</td><td style=\"text-align: right;\">                0</td><td style=\"text-align: right;\">                0</td><td style=\"text-align: right;\">                0</td><td style=\"text-align: right;\">                0</td><td style=\"text-align: right;\">                0</td><td style=\"text-align: right;\">                0</td><td style=\"text-align: right;\">                0</td><td style=\"text-align: right;\">                0</td><td style=\"text-align: right;\">                0</td><td style=\"text-align: right;\">                0</td><td style=\"text-align: right;\">                0</td><td style=\"text-align: right;\">                0</td><td style=\"text-align: right;\">                0</td><td style=\"text-align: right;\">                0</td><td style=\"text-align: right;\">                0</td><td style=\"text-align: right;\">                0</td><td style=\"text-align: right;\">                0</td><td style=\"text-align: right;\">                0</td><td style=\"text-align: right;\">                0</td><td style=\"text-align: right;\">                0</td><td style=\"text-align: right;\">                0</td><td style=\"text-align: right;\">                0</td><td style=\"text-align: right;\">                0</td><td style=\"text-align: right;\">                0</td><td style=\"text-align: right;\">                0</td><td style=\"text-align: right;\">                0</td><td style=\"text-align: right;\">                0</td><td style=\"text-align: right;\">                0</td><td style=\"text-align: right;\">                0</td><td style=\"text-align: right;\">                0</td><td style=\"text-align: right;\">                0</td><td style=\"text-align: right;\">                0</td><td style=\"text-align: right;\">                0</td><td style=\"text-align: right;\">                0</td><td style=\"text-align: right;\">                0</td><td style=\"text-align: right;\">                0</td><td style=\"text-align: right;\">                0</td><td style=\"text-align: right;\">                0</td><td style=\"text-align: right;\">                0</td><td style=\"text-align: right;\">                0</td><td style=\"text-align: right;\">                0</td><td style=\"text-align: right;\">                0</td><td style=\"text-align: right;\">                0</td><td style=\"text-align: right;\">                0</td><td style=\"text-align: right;\">                0</td><td style=\"text-align: right;\">                0</td><td style=\"text-align: right;\">                0</td><td style=\"text-align: right;\">                0</td><td style=\"text-align: right;\">                0</td><td style=\"text-align: right;\">                0</td><td style=\"text-align: right;\">                0</td><td style=\"text-align: right;\">                0</td><td style=\"text-align: right;\">                0</td><td style=\"text-align: right;\">                0</td><td style=\"text-align: right;\">                0</td><td style=\"text-align: right;\">                0</td><td style=\"text-align: right;\">                0</td><td style=\"text-align: right;\">                0</td><td style=\"text-align: right;\">                0</td><td style=\"text-align: right;\">                0</td><td style=\"text-align: right;\">                0</td><td style=\"text-align: right;\">                0</td><td style=\"text-align: right;\">                0</td><td style=\"text-align: right;\">                0</td><td style=\"text-align: right;\">                0</td><td style=\"text-align: right;\">                0</td><td style=\"text-align: right;\">                0</td><td style=\"text-align: right;\">                0</td><td style=\"text-align: right;\">                0</td><td style=\"text-align: right;\">                0</td><td style=\"text-align: right;\">                0</td><td style=\"text-align: right;\">                0</td><td style=\"text-align: right;\">                0</td><td style=\"text-align: right;\">                0</td><td style=\"text-align: right;\">                0</td><td style=\"text-align: right;\">                0</td><td style=\"text-align: right;\">                0</td><td style=\"text-align: right;\">                0</td><td style=\"text-align: right;\">                0</td></tr>\n<tr><td>SRR8552929</td><td style=\"text-align: right;\">              0</td><td style=\"text-align: right;\">               0</td><td style=\"text-align: right;\">               0</td><td style=\"text-align: right;\">               0</td><td style=\"text-align: right;\">               0</td><td style=\"text-align: right;\">               0</td><td style=\"text-align: right;\">               0</td><td style=\"text-align: right;\">               0</td><td style=\"text-align: right;\">               0</td><td style=\"text-align: right;\">               0</td><td style=\"text-align: right;\">               0</td><td style=\"text-align: right;\">               0</td><td style=\"text-align: right;\">               0</td><td style=\"text-align: right;\">               0</td><td style=\"text-align: right;\">               0</td><td style=\"text-align: right;\">               0</td><td style=\"text-align: right;\">               0</td><td style=\"text-align: right;\">               0</td><td style=\"text-align: right;\">               0</td><td style=\"text-align: right;\">               0</td><td style=\"text-align: right;\">               0</td><td style=\"text-align: right;\">               0</td><td style=\"text-align: right;\">               0</td><td style=\"text-align: right;\">               0</td><td style=\"text-align: right;\">               0</td><td style=\"text-align: right;\">               0</td><td style=\"text-align: right;\">               0</td><td style=\"text-align: right;\">               0</td><td style=\"text-align: right;\">               0</td><td style=\"text-align: right;\">               0</td><td style=\"text-align: right;\">               0</td><td style=\"text-align: right;\">               0</td><td style=\"text-align: right;\">               0</td><td style=\"text-align: right;\">               0</td><td style=\"text-align: right;\">               0</td><td style=\"text-align: right;\">               0</td><td style=\"text-align: right;\">                0</td><td style=\"text-align: right;\">                0</td><td style=\"text-align: right;\">                0</td><td style=\"text-align: right;\">                0</td><td style=\"text-align: right;\">                0</td><td style=\"text-align: right;\">                0</td><td style=\"text-align: right;\">                0</td><td style=\"text-align: right;\">                0</td><td style=\"text-align: right;\">                0</td><td style=\"text-align: right;\">                0</td><td style=\"text-align: right;\">                0</td><td style=\"text-align: right;\">                0</td><td style=\"text-align: right;\">                0</td><td style=\"text-align: right;\">                0</td><td style=\"text-align: right;\">                0</td><td style=\"text-align: right;\">                1</td><td style=\"text-align: right;\">                0</td><td style=\"text-align: right;\">                1</td><td style=\"text-align: right;\">                0</td><td style=\"text-align: right;\">                0</td><td style=\"text-align: right;\">                0</td><td style=\"text-align: right;\">                0</td><td style=\"text-align: right;\">                0</td><td style=\"text-align: right;\">                0</td><td style=\"text-align: right;\">                0</td><td style=\"text-align: right;\">                0</td><td style=\"text-align: right;\">                0</td><td style=\"text-align: right;\">                0</td><td style=\"text-align: right;\">                0</td><td style=\"text-align: right;\">                0</td><td style=\"text-align: right;\">                0</td><td style=\"text-align: right;\">                0</td><td style=\"text-align: right;\">                0</td><td style=\"text-align: right;\">                0</td><td style=\"text-align: right;\">                0</td><td style=\"text-align: right;\">                0</td><td style=\"text-align: right;\">                0</td><td style=\"text-align: right;\">                0</td><td style=\"text-align: right;\">                0</td><td style=\"text-align: right;\">                0</td><td style=\"text-align: right;\">                0</td><td style=\"text-align: right;\">                0</td><td style=\"text-align: right;\">                0</td><td style=\"text-align: right;\">                0</td><td style=\"text-align: right;\">                0</td><td style=\"text-align: right;\">                0</td><td style=\"text-align: right;\">                0</td><td style=\"text-align: right;\">                0</td><td style=\"text-align: right;\">                0</td><td style=\"text-align: right;\">                0</td><td style=\"text-align: right;\">                0</td><td style=\"text-align: right;\">                0</td><td style=\"text-align: right;\">                0</td><td style=\"text-align: right;\">                0</td><td style=\"text-align: right;\">                0</td><td style=\"text-align: right;\">                0</td><td style=\"text-align: right;\">                0</td><td style=\"text-align: right;\">                0</td><td style=\"text-align: right;\">                0</td><td style=\"text-align: right;\">                0</td><td style=\"text-align: right;\">                0</td><td style=\"text-align: right;\">                0</td><td style=\"text-align: right;\">                0</td><td style=\"text-align: right;\">                0</td><td style=\"text-align: right;\">                0</td><td style=\"text-align: right;\">                0</td><td style=\"text-align: right;\">                0</td><td style=\"text-align: right;\">                0</td><td style=\"text-align: right;\">                0</td><td style=\"text-align: right;\">                0</td><td style=\"text-align: right;\">                0</td><td style=\"text-align: right;\">                1</td><td style=\"text-align: right;\">                1</td><td style=\"text-align: right;\">                1</td><td style=\"text-align: right;\">                1</td><td style=\"text-align: right;\">                1</td><td style=\"text-align: right;\">                1</td><td style=\"text-align: right;\">                1</td><td style=\"text-align: right;\">                1</td><td style=\"text-align: right;\">                0</td><td style=\"text-align: right;\">                0</td><td style=\"text-align: right;\">                0</td><td style=\"text-align: right;\">                0</td><td style=\"text-align: right;\">                0</td><td style=\"text-align: right;\">                0</td><td style=\"text-align: right;\">                0</td><td style=\"text-align: right;\">                0</td><td style=\"text-align: right;\">                0</td><td style=\"text-align: right;\">                0</td><td style=\"text-align: right;\">                0</td><td style=\"text-align: right;\">                0</td><td style=\"text-align: right;\">                0</td><td style=\"text-align: right;\">                0</td><td style=\"text-align: right;\">                0</td><td style=\"text-align: right;\">                0</td><td style=\"text-align: right;\">                0</td><td style=\"text-align: right;\">                0</td><td style=\"text-align: right;\">                0</td><td style=\"text-align: right;\">                0</td><td style=\"text-align: right;\">                0</td><td style=\"text-align: right;\">                0</td><td style=\"text-align: right;\">                0</td><td style=\"text-align: right;\">                0</td><td style=\"text-align: right;\">                0</td><td style=\"text-align: right;\">                0</td><td style=\"text-align: right;\">                0</td><td style=\"text-align: right;\">                0</td><td style=\"text-align: right;\">                0</td><td style=\"text-align: right;\">                1</td><td style=\"text-align: right;\">                1</td><td style=\"text-align: right;\">                0</td><td style=\"text-align: right;\">                0</td><td style=\"text-align: right;\">                0</td><td style=\"text-align: right;\">                0</td><td style=\"text-align: right;\">                1</td><td style=\"text-align: right;\">                0</td><td style=\"text-align: right;\">                0</td><td style=\"text-align: right;\">                0</td><td style=\"text-align: right;\">                0</td><td style=\"text-align: right;\">                0</td><td style=\"text-align: right;\">                0</td><td style=\"text-align: right;\">                0</td><td style=\"text-align: right;\">                0</td><td style=\"text-align: right;\">                0</td><td style=\"text-align: right;\">                1</td><td style=\"text-align: right;\">                1</td><td style=\"text-align: right;\">                1</td><td style=\"text-align: right;\">                1</td><td style=\"text-align: right;\">                1</td><td style=\"text-align: right;\">                1</td><td style=\"text-align: right;\">                1</td><td style=\"text-align: right;\">                1</td><td style=\"text-align: right;\">                1</td><td style=\"text-align: right;\">                1</td><td style=\"text-align: right;\">                1</td><td style=\"text-align: right;\">                1</td><td style=\"text-align: right;\">                1</td><td style=\"text-align: right;\">                1</td><td style=\"text-align: right;\">                1</td><td style=\"text-align: right;\">                1</td><td style=\"text-align: right;\">                0</td><td style=\"text-align: right;\">                0</td><td style=\"text-align: right;\">                0</td><td style=\"text-align: right;\">                0</td><td style=\"text-align: right;\">                0</td><td style=\"text-align: right;\">                0</td><td style=\"text-align: right;\">                1</td><td style=\"text-align: right;\">                1</td><td style=\"text-align: right;\">                1</td><td style=\"text-align: right;\">                1</td><td style=\"text-align: right;\">                1</td><td style=\"text-align: right;\">                0</td><td style=\"text-align: right;\">                1</td><td style=\"text-align: right;\">                1</td><td style=\"text-align: right;\">                0</td><td style=\"text-align: right;\">                0</td><td style=\"text-align: right;\">                0</td><td style=\"text-align: right;\">                0</td><td style=\"text-align: right;\">                0</td><td style=\"text-align: right;\">                0</td><td style=\"text-align: right;\">                0</td><td style=\"text-align: right;\">                0</td><td style=\"text-align: right;\">                0</td></tr>\n<tr><td>ERR067629 </td><td style=\"text-align: right;\">              0</td><td style=\"text-align: right;\">               0</td><td style=\"text-align: right;\">               0</td><td style=\"text-align: right;\">               0</td><td style=\"text-align: right;\">               0</td><td style=\"text-align: right;\">               0</td><td style=\"text-align: right;\">               0</td><td style=\"text-align: right;\">               0</td><td style=\"text-align: right;\">               0</td><td style=\"text-align: right;\">               0</td><td style=\"text-align: right;\">               0</td><td style=\"text-align: right;\">               0</td><td style=\"text-align: right;\">               0</td><td style=\"text-align: right;\">               0</td><td style=\"text-align: right;\">               0</td><td style=\"text-align: right;\">               0</td><td style=\"text-align: right;\">               0</td><td style=\"text-align: right;\">               0</td><td style=\"text-align: right;\">               0</td><td style=\"text-align: right;\">               0</td><td style=\"text-align: right;\">               0</td><td style=\"text-align: right;\">               0</td><td style=\"text-align: right;\">               0</td><td style=\"text-align: right;\">               0</td><td style=\"text-align: right;\">               0</td><td style=\"text-align: right;\">               0</td><td style=\"text-align: right;\">               0</td><td style=\"text-align: right;\">               0</td><td style=\"text-align: right;\">               0</td><td style=\"text-align: right;\">               0</td><td style=\"text-align: right;\">               0</td><td style=\"text-align: right;\">               0</td><td style=\"text-align: right;\">               0</td><td style=\"text-align: right;\">               0</td><td style=\"text-align: right;\">               0</td><td style=\"text-align: right;\">               0</td><td style=\"text-align: right;\">                0</td><td style=\"text-align: right;\">                0</td><td style=\"text-align: right;\">                0</td><td style=\"text-align: right;\">                0</td><td style=\"text-align: right;\">                0</td><td style=\"text-align: right;\">                0</td><td style=\"text-align: right;\">                0</td><td style=\"text-align: right;\">                0</td><td style=\"text-align: right;\">                0</td><td style=\"text-align: right;\">                0</td><td style=\"text-align: right;\">                0</td><td style=\"text-align: right;\">                0</td><td style=\"text-align: right;\">                0</td><td style=\"text-align: right;\">                0</td><td style=\"text-align: right;\">                0</td><td style=\"text-align: right;\">                0</td><td style=\"text-align: right;\">                0</td><td style=\"text-align: right;\">                0</td><td style=\"text-align: right;\">                0</td><td style=\"text-align: right;\">                0</td><td style=\"text-align: right;\">                0</td><td style=\"text-align: right;\">                0</td><td style=\"text-align: right;\">                0</td><td style=\"text-align: right;\">                0</td><td style=\"text-align: right;\">                0</td><td style=\"text-align: right;\">                0</td><td style=\"text-align: right;\">                0</td><td style=\"text-align: right;\">                0</td><td style=\"text-align: right;\">                0</td><td style=\"text-align: right;\">                0</td><td style=\"text-align: right;\">                0</td><td style=\"text-align: right;\">                0</td><td style=\"text-align: right;\">                0</td><td style=\"text-align: right;\">                0</td><td style=\"text-align: right;\">                0</td><td style=\"text-align: right;\">                0</td><td style=\"text-align: right;\">                0</td><td style=\"text-align: right;\">                0</td><td style=\"text-align: right;\">                0</td><td style=\"text-align: right;\">                0</td><td style=\"text-align: right;\">                0</td><td style=\"text-align: right;\">                0</td><td style=\"text-align: right;\">                0</td><td style=\"text-align: right;\">                0</td><td style=\"text-align: right;\">                0</td><td style=\"text-align: right;\">                0</td><td style=\"text-align: right;\">                0</td><td style=\"text-align: right;\">                0</td><td style=\"text-align: right;\">                0</td><td style=\"text-align: right;\">                0</td><td style=\"text-align: right;\">                0</td><td style=\"text-align: right;\">                0</td><td style=\"text-align: right;\">                0</td><td style=\"text-align: right;\">                0</td><td style=\"text-align: right;\">                0</td><td style=\"text-align: right;\">                0</td><td style=\"text-align: right;\">                0</td><td style=\"text-align: right;\">                0</td><td style=\"text-align: right;\">                0</td><td style=\"text-align: right;\">                0</td><td style=\"text-align: right;\">                0</td><td style=\"text-align: right;\">                0</td><td style=\"text-align: right;\">                0</td><td style=\"text-align: right;\">                0</td><td style=\"text-align: right;\">                0</td><td style=\"text-align: right;\">                0</td><td style=\"text-align: right;\">                0</td><td style=\"text-align: right;\">                0</td><td style=\"text-align: right;\">                0</td><td style=\"text-align: right;\">                0</td><td style=\"text-align: right;\">                0</td><td style=\"text-align: right;\">                0</td><td style=\"text-align: right;\">                0</td><td style=\"text-align: right;\">                0</td><td style=\"text-align: right;\">                0</td><td style=\"text-align: right;\">                0</td><td style=\"text-align: right;\">                0</td><td style=\"text-align: right;\">                0</td><td style=\"text-align: right;\">                0</td><td style=\"text-align: right;\">                0</td><td style=\"text-align: right;\">                0</td><td style=\"text-align: right;\">                0</td><td style=\"text-align: right;\">                0</td><td style=\"text-align: right;\">                0</td><td style=\"text-align: right;\">                0</td><td style=\"text-align: right;\">                0</td><td style=\"text-align: right;\">                0</td><td style=\"text-align: right;\">                0</td><td style=\"text-align: right;\">                0</td><td style=\"text-align: right;\">                0</td><td style=\"text-align: right;\">                0</td><td style=\"text-align: right;\">                0</td><td style=\"text-align: right;\">                0</td><td style=\"text-align: right;\">                0</td><td style=\"text-align: right;\">                0</td><td style=\"text-align: right;\">                0</td><td style=\"text-align: right;\">                0</td><td style=\"text-align: right;\">                0</td><td style=\"text-align: right;\">                0</td><td style=\"text-align: right;\">                0</td><td style=\"text-align: right;\">                0</td><td style=\"text-align: right;\">                0</td><td style=\"text-align: right;\">                0</td><td style=\"text-align: right;\">                0</td><td style=\"text-align: right;\">                0</td><td style=\"text-align: right;\">                0</td><td style=\"text-align: right;\">                0</td><td style=\"text-align: right;\">                0</td><td style=\"text-align: right;\">                0</td><td style=\"text-align: right;\">                0</td><td style=\"text-align: right;\">                0</td><td style=\"text-align: right;\">                0</td><td style=\"text-align: right;\">                0</td><td style=\"text-align: right;\">                0</td><td style=\"text-align: right;\">                0</td><td style=\"text-align: right;\">                0</td><td style=\"text-align: right;\">                0</td><td style=\"text-align: right;\">                0</td><td style=\"text-align: right;\">                0</td><td style=\"text-align: right;\">                0</td><td style=\"text-align: right;\">                0</td><td style=\"text-align: right;\">                0</td><td style=\"text-align: right;\">                0</td><td style=\"text-align: right;\">                0</td><td style=\"text-align: right;\">                0</td><td style=\"text-align: right;\">                0</td><td style=\"text-align: right;\">                0</td><td style=\"text-align: right;\">                0</td><td style=\"text-align: right;\">                0</td><td style=\"text-align: right;\">                0</td><td style=\"text-align: right;\">                0</td><td style=\"text-align: right;\">                0</td><td style=\"text-align: right;\">                0</td><td style=\"text-align: right;\">                0</td><td style=\"text-align: right;\">                0</td><td style=\"text-align: right;\">                0</td><td style=\"text-align: right;\">                0</td><td style=\"text-align: right;\">                0</td><td style=\"text-align: right;\">                0</td><td style=\"text-align: right;\">                0</td><td style=\"text-align: right;\">                0</td><td style=\"text-align: right;\">                0</td><td style=\"text-align: right;\">                0</td><td style=\"text-align: right;\">                0</td><td style=\"text-align: right;\">                0</td><td style=\"text-align: right;\">                0</td><td style=\"text-align: right;\">                0</td><td style=\"text-align: right;\">                0</td><td style=\"text-align: right;\">                0</td><td style=\"text-align: right;\">                0</td><td style=\"text-align: right;\">                0</td><td style=\"text-align: right;\">                0</td><td style=\"text-align: right;\">                0</td><td style=\"text-align: right;\">                0</td><td style=\"text-align: right;\">                0</td><td style=\"text-align: right;\">                0</td><td style=\"text-align: right;\">                0</td><td style=\"text-align: right;\">                0</td><td style=\"text-align: right;\">                0</td><td style=\"text-align: right;\">                0</td><td style=\"text-align: right;\">                0</td><td style=\"text-align: right;\">                0</td><td style=\"text-align: right;\">                0</td></tr>\n<tr><td>ERR067714 </td><td style=\"text-align: right;\">              0</td><td style=\"text-align: right;\">               0</td><td style=\"text-align: right;\">               0</td><td style=\"text-align: right;\">               0</td><td style=\"text-align: right;\">               0</td><td style=\"text-align: right;\">               0</td><td style=\"text-align: right;\">               0</td><td style=\"text-align: right;\">               0</td><td style=\"text-align: right;\">               0</td><td style=\"text-align: right;\">               0</td><td style=\"text-align: right;\">               0</td><td style=\"text-align: right;\">               0</td><td style=\"text-align: right;\">               0</td><td style=\"text-align: right;\">               0</td><td style=\"text-align: right;\">               0</td><td style=\"text-align: right;\">               0</td><td style=\"text-align: right;\">               0</td><td style=\"text-align: right;\">               0</td><td style=\"text-align: right;\">               0</td><td style=\"text-align: right;\">               0</td><td style=\"text-align: right;\">               0</td><td style=\"text-align: right;\">               0</td><td style=\"text-align: right;\">               0</td><td style=\"text-align: right;\">               0</td><td style=\"text-align: right;\">               0</td><td style=\"text-align: right;\">               0</td><td style=\"text-align: right;\">               0</td><td style=\"text-align: right;\">               0</td><td style=\"text-align: right;\">               0</td><td style=\"text-align: right;\">               0</td><td style=\"text-align: right;\">               0</td><td style=\"text-align: right;\">               0</td><td style=\"text-align: right;\">               0</td><td style=\"text-align: right;\">               0</td><td style=\"text-align: right;\">               0</td><td style=\"text-align: right;\">               0</td><td style=\"text-align: right;\">                0</td><td style=\"text-align: right;\">                0</td><td style=\"text-align: right;\">                0</td><td style=\"text-align: right;\">                0</td><td style=\"text-align: right;\">                0</td><td style=\"text-align: right;\">                0</td><td style=\"text-align: right;\">                0</td><td style=\"text-align: right;\">                0</td><td style=\"text-align: right;\">                0</td><td style=\"text-align: right;\">                0</td><td style=\"text-align: right;\">                0</td><td style=\"text-align: right;\">                0</td><td style=\"text-align: right;\">                0</td><td style=\"text-align: right;\">                0</td><td style=\"text-align: right;\">                0</td><td style=\"text-align: right;\">                0</td><td style=\"text-align: right;\">                0</td><td style=\"text-align: right;\">                0</td><td style=\"text-align: right;\">                0</td><td style=\"text-align: right;\">                0</td><td style=\"text-align: right;\">                0</td><td style=\"text-align: right;\">                0</td><td style=\"text-align: right;\">                0</td><td style=\"text-align: right;\">                0</td><td style=\"text-align: right;\">                0</td><td style=\"text-align: right;\">                0</td><td style=\"text-align: right;\">                0</td><td style=\"text-align: right;\">                0</td><td style=\"text-align: right;\">                0</td><td style=\"text-align: right;\">                0</td><td style=\"text-align: right;\">                0</td><td style=\"text-align: right;\">                0</td><td style=\"text-align: right;\">                0</td><td style=\"text-align: right;\">                0</td><td style=\"text-align: right;\">                0</td><td style=\"text-align: right;\">                0</td><td style=\"text-align: right;\">                0</td><td style=\"text-align: right;\">                0</td><td style=\"text-align: right;\">                0</td><td style=\"text-align: right;\">                0</td><td style=\"text-align: right;\">                0</td><td style=\"text-align: right;\">                0</td><td style=\"text-align: right;\">                0</td><td style=\"text-align: right;\">                0</td><td style=\"text-align: right;\">                0</td><td style=\"text-align: right;\">                0</td><td style=\"text-align: right;\">                0</td><td style=\"text-align: right;\">                0</td><td style=\"text-align: right;\">                0</td><td style=\"text-align: right;\">                0</td><td style=\"text-align: right;\">                0</td><td style=\"text-align: right;\">                0</td><td style=\"text-align: right;\">                0</td><td style=\"text-align: right;\">                0</td><td style=\"text-align: right;\">                0</td><td style=\"text-align: right;\">                0</td><td style=\"text-align: right;\">                0</td><td style=\"text-align: right;\">                0</td><td style=\"text-align: right;\">                0</td><td style=\"text-align: right;\">                0</td><td style=\"text-align: right;\">                0</td><td style=\"text-align: right;\">                0</td><td style=\"text-align: right;\">                0</td><td style=\"text-align: right;\">                0</td><td style=\"text-align: right;\">                0</td><td style=\"text-align: right;\">                0</td><td style=\"text-align: right;\">                0</td><td style=\"text-align: right;\">                0</td><td style=\"text-align: right;\">                0</td><td style=\"text-align: right;\">                0</td><td style=\"text-align: right;\">                0</td><td style=\"text-align: right;\">                0</td><td style=\"text-align: right;\">                0</td><td style=\"text-align: right;\">                0</td><td style=\"text-align: right;\">                0</td><td style=\"text-align: right;\">                0</td><td style=\"text-align: right;\">                0</td><td style=\"text-align: right;\">                0</td><td style=\"text-align: right;\">                0</td><td style=\"text-align: right;\">                0</td><td style=\"text-align: right;\">                0</td><td style=\"text-align: right;\">                0</td><td style=\"text-align: right;\">                0</td><td style=\"text-align: right;\">                0</td><td style=\"text-align: right;\">                0</td><td style=\"text-align: right;\">                0</td><td style=\"text-align: right;\">                0</td><td style=\"text-align: right;\">                0</td><td style=\"text-align: right;\">                0</td><td style=\"text-align: right;\">                0</td><td style=\"text-align: right;\">                0</td><td style=\"text-align: right;\">                0</td><td style=\"text-align: right;\">                0</td><td style=\"text-align: right;\">                0</td><td style=\"text-align: right;\">                0</td><td style=\"text-align: right;\">                0</td><td style=\"text-align: right;\">                0</td><td style=\"text-align: right;\">                0</td><td style=\"text-align: right;\">                0</td><td style=\"text-align: right;\">                0</td><td style=\"text-align: right;\">                0</td><td style=\"text-align: right;\">                0</td><td style=\"text-align: right;\">                0</td><td style=\"text-align: right;\">                0</td><td style=\"text-align: right;\">                0</td><td style=\"text-align: right;\">                0</td><td style=\"text-align: right;\">                0</td><td style=\"text-align: right;\">                0</td><td style=\"text-align: right;\">                0</td><td style=\"text-align: right;\">                0</td><td style=\"text-align: right;\">                0</td><td style=\"text-align: right;\">                0</td><td style=\"text-align: right;\">                0</td><td style=\"text-align: right;\">                0</td><td style=\"text-align: right;\">                0</td><td style=\"text-align: right;\">                0</td><td style=\"text-align: right;\">                0</td><td style=\"text-align: right;\">                0</td><td style=\"text-align: right;\">                0</td><td style=\"text-align: right;\">                0</td><td style=\"text-align: right;\">                0</td><td style=\"text-align: right;\">                0</td><td style=\"text-align: right;\">                0</td><td style=\"text-align: right;\">                0</td><td style=\"text-align: right;\">                0</td><td style=\"text-align: right;\">                0</td><td style=\"text-align: right;\">                0</td><td style=\"text-align: right;\">                0</td><td style=\"text-align: right;\">                0</td><td style=\"text-align: right;\">                0</td><td style=\"text-align: right;\">                0</td><td style=\"text-align: right;\">                0</td><td style=\"text-align: right;\">                0</td><td style=\"text-align: right;\">                0</td><td style=\"text-align: right;\">                0</td><td style=\"text-align: right;\">                0</td><td style=\"text-align: right;\">                0</td><td style=\"text-align: right;\">                0</td><td style=\"text-align: right;\">                0</td><td style=\"text-align: right;\">                0</td><td style=\"text-align: right;\">                0</td><td style=\"text-align: right;\">                0</td><td style=\"text-align: right;\">                0</td><td style=\"text-align: right;\">                0</td><td style=\"text-align: right;\">                0</td><td style=\"text-align: right;\">                0</td><td style=\"text-align: right;\">                0</td><td style=\"text-align: right;\">                0</td><td style=\"text-align: right;\">                0</td><td style=\"text-align: right;\">                0</td><td style=\"text-align: right;\">                0</td><td style=\"text-align: right;\">                0</td><td style=\"text-align: right;\">                0</td><td style=\"text-align: right;\">                0</td><td style=\"text-align: right;\">                0</td><td style=\"text-align: right;\">                0</td><td style=\"text-align: right;\">                0</td><td style=\"text-align: right;\">                0</td><td style=\"text-align: right;\">                0</td><td style=\"text-align: right;\">                0</td><td style=\"text-align: right;\">                0</td><td style=\"text-align: right;\">                0</td><td style=\"text-align: right;\">                0</td></tr>\n<tr><td>SRR5065314</td><td style=\"text-align: right;\">              0</td><td style=\"text-align: right;\">               0</td><td style=\"text-align: right;\">               0</td><td style=\"text-align: right;\">               0</td><td style=\"text-align: right;\">               0</td><td style=\"text-align: right;\">               0</td><td style=\"text-align: right;\">               0</td><td style=\"text-align: right;\">               0</td><td style=\"text-align: right;\">               0</td><td style=\"text-align: right;\">               0</td><td style=\"text-align: right;\">               0</td><td style=\"text-align: right;\">               0</td><td style=\"text-align: right;\">               0</td><td style=\"text-align: right;\">               0</td><td style=\"text-align: right;\">               0</td><td style=\"text-align: right;\">               0</td><td style=\"text-align: right;\">               0</td><td style=\"text-align: right;\">               0</td><td style=\"text-align: right;\">               0</td><td style=\"text-align: right;\">               0</td><td style=\"text-align: right;\">               0</td><td style=\"text-align: right;\">               0</td><td style=\"text-align: right;\">               0</td><td style=\"text-align: right;\">               0</td><td style=\"text-align: right;\">               0</td><td style=\"text-align: right;\">               0</td><td style=\"text-align: right;\">               0</td><td style=\"text-align: right;\">               0</td><td style=\"text-align: right;\">               0</td><td style=\"text-align: right;\">               0</td><td style=\"text-align: right;\">               0</td><td style=\"text-align: right;\">               0</td><td style=\"text-align: right;\">               0</td><td style=\"text-align: right;\">               0</td><td style=\"text-align: right;\">               0</td><td style=\"text-align: right;\">               0</td><td style=\"text-align: right;\">                0</td><td style=\"text-align: right;\">                0</td><td style=\"text-align: right;\">                0</td><td style=\"text-align: right;\">                0</td><td style=\"text-align: right;\">                0</td><td style=\"text-align: right;\">                0</td><td style=\"text-align: right;\">                0</td><td style=\"text-align: right;\">                0</td><td style=\"text-align: right;\">                0</td><td style=\"text-align: right;\">                0</td><td style=\"text-align: right;\">                0</td><td style=\"text-align: right;\">                0</td><td style=\"text-align: right;\">                0</td><td style=\"text-align: right;\">                0</td><td style=\"text-align: right;\">                0</td><td style=\"text-align: right;\">                0</td><td style=\"text-align: right;\">                0</td><td style=\"text-align: right;\">                0</td><td style=\"text-align: right;\">                0</td><td style=\"text-align: right;\">                0</td><td style=\"text-align: right;\">                0</td><td style=\"text-align: right;\">                0</td><td style=\"text-align: right;\">                0</td><td style=\"text-align: right;\">                0</td><td style=\"text-align: right;\">                0</td><td style=\"text-align: right;\">                0</td><td style=\"text-align: right;\">                0</td><td style=\"text-align: right;\">                0</td><td style=\"text-align: right;\">                0</td><td style=\"text-align: right;\">                0</td><td style=\"text-align: right;\">                0</td><td style=\"text-align: right;\">                0</td><td style=\"text-align: right;\">                0</td><td style=\"text-align: right;\">                0</td><td style=\"text-align: right;\">                0</td><td style=\"text-align: right;\">                0</td><td style=\"text-align: right;\">                0</td><td style=\"text-align: right;\">                0</td><td style=\"text-align: right;\">                0</td><td style=\"text-align: right;\">                0</td><td style=\"text-align: right;\">                0</td><td style=\"text-align: right;\">                0</td><td style=\"text-align: right;\">                0</td><td style=\"text-align: right;\">                0</td><td style=\"text-align: right;\">                0</td><td style=\"text-align: right;\">                0</td><td style=\"text-align: right;\">                0</td><td style=\"text-align: right;\">                0</td><td style=\"text-align: right;\">                0</td><td style=\"text-align: right;\">                0</td><td style=\"text-align: right;\">                0</td><td style=\"text-align: right;\">                0</td><td style=\"text-align: right;\">                0</td><td style=\"text-align: right;\">                0</td><td style=\"text-align: right;\">                0</td><td style=\"text-align: right;\">                0</td><td style=\"text-align: right;\">                0</td><td style=\"text-align: right;\">                0</td><td style=\"text-align: right;\">                0</td><td style=\"text-align: right;\">                0</td><td style=\"text-align: right;\">                0</td><td style=\"text-align: right;\">                0</td><td style=\"text-align: right;\">                0</td><td style=\"text-align: right;\">                0</td><td style=\"text-align: right;\">                0</td><td style=\"text-align: right;\">                0</td><td style=\"text-align: right;\">                0</td><td style=\"text-align: right;\">                0</td><td style=\"text-align: right;\">                0</td><td style=\"text-align: right;\">                0</td><td style=\"text-align: right;\">                0</td><td style=\"text-align: right;\">                0</td><td style=\"text-align: right;\">                0</td><td style=\"text-align: right;\">                0</td><td style=\"text-align: right;\">                0</td><td style=\"text-align: right;\">                0</td><td style=\"text-align: right;\">                0</td><td style=\"text-align: right;\">                0</td><td style=\"text-align: right;\">                0</td><td style=\"text-align: right;\">                0</td><td style=\"text-align: right;\">                0</td><td style=\"text-align: right;\">                0</td><td style=\"text-align: right;\">                0</td><td style=\"text-align: right;\">                0</td><td style=\"text-align: right;\">                0</td><td style=\"text-align: right;\">                0</td><td style=\"text-align: right;\">                0</td><td style=\"text-align: right;\">                0</td><td style=\"text-align: right;\">                0</td><td style=\"text-align: right;\">                0</td><td style=\"text-align: right;\">                0</td><td style=\"text-align: right;\">                0</td><td style=\"text-align: right;\">                0</td><td style=\"text-align: right;\">                0</td><td style=\"text-align: right;\">                0</td><td style=\"text-align: right;\">                0</td><td style=\"text-align: right;\">                0</td><td style=\"text-align: right;\">                0</td><td style=\"text-align: right;\">                0</td><td style=\"text-align: right;\">                0</td><td style=\"text-align: right;\">                0</td><td style=\"text-align: right;\">                0</td><td style=\"text-align: right;\">                0</td><td style=\"text-align: right;\">                0</td><td style=\"text-align: right;\">                0</td><td style=\"text-align: right;\">                0</td><td style=\"text-align: right;\">                0</td><td style=\"text-align: right;\">                0</td><td style=\"text-align: right;\">                0</td><td style=\"text-align: right;\">                0</td><td style=\"text-align: right;\">                0</td><td style=\"text-align: right;\">                0</td><td style=\"text-align: right;\">                0</td><td style=\"text-align: right;\">                0</td><td style=\"text-align: right;\">                0</td><td style=\"text-align: right;\">                0</td><td style=\"text-align: right;\">                0</td><td style=\"text-align: right;\">                0</td><td style=\"text-align: right;\">                0</td><td style=\"text-align: right;\">                0</td><td style=\"text-align: right;\">                0</td><td style=\"text-align: right;\">                0</td><td style=\"text-align: right;\">                0</td><td style=\"text-align: right;\">                0</td><td style=\"text-align: right;\">                0</td><td style=\"text-align: right;\">                0</td><td style=\"text-align: right;\">                0</td><td style=\"text-align: right;\">                0</td><td style=\"text-align: right;\">                0</td><td style=\"text-align: right;\">                0</td><td style=\"text-align: right;\">                0</td><td style=\"text-align: right;\">                0</td><td style=\"text-align: right;\">                0</td><td style=\"text-align: right;\">                0</td><td style=\"text-align: right;\">                0</td><td style=\"text-align: right;\">                0</td><td style=\"text-align: right;\">                0</td><td style=\"text-align: right;\">                0</td><td style=\"text-align: right;\">                0</td><td style=\"text-align: right;\">                0</td><td style=\"text-align: right;\">                0</td><td style=\"text-align: right;\">                0</td><td style=\"text-align: right;\">                0</td><td style=\"text-align: right;\">                0</td><td style=\"text-align: right;\">                0</td><td style=\"text-align: right;\">                0</td><td style=\"text-align: right;\">                0</td><td style=\"text-align: right;\">                0</td><td style=\"text-align: right;\">                0</td><td style=\"text-align: right;\">                0</td><td style=\"text-align: right;\">                0</td><td style=\"text-align: right;\">                0</td><td style=\"text-align: right;\">                0</td><td style=\"text-align: right;\">                0</td><td style=\"text-align: right;\">                0</td><td style=\"text-align: right;\">                0</td><td style=\"text-align: right;\">                0</td><td style=\"text-align: right;\">                0</td><td style=\"text-align: right;\">                0</td><td style=\"text-align: right;\">                0</td><td style=\"text-align: right;\">                0</td><td style=\"text-align: right;\">                0</td><td style=\"text-align: right;\">                0</td></tr>\n<tr><td>ERR067659 </td><td style=\"text-align: right;\">              0</td><td style=\"text-align: right;\">               0</td><td style=\"text-align: right;\">               0</td><td style=\"text-align: right;\">               0</td><td style=\"text-align: right;\">               0</td><td style=\"text-align: right;\">               0</td><td style=\"text-align: right;\">               0</td><td style=\"text-align: right;\">               0</td><td style=\"text-align: right;\">               0</td><td style=\"text-align: right;\">               0</td><td style=\"text-align: right;\">               0</td><td style=\"text-align: right;\">               0</td><td style=\"text-align: right;\">               0</td><td style=\"text-align: right;\">               0</td><td style=\"text-align: right;\">               0</td><td style=\"text-align: right;\">               0</td><td style=\"text-align: right;\">               0</td><td style=\"text-align: right;\">               0</td><td style=\"text-align: right;\">               0</td><td style=\"text-align: right;\">               0</td><td style=\"text-align: right;\">               0</td><td style=\"text-align: right;\">               0</td><td style=\"text-align: right;\">               0</td><td style=\"text-align: right;\">               0</td><td style=\"text-align: right;\">               0</td><td style=\"text-align: right;\">               0</td><td style=\"text-align: right;\">               0</td><td style=\"text-align: right;\">               0</td><td style=\"text-align: right;\">               0</td><td style=\"text-align: right;\">               0</td><td style=\"text-align: right;\">               0</td><td style=\"text-align: right;\">               0</td><td style=\"text-align: right;\">               0</td><td style=\"text-align: right;\">               0</td><td style=\"text-align: right;\">               0</td><td style=\"text-align: right;\">               0</td><td style=\"text-align: right;\">                0</td><td style=\"text-align: right;\">                0</td><td style=\"text-align: right;\">                0</td><td style=\"text-align: right;\">                0</td><td style=\"text-align: right;\">                0</td><td style=\"text-align: right;\">                0</td><td style=\"text-align: right;\">                0</td><td style=\"text-align: right;\">                0</td><td style=\"text-align: right;\">                0</td><td style=\"text-align: right;\">                0</td><td style=\"text-align: right;\">                0</td><td style=\"text-align: right;\">                0</td><td style=\"text-align: right;\">                0</td><td style=\"text-align: right;\">                0</td><td style=\"text-align: right;\">                0</td><td style=\"text-align: right;\">                0</td><td style=\"text-align: right;\">                0</td><td style=\"text-align: right;\">                0</td><td style=\"text-align: right;\">                0</td><td style=\"text-align: right;\">                0</td><td style=\"text-align: right;\">                0</td><td style=\"text-align: right;\">                0</td><td style=\"text-align: right;\">                0</td><td style=\"text-align: right;\">                0</td><td style=\"text-align: right;\">                0</td><td style=\"text-align: right;\">                0</td><td style=\"text-align: right;\">                0</td><td style=\"text-align: right;\">                0</td><td style=\"text-align: right;\">                0</td><td style=\"text-align: right;\">                0</td><td style=\"text-align: right;\">                0</td><td style=\"text-align: right;\">                0</td><td style=\"text-align: right;\">                0</td><td style=\"text-align: right;\">                0</td><td style=\"text-align: right;\">                0</td><td style=\"text-align: right;\">                0</td><td style=\"text-align: right;\">                0</td><td style=\"text-align: right;\">                0</td><td style=\"text-align: right;\">                0</td><td style=\"text-align: right;\">                0</td><td style=\"text-align: right;\">                0</td><td style=\"text-align: right;\">                0</td><td style=\"text-align: right;\">                0</td><td style=\"text-align: right;\">                0</td><td style=\"text-align: right;\">                0</td><td style=\"text-align: right;\">                0</td><td style=\"text-align: right;\">                0</td><td style=\"text-align: right;\">                0</td><td style=\"text-align: right;\">                0</td><td style=\"text-align: right;\">                0</td><td style=\"text-align: right;\">                0</td><td style=\"text-align: right;\">                0</td><td style=\"text-align: right;\">                0</td><td style=\"text-align: right;\">                0</td><td style=\"text-align: right;\">                0</td><td style=\"text-align: right;\">                0</td><td style=\"text-align: right;\">                0</td><td style=\"text-align: right;\">                0</td><td style=\"text-align: right;\">                0</td><td style=\"text-align: right;\">                0</td><td style=\"text-align: right;\">                0</td><td style=\"text-align: right;\">                0</td><td style=\"text-align: right;\">                0</td><td style=\"text-align: right;\">                0</td><td style=\"text-align: right;\">                0</td><td style=\"text-align: right;\">                0</td><td style=\"text-align: right;\">                0</td><td style=\"text-align: right;\">                0</td><td style=\"text-align: right;\">                0</td><td style=\"text-align: right;\">                0</td><td style=\"text-align: right;\">                0</td><td style=\"text-align: right;\">                0</td><td style=\"text-align: right;\">                0</td><td style=\"text-align: right;\">                0</td><td style=\"text-align: right;\">                0</td><td style=\"text-align: right;\">                0</td><td style=\"text-align: right;\">                0</td><td style=\"text-align: right;\">                0</td><td style=\"text-align: right;\">                0</td><td style=\"text-align: right;\">                0</td><td style=\"text-align: right;\">                0</td><td style=\"text-align: right;\">                0</td><td style=\"text-align: right;\">                0</td><td style=\"text-align: right;\">                0</td><td style=\"text-align: right;\">                0</td><td style=\"text-align: right;\">                0</td><td style=\"text-align: right;\">                0</td><td style=\"text-align: right;\">                0</td><td style=\"text-align: right;\">                0</td><td style=\"text-align: right;\">                0</td><td style=\"text-align: right;\">                0</td><td style=\"text-align: right;\">                0</td><td style=\"text-align: right;\">                0</td><td style=\"text-align: right;\">                0</td><td style=\"text-align: right;\">                0</td><td style=\"text-align: right;\">                0</td><td style=\"text-align: right;\">                0</td><td style=\"text-align: right;\">                0</td><td style=\"text-align: right;\">                0</td><td style=\"text-align: right;\">                0</td><td style=\"text-align: right;\">                0</td><td style=\"text-align: right;\">                0</td><td style=\"text-align: right;\">                0</td><td style=\"text-align: right;\">                0</td><td style=\"text-align: right;\">                0</td><td style=\"text-align: right;\">                0</td><td style=\"text-align: right;\">                0</td><td style=\"text-align: right;\">                0</td><td style=\"text-align: right;\">                0</td><td style=\"text-align: right;\">                0</td><td style=\"text-align: right;\">                0</td><td style=\"text-align: right;\">                0</td><td style=\"text-align: right;\">                0</td><td style=\"text-align: right;\">                0</td><td style=\"text-align: right;\">                0</td><td style=\"text-align: right;\">                0</td><td style=\"text-align: right;\">                0</td><td style=\"text-align: right;\">                0</td><td style=\"text-align: right;\">                0</td><td style=\"text-align: right;\">                0</td><td style=\"text-align: right;\">                0</td><td style=\"text-align: right;\">                0</td><td style=\"text-align: right;\">                0</td><td style=\"text-align: right;\">                0</td><td style=\"text-align: right;\">                0</td><td style=\"text-align: right;\">                0</td><td style=\"text-align: right;\">                0</td><td style=\"text-align: right;\">                0</td><td style=\"text-align: right;\">                0</td><td style=\"text-align: right;\">                0</td><td style=\"text-align: right;\">                0</td><td style=\"text-align: right;\">                0</td><td style=\"text-align: right;\">                0</td><td style=\"text-align: right;\">                0</td><td style=\"text-align: right;\">                0</td><td style=\"text-align: right;\">                0</td><td style=\"text-align: right;\">                0</td><td style=\"text-align: right;\">                0</td><td style=\"text-align: right;\">                0</td><td style=\"text-align: right;\">                0</td><td style=\"text-align: right;\">                0</td><td style=\"text-align: right;\">                0</td><td style=\"text-align: right;\">                0</td><td style=\"text-align: right;\">                0</td><td style=\"text-align: right;\">                0</td><td style=\"text-align: right;\">                0</td><td style=\"text-align: right;\">                0</td><td style=\"text-align: right;\">                0</td><td style=\"text-align: right;\">                0</td><td style=\"text-align: right;\">                0</td><td style=\"text-align: right;\">                0</td><td style=\"text-align: right;\">                0</td><td style=\"text-align: right;\">                0</td><td style=\"text-align: right;\">                0</td><td style=\"text-align: right;\">                0</td><td style=\"text-align: right;\">                0</td><td style=\"text-align: right;\">                0</td><td style=\"text-align: right;\">                0</td><td style=\"text-align: right;\">                0</td><td style=\"text-align: right;\">                0</td><td style=\"text-align: right;\">                0</td><td style=\"text-align: right;\">                0</td><td style=\"text-align: right;\">                0</td></tr>\n<tr><td>ERR067590 </td><td style=\"text-align: right;\">              0</td><td style=\"text-align: right;\">               0</td><td style=\"text-align: right;\">               0</td><td style=\"text-align: right;\">               0</td><td style=\"text-align: right;\">               0</td><td style=\"text-align: right;\">               0</td><td style=\"text-align: right;\">               0</td><td style=\"text-align: right;\">               0</td><td style=\"text-align: right;\">               0</td><td style=\"text-align: right;\">               0</td><td style=\"text-align: right;\">               0</td><td style=\"text-align: right;\">               0</td><td style=\"text-align: right;\">               0</td><td style=\"text-align: right;\">               0</td><td style=\"text-align: right;\">               0</td><td style=\"text-align: right;\">               0</td><td style=\"text-align: right;\">               0</td><td style=\"text-align: right;\">               0</td><td style=\"text-align: right;\">               0</td><td style=\"text-align: right;\">               0</td><td style=\"text-align: right;\">               0</td><td style=\"text-align: right;\">               0</td><td style=\"text-align: right;\">               0</td><td style=\"text-align: right;\">               0</td><td style=\"text-align: right;\">               0</td><td style=\"text-align: right;\">               0</td><td style=\"text-align: right;\">               0</td><td style=\"text-align: right;\">               0</td><td style=\"text-align: right;\">               0</td><td style=\"text-align: right;\">               0</td><td style=\"text-align: right;\">               0</td><td style=\"text-align: right;\">               0</td><td style=\"text-align: right;\">               0</td><td style=\"text-align: right;\">               0</td><td style=\"text-align: right;\">               0</td><td style=\"text-align: right;\">               0</td><td style=\"text-align: right;\">                0</td><td style=\"text-align: right;\">                0</td><td style=\"text-align: right;\">                0</td><td style=\"text-align: right;\">                0</td><td style=\"text-align: right;\">                0</td><td style=\"text-align: right;\">                0</td><td style=\"text-align: right;\">                0</td><td style=\"text-align: right;\">                0</td><td style=\"text-align: right;\">                0</td><td style=\"text-align: right;\">                0</td><td style=\"text-align: right;\">                0</td><td style=\"text-align: right;\">                0</td><td style=\"text-align: right;\">                0</td><td style=\"text-align: right;\">                0</td><td style=\"text-align: right;\">                0</td><td style=\"text-align: right;\">                0</td><td style=\"text-align: right;\">                0</td><td style=\"text-align: right;\">                0</td><td style=\"text-align: right;\">                0</td><td style=\"text-align: right;\">                0</td><td style=\"text-align: right;\">                0</td><td style=\"text-align: right;\">                0</td><td style=\"text-align: right;\">                0</td><td style=\"text-align: right;\">                0</td><td style=\"text-align: right;\">                0</td><td style=\"text-align: right;\">                0</td><td style=\"text-align: right;\">                0</td><td style=\"text-align: right;\">                0</td><td style=\"text-align: right;\">                0</td><td style=\"text-align: right;\">                0</td><td style=\"text-align: right;\">                0</td><td style=\"text-align: right;\">                0</td><td style=\"text-align: right;\">                0</td><td style=\"text-align: right;\">                0</td><td style=\"text-align: right;\">                0</td><td style=\"text-align: right;\">                0</td><td style=\"text-align: right;\">                0</td><td style=\"text-align: right;\">                0</td><td style=\"text-align: right;\">                0</td><td style=\"text-align: right;\">                0</td><td style=\"text-align: right;\">                0</td><td style=\"text-align: right;\">                0</td><td style=\"text-align: right;\">                0</td><td style=\"text-align: right;\">                0</td><td style=\"text-align: right;\">                0</td><td style=\"text-align: right;\">                0</td><td style=\"text-align: right;\">                0</td><td style=\"text-align: right;\">                0</td><td style=\"text-align: right;\">                0</td><td style=\"text-align: right;\">                0</td><td style=\"text-align: right;\">                0</td><td style=\"text-align: right;\">                0</td><td style=\"text-align: right;\">                0</td><td style=\"text-align: right;\">                0</td><td style=\"text-align: right;\">                0</td><td style=\"text-align: right;\">                0</td><td style=\"text-align: right;\">                0</td><td style=\"text-align: right;\">                0</td><td style=\"text-align: right;\">                0</td><td style=\"text-align: right;\">                0</td><td style=\"text-align: right;\">                0</td><td style=\"text-align: right;\">                0</td><td style=\"text-align: right;\">                0</td><td style=\"text-align: right;\">                0</td><td style=\"text-align: right;\">                0</td><td style=\"text-align: right;\">                0</td><td style=\"text-align: right;\">                0</td><td style=\"text-align: right;\">                0</td><td style=\"text-align: right;\">                0</td><td style=\"text-align: right;\">                0</td><td style=\"text-align: right;\">                0</td><td style=\"text-align: right;\">                0</td><td style=\"text-align: right;\">                0</td><td style=\"text-align: right;\">                0</td><td style=\"text-align: right;\">                0</td><td style=\"text-align: right;\">                0</td><td style=\"text-align: right;\">                0</td><td style=\"text-align: right;\">                0</td><td style=\"text-align: right;\">                0</td><td style=\"text-align: right;\">                0</td><td style=\"text-align: right;\">                0</td><td style=\"text-align: right;\">                0</td><td style=\"text-align: right;\">                0</td><td style=\"text-align: right;\">                0</td><td style=\"text-align: right;\">                0</td><td style=\"text-align: right;\">                0</td><td style=\"text-align: right;\">                0</td><td style=\"text-align: right;\">                0</td><td style=\"text-align: right;\">                0</td><td style=\"text-align: right;\">                0</td><td style=\"text-align: right;\">                0</td><td style=\"text-align: right;\">                0</td><td style=\"text-align: right;\">                0</td><td style=\"text-align: right;\">                0</td><td style=\"text-align: right;\">                0</td><td style=\"text-align: right;\">                0</td><td style=\"text-align: right;\">                0</td><td style=\"text-align: right;\">                0</td><td style=\"text-align: right;\">                0</td><td style=\"text-align: right;\">                0</td><td style=\"text-align: right;\">                0</td><td style=\"text-align: right;\">                0</td><td style=\"text-align: right;\">                0</td><td style=\"text-align: right;\">                0</td><td style=\"text-align: right;\">                0</td><td style=\"text-align: right;\">                0</td><td style=\"text-align: right;\">                0</td><td style=\"text-align: right;\">                0</td><td style=\"text-align: right;\">                0</td><td style=\"text-align: right;\">                0</td><td style=\"text-align: right;\">                0</td><td style=\"text-align: right;\">                0</td><td style=\"text-align: right;\">                0</td><td style=\"text-align: right;\">                0</td><td style=\"text-align: right;\">                0</td><td style=\"text-align: right;\">                0</td><td style=\"text-align: right;\">                0</td><td style=\"text-align: right;\">                0</td><td style=\"text-align: right;\">                0</td><td style=\"text-align: right;\">                0</td><td style=\"text-align: right;\">                0</td><td style=\"text-align: right;\">                0</td><td style=\"text-align: right;\">                0</td><td style=\"text-align: right;\">                0</td><td style=\"text-align: right;\">                0</td><td style=\"text-align: right;\">                0</td><td style=\"text-align: right;\">                0</td><td style=\"text-align: right;\">                0</td><td style=\"text-align: right;\">                0</td><td style=\"text-align: right;\">                0</td><td style=\"text-align: right;\">                0</td><td style=\"text-align: right;\">                0</td><td style=\"text-align: right;\">                0</td><td style=\"text-align: right;\">                0</td><td style=\"text-align: right;\">                0</td><td style=\"text-align: right;\">                0</td><td style=\"text-align: right;\">                0</td><td style=\"text-align: right;\">                0</td><td style=\"text-align: right;\">                0</td><td style=\"text-align: right;\">                0</td><td style=\"text-align: right;\">                0</td><td style=\"text-align: right;\">                0</td><td style=\"text-align: right;\">                0</td><td style=\"text-align: right;\">                0</td><td style=\"text-align: right;\">                0</td><td style=\"text-align: right;\">                0</td><td style=\"text-align: right;\">                0</td><td style=\"text-align: right;\">                0</td><td style=\"text-align: right;\">                0</td><td style=\"text-align: right;\">                0</td><td style=\"text-align: right;\">                0</td><td style=\"text-align: right;\">                0</td><td style=\"text-align: right;\">                0</td><td style=\"text-align: right;\">                0</td><td style=\"text-align: right;\">                0</td><td style=\"text-align: right;\">                0</td><td style=\"text-align: right;\">                0</td><td style=\"text-align: right;\">                0</td><td style=\"text-align: right;\">                0</td><td style=\"text-align: right;\">                0</td><td style=\"text-align: right;\">                0</td><td style=\"text-align: right;\">                0</td><td style=\"text-align: right;\">                0</td></tr>\n<tr><td>ERR688027 </td><td style=\"text-align: right;\">              0</td><td style=\"text-align: right;\">               0</td><td style=\"text-align: right;\">               0</td><td style=\"text-align: right;\">               0</td><td style=\"text-align: right;\">               0</td><td style=\"text-align: right;\">               0</td><td style=\"text-align: right;\">               0</td><td style=\"text-align: right;\">               0</td><td style=\"text-align: right;\">               0</td><td style=\"text-align: right;\">               0</td><td style=\"text-align: right;\">               0</td><td style=\"text-align: right;\">               0</td><td style=\"text-align: right;\">               0</td><td style=\"text-align: right;\">               0</td><td style=\"text-align: right;\">               0</td><td style=\"text-align: right;\">               0</td><td style=\"text-align: right;\">               0</td><td style=\"text-align: right;\">               0</td><td style=\"text-align: right;\">               0</td><td style=\"text-align: right;\">               0</td><td style=\"text-align: right;\">               0</td><td style=\"text-align: right;\">               0</td><td style=\"text-align: right;\">               0</td><td style=\"text-align: right;\">               0</td><td style=\"text-align: right;\">               0</td><td style=\"text-align: right;\">               0</td><td style=\"text-align: right;\">               0</td><td style=\"text-align: right;\">               0</td><td style=\"text-align: right;\">               0</td><td style=\"text-align: right;\">               0</td><td style=\"text-align: right;\">               0</td><td style=\"text-align: right;\">               0</td><td style=\"text-align: right;\">               0</td><td style=\"text-align: right;\">               0</td><td style=\"text-align: right;\">               0</td><td style=\"text-align: right;\">               0</td><td style=\"text-align: right;\">                0</td><td style=\"text-align: right;\">                0</td><td style=\"text-align: right;\">                0</td><td style=\"text-align: right;\">                0</td><td style=\"text-align: right;\">                0</td><td style=\"text-align: right;\">                0</td><td style=\"text-align: right;\">                0</td><td style=\"text-align: right;\">                0</td><td style=\"text-align: right;\">                0</td><td style=\"text-align: right;\">                0</td><td style=\"text-align: right;\">                0</td><td style=\"text-align: right;\">                0</td><td style=\"text-align: right;\">                0</td><td style=\"text-align: right;\">                0</td><td style=\"text-align: right;\">                0</td><td style=\"text-align: right;\">                0</td><td style=\"text-align: right;\">                0</td><td style=\"text-align: right;\">                0</td><td style=\"text-align: right;\">                0</td><td style=\"text-align: right;\">                0</td><td style=\"text-align: right;\">                0</td><td style=\"text-align: right;\">                0</td><td style=\"text-align: right;\">                0</td><td style=\"text-align: right;\">                0</td><td style=\"text-align: right;\">                0</td><td style=\"text-align: right;\">                0</td><td style=\"text-align: right;\">                0</td><td style=\"text-align: right;\">                0</td><td style=\"text-align: right;\">                0</td><td style=\"text-align: right;\">                0</td><td style=\"text-align: right;\">                0</td><td style=\"text-align: right;\">                0</td><td style=\"text-align: right;\">                0</td><td style=\"text-align: right;\">                0</td><td style=\"text-align: right;\">                0</td><td style=\"text-align: right;\">                0</td><td style=\"text-align: right;\">                0</td><td style=\"text-align: right;\">                0</td><td style=\"text-align: right;\">                0</td><td style=\"text-align: right;\">                0</td><td style=\"text-align: right;\">                0</td><td style=\"text-align: right;\">                0</td><td style=\"text-align: right;\">                0</td><td style=\"text-align: right;\">                0</td><td style=\"text-align: right;\">                0</td><td style=\"text-align: right;\">                0</td><td style=\"text-align: right;\">                0</td><td style=\"text-align: right;\">                0</td><td style=\"text-align: right;\">                0</td><td style=\"text-align: right;\">                0</td><td style=\"text-align: right;\">                0</td><td style=\"text-align: right;\">                0</td><td style=\"text-align: right;\">                0</td><td style=\"text-align: right;\">                0</td><td style=\"text-align: right;\">                0</td><td style=\"text-align: right;\">                0</td><td style=\"text-align: right;\">                0</td><td style=\"text-align: right;\">                0</td><td style=\"text-align: right;\">                0</td><td style=\"text-align: right;\">                0</td><td style=\"text-align: right;\">                0</td><td style=\"text-align: right;\">                0</td><td style=\"text-align: right;\">                0</td><td style=\"text-align: right;\">                0</td><td style=\"text-align: right;\">                0</td><td style=\"text-align: right;\">                0</td><td style=\"text-align: right;\">                0</td><td style=\"text-align: right;\">                0</td><td style=\"text-align: right;\">                0</td><td style=\"text-align: right;\">                0</td><td style=\"text-align: right;\">                0</td><td style=\"text-align: right;\">                0</td><td style=\"text-align: right;\">                0</td><td style=\"text-align: right;\">                0</td><td style=\"text-align: right;\">                0</td><td style=\"text-align: right;\">                0</td><td style=\"text-align: right;\">                0</td><td style=\"text-align: right;\">                0</td><td style=\"text-align: right;\">                0</td><td style=\"text-align: right;\">                0</td><td style=\"text-align: right;\">                0</td><td style=\"text-align: right;\">                0</td><td style=\"text-align: right;\">                0</td><td style=\"text-align: right;\">                0</td><td style=\"text-align: right;\">                0</td><td style=\"text-align: right;\">                0</td><td style=\"text-align: right;\">                0</td><td style=\"text-align: right;\">                0</td><td style=\"text-align: right;\">                0</td><td style=\"text-align: right;\">                0</td><td style=\"text-align: right;\">                0</td><td style=\"text-align: right;\">                0</td><td style=\"text-align: right;\">                0</td><td style=\"text-align: right;\">                0</td><td style=\"text-align: right;\">                0</td><td style=\"text-align: right;\">                0</td><td style=\"text-align: right;\">                0</td><td style=\"text-align: right;\">                0</td><td style=\"text-align: right;\">                0</td><td style=\"text-align: right;\">                0</td><td style=\"text-align: right;\">                0</td><td style=\"text-align: right;\">                0</td><td style=\"text-align: right;\">                0</td><td style=\"text-align: right;\">                0</td><td style=\"text-align: right;\">                0</td><td style=\"text-align: right;\">                0</td><td style=\"text-align: right;\">                0</td><td style=\"text-align: right;\">                0</td><td style=\"text-align: right;\">                0</td><td style=\"text-align: right;\">                0</td><td style=\"text-align: right;\">                0</td><td style=\"text-align: right;\">                0</td><td style=\"text-align: right;\">                0</td><td style=\"text-align: right;\">                0</td><td style=\"text-align: right;\">                0</td><td style=\"text-align: right;\">                0</td><td style=\"text-align: right;\">                0</td><td style=\"text-align: right;\">                0</td><td style=\"text-align: right;\">                0</td><td style=\"text-align: right;\">                0</td><td style=\"text-align: right;\">                0</td><td style=\"text-align: right;\">                0</td><td style=\"text-align: right;\">                0</td><td style=\"text-align: right;\">                0</td><td style=\"text-align: right;\">                0</td><td style=\"text-align: right;\">                0</td><td style=\"text-align: right;\">                0</td><td style=\"text-align: right;\">                0</td><td style=\"text-align: right;\">                0</td><td style=\"text-align: right;\">                0</td><td style=\"text-align: right;\">                0</td><td style=\"text-align: right;\">                0</td><td style=\"text-align: right;\">                0</td><td style=\"text-align: right;\">                0</td><td style=\"text-align: right;\">                0</td><td style=\"text-align: right;\">                0</td><td style=\"text-align: right;\">                0</td><td style=\"text-align: right;\">                0</td><td style=\"text-align: right;\">                0</td><td style=\"text-align: right;\">                0</td><td style=\"text-align: right;\">                0</td><td style=\"text-align: right;\">                0</td><td style=\"text-align: right;\">                0</td><td style=\"text-align: right;\">                0</td><td style=\"text-align: right;\">                0</td><td style=\"text-align: right;\">                0</td><td style=\"text-align: right;\">                0</td><td style=\"text-align: right;\">                0</td><td style=\"text-align: right;\">                0</td><td style=\"text-align: right;\">                0</td><td style=\"text-align: right;\">                0</td><td style=\"text-align: right;\">                0</td><td style=\"text-align: right;\">                0</td><td style=\"text-align: right;\">                0</td><td style=\"text-align: right;\">                0</td><td style=\"text-align: right;\">                0</td><td style=\"text-align: right;\">                0</td><td style=\"text-align: right;\">                0</td><td style=\"text-align: right;\">                0</td><td style=\"text-align: right;\">                0</td><td style=\"text-align: right;\">                0</td><td style=\"text-align: right;\">                0</td><td style=\"text-align: right;\">                0</td></tr>\n<tr><td>ERR3335727</td><td style=\"text-align: right;\">              0</td><td style=\"text-align: right;\">               0</td><td style=\"text-align: right;\">               0</td><td style=\"text-align: right;\">               0</td><td style=\"text-align: right;\">               0</td><td style=\"text-align: right;\">               0</td><td style=\"text-align: right;\">               0</td><td style=\"text-align: right;\">               0</td><td style=\"text-align: right;\">               0</td><td style=\"text-align: right;\">               0</td><td style=\"text-align: right;\">               0</td><td style=\"text-align: right;\">               0</td><td style=\"text-align: right;\">               0</td><td style=\"text-align: right;\">               0</td><td style=\"text-align: right;\">               0</td><td style=\"text-align: right;\">               0</td><td style=\"text-align: right;\">               0</td><td style=\"text-align: right;\">               0</td><td style=\"text-align: right;\">               0</td><td style=\"text-align: right;\">               0</td><td style=\"text-align: right;\">               0</td><td style=\"text-align: right;\">               0</td><td style=\"text-align: right;\">               0</td><td style=\"text-align: right;\">               0</td><td style=\"text-align: right;\">               0</td><td style=\"text-align: right;\">               0</td><td style=\"text-align: right;\">               0</td><td style=\"text-align: right;\">               0</td><td style=\"text-align: right;\">               0</td><td style=\"text-align: right;\">               0</td><td style=\"text-align: right;\">               0</td><td style=\"text-align: right;\">               0</td><td style=\"text-align: right;\">               0</td><td style=\"text-align: right;\">               0</td><td style=\"text-align: right;\">               0</td><td style=\"text-align: right;\">               0</td><td style=\"text-align: right;\">                0</td><td style=\"text-align: right;\">                0</td><td style=\"text-align: right;\">                0</td><td style=\"text-align: right;\">                0</td><td style=\"text-align: right;\">                0</td><td style=\"text-align: right;\">                0</td><td style=\"text-align: right;\">                0</td><td style=\"text-align: right;\">                0</td><td style=\"text-align: right;\">                0</td><td style=\"text-align: right;\">                0</td><td style=\"text-align: right;\">                0</td><td style=\"text-align: right;\">                0</td><td style=\"text-align: right;\">                0</td><td style=\"text-align: right;\">                0</td><td style=\"text-align: right;\">                0</td><td style=\"text-align: right;\">                0</td><td style=\"text-align: right;\">                0</td><td style=\"text-align: right;\">                0</td><td style=\"text-align: right;\">                0</td><td style=\"text-align: right;\">                0</td><td style=\"text-align: right;\">                0</td><td style=\"text-align: right;\">                0</td><td style=\"text-align: right;\">                0</td><td style=\"text-align: right;\">                0</td><td style=\"text-align: right;\">                0</td><td style=\"text-align: right;\">                0</td><td style=\"text-align: right;\">                0</td><td style=\"text-align: right;\">                0</td><td style=\"text-align: right;\">                0</td><td style=\"text-align: right;\">                0</td><td style=\"text-align: right;\">                0</td><td style=\"text-align: right;\">                0</td><td style=\"text-align: right;\">                0</td><td style=\"text-align: right;\">                0</td><td style=\"text-align: right;\">                0</td><td style=\"text-align: right;\">                0</td><td style=\"text-align: right;\">                0</td><td style=\"text-align: right;\">                0</td><td style=\"text-align: right;\">                0</td><td style=\"text-align: right;\">                0</td><td style=\"text-align: right;\">                0</td><td style=\"text-align: right;\">                0</td><td style=\"text-align: right;\">                0</td><td style=\"text-align: right;\">                0</td><td style=\"text-align: right;\">                0</td><td style=\"text-align: right;\">                0</td><td style=\"text-align: right;\">                0</td><td style=\"text-align: right;\">                0</td><td style=\"text-align: right;\">                0</td><td style=\"text-align: right;\">                0</td><td style=\"text-align: right;\">                0</td><td style=\"text-align: right;\">                0</td><td style=\"text-align: right;\">                0</td><td style=\"text-align: right;\">                0</td><td style=\"text-align: right;\">                0</td><td style=\"text-align: right;\">                0</td><td style=\"text-align: right;\">                0</td><td style=\"text-align: right;\">                0</td><td style=\"text-align: right;\">                0</td><td style=\"text-align: right;\">                0</td><td style=\"text-align: right;\">                0</td><td style=\"text-align: right;\">                0</td><td style=\"text-align: right;\">                0</td><td style=\"text-align: right;\">                0</td><td style=\"text-align: right;\">                0</td><td style=\"text-align: right;\">                0</td><td style=\"text-align: right;\">                0</td><td style=\"text-align: right;\">                0</td><td style=\"text-align: right;\">                0</td><td style=\"text-align: right;\">                0</td><td style=\"text-align: right;\">                0</td><td style=\"text-align: right;\">                0</td><td style=\"text-align: right;\">                0</td><td style=\"text-align: right;\">                0</td><td style=\"text-align: right;\">                0</td><td style=\"text-align: right;\">                0</td><td style=\"text-align: right;\">                0</td><td style=\"text-align: right;\">                0</td><td style=\"text-align: right;\">                0</td><td style=\"text-align: right;\">                0</td><td style=\"text-align: right;\">                0</td><td style=\"text-align: right;\">                0</td><td style=\"text-align: right;\">                0</td><td style=\"text-align: right;\">                0</td><td style=\"text-align: right;\">                0</td><td style=\"text-align: right;\">                0</td><td style=\"text-align: right;\">                0</td><td style=\"text-align: right;\">                0</td><td style=\"text-align: right;\">                0</td><td style=\"text-align: right;\">                0</td><td style=\"text-align: right;\">                0</td><td style=\"text-align: right;\">                0</td><td style=\"text-align: right;\">                0</td><td style=\"text-align: right;\">                0</td><td style=\"text-align: right;\">                0</td><td style=\"text-align: right;\">                0</td><td style=\"text-align: right;\">                0</td><td style=\"text-align: right;\">                0</td><td style=\"text-align: right;\">                0</td><td style=\"text-align: right;\">                0</td><td style=\"text-align: right;\">                0</td><td style=\"text-align: right;\">                0</td><td style=\"text-align: right;\">                0</td><td style=\"text-align: right;\">                0</td><td style=\"text-align: right;\">                0</td><td style=\"text-align: right;\">                0</td><td style=\"text-align: right;\">                0</td><td style=\"text-align: right;\">                0</td><td style=\"text-align: right;\">                0</td><td style=\"text-align: right;\">                0</td><td style=\"text-align: right;\">                0</td><td style=\"text-align: right;\">                0</td><td style=\"text-align: right;\">                0</td><td style=\"text-align: right;\">                0</td><td style=\"text-align: right;\">                0</td><td style=\"text-align: right;\">                0</td><td style=\"text-align: right;\">                0</td><td style=\"text-align: right;\">                0</td><td style=\"text-align: right;\">                0</td><td style=\"text-align: right;\">                0</td><td style=\"text-align: right;\">                0</td><td style=\"text-align: right;\">                0</td><td style=\"text-align: right;\">                0</td><td style=\"text-align: right;\">                0</td><td style=\"text-align: right;\">                0</td><td style=\"text-align: right;\">                0</td><td style=\"text-align: right;\">                0</td><td style=\"text-align: right;\">                0</td><td style=\"text-align: right;\">                0</td><td style=\"text-align: right;\">                0</td><td style=\"text-align: right;\">                0</td><td style=\"text-align: right;\">                0</td><td style=\"text-align: right;\">                0</td><td style=\"text-align: right;\">                0</td><td style=\"text-align: right;\">                0</td><td style=\"text-align: right;\">                0</td><td style=\"text-align: right;\">                0</td><td style=\"text-align: right;\">                0</td><td style=\"text-align: right;\">                0</td><td style=\"text-align: right;\">                0</td><td style=\"text-align: right;\">                0</td><td style=\"text-align: right;\">                0</td><td style=\"text-align: right;\">                0</td><td style=\"text-align: right;\">                0</td><td style=\"text-align: right;\">                0</td><td style=\"text-align: right;\">                0</td><td style=\"text-align: right;\">                0</td><td style=\"text-align: right;\">                0</td><td style=\"text-align: right;\">                0</td><td style=\"text-align: right;\">                0</td><td style=\"text-align: right;\">                0</td><td style=\"text-align: right;\">                0</td><td style=\"text-align: right;\">                0</td><td style=\"text-align: right;\">                0</td><td style=\"text-align: right;\">                0</td><td style=\"text-align: right;\">                0</td><td style=\"text-align: right;\">                0</td><td style=\"text-align: right;\">                0</td><td style=\"text-align: right;\">                0</td><td style=\"text-align: right;\">                0</td><td style=\"text-align: right;\">                0</td><td style=\"text-align: right;\">                0</td><td style=\"text-align: right;\">                0</td></tr>\n<tr><td>ERR3335759</td><td style=\"text-align: right;\">              0</td><td style=\"text-align: right;\">               0</td><td style=\"text-align: right;\">               0</td><td style=\"text-align: right;\">               0</td><td style=\"text-align: right;\">               0</td><td style=\"text-align: right;\">               0</td><td style=\"text-align: right;\">               0</td><td style=\"text-align: right;\">               0</td><td style=\"text-align: right;\">               0</td><td style=\"text-align: right;\">               0</td><td style=\"text-align: right;\">               0</td><td style=\"text-align: right;\">               0</td><td style=\"text-align: right;\">               0</td><td style=\"text-align: right;\">               0</td><td style=\"text-align: right;\">               0</td><td style=\"text-align: right;\">               0</td><td style=\"text-align: right;\">               0</td><td style=\"text-align: right;\">               0</td><td style=\"text-align: right;\">               0</td><td style=\"text-align: right;\">               0</td><td style=\"text-align: right;\">               0</td><td style=\"text-align: right;\">               0</td><td style=\"text-align: right;\">               0</td><td style=\"text-align: right;\">               0</td><td style=\"text-align: right;\">               0</td><td style=\"text-align: right;\">               0</td><td style=\"text-align: right;\">               0</td><td style=\"text-align: right;\">               0</td><td style=\"text-align: right;\">               0</td><td style=\"text-align: right;\">               0</td><td style=\"text-align: right;\">               0</td><td style=\"text-align: right;\">               0</td><td style=\"text-align: right;\">               0</td><td style=\"text-align: right;\">               0</td><td style=\"text-align: right;\">               0</td><td style=\"text-align: right;\">               0</td><td style=\"text-align: right;\">                0</td><td style=\"text-align: right;\">                0</td><td style=\"text-align: right;\">                0</td><td style=\"text-align: right;\">                0</td><td style=\"text-align: right;\">                0</td><td style=\"text-align: right;\">                0</td><td style=\"text-align: right;\">                0</td><td style=\"text-align: right;\">                0</td><td style=\"text-align: right;\">                0</td><td style=\"text-align: right;\">                0</td><td style=\"text-align: right;\">                0</td><td style=\"text-align: right;\">                0</td><td style=\"text-align: right;\">                0</td><td style=\"text-align: right;\">                0</td><td style=\"text-align: right;\">                0</td><td style=\"text-align: right;\">                0</td><td style=\"text-align: right;\">                0</td><td style=\"text-align: right;\">                0</td><td style=\"text-align: right;\">                0</td><td style=\"text-align: right;\">                0</td><td style=\"text-align: right;\">                0</td><td style=\"text-align: right;\">                0</td><td style=\"text-align: right;\">                0</td><td style=\"text-align: right;\">                0</td><td style=\"text-align: right;\">                0</td><td style=\"text-align: right;\">                0</td><td style=\"text-align: right;\">                0</td><td style=\"text-align: right;\">                0</td><td style=\"text-align: right;\">                0</td><td style=\"text-align: right;\">                0</td><td style=\"text-align: right;\">                0</td><td style=\"text-align: right;\">                0</td><td style=\"text-align: right;\">                0</td><td style=\"text-align: right;\">                0</td><td style=\"text-align: right;\">                0</td><td style=\"text-align: right;\">                0</td><td style=\"text-align: right;\">                0</td><td style=\"text-align: right;\">                0</td><td style=\"text-align: right;\">                0</td><td style=\"text-align: right;\">                0</td><td style=\"text-align: right;\">                0</td><td style=\"text-align: right;\">                0</td><td style=\"text-align: right;\">                0</td><td style=\"text-align: right;\">                0</td><td style=\"text-align: right;\">                0</td><td style=\"text-align: right;\">                0</td><td style=\"text-align: right;\">                0</td><td style=\"text-align: right;\">                0</td><td style=\"text-align: right;\">                0</td><td style=\"text-align: right;\">                0</td><td style=\"text-align: right;\">                0</td><td style=\"text-align: right;\">                0</td><td style=\"text-align: right;\">                0</td><td style=\"text-align: right;\">                0</td><td style=\"text-align: right;\">                0</td><td style=\"text-align: right;\">                0</td><td style=\"text-align: right;\">                0</td><td style=\"text-align: right;\">                0</td><td style=\"text-align: right;\">                0</td><td style=\"text-align: right;\">                0</td><td style=\"text-align: right;\">                0</td><td style=\"text-align: right;\">                0</td><td style=\"text-align: right;\">                0</td><td style=\"text-align: right;\">                0</td><td style=\"text-align: right;\">                0</td><td style=\"text-align: right;\">                0</td><td style=\"text-align: right;\">                0</td><td style=\"text-align: right;\">                0</td><td style=\"text-align: right;\">                0</td><td style=\"text-align: right;\">                0</td><td style=\"text-align: right;\">                0</td><td style=\"text-align: right;\">                0</td><td style=\"text-align: right;\">                0</td><td style=\"text-align: right;\">                0</td><td style=\"text-align: right;\">                0</td><td style=\"text-align: right;\">                0</td><td style=\"text-align: right;\">                0</td><td style=\"text-align: right;\">                0</td><td style=\"text-align: right;\">                0</td><td style=\"text-align: right;\">                0</td><td style=\"text-align: right;\">                0</td><td style=\"text-align: right;\">                0</td><td style=\"text-align: right;\">                0</td><td style=\"text-align: right;\">                0</td><td style=\"text-align: right;\">                0</td><td style=\"text-align: right;\">                0</td><td style=\"text-align: right;\">                0</td><td style=\"text-align: right;\">                0</td><td style=\"text-align: right;\">                0</td><td style=\"text-align: right;\">                0</td><td style=\"text-align: right;\">                0</td><td style=\"text-align: right;\">                0</td><td style=\"text-align: right;\">                0</td><td style=\"text-align: right;\">                0</td><td style=\"text-align: right;\">                0</td><td style=\"text-align: right;\">                0</td><td style=\"text-align: right;\">                0</td><td style=\"text-align: right;\">                0</td><td style=\"text-align: right;\">                0</td><td style=\"text-align: right;\">                0</td><td style=\"text-align: right;\">                0</td><td style=\"text-align: right;\">                0</td><td style=\"text-align: right;\">                0</td><td style=\"text-align: right;\">                0</td><td style=\"text-align: right;\">                0</td><td style=\"text-align: right;\">                0</td><td style=\"text-align: right;\">                0</td><td style=\"text-align: right;\">                0</td><td style=\"text-align: right;\">                0</td><td style=\"text-align: right;\">                0</td><td style=\"text-align: right;\">                0</td><td style=\"text-align: right;\">                0</td><td style=\"text-align: right;\">                0</td><td style=\"text-align: right;\">                0</td><td style=\"text-align: right;\">                0</td><td style=\"text-align: right;\">                0</td><td style=\"text-align: right;\">                0</td><td style=\"text-align: right;\">                0</td><td style=\"text-align: right;\">                0</td><td style=\"text-align: right;\">                0</td><td style=\"text-align: right;\">                0</td><td style=\"text-align: right;\">                0</td><td style=\"text-align: right;\">                0</td><td style=\"text-align: right;\">                0</td><td style=\"text-align: right;\">                0</td><td style=\"text-align: right;\">                0</td><td style=\"text-align: right;\">                0</td><td style=\"text-align: right;\">                0</td><td style=\"text-align: right;\">                0</td><td style=\"text-align: right;\">                0</td><td style=\"text-align: right;\">                0</td><td style=\"text-align: right;\">                0</td><td style=\"text-align: right;\">                0</td><td style=\"text-align: right;\">                0</td><td style=\"text-align: right;\">                0</td><td style=\"text-align: right;\">                0</td><td style=\"text-align: right;\">                0</td><td style=\"text-align: right;\">                0</td><td style=\"text-align: right;\">                0</td><td style=\"text-align: right;\">                0</td><td style=\"text-align: right;\">                0</td><td style=\"text-align: right;\">                0</td><td style=\"text-align: right;\">                0</td><td style=\"text-align: right;\">                0</td><td style=\"text-align: right;\">                0</td><td style=\"text-align: right;\">                0</td><td style=\"text-align: right;\">                0</td><td style=\"text-align: right;\">                0</td><td style=\"text-align: right;\">                0</td><td style=\"text-align: right;\">                0</td><td style=\"text-align: right;\">                0</td><td style=\"text-align: right;\">                0</td><td style=\"text-align: right;\">                0</td><td style=\"text-align: right;\">                0</td><td style=\"text-align: right;\">                0</td><td style=\"text-align: right;\">                0</td><td style=\"text-align: right;\">                0</td><td style=\"text-align: right;\">                0</td><td style=\"text-align: right;\">                0</td><td style=\"text-align: right;\">                0</td><td style=\"text-align: right;\">                0</td><td style=\"text-align: right;\">                0</td><td style=\"text-align: right;\">                0</td></tr>\n</tbody>\n</table>"
          },
          "metadata": {}
        },
        {
          "output_type": "execute_result",
          "execution_count": 18,
          "data": {
            "text/plain": ""
          },
          "metadata": {}
        }
      ],
      "execution_count": 18,
      "metadata": {
        "collapsed": true,
        "jupyter": {
          "source_hidden": false,
          "outputs_hidden": false
        },
        "nteract": {
          "transient": {
            "deleting": false
          }
        },
        "gather": {
          "logged": 1604407558991
        }
      }
    },
    {
      "cell_type": "code",
      "source": [
        "# Identify predictors and response\r\n",
        "train_predictor_cols = train.columns\r\n",
        "train_response_col = \"Resistance_Status\"\r\n",
        "train_predictor_cols.remove('SampleID')\r\n",
        "train_predictor_cols.remove(train_response_col)\r\n",
        "print(\"train frame - predictor column: \", train_predictor_cols[0], train_predictor_cols[-1])\r\n",
        "print(\"train frame - response column: \", train_response_col)\r\n",
        "\r\n",
        "\r\n",
        "\r\n",
        "# Identify predictors and response\r\n",
        "test_predictor_cols = test.columns\r\n",
        "test_response_col = \"Resistance_Status\"\r\n",
        "test_predictor_cols.remove('SampleID')\r\n",
        "test_predictor_cols.remove(test_response_col)\r\n",
        "print(\"test frame - predictor columns: \", test_predictor_cols[0], test_predictor_cols[-1])\r\n",
        "print(\"test frame - response column: \", test_response_col)"
      ],
      "outputs": [
        {
          "output_type": "stream",
          "name": "stdout",
          "text": [
            "train frame - predictor column:  NC000962_3.22 NC000962_3.4411327\n",
            "train frame - response column:  Resistance_Status\n",
            "test frame - predictor columns:  NC000962_3.22 NC000962_3.4411327\n",
            "test frame - response column:  Resistance_Status\n"
          ]
        }
      ],
      "execution_count": 19,
      "metadata": {
        "collapsed": true,
        "jupyter": {
          "source_hidden": false,
          "outputs_hidden": false
        },
        "nteract": {
          "transient": {
            "deleting": false
          }
        },
        "gather": {
          "logged": 1604407559406
        }
      }
    },
    {
      "cell_type": "code",
      "source": [
        "\r\n",
        "# For binary classification, response should be a factor\r\n",
        "train[train_response_col] = train[train_response_col].asfactor()\r\n",
        "test[test_response_col] = test[test_response_col].asfactor()\r\n",
        "\r\n",
        "\r\n",
        "# Number of CV folds (to generate level-one data for stacking)\r\n",
        "nfolds = 5\r\n",
        "\r\n",
        "MAX_GRID_MODELS = 10\r\n",
        "\r\n",
        "\r\n",
        "\r\n",
        "x = train_predictor_cols\r\n",
        "y = train_response_col\r\n",
        "\r\n"
      ],
      "outputs": [],
      "execution_count": 20,
      "metadata": {
        "collapsed": true,
        "jupyter": {
          "source_hidden": false,
          "outputs_hidden": false
        },
        "nteract": {
          "transient": {
            "deleting": false
          }
        },
        "gather": {
          "logged": 1604407559716
        }
      }
    },
    {
      "cell_type": "markdown",
      "source": [
        "## Naive-Bayes"
      ],
      "metadata": {
        "nteract": {
          "transient": {
            "deleting": false
          }
        }
      }
    },
    {
      "cell_type": "code",
      "source": [
        "from h2o.grid.grid_search import H2OGridSearch\r\n",
        "from h2o.estimators import H2ONaiveBayesEstimator\r\n",
        "\r\n",
        "\r\n",
        "\r\n",
        "hyper_params = {\r\n",
        "                \"laplace\": [0.1, 0.3, 0.6, 0.9, 1.0],\r\n",
        "                \"min_sdev\":[0.1, 0.3, 0.6, 0.9, 1.0],\r\n",
        "                \"eps_sdev\":[0.1, 0.3, 0.6, 0.9, 1.0],\r\n",
        "                \"min_prob\":[0.1, 0.3, 0.6, 0.9, 1.0],\r\n",
        "                \"eps_prob\":[0.1, 0.3, 0.6, 0.9, 1.0],\r\n",
        "                \"compute_metrics\": [True, False]\r\n",
        "                }\r\n",
        "\r\n",
        "search_criteria = {\"strategy\": \"RandomDiscrete\", \r\n",
        "                   \"max_models\": MAX_GRID_MODELS}\r\n",
        "\r\n",
        "\r\n",
        "\r\n",
        "# Train and cross-validate a NB\r\n",
        "base_model = H2ONaiveBayesEstimator(\r\n",
        "                                 nfolds=nfolds, \r\n",
        "                                 fold_assignment = \"random\",\r\n",
        "                                 keep_cross_validation_predictions = True,\r\n",
        "                                 seed=1234)\r\n",
        "\r\n",
        "\r\n",
        "\r\n",
        "\r\n",
        "# Train the grid\r\n",
        "nb_grid = H2OGridSearch(model=base_model,\r\n",
        "                     hyper_params=hyper_params,\r\n",
        "                     search_criteria=search_criteria)\r\n",
        "\r\n",
        "\r\n",
        "nb_grid.train(x=x, y=y, training_frame=train, validation_frame=test) \r\n",
        "\r\n"
      ],
      "outputs": [
        {
          "output_type": "stream",
          "name": "stdout",
          "text": [
            "naivebayes Grid Build progress: |█████████████████████████████████████████| 100%\n"
          ]
        }
      ],
      "execution_count": 22,
      "metadata": {
        "collapsed": true,
        "jupyter": {
          "source_hidden": false,
          "outputs_hidden": false
        },
        "nteract": {
          "transient": {
            "deleting": false
          }
        },
        "gather": {
          "logged": 1604232674565
        }
      }
    },
    {
      "cell_type": "code",
      "source": [
        "sorted_grid = nb_grid.get_grid(sort_by='auc', decreasing=True)\r\n",
        "sorted_grid"
      ],
      "outputs": [
        {
          "output_type": "stream",
          "name": "stdout",
          "text": [
            "     compute_metrics eps_prob eps_sdev laplace min_prob min_sdev  \\\n",
            "0               true      0.1      0.9     0.6      0.9      0.6   \n",
            "1              false      0.1      0.9     0.3      0.9      1.0   \n",
            "2               true      0.1      1.0     1.0      0.1      0.1   \n",
            "3               true      0.3      1.0     1.0      0.3      0.3   \n",
            "4               true      0.3      1.0     0.1      0.3      0.9   \n",
            "5               true      0.6      1.0     0.6      0.3      0.3   \n",
            "6              false      0.6      0.6     0.9      1.0      0.1   \n",
            "7              false      0.9      0.9     0.1      1.0      0.1   \n",
            "8               true      0.3      0.9     0.1      0.6      0.1   \n",
            "9               true      0.3      0.6     0.3      1.0      0.6   \n",
            "10              true      1.0      1.0     0.1      0.1      0.3   \n",
            "11             false      0.6      0.3     0.9      1.0      0.1   \n",
            "12              true      0.3      0.1     0.9      0.6      1.0   \n",
            "13              true      0.9      0.1     1.0      0.9      0.6   \n",
            "14              true      0.9      0.9     0.1      0.1      1.0   \n",
            "15              true      1.0      1.0     0.9      0.1      0.6   \n",
            "16              true      1.0      1.0     1.0      0.3      0.6   \n",
            "17              true      1.0      0.3     0.9      0.1      0.6   \n",
            "18              true      1.0      0.3     1.0      0.6      0.6   \n",
            "19              true      0.6      0.3     0.1      0.9      1.0   \n",
            "\n",
            "                                                                model_ids  \\\n",
            "0   Grid_NaiveBayes_py_5_sid_8e0c_model_python_1604225741410_1205_mode...   \n",
            "1   Grid_NaiveBayes_py_5_sid_8e0c_model_python_1604225741410_1205_mode...   \n",
            "2   Grid_NaiveBayes_py_5_sid_8e0c_model_python_1604225741410_1205_model_9   \n",
            "3   Grid_NaiveBayes_py_5_sid_8e0c_model_python_1604225741410_1205_model_3   \n",
            "4   Grid_NaiveBayes_py_5_sid_8e0c_model_python_1604225741410_1205_mode...   \n",
            "5   Grid_NaiveBayes_py_5_sid_8e0c_model_python_1604225741410_1205_model_8   \n",
            "6   Grid_NaiveBayes_py_5_sid_8e0c_model_python_1604225741410_1205_model_1   \n",
            "7   Grid_NaiveBayes_py_5_sid_8e0c_model_python_1604225741410_1205_model_2   \n",
            "8   Grid_NaiveBayes_py_5_sid_8e0c_model_python_1604225741410_1205_model_7   \n",
            "9   Grid_NaiveBayes_py_5_sid_8e0c_model_python_1604225741410_1205_mode...   \n",
            "10  Grid_NaiveBayes_py_5_sid_8e0c_model_python_1604225741410_1205_mode...   \n",
            "11  Grid_NaiveBayes_py_5_sid_8e0c_model_python_1604225741410_1205_mode...   \n",
            "12  Grid_NaiveBayes_py_5_sid_8e0c_model_python_1604225741410_1205_mode...   \n",
            "13  Grid_NaiveBayes_py_5_sid_8e0c_model_python_1604225741410_1205_model_6   \n",
            "14  Grid_NaiveBayes_py_5_sid_8e0c_model_python_1604225741410_1205_mode...   \n",
            "15  Grid_NaiveBayes_py_5_sid_8e0c_model_python_1604225741410_1205_mode...   \n",
            "16  Grid_NaiveBayes_py_5_sid_8e0c_model_python_1604225741410_1205_model_5   \n",
            "17  Grid_NaiveBayes_py_5_sid_8e0c_model_python_1604225741410_1205_model_4   \n",
            "18  Grid_NaiveBayes_py_5_sid_8e0c_model_python_1604225741410_1205_mode...   \n",
            "19  Grid_NaiveBayes_py_5_sid_8e0c_model_python_1604225741410_1205_mode...   \n",
            "\n",
            "                    auc  \n",
            "0    0.7228413120567375  \n",
            "1    0.7192006501182033  \n",
            "2    0.6972591607565012  \n",
            "3    0.6914937943262411  \n",
            "4    0.6892036052009456  \n",
            "5    0.6862825059101655  \n",
            "6    0.6664420803782505  \n",
            "7    0.6625458037825058  \n",
            "8    0.6460121158392435  \n",
            "9    0.6129639479905438  \n",
            "10   0.6121719858156028  \n",
            "11   0.5476255910165485  \n",
            "12             0.499375  \n",
            "13  0.49874999999999997  \n",
            "14   0.4831131796690307  \n",
            "15   0.4831131796690307  \n",
            "16   0.4831131796690307  \n",
            "17   0.4567109929078014  \n",
            "18   0.4365809692671395  \n",
            "19  0.36446808510638296  \n"
          ]
        },
        {
          "output_type": "execute_result",
          "execution_count": 48,
          "data": {
            "text/plain": ""
          },
          "metadata": {}
        }
      ],
      "execution_count": 48,
      "metadata": {
        "collapsed": true,
        "jupyter": {
          "source_hidden": false,
          "outputs_hidden": false
        },
        "nteract": {
          "transient": {
            "deleting": false
          }
        },
        "gather": {
          "logged": 1604234450010
        }
      }
    },
    {
      "cell_type": "code",
      "source": [
        "sorted_grid.model_performance().keys()"
      ],
      "outputs": [
        {
          "output_type": "execute_result",
          "execution_count": 33,
          "data": {
            "text/plain": "dict_keys(['Grid_NaiveBayes_py_5_sid_8e0c_model_python_1604225741410_1205_model_10', 'Grid_NaiveBayes_py_5_sid_8e0c_model_python_1604225741410_1205_model_11', 'Grid_NaiveBayes_py_5_sid_8e0c_model_python_1604225741410_1205_model_9', 'Grid_NaiveBayes_py_5_sid_8e0c_model_python_1604225741410_1205_model_3', 'Grid_NaiveBayes_py_5_sid_8e0c_model_python_1604225741410_1205_model_18', 'Grid_NaiveBayes_py_5_sid_8e0c_model_python_1604225741410_1205_model_8', 'Grid_NaiveBayes_py_5_sid_8e0c_model_python_1604225741410_1205_model_1', 'Grid_NaiveBayes_py_5_sid_8e0c_model_python_1604225741410_1205_model_2', 'Grid_NaiveBayes_py_5_sid_8e0c_model_python_1604225741410_1205_model_7', 'Grid_NaiveBayes_py_5_sid_8e0c_model_python_1604225741410_1205_model_14', 'Grid_NaiveBayes_py_5_sid_8e0c_model_python_1604225741410_1205_model_16', 'Grid_NaiveBayes_py_5_sid_8e0c_model_python_1604225741410_1205_model_15', 'Grid_NaiveBayes_py_5_sid_8e0c_model_python_1604225741410_1205_model_20', 'Grid_NaiveBayes_py_5_sid_8e0c_model_python_1604225741410_1205_model_6', 'Grid_NaiveBayes_py_5_sid_8e0c_model_python_1604225741410_1205_model_12', 'Grid_NaiveBayes_py_5_sid_8e0c_model_python_1604225741410_1205_model_13', 'Grid_NaiveBayes_py_5_sid_8e0c_model_python_1604225741410_1205_model_5', 'Grid_NaiveBayes_py_5_sid_8e0c_model_python_1604225741410_1205_model_4', 'Grid_NaiveBayes_py_5_sid_8e0c_model_python_1604225741410_1205_model_17', 'Grid_NaiveBayes_py_5_sid_8e0c_model_python_1604225741410_1205_model_19'])"
          },
          "metadata": {}
        }
      ],
      "execution_count": 33,
      "metadata": {
        "collapsed": true,
        "jupyter": {
          "source_hidden": false,
          "outputs_hidden": false
        },
        "nteract": {
          "transient": {
            "deleting": false
          }
        },
        "gather": {
          "logged": 1604233133122
        }
      }
    },
    {
      "cell_type": "code",
      "source": [
        "sorted_grid.model_performance()['Grid_NaiveBayes_py_5_sid_8e0c_model_python_1604225741410_1205_model_10']"
      ],
      "outputs": [
        {
          "output_type": "stream",
          "name": "stdout",
          "text": [
            "\n",
            "ModelMetricsBinomial: naivebayes\n",
            "** Reported on train data. **\n",
            "\n",
            "MSE: 0.2853394498382824\n",
            "RMSE: 0.5341717418941987\n",
            "LogLoss: 7.324933292591747\n",
            "Mean Per-Class Error: 0.2920197990543736\n",
            "AUC: 0.7288534278959811\n",
            "AUCPR: 0.7942373559086093\n",
            "Gini: 0.45770685579196213\n",
            "\n",
            "Confusion Matrix (Act/Pred) for max f1 @ threshold = 1.0376085077616506e-13: \n"
          ]
        },
        {
          "output_type": "display_data",
          "data": {
            "text/plain": "              0      1   Error             Rate\n0      0  201.0  222.0  0.5248    (222.0/423.0)\n1      1   93.0  707.0  0.1163     (93.0/800.0)\n2  Total  294.0  929.0  0.2576   (315.0/1223.0)",
            "text/html": "<div>\n<style scoped>\n    .dataframe tbody tr th:only-of-type {\n        vertical-align: middle;\n    }\n\n    .dataframe tbody tr th {\n        vertical-align: top;\n    }\n\n    .dataframe thead th {\n        text-align: right;\n    }\n</style>\n<table border=\"1\" class=\"dataframe\">\n  <thead>\n    <tr style=\"text-align: right;\">\n      <th></th>\n      <th></th>\n      <th>0</th>\n      <th>1</th>\n      <th>Error</th>\n      <th>Rate</th>\n    </tr>\n  </thead>\n  <tbody>\n    <tr>\n      <th>0</th>\n      <td>0</td>\n      <td>201.0</td>\n      <td>222.0</td>\n      <td>0.5248</td>\n      <td>(222.0/423.0)</td>\n    </tr>\n    <tr>\n      <th>1</th>\n      <td>1</td>\n      <td>93.0</td>\n      <td>707.0</td>\n      <td>0.1163</td>\n      <td>(93.0/800.0)</td>\n    </tr>\n    <tr>\n      <th>2</th>\n      <td>Total</td>\n      <td>294.0</td>\n      <td>929.0</td>\n      <td>0.2576</td>\n      <td>(315.0/1223.0)</td>\n    </tr>\n  </tbody>\n</table>\n</div>"
          },
          "metadata": {}
        },
        {
          "output_type": "stream",
          "name": "stdout",
          "text": [
            "\n",
            "Maximum Metrics: Maximum metrics at their respective thresholds\n",
            "\n",
            "Gains/Lift Table: Avg response rate: 65.41 %, avg score: 59.75 %\n",
            "\n"
          ]
        },
        {
          "output_type": "display_data",
          "data": {
            "text/plain": "                         metric     threshold       value    idx\n0                        max f1  1.037609e-13    0.817814  335.0\n1                        max f2  2.026163e-19    0.904364  399.0\n2                  max f0point5  8.243385e-03    0.797006  158.0\n3                  max accuracy  1.542986e-12    0.742437  315.0\n4                 max precision  9.999998e-01    0.816014    3.0\n5                    max recall  2.026163e-19    1.000000  399.0\n6               max specificity  1.000000e+00    0.744681    0.0\n7              max absolute_mcc  8.243385e-03    0.406582  158.0\n8    max min_per_class_accuracy  9.973013e-01    0.692500   90.0\n9   max mean_per_class_accuracy  8.243385e-03    0.707980  158.0\n10                      max tns  1.000000e+00  315.000000    0.0\n11                      max fns  1.000000e+00  335.000000    0.0\n12                      max fps  2.026163e-19  423.000000  399.0\n13                      max tps  2.026163e-19  800.000000  399.0\n14                      max tnr  1.000000e+00    0.744681    0.0\n15                      max fnr  1.000000e+00    0.418750    0.0\n16                      max fpr  2.026163e-19    1.000000  399.0\n17                      max tpr  2.026163e-19    1.000000  399.0",
            "text/html": "<div>\n<style scoped>\n    .dataframe tbody tr th:only-of-type {\n        vertical-align: middle;\n    }\n\n    .dataframe tbody tr th {\n        vertical-align: top;\n    }\n\n    .dataframe thead th {\n        text-align: right;\n    }\n</style>\n<table border=\"1\" class=\"dataframe\">\n  <thead>\n    <tr style=\"text-align: right;\">\n      <th></th>\n      <th>metric</th>\n      <th>threshold</th>\n      <th>value</th>\n      <th>idx</th>\n    </tr>\n  </thead>\n  <tbody>\n    <tr>\n      <th>0</th>\n      <td>max f1</td>\n      <td>1.037609e-13</td>\n      <td>0.817814</td>\n      <td>335.0</td>\n    </tr>\n    <tr>\n      <th>1</th>\n      <td>max f2</td>\n      <td>2.026163e-19</td>\n      <td>0.904364</td>\n      <td>399.0</td>\n    </tr>\n    <tr>\n      <th>2</th>\n      <td>max f0point5</td>\n      <td>8.243385e-03</td>\n      <td>0.797006</td>\n      <td>158.0</td>\n    </tr>\n    <tr>\n      <th>3</th>\n      <td>max accuracy</td>\n      <td>1.542986e-12</td>\n      <td>0.742437</td>\n      <td>315.0</td>\n    </tr>\n    <tr>\n      <th>4</th>\n      <td>max precision</td>\n      <td>9.999998e-01</td>\n      <td>0.816014</td>\n      <td>3.0</td>\n    </tr>\n    <tr>\n      <th>5</th>\n      <td>max recall</td>\n      <td>2.026163e-19</td>\n      <td>1.000000</td>\n      <td>399.0</td>\n    </tr>\n    <tr>\n      <th>6</th>\n      <td>max specificity</td>\n      <td>1.000000e+00</td>\n      <td>0.744681</td>\n      <td>0.0</td>\n    </tr>\n    <tr>\n      <th>7</th>\n      <td>max absolute_mcc</td>\n      <td>8.243385e-03</td>\n      <td>0.406582</td>\n      <td>158.0</td>\n    </tr>\n    <tr>\n      <th>8</th>\n      <td>max min_per_class_accuracy</td>\n      <td>9.973013e-01</td>\n      <td>0.692500</td>\n      <td>90.0</td>\n    </tr>\n    <tr>\n      <th>9</th>\n      <td>max mean_per_class_accuracy</td>\n      <td>8.243385e-03</td>\n      <td>0.707980</td>\n      <td>158.0</td>\n    </tr>\n    <tr>\n      <th>10</th>\n      <td>max tns</td>\n      <td>1.000000e+00</td>\n      <td>315.000000</td>\n      <td>0.0</td>\n    </tr>\n    <tr>\n      <th>11</th>\n      <td>max fns</td>\n      <td>1.000000e+00</td>\n      <td>335.000000</td>\n      <td>0.0</td>\n    </tr>\n    <tr>\n      <th>12</th>\n      <td>max fps</td>\n      <td>2.026163e-19</td>\n      <td>423.000000</td>\n      <td>399.0</td>\n    </tr>\n    <tr>\n      <th>13</th>\n      <td>max tps</td>\n      <td>2.026163e-19</td>\n      <td>800.000000</td>\n      <td>399.0</td>\n    </tr>\n    <tr>\n      <th>14</th>\n      <td>max tnr</td>\n      <td>1.000000e+00</td>\n      <td>0.744681</td>\n      <td>0.0</td>\n    </tr>\n    <tr>\n      <th>15</th>\n      <td>max fnr</td>\n      <td>1.000000e+00</td>\n      <td>0.418750</td>\n      <td>0.0</td>\n    </tr>\n    <tr>\n      <th>16</th>\n      <td>max fpr</td>\n      <td>2.026163e-19</td>\n      <td>1.000000</td>\n      <td>399.0</td>\n    </tr>\n    <tr>\n      <th>17</th>\n      <td>max tpr</td>\n      <td>2.026163e-19</td>\n      <td>1.000000</td>\n      <td>399.0</td>\n    </tr>\n  </tbody>\n</table>\n</div>"
          },
          "metadata": {}
        },
        {
          "output_type": "display_data",
          "data": {
            "text/plain": "     group  cumulative_data_fraction  lower_threshold      lift  \\\n0        1                  0.291087     1.000000e+00  1.232447   \n1        2                  0.313982     1.000000e+00  1.146562   \n2        3                  0.399836     1.000000e+00  1.237560   \n3        4                  0.500409     9.999954e-01  1.280173   \n4        5                  0.600164     3.904704e-01  1.202951   \n5        6                  0.699918     3.419157e-10  0.877152   \n6        7                  0.799673     5.415668e-16  0.701721   \n7        8                  0.899428     3.250653e-19  0.676660   \n8        9                  1.000000     8.646740e-29  0.348008   \n\n   cumulative_lift  response_rate         score  cumulative_response_rate  \\\n0         1.232447       0.806180  1.000000e+00                  0.806180   \n1         1.226185       0.750000  1.000000e+00                  0.802083   \n2         1.228627       0.809524  1.000000e+00                  0.803681   \n3         1.238987       0.837398  9.999997e-01                  0.810458   \n4         1.232997       0.786885  9.573162e-01                  0.806540   \n5         1.182281       0.573770  1.600654e-02                  0.773364   \n6         1.122334       0.459016  2.499325e-11                  0.734151   \n7         1.072905       0.442623  6.682521e-17                  0.701818   \n8         1.000000       0.227642  4.111887e-20                  0.654129   \n\n   cumulative_score  capture_rate  cumulative_capture_rate       gain  \\\n0          1.000000       0.35875                  0.35875  23.244733   \n1          1.000000       0.02625                  0.38500  14.656250   \n2          1.000000       0.10625                  0.49125  23.755952   \n3          1.000000       0.12875                  0.62000  28.017276   \n4          0.992905       0.12000                  0.74000  20.295082   \n5          0.853674       0.08750                  0.82750 -12.284836   \n6          0.747183       0.07000                  0.89750 -29.827869   \n7          0.664314       0.06750                  0.96500 -32.334016   \n8          0.597502       0.03500                  1.00000 -65.199187   \n\n   cumulative_gain  \n0        23.244733  \n1        22.618490  \n2        22.862730  \n3        23.898693  \n4        23.299728  \n5        18.228096  \n6        12.233384  \n7         7.290455  \n8         0.000000  ",
            "text/html": "<div>\n<style scoped>\n    .dataframe tbody tr th:only-of-type {\n        vertical-align: middle;\n    }\n\n    .dataframe tbody tr th {\n        vertical-align: top;\n    }\n\n    .dataframe thead th {\n        text-align: right;\n    }\n</style>\n<table border=\"1\" class=\"dataframe\">\n  <thead>\n    <tr style=\"text-align: right;\">\n      <th></th>\n      <th></th>\n      <th>group</th>\n      <th>cumulative_data_fraction</th>\n      <th>lower_threshold</th>\n      <th>lift</th>\n      <th>cumulative_lift</th>\n      <th>response_rate</th>\n      <th>score</th>\n      <th>cumulative_response_rate</th>\n      <th>cumulative_score</th>\n      <th>capture_rate</th>\n      <th>cumulative_capture_rate</th>\n      <th>gain</th>\n      <th>cumulative_gain</th>\n    </tr>\n  </thead>\n  <tbody>\n    <tr>\n      <th>0</th>\n      <td></td>\n      <td>1</td>\n      <td>0.291087</td>\n      <td>1.000000e+00</td>\n      <td>1.232447</td>\n      <td>1.232447</td>\n      <td>0.806180</td>\n      <td>1.000000e+00</td>\n      <td>0.806180</td>\n      <td>1.000000</td>\n      <td>0.35875</td>\n      <td>0.35875</td>\n      <td>23.244733</td>\n      <td>23.244733</td>\n    </tr>\n    <tr>\n      <th>1</th>\n      <td></td>\n      <td>2</td>\n      <td>0.313982</td>\n      <td>1.000000e+00</td>\n      <td>1.146562</td>\n      <td>1.226185</td>\n      <td>0.750000</td>\n      <td>1.000000e+00</td>\n      <td>0.802083</td>\n      <td>1.000000</td>\n      <td>0.02625</td>\n      <td>0.38500</td>\n      <td>14.656250</td>\n      <td>22.618490</td>\n    </tr>\n    <tr>\n      <th>2</th>\n      <td></td>\n      <td>3</td>\n      <td>0.399836</td>\n      <td>1.000000e+00</td>\n      <td>1.237560</td>\n      <td>1.228627</td>\n      <td>0.809524</td>\n      <td>1.000000e+00</td>\n      <td>0.803681</td>\n      <td>1.000000</td>\n      <td>0.10625</td>\n      <td>0.49125</td>\n      <td>23.755952</td>\n      <td>22.862730</td>\n    </tr>\n    <tr>\n      <th>3</th>\n      <td></td>\n      <td>4</td>\n      <td>0.500409</td>\n      <td>9.999954e-01</td>\n      <td>1.280173</td>\n      <td>1.238987</td>\n      <td>0.837398</td>\n      <td>9.999997e-01</td>\n      <td>0.810458</td>\n      <td>1.000000</td>\n      <td>0.12875</td>\n      <td>0.62000</td>\n      <td>28.017276</td>\n      <td>23.898693</td>\n    </tr>\n    <tr>\n      <th>4</th>\n      <td></td>\n      <td>5</td>\n      <td>0.600164</td>\n      <td>3.904704e-01</td>\n      <td>1.202951</td>\n      <td>1.232997</td>\n      <td>0.786885</td>\n      <td>9.573162e-01</td>\n      <td>0.806540</td>\n      <td>0.992905</td>\n      <td>0.12000</td>\n      <td>0.74000</td>\n      <td>20.295082</td>\n      <td>23.299728</td>\n    </tr>\n    <tr>\n      <th>5</th>\n      <td></td>\n      <td>6</td>\n      <td>0.699918</td>\n      <td>3.419157e-10</td>\n      <td>0.877152</td>\n      <td>1.182281</td>\n      <td>0.573770</td>\n      <td>1.600654e-02</td>\n      <td>0.773364</td>\n      <td>0.853674</td>\n      <td>0.08750</td>\n      <td>0.82750</td>\n      <td>-12.284836</td>\n      <td>18.228096</td>\n    </tr>\n    <tr>\n      <th>6</th>\n      <td></td>\n      <td>7</td>\n      <td>0.799673</td>\n      <td>5.415668e-16</td>\n      <td>0.701721</td>\n      <td>1.122334</td>\n      <td>0.459016</td>\n      <td>2.499325e-11</td>\n      <td>0.734151</td>\n      <td>0.747183</td>\n      <td>0.07000</td>\n      <td>0.89750</td>\n      <td>-29.827869</td>\n      <td>12.233384</td>\n    </tr>\n    <tr>\n      <th>7</th>\n      <td></td>\n      <td>8</td>\n      <td>0.899428</td>\n      <td>3.250653e-19</td>\n      <td>0.676660</td>\n      <td>1.072905</td>\n      <td>0.442623</td>\n      <td>6.682521e-17</td>\n      <td>0.701818</td>\n      <td>0.664314</td>\n      <td>0.06750</td>\n      <td>0.96500</td>\n      <td>-32.334016</td>\n      <td>7.290455</td>\n    </tr>\n    <tr>\n      <th>8</th>\n      <td></td>\n      <td>9</td>\n      <td>1.000000</td>\n      <td>8.646740e-29</td>\n      <td>0.348008</td>\n      <td>1.000000</td>\n      <td>0.227642</td>\n      <td>4.111887e-20</td>\n      <td>0.654129</td>\n      <td>0.597502</td>\n      <td>0.03500</td>\n      <td>1.00000</td>\n      <td>-65.199187</td>\n      <td>0.000000</td>\n    </tr>\n  </tbody>\n</table>\n</div>"
          },
          "metadata": {}
        },
        {
          "output_type": "execute_result",
          "execution_count": 36,
          "data": {
            "text/plain": ""
          },
          "metadata": {}
        }
      ],
      "execution_count": 36,
      "metadata": {
        "collapsed": true,
        "jupyter": {
          "source_hidden": false,
          "outputs_hidden": false
        },
        "nteract": {
          "transient": {
            "deleting": false
          }
        },
        "gather": {
          "logged": 1604233195594
        }
      }
    },
    {
      "cell_type": "code",
      "source": [
        "h2o.save_grid(\"../models/nb_grid\", 'Grid_NaiveBayes_py_5_sid_8e0c_model_python_1604225741410_1205')"
      ],
      "outputs": [
        {
          "output_type": "execute_result",
          "execution_count": 43,
          "data": {
            "text/plain": "'../models/nb_grid/Grid_NaiveBayes_py_5_sid_8e0c_model_python_1604225741410_1205'"
          },
          "metadata": {}
        }
      ],
      "execution_count": 43,
      "metadata": {
        "collapsed": true,
        "jupyter": {
          "source_hidden": false,
          "outputs_hidden": false
        },
        "nteract": {
          "transient": {
            "deleting": false
          }
        },
        "gather": {
          "logged": 1604234201352
        }
      }
    },
    {
      "cell_type": "code",
      "source": [
        "nb_grid = h2o.load_grid(\"../models/./nb_grid/Grid_NaiveBayes_py_5_sid_8e0c_model_python_1604225741410_1205\")\r\n",
        "nb_grid\r\n"
      ],
      "outputs": [
        {
          "output_type": "stream",
          "name": "stdout",
          "text": [
            "     compute_metrics eps_prob eps_sdev laplace min_prob min_sdev  \\\n",
            "0               true      1.0      1.0     1.0      0.3      0.6   \n",
            "1               true      1.0      1.0     0.9      0.1      0.6   \n",
            "2               true      0.9      0.9     0.1      0.1      1.0   \n",
            "3              false      0.1      0.9     0.3      0.9      1.0   \n",
            "4               true      0.3      1.0     0.1      0.3      0.9   \n",
            "5               true      0.3      0.6     0.3      1.0      0.6   \n",
            "6               true      1.0      0.3     1.0      0.6      0.6   \n",
            "7               true      0.1      1.0     1.0      0.1      0.1   \n",
            "8               true      0.1      0.9     0.6      0.9      0.6   \n",
            "9               true      0.6      0.3     0.1      0.9      1.0   \n",
            "10              true      1.0      1.0     0.1      0.1      0.3   \n",
            "11             false      0.9      0.9     0.1      1.0      0.1   \n",
            "12              true      0.6      1.0     0.6      0.3      0.3   \n",
            "13              true      0.3      0.9     0.1      0.6      0.1   \n",
            "14              true      0.3      1.0     1.0      0.3      0.3   \n",
            "15             false      0.6      0.6     0.9      1.0      0.1   \n",
            "16              true      0.9      0.1     1.0      0.9      0.6   \n",
            "17              true      0.3      0.1     0.9      0.6      1.0   \n",
            "18             false      0.6      0.3     0.9      1.0      0.1   \n",
            "19              true      1.0      0.3     0.9      0.1      0.6   \n",
            "\n",
            "                                                                model_ids  \\\n",
            "0   Grid_NaiveBayes_py_5_sid_8e0c_model_python_1604225741410_1205_model_5   \n",
            "1   Grid_NaiveBayes_py_5_sid_8e0c_model_python_1604225741410_1205_mode...   \n",
            "2   Grid_NaiveBayes_py_5_sid_8e0c_model_python_1604225741410_1205_mode...   \n",
            "3   Grid_NaiveBayes_py_5_sid_8e0c_model_python_1604225741410_1205_mode...   \n",
            "4   Grid_NaiveBayes_py_5_sid_8e0c_model_python_1604225741410_1205_mode...   \n",
            "5   Grid_NaiveBayes_py_5_sid_8e0c_model_python_1604225741410_1205_mode...   \n",
            "6   Grid_NaiveBayes_py_5_sid_8e0c_model_python_1604225741410_1205_mode...   \n",
            "7   Grid_NaiveBayes_py_5_sid_8e0c_model_python_1604225741410_1205_model_9   \n",
            "8   Grid_NaiveBayes_py_5_sid_8e0c_model_python_1604225741410_1205_mode...   \n",
            "9   Grid_NaiveBayes_py_5_sid_8e0c_model_python_1604225741410_1205_mode...   \n",
            "10  Grid_NaiveBayes_py_5_sid_8e0c_model_python_1604225741410_1205_mode...   \n",
            "11  Grid_NaiveBayes_py_5_sid_8e0c_model_python_1604225741410_1205_model_2   \n",
            "12  Grid_NaiveBayes_py_5_sid_8e0c_model_python_1604225741410_1205_model_8   \n",
            "13  Grid_NaiveBayes_py_5_sid_8e0c_model_python_1604225741410_1205_model_7   \n",
            "14  Grid_NaiveBayes_py_5_sid_8e0c_model_python_1604225741410_1205_model_3   \n",
            "15  Grid_NaiveBayes_py_5_sid_8e0c_model_python_1604225741410_1205_model_1   \n",
            "16  Grid_NaiveBayes_py_5_sid_8e0c_model_python_1604225741410_1205_model_6   \n",
            "17  Grid_NaiveBayes_py_5_sid_8e0c_model_python_1604225741410_1205_mode...   \n",
            "18  Grid_NaiveBayes_py_5_sid_8e0c_model_python_1604225741410_1205_mode...   \n",
            "19  Grid_NaiveBayes_py_5_sid_8e0c_model_python_1604225741410_1205_model_4   \n",
            "\n",
            "               logloss  \n",
            "0   0.6451126471175408  \n",
            "1   0.6451126932661954  \n",
            "2   0.6451132211632268  \n",
            "3   3.0187333796235367  \n",
            "4   3.9865388421763526  \n",
            "5    5.325658753652066  \n",
            "6    7.021793919567276  \n",
            "7    7.077352053348287  \n",
            "8    7.462534251870337  \n",
            "9    7.844214908138463  \n",
            "10   8.413676045489039  \n",
            "11  10.022553621849632  \n",
            "12  10.154535560338491  \n",
            "13  10.291149745004994  \n",
            "14  10.293313074754446  \n",
            "15   10.91944247185881  \n",
            "16  11.961316054508194  \n",
            "17  11.972211155195103  \n",
            "18  13.186658536745457  \n",
            "19  13.511114187160324  \n"
          ]
        },
        {
          "output_type": "execute_result",
          "execution_count": 46,
          "data": {
            "text/plain": ""
          },
          "metadata": {}
        }
      ],
      "execution_count": 46,
      "metadata": {
        "collapsed": true,
        "jupyter": {
          "source_hidden": false,
          "outputs_hidden": false
        },
        "nteract": {
          "transient": {
            "deleting": false
          }
        },
        "gather": {
          "logged": 1604234405708
        }
      }
    },
    {
      "cell_type": "markdown",
      "source": [
        "## Generalized Linear Model (GLM)"
      ],
      "metadata": {
        "nteract": {
          "transient": {
            "deleting": false
          }
        }
      }
    },
    {
      "cell_type": "code",
      "source": [
        "from h2o.grid.grid_search import H2OGridSearch\r\n",
        "from h2o.estimators import H2OGeneralizedLinearEstimator\r\n",
        "\r\n",
        "\r\n",
        "\r\n",
        "hyper_params = { # lambda //use self.lambda_\r\n",
        "\"alpha\" : [0, 0.3, 0.6, 0.9, 1],\r\n",
        "# \"missing_values_handling\" : [\"mean_imputation\", \"skip\", \"plug_values\"],\r\n",
        "\"theta\" : [0, 0.3, 0.6, 0.9, 1],\r\n",
        "\"tweedie_link_power\" : [0, 0.3, 0.6, 0.9, 1, 3, 6, 9],\r\n",
        "\"tweedie_variance_power\" : [0, 0.3, 0.6, 0.9, 1, 3, 6, 9],\r\n",
        "}\r\n",
        "\r\n",
        "search_criteria = {\"strategy\": \"RandomDiscrete\", \r\n",
        "                   \"max_models\": MAX_GRID_MODELS}\r\n",
        "\r\n",
        "\r\n",
        "\r\n",
        "# Train and cross-validate a NB\r\n",
        "base_model = H2OGeneralizedLinearEstimator(\r\n",
        "                                family= \"binomial\",\r\n",
        "\r\n",
        "                                 nfolds=nfolds, \r\n",
        "                                 fold_assignment = \"random\",\r\n",
        "                                 keep_cross_validation_predictions = True,\r\n",
        "                                 seed=1234)\r\n",
        "\r\n",
        "\r\n",
        "\r\n",
        "\r\n",
        "# Train the grid\r\n",
        "glm_grid = H2OGridSearch(model=base_model,\r\n",
        "                     hyper_params=hyper_params,\r\n",
        "                     search_criteria=search_criteria)\r\n",
        "\r\n",
        "\r\n",
        "glm_grid.train(x=x, y=y, training_frame=train, validation_frame=test) "
      ],
      "outputs": [],
      "execution_count": null,
      "metadata": {
        "collapsed": true,
        "jupyter": {
          "source_hidden": false,
          "outputs_hidden": false
        },
        "nteract": {
          "transient": {
            "deleting": false
          }
        }
      }
    },
    {
      "cell_type": "code",
      "source": [
        "sorted_grid = glm_grid.get_grid(sort_by='auc', decreasing=True)\r\n",
        "sorted_grid"
      ],
      "outputs": [],
      "execution_count": null,
      "metadata": {
        "collapsed": true,
        "jupyter": {
          "source_hidden": false,
          "outputs_hidden": false
        },
        "nteract": {
          "transient": {
            "deleting": false
          }
        }
      }
    },
    {
      "cell_type": "code",
      "source": [
        "h2o.save_grid(\"../models/ALL_FEATURES/glm_grid\", glm_grid.grid_id)"
      ],
      "outputs": [],
      "execution_count": null,
      "metadata": {
        "collapsed": true,
        "jupyter": {
          "source_hidden": false,
          "outputs_hidden": false
        },
        "nteract": {
          "transient": {
            "deleting": false
          }
        }
      }
    },
    {
      "cell_type": "code",
      "source": [
        "top_5_glm_model_ids = sorted_grid.model_ids[:5]\r\n",
        "top_5_glm_model_ids"
      ],
      "outputs": [],
      "execution_count": null,
      "metadata": {
        "collapsed": true,
        "jupyter": {
          "source_hidden": false,
          "outputs_hidden": false
        },
        "nteract": {
          "transient": {
            "deleting": false
          }
        }
      }
    },
    {
      "cell_type": "code",
      "source": [
        "top_5_glm_model_id_params_dict = {}\r\n",
        "\r\n",
        "for mdl_id in top_5_glm_model_ids:\r\n",
        "    model = h2o.get_model(mdl_id)\r\n",
        "    top_5_glm_model_id_params_dict[mdl_id] = {'params': model.actual_params, \r\n",
        "                                             'auc': model.auc(), \r\n",
        "                                            }\r\n",
        "\r\n",
        "\r\n",
        "top_5_glm_model_id_params_dict"
      ],
      "outputs": [],
      "execution_count": null,
      "metadata": {
        "collapsed": true,
        "jupyter": {
          "source_hidden": false,
          "outputs_hidden": false
        },
        "nteract": {
          "transient": {
            "deleting": false
          }
        }
      }
    },
    {
      "cell_type": "code",
      "source": [
        "import json\r\n",
        "\r\n",
        "with open('../models/ALL_FEATURES/top_5_glm_models.json', 'w') as json_file:\r\n",
        "  json.dump(top_5_glm_model_id_params_dict, json_file)"
      ],
      "outputs": [],
      "execution_count": null,
      "metadata": {
        "collapsed": true,
        "jupyter": {
          "source_hidden": false,
          "outputs_hidden": false
        },
        "nteract": {
          "transient": {
            "deleting": false
          }
        }
      }
    },
    {
      "cell_type": "markdown",
      "source": [
        "## Gradient Boosting Model"
      ],
      "metadata": {
        "nteract": {
          "transient": {
            "deleting": false
          }
        }
      }
    },
    {
      "cell_type": "code",
      "source": [
        "from h2o.grid.grid_search import H2OGridSearch\r\n",
        "from h2o.estimators import H2OGradientBoostingEstimator\r\n",
        "\r\n",
        "\r\n",
        "\r\n",
        "hyper_params = {\r\n",
        "'learn_rate': [0.1, 0.3, 0.6, 0.9],\r\n",
        "'learn_rate_annealing': [0.1, 0.3, 0.6, 0.9, 1],\r\n",
        "'distribution': ['bernoulli', 'multinomial'],\r\n",
        "'quantile_alpha':[0.1, 0.3, 0.5, 0.8, 1],\r\n",
        "'tweedie_power': [0,1, 1.5,1.9],\r\n",
        "'col_sample_rate': [0.1, 0.3, 0.7, 0.9],\r\n",
        "#'max_abs_leafnode_pred' # use default value\r\n",
        "\r\n",
        "\r\n",
        "'balance_classes': [True, False],\r\n",
        "#'class_sampling_factors',\r\n",
        "#'max_after_balance_size',\r\n",
        "'ntrees': [10, 20, 50, 100, 150],\r\n",
        "'max_depth': [5, 10, 15, 20], # defaults to 20\r\n",
        "#'min_rows', # defaults to 1\r\n",
        "#'nbins', # default is 20\r\n",
        "#'nbins_top_level', # requires too much tuning\r\n",
        "#'nbins_cats', # requires too much tuning\r\n",
        "#'r2_stopping',\r\n",
        "#'seed',\r\n",
        "#'build_tree_one_node',\r\n",
        "'sample_rate': [ 0.1, 0.3, 0.6, 0.9],\r\n",
        "#'sample_rate_per_class':[ 0.1, 0.3, 0.6, 0.9],\r\n",
        "'col_sample_rate_per_tree': [ 0.1, 0.3, 0.6, 0.8, 1],\r\n",
        "'col_sample_rate_change_per_level': [ 0.1, 0.3, 0.6, 0.8, 1, 1.3, 1.5, 1.7, 1.9],\r\n",
        "#'score_tree_interval',\r\n",
        "#'min_split_improvement',\r\n",
        "'histogram_type': [\"AUTO\", \"UniformAdaptive\", \"Random\", \"QuantilesGlobal\", \"RoundRobin\"]\r\n",
        "}\r\n",
        "\r\n",
        "\r\n",
        "search_criteria = {\"strategy\": \"RandomDiscrete\", \r\n",
        "                   \"max_models\": MAX_GRID_MODELS}\r\n",
        "\r\n",
        "\r\n",
        "\r\n",
        "\r\n",
        "base_model = H2OGradientBoostingEstimator(\r\n",
        "\r\n",
        "\r\n",
        "                                 nfolds=nfolds, \r\n",
        "                                 fold_assignment = \"random\",\r\n",
        "                                 keep_cross_validation_predictions = True,\r\n",
        "                                 seed=1234\r\n",
        "                                 )\r\n",
        "\r\n",
        "\r\n",
        "\r\n",
        "\r\n",
        "# Train the grid\r\n",
        "gbm_grid = H2OGridSearch(model=base_model,\r\n",
        "                     hyper_params=hyper_params,\r\n",
        "                     search_criteria=search_criteria,\r\n",
        "                     parallelism= 1)\r\n",
        "\r\n",
        "\r\n",
        "gbm_grid.train(x=x, y=y, training_frame=train, validation_frame=test) "
      ],
      "outputs": [
        {
          "output_type": "stream",
          "name": "stdout",
          "text": [
            "gbm Grid Build progress: |████████████████████████████████████████████████"
          ]
        }
      ],
      "execution_count": 21,
      "metadata": {
        "collapsed": true,
        "jupyter": {
          "source_hidden": false,
          "outputs_hidden": false
        },
        "nteract": {
          "transient": {
            "deleting": false
          }
        }
      }
    },
    {
      "cell_type": "code",
      "source": [
        "gbm_grid.predict(test)"
      ],
      "outputs": [
        {
          "output_type": "stream",
          "name": "stdout",
          "text": [
            "gbm prediction progress: |████████████████████████████████████████████████| 100%\n",
            "gbm prediction progress: |████████████████████████████████████████████████| 100%\n",
            "gbm prediction progress: |████████████████████████████████████████████████| 100%\n",
            "gbm prediction progress: |████████████████████████████████████████████████| 100%\n",
            "gbm prediction progress: |████████████████████████████████████████████████| 100%\n",
            "gbm prediction progress: |████████████████████████████████████████████████| 100%\n"
          ]
        },
        {
          "output_type": "display_data",
          "data": {
            "text/html": "<table>\n<thead>\n<tr><th style=\"text-align: right;\">  predict</th><th style=\"text-align: right;\">      p0</th><th style=\"text-align: right;\">      p1</th></tr>\n</thead>\n<tbody>\n<tr><td style=\"text-align: right;\">        1</td><td style=\"text-align: right;\">0.102748</td><td style=\"text-align: right;\">0.897252</td></tr>\n<tr><td style=\"text-align: right;\">        1</td><td style=\"text-align: right;\">0.669688</td><td style=\"text-align: right;\">0.330312</td></tr>\n<tr><td style=\"text-align: right;\">        1</td><td style=\"text-align: right;\">0.333466</td><td style=\"text-align: right;\">0.666534</td></tr>\n<tr><td style=\"text-align: right;\">        1</td><td style=\"text-align: right;\">0.118196</td><td style=\"text-align: right;\">0.881804</td></tr>\n<tr><td style=\"text-align: right;\">        1</td><td style=\"text-align: right;\">0.579668</td><td style=\"text-align: right;\">0.420332</td></tr>\n<tr><td style=\"text-align: right;\">        1</td><td style=\"text-align: right;\">0.133673</td><td style=\"text-align: right;\">0.866327</td></tr>\n<tr><td style=\"text-align: right;\">        1</td><td style=\"text-align: right;\">0.237888</td><td style=\"text-align: right;\">0.762112</td></tr>\n<tr><td style=\"text-align: right;\">        1</td><td style=\"text-align: right;\">0.10068 </td><td style=\"text-align: right;\">0.89932 </td></tr>\n<tr><td style=\"text-align: right;\">        1</td><td style=\"text-align: right;\">0.100679</td><td style=\"text-align: right;\">0.899321</td></tr>\n<tr><td style=\"text-align: right;\">        1</td><td style=\"text-align: right;\">0.100666</td><td style=\"text-align: right;\">0.899334</td></tr>\n</tbody>\n</table>"
          },
          "metadata": {}
        },
        {
          "output_type": "display_data",
          "data": {
            "text/html": "<table>\n<thead>\n<tr><th style=\"text-align: right;\">  predict</th><th style=\"text-align: right;\">      p0</th><th style=\"text-align: right;\">      p1</th></tr>\n</thead>\n<tbody>\n<tr><td style=\"text-align: right;\">        1</td><td style=\"text-align: right;\">0.450047</td><td style=\"text-align: right;\">0.549953</td></tr>\n<tr><td style=\"text-align: right;\">        1</td><td style=\"text-align: right;\">0.666451</td><td style=\"text-align: right;\">0.333549</td></tr>\n<tr><td style=\"text-align: right;\">        1</td><td style=\"text-align: right;\">0.237774</td><td style=\"text-align: right;\">0.762226</td></tr>\n<tr><td style=\"text-align: right;\">        1</td><td style=\"text-align: right;\">0.279835</td><td style=\"text-align: right;\">0.720165</td></tr>\n<tr><td style=\"text-align: right;\">        1</td><td style=\"text-align: right;\">0.336231</td><td style=\"text-align: right;\">0.663769</td></tr>\n<tr><td style=\"text-align: right;\">        1</td><td style=\"text-align: right;\">0.139548</td><td style=\"text-align: right;\">0.860452</td></tr>\n<tr><td style=\"text-align: right;\">        1</td><td style=\"text-align: right;\">0.258509</td><td style=\"text-align: right;\">0.741491</td></tr>\n<tr><td style=\"text-align: right;\">        1</td><td style=\"text-align: right;\">0.327305</td><td style=\"text-align: right;\">0.672695</td></tr>\n<tr><td style=\"text-align: right;\">        1</td><td style=\"text-align: right;\">0.381715</td><td style=\"text-align: right;\">0.618285</td></tr>\n<tr><td style=\"text-align: right;\">        1</td><td style=\"text-align: right;\">0.320064</td><td style=\"text-align: right;\">0.679936</td></tr>\n</tbody>\n</table>"
          },
          "metadata": {}
        },
        {
          "output_type": "display_data",
          "data": {
            "text/html": "<table>\n<thead>\n<tr><th style=\"text-align: right;\">  predict</th><th style=\"text-align: right;\">      p0</th><th style=\"text-align: right;\">      p1</th></tr>\n</thead>\n<tbody>\n<tr><td style=\"text-align: right;\">        1</td><td style=\"text-align: right;\">0.524629</td><td style=\"text-align: right;\">0.475371</td></tr>\n<tr><td style=\"text-align: right;\">        1</td><td style=\"text-align: right;\">0.471278</td><td style=\"text-align: right;\">0.528722</td></tr>\n<tr><td style=\"text-align: right;\">        1</td><td style=\"text-align: right;\">0.455176</td><td style=\"text-align: right;\">0.544824</td></tr>\n<tr><td style=\"text-align: right;\">        1</td><td style=\"text-align: right;\">0.286112</td><td style=\"text-align: right;\">0.713888</td></tr>\n<tr><td style=\"text-align: right;\">        1</td><td style=\"text-align: right;\">0.301779</td><td style=\"text-align: right;\">0.698221</td></tr>\n<tr><td style=\"text-align: right;\">        1</td><td style=\"text-align: right;\">0.132689</td><td style=\"text-align: right;\">0.867311</td></tr>\n<tr><td style=\"text-align: right;\">        1</td><td style=\"text-align: right;\">0.26729 </td><td style=\"text-align: right;\">0.73271 </td></tr>\n<tr><td style=\"text-align: right;\">        1</td><td style=\"text-align: right;\">0.529294</td><td style=\"text-align: right;\">0.470706</td></tr>\n<tr><td style=\"text-align: right;\">        1</td><td style=\"text-align: right;\">0.476175</td><td style=\"text-align: right;\">0.523825</td></tr>\n<tr><td style=\"text-align: right;\">        1</td><td style=\"text-align: right;\">0.549412</td><td style=\"text-align: right;\">0.450588</td></tr>\n</tbody>\n</table>"
          },
          "metadata": {}
        },
        {
          "output_type": "display_data",
          "data": {
            "text/html": "<table>\n<thead>\n<tr><th style=\"text-align: right;\">  predict</th><th style=\"text-align: right;\">       p0</th><th style=\"text-align: right;\">      p1</th></tr>\n</thead>\n<tbody>\n<tr><td style=\"text-align: right;\">        1</td><td style=\"text-align: right;\">0.418561 </td><td style=\"text-align: right;\">0.581439</td></tr>\n<tr><td style=\"text-align: right;\">        1</td><td style=\"text-align: right;\">0.224709 </td><td style=\"text-align: right;\">0.775291</td></tr>\n<tr><td style=\"text-align: right;\">        1</td><td style=\"text-align: right;\">0.0827571</td><td style=\"text-align: right;\">0.917243</td></tr>\n<tr><td style=\"text-align: right;\">        1</td><td style=\"text-align: right;\">0.229412 </td><td style=\"text-align: right;\">0.770588</td></tr>\n<tr><td style=\"text-align: right;\">        1</td><td style=\"text-align: right;\">0.393859 </td><td style=\"text-align: right;\">0.606141</td></tr>\n<tr><td style=\"text-align: right;\">        1</td><td style=\"text-align: right;\">0.0590164</td><td style=\"text-align: right;\">0.940984</td></tr>\n<tr><td style=\"text-align: right;\">        1</td><td style=\"text-align: right;\">0.229    </td><td style=\"text-align: right;\">0.771   </td></tr>\n<tr><td style=\"text-align: right;\">        1</td><td style=\"text-align: right;\">0.180165 </td><td style=\"text-align: right;\">0.819835</td></tr>\n<tr><td style=\"text-align: right;\">        1</td><td style=\"text-align: right;\">0.394219 </td><td style=\"text-align: right;\">0.605781</td></tr>\n<tr><td style=\"text-align: right;\">        1</td><td style=\"text-align: right;\">0.394222 </td><td style=\"text-align: right;\">0.605778</td></tr>\n</tbody>\n</table>"
          },
          "metadata": {}
        },
        {
          "output_type": "display_data",
          "data": {
            "text/html": "<table>\n<thead>\n<tr><th style=\"text-align: right;\">  predict</th><th style=\"text-align: right;\">        p0</th><th style=\"text-align: right;\">        p1</th></tr>\n</thead>\n<tbody>\n<tr><td style=\"text-align: right;\">        1</td><td style=\"text-align: right;\">0.00521731</td><td style=\"text-align: right;\">0.994783  </td></tr>\n<tr><td style=\"text-align: right;\">        1</td><td style=\"text-align: right;\">0.998859  </td><td style=\"text-align: right;\">0.00114095</td></tr>\n<tr><td style=\"text-align: right;\">        1</td><td style=\"text-align: right;\">0.299783  </td><td style=\"text-align: right;\">0.700217  </td></tr>\n<tr><td style=\"text-align: right;\">        1</td><td style=\"text-align: right;\">0.0361453 </td><td style=\"text-align: right;\">0.963855  </td></tr>\n<tr><td style=\"text-align: right;\">        1</td><td style=\"text-align: right;\">0.15844   </td><td style=\"text-align: right;\">0.84156   </td></tr>\n<tr><td style=\"text-align: right;\">        1</td><td style=\"text-align: right;\">0.00617286</td><td style=\"text-align: right;\">0.993827  </td></tr>\n<tr><td style=\"text-align: right;\">        1</td><td style=\"text-align: right;\">0.0650542 </td><td style=\"text-align: right;\">0.934946  </td></tr>\n<tr><td style=\"text-align: right;\">        1</td><td style=\"text-align: right;\">0.00782349</td><td style=\"text-align: right;\">0.992177  </td></tr>\n<tr><td style=\"text-align: right;\">        1</td><td style=\"text-align: right;\">0.0105194 </td><td style=\"text-align: right;\">0.989481  </td></tr>\n<tr><td style=\"text-align: right;\">        1</td><td style=\"text-align: right;\">0.00521699</td><td style=\"text-align: right;\">0.994783  </td></tr>\n</tbody>\n</table>"
          },
          "metadata": {}
        },
        {
          "output_type": "display_data",
          "data": {
            "text/html": "<table>\n<thead>\n<tr><th style=\"text-align: right;\">  predict</th><th style=\"text-align: right;\">        p0</th><th style=\"text-align: right;\">        p1</th></tr>\n</thead>\n<tbody>\n<tr><td style=\"text-align: right;\">        1</td><td style=\"text-align: right;\">0.959572  </td><td style=\"text-align: right;\">0.040428  </td></tr>\n<tr><td style=\"text-align: right;\">        1</td><td style=\"text-align: right;\">0.898649  </td><td style=\"text-align: right;\">0.101351  </td></tr>\n<tr><td style=\"text-align: right;\">        1</td><td style=\"text-align: right;\">0.00230169</td><td style=\"text-align: right;\">0.997698  </td></tr>\n<tr><td style=\"text-align: right;\">        1</td><td style=\"text-align: right;\">0.276182  </td><td style=\"text-align: right;\">0.723818  </td></tr>\n<tr><td style=\"text-align: right;\">        1</td><td style=\"text-align: right;\">0.0463884 </td><td style=\"text-align: right;\">0.953612  </td></tr>\n<tr><td style=\"text-align: right;\">        1</td><td style=\"text-align: right;\">0.0716378 </td><td style=\"text-align: right;\">0.928362  </td></tr>\n<tr><td style=\"text-align: right;\">        1</td><td style=\"text-align: right;\">0.0237613 </td><td style=\"text-align: right;\">0.976239  </td></tr>\n<tr><td style=\"text-align: right;\">        1</td><td style=\"text-align: right;\">0.88048   </td><td style=\"text-align: right;\">0.11952   </td></tr>\n<tr><td style=\"text-align: right;\">        1</td><td style=\"text-align: right;\">0.990988  </td><td style=\"text-align: right;\">0.00901229</td></tr>\n<tr><td style=\"text-align: right;\">        1</td><td style=\"text-align: right;\">0.99824   </td><td style=\"text-align: right;\">0.00175965</td></tr>\n</tbody>\n</table>"
          },
          "metadata": {}
        },
        {
          "output_type": "execute_result",
          "execution_count": 26,
          "data": {
            "text/plain": "{'Grid_GBM_py_7_sid_9651_model_python_1604407520638_1_model_5': ,\n 'Grid_GBM_py_7_sid_9651_model_python_1604407520638_1_model_7': ,\n 'Grid_GBM_py_7_sid_9651_model_python_1604407520638_1_model_10': ,\n 'Grid_GBM_py_7_sid_9651_model_python_1604407520638_1_model_9': ,\n 'Grid_GBM_py_7_sid_9651_model_python_1604407520638_1_model_3': ,\n 'Grid_GBM_py_7_sid_9651_model_python_1604407520638_1_model_1': }"
          },
          "metadata": {}
        }
      ],
      "execution_count": 26,
      "metadata": {
        "collapsed": true,
        "jupyter": {
          "source_hidden": false,
          "outputs_hidden": false
        },
        "nteract": {
          "transient": {
            "deleting": false
          }
        },
        "gather": {
          "logged": 1604428300712
        }
      }
    },
    {
      "cell_type": "code",
      "source": [
        "sorted_grid = gbm_grid.get_grid(sort_by='auc', decreasing=True)\r\n",
        "sorted_grid"
      ],
      "outputs": [
        {
          "output_type": "stream",
          "name": "stdout",
          "text": [
            "    balance_classes col_sample_rate col_sample_rate_change_per_level  \\\n",
            "0             false             0.3                              0.8   \n",
            "1             false             0.7                              1.7   \n",
            "2             false             0.7                              1.3   \n",
            "3              true             0.3                              0.1   \n",
            "4              true             0.3                              1.7   \n",
            "5              true             0.3                              1.3   \n",
            "\n",
            "  col_sample_rate_per_tree distribution   histogram_type learn_rate  \\\n",
            "0                      0.6    bernoulli           Random        0.1   \n",
            "1                      0.8  multinomial  UniformAdaptive        0.3   \n",
            "2                      0.8    bernoulli       RoundRobin        0.3   \n",
            "3                      0.1  multinomial             AUTO        0.3   \n",
            "4                      1.0    bernoulli       RoundRobin        0.9   \n",
            "5                      0.6  multinomial  UniformAdaptive        0.1   \n",
            "\n",
            "  learn_rate_annealing max_depth ntrees quantile_alpha sample_rate  \\\n",
            "0                  0.9         5     50            1.0         0.9   \n",
            "1                  0.3         5     12            0.8         0.6   \n",
            "2                  0.1        20      7            0.8         0.6   \n",
            "3                  0.9        10     10            0.5         0.3   \n",
            "4                  0.9        10     10            0.3         0.1   \n",
            "5                  0.1        15      7            0.1         0.1   \n",
            "\n",
            "  tweedie_power                                                     model_ids  \\\n",
            "0           1.9   Grid_GBM_py_7_sid_9651_model_python_1604407520638_1_model_7   \n",
            "1           1.5   Grid_GBM_py_7_sid_9651_model_python_1604407520638_1_model_5   \n",
            "2           1.9   Grid_GBM_py_7_sid_9651_model_python_1604407520638_1_model_3   \n",
            "3           1.9  Grid_GBM_py_7_sid_9651_model_python_1604407520638_1_model_10   \n",
            "4           1.9   Grid_GBM_py_7_sid_9651_model_python_1604407520638_1_model_1   \n",
            "5           1.9   Grid_GBM_py_7_sid_9651_model_python_1604407520638_1_model_9   \n",
            "\n",
            "                  auc  \n",
            "0  0.9054151891252956  \n",
            "1  0.8784219858156028  \n",
            "2  0.8664420803782505  \n",
            "3  0.8242966903073287  \n",
            "4  0.7838489952718677  \n",
            "5  0.7267109929078014  \n"
          ]
        },
        {
          "output_type": "execute_result",
          "execution_count": 27,
          "data": {
            "text/plain": ""
          },
          "metadata": {}
        }
      ],
      "execution_count": 27,
      "metadata": {
        "collapsed": true,
        "jupyter": {
          "source_hidden": false,
          "outputs_hidden": false
        },
        "nteract": {
          "transient": {
            "deleting": false
          }
        },
        "gather": {
          "logged": 1604428301685
        }
      }
    },
    {
      "cell_type": "code",
      "source": [
        "h2o.save_grid(\"../models/ALL_FEATURES/gbm_grid\", gbm_grid.grid_id)"
      ],
      "outputs": [
        {
          "output_type": "execute_result",
          "execution_count": 28,
          "data": {
            "text/plain": "'../models/ALL_FEATURES/gbm_grid/Grid_GBM_py_7_sid_9651_model_python_1604407520638_1'"
          },
          "metadata": {}
        }
      ],
      "execution_count": 28,
      "metadata": {
        "collapsed": true,
        "jupyter": {
          "source_hidden": false,
          "outputs_hidden": false
        },
        "nteract": {
          "transient": {
            "deleting": false
          }
        },
        "gather": {
          "logged": 1604428303549
        }
      }
    },
    {
      "cell_type": "code",
      "source": [
        "NUMBER = 10\r\n",
        "\r\n",
        "top_gbm_model_ids = sorted_grid.model_ids[:NUMBER]\r\n",
        "# top_gbm_model_ids\r\n",
        "\r\n",
        "top_gbm_model_id_params_dict = {}\r\n",
        "\r\n",
        "for mdl_id in top_gbm_model_ids:\r\n",
        "    model = h2o.get_model(mdl_id)\r\n",
        "    top_gbm_model_id_params_dict[mdl_id] = {'params': model.actual_params, \r\n",
        "                                             'auc': model.auc(), \r\n",
        "                                            }\r\n",
        "\r\n",
        "\r\n",
        "top_gbm_model_id_params_dict"
      ],
      "outputs": [
        {
          "output_type": "execute_result",
          "execution_count": 29,
          "data": {
            "text/plain": "{'Grid_GBM_py_7_sid_9651_model_python_1604407520638_1_model_7': {'params': {'model_id': 'Grid_GBM_py_7_sid_9651_model_python_1604407520638_1_model_7',\n   'training_frame': 'py_7_sid_9651',\n   'validation_frame': 'py_8_sid_9651',\n   'nfolds': 5,\n   'keep_cross_validation_models': True,\n   'keep_cross_validation_predictions': True,\n   'keep_cross_validation_fold_assignment': False,\n   'score_each_iteration': False,\n   'score_tree_interval': 0,\n   'fold_assignment': 'Random',\n   'fold_column': None,\n   'response_column': 'Resistance_Status',\n   'ignored_columns': ['SampleID'],\n   'ignore_const_cols': True,\n   'offset_column': None,\n   'weights_column': None,\n   'balance_classes': False,\n   'class_sampling_factors': None,\n   'max_after_balance_size': 5.0,\n   'max_confusion_matrix_size': 20,\n   'max_hit_ratio_k': 0,\n   'ntrees': 50,\n   'max_depth': 5,\n   'min_rows': 10.0,\n   'nbins': 20,\n   'nbins_top_level': 1024,\n   'nbins_cats': 1024,\n   'r2_stopping': 1.7976931348623157e+308,\n   'stopping_rounds': 0,\n   'stopping_metric': 'AUTO',\n   'stopping_tolerance': 0.001,\n   'max_runtime_secs': 0.0,\n   'seed': 1234,\n   'build_tree_one_node': False,\n   'learn_rate': 0.1,\n   'learn_rate_annealing': 0.9,\n   'distribution': 'bernoulli',\n   'quantile_alpha': 1.0,\n   'tweedie_power': 1.9,\n   'huber_alpha': 0.9,\n   'checkpoint': None,\n   'sample_rate': 0.9,\n   'sample_rate_per_class': None,\n   'col_sample_rate': 0.3,\n   'col_sample_rate_change_per_level': 0.8,\n   'col_sample_rate_per_tree': 0.6,\n   'min_split_improvement': 1e-05,\n   'histogram_type': 'Random',\n   'max_abs_leafnode_pred': 1.7976931348623157e+308,\n   'pred_noise_bandwidth': 0.0,\n   'categorical_encoding': 'AUTO',\n   'calibrate_model': False,\n   'calibration_frame': None,\n   'custom_metric_func': None,\n   'custom_distribution_func': None,\n   'export_checkpoints_dir': None,\n   'monotone_constraints': None,\n   'check_constant_response': True},\n  'auc': 0.9466164302600473},\n 'Grid_GBM_py_7_sid_9651_model_python_1604407520638_1_model_5': {'params': {'model_id': 'Grid_GBM_py_7_sid_9651_model_python_1604407520638_1_model_5',\n   'training_frame': 'py_7_sid_9651',\n   'validation_frame': 'py_8_sid_9651',\n   'nfolds': 5,\n   'keep_cross_validation_models': True,\n   'keep_cross_validation_predictions': True,\n   'keep_cross_validation_fold_assignment': False,\n   'score_each_iteration': False,\n   'score_tree_interval': 0,\n   'fold_assignment': 'Random',\n   'fold_column': None,\n   'response_column': 'Resistance_Status',\n   'ignored_columns': ['SampleID'],\n   'ignore_const_cols': True,\n   'offset_column': None,\n   'weights_column': None,\n   'balance_classes': False,\n   'class_sampling_factors': None,\n   'max_after_balance_size': 5.0,\n   'max_confusion_matrix_size': 20,\n   'max_hit_ratio_k': 0,\n   'ntrees': 12,\n   'max_depth': 5,\n   'min_rows': 10.0,\n   'nbins': 20,\n   'nbins_top_level': 1024,\n   'nbins_cats': 1024,\n   'r2_stopping': 1.7976931348623157e+308,\n   'stopping_rounds': 0,\n   'stopping_metric': 'AUTO',\n   'stopping_tolerance': 0.001,\n   'max_runtime_secs': 0.0,\n   'seed': 1234,\n   'build_tree_one_node': False,\n   'learn_rate': 0.3,\n   'learn_rate_annealing': 0.3,\n   'distribution': 'multinomial',\n   'quantile_alpha': 0.8,\n   'tweedie_power': 1.5,\n   'huber_alpha': 0.9,\n   'checkpoint': None,\n   'sample_rate': 0.6,\n   'sample_rate_per_class': None,\n   'col_sample_rate': 0.7,\n   'col_sample_rate_change_per_level': 1.7,\n   'col_sample_rate_per_tree': 0.8,\n   'min_split_improvement': 1e-05,\n   'histogram_type': 'UniformAdaptive',\n   'max_abs_leafnode_pred': 1.7976931348623157e+308,\n   'pred_noise_bandwidth': 0.0,\n   'categorical_encoding': 'AUTO',\n   'calibrate_model': False,\n   'calibration_frame': None,\n   'custom_metric_func': None,\n   'custom_distribution_func': None,\n   'export_checkpoints_dir': None,\n   'monotone_constraints': None,\n   'check_constant_response': True},\n  'auc': 0.9268247635933806},\n 'Grid_GBM_py_7_sid_9651_model_python_1604407520638_1_model_3': {'params': {'model_id': 'Grid_GBM_py_7_sid_9651_model_python_1604407520638_1_model_3',\n   'training_frame': 'py_7_sid_9651',\n   'validation_frame': 'py_8_sid_9651',\n   'nfolds': 5,\n   'keep_cross_validation_models': True,\n   'keep_cross_validation_predictions': True,\n   'keep_cross_validation_fold_assignment': False,\n   'score_each_iteration': False,\n   'score_tree_interval': 0,\n   'fold_assignment': 'Random',\n   'fold_column': None,\n   'response_column': 'Resistance_Status',\n   'ignored_columns': ['SampleID'],\n   'ignore_const_cols': True,\n   'offset_column': None,\n   'weights_column': None,\n   'balance_classes': False,\n   'class_sampling_factors': None,\n   'max_after_balance_size': 5.0,\n   'max_confusion_matrix_size': 20,\n   'max_hit_ratio_k': 0,\n   'ntrees': 7,\n   'max_depth': 20,\n   'min_rows': 10.0,\n   'nbins': 20,\n   'nbins_top_level': 1024,\n   'nbins_cats': 1024,\n   'r2_stopping': 1.7976931348623157e+308,\n   'stopping_rounds': 0,\n   'stopping_metric': 'AUTO',\n   'stopping_tolerance': 0.001,\n   'max_runtime_secs': 0.0,\n   'seed': 1234,\n   'build_tree_one_node': False,\n   'learn_rate': 0.3,\n   'learn_rate_annealing': 0.1,\n   'distribution': 'bernoulli',\n   'quantile_alpha': 0.8,\n   'tweedie_power': 1.9,\n   'huber_alpha': 0.9,\n   'checkpoint': None,\n   'sample_rate': 0.6,\n   'sample_rate_per_class': None,\n   'col_sample_rate': 0.7,\n   'col_sample_rate_change_per_level': 1.3,\n   'col_sample_rate_per_tree': 0.8,\n   'min_split_improvement': 1e-05,\n   'histogram_type': 'RoundRobin',\n   'max_abs_leafnode_pred': 1.7976931348623157e+308,\n   'pred_noise_bandwidth': 0.0,\n   'categorical_encoding': 'AUTO',\n   'calibrate_model': False,\n   'calibration_frame': None,\n   'custom_metric_func': None,\n   'custom_distribution_func': None,\n   'export_checkpoints_dir': None,\n   'monotone_constraints': None,\n   'check_constant_response': True},\n  'auc': 0.9481693262411347},\n 'Grid_GBM_py_7_sid_9651_model_python_1604407520638_1_model_10': {'params': {'model_id': 'Grid_GBM_py_7_sid_9651_model_python_1604407520638_1_model_10',\n   'training_frame': 'py_7_sid_9651',\n   'validation_frame': 'py_8_sid_9651',\n   'nfolds': 5,\n   'keep_cross_validation_models': True,\n   'keep_cross_validation_predictions': True,\n   'keep_cross_validation_fold_assignment': False,\n   'score_each_iteration': False,\n   'score_tree_interval': 0,\n   'fold_assignment': 'Random',\n   'fold_column': None,\n   'response_column': 'Resistance_Status',\n   'ignored_columns': ['SampleID'],\n   'ignore_const_cols': True,\n   'offset_column': None,\n   'weights_column': None,\n   'balance_classes': True,\n   'class_sampling_factors': None,\n   'max_after_balance_size': 5.0,\n   'max_confusion_matrix_size': 20,\n   'max_hit_ratio_k': 0,\n   'ntrees': 10,\n   'max_depth': 10,\n   'min_rows': 10.0,\n   'nbins': 20,\n   'nbins_top_level': 1024,\n   'nbins_cats': 1024,\n   'r2_stopping': 1.7976931348623157e+308,\n   'stopping_rounds': 0,\n   'stopping_metric': 'AUTO',\n   'stopping_tolerance': 0.001,\n   'max_runtime_secs': 0.0,\n   'seed': 1234,\n   'build_tree_one_node': False,\n   'learn_rate': 0.3,\n   'learn_rate_annealing': 0.9,\n   'distribution': 'multinomial',\n   'quantile_alpha': 0.5,\n   'tweedie_power': 1.9,\n   'huber_alpha': 0.9,\n   'checkpoint': None,\n   'sample_rate': 0.3,\n   'sample_rate_per_class': None,\n   'col_sample_rate': 0.3,\n   'col_sample_rate_change_per_level': 0.1,\n   'col_sample_rate_per_tree': 0.1,\n   'min_split_improvement': 1e-05,\n   'histogram_type': 'AUTO',\n   'max_abs_leafnode_pred': 1.7976931348623157e+308,\n   'pred_noise_bandwidth': 0.0,\n   'categorical_encoding': 'AUTO',\n   'calibrate_model': False,\n   'calibration_frame': None,\n   'custom_metric_func': None,\n   'custom_distribution_func': None,\n   'export_checkpoints_dir': None,\n   'monotone_constraints': None,\n   'check_constant_response': True},\n  'auc': 0.8624969059405941},\n 'Grid_GBM_py_7_sid_9651_model_python_1604407520638_1_model_1': {'params': {'model_id': 'Grid_GBM_py_7_sid_9651_model_python_1604407520638_1_model_1',\n   'training_frame': 'py_7_sid_9651',\n   'validation_frame': 'py_8_sid_9651',\n   'nfolds': 5,\n   'keep_cross_validation_models': True,\n   'keep_cross_validation_predictions': True,\n   'keep_cross_validation_fold_assignment': False,\n   'score_each_iteration': False,\n   'score_tree_interval': 0,\n   'fold_assignment': 'Random',\n   'fold_column': None,\n   'response_column': 'Resistance_Status',\n   'ignored_columns': ['SampleID'],\n   'ignore_const_cols': True,\n   'offset_column': None,\n   'weights_column': None,\n   'balance_classes': True,\n   'class_sampling_factors': None,\n   'max_after_balance_size': 5.0,\n   'max_confusion_matrix_size': 20,\n   'max_hit_ratio_k': 0,\n   'ntrees': 10,\n   'max_depth': 10,\n   'min_rows': 10.0,\n   'nbins': 20,\n   'nbins_top_level': 1024,\n   'nbins_cats': 1024,\n   'r2_stopping': 1.7976931348623157e+308,\n   'stopping_rounds': 0,\n   'stopping_metric': 'AUTO',\n   'stopping_tolerance': 0.001,\n   'max_runtime_secs': 0.0,\n   'seed': 1234,\n   'build_tree_one_node': False,\n   'learn_rate': 0.9,\n   'learn_rate_annealing': 0.9,\n   'distribution': 'bernoulli',\n   'quantile_alpha': 0.3,\n   'tweedie_power': 1.9,\n   'huber_alpha': 0.9,\n   'checkpoint': None,\n   'sample_rate': 0.1,\n   'sample_rate_per_class': None,\n   'col_sample_rate': 0.3,\n   'col_sample_rate_change_per_level': 1.7,\n   'col_sample_rate_per_tree': 1.0,\n   'min_split_improvement': 1e-05,\n   'histogram_type': 'RoundRobin',\n   'max_abs_leafnode_pred': 1.7976931348623157e+308,\n   'pred_noise_bandwidth': 0.0,\n   'categorical_encoding': 'AUTO',\n   'calibrate_model': False,\n   'calibration_frame': None,\n   'custom_metric_func': None,\n   'custom_distribution_func': None,\n   'export_checkpoints_dir': None,\n   'monotone_constraints': None,\n   'check_constant_response': True},\n  'auc': 0.8909367264851485},\n 'Grid_GBM_py_7_sid_9651_model_python_1604407520638_1_model_9': {'params': {'model_id': 'Grid_GBM_py_7_sid_9651_model_python_1604407520638_1_model_9',\n   'training_frame': 'py_7_sid_9651',\n   'validation_frame': 'py_8_sid_9651',\n   'nfolds': 5,\n   'keep_cross_validation_models': True,\n   'keep_cross_validation_predictions': True,\n   'keep_cross_validation_fold_assignment': False,\n   'score_each_iteration': False,\n   'score_tree_interval': 0,\n   'fold_assignment': 'Random',\n   'fold_column': None,\n   'response_column': 'Resistance_Status',\n   'ignored_columns': ['SampleID'],\n   'ignore_const_cols': True,\n   'offset_column': None,\n   'weights_column': None,\n   'balance_classes': True,\n   'class_sampling_factors': None,\n   'max_after_balance_size': 5.0,\n   'max_confusion_matrix_size': 20,\n   'max_hit_ratio_k': 0,\n   'ntrees': 7,\n   'max_depth': 15,\n   'min_rows': 10.0,\n   'nbins': 20,\n   'nbins_top_level': 1024,\n   'nbins_cats': 1024,\n   'r2_stopping': 1.7976931348623157e+308,\n   'stopping_rounds': 0,\n   'stopping_metric': 'AUTO',\n   'stopping_tolerance': 0.001,\n   'max_runtime_secs': 0.0,\n   'seed': 1234,\n   'build_tree_one_node': False,\n   'learn_rate': 0.1,\n   'learn_rate_annealing': 0.1,\n   'distribution': 'multinomial',\n   'quantile_alpha': 0.1,\n   'tweedie_power': 1.9,\n   'huber_alpha': 0.9,\n   'checkpoint': None,\n   'sample_rate': 0.1,\n   'sample_rate_per_class': None,\n   'col_sample_rate': 0.3,\n   'col_sample_rate_change_per_level': 1.3,\n   'col_sample_rate_per_tree': 0.6,\n   'min_split_improvement': 1e-05,\n   'histogram_type': 'UniformAdaptive',\n   'max_abs_leafnode_pred': 1.7976931348623157e+308,\n   'pred_noise_bandwidth': 0.0,\n   'categorical_encoding': 'AUTO',\n   'calibrate_model': False,\n   'calibration_frame': None,\n   'custom_metric_func': None,\n   'custom_distribution_func': None,\n   'export_checkpoints_dir': None,\n   'monotone_constraints': None,\n   'check_constant_response': True},\n  'auc': 0.8110806002475247}}"
          },
          "metadata": {}
        }
      ],
      "execution_count": 29,
      "metadata": {
        "collapsed": true,
        "jupyter": {
          "source_hidden": false,
          "outputs_hidden": false
        },
        "nteract": {
          "transient": {
            "deleting": false
          }
        },
        "gather": {
          "logged": 1604428658431
        }
      }
    },
    {
      "cell_type": "code",
      "source": [
        "import json\r\n",
        "\r\n",
        "with open('../models/ALL_FEATURES/top_gbm_models.json', 'w') as json_file:\r\n",
        "  json.dump(top_gbm_model_id_params_dict, json_file)"
      ],
      "outputs": [],
      "execution_count": 30,
      "metadata": {
        "collapsed": true,
        "jupyter": {
          "source_hidden": false,
          "outputs_hidden": false
        },
        "nteract": {
          "transient": {
            "deleting": false
          }
        },
        "gather": {
          "logged": 1604428664944
        }
      }
    },
    {
      "cell_type": "markdown",
      "source": [
        "## Distributed Random Forest"
      ],
      "metadata": {
        "nteract": {
          "transient": {
            "deleting": false
          }
        }
      }
    },
    {
      "cell_type": "code",
      "source": [
        "from h2o.grid.grid_search import H2OGridSearch\r\n",
        "from h2o.estimators import H2ORandomForestEstimator\r\n",
        "\r\n",
        "\r\n",
        "\r\n",
        "hyper_params = {\r\n",
        "'mtries': [-1, 30, 60, 90, 150, 200, 350, 500],\r\n",
        "'balance_classes': [True, False],\r\n",
        "#'class_sampling_factors',\r\n",
        "#'max_after_balance_size',\r\n",
        "'ntrees': [10, 20, 50, 100, 150],\r\n",
        "'max_depth': [5, 10, 15, 20], # defaults to 20\r\n",
        "#'min_rows', # defaults to 1\r\n",
        "#'nbins', # default is 20\r\n",
        "#'nbins_top_level', # requires too much tuning\r\n",
        "#'nbins_cats', # requires too much tuning\r\n",
        "#'r2_stopping',\r\n",
        "#'seed',\r\n",
        "#'build_tree_one_node',\r\n",
        "'sample_rate': [ 0.1, 0.3, 0.6, 0.9],\r\n",
        "#'sample_rate_per_class':[ 0.1, 0.9],\r\n",
        "'col_sample_rate_per_tree': [ 0.1, 0.3, 0.6, 0.8, 1],\r\n",
        "'col_sample_rate_change_per_level': [ 0.1, 0.3, 0.6, 0.8, 1, 1.3, 1.5, 1.7, 1.9],\r\n",
        "#'score_tree_interval',\r\n",
        "#'min_split_improvement',\r\n",
        "'histogram_type': [\"AUTO\", \"UniformAdaptive\", \"Random\", \"QuantilesGlobal\", \"RoundRobin\"]\r\n",
        "}\r\n",
        "\r\n",
        "search_criteria = {\"strategy\": \"RandomDiscrete\", \r\n",
        "                   \"max_models\": MAX_GRID_MODELS}\r\n",
        "\r\n",
        "\r\n",
        "\r\n",
        "base_model = H2ORandomForestEstimator(\r\n",
        "\r\n",
        "                                 nfolds=nfolds, \r\n",
        "                                 fold_assignment = \"random\",\r\n",
        "                                 keep_cross_validation_predictions = True,\r\n",
        "                                 seed=1234)\r\n",
        "\r\n",
        "\r\n",
        "\r\n",
        "\r\n",
        "# Train the grid\r\n",
        "rf_grid = H2OGridSearch(model=base_model,\r\n",
        "                     hyper_params=hyper_params,\r\n",
        "                     search_criteria=search_criteria,\r\n",
        "                     parallelism= 2)\r\n",
        "\r\n",
        "\r\n",
        "rf_grid.train(x=x, y=y, training_frame=train, validation_frame=test) \r\n",
        "\r\n"
      ],
      "outputs": [
        {
          "output_type": "stream",
          "name": "stdout",
          "text": [
            "drf Grid Build progress: |████████████████████████████████████ (cancelled)\n"
          ]
        },
        {
          "output_type": "error",
          "ename": "H2OJobCancelled",
          "evalue": "Job<$03017f00000132d4ffffffff$_9135233f4b9c94ceb84193e075f84a14> was cancelled by the user.",
          "traceback": [
            "\u001b[0;31m---------------------------------------------------------------------------\u001b[0m",
            "\u001b[0;31mH2OJobCancelled\u001b[0m                           Traceback (most recent call last)",
            "\u001b[0;32m<ipython-input-59-59f43b6d5adb>\u001b[0m in \u001b[0;36m<module>\u001b[0;34m\u001b[0m\n\u001b[1;32m     33\u001b[0m \u001b[0;34m\u001b[0m\u001b[0m\n\u001b[1;32m     34\u001b[0m \u001b[0;34m\u001b[0m\u001b[0m\n\u001b[0;32m---> 35\u001b[0;31m \u001b[0mrf_grid\u001b[0m\u001b[0;34m.\u001b[0m\u001b[0mtrain\u001b[0m\u001b[0;34m(\u001b[0m\u001b[0mx\u001b[0m\u001b[0;34m=\u001b[0m\u001b[0mx\u001b[0m\u001b[0;34m,\u001b[0m \u001b[0my\u001b[0m\u001b[0;34m=\u001b[0m\u001b[0my\u001b[0m\u001b[0;34m,\u001b[0m \u001b[0mtraining_frame\u001b[0m\u001b[0;34m=\u001b[0m\u001b[0mtrain\u001b[0m\u001b[0;34m,\u001b[0m \u001b[0mvalidation_frame\u001b[0m\u001b[0;34m=\u001b[0m\u001b[0mtest\u001b[0m\u001b[0;34m)\u001b[0m\u001b[0;34m\u001b[0m\u001b[0;34m\u001b[0m\u001b[0m\n\u001b[0m\u001b[1;32m     36\u001b[0m \u001b[0;34m\u001b[0m\u001b[0m\n",
            "\u001b[0;32m/anaconda/envs/azureml_py36/lib/python3.6/site-packages/h2o/grid/grid_search.py\u001b[0m in \u001b[0;36mtrain\u001b[0;34m(self, x, y, training_frame, offset_column, fold_column, weights_column, validation_frame, **params)\u001b[0m\n\u001b[1;32m    340\u001b[0m         \u001b[0mx\u001b[0m \u001b[0;34m=\u001b[0m \u001b[0mlist\u001b[0m\u001b[0;34m(\u001b[0m\u001b[0mxset\u001b[0m\u001b[0;34m)\u001b[0m\u001b[0;34m\u001b[0m\u001b[0;34m\u001b[0m\u001b[0m\n\u001b[1;32m    341\u001b[0m         \u001b[0mparms\u001b[0m\u001b[0;34m[\u001b[0m\u001b[0;34m\"x\"\u001b[0m\u001b[0;34m]\u001b[0m \u001b[0;34m=\u001b[0m \u001b[0mx\u001b[0m\u001b[0;34m\u001b[0m\u001b[0;34m\u001b[0m\u001b[0m\n\u001b[0;32m--> 342\u001b[0;31m         \u001b[0mself\u001b[0m\u001b[0;34m.\u001b[0m\u001b[0mbuild_model\u001b[0m\u001b[0;34m(\u001b[0m\u001b[0mparms\u001b[0m\u001b[0;34m)\u001b[0m\u001b[0;34m\u001b[0m\u001b[0;34m\u001b[0m\u001b[0m\n\u001b[0m\u001b[1;32m    343\u001b[0m \u001b[0;34m\u001b[0m\u001b[0m\n\u001b[1;32m    344\u001b[0m \u001b[0;34m\u001b[0m\u001b[0m\n",
            "\u001b[0;32m/anaconda/envs/azureml_py36/lib/python3.6/site-packages/h2o/grid/grid_search.py\u001b[0m in \u001b[0;36mbuild_model\u001b[0;34m(self, algo_params)\u001b[0m\n\u001b[1;32m    358\u001b[0m             \u001b[0my\u001b[0m \u001b[0;34m=\u001b[0m \u001b[0my\u001b[0m \u001b[0;32mif\u001b[0m \u001b[0my\u001b[0m \u001b[0;32min\u001b[0m \u001b[0mtraining_frame\u001b[0m\u001b[0;34m.\u001b[0m\u001b[0mnames\u001b[0m \u001b[0;32melse\u001b[0m \u001b[0mtraining_frame\u001b[0m\u001b[0;34m.\u001b[0m\u001b[0mnames\u001b[0m\u001b[0;34m[\u001b[0m\u001b[0my\u001b[0m\u001b[0;34m]\u001b[0m\u001b[0;34m\u001b[0m\u001b[0;34m\u001b[0m\u001b[0m\n\u001b[1;32m    359\u001b[0m             \u001b[0mself\u001b[0m\u001b[0;34m.\u001b[0m\u001b[0mmodel\u001b[0m\u001b[0;34m.\u001b[0m\u001b[0m_estimator_type\u001b[0m \u001b[0;34m=\u001b[0m \u001b[0;34m\"classifier\"\u001b[0m \u001b[0;32mif\u001b[0m \u001b[0mtraining_frame\u001b[0m\u001b[0;34m.\u001b[0m\u001b[0mtypes\u001b[0m\u001b[0;34m[\u001b[0m\u001b[0my\u001b[0m\u001b[0;34m]\u001b[0m \u001b[0;34m==\u001b[0m \u001b[0;34m\"enum\"\u001b[0m \u001b[0;32melse\u001b[0m \u001b[0;34m\"regressor\"\u001b[0m\u001b[0;34m\u001b[0m\u001b[0;34m\u001b[0m\u001b[0m\n\u001b[0;32m--> 360\u001b[0;31m         \u001b[0mself\u001b[0m\u001b[0;34m.\u001b[0m\u001b[0m_model_build\u001b[0m\u001b[0;34m(\u001b[0m\u001b[0mx\u001b[0m\u001b[0;34m,\u001b[0m \u001b[0my\u001b[0m\u001b[0;34m,\u001b[0m \u001b[0mtraining_frame\u001b[0m\u001b[0;34m,\u001b[0m \u001b[0mvalidation_frame\u001b[0m\u001b[0;34m,\u001b[0m \u001b[0malgo_params\u001b[0m\u001b[0;34m)\u001b[0m\u001b[0;34m\u001b[0m\u001b[0;34m\u001b[0m\u001b[0m\n\u001b[0m\u001b[1;32m    361\u001b[0m \u001b[0;34m\u001b[0m\u001b[0m\n\u001b[1;32m    362\u001b[0m \u001b[0;34m\u001b[0m\u001b[0m\n",
            "\u001b[0;32m/anaconda/envs/azureml_py36/lib/python3.6/site-packages/h2o/grid/grid_search.py\u001b[0m in \u001b[0;36m_model_build\u001b[0;34m(self, x, y, tframe, vframe, kwargs)\u001b[0m\n\u001b[1;32m    386\u001b[0m             \u001b[0;32mreturn\u001b[0m\u001b[0;34m\u001b[0m\u001b[0;34m\u001b[0m\u001b[0m\n\u001b[1;32m    387\u001b[0m \u001b[0;34m\u001b[0m\u001b[0m\n\u001b[0;32m--> 388\u001b[0;31m         \u001b[0mgrid\u001b[0m\u001b[0;34m.\u001b[0m\u001b[0mpoll\u001b[0m\u001b[0;34m(\u001b[0m\u001b[0;34m)\u001b[0m\u001b[0;34m\u001b[0m\u001b[0;34m\u001b[0m\u001b[0m\n\u001b[0m\u001b[1;32m    389\u001b[0m \u001b[0;34m\u001b[0m\u001b[0m\n\u001b[1;32m    390\u001b[0m         \u001b[0mgrid_json\u001b[0m \u001b[0;34m=\u001b[0m \u001b[0mh2o\u001b[0m\u001b[0;34m.\u001b[0m\u001b[0mapi\u001b[0m\u001b[0;34m(\u001b[0m\u001b[0;34m\"GET /99/Grids/%s\"\u001b[0m \u001b[0;34m%\u001b[0m \u001b[0;34m(\u001b[0m\u001b[0mgrid\u001b[0m\u001b[0;34m.\u001b[0m\u001b[0mdest_key\u001b[0m\u001b[0;34m)\u001b[0m\u001b[0;34m)\u001b[0m\u001b[0;34m\u001b[0m\u001b[0;34m\u001b[0m\u001b[0m\n",
            "\u001b[0;32m/anaconda/envs/azureml_py36/lib/python3.6/site-packages/h2o/job.py\u001b[0m in \u001b[0;36mpoll\u001b[0;34m(self, poll_updates)\u001b[0m\n\u001b[1;32m     72\u001b[0m         \u001b[0;31m# check if failed... and politely print relevant message\u001b[0m\u001b[0;34m\u001b[0m\u001b[0;34m\u001b[0m\u001b[0;34m\u001b[0m\u001b[0m\n\u001b[1;32m     73\u001b[0m         \u001b[0;32mif\u001b[0m \u001b[0mself\u001b[0m\u001b[0;34m.\u001b[0m\u001b[0mstatus\u001b[0m \u001b[0;34m==\u001b[0m \u001b[0;34m\"CANCELLED\"\u001b[0m\u001b[0;34m:\u001b[0m\u001b[0;34m\u001b[0m\u001b[0;34m\u001b[0m\u001b[0m\n\u001b[0;32m---> 74\u001b[0;31m             \u001b[0;32mraise\u001b[0m \u001b[0mH2OJobCancelled\u001b[0m\u001b[0;34m(\u001b[0m\u001b[0;34m\"Job<%s> was cancelled by the user.\"\u001b[0m \u001b[0;34m%\u001b[0m \u001b[0mself\u001b[0m\u001b[0;34m.\u001b[0m\u001b[0mjob_key\u001b[0m\u001b[0;34m)\u001b[0m\u001b[0;34m\u001b[0m\u001b[0;34m\u001b[0m\u001b[0m\n\u001b[0m\u001b[1;32m     75\u001b[0m         \u001b[0;32mif\u001b[0m \u001b[0mself\u001b[0m\u001b[0;34m.\u001b[0m\u001b[0mstatus\u001b[0m \u001b[0;34m==\u001b[0m \u001b[0;34m\"FAILED\"\u001b[0m\u001b[0;34m:\u001b[0m\u001b[0;34m\u001b[0m\u001b[0;34m\u001b[0m\u001b[0m\n\u001b[1;32m     76\u001b[0m             \u001b[0;32mif\u001b[0m \u001b[0;34m(\u001b[0m\u001b[0misinstance\u001b[0m\u001b[0;34m(\u001b[0m\u001b[0mself\u001b[0m\u001b[0;34m.\u001b[0m\u001b[0mjob\u001b[0m\u001b[0;34m,\u001b[0m \u001b[0mdict\u001b[0m\u001b[0;34m)\u001b[0m\u001b[0;34m)\u001b[0m \u001b[0;32mand\u001b[0m \u001b[0;34m(\u001b[0m\u001b[0;34m\"stacktrace\"\u001b[0m \u001b[0;32min\u001b[0m \u001b[0mlist\u001b[0m\u001b[0;34m(\u001b[0m\u001b[0mself\u001b[0m\u001b[0;34m.\u001b[0m\u001b[0mjob\u001b[0m\u001b[0;34m)\u001b[0m\u001b[0;34m)\u001b[0m\u001b[0;34m:\u001b[0m\u001b[0;34m\u001b[0m\u001b[0;34m\u001b[0m\u001b[0m\n",
            "\u001b[0;31mH2OJobCancelled\u001b[0m: Job<$03017f00000132d4ffffffff$_9135233f4b9c94ceb84193e075f84a14> was cancelled by the user."
          ]
        }
      ],
      "execution_count": 59,
      "metadata": {
        "collapsed": true,
        "jupyter": {
          "source_hidden": false,
          "outputs_hidden": false
        },
        "nteract": {
          "transient": {
            "deleting": false
          }
        }
      }
    },
    {
      "cell_type": "code",
      "source": [
        "sorted_grid = rf_grid.get_grid(sort_by='auc', decreasing=True)\r\n",
        "sorted_grid"
      ],
      "outputs": [],
      "execution_count": null,
      "metadata": {
        "collapsed": true,
        "jupyter": {
          "source_hidden": false,
          "outputs_hidden": false
        },
        "nteract": {
          "transient": {
            "deleting": false
          }
        }
      }
    },
    {
      "cell_type": "code",
      "source": [
        "h2o.save_grid(\"../models/rf_grid\", rf_grid.grid_id)"
      ],
      "outputs": [],
      "execution_count": null,
      "metadata": {
        "collapsed": true,
        "jupyter": {
          "source_hidden": false,
          "outputs_hidden": false
        },
        "nteract": {
          "transient": {
            "deleting": false
          }
        }
      }
    },
    {
      "cell_type": "markdown",
      "source": [
        "## Deep Learning"
      ],
      "metadata": {
        "nteract": {
          "transient": {
            "deleting": false
          }
        }
      }
    },
    {
      "cell_type": "code",
      "source": [
        "from h2o.grid.grid_search import H2OGridSearch\r\n",
        "from h2o.estimators import H2ODeepLearningEstimator\r\n",
        "\r\n",
        "\r\n",
        "\r\n",
        "hyper_params = {\r\n",
        "               \r\n",
        "                }\r\n",
        "\r\n",
        "search_criteria = {\"strategy\": \"RandomDiscrete\", \r\n",
        "                   \"max_models\": MAX_GRID_MODELS}\r\n",
        "\r\n",
        "\r\n",
        "\r\n",
        "base_model = H2ODeepLearningEstimator(distribution=\"binomial\",\r\n",
        "\r\n",
        "\r\n",
        "\r\n",
        "                                        keep_cross_validation_predictions = True,\r\n",
        "                                        nfolds= nfolds,\r\n",
        "                                        fold_assignment = \"random\",\r\n",
        "                                        seed=1234)\r\n",
        "\r\n",
        "\r\n",
        "\r\n",
        "\r\n",
        "\r\n",
        "\r\n",
        "# Train the grid\r\n",
        "rf_grid = H2OGridSearch(model=base_model,\r\n",
        "                     hyper_params=hyper_params,\r\n",
        "                     search_criteria=search_criteria)\r\n",
        "\r\n",
        "\r\n",
        "rf_grid.train(x=x, y=y, training_frame=train, validation_frame=test) \r\n",
        "\r\n"
      ],
      "outputs": [],
      "execution_count": null,
      "metadata": {
        "collapsed": true,
        "jupyter": {
          "source_hidden": false,
          "outputs_hidden": false
        },
        "nteract": {
          "transient": {
            "deleting": false
          }
        }
      }
    },
    {
      "cell_type": "markdown",
      "source": [
        "## XGBoost"
      ],
      "metadata": {
        "nteract": {
          "transient": {
            "deleting": false
          }
        }
      }
    },
    {
      "cell_type": "code",
      "source": [
        "from h2o.grid.grid_search import H2OGridSearch\r\n",
        "from h2o.estimators import H2OXGBoostEstimator\r\n",
        "\r\n",
        "\r\n",
        "\r\n",
        "hyper_params = {\r\n",
        " 'distribution': ['bernoulli', 'multinomial'],\r\n",
        " 'categorical_encoding': ['auto',  'binary',  'label_encoder'],\r\n",
        " 'ntrees': [10, 50, 70, 100],\r\n",
        " 'booster': ['gbtree', 'gblinear', 'dart'], \r\n",
        " 'col_sample_rate': [0.1, 0.3, 0.6, 0.8, 1], \r\n",
        " 'colsample_bylevel': [0.1, 0.3, 0.6, 0.8, 1], \r\n",
        " 'colsample_bytree': [0.1, 0.3, 0.6, 0.8, 1], \r\n",
        " 'learn_rate': [0.1, 0.3, 0.6, 0.8, 1], \r\n",
        " 'grow_policy': ['depthwise', 'lossguide'], \r\n",
        " 'max_depth': [0, 3, 6], \r\n",
        " 'normalize_type': ['tree', 'forest'], \r\n",
        " 'sample_type': ['uniform', 'weighted'], \r\n",
        " 'sample_rate': [0.1, 0.3, 0.6, 0.8, 1], \r\n",
        " 'tree_method': ['auto', 'exact', 'approx', 'hist'], \r\n",
        " 'tweedie_power': [1.2, 1.5, 1.8], \r\n",
        "# 'max_abs_leafnode_pred'\r\n",
        "# 'min_split_improvement',  \r\n",
        "# 'max_bins', \r\n",
        "# 'max_delta_step', \r\n",
        "# 'max_leaves', \r\n",
        "# 'min_rows':  \r\n",
        "# 'one_drop', \r\n",
        "# 'rate_drop', \r\n",
        "# 'reg_alpha', \r\n",
        "# 'reg_lambda', \r\n",
        "# 'skip_drop', \r\n",
        "# 'num_leaves'\r\n",
        "\r\n",
        "}\r\n",
        "\r\n",
        "\r\n",
        "\r\n",
        "search_criteria = {\"strategy\": \"RandomDiscrete\", \r\n",
        "                   \"max_models\": MAX_GRID_MODELS}\r\n",
        "\r\n",
        "\r\n",
        "\r\n",
        "base_model = H2OXGBoostEstimator(\r\n",
        "\r\n",
        "                              keep_cross_validation_predictions = True,\r\n",
        "                              nfolds= nfolds,\r\n",
        "                              fold_assignment = \"random\",\r\n",
        "                              seed=1234)\r\n",
        "\r\n",
        "\r\n",
        "\r\n",
        "\r\n",
        "\r\n",
        "\r\n",
        "\r\n",
        "# Train the grid\r\n",
        "xgb_grid = H2OGridSearch(model=base_model,\r\n",
        "                     hyper_params=hyper_params,\r\n",
        "                     search_criteria=search_criteria)\r\n",
        "\r\n",
        "\r\n",
        "xgb_grid.train(x=x, y=y, training_frame=train, validation_frame=test) \r\n",
        "\r\n"
      ],
      "outputs": [
        {
          "output_type": "stream",
          "name": "stdout",
          "text": [
            "xgboost Grid Build progress: |████████████████████████████████████████████| 100%\n"
          ]
        }
      ],
      "execution_count": 8,
      "metadata": {
        "collapsed": true,
        "jupyter": {
          "source_hidden": false,
          "outputs_hidden": false
        },
        "nteract": {
          "transient": {
            "deleting": false
          }
        },
        "gather": {
          "logged": 1604398146985
        }
      }
    },
    {
      "cell_type": "code",
      "source": [
        "sorted_grid = xgb_grid.get_grid(sort_by='auc', decreasing=True)\r\n",
        "sorted_grid"
      ],
      "outputs": [
        {
          "output_type": "stream",
          "name": "stdout",
          "text": [
            "      booster  \\\n",
            "0        dart   \n",
            "1      gbtree   \n",
            "2    gblinear   \n",
            "\n",
            "                                                         model_ids  \\\n",
            "0  Grid_XGBoost_py_3_sid_93f0_model_python_1604386848320_1_model_1   \n",
            "1  Grid_XGBoost_py_3_sid_93f0_model_python_1604386848320_1_model_2   \n",
            "2  Grid_XGBoost_py_3_sid_93f0_model_python_1604386848320_1_model_3   \n",
            "\n",
            "                  auc  \n",
            "0  0.9179240543735225  \n",
            "1  0.9179240543735225  \n",
            "2  0.8098950945626477  \n"
          ]
        },
        {
          "output_type": "execute_result",
          "execution_count": 9,
          "data": {
            "text/plain": ""
          },
          "metadata": {}
        }
      ],
      "execution_count": 9,
      "metadata": {
        "collapsed": true,
        "jupyter": {
          "source_hidden": false,
          "outputs_hidden": false
        },
        "nteract": {
          "transient": {
            "deleting": false
          }
        },
        "gather": {
          "logged": 1604398217276
        }
      }
    },
    {
      "cell_type": "code",
      "source": [
        "sorted_grid[0].actual_params"
      ],
      "outputs": [
        {
          "output_type": "execute_result",
          "execution_count": 11,
          "data": {
            "text/plain": "{'model_id': 'Grid_XGBoost_py_3_sid_93f0_model_python_1604386848320_1_model_1',\n 'training_frame': 'py_3_sid_93f0',\n 'validation_frame': 'py_4_sid_93f0',\n 'nfolds': 5,\n 'keep_cross_validation_models': True,\n 'keep_cross_validation_predictions': True,\n 'keep_cross_validation_fold_assignment': False,\n 'score_each_iteration': False,\n 'fold_assignment': 'Random',\n 'fold_column': None,\n 'response_column': 'Resistance_Status',\n 'ignored_columns': ['SampleID'],\n 'ignore_const_cols': True,\n 'offset_column': None,\n 'weights_column': None,\n 'stopping_rounds': 0,\n 'stopping_metric': 'AUTO',\n 'stopping_tolerance': 0.001,\n 'max_runtime_secs': 0.0,\n 'seed': 1234,\n 'distribution': 'AUTO',\n 'tweedie_power': 1.5,\n 'categorical_encoding': 'AUTO',\n 'quiet_mode': True,\n 'checkpoint': None,\n 'export_checkpoints_dir': None,\n 'ntrees': 50,\n 'max_depth': 6,\n 'min_rows': 1.0,\n 'min_child_weight': 1.0,\n 'learn_rate': 0.3,\n 'eta': 0.3,\n 'sample_rate': 1.0,\n 'subsample': 1.0,\n 'col_sample_rate': 1.0,\n 'colsample_bylevel': 1.0,\n 'col_sample_rate_per_tree': 1.0,\n 'colsample_bytree': 1.0,\n 'max_abs_leafnode_pred': 0.0,\n 'max_delta_step': 0.0,\n 'monotone_constraints': None,\n 'score_tree_interval': 0,\n 'min_split_improvement': 0.0,\n 'gamma': 0.0,\n 'nthread': -1,\n 'save_matrix_directory': None,\n 'build_tree_one_node': False,\n 'calibrate_model': False,\n 'calibration_frame': None,\n 'max_bins': 256,\n 'max_leaves': 0,\n 'min_sum_hessian_in_leaf': 100.0,\n 'min_data_in_leaf': 0.0,\n 'sample_type': 'uniform',\n 'normalize_type': 'tree',\n 'rate_drop': 0.0,\n 'one_drop': False,\n 'skip_drop': 0.0,\n 'tree_method': 'auto',\n 'grow_policy': 'depthwise',\n 'booster': 'dart',\n 'reg_lambda': 1.0,\n 'reg_alpha': 0.0,\n 'dmatrix_type': 'auto',\n 'backend': 'auto',\n 'gpu_id': 0}"
          },
          "metadata": {}
        }
      ],
      "execution_count": 11,
      "metadata": {
        "collapsed": true,
        "jupyter": {
          "source_hidden": false,
          "outputs_hidden": false
        },
        "nteract": {
          "transient": {
            "deleting": false
          }
        },
        "gather": {
          "logged": 1604398275047
        }
      }
    },
    {
      "cell_type": "markdown",
      "source": [
        "# Stacked ensemble from grid models"
      ],
      "metadata": {
        "nteract": {
          "transient": {
            "deleting": false
          }
        }
      }
    },
    {
      "cell_type": "code",
      "source": [
        "nb_grid = h2o.load_grid(\"../models/ALL_FEATURES/FINAL/./nb_grid/Grid_NaiveBayes_py_3_sid_9644_model_python_1604419067081_1\")\r\n",
        "\r\n",
        "\r\n",
        "\r\n",
        "glm_grid = h2o.load_grid(\"../models/ALL_FEATURES/FINAL/./glm_grid/Grid_GLM_py_3_sid_b7a1_model_python_1604419221083_1\")\r\n",
        "\r\n",
        "\r\n",
        "\r\n",
        "gbm_grid = h2o.load_grid(\"../models/ALL_FEATURES/FINAL/./gbm_grid/Grid_GBM_py_7_sid_9651_model_python_1604407520638_1\")\r\n",
        "\r\n",
        "\r\n",
        "\r\n",
        "xgb_grid = h2o.load_grid(\"../models/ALL_FEATURES/FINAL/./xgb_grid/Grid_XGBoost_py_7_sid_a3b5_model_python_1604427337744_1\")\r\n",
        "\r\n",
        "\r\n",
        "\r\n",
        "dl_grid = h2o.load_grid(\"../models/ALL_FEATURES/FINAL/./dl_grid/Grid_DeepLearning_py_3_sid_b7a1_model_python_1604419221083_608\")\r\n",
        "\r\n"
      ],
      "outputs": [],
      "execution_count": null,
      "metadata": {
        "collapsed": true,
        "jupyter": {
          "source_hidden": false,
          "outputs_hidden": false
        },
        "nteract": {
          "transient": {
            "deleting": false
          }
        }
      }
    },
    {
      "cell_type": "code",
      "source": [
        "def best_model_from_grid (model_grid):\r\n",
        "    best_model = model_grid[0]\r\n",
        "    for mdl in model_grid:\r\n",
        "        if (mdl.model_performance(test).auc() > best_model.model_performance(test).auc()):\r\n",
        "            best_model = mdl\r\n",
        "    print(best_model.model_performance(test).auc())\r\n",
        "    return best_model"
      ],
      "outputs": [],
      "execution_count": null,
      "metadata": {
        "collapsed": true,
        "jupyter": {
          "source_hidden": false,
          "outputs_hidden": false
        },
        "nteract": {
          "transient": {
            "deleting": false
          }
        }
      }
    },
    {
      "cell_type": "code",
      "source": [
        "best_nb_model = best_model_from_grid(nb_grid)\r\n",
        "best_glm_model = best_model_from_grid(glm_grid)\r\n",
        "best_gbm_model = best_model_from_grid(gbm_grid)\r\n",
        "best_xgb_model= best_model_from_grid(xgb_grid)\r\n",
        "best_dl_model= best_model_from_grid(dl_grid)"
      ],
      "outputs": [],
      "execution_count": 44,
      "metadata": {
        "collapsed": true,
        "jupyter": {
          "source_hidden": false,
          "outputs_hidden": false
        },
        "nteract": {
          "transient": {
            "deleting": false
          }
        },
        "gather": {
          "logged": 1604234285204
        }
      }
    },
    {
      "cell_type": "code",
      "source": [
        "def extract_params_from_model(actual_params_dict, extra_params = []):\r\n",
        "    final_params = actual_params_dict\r\n",
        "\r\n",
        "    columns_to_be_removed =   [\r\n",
        "                                'model_id',\r\n",
        "                                'validation_frame',\r\n",
        "                                'response_column',\r\n",
        "                                'ignored_columns',\r\n",
        "                                'training_frame',\r\n",
        "                                *extra_params\r\n",
        "]\r\n",
        "\r\n",
        "    for col_name in columns_to_be_removed:\r\n",
        "        del  final_params[col_name]\r\n",
        "\r\n",
        "    return final_params"
      ],
      "outputs": [],
      "execution_count": null,
      "metadata": {
        "collapsed": true,
        "jupyter": {
          "source_hidden": false,
          "outputs_hidden": false
        },
        "nteract": {
          "transient": {
            "deleting": false
          }
        }
      }
    },
    {
      "cell_type": "code",
      "source": [
        "from h2o.estimators import H2ONaiveBayesEstimator\r\n",
        "\r\n",
        "top_nb = H2ONaiveBayesEstimator(**extract_params_from_model(best_nb_model.actual_params))\r\n",
        "\r\n",
        "top_nb.train(x=x, y=y, training_frame=train, validation_frame=test)\r\n",
        "\r\n",
        "print('AUC on test data: ', top_nb.model_performance(test).auc(), \"\\n\\n============================\")\r\n",
        "\r\n",
        "top_nb.model_performance"
      ],
      "outputs": [],
      "execution_count": null,
      "metadata": {
        "collapsed": true,
        "jupyter": {
          "source_hidden": false,
          "outputs_hidden": false
        },
        "nteract": {
          "transient": {
            "deleting": false
          }
        }
      }
    },
    {
      "cell_type": "code",
      "source": [
        "from h2o.estimators import H2OGeneralizedLinearEstimator\r\n",
        "\r\n",
        "top_glm = H2OGeneralizedLinearEstimator(**extract_params_from_model(best_glm_model.actual_params, ['lambda']))\r\n",
        "\r\n",
        "top_glm.train(x=x, y=y, training_frame=train, validation_frame=test)\r\n",
        "\r\n",
        "print('AUC on test data: ', top_glm.model_performance(test).auc(), \"\\n\\n============================\")\r\n",
        "\r\n",
        "top_glm.model_performance"
      ],
      "outputs": [],
      "execution_count": null,
      "metadata": {
        "collapsed": true,
        "jupyter": {
          "source_hidden": false,
          "outputs_hidden": false
        },
        "nteract": {
          "transient": {
            "deleting": false
          }
        }
      }
    },
    {
      "cell_type": "code",
      "source": [
        "from h2o.estimators import H2OGradientBoostingEstimator\r\n",
        "\r\n",
        "top_gbm = H2OGradientBoostingEstimator(**extract_params_from_model(best_gbm_model.actual_params))\r\n",
        "\r\n",
        "top_gbm.train(x=x, y=y, training_frame=train, validation_frame=test)\r\n",
        "\r\n",
        "print('AUC on test data: ', top_gbm.model_performance(test).auc(), \"\\n\\n============================\")\r\n",
        "\r\n",
        "top_gbm.model_performance"
      ],
      "outputs": [],
      "execution_count": null,
      "metadata": {
        "collapsed": true,
        "jupyter": {
          "source_hidden": false,
          "outputs_hidden": false
        },
        "nteract": {
          "transient": {
            "deleting": false
          }
        }
      }
    },
    {
      "cell_type": "code",
      "source": [
        "from h2o.estimators import H2OXGBoostEstimator\r\n",
        "\r\n",
        "top_xgb = H2OXGBoostEstimator(**extract_params_from_model(best_xgb_model.actual_params))\r\n",
        "\r\n",
        "top_xgb.train(x=x, y=y, training_frame=train, validation_frame=test)\r\n",
        "\r\n",
        "print('AUC on test data: ', top_xgb.model_performance(test).auc(), \"\\n\\n============================\")\r\n",
        "\r\n",
        "top_xgb.model_performance"
      ],
      "outputs": [],
      "execution_count": null,
      "metadata": {
        "collapsed": true,
        "jupyter": {
          "source_hidden": false,
          "outputs_hidden": false
        },
        "nteract": {
          "transient": {
            "deleting": false
          }
        }
      }
    },
    {
      "cell_type": "code",
      "source": [
        "from h2o.estimators import H2ODeepLearningEstimator\r\n",
        "\r\n",
        "top_dl = H2ODeepLearningEstimator(**extract_params_from_model(best_dl_model.actual_params))\r\n",
        "\r\n",
        "top_dl.train(x=x, y=y, training_frame=train, validation_frame=test)\r\n",
        "\r\n",
        "print('AUC on test data: ', top_dl.model_performance(test).auc(), \"\\n\\n============================\")\r\n",
        "\r\n",
        "top_dl.model_performance"
      ],
      "outputs": [],
      "execution_count": null,
      "metadata": {
        "collapsed": true,
        "jupyter": {
          "source_hidden": false,
          "outputs_hidden": false
        },
        "nteract": {
          "transient": {
            "deleting": false
          }
        }
      }
    },
    {
      "cell_type": "code",
      "source": [
        "from h2o.estimators.stackedensemble import H2OStackedEnsembleEstimator\r\n",
        "\r\n",
        "\r\n",
        "ensemble = H2OStackedEnsembleEstimator(\r\n",
        "                                       base_models= [\r\n",
        "                                                    top_nb, \r\n",
        "                                                    top_glm,\r\n",
        "\r\n",
        "                                                    # models with checkpoint available \r\n",
        "                                                    top_gbm, \r\n",
        "                                                    top_xgb,\r\n",
        "                                                    top_dl\r\n",
        "                                                    ]\r\n",
        "                                       )\r\n",
        "\r\n",
        "ensemble.train(x=x, y=y, training_frame=train, validation_frame=test)\r\n",
        "    \r\n",
        "print('AUC on test data: ', ensemble.model_performance(test).auc(), \"\\n\\n============================\")\r\n",
        "ensemble.model_performance\r\n"
      ],
      "outputs": [],
      "execution_count": null,
      "metadata": {
        "collapsed": true,
        "jupyter": {
          "source_hidden": false,
          "outputs_hidden": false
        },
        "nteract": {
          "transient": {
            "deleting": false
          }
        }
      }
    },
    {
      "cell_type": "code",
      "source": [
        "from h2o.estimators.stackedensemble import H2OStackedEnsembleEstimator\r\n",
        "\r\n",
        "collection_of_models = [top_nb, \r\n",
        "                        top_glm, \r\n",
        "\r\n",
        "                        # checkpoint-enabled models\r\n",
        "                        top_gbm, \r\n",
        "                        top_xgb,\r\n",
        "                        top_dl]\r\n",
        "\r\n",
        "\r\n",
        "meta_algos = [\"auto\", \"xgboost\", \"drf\", \"gbm\", \"glm\", \"naivebayes\", \"deeplearning\"]\r\n",
        "\r\n",
        "ensemble_list = []\r\n",
        "\r\n",
        "for metalearner in meta_algos:\r\n",
        "    print(\"\\n\\n>>>>> \", metalearner, \" <<<<<<\")\r\n",
        "\r\n",
        "    ensemble = H2OStackedEnsembleEstimator(\r\n",
        "                                       base_models= collection_of_models,\r\n",
        "\r\n",
        "                                       model_id= \"stacked_ensemble_metalearner_\" + metalearner,\r\n",
        "\r\n",
        "                                       metalearner_algorithm= metalearner,\r\n",
        "                                       \r\n",
        "                                       #metalearner_params\r\n",
        "                                       )\r\n",
        "    ensemble.train(x=x, y=y, training_frame=train, validation_frame=test)\r\n",
        "    print(\"AUC on test data: \",  ensemble.model_performance(test).auc())\r\n",
        "\r\n",
        "    ensemble_list.append(ensemble)\r\n",
        "\r\n",
        "\r\n",
        "\r\n"
      ],
      "outputs": [],
      "execution_count": null,
      "metadata": {
        "collapsed": true,
        "jupyter": {
          "source_hidden": false,
          "outputs_hidden": false
        },
        "nteract": {
          "transient": {
            "deleting": false
          }
        }
      }
    }
  ],
  "metadata": {
    "kernelspec": {
      "name": "python3-azureml",
      "language": "python",
      "display_name": "Python 3.6 - AzureML"
    },
    "language_info": {
      "name": "python",
      "version": "3.6.9",
      "mimetype": "text/x-python",
      "codemirror_mode": {
        "name": "ipython",
        "version": 3
      },
      "pygments_lexer": "ipython3",
      "nbconvert_exporter": "python",
      "file_extension": ".py"
    },
    "kernel_info": {
      "name": "python3-azureml"
    },
    "nteract": {
      "version": "nteract-front-end@1.0.0"
    }
  },
  "nbformat": 4,
  "nbformat_minor": 2
}